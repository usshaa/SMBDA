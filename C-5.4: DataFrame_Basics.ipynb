{
  "cells": [
    {
      "cell_type": "markdown",
      "metadata": {
        "id": "view-in-github",
        "colab_type": "text"
      },
      "source": [
        "<a href=\"https://colab.research.google.com/github/usshaa/SMBDA/blob/main/C-5.4%3A%20DataFrame_Basics.ipynb\" target=\"_parent\"><img src=\"https://colab.research.google.com/assets/colab-badge.svg\" alt=\"Open In Colab\"/></a>"
      ]
    },
    {
      "cell_type": "markdown",
      "metadata": {
        "application/vnd.databricks.v1+cell": {
          "cellMetadata": {},
          "inputWidgets": {},
          "nuid": "b2bb2b5c-f6d5-45e0-b42a-b22f1f967ed2",
          "showTitle": false,
          "tableResultSettingsMap": {},
          "title": ""
        },
        "id": "5kOqQKMRD3Cp"
      },
      "source": [
        "# Spark DataFrame Basics\n",
        "\n",
        "Spark DataFrames are the workhouse and main way of working with Spark and Python post Spark 2.0. DataFrames act as powerful versions of tables, with rows and columns, easily handling large datasets. The shift to DataFrames provides many advantages:\n",
        "* A much simpler syntax\n",
        "* Ability to use SQL directly in the dataframe\n",
        "* Operations are automatically distributed across RDDs\n",
        "    \n",
        "If you've used R or even the pandas library with Python you are probably already familiar with the concept of DataFrames. Spark DataFrame expand on a lot of these concepts, allowing you to transfer that knowledge easily by understanding the simple syntax of Spark DataFrames. Remember that the main advantage to using Spark DataFrames vs those other programs is that Spark can handle data across many RDDs, huge data sets that would never fit on a single computer. That comes at a slight cost of some \"peculiar\" syntax choices, but after this course you will feel very comfortable with all those topics!\n",
        "\n",
        "Let's get started!\n",
        "\n",
        "## Creating a DataFrame\n",
        "\n",
        "First we need to start a SparkSession:"
      ]
    },
    {
      "cell_type": "code",
      "execution_count": null,
      "metadata": {
        "application/vnd.databricks.v1+cell": {
          "cellMetadata": {
            "byteLimit": 2048000,
            "rowLimit": 10000
          },
          "inputWidgets": {},
          "nuid": "36aab5ae-66bb-44c4-b4a5-8a5698483b6d",
          "showTitle": false,
          "tableResultSettingsMap": {},
          "title": ""
        },
        "id": "QeJ69kJTD3Cr"
      },
      "outputs": [],
      "source": [
        "# Set the PySpark environment variables\n",
        "import os\n",
        "os.environ['SPARK_HOME'] = 'spark-3.4.3-bin-hadoop3'"
      ]
    },
    {
      "cell_type": "code",
      "execution_count": null,
      "metadata": {
        "application/vnd.databricks.v1+cell": {
          "cellMetadata": {
            "byteLimit": 2048000,
            "rowLimit": 10000
          },
          "inputWidgets": {},
          "nuid": "4f5bb194-9e20-4091-998e-47b2f9b2acd2",
          "showTitle": false,
          "tableResultSettingsMap": {},
          "title": ""
        },
        "id": "DICdB4rKD3Cs"
      },
      "outputs": [],
      "source": [
        "from pyspark.sql import SparkSession"
      ]
    },
    {
      "cell_type": "markdown",
      "metadata": {
        "application/vnd.databricks.v1+cell": {
          "cellMetadata": {},
          "inputWidgets": {},
          "nuid": "ca97905f-841b-4e2b-92b4-e18df9a6621e",
          "showTitle": false,
          "tableResultSettingsMap": {},
          "title": ""
        },
        "id": "Ho_JA-s-D3Cs"
      },
      "source": [
        "Then start the SparkSession"
      ]
    },
    {
      "cell_type": "code",
      "execution_count": null,
      "metadata": {
        "application/vnd.databricks.v1+cell": {
          "cellMetadata": {
            "byteLimit": 2048000,
            "rowLimit": 10000
          },
          "inputWidgets": {},
          "nuid": "4c745472-d0d3-4bcf-8035-c26b350d0c51",
          "showTitle": false,
          "tableResultSettingsMap": {},
          "title": ""
        },
        "id": "65zBMFjyD3Cs"
      },
      "outputs": [],
      "source": [
        "# May take a little while on a local computer\n",
        "spark = SparkSession.builder.appName(\"Basics\").getOrCreate()"
      ]
    },
    {
      "cell_type": "code",
      "execution_count": null,
      "metadata": {
        "application/vnd.databricks.v1+cell": {
          "cellMetadata": {
            "byteLimit": 2048000,
            "rowLimit": 10000
          },
          "inputWidgets": {},
          "nuid": "cd3b41cb-3557-4a53-a280-315ea6bfb256",
          "showTitle": false,
          "tableResultSettingsMap": {},
          "title": ""
        },
        "id": "HJPjhOlLD3Ct"
      },
      "outputs": [],
      "source": [
        "# We'll discuss how to read other options later.\n",
        "# This dataset is from Spark's examples\n",
        "\n",
        "# Might be a little slow locally\n",
        "df = spark.read.json('/FileStore/tables/people.json')"
      ]
    },
    {
      "cell_type": "markdown",
      "metadata": {
        "application/vnd.databricks.v1+cell": {
          "cellMetadata": {},
          "inputWidgets": {},
          "nuid": "07141f32-da67-49fc-9fc3-3eee87806d3a",
          "showTitle": false,
          "tableResultSettingsMap": {},
          "title": ""
        },
        "id": "8YCfPbzhD3Ct"
      },
      "source": [
        "#### Showing the data"
      ]
    },
    {
      "cell_type": "code",
      "execution_count": null,
      "metadata": {
        "application/vnd.databricks.v1+cell": {
          "cellMetadata": {
            "byteLimit": 2048000,
            "rowLimit": 10000
          },
          "inputWidgets": {},
          "nuid": "1533ede5-17db-4451-abe7-8fd3b7a1f7ab",
          "showTitle": false,
          "tableResultSettingsMap": {},
          "title": ""
        },
        "id": "NBUlMFwUD3Ct",
        "outputId": "e377681e-f02f-4cdc-946e-bedd87c0bf6b"
      },
      "outputs": [
        {
          "output_type": "stream",
          "name": "stdout",
          "text": [
            "+----+-------+\n| age|   name|\n+----+-------+\n|null|Michael|\n|  30|   Andy|\n|  19| Justin|\n+----+-------+\n\n"
          ]
        }
      ],
      "source": [
        "# Note how data is missing!\n",
        "df.show()"
      ]
    },
    {
      "cell_type": "code",
      "execution_count": null,
      "metadata": {
        "application/vnd.databricks.v1+cell": {
          "cellMetadata": {
            "byteLimit": 2048000,
            "rowLimit": 10000
          },
          "inputWidgets": {},
          "nuid": "3e358ee0-2eaf-4d9a-b73f-51657fa380b7",
          "showTitle": false,
          "tableResultSettingsMap": {},
          "title": ""
        },
        "id": "Wa6BtCQ_D3Ct",
        "outputId": "5c5e8f14-0d0a-4421-febf-d788d99828c0"
      },
      "outputs": [
        {
          "output_type": "stream",
          "name": "stdout",
          "text": [
            "root\n |-- age: long (nullable = true)\n |-- name: string (nullable = true)\n\n"
          ]
        }
      ],
      "source": [
        "df.printSchema()"
      ]
    },
    {
      "cell_type": "code",
      "execution_count": null,
      "metadata": {
        "application/vnd.databricks.v1+cell": {
          "cellMetadata": {
            "byteLimit": 2048000,
            "rowLimit": 10000
          },
          "inputWidgets": {},
          "nuid": "fbe85425-a946-444f-9f27-cd65e3432043",
          "showTitle": false,
          "tableResultSettingsMap": {},
          "title": ""
        },
        "id": "O_uYCqNiD3Ct",
        "outputId": "4e44acf6-4251-4bf7-d4c6-73e6cc785aac"
      },
      "outputs": [
        {
          "output_type": "stream",
          "name": "stdout",
          "text": [
            "Out[8]: ['age', 'name']"
          ]
        }
      ],
      "source": [
        "df.columns"
      ]
    },
    {
      "cell_type": "code",
      "execution_count": null,
      "metadata": {
        "application/vnd.databricks.v1+cell": {
          "cellMetadata": {
            "byteLimit": 2048000,
            "rowLimit": 10000
          },
          "inputWidgets": {},
          "nuid": "2ab83ee0-2f03-4b06-87ee-875bd836d5b5",
          "showTitle": false,
          "tableResultSettingsMap": {},
          "title": ""
        },
        "id": "s4s3culqD3Cu",
        "outputId": "da994032-1136-4e00-cb2d-c64d5df76528"
      },
      "outputs": [
        {
          "output_type": "stream",
          "name": "stdout",
          "text": [
            "Out[9]: DataFrame[summary: string, age: string, name: string]"
          ]
        }
      ],
      "source": [
        "df.describe()"
      ]
    },
    {
      "cell_type": "markdown",
      "metadata": {
        "application/vnd.databricks.v1+cell": {
          "cellMetadata": {},
          "inputWidgets": {},
          "nuid": "ac8e3da9-2aaf-45ab-bbbe-e55fa21609e0",
          "showTitle": false,
          "tableResultSettingsMap": {},
          "title": ""
        },
        "id": "HfCDLgtmD3Cu"
      },
      "source": [
        "Some data types make it easier to infer schema (like tabular formats such as csv which we will show later).\n",
        "\n",
        "However you often have to set the schema yourself if you aren't dealing with a .read method that doesn't have inferSchema() built-in.\n",
        "\n",
        "Spark has all the tools you need for this, it just requires a very specific structure:"
      ]
    },
    {
      "cell_type": "code",
      "execution_count": null,
      "metadata": {
        "application/vnd.databricks.v1+cell": {
          "cellMetadata": {
            "byteLimit": 2048000,
            "rowLimit": 10000
          },
          "inputWidgets": {},
          "nuid": "62f4f625-cb5e-4662-9d30-14e41572e73f",
          "showTitle": false,
          "tableResultSettingsMap": {},
          "title": ""
        },
        "id": "iEAX4TGxD3Cu"
      },
      "outputs": [],
      "source": [
        "from pyspark.sql.types import StructField,StringType,IntegerType,StructType"
      ]
    },
    {
      "cell_type": "markdown",
      "metadata": {
        "application/vnd.databricks.v1+cell": {
          "cellMetadata": {},
          "inputWidgets": {},
          "nuid": "84c2c114-1f8f-415d-a6ac-282e4b9bc13d",
          "showTitle": false,
          "tableResultSettingsMap": {},
          "title": ""
        },
        "id": "3Lzny4GwD3Cu"
      },
      "source": [
        "Next we need to create the list of Structure fields\n",
        "    * :param name: string, name of the field.\n",
        "    * :param dataType: :class:`DataType` of the field.\n",
        "    * :param nullable: boolean, whether the field can be null (None) or not."
      ]
    },
    {
      "cell_type": "code",
      "execution_count": null,
      "metadata": {
        "application/vnd.databricks.v1+cell": {
          "cellMetadata": {
            "byteLimit": 2048000,
            "rowLimit": 10000
          },
          "inputWidgets": {},
          "nuid": "b424143c-f649-4ef8-835d-feee47f79be1",
          "showTitle": false,
          "tableResultSettingsMap": {},
          "title": ""
        },
        "id": "RLHYDBQJD3Cu"
      },
      "outputs": [],
      "source": [
        "data_schema = [StructField(\"age\", IntegerType(), True),StructField(\"name\", StringType(), True)]"
      ]
    },
    {
      "cell_type": "code",
      "execution_count": null,
      "metadata": {
        "application/vnd.databricks.v1+cell": {
          "cellMetadata": {
            "byteLimit": 2048000,
            "rowLimit": 10000
          },
          "inputWidgets": {},
          "nuid": "28f59ebf-e9ad-43d3-9194-87f2f2262c80",
          "showTitle": false,
          "tableResultSettingsMap": {},
          "title": ""
        },
        "id": "mzBhA5EUD3Cu"
      },
      "outputs": [],
      "source": [
        "final_struc = StructType(fields=data_schema)"
      ]
    },
    {
      "cell_type": "code",
      "execution_count": null,
      "metadata": {
        "application/vnd.databricks.v1+cell": {
          "cellMetadata": {
            "byteLimit": 2048000,
            "rowLimit": 10000
          },
          "inputWidgets": {},
          "nuid": "4e571f38-3a45-4e8e-9157-52820815e274",
          "showTitle": false,
          "tableResultSettingsMap": {},
          "title": ""
        },
        "id": "SJ9dM0fRD3Cu"
      },
      "outputs": [],
      "source": [
        "df = spark.read.json('/FileStore/tables/people.json', schema=final_struc)"
      ]
    },
    {
      "cell_type": "code",
      "execution_count": null,
      "metadata": {
        "application/vnd.databricks.v1+cell": {
          "cellMetadata": {
            "byteLimit": 2048000,
            "rowLimit": 10000
          },
          "inputWidgets": {},
          "nuid": "0f180676-89d7-4871-9451-85a011f6e036",
          "showTitle": false,
          "tableResultSettingsMap": {},
          "title": ""
        },
        "id": "5Y76YCmMD3Cu",
        "outputId": "a66d866d-b2eb-447b-fc0b-28569834160c"
      },
      "outputs": [
        {
          "output_type": "stream",
          "name": "stdout",
          "text": [
            "root\n |-- age: integer (nullable = true)\n |-- name: string (nullable = true)\n\n"
          ]
        }
      ],
      "source": [
        "df.printSchema()"
      ]
    },
    {
      "cell_type": "markdown",
      "metadata": {
        "application/vnd.databricks.v1+cell": {
          "cellMetadata": {},
          "inputWidgets": {},
          "nuid": "b409d1da-d518-4f83-a33a-0fdad41c7cbe",
          "showTitle": false,
          "tableResultSettingsMap": {},
          "title": ""
        },
        "id": "_hsh6eB6D3Cv"
      },
      "source": [
        "### Grabbing the data"
      ]
    },
    {
      "cell_type": "code",
      "execution_count": null,
      "metadata": {
        "application/vnd.databricks.v1+cell": {
          "cellMetadata": {
            "byteLimit": 2048000,
            "rowLimit": 10000
          },
          "inputWidgets": {},
          "nuid": "ab1f1346-b7e7-48df-ba98-ff700f60e402",
          "showTitle": false,
          "tableResultSettingsMap": {},
          "title": ""
        },
        "id": "ztSjV5otD3Cv",
        "outputId": "da204385-4b44-427f-fc4e-eacc7a1ddfe7"
      },
      "outputs": [
        {
          "output_type": "stream",
          "name": "stdout",
          "text": [
            "Out[15]: Column<'age'>"
          ]
        }
      ],
      "source": [
        "df['age']"
      ]
    },
    {
      "cell_type": "code",
      "execution_count": null,
      "metadata": {
        "application/vnd.databricks.v1+cell": {
          "cellMetadata": {
            "byteLimit": 2048000,
            "rowLimit": 10000
          },
          "inputWidgets": {},
          "nuid": "59bc34cc-18ec-4ad1-a0b1-80b3c205687b",
          "showTitle": false,
          "tableResultSettingsMap": {},
          "title": ""
        },
        "id": "RSVdmInQD3Cv",
        "outputId": "80dd30ae-085b-46e4-af08-785844bcc280"
      },
      "outputs": [
        {
          "output_type": "stream",
          "name": "stdout",
          "text": [
            "Out[16]: pyspark.sql.column.Column"
          ]
        }
      ],
      "source": [
        "type(df['age'])"
      ]
    },
    {
      "cell_type": "code",
      "execution_count": null,
      "metadata": {
        "application/vnd.databricks.v1+cell": {
          "cellMetadata": {
            "byteLimit": 2048000,
            "rowLimit": 10000
          },
          "inputWidgets": {},
          "nuid": "fd2de7d3-6b62-4fb8-ba37-5f8d8ef271a2",
          "showTitle": false,
          "tableResultSettingsMap": {},
          "title": ""
        },
        "id": "b9KBDkgsD3Cv",
        "outputId": "8de09cf0-e939-471d-c3cf-f90cb8eb97fd"
      },
      "outputs": [
        {
          "output_type": "stream",
          "name": "stdout",
          "text": [
            "Out[17]: DataFrame[age: int]"
          ]
        }
      ],
      "source": [
        "df.select('age')"
      ]
    },
    {
      "cell_type": "code",
      "execution_count": null,
      "metadata": {
        "application/vnd.databricks.v1+cell": {
          "cellMetadata": {
            "byteLimit": 2048000,
            "rowLimit": 10000
          },
          "inputWidgets": {},
          "nuid": "ff39ba72-cd12-4a57-93cb-e88631630f2d",
          "showTitle": false,
          "tableResultSettingsMap": {},
          "title": ""
        },
        "id": "vlAP0SdRD3Cv",
        "outputId": "9fdbdc46-f001-4c9f-c606-03ac2b9b56c9"
      },
      "outputs": [
        {
          "output_type": "stream",
          "name": "stdout",
          "text": [
            "Out[18]: pyspark.sql.dataframe.DataFrame"
          ]
        }
      ],
      "source": [
        "type(df.select('age'))"
      ]
    },
    {
      "cell_type": "code",
      "execution_count": null,
      "metadata": {
        "application/vnd.databricks.v1+cell": {
          "cellMetadata": {
            "byteLimit": 2048000,
            "rowLimit": 10000
          },
          "inputWidgets": {},
          "nuid": "5b0012f8-3c9f-429d-86c6-2194e1f232f3",
          "showTitle": false,
          "tableResultSettingsMap": {},
          "title": ""
        },
        "id": "NvEYKxJlD3Cv",
        "outputId": "770869ca-1378-42a7-9c57-e6bf5e6ce5c2"
      },
      "outputs": [
        {
          "output_type": "stream",
          "name": "stdout",
          "text": [
            "+----+\n| age|\n+----+\n|null|\n|  30|\n|  19|\n+----+\n\n"
          ]
        }
      ],
      "source": [
        "df.select('age').show()"
      ]
    },
    {
      "cell_type": "code",
      "execution_count": null,
      "metadata": {
        "application/vnd.databricks.v1+cell": {
          "cellMetadata": {
            "byteLimit": 2048000,
            "rowLimit": 10000
          },
          "inputWidgets": {},
          "nuid": "0960cf12-dcda-479f-91c7-ee4389a20af8",
          "showTitle": false,
          "tableResultSettingsMap": {},
          "title": ""
        },
        "id": "trgJb-iVD3Cv",
        "outputId": "a1c48a22-82af-4c6c-d1d9-ac49fc815dab"
      },
      "outputs": [
        {
          "output_type": "stream",
          "name": "stdout",
          "text": [
            "Out[20]: [Row(age=None, name='Michael'), Row(age=30, name='Andy')]"
          ]
        }
      ],
      "source": [
        "# Returns list of Row objects\n",
        "df.head(2)"
      ]
    },
    {
      "cell_type": "code",
      "execution_count": null,
      "metadata": {
        "application/vnd.databricks.v1+cell": {
          "cellMetadata": {
            "byteLimit": 2048000,
            "rowLimit": 10000
          },
          "inputWidgets": {},
          "nuid": "a1c8fe93-2701-40e3-922d-b7c45472b3e9",
          "showTitle": false,
          "tableResultSettingsMap": {},
          "title": ""
        },
        "id": "y5OuCdw5D3Cv",
        "outputId": "bd34fc08-69c4-49d0-a7ab-4589582027c1"
      },
      "outputs": [
        {
          "output_type": "stream",
          "name": "stdout",
          "text": [
            "+----+-------+\n| age|   name|\n+----+-------+\n|null|Michael|\n|  30|   Andy|\n|  19| Justin|\n+----+-------+\n\n"
          ]
        }
      ],
      "source": [
        "df.select(df.columns).show()"
      ]
    },
    {
      "cell_type": "markdown",
      "metadata": {
        "application/vnd.databricks.v1+cell": {
          "cellMetadata": {},
          "inputWidgets": {},
          "nuid": "fc2146b1-51c6-41c4-b430-ef4c5f8c34b4",
          "showTitle": false,
          "tableResultSettingsMap": {},
          "title": ""
        },
        "id": "eR7RMfDOD3Cw"
      },
      "source": [
        "Multiple Columns:"
      ]
    },
    {
      "cell_type": "code",
      "execution_count": null,
      "metadata": {
        "application/vnd.databricks.v1+cell": {
          "cellMetadata": {
            "byteLimit": 2048000,
            "rowLimit": 10000
          },
          "inputWidgets": {},
          "nuid": "06fc4f77-46d5-4c25-a006-cf8e65d7f749",
          "showTitle": false,
          "tableResultSettingsMap": {},
          "title": ""
        },
        "id": "JHDv2aTzD3Cw",
        "outputId": "35097b57-1dd8-4448-f9bc-c054c743e9f6"
      },
      "outputs": [
        {
          "output_type": "stream",
          "name": "stdout",
          "text": [
            "Out[22]: DataFrame[age: int, name: string]"
          ]
        }
      ],
      "source": [
        "df.select(['age','name'])"
      ]
    },
    {
      "cell_type": "code",
      "execution_count": null,
      "metadata": {
        "application/vnd.databricks.v1+cell": {
          "cellMetadata": {
            "byteLimit": 2048000,
            "rowLimit": 10000
          },
          "inputWidgets": {},
          "nuid": "e0a1c8ba-c9ff-4617-b722-e0feb89d475f",
          "showTitle": false,
          "tableResultSettingsMap": {},
          "title": ""
        },
        "id": "ZnSSBX2ED3Cw",
        "outputId": "2bf55488-19ec-4a9c-dd3e-9f7ccb5b76b0"
      },
      "outputs": [
        {
          "output_type": "stream",
          "name": "stdout",
          "text": [
            "+----+-------+\n| age|   name|\n+----+-------+\n|null|Michael|\n|  30|   Andy|\n|  19| Justin|\n+----+-------+\n\n"
          ]
        }
      ],
      "source": [
        "df.select(['age','name']).show()"
      ]
    },
    {
      "cell_type": "markdown",
      "metadata": {
        "application/vnd.databricks.v1+cell": {
          "cellMetadata": {},
          "inputWidgets": {},
          "nuid": "0ba0c42a-df78-48fd-ac00-993fe949872f",
          "showTitle": false,
          "tableResultSettingsMap": {},
          "title": ""
        },
        "id": "UQgsivPqD3Cw"
      },
      "source": [
        "### Creating new columns"
      ]
    },
    {
      "cell_type": "code",
      "execution_count": null,
      "metadata": {
        "application/vnd.databricks.v1+cell": {
          "cellMetadata": {
            "byteLimit": 2048000,
            "rowLimit": 10000
          },
          "inputWidgets": {},
          "nuid": "d9831a08-5b8d-4639-a113-3777b0cb7d10",
          "showTitle": false,
          "tableResultSettingsMap": {},
          "title": ""
        },
        "id": "QzmdCS4JD3Cw",
        "outputId": "bd9633ac-b134-472d-eee7-b6c1d10d0503"
      },
      "outputs": [
        {
          "output_type": "stream",
          "name": "stdout",
          "text": [
            "+----+-------+------+\n| age|   name|newage|\n+----+-------+------+\n|null|Michael|  null|\n|  30|   Andy|    30|\n|  19| Justin|    19|\n+----+-------+------+\n\n"
          ]
        }
      ],
      "source": [
        "# Adding a new column with a simple copy\n",
        "df.withColumn('newage',df['age']).show()"
      ]
    },
    {
      "cell_type": "code",
      "execution_count": null,
      "metadata": {
        "application/vnd.databricks.v1+cell": {
          "cellMetadata": {
            "byteLimit": 2048000,
            "rowLimit": 10000
          },
          "inputWidgets": {},
          "nuid": "ca41695f-52e1-458b-a637-36ed5d281e2c",
          "showTitle": false,
          "tableResultSettingsMap": {},
          "title": ""
        },
        "id": "p1NsH4zFD3Cw",
        "outputId": "3ee7725c-6087-4ac5-efb5-d13e6fc7edab"
      },
      "outputs": [
        {
          "output_type": "stream",
          "name": "stdout",
          "text": [
            "+----+-------+\n| age|   name|\n+----+-------+\n|null|Michael|\n|  30|   Andy|\n|  19| Justin|\n+----+-------+\n\n"
          ]
        }
      ],
      "source": [
        "df.show()"
      ]
    },
    {
      "cell_type": "code",
      "execution_count": null,
      "metadata": {
        "application/vnd.databricks.v1+cell": {
          "cellMetadata": {
            "byteLimit": 2048000,
            "rowLimit": 10000
          },
          "inputWidgets": {},
          "nuid": "8a8a8844-ae50-4d77-bcd9-f031cf4235aa",
          "showTitle": false,
          "tableResultSettingsMap": {},
          "title": ""
        },
        "id": "bkjGcTL1D3Cw",
        "outputId": "957ae5ee-eb7c-42ee-cf83-b1c5bdfbb6e1"
      },
      "outputs": [
        {
          "output_type": "stream",
          "name": "stdout",
          "text": [
            "+-----------+-------+\n|supernewage|   name|\n+-----------+-------+\n|       null|Michael|\n|         30|   Andy|\n|         19| Justin|\n+-----------+-------+\n\n"
          ]
        }
      ],
      "source": [
        "# Simple Rename\n",
        "df.withColumnRenamed('age','supernewage').show()"
      ]
    },
    {
      "cell_type": "markdown",
      "metadata": {
        "application/vnd.databricks.v1+cell": {
          "cellMetadata": {},
          "inputWidgets": {},
          "nuid": "c9d39b22-eec2-4b7d-b3a1-4bf6f95e1b61",
          "showTitle": false,
          "tableResultSettingsMap": {},
          "title": ""
        },
        "id": "gjR_3bK2D3Cw"
      },
      "source": [
        "More complicated operations to create new columns"
      ]
    },
    {
      "cell_type": "code",
      "execution_count": null,
      "metadata": {
        "application/vnd.databricks.v1+cell": {
          "cellMetadata": {
            "byteLimit": 2048000,
            "rowLimit": 10000
          },
          "inputWidgets": {},
          "nuid": "cf783a94-47b8-480f-9207-7e44e0895f7f",
          "showTitle": false,
          "tableResultSettingsMap": {},
          "title": ""
        },
        "id": "yirZwJUfD3Cw",
        "outputId": "9df0ba54-ebd8-4e1c-d788-fd25cc36e379"
      },
      "outputs": [
        {
          "output_type": "stream",
          "name": "stdout",
          "text": [
            "+----+-------+---------+\n| age|   name|doubleage|\n+----+-------+---------+\n|null|Michael|     null|\n|  30|   Andy|       60|\n|  19| Justin|       38|\n+----+-------+---------+\n\n"
          ]
        }
      ],
      "source": [
        "df.withColumn('doubleage',df['age']*2).show()"
      ]
    },
    {
      "cell_type": "code",
      "execution_count": null,
      "metadata": {
        "application/vnd.databricks.v1+cell": {
          "cellMetadata": {
            "byteLimit": 2048000,
            "rowLimit": 10000
          },
          "inputWidgets": {},
          "nuid": "400125dc-1fa3-4506-a09b-e23e7e6d6cc2",
          "showTitle": false,
          "tableResultSettingsMap": {},
          "title": ""
        },
        "id": "8DKKjNhZD3Cw",
        "outputId": "646449a7-24d6-4790-bb4a-9b856d881a0c"
      },
      "outputs": [
        {
          "output_type": "stream",
          "name": "stdout",
          "text": [
            "+----+-------+-----------+\n| age|   name|add_one_age|\n+----+-------+-----------+\n|null|Michael|       null|\n|  30|   Andy|         31|\n|  19| Justin|         20|\n+----+-------+-----------+\n\n"
          ]
        }
      ],
      "source": [
        "df.withColumn('add_one_age',df['age']+1).show()"
      ]
    },
    {
      "cell_type": "code",
      "execution_count": null,
      "metadata": {
        "application/vnd.databricks.v1+cell": {
          "cellMetadata": {
            "byteLimit": 2048000,
            "rowLimit": 10000
          },
          "inputWidgets": {},
          "nuid": "c08d5250-9404-433b-be67-0ce8353184df",
          "showTitle": false,
          "tableResultSettingsMap": {},
          "title": ""
        },
        "id": "6PJJOgMZD3Cx",
        "outputId": "c52e24f1-e67d-4c46-dea4-5570621a2401"
      },
      "outputs": [
        {
          "output_type": "stream",
          "name": "stdout",
          "text": [
            "+----+-------+--------+\n| age|   name|half_age|\n+----+-------+--------+\n|null|Michael|    null|\n|  30|   Andy|    15.0|\n|  19| Justin|     9.5|\n+----+-------+--------+\n\n"
          ]
        }
      ],
      "source": [
        "df.withColumn('half_age',df['age']/2).show()"
      ]
    },
    {
      "cell_type": "code",
      "execution_count": null,
      "metadata": {
        "application/vnd.databricks.v1+cell": {
          "cellMetadata": {
            "byteLimit": 2048000,
            "rowLimit": 10000
          },
          "inputWidgets": {},
          "nuid": "15e8b9b3-16e3-4282-a151-79bb4fbc59a7",
          "showTitle": false,
          "tableResultSettingsMap": {},
          "title": ""
        },
        "id": "bv7lxWcKD3Cx",
        "outputId": "fc15dd9c-4bcb-4e5e-b395-d428148ee3df"
      },
      "outputs": [
        {
          "output_type": "stream",
          "name": "stdout",
          "text": [
            "Out[30]: DataFrame[age: int, name: string, half_age: double]"
          ]
        }
      ],
      "source": [
        "df.withColumn('half_age',df['age']/2)"
      ]
    },
    {
      "cell_type": "markdown",
      "metadata": {
        "application/vnd.databricks.v1+cell": {
          "cellMetadata": {},
          "inputWidgets": {},
          "nuid": "7a7f4c50-5e52-4bbc-ae75-0792be9ab35e",
          "showTitle": false,
          "tableResultSettingsMap": {},
          "title": ""
        },
        "id": "7BA3V3eQD3Cx"
      },
      "source": [
        "We'll discuss much more complicated operations later on!"
      ]
    },
    {
      "cell_type": "markdown",
      "metadata": {
        "application/vnd.databricks.v1+cell": {
          "cellMetadata": {},
          "inputWidgets": {},
          "nuid": "798b7e55-651a-4d5c-96a9-cd9f672f252f",
          "showTitle": false,
          "tableResultSettingsMap": {},
          "title": ""
        },
        "id": "V51DNLUDD3C0"
      },
      "source": [
        "### Using SQL\n",
        "\n",
        "To use SQL queries directly with the dataframe, you will need to register it to a temporary view:"
      ]
    },
    {
      "cell_type": "code",
      "execution_count": null,
      "metadata": {
        "application/vnd.databricks.v1+cell": {
          "cellMetadata": {
            "byteLimit": 2048000,
            "rowLimit": 10000
          },
          "inputWidgets": {},
          "nuid": "b75396f6-9df4-4dc8-ac91-a8ed33d7632b",
          "showTitle": false,
          "tableResultSettingsMap": {},
          "title": ""
        },
        "id": "o0XS7B3RD3C0"
      },
      "outputs": [],
      "source": [
        "# Register the DataFrame as a SQL temporary view\n",
        "df.createOrReplaceTempView(\"people\")"
      ]
    },
    {
      "cell_type": "code",
      "execution_count": null,
      "metadata": {
        "application/vnd.databricks.v1+cell": {
          "cellMetadata": {
            "byteLimit": 2048000,
            "rowLimit": 10000
          },
          "inputWidgets": {},
          "nuid": "10cd8ae0-dc4f-4ea6-bb49-aa281d0b4b15",
          "showTitle": false,
          "tableResultSettingsMap": {},
          "title": ""
        },
        "id": "DjLepX0ZD3C1"
      },
      "outputs": [],
      "source": [
        "sql_results = spark.sql(\"SELECT * FROM people\")"
      ]
    },
    {
      "cell_type": "code",
      "execution_count": null,
      "metadata": {
        "application/vnd.databricks.v1+cell": {
          "cellMetadata": {
            "byteLimit": 2048000,
            "rowLimit": 10000
          },
          "inputWidgets": {},
          "nuid": "d9a0db51-937b-47ba-866f-2adc437eb5bf",
          "showTitle": false,
          "tableResultSettingsMap": {},
          "title": ""
        },
        "id": "wS79WHxlD3C1",
        "outputId": "4f6fed7b-98b8-49e7-a834-0a36cc0cf2e6"
      },
      "outputs": [
        {
          "output_type": "stream",
          "name": "stdout",
          "text": [
            "Out[33]: DataFrame[age: int, name: string]"
          ]
        }
      ],
      "source": [
        "sql_results"
      ]
    },
    {
      "cell_type": "code",
      "execution_count": null,
      "metadata": {
        "application/vnd.databricks.v1+cell": {
          "cellMetadata": {
            "byteLimit": 2048000,
            "rowLimit": 10000
          },
          "inputWidgets": {},
          "nuid": "4f3d5061-0bca-4a84-a219-1ec1db7157c8",
          "showTitle": false,
          "tableResultSettingsMap": {},
          "title": ""
        },
        "id": "5x06QfV2D3C1",
        "outputId": "82095b81-8cdf-4356-cce0-ce9ce51a9d63"
      },
      "outputs": [
        {
          "output_type": "stream",
          "name": "stdout",
          "text": [
            "+----+-------+\n| age|   name|\n+----+-------+\n|null|Michael|\n|  30|   Andy|\n|  19| Justin|\n+----+-------+\n\n"
          ]
        }
      ],
      "source": [
        "sql_results.show()"
      ]
    },
    {
      "cell_type": "code",
      "execution_count": null,
      "metadata": {
        "application/vnd.databricks.v1+cell": {
          "cellMetadata": {
            "byteLimit": 2048000,
            "rowLimit": 10000
          },
          "inputWidgets": {},
          "nuid": "b80158e4-4291-4a87-a144-2dbb8f2741fa",
          "showTitle": false,
          "tableResultSettingsMap": {},
          "title": ""
        },
        "id": "KaIqYA9MD3C1",
        "outputId": "bee045e8-f574-4b9d-babd-794528761078"
      },
      "outputs": [
        {
          "output_type": "stream",
          "name": "stdout",
          "text": [
            "+---+----+\n|age|name|\n+---+----+\n| 30|Andy|\n+---+----+\n\n"
          ]
        }
      ],
      "source": [
        "spark.sql(\"SELECT * FROM people WHERE age=30\").show()"
      ]
    },
    {
      "cell_type": "markdown",
      "metadata": {
        "application/vnd.databricks.v1+cell": {
          "cellMetadata": {},
          "inputWidgets": {},
          "nuid": "16fac172-28a0-452b-85b8-c09254826d23",
          "showTitle": false,
          "tableResultSettingsMap": {},
          "title": ""
        },
        "id": "161rJJ91D3C1"
      },
      "source": [
        "We won't really be focusing on using the SQL syntax for this course in general, but keep in mind it is always there for you to get you out of bind quickly with your SQL skills!"
      ]
    },
    {
      "cell_type": "markdown",
      "metadata": {
        "application/vnd.databricks.v1+cell": {
          "cellMetadata": {},
          "inputWidgets": {},
          "nuid": "247d2bc8-61d5-484c-b5a6-c6cb129a8a76",
          "showTitle": false,
          "tableResultSettingsMap": {},
          "title": ""
        },
        "id": "Sx56eK-RD3C1"
      },
      "source": [
        "# Great Job!"
      ]
    }
  ],
  "metadata": {
    "anaconda-cloud": {},
    "application/vnd.databricks.v1+notebook": {
      "computePreferences": null,
      "dashboards": [],
      "environmentMetadata": null,
      "language": "python",
      "notebookMetadata": {
        "pythonIndentUnit": 4
      },
      "notebookName": "04-DataFrame_Basics",
      "widgets": {}
    },
    "kernelspec": {
      "display_name": "Python 3",
      "language": "python",
      "name": "python3"
    },
    "language_info": {
      "codemirror_mode": {
        "name": "ipython",
        "version": 3
      },
      "file_extension": ".py",
      "mimetype": "text/x-python",
      "name": "python",
      "nbconvert_exporter": "python",
      "pygments_lexer": "ipython3",
      "version": "3.7.4"
    },
    "nbpresent": {
      "slides": {},
      "themes": {
        "default": "0535adbc-b74f-46cc-9cd6-4eabe2477c8e",
        "theme": {
          "0535adbc-b74f-46cc-9cd6-4eabe2477c8e": {
            "backgrounds": {
              "backgroundColor": {
                "background-color": "backgroundColor",
                "id": "backgroundColor"
              }
            },
            "id": "0535adbc-b74f-46cc-9cd6-4eabe2477c8e",
            "palette": {
              "backgroundColor": {
                "id": "backgroundColor",
                "rgb": [
                  43,
                  43,
                  43
                ]
              },
              "headingColor": {
                "id": "headingColor",
                "rgb": [
                  238,
                  238,
                  238
                ]
              },
              "linkColor": {
                "id": "linkColor",
                "rgb": [
                  19,
                  218,
                  236
                ]
              },
              "mainColor": {
                "id": "mainColor",
                "rgb": [
                  238,
                  238,
                  238
                ]
              }
            },
            "rules": {
              "a": {
                "color": "linkColor"
              },
              "h1": {
                "color": "headingColor",
                "font-family": "Oswald",
                "font-size": 7
              },
              "h2": {
                "color": "headingColor",
                "font-family": "Oswald",
                "font-size": 5
              },
              "h3": {
                "color": "headingColor",
                "font-family": "Oswald",
                "font-size": 3.75
              },
              "h4": {
                "color": "headingColor",
                "font-family": "Oswald",
                "font-size": 3
              },
              "h5": {
                "color": "headingColor",
                "font-family": "Oswald"
              },
              "h6": {
                "color": "headingColor",
                "font-family": "Oswald"
              },
              "h7": {
                "color": "headingColor",
                "font-family": "Oswald"
              },
              "li": {
                "color": "mainColor",
                "font-family": "Lato",
                "font-size": 5
              },
              "p": {
                "color": "mainColor",
                "font-family": "Lato",
                "font-size": 5
              }
            },
            "text-base": {
              "color": "mainColor",
              "font-family": "Lato",
              "font-size": 5
            }
          },
          "cc59980f-cb69-400a-b63a-1fb85ca73c8a": {
            "backgrounds": {
              "dc7afa04-bf90-40b1-82a5-726e3cff5267": {
                "background-color": "31af15d2-7e15-44c5-ab5e-e04b16a89eff",
                "id": "dc7afa04-bf90-40b1-82a5-726e3cff5267"
              }
            },
            "id": "cc59980f-cb69-400a-b63a-1fb85ca73c8a",
            "palette": {
              "19cc588f-0593-49c9-9f4b-e4d7cc113b1c": {
                "id": "19cc588f-0593-49c9-9f4b-e4d7cc113b1c",
                "rgb": [
                  252,
                  252,
                  252
                ]
              },
              "31af15d2-7e15-44c5-ab5e-e04b16a89eff": {
                "id": "31af15d2-7e15-44c5-ab5e-e04b16a89eff",
                "rgb": [
                  68,
                  68,
                  68
                ]
              },
              "50f92c45-a630-455b-aec3-788680ec7410": {
                "id": "50f92c45-a630-455b-aec3-788680ec7410",
                "rgb": [
                  197,
                  226,
                  245
                ]
              },
              "c5cc3653-2ee1-402a-aba2-7caae1da4f6c": {
                "id": "c5cc3653-2ee1-402a-aba2-7caae1da4f6c",
                "rgb": [
                  43,
                  126,
                  184
                ]
              },
              "efa7f048-9acb-414c-8b04-a26811511a21": {
                "id": "efa7f048-9acb-414c-8b04-a26811511a21",
                "rgb": [
                  25.118061674008803,
                  73.60176211453744,
                  107.4819383259912
                ]
              }
            },
            "rules": {
              "a": {
                "color": "19cc588f-0593-49c9-9f4b-e4d7cc113b1c"
              },
              "blockquote": {
                "color": "50f92c45-a630-455b-aec3-788680ec7410",
                "font-size": 3
              },
              "code": {
                "font-family": "Anonymous Pro"
              },
              "h1": {
                "color": "19cc588f-0593-49c9-9f4b-e4d7cc113b1c",
                "font-family": "Merriweather",
                "font-size": 8
              },
              "h2": {
                "color": "19cc588f-0593-49c9-9f4b-e4d7cc113b1c",
                "font-family": "Merriweather",
                "font-size": 6
              },
              "h3": {
                "color": "50f92c45-a630-455b-aec3-788680ec7410",
                "font-family": "Lato",
                "font-size": 5.5
              },
              "h4": {
                "color": "c5cc3653-2ee1-402a-aba2-7caae1da4f6c",
                "font-family": "Lato",
                "font-size": 5
              },
              "h5": {
                "font-family": "Lato"
              },
              "h6": {
                "font-family": "Lato"
              },
              "h7": {
                "font-family": "Lato"
              },
              "li": {
                "color": "50f92c45-a630-455b-aec3-788680ec7410",
                "font-size": 3.25
              },
              "pre": {
                "font-family": "Anonymous Pro",
                "font-size": 4
              }
            },
            "text-base": {
              "color": "19cc588f-0593-49c9-9f4b-e4d7cc113b1c",
              "font-family": "Lato",
              "font-size": 4
            }
          }
        }
      }
    },
    "colab": {
      "provenance": [],
      "include_colab_link": true
    }
  },
  "nbformat": 4,
  "nbformat_minor": 0
}