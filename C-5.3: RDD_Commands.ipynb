{
  "cells": [
    {
      "cell_type": "markdown",
      "metadata": {
        "id": "view-in-github",
        "colab_type": "text"
      },
      "source": [
        "<a href=\"https://colab.research.google.com/github/usshaa/SMBDA/blob/main/C-5.3%3A%20RDD_Commands.ipynb\" target=\"_parent\"><img src=\"https://colab.research.google.com/assets/colab-badge.svg\" alt=\"Open In Colab\"/></a>"
      ]
    },
    {
      "cell_type": "markdown",
      "metadata": {
        "application/vnd.databricks.v1+cell": {
          "cellMetadata": {},
          "inputWidgets": {},
          "nuid": "04926dd0-9636-43f6-9375-0023afa68164",
          "showTitle": false,
          "tableResultSettingsMap": {},
          "title": ""
        },
        "id": "OPeai5gYDbIU"
      },
      "source": [
        "### RDD Creation"
      ]
    },
    {
      "cell_type": "markdown",
      "metadata": {
        "application/vnd.databricks.v1+cell": {
          "cellMetadata": {},
          "inputWidgets": {},
          "nuid": "a6d89e45-4556-4847-a52a-332771bab305",
          "showTitle": false,
          "tableResultSettingsMap": {},
          "title": ""
        },
        "id": "YYf-bgoMDbIV"
      },
      "source": [
        "1. **From a collection**:  "
      ]
    },
    {
      "cell_type": "code",
      "execution_count": null,
      "metadata": {
        "application/vnd.databricks.v1+cell": {
          "cellMetadata": {
            "byteLimit": 2048000,
            "rowLimit": 10000
          },
          "inputWidgets": {},
          "nuid": "5ee801e6-d9c2-45c6-9049-bafa96631330",
          "showTitle": false,
          "tableResultSettingsMap": {},
          "title": ""
        },
        "id": "cRWv-WOGDbIW"
      },
      "outputs": [],
      "source": [
        "from pyspark.sql import SparkSession\n",
        "# May take a little while on a local computer\n",
        "spark = SparkSession.builder.appName(\"Basics\").getOrCreate()\n",
        "# Get the SparkContext from the SparkSession\n",
        "sc = spark.sparkContext"
      ]
    },
    {
      "cell_type": "code",
      "execution_count": null,
      "metadata": {
        "application/vnd.databricks.v1+cell": {
          "cellMetadata": {
            "byteLimit": 2048000,
            "rowLimit": 10000
          },
          "inputWidgets": {},
          "nuid": "3273b09f-11e6-4ee2-b7c6-712231718a37",
          "showTitle": false,
          "tableResultSettingsMap": {},
          "title": ""
        },
        "id": "nWw-pm3QDbIX",
        "outputId": "d83f66e9-d5a3-4968-c227-09b05521afbe"
      },
      "outputs": [
        {
          "output_type": "stream",
          "name": "stdout",
          "text": [
            "Out[5]: [1, 2, 10, 3, 4, 5, 6]"
          ]
        }
      ],
      "source": [
        "data = [1, 2, 10 ,3, 4, 5, 6]\n",
        "rdd = sc.parallelize(data)\n",
        "rdd.collect()"
      ]
    },
    {
      "cell_type": "markdown",
      "metadata": {
        "application/vnd.databricks.v1+cell": {
          "cellMetadata": {},
          "inputWidgets": {},
          "nuid": "1fa7295b-9aa1-4a9d-8e76-a2445de066e6",
          "showTitle": false,
          "tableResultSettingsMap": {},
          "title": ""
        },
        "id": "SP5_KntPDbIX"
      },
      "source": [
        "2. **From an external dataset** (e.g., text file):\n",
        "   "
      ]
    },
    {
      "cell_type": "code",
      "execution_count": null,
      "metadata": {
        "application/vnd.databricks.v1+cell": {
          "cellMetadata": {
            "byteLimit": 2048000,
            "rowLimit": 10000
          },
          "inputWidgets": {},
          "nuid": "03a29130-3850-4047-9c88-3387d6a4f52b",
          "showTitle": false,
          "tableResultSettingsMap": {},
          "title": ""
        },
        "id": "GMlGHf_WDbIY",
        "outputId": "5c326d2e-50f3-4b8b-95a6-47522d4fc7d2"
      },
      "outputs": [
        {
          "output_type": "stream",
          "name": "stdout",
          "text": [
            "Out[46]: ['Apache Spark has its architectural foundation in the resilient distributed dataset (RDD), a read-only multiset of data items distributed over a cluster of machines, that is maintained in a fault-tolerant way. The Dataframe API was released as an abstraction on top of the RDD, followed by the Dataset API. In Spark 1.x, the RDD was the primary application programming interface (API), but as of Spark 2.x use of the Dataset API is encouraged even though the RDD API is not deprecated. The RDD technology still underlies the Dataset API.',\n '',\n \"Spark and its RDDs were developed in 2012 in response to limitations in the MapReduce cluster computing paradigm, which forces a particular linear dataflow structure on distributed programs: MapReduce programs read input data from disk, map a function across the data, reduce the results of the map, and store reduction results on disk. Spark's RDDs function as a working set for distributed programs that offers a (deliberately) restricted form of distributed shared memory.\"]"
          ]
        }
      ],
      "source": [
        "rdd0 = sc.textFile(\"/FileStore/tables/data.txt\")\n",
        "rdd0.collect()"
      ]
    },
    {
      "cell_type": "markdown",
      "metadata": {
        "application/vnd.databricks.v1+cell": {
          "cellMetadata": {},
          "inputWidgets": {},
          "nuid": "e1b2975b-3440-44b1-bb28-945927f929ec",
          "showTitle": false,
          "tableResultSettingsMap": {},
          "title": ""
        },
        "id": "1RjOgRcsDbIY"
      },
      "source": [
        "### RDD Methods and Attributes\n",
        "\n",
        "#### Transformation Methods"
      ]
    },
    {
      "cell_type": "markdown",
      "metadata": {
        "application/vnd.databricks.v1+cell": {
          "cellMetadata": {},
          "inputWidgets": {},
          "nuid": "4354071a-81f8-4bbf-a0cb-a6ccaec8d2e5",
          "showTitle": false,
          "tableResultSettingsMap": {},
          "title": ""
        },
        "id": "nf09-gG-DbIY"
      },
      "source": [
        "1. **`map(func)`**:\n",
        "   - Applies `func` to each element and returns a new RDD.\n",
        "   "
      ]
    },
    {
      "cell_type": "code",
      "execution_count": null,
      "metadata": {
        "application/vnd.databricks.v1+cell": {
          "cellMetadata": {
            "byteLimit": 2048000,
            "rowLimit": 10000
          },
          "inputWidgets": {},
          "nuid": "14253f2d-d0ea-42bf-b198-a030736e64c4",
          "showTitle": false,
          "tableResultSettingsMap": {},
          "title": ""
        },
        "id": "5rJgVJEVDbIY",
        "outputId": "19552a9f-abca-418a-f77e-6b7c531433a4"
      },
      "outputs": [
        {
          "output_type": "stream",
          "name": "stdout",
          "text": [
            "Out[8]: [2, 4, 20, 6, 8, 10, 12]"
          ]
        }
      ],
      "source": [
        "rdd_mapped = rdd.map(lambda x: x * 2)\n",
        "rdd_mapped.collect()"
      ]
    },
    {
      "cell_type": "markdown",
      "metadata": {
        "application/vnd.databricks.v1+cell": {
          "cellMetadata": {},
          "inputWidgets": {},
          "nuid": "d853ab33-2631-4f88-98c1-916746e0c936",
          "showTitle": false,
          "tableResultSettingsMap": {},
          "title": ""
        },
        "id": "X2suf_foDbIZ"
      },
      "source": [
        "2. **`filter(func)`**:\n",
        "   - Applies `func` to each element and returns elements that satisfy the condition.   "
      ]
    },
    {
      "cell_type": "code",
      "execution_count": null,
      "metadata": {
        "application/vnd.databricks.v1+cell": {
          "cellMetadata": {
            "byteLimit": 2048000,
            "rowLimit": 10000
          },
          "inputWidgets": {},
          "nuid": "f01eab7e-56c4-4021-b0c3-a8bc35135d1c",
          "showTitle": false,
          "tableResultSettingsMap": {},
          "title": ""
        },
        "id": "ClWXqcjnDbIZ",
        "outputId": "21a92d41-808e-4e72-ba83-5f06571d22fa"
      },
      "outputs": [
        {
          "output_type": "stream",
          "name": "stdout",
          "text": [
            "Out[9]: [2, 10, 4, 6]"
          ]
        }
      ],
      "source": [
        "rdd_filtered = rdd.filter(lambda x: x % 2 == 0)\n",
        "rdd_filtered.collect()"
      ]
    },
    {
      "cell_type": "markdown",
      "metadata": {
        "application/vnd.databricks.v1+cell": {
          "cellMetadata": {},
          "inputWidgets": {},
          "nuid": "0bf3f8c8-ab7e-4810-a4bf-9952d8b4c116",
          "showTitle": false,
          "tableResultSettingsMap": {},
          "title": ""
        },
        "id": "XtrhmDgADbIZ"
      },
      "source": [
        "3. **`flatMap(func)`**:\n",
        "   - Similar to `map`, but flattens the result.\n",
        "   "
      ]
    },
    {
      "cell_type": "code",
      "execution_count": null,
      "metadata": {
        "application/vnd.databricks.v1+cell": {
          "cellMetadata": {
            "byteLimit": 2048000,
            "rowLimit": 10000
          },
          "inputWidgets": {},
          "nuid": "46baff13-4c89-423c-8ba8-1320828dc855",
          "showTitle": false,
          "tableResultSettingsMap": {},
          "title": ""
        },
        "id": "5-SOPViiDbIZ",
        "outputId": "4068c70e-5330-40c8-9028-3a93acee5b77"
      },
      "outputs": [
        {
          "output_type": "stream",
          "name": "stdout",
          "text": [
            "Out[10]: [1, 2, 2, 4, 10, 20, 3, 6, 4, 8, 5, 10, 6, 12]"
          ]
        }
      ],
      "source": [
        "rdd_flat_mapped = rdd.flatMap(lambda x: (x, x * 2))\n",
        "rdd_flat_mapped.collect()"
      ]
    },
    {
      "cell_type": "markdown",
      "metadata": {
        "application/vnd.databricks.v1+cell": {
          "cellMetadata": {},
          "inputWidgets": {},
          "nuid": "222114f7-1d50-4bcb-bcb7-e6e7bd63a976",
          "showTitle": false,
          "tableResultSettingsMap": {},
          "title": ""
        },
        "id": "OQV-SBFeDbIZ"
      },
      "source": [
        "4. **`union(otherRDD)`**:\n",
        "   - Returns an RDD containing elements from both RDDs.\n",
        "   "
      ]
    },
    {
      "cell_type": "code",
      "execution_count": null,
      "metadata": {
        "application/vnd.databricks.v1+cell": {
          "cellMetadata": {
            "byteLimit": 2048000,
            "rowLimit": 10000
          },
          "inputWidgets": {},
          "nuid": "a97e2a2b-4875-40e0-a217-e0edd1c6f06c",
          "showTitle": false,
          "tableResultSettingsMap": {},
          "title": ""
        },
        "id": "6juBLPVGDbIZ",
        "outputId": "eb3359db-e552-4e99-95e3-96820d337540"
      },
      "outputs": [
        {
          "output_type": "stream",
          "name": "stdout",
          "text": [
            "Out[11]: [1, 2, 3, 4, 5, 6]"
          ]
        }
      ],
      "source": [
        "rdd1 = sc.parallelize([1, 2, 3])\n",
        "rdd2 = sc.parallelize([4, 5, 6])\n",
        "rdd_union = rdd1.union(rdd2)\n",
        "rdd_union.collect()"
      ]
    },
    {
      "cell_type": "markdown",
      "metadata": {
        "application/vnd.databricks.v1+cell": {
          "cellMetadata": {},
          "inputWidgets": {},
          "nuid": "c8f2f430-0781-4c79-98fb-81568779f711",
          "showTitle": false,
          "tableResultSettingsMap": {},
          "title": ""
        },
        "id": "HXwCHqo4DbIa"
      },
      "source": [
        "5. **`intersection(otherRDD)`**:\n",
        "   - Returns an RDD with common elements between two RDDs.\n",
        "   "
      ]
    },
    {
      "cell_type": "code",
      "execution_count": null,
      "metadata": {
        "application/vnd.databricks.v1+cell": {
          "cellMetadata": {
            "byteLimit": 2048000,
            "rowLimit": 10000
          },
          "inputWidgets": {},
          "nuid": "ce5e9ae7-3141-45f7-b3fc-badd3c3eb417",
          "showTitle": false,
          "tableResultSettingsMap": {},
          "title": ""
        },
        "id": "E8D5ZSkXDbIa",
        "outputId": "20426f49-baef-4ead-aaa7-df7e2a018902"
      },
      "outputs": [
        {
          "output_type": "stream",
          "name": "stdout",
          "text": [
            "Out[12]: []"
          ]
        }
      ],
      "source": [
        "rdd_intersection = rdd1.intersection(rdd2)\n",
        "rdd_intersection.collect()"
      ]
    },
    {
      "cell_type": "markdown",
      "metadata": {
        "application/vnd.databricks.v1+cell": {
          "cellMetadata": {},
          "inputWidgets": {},
          "nuid": "f738db72-ce07-4bd0-89cb-af50864694ff",
          "showTitle": false,
          "tableResultSettingsMap": {},
          "title": ""
        },
        "id": "p1lluXAFDbIa"
      },
      "source": [
        "6. **`distinct()`**:\n",
        "   - Returns an RDD with distinct elements.\n",
        "   "
      ]
    },
    {
      "cell_type": "code",
      "execution_count": null,
      "metadata": {
        "application/vnd.databricks.v1+cell": {
          "cellMetadata": {
            "byteLimit": 2048000,
            "rowLimit": 10000
          },
          "inputWidgets": {},
          "nuid": "bf1d1ee1-e324-4cc4-984a-987dd84d3d96",
          "showTitle": false,
          "tableResultSettingsMap": {},
          "title": ""
        },
        "id": "CdI6oGF7DbIa",
        "outputId": "fadb8804-fd83-4c49-da1c-7bf808e1fd3c"
      },
      "outputs": [
        {
          "output_type": "stream",
          "name": "stdout",
          "text": [
            "Out[13]: [4, 4, 5, 5, 6, 10, 20, 30]"
          ]
        }
      ],
      "source": [
        "rdd123 = sc.parallelize([4,4,5,5,6,10,20,30])\n",
        "rdd123.collect()"
      ]
    },
    {
      "cell_type": "code",
      "execution_count": null,
      "metadata": {
        "application/vnd.databricks.v1+cell": {
          "cellMetadata": {
            "byteLimit": 2048000,
            "rowLimit": 10000
          },
          "inputWidgets": {},
          "nuid": "c3086532-302d-46e2-8870-48b0c070a2b2",
          "showTitle": false,
          "tableResultSettingsMap": {},
          "title": ""
        },
        "id": "ZUcBrEQ9DbIa",
        "outputId": "eb4a8ac3-fbaf-434e-a05e-586ecd1a0233"
      },
      "outputs": [
        {
          "output_type": "stream",
          "name": "stdout",
          "text": [
            "Out[14]: [10, 4, 20, 5, 6, 30]"
          ]
        }
      ],
      "source": [
        "rdd_distinct = rdd123.distinct()\n",
        "rdd_distinct.collect()"
      ]
    },
    {
      "cell_type": "markdown",
      "metadata": {
        "application/vnd.databricks.v1+cell": {
          "cellMetadata": {},
          "inputWidgets": {},
          "nuid": "3f418fac-9eec-4e81-bceb-47a00a9df863",
          "showTitle": false,
          "tableResultSettingsMap": {},
          "title": ""
        },
        "id": "mbyriSFFDbIa"
      },
      "source": [
        "7. **`groupByKey()`** (deprecated, prefer `reduceByKey` or `aggregateByKey`):\n",
        "   - Groups the values for each key in the RDD.\n",
        "   "
      ]
    },
    {
      "cell_type": "code",
      "execution_count": null,
      "metadata": {
        "application/vnd.databricks.v1+cell": {
          "cellMetadata": {
            "byteLimit": 2048000,
            "rowLimit": 10000
          },
          "inputWidgets": {},
          "nuid": "f6677356-64d5-4eb1-b4fa-ba059e2bbdc4",
          "showTitle": false,
          "tableResultSettingsMap": {},
          "title": ""
        },
        "id": "g6o9pLXTDbIa",
        "outputId": "0e91aeef-1cdd-4806-ca4e-fed6cdcab4a6"
      },
      "outputs": [
        {
          "output_type": "stream",
          "name": "stdout",
          "text": [
            "Out[15]: [1, 2, 10, 3, 4, 5, 6]"
          ]
        }
      ],
      "source": [
        "rdd.collect()"
      ]
    },
    {
      "cell_type": "code",
      "execution_count": null,
      "metadata": {
        "application/vnd.databricks.v1+cell": {
          "cellMetadata": {
            "byteLimit": 2048000,
            "rowLimit": 10000
          },
          "inputWidgets": {},
          "nuid": "6a5bf05f-5027-47dc-a703-532ad47bf8eb",
          "showTitle": false,
          "tableResultSettingsMap": {},
          "title": ""
        },
        "id": "hr8aejA5DbIa",
        "outputId": "e6a81ff5-830d-4014-9090-a77097107382"
      },
      "outputs": [
        {
          "output_type": "stream",
          "name": "stdout",
          "text": [
            "Out[16]: [(0, <pyspark.resultiterable.ResultIterable at 0x7f11e1bb4e50>),\n (1, <pyspark.resultiterable.ResultIterable at 0x7f11e1bb4f40>)]"
          ]
        }
      ],
      "source": [
        "rdd_grouped = rdd.keyBy(lambda x: x % 2).groupByKey()\n",
        "rdd_grouped.collect()"
      ]
    },
    {
      "cell_type": "markdown",
      "metadata": {
        "application/vnd.databricks.v1+cell": {
          "cellMetadata": {},
          "inputWidgets": {},
          "nuid": "88459a25-1a6e-4fd1-8909-f63015f17c8b",
          "showTitle": false,
          "tableResultSettingsMap": {},
          "title": ""
        },
        "id": "u_pbNUbyDbIa"
      },
      "source": [
        "8. **`reduceByKey(func)`**:\n",
        "   - Reduces values for each key using the specified `func`.\n",
        "   "
      ]
    },
    {
      "cell_type": "code",
      "execution_count": null,
      "metadata": {
        "application/vnd.databricks.v1+cell": {
          "cellMetadata": {
            "byteLimit": 2048000,
            "rowLimit": 10000
          },
          "inputWidgets": {},
          "nuid": "ba5ba811-ecd7-4938-8790-e958311624cc",
          "showTitle": false,
          "tableResultSettingsMap": {},
          "title": ""
        },
        "id": "9YyFf7eeDbIb",
        "outputId": "fef573c4-04b2-427e-8eb6-024bdeef48c7"
      },
      "outputs": [
        {
          "output_type": "stream",
          "name": "stdout",
          "text": [
            "Out[17]: [1, 2, 17, 20, 15, 4, 5, 5]"
          ]
        }
      ],
      "source": [
        "data = [1, 2, 17, 20 ,15, 4, 5, 5]\n",
        "rdd = sc.parallelize(data)\n",
        "rdd.collect()"
      ]
    },
    {
      "cell_type": "code",
      "execution_count": null,
      "metadata": {
        "application/vnd.databricks.v1+cell": {
          "cellMetadata": {
            "byteLimit": 2048000,
            "rowLimit": 10000
          },
          "inputWidgets": {},
          "nuid": "e3d18cc4-7dae-4e7e-9931-d215e0f2ee09",
          "showTitle": false,
          "tableResultSettingsMap": {},
          "title": ""
        },
        "id": "lWAyuEGWDbIb",
        "outputId": "63ace467-efa1-4fc3-c147-3c12217f32cf"
      },
      "outputs": [
        {
          "output_type": "stream",
          "name": "stdout",
          "text": [
            "Out[18]: [1, 2, 17, 20, 15, 4, 5, 5]"
          ]
        }
      ],
      "source": [
        "rdd.collect()"
      ]
    },
    {
      "cell_type": "code",
      "execution_count": null,
      "metadata": {
        "application/vnd.databricks.v1+cell": {
          "cellMetadata": {
            "byteLimit": 2048000,
            "rowLimit": 10000
          },
          "inputWidgets": {},
          "nuid": "2830013e-eb61-42d0-bb48-35aa61771f59",
          "showTitle": false,
          "tableResultSettingsMap": {},
          "title": ""
        },
        "id": "gzLdq8r4DbIb",
        "outputId": "75991f9c-cbe7-4249-cc19-3fe8737b582c"
      },
      "outputs": [
        {
          "output_type": "stream",
          "name": "stdout",
          "text": [
            "Out[19]: [15]"
          ]
        }
      ],
      "source": [
        "rdd.filter(lambda x:x%3==0).collect()"
      ]
    },
    {
      "cell_type": "code",
      "execution_count": null,
      "metadata": {
        "application/vnd.databricks.v1+cell": {
          "cellMetadata": {
            "byteLimit": 2048000,
            "rowLimit": 10000
          },
          "inputWidgets": {},
          "nuid": "b67132a5-ec28-4441-8686-d1d701763056",
          "showTitle": false,
          "tableResultSettingsMap": {},
          "title": ""
        },
        "id": "2U8sQrg2DbIb",
        "outputId": "17bce527-de99-4ac1-d1bf-463b1427856b"
      },
      "outputs": [
        {
          "output_type": "stream",
          "name": "stdout",
          "text": [
            "Out[20]: 1020000"
          ]
        }
      ],
      "source": [
        "rdd.reduce(lambda x,y:x*y)"
      ]
    },
    {
      "cell_type": "code",
      "execution_count": null,
      "metadata": {
        "application/vnd.databricks.v1+cell": {
          "cellMetadata": {
            "byteLimit": 2048000,
            "rowLimit": 10000
          },
          "inputWidgets": {},
          "nuid": "10d32064-961a-44d5-b0f0-f59494780ef7",
          "showTitle": false,
          "tableResultSettingsMap": {},
          "title": ""
        },
        "id": "se_86p_eDbIb",
        "outputId": "75bb2fa2-74c7-4e5b-98ee-992f63e6e390"
      },
      "outputs": [
        {
          "output_type": "stream",
          "name": "stdout",
          "text": [
            "Out[21]: [(1, 1), (2, 2), (17, 17), (20, 20), (15, 15), (4, 4), (5, 5), (5, 5)]"
          ]
        }
      ],
      "source": [
        "rdd.keyBy(lambda x: x).collect()"
      ]
    },
    {
      "cell_type": "code",
      "execution_count": null,
      "metadata": {
        "application/vnd.databricks.v1+cell": {
          "cellMetadata": {
            "byteLimit": 2048000,
            "rowLimit": 10000
          },
          "inputWidgets": {},
          "nuid": "4d4315d6-84b0-4674-a65a-22abec04da8b",
          "showTitle": false,
          "tableResultSettingsMap": {},
          "title": ""
        },
        "id": "T6bmIr1qDbIb",
        "outputId": "8ff02fe8-b1a3-4021-de45-07c52f00fb9e"
      },
      "outputs": [
        {
          "output_type": "stream",
          "name": "stdout",
          "text": [
            "Out[22]: [(1, 1), (2, 2), (4, 4), (5, 10), (15, 15), (17, 17), (20, 20)]"
          ]
        }
      ],
      "source": [
        "rdd_red = rdd.keyBy(lambda x: x).reduceByKey(lambda x, y: x + y).sortByKey()\n",
        "rdd_red.collect()"
      ]
    },
    {
      "cell_type": "code",
      "execution_count": null,
      "metadata": {
        "application/vnd.databricks.v1+cell": {
          "cellMetadata": {
            "byteLimit": 2048000,
            "rowLimit": 10000
          },
          "inputWidgets": {},
          "nuid": "325a473e-a9db-466e-8102-111c6f42d0b3",
          "showTitle": false,
          "tableResultSettingsMap": {},
          "title": ""
        },
        "id": "5EdWPkM7DbIb",
        "outputId": "1a7f3963-0437-49a5-8d99-2acb1f9e777a"
      },
      "outputs": [
        {
          "output_type": "stream",
          "name": "stdout",
          "text": [
            "Out[23]: [(0, 50), (1, 85)]"
          ]
        }
      ],
      "source": [
        "rdd_reduced = rdd.keyBy(lambda x: x % 2).reduceByKey(lambda x, y: x + y*2)\n",
        "rdd_reduced.collect()"
      ]
    },
    {
      "cell_type": "markdown",
      "metadata": {
        "application/vnd.databricks.v1+cell": {
          "cellMetadata": {},
          "inputWidgets": {},
          "nuid": "f06c8819-16ab-4c0c-830a-b619014313e7",
          "showTitle": false,
          "tableResultSettingsMap": {},
          "title": ""
        },
        "id": "oxHiuqk8DbIb"
      },
      "source": [
        "9. **`aggregateByKey(zeroValue, seqFunc, combFunc)`**:\n",
        "   - Aggregates values for each key using sequence and combination functions.\n",
        "   "
      ]
    },
    {
      "cell_type": "code",
      "execution_count": null,
      "metadata": {
        "application/vnd.databricks.v1+cell": {
          "cellMetadata": {
            "byteLimit": 2048000,
            "rowLimit": 10000
          },
          "inputWidgets": {},
          "nuid": "93b916cd-97c5-4bf6-bd4b-4a9b5a533dd5",
          "showTitle": false,
          "tableResultSettingsMap": {},
          "title": ""
        },
        "id": "y_ZomVkrDbIb",
        "outputId": "d09da635-a3ad-4838-d519-070976ecb2d0"
      },
      "outputs": [
        {
          "output_type": "stream",
          "name": "stdout",
          "text": [
            "Out[24]: [(1, 1), (0, 2), (1, 17), (0, 20), (1, 15), (0, 4), (1, 5), (1, 5)]"
          ]
        }
      ],
      "source": [
        "rdd.keyBy(lambda x: x % 2).collect()"
      ]
    },
    {
      "cell_type": "code",
      "execution_count": null,
      "metadata": {
        "application/vnd.databricks.v1+cell": {
          "cellMetadata": {
            "byteLimit": 2048000,
            "rowLimit": 10000
          },
          "inputWidgets": {},
          "nuid": "8d6f47e4-9dec-4263-b2c6-fce3f42787d4",
          "showTitle": false,
          "tableResultSettingsMap": {},
          "title": ""
        },
        "id": "sMpLFgprDbIb",
        "outputId": "5015323f-256f-42ba-9f49-315f77c84e80"
      },
      "outputs": [
        {
          "output_type": "stream",
          "name": "stdout",
          "text": [
            "Out[25]: [(0, 26), (1, 43)]"
          ]
        }
      ],
      "source": [
        "seqOp = (lambda acc, value: acc + value)\n",
        "combOp = (lambda acc1, acc2: acc1 + acc2)\n",
        "rdd_aggregated = rdd.keyBy(lambda x: x % 2).aggregateByKey(0, seqOp, combOp)\n",
        "rdd_aggregated.collect()"
      ]
    },
    {
      "cell_type": "markdown",
      "metadata": {
        "application/vnd.databricks.v1+cell": {
          "cellMetadata": {},
          "inputWidgets": {},
          "nuid": "18702638-74b6-4e4f-b913-2b4311059318",
          "showTitle": false,
          "tableResultSettingsMap": {},
          "title": ""
        },
        "id": "dd6kMBXjDbIc"
      },
      "source": [
        "### 10. **`sortByKey(ascending=True)`**:\n",
        "    - Sorts RDD elements by key.\n",
        "    "
      ]
    },
    {
      "cell_type": "code",
      "execution_count": null,
      "metadata": {
        "application/vnd.databricks.v1+cell": {
          "cellMetadata": {
            "byteLimit": 2048000,
            "rowLimit": 10000
          },
          "inputWidgets": {},
          "nuid": "6496fd76-0ca7-48e9-b9b2-fcbd55dfb16b",
          "showTitle": false,
          "tableResultSettingsMap": {},
          "title": ""
        },
        "id": "6ZcwjR3ADbIc",
        "outputId": "fa872846-de17-4ce3-917d-58c3fbbb73d6"
      },
      "outputs": [
        {
          "output_type": "stream",
          "name": "stdout",
          "text": [
            "Out[26]: [(0, 2), (0, 20), (0, 4), (1, 1), (1, 17), (1, 15), (1, 5), (1, 5)]"
          ]
        }
      ],
      "source": [
        "rdd_sorted = rdd.keyBy(lambda x: x % 2).sortByKey()\n",
        "rdd_sorted.collect()"
      ]
    },
    {
      "cell_type": "markdown",
      "metadata": {
        "application/vnd.databricks.v1+cell": {
          "cellMetadata": {},
          "inputWidgets": {},
          "nuid": "b035eff7-bab2-4cf0-9aef-fcdcabfd2d4f",
          "showTitle": false,
          "tableResultSettingsMap": {},
          "title": ""
        },
        "id": "5aZcNoylDbIc"
      },
      "source": [
        "11. **`coalesce(numPartitions)`**:\n",
        "    - Reduces the number of partitions to `numPartitions`.\n",
        "    "
      ]
    },
    {
      "cell_type": "code",
      "execution_count": null,
      "metadata": {
        "application/vnd.databricks.v1+cell": {
          "cellMetadata": {
            "byteLimit": 2048000,
            "rowLimit": 10000
          },
          "inputWidgets": {},
          "nuid": "8c2d1e88-f4e8-469a-97ee-63b446d998be",
          "showTitle": false,
          "tableResultSettingsMap": {},
          "title": ""
        },
        "id": "tX_v0mDBDbIc"
      },
      "outputs": [],
      "source": [
        "rdd_coalesced = rdd.coalesce(1)\n",
        ""
      ]
    },
    {
      "cell_type": "markdown",
      "metadata": {
        "application/vnd.databricks.v1+cell": {
          "cellMetadata": {},
          "inputWidgets": {},
          "nuid": "0728705d-27aa-4866-bd9b-9535499f4998",
          "showTitle": false,
          "tableResultSettingsMap": {},
          "title": ""
        },
        "id": "ubsXAvv5DbIc"
      },
      "source": [
        "12. **`repartition(numPartitions)`**:\n",
        "    - Increases or decreases the number of partitions to `numPartitions`.\n",
        "    "
      ]
    },
    {
      "cell_type": "code",
      "execution_count": null,
      "metadata": {
        "application/vnd.databricks.v1+cell": {
          "cellMetadata": {
            "byteLimit": 2048000,
            "rowLimit": 10000
          },
          "inputWidgets": {},
          "nuid": "0fc40ccb-937c-465c-8d2f-6092e0e76f37",
          "showTitle": false,
          "tableResultSettingsMap": {},
          "title": ""
        },
        "id": "qO_z6QZeDbIg",
        "outputId": "71b88e3e-cf65-46e9-8776-f94c33310645"
      },
      "outputs": [
        {
          "output_type": "stream",
          "name": "stdout",
          "text": [
            "Out[28]: 8"
          ]
        }
      ],
      "source": [
        "rdd.getNumPartitions()"
      ]
    },
    {
      "cell_type": "code",
      "execution_count": null,
      "metadata": {
        "application/vnd.databricks.v1+cell": {
          "cellMetadata": {
            "byteLimit": 2048000,
            "rowLimit": 10000
          },
          "inputWidgets": {},
          "nuid": "c102aa8b-1f4f-4e02-98b9-5c3ef8859d2f",
          "showTitle": false,
          "tableResultSettingsMap": {},
          "title": ""
        },
        "id": "5_i4OHmtDbIh",
        "outputId": "0f9e20a6-6d65-4c40-960b-48403bac7a38"
      },
      "outputs": [
        {
          "output_type": "display_data",
          "data": {
            "text/plain": [
              "\u001b[0;31m---------------------------------------------------------------------------\u001b[0m\n",
              "\u001b[0;31mNameError\u001b[0m                                 Traceback (most recent call last)\n",
              "File \u001b[0;32m<command-1175556832608236>:1\u001b[0m\n",
              "\u001b[0;32m----> 1\u001b[0m \u001b[43mrdd_repartitioned\u001b[49m\u001b[38;5;241m.\u001b[39mgetNumPartitions()\n",
              "\n",
              "\u001b[0;31mNameError\u001b[0m: name 'rdd_repartitioned' is not defined"
            ]
          },
          "metadata": {
            "application/vnd.databricks.v1+output": {
              "arguments": {},
              "data": "\u001b[0;31m---------------------------------------------------------------------------\u001b[0m\n\u001b[0;31mNameError\u001b[0m                                 Traceback (most recent call last)\nFile \u001b[0;32m<command-1175556832608236>:1\u001b[0m\n\u001b[0;32m----> 1\u001b[0m \u001b[43mrdd_repartitioned\u001b[49m\u001b[38;5;241m.\u001b[39mgetNumPartitions()\n\n\u001b[0;31mNameError\u001b[0m: name 'rdd_repartitioned' is not defined",
              "errorSummary": "<span class='ansi-red-fg'>NameError</span>: name 'rdd_repartitioned' is not defined",
              "errorTraceType": "ansi",
              "metadata": {},
              "type": "ipynbError"
            }
          }
        }
      ],
      "source": [
        "rdd_repartitioned.getNumPartitions()"
      ]
    },
    {
      "cell_type": "code",
      "execution_count": null,
      "metadata": {
        "application/vnd.databricks.v1+cell": {
          "cellMetadata": {
            "byteLimit": 2048000,
            "rowLimit": 10000
          },
          "inputWidgets": {},
          "nuid": "0217f2cb-ba4c-464a-ba82-99538829ae30",
          "showTitle": false,
          "tableResultSettingsMap": {},
          "title": ""
        },
        "id": "kHFzWXSjDbIh"
      },
      "outputs": [],
      "source": [
        "rdd = rdd.repartition(2)"
      ]
    },
    {
      "cell_type": "code",
      "execution_count": null,
      "metadata": {
        "application/vnd.databricks.v1+cell": {
          "cellMetadata": {
            "byteLimit": 2048000,
            "rowLimit": 10000
          },
          "inputWidgets": {},
          "nuid": "5894e7a6-9336-429a-8a2d-8c899eb68116",
          "showTitle": false,
          "tableResultSettingsMap": {},
          "title": ""
        },
        "id": "_ib3whyzDbIh",
        "outputId": "bfbb947c-f313-4fe1-adc0-1582536d3445"
      },
      "outputs": [
        {
          "output_type": "stream",
          "name": "stdout",
          "text": [
            "Out[31]: [4, 5, 5, 17, 20, 1, 15, 2]"
          ]
        }
      ],
      "source": [
        "rdd_repartitioned = rdd.repartition(6)\n",
        "rdd_repartitioned.collect()"
      ]
    },
    {
      "cell_type": "markdown",
      "metadata": {
        "application/vnd.databricks.v1+cell": {
          "cellMetadata": {},
          "inputWidgets": {},
          "nuid": "d490a5d8-3b7b-4f99-8ff6-634df23a1b61",
          "showTitle": false,
          "tableResultSettingsMap": {},
          "title": ""
        },
        "id": "hdHtE4iqDbIh"
      },
      "source": [
        "#### Action Methods\n",
        "\n",
        "1. **`collect()`**:\n",
        "   - Returns all elements from the RDD to the driver.\n",
        "   "
      ]
    },
    {
      "cell_type": "code",
      "execution_count": null,
      "metadata": {
        "application/vnd.databricks.v1+cell": {
          "cellMetadata": {
            "byteLimit": 2048000,
            "rowLimit": 10000
          },
          "inputWidgets": {},
          "nuid": "e54e8de0-e23c-4de4-aa33-d165414432b5",
          "showTitle": false,
          "tableResultSettingsMap": {},
          "title": ""
        },
        "id": "MG_0uMZ0DbIh"
      },
      "outputs": [],
      "source": [
        "collected_data = rdd.collect()\n",
        ""
      ]
    },
    {
      "cell_type": "markdown",
      "metadata": {
        "application/vnd.databricks.v1+cell": {
          "cellMetadata": {},
          "inputWidgets": {},
          "nuid": "1ea5a5fc-8b01-4851-99b4-90374b7ebafb",
          "showTitle": false,
          "tableResultSettingsMap": {},
          "title": ""
        },
        "id": "hM1HqeDmDbIh"
      },
      "source": [
        "2. **`count()`**:\n",
        "   - Returns the number of elements in the RDD.\n",
        "   "
      ]
    },
    {
      "cell_type": "code",
      "execution_count": null,
      "metadata": {
        "application/vnd.databricks.v1+cell": {
          "cellMetadata": {
            "byteLimit": 2048000,
            "rowLimit": 10000
          },
          "inputWidgets": {},
          "nuid": "f3fff216-f63f-46ab-8b34-b7ca725e6f4d",
          "showTitle": false,
          "tableResultSettingsMap": {},
          "title": ""
        },
        "id": "f8K6FBN1DbIh"
      },
      "outputs": [],
      "source": [
        "count = rdd.count()\n",
        ""
      ]
    },
    {
      "cell_type": "markdown",
      "metadata": {
        "application/vnd.databricks.v1+cell": {
          "cellMetadata": {},
          "inputWidgets": {},
          "nuid": "b2fb9402-671c-403c-a5ff-18a14eae3551",
          "showTitle": false,
          "tableResultSettingsMap": {},
          "title": ""
        },
        "id": "ltrRdleODbIh"
      },
      "source": [
        "3. **`take(n)`**:\n",
        "   - Returns the first `n` elements from the RDD.\n",
        "   "
      ]
    },
    {
      "cell_type": "code",
      "execution_count": null,
      "metadata": {
        "application/vnd.databricks.v1+cell": {
          "cellMetadata": {
            "byteLimit": 2048000,
            "rowLimit": 10000
          },
          "inputWidgets": {},
          "nuid": "fd3020ab-a643-4835-8205-1f7bf4d4ac27",
          "showTitle": false,
          "tableResultSettingsMap": {},
          "title": ""
        },
        "id": "dISR9vRfDbIh"
      },
      "outputs": [],
      "source": [
        "first_elements = rdd.take(5)"
      ]
    },
    {
      "cell_type": "markdown",
      "metadata": {
        "application/vnd.databricks.v1+cell": {
          "cellMetadata": {},
          "inputWidgets": {},
          "nuid": "6b96ac80-cf9c-438a-b866-d2f93b6d4348",
          "showTitle": false,
          "tableResultSettingsMap": {},
          "title": ""
        },
        "id": "d6WnoywLDbIh"
      },
      "source": [
        "4. **`reduce(func)`**:\n",
        "   - Reduces the elements of the RDD using the specified associative and commutative `func`.\n",
        "   "
      ]
    },
    {
      "cell_type": "code",
      "execution_count": null,
      "metadata": {
        "application/vnd.databricks.v1+cell": {
          "cellMetadata": {
            "byteLimit": 2048000,
            "rowLimit": 10000
          },
          "inputWidgets": {},
          "nuid": "1699ddaa-8bd2-4a7a-8e00-f541483caa16",
          "showTitle": false,
          "tableResultSettingsMap": {},
          "title": ""
        },
        "id": "m0w2agKnDbIh",
        "outputId": "1c61a1cf-8f9a-424b-afcb-6ded7fc97600"
      },
      "outputs": [
        {
          "output_type": "stream",
          "name": "stdout",
          "text": [
            "Out[35]: 69"
          ]
        }
      ],
      "source": [
        "rdd.reduce(lambda x, y: x + y)"
      ]
    },
    {
      "cell_type": "markdown",
      "metadata": {
        "application/vnd.databricks.v1+cell": {
          "cellMetadata": {},
          "inputWidgets": {},
          "nuid": "da10331b-9964-490d-8dc2-c7f1a7816f21",
          "showTitle": false,
          "tableResultSettingsMap": {},
          "title": ""
        },
        "id": "zJCBqChiDbIi"
      },
      "source": [
        "5. **`foreach(func)`**:\n",
        "   - Applies `func` to each element of the RDD (usually for side effects).\n",
        "   "
      ]
    },
    {
      "cell_type": "code",
      "execution_count": null,
      "metadata": {
        "application/vnd.databricks.v1+cell": {
          "cellMetadata": {
            "byteLimit": 2048000,
            "rowLimit": 10000
          },
          "inputWidgets": {},
          "nuid": "d444111c-f7ef-40b0-aeec-23ae5c9a2a2e",
          "showTitle": false,
          "tableResultSettingsMap": {},
          "title": ""
        },
        "id": "thUXOCa6DbIi",
        "outputId": "714d7108-d4b2-4089-c5cc-30b92e13c4f1"
      },
      "outputs": [
        {
          "output_type": "stream",
          "name": "stdout",
          "text": [
            "Out[36]: [17, 20, 15, 4, 5, 1, 2, 5]"
          ]
        }
      ],
      "source": [
        "rdd.collect()"
      ]
    },
    {
      "cell_type": "code",
      "execution_count": null,
      "metadata": {
        "application/vnd.databricks.v1+cell": {
          "cellMetadata": {
            "byteLimit": 2048000,
            "rowLimit": 10000
          },
          "inputWidgets": {},
          "nuid": "8a07610f-f29d-4515-9cc3-66ef2b1615a7",
          "showTitle": false,
          "tableResultSettingsMap": {},
          "title": ""
        },
        "id": "xKxP2SIYDbIi"
      },
      "outputs": [],
      "source": [
        "rdd.foreach(lambda x: print(x))"
      ]
    },
    {
      "cell_type": "markdown",
      "metadata": {
        "application/vnd.databricks.v1+cell": {
          "cellMetadata": {},
          "inputWidgets": {},
          "nuid": "b88f3efa-c59d-4d7a-8b61-9876af3a6885",
          "showTitle": false,
          "tableResultSettingsMap": {},
          "title": ""
        },
        "id": "sPJzqKSHDbIi"
      },
      "source": [
        "6. **`saveAsTextFile(path)`**:\n",
        "   - Saves the RDD as a text file in the specified path.\n",
        "   "
      ]
    },
    {
      "cell_type": "code",
      "execution_count": null,
      "metadata": {
        "application/vnd.databricks.v1+cell": {
          "cellMetadata": {
            "byteLimit": 2048000,
            "rowLimit": 10000
          },
          "inputWidgets": {},
          "nuid": "00b69f33-66bb-40f4-a126-0619f7f0577f",
          "showTitle": false,
          "tableResultSettingsMap": {},
          "title": ""
        },
        "id": "SVb7-xc9DbIi"
      },
      "outputs": [],
      "source": [
        "rdd.saveAsTextFile(\"output_directory1\")"
      ]
    },
    {
      "cell_type": "code",
      "execution_count": null,
      "metadata": {
        "application/vnd.databricks.v1+cell": {
          "cellMetadata": {
            "byteLimit": 2048000,
            "rowLimit": 10000
          },
          "inputWidgets": {},
          "nuid": "1f9dbbee-d093-4586-972b-6b2a20847b31",
          "showTitle": false,
          "tableResultSettingsMap": {},
          "title": ""
        },
        "id": "_Ebe9gXGDbIi"
      },
      "outputs": [],
      "source": [
        "rdd_repartitioned.saveAsTextFile(\"output_part\")"
      ]
    },
    {
      "cell_type": "markdown",
      "metadata": {
        "application/vnd.databricks.v1+cell": {
          "cellMetadata": {},
          "inputWidgets": {},
          "nuid": "b0477454-e378-4386-89c8-16f0ae5b2547",
          "showTitle": false,
          "tableResultSettingsMap": {},
          "title": ""
        },
        "id": "vGJ2a0zGDbIi"
      },
      "source": [
        "#### Other Methods and Attributes\n",
        "\n",
        "1. **`getNumPartitions()`**:\n",
        "   - Returns the number of partitions in the RDD.\n",
        "   "
      ]
    },
    {
      "cell_type": "code",
      "execution_count": null,
      "metadata": {
        "application/vnd.databricks.v1+cell": {
          "cellMetadata": {
            "byteLimit": 2048000,
            "rowLimit": 10000
          },
          "inputWidgets": {},
          "nuid": "8ec3de3d-f2bf-4c16-bb74-b512b6ebb5b8",
          "showTitle": false,
          "tableResultSettingsMap": {},
          "title": ""
        },
        "id": "F3Qa70NyDbIi",
        "outputId": "22b81476-7b65-45b5-a315-331771e57921"
      },
      "outputs": [
        {
          "output_type": "stream",
          "name": "stdout",
          "text": [
            "Out[40]: 6"
          ]
        }
      ],
      "source": [
        "num_partitions = rdd_repartitioned.getNumPartitions()\n",
        "num_partitions"
      ]
    },
    {
      "cell_type": "markdown",
      "metadata": {
        "application/vnd.databricks.v1+cell": {
          "cellMetadata": {},
          "inputWidgets": {},
          "nuid": "30926413-7af4-49ca-8db5-417d4cd3d988",
          "showTitle": false,
          "tableResultSettingsMap": {},
          "title": ""
        },
        "id": "NdlFF7DoDbIi"
      },
      "source": [
        "2. **`toDF()`**:\n",
        "   - Converts RDD to DataFrame (requires `pyspark.sql` module).\n",
        "   "
      ]
    },
    {
      "cell_type": "code",
      "execution_count": null,
      "metadata": {
        "application/vnd.databricks.v1+cell": {
          "cellMetadata": {
            "byteLimit": 2048000,
            "rowLimit": 10000
          },
          "inputWidgets": {},
          "nuid": "362aba5b-b803-4618-8275-bc48e7e7b67c",
          "showTitle": false,
          "tableResultSettingsMap": {},
          "title": ""
        },
        "id": "1eVn7iAIDbIj"
      },
      "outputs": [],
      "source": [
        "# Convert RDD to DataFrame with a schema\n",
        "df = rdd.map(lambda x: (x, )).toDF([\"value\"])"
      ]
    },
    {
      "cell_type": "code",
      "execution_count": null,
      "metadata": {
        "application/vnd.databricks.v1+cell": {
          "cellMetadata": {
            "byteLimit": 2048000,
            "rowLimit": 10000
          },
          "inputWidgets": {},
          "nuid": "b8f0759d-29e1-4d6e-9616-16da0834ddc9",
          "showTitle": false,
          "tableResultSettingsMap": {},
          "title": ""
        },
        "id": "J0y9RgxYDbIj",
        "outputId": "cda943d6-152e-4b2b-84b7-f07c6d412a0d"
      },
      "outputs": [
        {
          "output_type": "stream",
          "name": "stdout",
          "text": [
            "+-----+\n|value|\n+-----+\n|   17|\n|   20|\n|   15|\n|    4|\n|    5|\n|    1|\n|    2|\n|    5|\n+-----+\n\n"
          ]
        }
      ],
      "source": [
        "# Show DataFrame\n",
        "df.show()\n",
        ""
      ]
    },
    {
      "cell_type": "markdown",
      "metadata": {
        "application/vnd.databricks.v1+cell": {
          "cellMetadata": {},
          "inputWidgets": {},
          "nuid": "7b06bb5e-0824-4e45-9a8f-e61e460b0718",
          "showTitle": false,
          "tableResultSettingsMap": {},
          "title": ""
        },
        "id": "ATOY_DSgDbIj"
      },
      "source": [
        "3. **`persist(storageLevel)`**:\n",
        "   - Persists RDD with specified storage level (e.g., MEMORY_ONLY, MEMORY_AND_DISK).\n",
        "   "
      ]
    },
    {
      "cell_type": "code",
      "execution_count": null,
      "metadata": {
        "application/vnd.databricks.v1+cell": {
          "cellMetadata": {
            "byteLimit": 2048000,
            "rowLimit": 10000
          },
          "inputWidgets": {},
          "nuid": "a0794eab-996c-42e5-a5f7-98c81aed10e9",
          "showTitle": false,
          "tableResultSettingsMap": {},
          "title": ""
        },
        "id": "p0lJQbPcDbIj",
        "outputId": "91cc1197-9056-433c-cd00-3fa1d73a7c27"
      },
      "outputs": [
        {
          "output_type": "stream",
          "name": "stdout",
          "text": [
            "Out[43]: MapPartitionsRDD[71] at coalesce at NativeMethodAccessorImpl.java:0"
          ]
        }
      ],
      "source": [
        "from pyspark import StorageLevel\n",
        "rdd.persist(StorageLevel.MEMORY_AND_DISK)\n",
        ""
      ]
    },
    {
      "cell_type": "markdown",
      "metadata": {
        "application/vnd.databricks.v1+cell": {
          "cellMetadata": {},
          "inputWidgets": {},
          "nuid": "0ab442cb-2db1-4db7-b149-438cb804fe4b",
          "showTitle": false,
          "tableResultSettingsMap": {},
          "title": ""
        },
        "id": "f6w7MklCDbIj"
      },
      "source": [
        "4. **`unpersist()`**:\n",
        "   - Removes RDD from memory/disk cache.\n",
        "   "
      ]
    },
    {
      "cell_type": "code",
      "execution_count": null,
      "metadata": {
        "application/vnd.databricks.v1+cell": {
          "cellMetadata": {
            "byteLimit": 2048000,
            "rowLimit": 10000
          },
          "inputWidgets": {},
          "nuid": "f973003a-9498-4a8f-93a5-5e097d4427ea",
          "showTitle": false,
          "tableResultSettingsMap": {},
          "title": ""
        },
        "id": "0PnAiwboDbIj",
        "outputId": "46bc371f-d01c-4d38-e496-ff70f3f33c71"
      },
      "outputs": [
        {
          "output_type": "stream",
          "name": "stdout",
          "text": [
            "Out[44]: MapPartitionsRDD[71] at coalesce at NativeMethodAccessorImpl.java:0"
          ]
        }
      ],
      "source": [
        "rdd.unpersist()"
      ]
    },
    {
      "cell_type": "markdown",
      "metadata": {
        "application/vnd.databricks.v1+cell": {
          "cellMetadata": {},
          "inputWidgets": {},
          "nuid": "ce076db0-8945-4a6f-807d-6a32adbec938",
          "showTitle": false,
          "tableResultSettingsMap": {},
          "title": ""
        },
        "id": "FPFoyDgjDbIj"
      },
      "source": [
        "5. **`is_cached()`**:\n",
        "   - Returns `True` if the RDD is cached.\n",
        "   "
      ]
    },
    {
      "cell_type": "code",
      "execution_count": null,
      "metadata": {
        "application/vnd.databricks.v1+cell": {
          "cellMetadata": {
            "byteLimit": 2048000,
            "rowLimit": 10000
          },
          "inputWidgets": {},
          "nuid": "21aae156-19ac-4412-b0de-1ee8f0777deb",
          "showTitle": false,
          "tableResultSettingsMap": {},
          "title": ""
        },
        "id": "zmPNek1SDbIj",
        "outputId": "4a3266f7-a08f-41ff-c5c0-2e90f1af3ff2"
      },
      "outputs": [
        {
          "output_type": "stream",
          "name": "stdout",
          "text": [
            "Out[45]: False"
          ]
        }
      ],
      "source": [
        "######\n",
        "is_cached = rdd.is_cached\n",
        "is_cached"
      ]
    },
    {
      "cell_type": "markdown",
      "metadata": {
        "application/vnd.databricks.v1+cell": {
          "cellMetadata": {},
          "inputWidgets": {},
          "nuid": "121c66a4-ecec-4b56-b14c-470c395f3ef8",
          "showTitle": false,
          "tableResultSettingsMap": {},
          "title": ""
        },
        "id": "kg40W-7DDbIj"
      },
      "source": [
        "### Notes:\n",
        "- **Lazy Evaluation**: Transformations on RDDs are lazily evaluated, meaning they are not computed until an action is called.\n",
        "- **Immutability**: RDDs are immutable once created; transformations create new RDDs rather than modifying existing ones.\n",
        "- **Context**: `sc` in the examples refers to the SparkContext object (`sc = SparkContext(...)`) which is typically created when starting a Spark application.\n",
        "\n",
        "This cheatsheet covers a wide range of RDD methods, transformations, actions, and attributes in Apache Spark using Python (PySpark). Adjustments may be needed for specific use cases or version differences in Spark."
      ]
    },
    {
      "cell_type": "code",
      "execution_count": null,
      "metadata": {
        "application/vnd.databricks.v1+cell": {
          "cellMetadata": {},
          "inputWidgets": {},
          "nuid": "6eafa730-ff2f-4226-a509-f221a83980b6",
          "showTitle": false,
          "tableResultSettingsMap": {},
          "title": ""
        },
        "id": "nZptoNsJDbIk"
      },
      "outputs": [],
      "source": []
    }
  ],
  "metadata": {
    "application/vnd.databricks.v1+notebook": {
      "computePreferences": null,
      "dashboards": [],
      "environmentMetadata": null,
      "language": "python",
      "notebookMetadata": {
        "pythonIndentUnit": 4
      },
      "notebookName": "03-RDD Commands",
      "widgets": {}
    },
    "kernelspec": {
      "display_name": "Python 3",
      "language": "python",
      "name": "python3"
    },
    "language_info": {
      "codemirror_mode": {
        "name": "ipython",
        "version": 3
      },
      "file_extension": ".py",
      "mimetype": "text/x-python",
      "name": "python",
      "nbconvert_exporter": "python",
      "pygments_lexer": "ipython3",
      "version": "3.7.4"
    },
    "colab": {
      "provenance": [],
      "include_colab_link": true
    }
  },
  "nbformat": 4,
  "nbformat_minor": 0
}