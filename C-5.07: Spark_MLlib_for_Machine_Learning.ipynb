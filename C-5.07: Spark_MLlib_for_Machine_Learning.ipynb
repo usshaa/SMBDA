{
  "cells": [
    {
      "cell_type": "markdown",
      "metadata": {
        "id": "view-in-github",
        "colab_type": "text"
      },
      "source": [
        "<a href=\"https://colab.research.google.com/github/usshaa/SMBDA/blob/main/C-5.7%3A%20Spark_MLlib_for_Machine_Learning.ipynb\" target=\"_parent\"><img src=\"https://colab.research.google.com/assets/colab-badge.svg\" alt=\"Open In Colab\"/></a>"
      ]
    },
    {
      "cell_type": "markdown",
      "metadata": {
        "application/vnd.databricks.v1+cell": {
          "cellMetadata": {},
          "inputWidgets": {},
          "nuid": "10b1c634-13cc-4f13-9630-e000d45361bc",
          "showTitle": false,
          "tableResultSettingsMap": {},
          "title": ""
        },
        "id": "JFHz5j-BEn3B"
      },
      "source": [
        "### Spark MLlib for Machine Learning\n",
        "\n",
        "#### Overview of Spark MLlib (Machine Learning Library)\n",
        "\n",
        "**Spark MLlib** is Apache Spark's scalable machine learning library. It is designed to simplify the creation and deployment of machine learning models by providing common algorithms and utilities for machine learning and statistical analysis. Below is an overview of its key components and functionalities.\n",
        "\n",
        "<img src=\"https://yurongfan.wordpress.com/wp-content/uploads/2017/01/sparkml.jpg?w=680\">\n",
        "\n",
        "#### Key Components of Spark MLlib\n",
        "\n",
        "1. **Algorithms**\n",
        "   - **Classification**: Logistic Regression, Decision Trees, Random Forest, Gradient-Boosted Trees, Support Vector Machines (SVMs), etc.\n",
        "   - **Regression**: Linear Regression, Decision Trees, Random Forest, Gradient-Boosted Trees, etc.\n",
        "   - **Clustering**: K-means, Gaussian Mixture, Bisecting K-means, etc.\n",
        "   - **Collaborative Filtering**: Alternating Least Squares (ALS) for recommendation systems.\n",
        "   - **Dimensionality Reduction**: Principal Component Analysis (PCA), Singular Value Decomposition (SVD), etc.\n",
        "\n",
        "2. **Utilities**\n",
        "   - **Feature Extraction and Transformation**: TF-IDF, Word2Vec, StandardScaler, OneHotEncoder, StringIndexer, VectorAssembler, etc.\n",
        "   - **Pipeline API**: Simplifies the creation, tuning, and deployment of machine learning pipelines.\n",
        "   - **Evaluation Metrics**: Tools for evaluating models, including accuracy, precision, recall, F1-score for classification, and root mean square error (RMSE) for regression.\n",
        "\n",
        "3. **Data Handling**\n",
        "   - **DataFrame-based API**: MLlib primarily uses DataFrames for handling data. This allows for integration with Spark SQL and other Spark components.\n",
        "\n",
        "4. **Model Persistence**\n",
        "   - **Saving and Loading Models**: MLlib provides functionality to save and load models to/from disk, which is essential for model persistence and deployment."
      ]
    },
    {
      "cell_type": "code",
      "execution_count": null,
      "metadata": {
        "application/vnd.databricks.v1+cell": {
          "cellMetadata": {},
          "inputWidgets": {},
          "nuid": "478fcecd-e140-4675-a49a-5b894ff90eb0",
          "showTitle": false,
          "tableResultSettingsMap": {},
          "title": ""
        },
        "id": "BjE0spwUEn3D"
      },
      "outputs": [],
      "source": []
    }
  ],
  "metadata": {
    "application/vnd.databricks.v1+notebook": {
      "computePreferences": null,
      "dashboards": [],
      "environmentMetadata": null,
      "language": "python",
      "notebookMetadata": {
        "pythonIndentUnit": 4
      },
      "notebookName": "07-Spark MLlib for Machine Learning",
      "widgets": {}
    },
    "kernelspec": {
      "display_name": "Python 3",
      "language": "python",
      "name": "python3"
    },
    "language_info": {
      "codemirror_mode": {
        "name": "ipython",
        "version": 3
      },
      "file_extension": ".py",
      "mimetype": "text/x-python",
      "name": "python",
      "nbconvert_exporter": "python",
      "pygments_lexer": "ipython3",
      "version": "3.7.4"
    },
    "colab": {
      "provenance": [],
      "include_colab_link": true
    }
  },
  "nbformat": 4,
  "nbformat_minor": 0
}
