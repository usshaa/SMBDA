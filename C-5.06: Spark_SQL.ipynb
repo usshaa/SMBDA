{
  "cells": [
    {
      "cell_type": "markdown",
      "metadata": {
        "id": "view-in-github",
        "colab_type": "text"
      },
      "source": [
        "<a href=\"https://colab.research.google.com/github/usshaa/SMBDA/blob/main/C-5.6%3A%20Spark_SQL.ipynb\" target=\"_parent\"><img src=\"https://colab.research.google.com/assets/colab-badge.svg\" alt=\"Open In Colab\"/></a>"
      ]
    },
    {
      "cell_type": "code",
      "execution_count": null,
      "metadata": {
        "application/vnd.databricks.v1+cell": {
          "cellMetadata": {
            "byteLimit": 2048000,
            "rowLimit": 10000
          },
          "inputWidgets": {},
          "nuid": "5bda2b77-fff1-4bea-9490-297cccb374a7",
          "showTitle": false,
          "tableResultSettingsMap": {},
          "title": ""
        },
        "id": "6qpqLCxVEZzn"
      },
      "outputs": [],
      "source": [
        "from pyspark.sql import SparkSession\n",
        "\n",
        "# Create a SparkSession\n",
        "spark = SparkSession.builder.appName(\"DataFrameSQL\").getOrCreate()"
      ]
    },
    {
      "cell_type": "markdown",
      "metadata": {
        "application/vnd.databricks.v1+cell": {
          "cellMetadata": {},
          "inputWidgets": {},
          "nuid": "e6ea3402-0271-4cd3-ac3d-934c00bbe62f",
          "showTitle": false,
          "tableResultSettingsMap": {},
          "title": ""
        },
        "id": "8aMCnCx1EZzp"
      },
      "source": [
        "### Load Data into a DataFrame"
      ]
    },
    {
      "cell_type": "code",
      "execution_count": null,
      "metadata": {
        "application/vnd.databricks.v1+cell": {
          "cellMetadata": {
            "byteLimit": 2048000,
            "rowLimit": 10000
          },
          "inputWidgets": {},
          "nuid": "3d3a8979-fbbc-467b-939d-4bd92d0264d2",
          "showTitle": false,
          "tableResultSettingsMap": {},
          "title": ""
        },
        "id": "x_VBWj2kEZzq"
      },
      "outputs": [],
      "source": [
        "# Load the synthetic data into a DataFrame\n",
        "data_file_path = \"/FileStore/tables/persons.csv\"\n",
        "df = spark.read.csv(data_file_path, header=True, inferSchema=True)"
      ]
    },
    {
      "cell_type": "code",
      "execution_count": null,
      "metadata": {
        "application/vnd.databricks.v1+cell": {
          "cellMetadata": {
            "byteLimit": 2048000,
            "rowLimit": 10000
          },
          "inputWidgets": {},
          "nuid": "b7100355-7d80-47b3-b282-224f19176e33",
          "showTitle": false,
          "tableResultSettingsMap": {},
          "title": ""
        },
        "id": "gjd-zaf2EZzq",
        "outputId": "2b08c6c9-823c-4781-d29d-628477d8a044"
      },
      "outputs": [
        {
          "output_type": "stream",
          "name": "stdout",
          "text": [
            "root\n |-- name: string (nullable = true)\n |-- age: integer (nullable = true)\n |-- gender: string (nullable = true)\n |-- salary: integer (nullable = true)\n\nInitial DataFrame:\n+------------------+---+------+------+\n|              name|age|gender|salary|\n+------------------+---+------+------+\n|          John Doe| 30|  Male| 50000|\n|        Jane Smith| 25|Female| 45000|\n|     David Johnson| 35|  Male| 60000|\n|       Emily Davis| 28|Female| 52000|\n|    Michael Wilson| 40|  Male| 75000|\n|       Sarah Brown| 32|Female| 58000|\n|        Robert Lee| 29|  Male| 51000|\n|       Lisa Garcia| 27|Female| 49000|\n|    James Martinez| 38|  Male| 70000|\n|Jennifer Rodriguez| 26|Female| 47000|\n+------------------+---+------+------+\nonly showing top 10 rows\n\n"
          ]
        }
      ],
      "source": [
        "# Display schema of DataFrame\n",
        "df.printSchema()\n",
        "\n",
        "# Show the initial DataFrame\n",
        "print(\"Initial DataFrame:\")\n",
        "df.show(10)"
      ]
    },
    {
      "cell_type": "markdown",
      "metadata": {
        "application/vnd.databricks.v1+cell": {
          "cellMetadata": {},
          "inputWidgets": {},
          "nuid": "d463f0b4-5756-4123-96e6-67f4ad7e3ab4",
          "showTitle": false,
          "tableResultSettingsMap": {},
          "title": ""
        },
        "id": "JykddFXKEZzr"
      },
      "source": [
        "### Register the DataFrame as a Temporary Table"
      ]
    },
    {
      "cell_type": "code",
      "execution_count": null,
      "metadata": {
        "application/vnd.databricks.v1+cell": {
          "cellMetadata": {
            "byteLimit": 2048000,
            "rowLimit": 10000
          },
          "inputWidgets": {},
          "nuid": "db0af326-7268-4a76-b672-3590d51d58af",
          "showTitle": false,
          "tableResultSettingsMap": {},
          "title": ""
        },
        "id": "sIduBB2eEZzr"
      },
      "outputs": [],
      "source": [
        "# Register the DataFrame as a Temporary Table\n",
        "df.createOrReplaceTempView(\"my_table\")"
      ]
    },
    {
      "cell_type": "markdown",
      "metadata": {
        "application/vnd.databricks.v1+cell": {
          "cellMetadata": {},
          "inputWidgets": {},
          "nuid": "b60c9030-e187-470c-ab65-e764da38818b",
          "showTitle": false,
          "tableResultSettingsMap": {},
          "title": ""
        },
        "id": "nNT1scMXEZzs"
      },
      "source": [
        "### Perform SQL-like Queries"
      ]
    },
    {
      "cell_type": "code",
      "execution_count": null,
      "metadata": {
        "application/vnd.databricks.v1+cell": {
          "cellMetadata": {
            "byteLimit": 2048000,
            "rowLimit": 10000
          },
          "inputWidgets": {},
          "nuid": "6af34fdd-8b23-444f-b9b5-9c4bfee67491",
          "showTitle": false,
          "tableResultSettingsMap": {},
          "title": ""
        },
        "id": "BQW_K0vfEZzs",
        "outputId": "507b3098-a9ee-42ea-a7c2-6724eee0423b"
      },
      "outputs": [
        {
          "output_type": "stream",
          "name": "stdout",
          "text": [
            "+------------------+---+------+------+\n|              name|age|gender|salary|\n+------------------+---+------+------+\n|          John Doe| 30|  Male| 50000|\n|     David Johnson| 35|  Male| 60000|\n|       Emily Davis| 28|Female| 52000|\n|    Michael Wilson| 40|  Male| 75000|\n|       Sarah Brown| 32|Female| 58000|\n|        Robert Lee| 29|  Male| 51000|\n|       Lisa Garcia| 27|Female| 49000|\n|    James Martinez| 38|  Male| 70000|\n|Jennifer Rodriguez| 26|Female| 47000|\n|  William Anderson| 33|  Male| 62000|\n|   Karen Hernandez| 31|Female| 55000|\n|Christopher Taylor| 37|  Male| 69000|\n|     Matthew Davis| 36|  Male| 67000|\n|    Patricia White| 29|Female| 50000|\n|     Daniel Miller| 34|  Male| 64000|\n| Elizabeth Jackson| 30|Female| 52000|\n|     Joseph Harris| 28|  Male| 53000|\n|      Linda Martin| 39|Female| 71000|\n+------------------+---+------+------+\n\n"
          ]
        }
      ],
      "source": [
        "# Select all rows where age is greater than 25\n",
        "result = spark.sql(\"SELECT * FROM my_table WHERE age > 25\")\n",
        "\n",
        "result.show()"
      ]
    },
    {
      "cell_type": "code",
      "execution_count": null,
      "metadata": {
        "application/vnd.databricks.v1+cell": {
          "cellMetadata": {
            "byteLimit": 2048000,
            "rowLimit": 10000
          },
          "inputWidgets": {},
          "nuid": "a432982e-5a0b-4588-b5c0-b572a08b0374",
          "showTitle": false,
          "tableResultSettingsMap": {},
          "title": ""
        },
        "id": "kI5oG1TmEZzs",
        "outputId": "08aac301-2d08-4ca4-8b6b-91bc069b6323"
      },
      "outputs": [
        {
          "output_type": "stream",
          "name": "stdout",
          "text": [
            "+------+----------+\n|gender|avg_salary|\n+------+----------+\n|Female|   52300.0|\n|  Male|   62100.0|\n+------+----------+\n\n"
          ]
        }
      ],
      "source": [
        "# Compute the average salary by gender\n",
        "avg_salary_by_gender = spark.sql(\"SELECT gender, AVG(salary) as avg_salary FROM my_table GROUP BY gender\")\n",
        "avg_salary_by_gender.show()"
      ]
    },
    {
      "cell_type": "markdown",
      "metadata": {
        "application/vnd.databricks.v1+cell": {
          "cellMetadata": {},
          "inputWidgets": {},
          "nuid": "11934f74-c8c6-47d0-9afa-30113e7176d5",
          "showTitle": false,
          "tableResultSettingsMap": {},
          "title": ""
        },
        "id": "3A6PxmfkEZzt"
      },
      "source": [
        "### Creating and managing temporary views."
      ]
    },
    {
      "cell_type": "code",
      "execution_count": null,
      "metadata": {
        "application/vnd.databricks.v1+cell": {
          "cellMetadata": {
            "byteLimit": 2048000,
            "rowLimit": 10000
          },
          "inputWidgets": {},
          "nuid": "784d8e73-32dc-4dac-99a3-b3e9b81cb0ef",
          "showTitle": false,
          "tableResultSettingsMap": {},
          "title": ""
        },
        "id": "k9iR_bIGEZzt"
      },
      "outputs": [],
      "source": [
        "# Create a temporary view\n",
        "df.createOrReplaceTempView(\"people\")"
      ]
    },
    {
      "cell_type": "code",
      "execution_count": null,
      "metadata": {
        "application/vnd.databricks.v1+cell": {
          "cellMetadata": {
            "byteLimit": 2048000,
            "rowLimit": 10000
          },
          "inputWidgets": {},
          "nuid": "7e10171e-c897-4af0-a707-3c78602e210f",
          "showTitle": false,
          "tableResultSettingsMap": {},
          "title": ""
        },
        "id": "oDuk2JJmEZzt",
        "outputId": "537d5068-fae4-4a99-92af-6704ee15a15e"
      },
      "outputs": [
        {
          "output_type": "stream",
          "name": "stdout",
          "text": [
            "+------------------+---+------+------+\n|              name|age|gender|salary|\n+------------------+---+------+------+\n|          John Doe| 30|  Male| 50000|\n|     David Johnson| 35|  Male| 60000|\n|       Emily Davis| 28|Female| 52000|\n|    Michael Wilson| 40|  Male| 75000|\n|       Sarah Brown| 32|Female| 58000|\n|        Robert Lee| 29|  Male| 51000|\n|       Lisa Garcia| 27|Female| 49000|\n|    James Martinez| 38|  Male| 70000|\n|Jennifer Rodriguez| 26|Female| 47000|\n|  William Anderson| 33|  Male| 62000|\n|   Karen Hernandez| 31|Female| 55000|\n|Christopher Taylor| 37|  Male| 69000|\n|     Matthew Davis| 36|  Male| 67000|\n|    Patricia White| 29|Female| 50000|\n|     Daniel Miller| 34|  Male| 64000|\n| Elizabeth Jackson| 30|Female| 52000|\n|     Joseph Harris| 28|  Male| 53000|\n|      Linda Martin| 39|Female| 71000|\n+------------------+---+------+------+\n\n"
          ]
        }
      ],
      "source": [
        "# Query the temporary view\n",
        "result = spark.sql(\"SELECT * FROM people WHERE age > 25\")\n",
        "\n",
        "result.show()"
      ]
    },
    {
      "cell_type": "code",
      "execution_count": null,
      "metadata": {
        "application/vnd.databricks.v1+cell": {
          "cellMetadata": {
            "byteLimit": 2048000,
            "rowLimit": 10000
          },
          "inputWidgets": {},
          "nuid": "10beb8b1-bbba-4f13-b11c-505e94774daf",
          "showTitle": false,
          "tableResultSettingsMap": {},
          "title": ""
        },
        "id": "Y9rEpX0WEZzt",
        "outputId": "c79faa41-e173-4942-8212-dd163f2b92a2"
      },
      "outputs": [
        {
          "output_type": "stream",
          "name": "stdout",
          "text": [
            "Out[14]: True"
          ]
        }
      ],
      "source": [
        "# Check if a temporary view exists\n",
        "view_exists = spark.catalog.tableExists(\"people\")\n",
        "view_exists"
      ]
    },
    {
      "cell_type": "code",
      "execution_count": null,
      "metadata": {
        "application/vnd.databricks.v1+cell": {
          "cellMetadata": {
            "byteLimit": 2048000,
            "rowLimit": 10000
          },
          "inputWidgets": {},
          "nuid": "eae3f8a0-192d-49be-a7fc-e3cdc9d91ab9",
          "showTitle": false,
          "tableResultSettingsMap": {},
          "title": ""
        },
        "id": "jzw4f72WEZzt",
        "outputId": "7aaaf25d-6fb4-470a-e264-5c0318663eac"
      },
      "outputs": [
        {
          "output_type": "stream",
          "name": "stdout",
          "text": [
            "Out[15]: True"
          ]
        }
      ],
      "source": [
        "# Drop a temporary view\n",
        "spark.catalog.dropTempView(\"people\")"
      ]
    },
    {
      "cell_type": "code",
      "execution_count": null,
      "metadata": {
        "application/vnd.databricks.v1+cell": {
          "cellMetadata": {
            "byteLimit": 2048000,
            "rowLimit": 10000
          },
          "inputWidgets": {},
          "nuid": "822fca2e-0574-4c0e-bc94-8167ae013aa0",
          "showTitle": false,
          "tableResultSettingsMap": {},
          "title": ""
        },
        "id": "CPPdhysmEZzu",
        "outputId": "04018ca5-eaec-408a-9f07-2a5ab80eaf7b"
      },
      "outputs": [
        {
          "output_type": "stream",
          "name": "stdout",
          "text": [
            "Out[16]: False"
          ]
        }
      ],
      "source": [
        "# Check if a temporary view exists\n",
        "view_exists = spark.catalog.tableExists(\"people\")\n",
        "view_exists"
      ]
    },
    {
      "cell_type": "markdown",
      "metadata": {
        "application/vnd.databricks.v1+cell": {
          "cellMetadata": {},
          "inputWidgets": {},
          "nuid": "b1df29b4-887b-4f57-9f7a-8abc73ece373",
          "showTitle": false,
          "tableResultSettingsMap": {},
          "title": ""
        },
        "id": "eh0iYrKvEZzu"
      },
      "source": [
        "### Subquries"
      ]
    },
    {
      "cell_type": "code",
      "execution_count": null,
      "metadata": {
        "application/vnd.databricks.v1+cell": {
          "cellMetadata": {
            "byteLimit": 2048000,
            "rowLimit": 10000
          },
          "inputWidgets": {},
          "nuid": "7de92789-0729-458d-9ce7-ec932e64ff9a",
          "showTitle": false,
          "tableResultSettingsMap": {},
          "title": ""
        },
        "id": "WHgOO8FXEZzu",
        "outputId": "54d0d8b3-f64c-4386-b08d-ff873c4992f1"
      },
      "outputs": [
        {
          "output_type": "stream",
          "name": "stdout",
          "text": [
            "+---+-------+\n| id|   name|\n+---+-------+\n|  1|   John|\n|  2|  Alice|\n|  3|    Bob|\n|  4|  Emily|\n|  5|  David|\n|  6|  Sarah|\n|  7|Michael|\n|  8|   Lisa|\n|  9|William|\n+---+-------+\n\n+----------+---+------+\n|department| id|salary|\n+----------+---+------+\n|        HR|  1| 60000|\n|        HR|  2| 55000|\n|        HR|  3| 58000|\n|        IT|  4| 70000|\n|        IT|  5| 72000|\n|        IT|  6| 68000|\n|     Sales|  7| 75000|\n|     Sales|  8| 78000|\n|     Sales|  9| 77000|\n+----------+---+------+\n\n"
          ]
        }
      ],
      "source": [
        "# Create DataFrames\n",
        "employee_data = [\n",
        "    (1, \"John\"), (2, \"Alice\"), (3, \"Bob\"), (4, \"Emily\"),\n",
        "    (5, \"David\"), (6, \"Sarah\"), (7, \"Michael\"), (8, \"Lisa\"),\n",
        "    (9, \"William\")\n",
        "]\n",
        "employees = spark.createDataFrame(employee_data, [\"id\", \"name\"])\n",
        "\n",
        "salary_data = [\n",
        "    (\"HR\", 1, 60000), (\"HR\", 2, 55000), (\"HR\", 3, 58000),\n",
        "    (\"IT\", 4, 70000), (\"IT\", 5, 72000), (\"IT\", 6, 68000),\n",
        "    (\"Sales\", 7, 75000), (\"Sales\", 8, 78000), (\"Sales\", 9, 77000)\n",
        "]\n",
        "salaries = spark.createDataFrame(salary_data, [\"department\", \"id\", \"salary\"])\n",
        "\n",
        "employees.show()\n",
        "\n",
        "salaries.show()"
      ]
    },
    {
      "cell_type": "code",
      "execution_count": null,
      "metadata": {
        "application/vnd.databricks.v1+cell": {
          "cellMetadata": {
            "byteLimit": 2048000,
            "rowLimit": 10000
          },
          "inputWidgets": {},
          "nuid": "1358d6fb-da99-441d-be2b-a7c38a0c5167",
          "showTitle": false,
          "tableResultSettingsMap": {},
          "title": ""
        },
        "id": "iudy1vxVEZzu"
      },
      "outputs": [],
      "source": [
        "# Register as temporary views\n",
        "employees.createOrReplaceTempView(\"employees\")\n",
        "salaries.createOrReplaceTempView(\"salaries\")"
      ]
    },
    {
      "cell_type": "code",
      "execution_count": null,
      "metadata": {
        "application/vnd.databricks.v1+cell": {
          "cellMetadata": {
            "byteLimit": 2048000,
            "rowLimit": 10000
          },
          "inputWidgets": {},
          "nuid": "46a2070f-658d-47bb-8ad4-23de20113865",
          "showTitle": false,
          "tableResultSettingsMap": {},
          "title": ""
        },
        "id": "zxReWRwVEZzu",
        "outputId": "f87845a5-a933-41c4-c435-28018cdf4bfd"
      },
      "outputs": [
        {
          "output_type": "stream",
          "name": "stdout",
          "text": [
            "+-------+\n|   name|\n+-------+\n|  Emily|\n|  David|\n|Michael|\n|   Lisa|\n|William|\n+-------+\n\n"
          ]
        }
      ],
      "source": [
        "# Subquery to find employees with salaries above average\n",
        "result = spark.sql(\"\"\"\n",
        "    SELECT name\n",
        "    FROM employees\n",
        "    WHERE id IN (\n",
        "        SELECT id\n",
        "        FROM salaries\n",
        "        WHERE salary > (SELECT AVG(salary) FROM salaries)\n",
        "    )\n",
        "\"\"\")\n",
        "\n",
        "result.show()"
      ]
    },
    {
      "cell_type": "markdown",
      "metadata": {
        "application/vnd.databricks.v1+cell": {
          "cellMetadata": {},
          "inputWidgets": {},
          "nuid": "38c0b2eb-2f9a-4967-8921-a997d50a332c",
          "showTitle": false,
          "tableResultSettingsMap": {},
          "title": ""
        },
        "id": "_KeoXa3XEZzu"
      },
      "source": [
        "### Window Function"
      ]
    },
    {
      "cell_type": "code",
      "execution_count": null,
      "metadata": {
        "application/vnd.databricks.v1+cell": {
          "cellMetadata": {
            "byteLimit": 2048000,
            "rowLimit": 10000
          },
          "inputWidgets": {},
          "nuid": "e07ad053-23c5-4e2c-b6b0-4a5b1b7cb9db",
          "showTitle": false,
          "tableResultSettingsMap": {},
          "title": ""
        },
        "id": "e6OChgZ2EZzv"
      },
      "outputs": [],
      "source": [
        "from pyspark.sql.window import Window\n",
        "from pyspark.sql import functions as F"
      ]
    },
    {
      "cell_type": "code",
      "execution_count": null,
      "metadata": {
        "application/vnd.databricks.v1+cell": {
          "cellMetadata": {
            "byteLimit": 2048000,
            "rowLimit": 10000
          },
          "inputWidgets": {},
          "nuid": "175f853e-2597-412a-8aea-bdba39d17a28",
          "showTitle": false,
          "tableResultSettingsMap": {},
          "title": ""
        },
        "id": "JNkrVbtXEZzv",
        "outputId": "4d2ae52b-c148-4a77-c0ca-92891d2d5689"
      },
      "outputs": [
        {
          "output_type": "stream",
          "name": "stdout",
          "text": [
            "+----------+---+------+-------+\n|department| id|salary|   name|\n+----------+---+------+-------+\n|        HR|  1| 60000|   John|\n|        HR|  2| 55000|  Alice|\n|        HR|  3| 58000|    Bob|\n|        IT|  4| 70000|  Emily|\n|        IT|  5| 72000|  David|\n|        IT|  6| 68000|  Sarah|\n|     Sales|  7| 75000|Michael|\n|     Sales|  9| 77000|William|\n|     Sales|  8| 78000|   Lisa|\n+----------+---+------+-------+\n\n"
          ]
        }
      ],
      "source": [
        "employee_salary = spark.sql(\"\"\"\n",
        "    select  salaries.*, employees.name\n",
        "    from salaries\n",
        "    left join employees on salaries.id = employees.id\n",
        "\"\"\")\n",
        "\n",
        "employee_salary.show()"
      ]
    },
    {
      "cell_type": "code",
      "execution_count": null,
      "metadata": {
        "application/vnd.databricks.v1+cell": {
          "cellMetadata": {
            "byteLimit": 2048000,
            "rowLimit": 10000
          },
          "inputWidgets": {},
          "nuid": "c0fd1356-1e4d-4de6-93e9-2def758301c9",
          "showTitle": false,
          "tableResultSettingsMap": {},
          "title": ""
        },
        "id": "rSoylrJwEZzv"
      },
      "outputs": [],
      "source": [
        "# Create a window specification\n",
        "window_spec = Window.partitionBy(\"department\").orderBy(F.desc(\"salary\"))"
      ]
    },
    {
      "cell_type": "code",
      "execution_count": null,
      "metadata": {
        "application/vnd.databricks.v1+cell": {
          "cellMetadata": {
            "byteLimit": 2048000,
            "rowLimit": 10000
          },
          "inputWidgets": {},
          "nuid": "b787d7cf-9f27-4eab-ba57-1ad8b9d0a327",
          "showTitle": false,
          "tableResultSettingsMap": {},
          "title": ""
        },
        "id": "OPHFQw6iEZzv",
        "outputId": "99a42e1f-475d-4d71-c182-645a52c1db88"
      },
      "outputs": [
        {
          "output_type": "stream",
          "name": "stdout",
          "text": [
            "+----------+---+------+-------+----+\n|department| id|salary|   name|rank|\n+----------+---+------+-------+----+\n|        HR|  1| 60000|   John|   1|\n|        HR|  3| 58000|    Bob|   2|\n|        HR|  2| 55000|  Alice|   3|\n|        IT|  5| 72000|  David|   1|\n|        IT|  4| 70000|  Emily|   2|\n|        IT|  6| 68000|  Sarah|   3|\n|     Sales|  8| 78000|   Lisa|   1|\n|     Sales|  9| 77000|William|   2|\n|     Sales|  7| 75000|Michael|   3|\n+----------+---+------+-------+----+\n\n"
          ]
        }
      ],
      "source": [
        "# Calculate the rank of employees within each department based on salary\n",
        "employee_salary.withColumn(\"rank\", F.rank().over(window_spec)).show()"
      ]
    },
    {
      "cell_type": "code",
      "execution_count": null,
      "metadata": {
        "application/vnd.databricks.v1+cell": {
          "cellMetadata": {},
          "inputWidgets": {},
          "nuid": "15d2d55d-b389-4939-9220-eb69c710a756",
          "showTitle": false,
          "tableResultSettingsMap": {},
          "title": ""
        },
        "id": "8rXNEN0lEZzv"
      },
      "outputs": [],
      "source": []
    }
  ],
  "metadata": {
    "application/vnd.databricks.v1+notebook": {
      "computePreferences": null,
      "dashboards": [],
      "environmentMetadata": null,
      "language": "python",
      "notebookMetadata": {
        "pythonIndentUnit": 4
      },
      "notebookName": "06-Spark-SQL",
      "widgets": {}
    },
    "kernelspec": {
      "display_name": "Python 3",
      "language": "python",
      "name": "python3"
    },
    "language_info": {
      "codemirror_mode": {
        "name": "ipython",
        "version": 3
      },
      "file_extension": ".py",
      "mimetype": "text/x-python",
      "name": "python",
      "nbconvert_exporter": "python",
      "pygments_lexer": "ipython3",
      "version": "3.7.4"
    },
    "colab": {
      "provenance": [],
      "include_colab_link": true
    }
  },
  "nbformat": 4,
  "nbformat_minor": 0
}
