{
  "cells": [
    {
      "cell_type": "markdown",
      "metadata": {
        "id": "view-in-github",
        "colab_type": "text"
      },
      "source": [
        "<a href=\"https://colab.research.google.com/github/usshaa/SMBDA/blob/main/C-5.8%3A%20Data_Transformations.ipynb\" target=\"_parent\"><img src=\"https://colab.research.google.com/assets/colab-badge.svg\" alt=\"Open In Colab\"/></a>"
      ]
    },
    {
      "cell_type": "markdown",
      "metadata": {
        "application/vnd.databricks.v1+cell": {
          "cellMetadata": {},
          "inputWidgets": {},
          "nuid": "2b20e843-bb71-4ec5-9856-c6f8924e883d",
          "showTitle": false,
          "tableResultSettingsMap": {},
          "title": ""
        },
        "id": "caos9ZHsFFlz"
      },
      "source": [
        "# Data Transformations\n"
      ]
    },
    {
      "cell_type": "code",
      "execution_count": null,
      "metadata": {
        "application/vnd.databricks.v1+cell": {
          "cellMetadata": {
            "byteLimit": 2048000,
            "rowLimit": 10000
          },
          "inputWidgets": {},
          "nuid": "4e97ee33-2dd6-4d39-b381-30ed8ea54311",
          "showTitle": false,
          "tableResultSettingsMap": {},
          "title": ""
        },
        "id": "LvdvJavRFFl0"
      },
      "outputs": [],
      "source": [
        "from pyspark.sql import SparkSession\n",
        "from pyspark.sql.functions import col, when\n",
        "from pyspark.ml import Pipeline\n",
        "from pyspark.ml.feature import (VectorAssembler, StringIndexer, OneHotEncoder, StandardScaler, MinMaxScaler, PCA)\n",
        "import pyspark.pandas as ps"
      ]
    },
    {
      "cell_type": "markdown",
      "metadata": {
        "application/vnd.databricks.v1+cell": {
          "cellMetadata": {},
          "inputWidgets": {},
          "nuid": "9174a882-9d51-4f19-b03e-c33057564fb4",
          "showTitle": false,
          "tableResultSettingsMap": {},
          "title": ""
        },
        "collapsed": true,
        "id": "E-5fqCeGFFl1"
      },
      "source": [
        "1. **Initialization and Sample DataFrame**:\n",
        "   - Create a Spark session and a sample DataFrame."
      ]
    },
    {
      "cell_type": "code",
      "execution_count": null,
      "metadata": {
        "application/vnd.databricks.v1+cell": {
          "cellMetadata": {
            "byteLimit": 2048000,
            "rowLimit": 10000
          },
          "inputWidgets": {},
          "nuid": "ed97ab27-2b8b-4f92-9002-8d0cc26a1cf9",
          "showTitle": false,
          "tableResultSettingsMap": {},
          "title": ""
        },
        "id": "h4rmEZ3RFFl1"
      },
      "outputs": [],
      "source": [
        "# Initialize Spark session\n",
        "spark = SparkSession.builder \\\n",
        "    .appName(\"Comprehensive Data Processing\") \\\n",
        "    .getOrCreate()"
      ]
    },
    {
      "cell_type": "code",
      "execution_count": null,
      "metadata": {
        "application/vnd.databricks.v1+cell": {
          "cellMetadata": {
            "byteLimit": 2048000,
            "rowLimit": 10000
          },
          "inputWidgets": {},
          "nuid": "8235b381-98e5-4cc4-9111-6ba931e17bf8",
          "showTitle": false,
          "tableResultSettingsMap": {},
          "title": ""
        },
        "id": "BJGeJkprFFl2"
      },
      "outputs": [],
      "source": [
        "# Sample DataFrame\n",
        "data = [\n",
        "    (1, \"Alice\", 29, 12000.0, \"2020-01-01\", \"M\", None),\n",
        "    (2, \"Bob\", 35, None, \"2019-07-01\", \"F\", 3000.0),\n",
        "    (3, \"Charlie\", None, 5000.0, \"2018-05-20\", \"M\", 1200.0),\n",
        "    (4, \"David\", 40, 15000.0, None, \"F\", 4500.0),\n",
        "    (5, \"Eva\", 50, 7000.0, \"2021-12-12\", None, 3400.0)\n",
        "]"
      ]
    },
    {
      "cell_type": "code",
      "execution_count": null,
      "metadata": {
        "application/vnd.databricks.v1+cell": {
          "cellMetadata": {
            "byteLimit": 2048000,
            "rowLimit": 10000
          },
          "inputWidgets": {},
          "nuid": "85739a5e-80a7-481b-a0e0-c7f77709d050",
          "showTitle": false,
          "tableResultSettingsMap": {},
          "title": ""
        },
        "id": "dUuOBPMvFFl2",
        "outputId": "96feeeb1-379c-4c6e-96eb-00610a67708b"
      },
      "outputs": [
        {
          "output_type": "display_data",
          "data": {
            "text/html": [
              "<div>\n",
              "<style scoped>\n",
              "    .dataframe tbody tr th:only-of-type {\n",
              "        vertical-align: middle;\n",
              "    }\n",
              "\n",
              "    .dataframe tbody tr th {\n",
              "        vertical-align: top;\n",
              "    }\n",
              "\n",
              "    .dataframe thead th {\n",
              "        text-align: right;\n",
              "    }\n",
              "</style>\n",
              "<table border=\"1\" class=\"dataframe\">\n",
              "  <thead>\n",
              "    <tr style=\"text-align: right;\">\n",
              "      <th></th>\n",
              "      <th>id</th>\n",
              "      <th>name</th>\n",
              "      <th>age</th>\n",
              "      <th>salary</th>\n",
              "      <th>join_date</th>\n",
              "      <th>gender</th>\n",
              "      <th>bonus</th>\n",
              "    </tr>\n",
              "  </thead>\n",
              "  <tbody>\n",
              "    <tr>\n",
              "      <th>0</th>\n",
              "      <td>1</td>\n",
              "      <td>Alice</td>\n",
              "      <td>29.0</td>\n",
              "      <td>12000.0</td>\n",
              "      <td>2020-01-01</td>\n",
              "      <td>M</td>\n",
              "      <td>NaN</td>\n",
              "    </tr>\n",
              "    <tr>\n",
              "      <th>1</th>\n",
              "      <td>2</td>\n",
              "      <td>Bob</td>\n",
              "      <td>35.0</td>\n",
              "      <td>NaN</td>\n",
              "      <td>2019-07-01</td>\n",
              "      <td>F</td>\n",
              "      <td>3000.0</td>\n",
              "    </tr>\n",
              "    <tr>\n",
              "      <th>2</th>\n",
              "      <td>3</td>\n",
              "      <td>Charlie</td>\n",
              "      <td>NaN</td>\n",
              "      <td>5000.0</td>\n",
              "      <td>2018-05-20</td>\n",
              "      <td>M</td>\n",
              "      <td>1200.0</td>\n",
              "    </tr>\n",
              "    <tr>\n",
              "      <th>3</th>\n",
              "      <td>4</td>\n",
              "      <td>David</td>\n",
              "      <td>40.0</td>\n",
              "      <td>15000.0</td>\n",
              "      <td>None</td>\n",
              "      <td>F</td>\n",
              "      <td>4500.0</td>\n",
              "    </tr>\n",
              "    <tr>\n",
              "      <th>4</th>\n",
              "      <td>5</td>\n",
              "      <td>Eva</td>\n",
              "      <td>50.0</td>\n",
              "      <td>7000.0</td>\n",
              "      <td>2021-12-12</td>\n",
              "      <td>None</td>\n",
              "      <td>3400.0</td>\n",
              "    </tr>\n",
              "  </tbody>\n",
              "</table>\n",
              "</div>"
            ]
          },
          "metadata": {
            "application/vnd.databricks.v1+output": {
              "addedWidgets": {},
              "arguments": {},
              "data": "<div>\n<style scoped>\n    .dataframe tbody tr th:only-of-type {\n        vertical-align: middle;\n    }\n\n    .dataframe tbody tr th {\n        vertical-align: top;\n    }\n\n    .dataframe thead th {\n        text-align: right;\n    }\n</style>\n<table border=\"1\" class=\"dataframe\">\n  <thead>\n    <tr style=\"text-align: right;\">\n      <th></th>\n      <th>id</th>\n      <th>name</th>\n      <th>age</th>\n      <th>salary</th>\n      <th>join_date</th>\n      <th>gender</th>\n      <th>bonus</th>\n    </tr>\n  </thead>\n  <tbody>\n    <tr>\n      <th>0</th>\n      <td>1</td>\n      <td>Alice</td>\n      <td>29.0</td>\n      <td>12000.0</td>\n      <td>2020-01-01</td>\n      <td>M</td>\n      <td>NaN</td>\n    </tr>\n    <tr>\n      <th>1</th>\n      <td>2</td>\n      <td>Bob</td>\n      <td>35.0</td>\n      <td>NaN</td>\n      <td>2019-07-01</td>\n      <td>F</td>\n      <td>3000.0</td>\n    </tr>\n    <tr>\n      <th>2</th>\n      <td>3</td>\n      <td>Charlie</td>\n      <td>NaN</td>\n      <td>5000.0</td>\n      <td>2018-05-20</td>\n      <td>M</td>\n      <td>1200.0</td>\n    </tr>\n    <tr>\n      <th>3</th>\n      <td>4</td>\n      <td>David</td>\n      <td>40.0</td>\n      <td>15000.0</td>\n      <td>None</td>\n      <td>F</td>\n      <td>4500.0</td>\n    </tr>\n    <tr>\n      <th>4</th>\n      <td>5</td>\n      <td>Eva</td>\n      <td>50.0</td>\n      <td>7000.0</td>\n      <td>2021-12-12</td>\n      <td>None</td>\n      <td>3400.0</td>\n    </tr>\n  </tbody>\n</table>\n</div>",
              "datasetInfos": [],
              "metadata": {},
              "removedWidgets": [],
              "textData": null,
              "type": "htmlSandbox"
            }
          }
        }
      ],
      "source": [
        "columns = [\"id\", \"name\", \"age\", \"salary\", \"join_date\", \"gender\", \"bonus\"]\n",
        "\n",
        "df = spark.createDataFrame(data, columns)\n",
        "# df.to_pandas_on_spark()\n",
        "df.pandas_api()"
      ]
    },
    {
      "cell_type": "markdown",
      "metadata": {
        "application/vnd.databricks.v1+cell": {
          "cellMetadata": {},
          "inputWidgets": {},
          "nuid": "5e22ad6c-ee89-4567-be2b-47df3c0f1eeb",
          "showTitle": false,
          "tableResultSettingsMap": {},
          "title": ""
        },
        "collapsed": true,
        "id": "nmyraNXRFFl2"
      },
      "source": [
        "2. **Data Preprocessing**:\n",
        "   - Fill missing values using `na.fill`."
      ]
    },
    {
      "cell_type": "code",
      "execution_count": null,
      "metadata": {
        "application/vnd.databricks.v1+cell": {
          "cellMetadata": {
            "byteLimit": 2048000,
            "rowLimit": 10000
          },
          "inputWidgets": {},
          "nuid": "0a6fc1fa-ce2d-4b35-817f-85995869cca4",
          "showTitle": false,
          "tableResultSettingsMap": {},
          "title": ""
        },
        "id": "myd3_uh_FFl2"
      },
      "outputs": [],
      "source": [
        "# Fill missing values\n",
        "df = df.na.fill({\"age\": 0, \"salary\": 0, \"join_date\": \"1900-01-01\", \"gender\": \"Unknown\", \"bonus\": 0})"
      ]
    },
    {
      "cell_type": "markdown",
      "metadata": {
        "application/vnd.databricks.v1+cell": {
          "cellMetadata": {},
          "inputWidgets": {},
          "nuid": "75506da2-ddb4-4fca-88d2-e740f3a24ea2",
          "showTitle": false,
          "tableResultSettingsMap": {},
          "title": ""
        },
        "collapsed": true,
        "id": "OQZJ-FTBFFl3"
      },
      "source": [
        "3. **Feature Engineering**:\n",
        "   - Create new features such as `age_group` and `total_compensation`."
      ]
    },
    {
      "cell_type": "code",
      "execution_count": null,
      "metadata": {
        "application/vnd.databricks.v1+cell": {
          "cellMetadata": {
            "byteLimit": 2048000,
            "rowLimit": 10000
          },
          "inputWidgets": {},
          "nuid": "fb83a4cc-4e4d-4720-8ed7-4bbbe4c46df7",
          "showTitle": false,
          "tableResultSettingsMap": {},
          "title": ""
        },
        "id": "LOoJ4OohFFl3"
      },
      "outputs": [],
      "source": [
        "# Feature Engineering: Create new features\n",
        "df = df.withColumn(\"age_group\",\n",
        "                   when(col(\"age\") < 30, \"young\")\n",
        "                   .when((col(\"age\") >= 30) & (col(\"age\") <= 50), \"middle-aged\")\n",
        "                   .otherwise(\"old\"))\n",
        "\n",
        "df = df.withColumn(\"total_compensation\", col(\"salary\") + col(\"bonus\"))"
      ]
    },
    {
      "cell_type": "markdown",
      "metadata": {
        "application/vnd.databricks.v1+cell": {
          "cellMetadata": {},
          "inputWidgets": {},
          "nuid": "49b958f5-f68b-4318-bbb9-cab4705f162d",
          "showTitle": false,
          "tableResultSettingsMap": {},
          "title": ""
        },
        "collapsed": true,
        "id": "7qsVlWHlFFl3"
      },
      "source": [
        "4. **String Indexing and One-Hot Encoding**:\n",
        "   - Use `StringIndexer` to convert categorical columns (`gender` and `age_group`) to numerical indices.\n",
        "   - Use `OneHotEncoder` to convert indexed columns to one-hot encoded vectors."
      ]
    },
    {
      "cell_type": "code",
      "execution_count": null,
      "metadata": {
        "application/vnd.databricks.v1+cell": {
          "cellMetadata": {
            "byteLimit": 2048000,
            "rowLimit": 10000
          },
          "inputWidgets": {},
          "nuid": "f89ff28a-8c9e-4434-b126-b1fd93cd3983",
          "showTitle": false,
          "tableResultSettingsMap": {},
          "title": ""
        },
        "id": "-EeaH4ZvFFl3"
      },
      "outputs": [],
      "source": [
        "# String Indexing and One-Hot Encoding for categorical features\n",
        "gender_indexer = StringIndexer(inputCol=\"gender\", outputCol=\"gender_index\")\n",
        "age_group_indexer = StringIndexer(inputCol=\"age_group\", outputCol=\"age_group_index\")\n",
        "\n",
        "gender_encoder = OneHotEncoder(inputCol=\"gender_index\", outputCol=\"gender_vec\")\n",
        "age_group_encoder = OneHotEncoder(inputCol=\"age_group_index\", outputCol=\"age_group_vec\")"
      ]
    },
    {
      "cell_type": "markdown",
      "metadata": {
        "application/vnd.databricks.v1+cell": {
          "cellMetadata": {},
          "inputWidgets": {},
          "nuid": "d703f3d1-e194-48a2-b6a3-679211540dd9",
          "showTitle": false,
          "tableResultSettingsMap": {},
          "title": ""
        },
        "collapsed": true,
        "id": "G-ccHNWUFFl3"
      },
      "source": [
        "5. **Vector Assembler**:\n",
        "   - Combine all feature columns into a single feature vector using `VectorAssembler`."
      ]
    },
    {
      "cell_type": "code",
      "execution_count": null,
      "metadata": {
        "application/vnd.databricks.v1+cell": {
          "cellMetadata": {
            "byteLimit": 2048000,
            "rowLimit": 10000
          },
          "inputWidgets": {},
          "nuid": "20241203-76e4-4810-9cb4-d14cc66c99a5",
          "showTitle": false,
          "tableResultSettingsMap": {},
          "title": ""
        },
        "id": "giS9xYgaFFl3"
      },
      "outputs": [],
      "source": [
        "# Vector Assembler to combine feature columns into a single vector\n",
        "assembler = VectorAssembler(inputCols=[\"age\", \"salary\", \"bonus\", \"gender_vec\", \"age_group_vec\"], outputCol=\"features\")"
      ]
    },
    {
      "cell_type": "markdown",
      "metadata": {
        "application/vnd.databricks.v1+cell": {
          "cellMetadata": {},
          "inputWidgets": {},
          "nuid": "09b268c5-946c-4e9f-b9a2-79a5f7b03a3a",
          "showTitle": false,
          "tableResultSettingsMap": {},
          "title": ""
        },
        "collapsed": true,
        "id": "FhOgXTW0FFl3"
      },
      "source": [
        "6. **Scaling**:\n",
        "   - Apply `StandardScaler` to standardize the feature vectors.\n",
        "   - Apply `MinMaxScaler` to scale features between a specified range."
      ]
    },
    {
      "cell_type": "code",
      "execution_count": null,
      "metadata": {
        "application/vnd.databricks.v1+cell": {
          "cellMetadata": {
            "byteLimit": 2048000,
            "rowLimit": 10000
          },
          "inputWidgets": {},
          "nuid": "7b1ef7a3-f897-4032-b6d7-b953b9216850",
          "showTitle": false,
          "tableResultSettingsMap": {},
          "title": ""
        },
        "id": "xKuAhZWgFFl3"
      },
      "outputs": [],
      "source": [
        "# Standard Scaler\n",
        "standard_scaler = StandardScaler(inputCol=\"features\", outputCol=\"scaled_features\")"
      ]
    },
    {
      "cell_type": "code",
      "execution_count": null,
      "metadata": {
        "application/vnd.databricks.v1+cell": {
          "cellMetadata": {
            "byteLimit": 2048000,
            "rowLimit": 10000
          },
          "inputWidgets": {},
          "nuid": "a88c5abc-c482-495e-bcfc-93d07cd9d969",
          "showTitle": false,
          "tableResultSettingsMap": {},
          "title": ""
        },
        "id": "vOIX1b1OFFl3"
      },
      "outputs": [],
      "source": [
        "# Min-Max Scaler\n",
        "min_max_scaler = MinMaxScaler(inputCol=\"features\", outputCol=\"minmax_features\")"
      ]
    },
    {
      "cell_type": "markdown",
      "metadata": {
        "application/vnd.databricks.v1+cell": {
          "cellMetadata": {},
          "inputWidgets": {},
          "nuid": "95b04b5b-0705-41fd-8e2d-a01381b81cdc",
          "showTitle": false,
          "tableResultSettingsMap": {},
          "title": ""
        },
        "collapsed": true,
        "id": "ucl12saWFFl4"
      },
      "source": [
        "7. **Dimension Reduction**:\n",
        "   - Apply PCA to reduce the number of dimensions in the feature vector."
      ]
    },
    {
      "cell_type": "code",
      "execution_count": null,
      "metadata": {
        "application/vnd.databricks.v1+cell": {
          "cellMetadata": {
            "byteLimit": 2048000,
            "rowLimit": 10000
          },
          "inputWidgets": {},
          "nuid": "e6d58a2c-689d-418f-a34f-b64f8058cace",
          "showTitle": false,
          "tableResultSettingsMap": {},
          "title": ""
        },
        "id": "_FYT0WkOFFl4"
      },
      "outputs": [],
      "source": [
        "# PCA for dimension reduction\n",
        "pca = PCA(k=3, inputCol=\"scaled_features\", outputCol=\"pca_features\")"
      ]
    },
    {
      "cell_type": "markdown",
      "metadata": {
        "application/vnd.databricks.v1+cell": {
          "cellMetadata": {},
          "inputWidgets": {},
          "nuid": "189fbeb6-868b-461e-af0c-df92e04dbd23",
          "showTitle": false,
          "tableResultSettingsMap": {},
          "title": ""
        },
        "collapsed": true,
        "id": "kYYa6I5EFFl4"
      },
      "source": [
        "8. **Pipeline**:\n",
        "   - Create a pipeline that chains together all the steps.\n",
        "   - Fit the pipeline to the DataFrame and transform the data."
      ]
    },
    {
      "cell_type": "code",
      "execution_count": null,
      "metadata": {
        "application/vnd.databricks.v1+cell": {
          "cellMetadata": {
            "byteLimit": 2048000,
            "rowLimit": 10000
          },
          "inputWidgets": {},
          "nuid": "46b64446-2b75-44e3-90bc-44a722a00dbd",
          "showTitle": false,
          "tableResultSettingsMap": {},
          "title": ""
        },
        "id": "kTt1VQ4LFFl4"
      },
      "outputs": [],
      "source": [
        "# Building the Pipeline\n",
        "pipeline = Pipeline(stages=[\n",
        "    gender_indexer,\n",
        "    age_group_indexer,\n",
        "    gender_encoder,\n",
        "    age_group_encoder,\n",
        "    assembler,\n",
        "    standard_scaler,\n",
        "    min_max_scaler,\n",
        "    pca\n",
        "])"
      ]
    },
    {
      "cell_type": "code",
      "execution_count": null,
      "metadata": {
        "application/vnd.databricks.v1+cell": {
          "cellMetadata": {
            "byteLimit": 2048000,
            "rowLimit": 10000
          },
          "inputWidgets": {},
          "nuid": "f95c65e3-8c29-4d3b-ad75-5a193ac24ffd",
          "showTitle": false,
          "tableResultSettingsMap": {},
          "title": ""
        },
        "id": "OQkfvlCKFFl4"
      },
      "outputs": [],
      "source": [
        "# Fit the pipeline to the DataFrame\n",
        "pipeline_model = pipeline.fit(df)\n",
        "df_transformed = pipeline_model.transform(df)"
      ]
    },
    {
      "cell_type": "markdown",
      "metadata": {
        "application/vnd.databricks.v1+cell": {
          "cellMetadata": {},
          "inputWidgets": {},
          "nuid": "f0cd8d27-14f9-4c9c-9d4b-a906a20ab75d",
          "showTitle": false,
          "tableResultSettingsMap": {},
          "title": ""
        },
        "collapsed": true,
        "id": "NapvTOfcFFl4"
      },
      "source": [
        "9. **Display Results**:\n",
        "   - Show the resulting DataFrame with the original features, scaled features, and PCA features."
      ]
    },
    {
      "cell_type": "code",
      "execution_count": null,
      "metadata": {
        "application/vnd.databricks.v1+cell": {
          "cellMetadata": {
            "byteLimit": 2048000,
            "rowLimit": 10000
          },
          "inputWidgets": {},
          "nuid": "26a2ec99-718e-47a2-aa6b-1f2edfd7ef17",
          "showTitle": false,
          "tableResultSettingsMap": {},
          "title": ""
        },
        "id": "XjxzGmIJFFl4",
        "outputId": "24a68773-b98a-4588-ad6e-7cfeb79b830c"
      },
      "outputs": [
        {
          "output_type": "stream",
          "name": "stdout",
          "text": [
            "+---+-------+---------------------------------+----------------------------------------------------------------------------------------------------+---------------------------------------------------------+-------------------------------------------------------------+\n|id |name   |features                         |scaled_features                                                                                     |minmax_features                                          |pca_features                                                 |\n+---+-------+---------------------------------+----------------------------------------------------------------------------------------------------+---------------------------------------------------------+-------------------------------------------------------------+\n|1  |Alice  |[29.0,12000.0,0.0,0.0,1.0,0.0]   |[1.5376449466659428,2.037119512395132,0.0,0.0,1.8257418583505538,0.0]                               |[0.58,0.8,0.0,0.0,1.0,0.0]                               |[0.3009419511580602,-2.525632023442241,-0.06054801702662538] |\n|2  |Bob    |[35.0,0.0,3000.0,1.0,0.0,1.0]    |[1.8557783839071722,0.0,1.666152501401719,1.8257418583505538,0.0,1.8257418583505538]                |[0.7000000000000001,0.0,0.6666666666666667,1.0,0.0,1.0]  |[-3.087465033598685,-0.19596631264102435,-0.3754450972382021]|\n|3  |Charlie|[0.0,5000.0,1200.0,0.0,1.0,0.0]  |[0.0,0.8487997968313049,0.6664610005606876,0.0,1.8257418583505538,0.0]                              |[0.0,0.33333333333333337,0.26666666666666666,0.0,1.0,0.0]|[0.5940135040088568,-0.9376253643247832,-0.623457185978033]  |\n|4  |David  |[40.0,15000.0,4500.0,1.0,0.0,1.0]|[2.1208895816081967,2.5463993904939146,2.4992287521025784,1.8257418583505538,0.0,1.8257418583505538]|[0.8,1.0,1.0,1.0,0.0,1.0]                                |[-3.576173490503931,-2.645193070168465,-1.1637439890376187]  |\n|5  |Eva    |[50.0,7000.0,3400.0,0.0,0.0,1.0] |[2.6511119770102463,1.1883197155638268,1.8883061682552815,0.0,0.0,1.8257418583505538]               |[1.0,0.4666666666666667,0.7555555555555556,0.0,0.0,1.0]  |[-2.830663276043418,-1.8861237400205002,0.9981662152373904]  |\n+---+-------+---------------------------------+----------------------------------------------------------------------------------------------------+---------------------------------------------------------+-------------------------------------------------------------+\n\n"
          ]
        }
      ],
      "source": [
        "# Display the results\n",
        "df_transformed.select(\"id\", \"name\", \"features\", \"scaled_features\", \"minmax_features\", \"pca_features\").show(truncate=False)"
      ]
    },
    {
      "cell_type": "code",
      "execution_count": null,
      "metadata": {
        "application/vnd.databricks.v1+cell": {
          "cellMetadata": {
            "byteLimit": 2048000,
            "rowLimit": 10000
          },
          "inputWidgets": {},
          "nuid": "1b6f4bc4-27e0-4e30-a76b-a28d7a6a621c",
          "showTitle": false,
          "tableResultSettingsMap": {},
          "title": ""
        },
        "id": "1mZl-Yr7FFl4",
        "outputId": "72626bf1-da67-4358-8fbc-84a297466980"
      },
      "outputs": [
        {
          "output_type": "stream",
          "name": "stderr",
          "text": [
            "/databricks/spark/python/pyspark/sql/dataframe.py:5178: FutureWarning: DataFrame.to_pandas_on_spark is deprecated. Use DataFrame.pandas_api instead.\n  warnings.warn(\n/databricks/spark/python/pyspark/sql/pandas/conversion.py:122: UserWarning: toPandas attempted Arrow optimization because 'spark.sql.execution.arrow.pyspark.enabled' is set to true; however, failed by the reason below:\n  Unable to convert the field features. If this column is not necessary, you may consider dropping it or converting to primitive type before the conversion.\nDirect cause: Unsupported type in conversion to Arrow: VectorUDT()\nAttempting non-optimization as 'spark.sql.execution.arrow.pyspark.fallback.enabled' is set to true.\n  warn(msg)\n"
          ]
        },
        {
          "output_type": "display_data",
          "data": {
            "text/html": [
              "<div>\n",
              "<style scoped>\n",
              "    .dataframe tbody tr th:only-of-type {\n",
              "        vertical-align: middle;\n",
              "    }\n",
              "\n",
              "    .dataframe tbody tr th {\n",
              "        vertical-align: top;\n",
              "    }\n",
              "\n",
              "    .dataframe thead th {\n",
              "        text-align: right;\n",
              "    }\n",
              "</style>\n",
              "<table border=\"1\" class=\"dataframe\">\n",
              "  <thead>\n",
              "    <tr style=\"text-align: right;\">\n",
              "      <th></th>\n",
              "      <th>id</th>\n",
              "      <th>name</th>\n",
              "      <th>features</th>\n",
              "      <th>scaled_features</th>\n",
              "      <th>minmax_features</th>\n",
              "      <th>pca_features</th>\n",
              "    </tr>\n",
              "  </thead>\n",
              "  <tbody>\n",
              "    <tr>\n",
              "      <th>0</th>\n",
              "      <td>1</td>\n",
              "      <td>Alice</td>\n",
              "      <td>[29.0, 12000.0, 0.0, 0.0, 1.0, 0.0]</td>\n",
              "      <td>[1.5376449466659428, 2.037119512395132, 0.0, 0...</td>\n",
              "      <td>[0.58, 0.8, 0.0, 0.0, 1.0, 0.0]</td>\n",
              "      <td>[0.3009419511580602, -2.525632023442241, -0.06...</td>\n",
              "    </tr>\n",
              "    <tr>\n",
              "      <th>1</th>\n",
              "      <td>2</td>\n",
              "      <td>Bob</td>\n",
              "      <td>[35.0, 0.0, 3000.0, 1.0, 0.0, 1.0]</td>\n",
              "      <td>[1.8557783839071722, 0.0, 1.666152501401719, 1...</td>\n",
              "      <td>[0.7000000000000001, 0.0, 0.6666666666666667, ...</td>\n",
              "      <td>[-3.087465033598685, -0.19596631264102435, -0....</td>\n",
              "    </tr>\n",
              "    <tr>\n",
              "      <th>2</th>\n",
              "      <td>3</td>\n",
              "      <td>Charlie</td>\n",
              "      <td>[0.0, 5000.0, 1200.0, 0.0, 1.0, 0.0]</td>\n",
              "      <td>[0.0, 0.8487997968313049, 0.6664610005606876, ...</td>\n",
              "      <td>[0.0, 0.33333333333333337, 0.26666666666666666...</td>\n",
              "      <td>[0.5940135040088568, -0.9376253643247832, -0.6...</td>\n",
              "    </tr>\n",
              "    <tr>\n",
              "      <th>3</th>\n",
              "      <td>4</td>\n",
              "      <td>David</td>\n",
              "      <td>[40.0, 15000.0, 4500.0, 1.0, 0.0, 1.0]</td>\n",
              "      <td>[2.1208895816081967, 2.5463993904939146, 2.499...</td>\n",
              "      <td>[0.8, 1.0, 1.0, 1.0, 0.0, 1.0]</td>\n",
              "      <td>[-3.576173490503931, -2.645193070168465, -1.16...</td>\n",
              "    </tr>\n",
              "    <tr>\n",
              "      <th>4</th>\n",
              "      <td>5</td>\n",
              "      <td>Eva</td>\n",
              "      <td>[50.0, 7000.0, 3400.0, 0.0, 0.0, 1.0]</td>\n",
              "      <td>[2.6511119770102463, 1.1883197155638268, 1.888...</td>\n",
              "      <td>[1.0, 0.4666666666666667, 0.7555555555555556, ...</td>\n",
              "      <td>[-2.830663276043418, -1.8861237400205002, 0.99...</td>\n",
              "    </tr>\n",
              "  </tbody>\n",
              "</table>\n",
              "</div>"
            ]
          },
          "metadata": {
            "application/vnd.databricks.v1+output": {
              "addedWidgets": {},
              "arguments": {},
              "data": "<div>\n<style scoped>\n    .dataframe tbody tr th:only-of-type {\n        vertical-align: middle;\n    }\n\n    .dataframe tbody tr th {\n        vertical-align: top;\n    }\n\n    .dataframe thead th {\n        text-align: right;\n    }\n</style>\n<table border=\"1\" class=\"dataframe\">\n  <thead>\n    <tr style=\"text-align: right;\">\n      <th></th>\n      <th>id</th>\n      <th>name</th>\n      <th>features</th>\n      <th>scaled_features</th>\n      <th>minmax_features</th>\n      <th>pca_features</th>\n    </tr>\n  </thead>\n  <tbody>\n    <tr>\n      <th>0</th>\n      <td>1</td>\n      <td>Alice</td>\n      <td>[29.0, 12000.0, 0.0, 0.0, 1.0, 0.0]</td>\n      <td>[1.5376449466659428, 2.037119512395132, 0.0, 0...</td>\n      <td>[0.58, 0.8, 0.0, 0.0, 1.0, 0.0]</td>\n      <td>[0.3009419511580602, -2.525632023442241, -0.06...</td>\n    </tr>\n    <tr>\n      <th>1</th>\n      <td>2</td>\n      <td>Bob</td>\n      <td>[35.0, 0.0, 3000.0, 1.0, 0.0, 1.0]</td>\n      <td>[1.8557783839071722, 0.0, 1.666152501401719, 1...</td>\n      <td>[0.7000000000000001, 0.0, 0.6666666666666667, ...</td>\n      <td>[-3.087465033598685, -0.19596631264102435, -0....</td>\n    </tr>\n    <tr>\n      <th>2</th>\n      <td>3</td>\n      <td>Charlie</td>\n      <td>[0.0, 5000.0, 1200.0, 0.0, 1.0, 0.0]</td>\n      <td>[0.0, 0.8487997968313049, 0.6664610005606876, ...</td>\n      <td>[0.0, 0.33333333333333337, 0.26666666666666666...</td>\n      <td>[0.5940135040088568, -0.9376253643247832, -0.6...</td>\n    </tr>\n    <tr>\n      <th>3</th>\n      <td>4</td>\n      <td>David</td>\n      <td>[40.0, 15000.0, 4500.0, 1.0, 0.0, 1.0]</td>\n      <td>[2.1208895816081967, 2.5463993904939146, 2.499...</td>\n      <td>[0.8, 1.0, 1.0, 1.0, 0.0, 1.0]</td>\n      <td>[-3.576173490503931, -2.645193070168465, -1.16...</td>\n    </tr>\n    <tr>\n      <th>4</th>\n      <td>5</td>\n      <td>Eva</td>\n      <td>[50.0, 7000.0, 3400.0, 0.0, 0.0, 1.0]</td>\n      <td>[2.6511119770102463, 1.1883197155638268, 1.888...</td>\n      <td>[1.0, 0.4666666666666667, 0.7555555555555556, ...</td>\n      <td>[-2.830663276043418, -1.8861237400205002, 0.99...</td>\n    </tr>\n  </tbody>\n</table>\n</div>",
              "datasetInfos": [],
              "metadata": {},
              "removedWidgets": [],
              "textData": null,
              "type": "htmlSandbox"
            }
          }
        }
      ],
      "source": [
        "# Convert to pandas-on-Spark DataFrame and display\n",
        "df_transformed_pandas = df_transformed.select(\"id\", \"name\", \"features\", \"scaled_features\", \"minmax_features\", \"pca_features\").to_pandas_on_spark()\n",
        "df_transformed_pandas"
      ]
    },
    {
      "cell_type": "markdown",
      "metadata": {
        "application/vnd.databricks.v1+cell": {
          "cellMetadata": {},
          "inputWidgets": {},
          "nuid": "86662d2a-a445-4377-9c80-b9b9b3e4097a",
          "showTitle": false,
          "tableResultSettingsMap": {},
          "title": ""
        },
        "id": "naS5af_1FFl4"
      },
      "source": [
        "# !Great Job"
      ]
    },
    {
      "cell_type": "code",
      "execution_count": null,
      "metadata": {
        "application/vnd.databricks.v1+cell": {
          "cellMetadata": {},
          "inputWidgets": {},
          "nuid": "fb644dcc-4ab1-4443-baea-e0de3ff3d1a7",
          "showTitle": false,
          "tableResultSettingsMap": {},
          "title": ""
        },
        "id": "ePJXGc7_FFl4"
      },
      "outputs": [],
      "source": []
    }
  ],
  "metadata": {
    "anaconda-cloud": {},
    "application/vnd.databricks.v1+notebook": {
      "computePreferences": null,
      "dashboards": [],
      "environmentMetadata": null,
      "language": "python",
      "notebookMetadata": {
        "pythonIndentUnit": 4
      },
      "notebookName": "08-Data_Transformations",
      "widgets": {}
    },
    "kernelspec": {
      "display_name": "Python 3",
      "language": "python",
      "name": "python3"
    },
    "language_info": {
      "codemirror_mode": {
        "name": "ipython",
        "version": 3
      },
      "file_extension": ".py",
      "mimetype": "text/x-python",
      "name": "python",
      "nbconvert_exporter": "python",
      "pygments_lexer": "ipython3",
      "version": "3.7.4"
    },
    "colab": {
      "provenance": [],
      "include_colab_link": true
    }
  },
  "nbformat": 4,
  "nbformat_minor": 0
}