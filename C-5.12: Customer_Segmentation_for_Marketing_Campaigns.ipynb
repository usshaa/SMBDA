{
  "cells": [
    {
      "cell_type": "markdown",
      "metadata": {
        "id": "view-in-github",
        "colab_type": "text"
      },
      "source": [
        "<a href=\"https://colab.research.google.com/github/usshaa/SMBDA/blob/main/C-5.12%3A%20Customer_Segmentation_for_Marketing_Campaigns.ipynb\" target=\"_parent\"><img src=\"https://colab.research.google.com/assets/colab-badge.svg\" alt=\"Open In Colab\"/></a>"
      ]
    },
    {
      "cell_type": "markdown",
      "metadata": {
        "application/vnd.databricks.v1+cell": {
          "cellMetadata": {},
          "inputWidgets": {},
          "nuid": "c49994c2-0001-44a3-ba53-f1a94e5c0976",
          "showTitle": false,
          "tableResultSettingsMap": {},
          "title": ""
        },
        "id": "ej6Z4F67eeU7"
      },
      "source": [
        "### Customer Segmentation for Marketing Campaigns\n",
        "\n",
        "**Objective:** Segment customers based on their behavior and demographics to optimize marketing campaigns."
      ]
    },
    {
      "cell_type": "code",
      "execution_count": null,
      "metadata": {
        "application/vnd.databricks.v1+cell": {
          "cellMetadata": {
            "byteLimit": 2048000,
            "rowLimit": 10000
          },
          "inputWidgets": {},
          "nuid": "85ea9bf4-268b-4b0e-bfd5-a3db1e79d761",
          "showTitle": false,
          "tableResultSettingsMap": {},
          "title": ""
        },
        "id": "HrwolQ2XeeU_"
      },
      "outputs": [],
      "source": [
        "from pyspark.sql import SparkSession\n",
        "from pyspark.ml.feature import VectorAssembler, StandardScaler\n",
        "from pyspark.ml.clustering import KMeans\n",
        "from pyspark.ml.evaluation import ClusteringEvaluator"
      ]
    },
    {
      "cell_type": "markdown",
      "metadata": {
        "application/vnd.databricks.v1+cell": {
          "cellMetadata": {},
          "inputWidgets": {},
          "nuid": "33e79c23-7d3f-4491-8d8e-f2d9832a9d1b",
          "showTitle": false,
          "tableResultSettingsMap": {},
          "title": ""
        },
        "id": "7JM2R3DdeeVB"
      },
      "source": [
        "- **Step 1: Initialize Spark Session**: Starts a Spark session to utilize Spark's distributed computing capabilities."
      ]
    },
    {
      "cell_type": "code",
      "execution_count": null,
      "metadata": {
        "application/vnd.databricks.v1+cell": {
          "cellMetadata": {
            "byteLimit": 2048000,
            "rowLimit": 10000
          },
          "inputWidgets": {},
          "nuid": "d380b038-6485-432d-b637-fcff991bf5b5",
          "showTitle": false,
          "tableResultSettingsMap": {},
          "title": ""
        },
        "id": "0l0I5egXeeVB"
      },
      "outputs": [],
      "source": [
        "# Step 1: Initialize Spark Session\n",
        "spark = SparkSession.builder \\\n",
        "    .appName(\"Customer Segmentation\") \\\n",
        "    .getOrCreate()"
      ]
    },
    {
      "cell_type": "markdown",
      "metadata": {
        "application/vnd.databricks.v1+cell": {
          "cellMetadata": {},
          "inputWidgets": {},
          "nuid": "cdb8c82e-fc10-4b21-bab3-bd1e7980de6a",
          "showTitle": false,
          "tableResultSettingsMap": {},
          "title": ""
        },
        "id": "6B6YSqU8eeVC"
      },
      "source": [
        "- **Step 2: Load and Prepare Data**: Loads synthetic customer data into a Spark DataFrame. For real-time scenarios, this step would involve streaming or continuously loading data from a source.\n",
        "  "
      ]
    },
    {
      "cell_type": "code",
      "execution_count": null,
      "metadata": {
        "application/vnd.databricks.v1+cell": {
          "cellMetadata": {
            "byteLimit": 2048000,
            "rowLimit": 10000
          },
          "inputWidgets": {},
          "nuid": "65d9352b-7b51-4de3-8155-43627fbf1088",
          "showTitle": false,
          "tableResultSettingsMap": {},
          "title": ""
        },
        "id": "GgAK5PhfeeVC"
      },
      "outputs": [],
      "source": [
        "# Step 2: Load data into Spark DataFrame\n",
        "data = spark.read.csv(\"/FileStore/tables/customer_segment_data.csv\", header=True, inferSchema=True)"
      ]
    },
    {
      "cell_type": "markdown",
      "metadata": {
        "application/vnd.databricks.v1+cell": {
          "cellMetadata": {},
          "inputWidgets": {},
          "nuid": "44c9995f-66a0-4ab7-9c1f-4f94ffc1b3f8",
          "showTitle": false,
          "tableResultSettingsMap": {},
          "title": ""
        },
        "id": "aSfTJ9_WeeVC"
      },
      "source": [
        "- **Step 3: Feature Engineering**: Uses `VectorAssembler` to combine selected feature columns into a single vector column named \"features\", which is required for model training.\n",
        "  "
      ]
    },
    {
      "cell_type": "code",
      "execution_count": null,
      "metadata": {
        "application/vnd.databricks.v1+cell": {
          "cellMetadata": {
            "byteLimit": 2048000,
            "rowLimit": 10000
          },
          "inputWidgets": {},
          "nuid": "1661ae51-cdb5-4edc-882a-6deda6cb7e27",
          "showTitle": false,
          "tableResultSettingsMap": {},
          "title": ""
        },
        "id": "1tnpyFL2eeVD"
      },
      "outputs": [],
      "source": [
        "# Step 3: Feature Engineering\n",
        "feature_columns = [\"Age\", \"Income\", \"SpendingScore\"]\n",
        "assembler = VectorAssembler(inputCols=feature_columns, outputCol=\"features\")\n",
        "data = assembler.transform(data).select(\"CustomerID\", \"features\")"
      ]
    },
    {
      "cell_type": "markdown",
      "metadata": {
        "application/vnd.databricks.v1+cell": {
          "cellMetadata": {},
          "inputWidgets": {},
          "nuid": "8b353844-6f4d-446b-bb24-25fb433bb28a",
          "showTitle": false,
          "tableResultSettingsMap": {},
          "title": ""
        },
        "id": "6OqgeTLGeeVD"
      },
      "source": [
        "- **Step 4: Scale Features**: Scales the features using `StandardScaler` to normalize the data, which is important for clustering algorithms like K-Means.\n",
        "  "
      ]
    },
    {
      "cell_type": "code",
      "execution_count": null,
      "metadata": {
        "application/vnd.databricks.v1+cell": {
          "cellMetadata": {
            "byteLimit": 2048000,
            "rowLimit": 10000
          },
          "inputWidgets": {},
          "nuid": "8120ad13-6d29-4eb6-abc4-2ef7626025be",
          "showTitle": false,
          "tableResultSettingsMap": {},
          "title": ""
        },
        "id": "t9NeX4hueeVD"
      },
      "outputs": [],
      "source": [
        "# Step 4: Scale Features\n",
        "scaler = StandardScaler(inputCol=\"features\", outputCol=\"scaledFeatures\", withStd=True, withMean=False)\n",
        "scalerModel = scaler.fit(data)\n",
        "data = scalerModel.transform(data)"
      ]
    },
    {
      "cell_type": "markdown",
      "metadata": {
        "application/vnd.databricks.v1+cell": {
          "cellMetadata": {},
          "inputWidgets": {},
          "nuid": "1bb6e6c4-a40d-4e82-b385-a3678bce30a0",
          "showTitle": false,
          "tableResultSettingsMap": {},
          "title": ""
        },
        "id": "oe045In7eeVE"
      },
      "source": [
        "- **Step 5: Build and Train Clustering Model**: Initializes a K-Means clustering model (`KMeans`) and trains it using the prepared dataset."
      ]
    },
    {
      "cell_type": "code",
      "execution_count": null,
      "metadata": {
        "application/vnd.databricks.v1+cell": {
          "cellMetadata": {
            "byteLimit": 2048000,
            "rowLimit": 10000
          },
          "inputWidgets": {},
          "nuid": "6ba985cf-994c-4dca-9d53-b967b9808b93",
          "showTitle": false,
          "tableResultSettingsMap": {},
          "title": ""
        },
        "id": "2FqYXLb6eeVE"
      },
      "outputs": [],
      "source": [
        "# Step 5: Build and Train Clustering Model (K-Means)\n",
        "kmeans = KMeans(k=3, seed=42)\n",
        "model = kmeans.fit(data)"
      ]
    },
    {
      "cell_type": "markdown",
      "metadata": {
        "application/vnd.databricks.v1+cell": {
          "cellMetadata": {},
          "inputWidgets": {},
          "nuid": "e43263c6-35a9-42c4-b7ca-47c8af602302",
          "showTitle": false,
          "tableResultSettingsMap": {},
          "title": ""
        },
        "id": "aGXr_GnceeVE"
      },
      "source": [
        "- **Step 6: Assign Cluster Labels**: Makes predictions on the dataset and assigns cluster labels (predictions) to each customer."
      ]
    },
    {
      "cell_type": "code",
      "execution_count": null,
      "metadata": {
        "application/vnd.databricks.v1+cell": {
          "cellMetadata": {
            "byteLimit": 2048000,
            "rowLimit": 10000
          },
          "inputWidgets": {},
          "nuid": "617932b5-4404-4e18-99e9-a29b8edd6dd0",
          "showTitle": false,
          "tableResultSettingsMap": {},
          "title": ""
        },
        "id": "qC8Kvqi3eeVE"
      },
      "outputs": [],
      "source": [
        "# Step 6: Assign Cluster Labels\n",
        "predictions = model.transform(data)"
      ]
    },
    {
      "cell_type": "code",
      "execution_count": null,
      "metadata": {
        "application/vnd.databricks.v1+cell": {
          "cellMetadata": {
            "byteLimit": 2048000,
            "rowLimit": 10000
          },
          "inputWidgets": {},
          "nuid": "8c12fa6d-ebe5-4ead-a693-71c2dc5d2688",
          "showTitle": false,
          "tableResultSettingsMap": {},
          "title": ""
        },
        "id": "iDibxUUoeeVF",
        "outputId": "59afb7ad-691f-4f52-f95b-33a7c4e9e5d6"
      },
      "outputs": [
        {
          "output_type": "stream",
          "name": "stdout",
          "text": [
            "+----------+--------------------+--------------------+----------+\n|CustomerID|            features|      scaledFeatures|prediction|\n+----------+--------------------+--------------------+----------+\n|         1|[58.0,92549.49450...|[4.18086341281472...|         2|\n|         2|[25.0,74102.62278...|[1.80209629862703...|         2|\n|         3|[19.0,97496.48990...|[1.36959318695654...|         2|\n|         4|[65.0,100394.3858...|[4.68545037643029...|         2|\n|         5|[35.0,120840.1601...|[2.52293481807784...|         0|\n|         6|[33.0,69449.14339...|[2.37876711418768...|         2|\n|         7|[32.0,138105.5690...|[2.30668326224260...|         0|\n|         8|[26.0,58655.90722...|[1.87418015057211...|         1|\n|         9|[65.0,96508.26803...|[4.68545037643029...|         2|\n|        10|[24.0,75747.87869...|[1.73001244668195...|         2|\n|        11|[61.0,93921.83118...|[4.39711496864996...|         2|\n|        12|[65.0,27829.93956...|[4.68545037643029...|         1|\n|        13|[52.0,144814.1410...|[3.74836030114423...|         0|\n|        14|[23.0,32900.36472...|[1.65792859473687...|         1|\n|        15|[55.0,119155.8235...|[3.96461185697947...|         0|\n|        16|[45.0,101316.9539...|[3.24377333752866...|         2|\n|        17|[20.0,54403.99628...|[1.44167703890162...|         1|\n|        18|[19.0,30554.37051...|[1.36959318695654...|         1|\n|        19|[23.0,51182.47309...|[1.65792859473687...|         1|\n|        20|[31.0,91758.99192...|[2.23459941029752...|         2|\n+----------+--------------------+--------------------+----------+\nonly showing top 20 rows\n\n"
          ]
        }
      ],
      "source": [
        "predictions.show()"
      ]
    },
    {
      "cell_type": "markdown",
      "metadata": {
        "application/vnd.databricks.v1+cell": {
          "cellMetadata": {},
          "inputWidgets": {},
          "nuid": "11cd7678-ceb2-4228-bcd4-7212127053be",
          "showTitle": false,
          "tableResultSettingsMap": {},
          "title": ""
        },
        "id": "iS0h3dFGeeVG"
      },
      "source": [
        "#### Silhouette Score\n",
        "\n",
        "Silhouette analysis can provide insight into the density and separation of the formed clusters. It computes the average silhouette coefficient for all samples."
      ]
    },
    {
      "cell_type": "code",
      "execution_count": null,
      "metadata": {
        "application/vnd.databricks.v1+cell": {
          "cellMetadata": {
            "byteLimit": 2048000,
            "rowLimit": 10000
          },
          "inputWidgets": {},
          "nuid": "ddefa3e9-46e5-48b6-8e2f-9984997e66a0",
          "showTitle": false,
          "tableResultSettingsMap": {},
          "title": ""
        },
        "id": "D71EoDICeeVG",
        "outputId": "9b02028a-94cf-409c-8ce6-87de682aeacb"
      },
      "outputs": [
        {
          "output_type": "stream",
          "name": "stdout",
          "text": [
            "Silhouette with squared euclidean distance = 0.7417477569091551\n"
          ]
        }
      ],
      "source": [
        "from pyspark.ml.evaluation import ClusteringEvaluator\n",
        "\n",
        "# Make predictions\n",
        "predictions = model.transform(data)\n",
        "\n",
        "# Evaluate clustering by computing Silhouette score\n",
        "evaluator = ClusteringEvaluator()\n",
        "silhouette = evaluator.evaluate(predictions)\n",
        "print(f\"Silhouette with squared euclidean distance = {silhouette}\")"
      ]
    },
    {
      "cell_type": "markdown",
      "metadata": {
        "application/vnd.databricks.v1+cell": {
          "cellMetadata": {},
          "inputWidgets": {},
          "nuid": "72a97dcf-9d7c-4f55-b5f5-16862bd1763b",
          "showTitle": false,
          "tableResultSettingsMap": {},
          "title": ""
        },
        "id": "IslBA1sleeVG"
      },
      "source": [
        "- **Step 7: Real-time Prediction Example**: Simulates real-time prediction by creating new data (e.g., new customer information) and predicting the cluster using the trained model."
      ]
    },
    {
      "cell_type": "code",
      "execution_count": null,
      "metadata": {
        "application/vnd.databricks.v1+cell": {
          "cellMetadata": {
            "byteLimit": 2048000,
            "rowLimit": 10000
          },
          "inputWidgets": {},
          "nuid": "3402847d-7e74-474c-93eb-2a7a048641b9",
          "showTitle": false,
          "tableResultSettingsMap": {},
          "title": ""
        },
        "id": "UqRU3-MXeeVG",
        "outputId": "faf6b896-1600-46f1-b4cb-127cf5ed2f24"
      },
      "outputs": [
        {
          "output_type": "stream",
          "name": "stdout",
          "text": [
            "Predicted cluster for CustomerID 1001: 2\n"
          ]
        }
      ],
      "source": [
        "# Step 7: Real-time Prediction Example (Assume streaming or real-time data)\n",
        "# For real-time, simulate new data arriving and predict clusters\n",
        "new_data = spark.createDataFrame([(1001, 35, 90000, 70)], [\"CustomerID\", \"Age\", \"Income\", \"SpendingScore\"])\n",
        "\n",
        "# Assemble features and scale\n",
        "new_data = assembler.transform(new_data)\n",
        "new_data = scalerModel.transform(new_data)\n",
        "\n",
        "# Predict clusters\n",
        "predicted_cluster = model.transform(new_data).select(\"CustomerID\", \"prediction\").first()\n",
        "\n",
        "print(f\"Predicted cluster for CustomerID {predicted_cluster['CustomerID']}: {predicted_cluster['prediction']}\")"
      ]
    },
    {
      "cell_type": "code",
      "execution_count": null,
      "metadata": {
        "application/vnd.databricks.v1+cell": {
          "cellMetadata": {},
          "inputWidgets": {},
          "nuid": "68a82efc-9263-4d9c-9573-5b22e6a863a0",
          "showTitle": false,
          "tableResultSettingsMap": {},
          "title": ""
        },
        "id": "yTjqhR7oeeVH"
      },
      "outputs": [],
      "source": []
    }
  ],
  "metadata": {
    "application/vnd.databricks.v1+notebook": {
      "computePreferences": null,
      "dashboards": [],
      "environmentMetadata": null,
      "language": "python",
      "notebookMetadata": {
        "pythonIndentUnit": 4
      },
      "notebookName": "12-Customer Segmentation for Marketing Campaigns",
      "widgets": {}
    },
    "kernelspec": {
      "display_name": "Python 3",
      "language": "python",
      "name": "python3"
    },
    "language_info": {
      "codemirror_mode": {
        "name": "ipython",
        "version": 3
      },
      "file_extension": ".py",
      "mimetype": "text/x-python",
      "name": "python",
      "nbconvert_exporter": "python",
      "pygments_lexer": "ipython3",
      "version": "3.7.4"
    },
    "colab": {
      "provenance": [],
      "include_colab_link": true
    }
  },
  "nbformat": 4,
  "nbformat_minor": 0
}