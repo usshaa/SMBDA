{
  "cells": [
    {
      "cell_type": "markdown",
      "metadata": {
        "id": "view-in-github",
        "colab_type": "text"
      },
      "source": [
        "<a href=\"https://colab.research.google.com/github/usshaa/SMBDA/blob/main/C-5.14%3A%20Realtime_Data_Streaming.ipynb\" target=\"_parent\"><img src=\"https://colab.research.google.com/assets/colab-badge.svg\" alt=\"Open In Colab\"/></a>"
      ]
    },
    {
      "cell_type": "markdown",
      "metadata": {
        "application/vnd.databricks.v1+cell": {
          "cellMetadata": {},
          "inputWidgets": {},
          "nuid": "2db930e8-67db-4b73-b688-93158113bbb6",
          "showTitle": false,
          "tableResultSettingsMap": {},
          "title": ""
        },
        "id": "ervS0Kope1n5"
      },
      "source": [
        "### 1. Setting up Spark Session and Imports"
      ]
    },
    {
      "cell_type": "markdown",
      "metadata": {
        "application/vnd.databricks.v1+cell": {
          "cellMetadata": {},
          "inputWidgets": {},
          "nuid": "8fe315ed-76ca-44ce-87d1-597203993c94",
          "showTitle": false,
          "tableResultSettingsMap": {},
          "title": ""
        },
        "id": "oypB6awDe1oA"
      },
      "source": [
        "- This sets up a Spark session named \"WeatherStream\" which allows us to work with Spark DataFrames.\n",
        "- Various necessary imports are included (`pyspark`, `SparkSession`, `functions`, `types`, `time`)."
      ]
    },
    {
      "cell_type": "code",
      "execution_count": null,
      "metadata": {
        "application/vnd.databricks.v1+cell": {
          "cellMetadata": {
            "byteLimit": 2048000,
            "rowLimit": 10000
          },
          "inputWidgets": {},
          "nuid": "182acece-17cf-499c-892f-15e6ae0d7b01",
          "showTitle": false,
          "tableResultSettingsMap": {},
          "title": ""
        },
        "id": "0st_PRMxe1oE"
      },
      "outputs": [],
      "source": [
        "import pyspark\n",
        "from pyspark.sql import SparkSession\n",
        "from pyspark.sql.functions import *\n",
        "from pyspark.sql.types import *\n",
        "import time"
      ]
    },
    {
      "cell_type": "code",
      "execution_count": null,
      "metadata": {
        "application/vnd.databricks.v1+cell": {
          "cellMetadata": {
            "byteLimit": 2048000,
            "rowLimit": 10000
          },
          "inputWidgets": {},
          "nuid": "2c777bdb-d68f-4f97-a850-1d1d8e0bb019",
          "showTitle": false,
          "tableResultSettingsMap": {},
          "title": ""
        },
        "id": "wm5VBBvEe1oK"
      },
      "outputs": [],
      "source": [
        "# Create a SparkSession\n",
        "spark = SparkSession.builder.appName(\"WeatherStream\").getOrCreate()"
      ]
    },
    {
      "cell_type": "markdown",
      "metadata": {
        "application/vnd.databricks.v1+cell": {
          "cellMetadata": {},
          "inputWidgets": {},
          "nuid": "6d9e392a-de4d-40c2-8ba1-2586e4a5c82f",
          "showTitle": false,
          "tableResultSettingsMap": {},
          "title": ""
        },
        "id": "g7tiLWxLe1oL"
      },
      "source": [
        "### 2. Define API Endpoint and Function to Retrieve Weather Data"
      ]
    },
    {
      "cell_type": "code",
      "execution_count": null,
      "metadata": {
        "application/vnd.databricks.v1+cell": {
          "cellMetadata": {
            "byteLimit": 2048000,
            "rowLimit": 10000
          },
          "inputWidgets": {},
          "nuid": "f55e786b-2462-40be-b014-2595f3b158ee",
          "showTitle": false,
          "tableResultSettingsMap": {},
          "title": ""
        },
        "id": "mxTr2Sgwe1oN"
      },
      "outputs": [],
      "source": [
        "# Define the API endpoint and parameters\n",
        "url = \"https://api.openweathermap.org/data/2.5/weather\"\n",
        "params = {\"appid\": \"5898bcd49cdacd900ef3d429693c887a\"}  # Replace with your API key"
      ]
    },
    {
      "cell_type": "markdown",
      "metadata": {
        "application/vnd.databricks.v1+cell": {
          "cellMetadata": {},
          "inputWidgets": {},
          "nuid": "f30f1b82-966f-4a61-9b4b-c5e3480ecf8b",
          "showTitle": false,
          "tableResultSettingsMap": {},
          "title": ""
        },
        "id": "uz2GuKUTe1oO"
      },
      "source": [
        "- `get_weather(city)`: A function to call the OpenWeatherMap API and retrieve weather data for a given city.\n",
        "- The function returns a dictionary with timestamp, city name, temperature (`temp` in Kelvin), and wind speed (`wind_speed`)."
      ]
    },
    {
      "cell_type": "code",
      "execution_count": null,
      "metadata": {
        "application/vnd.databricks.v1+cell": {
          "cellMetadata": {
            "byteLimit": 2048000,
            "rowLimit": 10000
          },
          "inputWidgets": {},
          "nuid": "b221775d-a102-4168-b7dc-58a41faf4aad",
          "showTitle": false,
          "tableResultSettingsMap": {},
          "title": ""
        },
        "id": "Zp2ewAxLe1oS"
      },
      "outputs": [],
      "source": [
        "def get_weather(city):\n",
        "    import requests\n",
        "    response = requests.get(url, params={\"q\": city, \"appid\": params[\"appid\"]})\n",
        "    if response.status_code == 200:\n",
        "        weather_data = response.json()\n",
        "        return {\n",
        "            \"timestamp\": int(time.time()),  # Current timestamp when data was retrieved\n",
        "            \"city\": city,\n",
        "            \"temp\": weather_data[\"main\"][\"temp\"],\n",
        "            \"wind_speed\": weather_data[\"wind\"][\"speed\"]\n",
        "        }\n",
        "    else:\n",
        "        return None"
      ]
    },
    {
      "cell_type": "markdown",
      "metadata": {
        "application/vnd.databricks.v1+cell": {
          "cellMetadata": {},
          "inputWidgets": {},
          "nuid": "403b6d87-07a7-49f3-87a0-b73a0dbdb34c",
          "showTitle": false,
          "tableResultSettingsMap": {},
          "title": ""
        },
        "id": "-_WlYkW9e1oU"
      },
      "source": [
        "### 3. Define Schema for Weather Data"
      ]
    },
    {
      "cell_type": "markdown",
      "metadata": {
        "application/vnd.databricks.v1+cell": {
          "cellMetadata": {},
          "inputWidgets": {},
          "nuid": "36576175-3d30-4edc-a000-cf7f6db841b7",
          "showTitle": false,
          "tableResultSettingsMap": {},
          "title": ""
        },
        "id": "AAGgsAA-e1oW"
      },
      "source": [
        "- Defines the schema for the weather data which includes timestamp, city, temperature in Celsius (`temp`), and wind speed."
      ]
    },
    {
      "cell_type": "code",
      "execution_count": null,
      "metadata": {
        "application/vnd.databricks.v1+cell": {
          "cellMetadata": {
            "byteLimit": 2048000,
            "rowLimit": 10000
          },
          "inputWidgets": {},
          "nuid": "e1cc5799-3199-4532-b3c7-bcf767f28e78",
          "showTitle": false,
          "tableResultSettingsMap": {},
          "title": ""
        },
        "id": "8k4oM8R8e1oX"
      },
      "outputs": [],
      "source": [
        "schema = StructType([\n",
        "    StructField(\"timestamp\", LongType()),\n",
        "    StructField(\"city\", StringType()),\n",
        "    StructField(\"temp\", DoubleType()),\n",
        "    StructField(\"wind_speed\", DoubleType())\n",
        "])"
      ]
    },
    {
      "cell_type": "markdown",
      "metadata": {
        "application/vnd.databricks.v1+cell": {
          "cellMetadata": {},
          "inputWidgets": {},
          "nuid": "8b02e2a1-9fea-47d4-9b91-4d99f83e233f",
          "showTitle": false,
          "tableResultSettingsMap": {},
          "title": ""
        },
        "id": "lQwKXOY8e1oc"
      },
      "source": [
        "### 4. Define User Defined Function (UDF) to Call API Function"
      ]
    },
    {
      "cell_type": "markdown",
      "metadata": {
        "application/vnd.databricks.v1+cell": {
          "cellMetadata": {},
          "inputWidgets": {},
          "nuid": "b78d4349-2a67-45ae-9b8b-8c9f9727f507",
          "showTitle": false,
          "tableResultSettingsMap": {},
          "title": ""
        },
        "id": "XzCzJDwEe1oe"
      },
      "source": [
        "- `weather_udf(city)`: A UDF that uses `get_weather` function to fetch weather data and returns it according to the defined schema."
      ]
    },
    {
      "cell_type": "code",
      "execution_count": null,
      "metadata": {
        "application/vnd.databricks.v1+cell": {
          "cellMetadata": {
            "byteLimit": 2048000,
            "rowLimit": 10000
          },
          "inputWidgets": {},
          "nuid": "1ed3caed-b5a3-4f46-b1e4-932982ccddeb",
          "showTitle": false,
          "tableResultSettingsMap": {},
          "title": ""
        },
        "id": "WTLEuigce1of"
      },
      "outputs": [],
      "source": [
        "@udf(schema)\n",
        "def weather_udf(city):\n",
        "    return get_weather(city)"
      ]
    },
    {
      "cell_type": "markdown",
      "metadata": {
        "application/vnd.databricks.v1+cell": {
          "cellMetadata": {},
          "inputWidgets": {},
          "nuid": "007e30df-0585-4595-abe9-f111bba3fb2e",
          "showTitle": false,
          "tableResultSettingsMap": {},
          "title": ""
        },
        "id": "_AI7ZZ8re1of"
      },
      "source": [
        "### 5. Create Streaming DataFrame (for demonstration)"
      ]
    },
    {
      "cell_type": "markdown",
      "metadata": {
        "application/vnd.databricks.v1+cell": {
          "cellMetadata": {},
          "inputWidgets": {},
          "nuid": "cbba6b18-568b-4a85-ad44-30c5e5435b75",
          "showTitle": false,
          "tableResultSettingsMap": {},
          "title": ""
        },
        "id": "orFUEiefe1og"
      },
      "source": [
        "- Creates a streaming DataFrame (`df`) for demonstration using a rate source, producing 1 row per second."
      ]
    },
    {
      "cell_type": "code",
      "execution_count": null,
      "metadata": {
        "application/vnd.databricks.v1+cell": {
          "cellMetadata": {
            "byteLimit": 2048000,
            "rowLimit": 10000
          },
          "inputWidgets": {},
          "nuid": "c252df61-c531-49bb-b161-c5a028d4f151",
          "showTitle": false,
          "tableResultSettingsMap": {},
          "title": ""
        },
        "id": "MRz1NWt-e1og"
      },
      "outputs": [],
      "source": [
        "df = spark.readStream.format(\"rate\").option(\"rowsPerSecond\", 1).load()"
      ]
    },
    {
      "cell_type": "markdown",
      "metadata": {
        "application/vnd.databricks.v1+cell": {
          "cellMetadata": {},
          "inputWidgets": {},
          "nuid": "eef4b641-6518-41ee-9486-4b27344c816a",
          "showTitle": false,
          "tableResultSettingsMap": {},
          "title": ""
        },
        "id": "ie7G-ENWe1og"
      },
      "source": [
        "### 6. Apply UDF to Streaming DataFrame to Fetch Weather Data"
      ]
    },
    {
      "cell_type": "markdown",
      "metadata": {
        "application/vnd.databricks.v1+cell": {
          "cellMetadata": {},
          "inputWidgets": {},
          "nuid": "993b5e0c-1a1f-453e-b04a-70d209154799",
          "showTitle": false,
          "tableResultSettingsMap": {},
          "title": ""
        },
        "id": "erYi8g7le1oh"
      },
      "source": [
        "- Applies the `weather_udf` UDF to fetch weather data for a specified city (\"London\" in this case)."
      ]
    },
    {
      "cell_type": "code",
      "execution_count": null,
      "metadata": {
        "application/vnd.databricks.v1+cell": {
          "cellMetadata": {
            "byteLimit": 2048000,
            "rowLimit": 10000
          },
          "inputWidgets": {},
          "nuid": "2310dcee-774d-4369-b83a-c87736285c19",
          "showTitle": false,
          "tableResultSettingsMap": {},
          "title": ""
        },
        "id": "-o0TbsE-e1oh"
      },
      "outputs": [],
      "source": [
        "df = df.withColumn(\"weather_data\", weather_udf(lit(\"India\")))"
      ]
    },
    {
      "cell_type": "markdown",
      "metadata": {
        "application/vnd.databricks.v1+cell": {
          "cellMetadata": {},
          "inputWidgets": {},
          "nuid": "8eb58ce5-c7f1-4fbd-a586-ba930342c55f",
          "showTitle": false,
          "tableResultSettingsMap": {},
          "title": ""
        },
        "id": "QS8QrJbge1oi"
      },
      "source": [
        "### 7. Extract Relevant Fields from JSON Response"
      ]
    },
    {
      "cell_type": "markdown",
      "metadata": {
        "application/vnd.databricks.v1+cell": {
          "cellMetadata": {},
          "inputWidgets": {},
          "nuid": "8f34f11d-f798-498c-bf7a-f67d68095fe3",
          "showTitle": false,
          "tableResultSettingsMap": {},
          "title": ""
        },
        "id": "BOZhl-XDe1oi"
      },
      "source": [
        "- Extracts timestamp, city, temperature, and wind speed from the nested JSON response obtained from the API call."
      ]
    },
    {
      "cell_type": "code",
      "execution_count": null,
      "metadata": {
        "application/vnd.databricks.v1+cell": {
          "cellMetadata": {
            "byteLimit": 2048000,
            "rowLimit": 10000
          },
          "inputWidgets": {},
          "nuid": "d2c2430a-52e5-42bd-bca5-628a5864f8f5",
          "showTitle": false,
          "tableResultSettingsMap": {},
          "title": ""
        },
        "id": "zEeLx6r-e1oi"
      },
      "outputs": [],
      "source": [
        "df = df.withColumn(\"timestamp\", col(\"weather_data.timestamp\")) \\\n",
        "       .withColumn(\"city\", col(\"weather_data.city\")) \\\n",
        "       .withColumn(\"temp\", col(\"weather_data.temp\")) \\\n",
        "       .withColumn(\"wind_speed\", col(\"weather_data.wind_speed\")) \\\n",
        "       .select(\"timestamp\", \"city\", \"temp\", \"wind_speed\")"
      ]
    },
    {
      "cell_type": "markdown",
      "metadata": {
        "application/vnd.databricks.v1+cell": {
          "cellMetadata": {},
          "inputWidgets": {},
          "nuid": "e1b39f30-f7d6-4db8-ae64-1821c9c32975",
          "showTitle": false,
          "tableResultSettingsMap": {},
          "title": ""
        },
        "id": "AIOFbc-9e1oj"
      },
      "source": [
        "### 8. Start Streaming Query to Write to Parquet Files"
      ]
    },
    {
      "cell_type": "markdown",
      "metadata": {
        "application/vnd.databricks.v1+cell": {
          "cellMetadata": {},
          "inputWidgets": {},
          "nuid": "a5ddfa79-f5fd-4ece-9c72-3de7e4a98b42",
          "showTitle": false,
          "tableResultSettingsMap": {},
          "title": ""
        },
        "id": "4-b9agw9e1oj"
      },
      "source": [
        "- Starts the streaming query to write the streaming DataFrame (`df`) to Parquet files.\n",
        "- `awaitTermination(timeout=10)` waits for the streaming query to run for 10 seconds."
      ]
    },
    {
      "cell_type": "code",
      "execution_count": null,
      "metadata": {
        "application/vnd.databricks.v1+cell": {
          "cellMetadata": {
            "byteLimit": 2048000,
            "rowLimit": 10000
          },
          "inputWidgets": {},
          "nuid": "88785c87-1e9d-4b64-9669-f866430fa21b",
          "showTitle": false,
          "tableResultSettingsMap": {},
          "title": ""
        },
        "id": "0rf794aGe1ok",
        "outputId": "1d3e63ab-bda9-4ace-9941-7b2ddfc14e39"
      },
      "outputs": [
        {
          "output_type": "display_data",
          "data": {
            "text/html": [
              "<style scoped>\n",
              "  .ansiout {\n",
              "    display: block;\n",
              "    unicode-bidi: embed;\n",
              "    white-space: pre-wrap;\n",
              "    word-wrap: break-word;\n",
              "    word-break: break-all;\n",
              "    font-family: \"Menlo\", \"Monaco\", \"Consolas\", \"Ubuntu Mono\", \"Source Code Pro\", monospace;\n",
              "    font-size: 13px;\n",
              "    color: #555;\n",
              "    margin-left: 4px;\n",
              "    line-height: 19px;\n",
              "  }\n",
              "</style>"
            ]
          },
          "metadata": {
            "application/vnd.databricks.v1+output": {
              "arguments": {},
              "data": "",
              "errorSummary": "Cancelled",
              "errorTraceType": "html",
              "metadata": {},
              "type": "ipynbError"
            }
          }
        }
      ],
      "source": [
        "query = df.writeStream \\\n",
        "   .outputMode(\"append\") \\\n",
        "   .format(\"parquet\") \\\n",
        "   .option(\"path\", \"/FileStore/table/myfile\")\\\n",
        "   .option(\"checkpointLocation\", \"/FileStore/table/path_to_checkpoint_location\")\\\n",
        "   .start()\n",
        "query.awaitTermination(timeout=1000)"
      ]
    },
    {
      "cell_type": "code",
      "execution_count": null,
      "metadata": {
        "application/vnd.databricks.v1+cell": {
          "cellMetadata": {
            "byteLimit": 2048000,
            "rowLimit": 10000
          },
          "inputWidgets": {},
          "nuid": "e746975b-5bb0-4e43-8008-247c0b928dae",
          "showTitle": false,
          "tableResultSettingsMap": {},
          "title": ""
        },
        "id": "M272Lgaqe1ol",
        "outputId": "77eb5838-55ab-41db-aae0-30b58ca0bafc"
      },
      "outputs": [
        {
          "output_type": "stream",
          "name": "stdout",
          "text": [
            "Out[13]: True"
          ]
        }
      ],
      "source": [
        "query.awaitTermination(timeout=100)"
      ]
    },
    {
      "cell_type": "code",
      "execution_count": null,
      "metadata": {
        "application/vnd.databricks.v1+cell": {
          "cellMetadata": {
            "byteLimit": 2048000,
            "rowLimit": 10000
          },
          "inputWidgets": {},
          "nuid": "232fa74d-2143-4b60-83b7-7191f9742696",
          "showTitle": false,
          "tableResultSettingsMap": {},
          "title": ""
        },
        "id": "UPLT5DEIe1ol"
      },
      "outputs": [],
      "source": [
        "query.stop()"
      ]
    },
    {
      "cell_type": "markdown",
      "metadata": {
        "application/vnd.databricks.v1+cell": {
          "cellMetadata": {},
          "inputWidgets": {},
          "nuid": "1d99ade6-96fc-4c42-913f-9c763252837b",
          "showTitle": false,
          "tableResultSettingsMap": {},
          "title": ""
        },
        "id": "7rLUYXPhe1om"
      },
      "source": [
        "### Step 1. Load Saved Parquet Data After Streaming Completes"
      ]
    },
    {
      "cell_type": "markdown",
      "metadata": {
        "application/vnd.databricks.v1+cell": {
          "cellMetadata": {},
          "inputWidgets": {},
          "nuid": "f5f3c5d1-5b3d-4475-9280-e6eb618ac1c0",
          "showTitle": false,
          "tableResultSettingsMap": {},
          "title": ""
        },
        "id": "DzHteQu3e1om"
      },
      "source": [
        "- Loads the saved Parquet data from the directory where it was written during streaming."
      ]
    },
    {
      "cell_type": "code",
      "execution_count": null,
      "metadata": {
        "application/vnd.databricks.v1+cell": {
          "cellMetadata": {
            "byteLimit": 2048000,
            "rowLimit": 10000
          },
          "inputWidgets": {},
          "nuid": "187c1831-2a54-4372-be61-80422c6a487c",
          "showTitle": false,
          "tableResultSettingsMap": {},
          "title": ""
        },
        "id": "NAhppIcYe1om",
        "outputId": "414662df-a9bf-4e83-bfc5-178b11111384"
      },
      "outputs": [
        {
          "output_type": "stream",
          "name": "stdout",
          "text": [
            "+----------+------+------+----------+\n| timestamp|  city|  temp|wind_speed|\n+----------+------+------+----------+\n|1732763280|London|275.11|      2.06|\n|1732763280|London|275.11|      2.06|\n|1732763280|London|275.11|      2.06|\n|1732763280|London|275.11|      2.06|\n|1732763280|London|275.11|      2.06|\n|1732763280|London|275.11|      2.06|\n|1732763282|London|275.11|      2.06|\n|1732763282|London|275.11|      2.06|\n|1732763282|London|275.11|      2.06|\n|1732763282|London|275.11|      2.06|\n|1732763282|London|275.11|      2.06|\n|1732763283|London|275.11|      2.06|\n|1732763285|London|275.11|      2.06|\n|1732763285|London|275.11|      2.06|\n|1732763286|London|275.11|      2.06|\n|1732763287|London|275.11|      2.06|\n|1732763288|London|275.11|      2.06|\n|1732763289|London|275.11|      2.06|\n|1732763291|London|275.11|      2.06|\n|1732763291|London|275.11|      2.06|\n+----------+------+------+----------+\nonly showing top 20 rows\n\n"
          ]
        }
      ],
      "source": [
        "data = spark.read.parquet(\"/FileStore/table/myfile\")\n",
        "data.show()"
      ]
    },
    {
      "cell_type": "code",
      "execution_count": null,
      "metadata": {
        "application/vnd.databricks.v1+cell": {
          "cellMetadata": {
            "byteLimit": 2048000,
            "rowLimit": 10000
          },
          "inputWidgets": {},
          "nuid": "99e9479c-0efd-441a-9b04-852d9a9f61bb",
          "showTitle": false,
          "tableResultSettingsMap": {},
          "title": ""
        },
        "id": "csVJHqJSe1on"
      },
      "outputs": [],
      "source": [
        "import matplotlib.pyplot as plt\n",
        "import pandas as pd\n",
        "from pyspark.ml.clustering import KMeans\n",
        "from pyspark.ml.feature import VectorAssembler\n",
        "from pyspark.sql.functions import from_unixtime, hour"
      ]
    },
    {
      "cell_type": "code",
      "execution_count": null,
      "metadata": {
        "application/vnd.databricks.v1+cell": {
          "cellMetadata": {
            "byteLimit": 2048000,
            "rowLimit": 10000
          },
          "inputWidgets": {},
          "nuid": "277f2f20-d8ed-4c07-ad33-a21ec4bdf4e3",
          "showTitle": false,
          "tableResultSettingsMap": {},
          "title": ""
        },
        "id": "RmQ4Lv1Te1oo"
      },
      "outputs": [],
      "source": [
        "# Drop rows with missing values\n",
        "data_cleaned = data.dropna()"
      ]
    },
    {
      "cell_type": "code",
      "execution_count": null,
      "metadata": {
        "application/vnd.databricks.v1+cell": {
          "cellMetadata": {
            "byteLimit": 2048000,
            "rowLimit": 10000
          },
          "inputWidgets": {},
          "nuid": "3667c0cb-a7aa-4e82-a760-7c865387d0a3",
          "showTitle": false,
          "tableResultSettingsMap": {},
          "title": ""
        },
        "id": "_fCzW9A6e1op"
      },
      "outputs": [],
      "source": [
        "# Convert timestamp to hour of day\n",
        "data_cleaned = data_cleaned.withColumn(\"hour_of_day\", hour(from_unixtime(data_cleaned[\"timestamp\"])))"
      ]
    },
    {
      "cell_type": "code",
      "execution_count": null,
      "metadata": {
        "application/vnd.databricks.v1+cell": {
          "cellMetadata": {
            "byteLimit": 2048000,
            "rowLimit": 10000
          },
          "inputWidgets": {},
          "nuid": "c9796b15-6fd0-4283-8e85-ca32c865b9df",
          "showTitle": false,
          "tableResultSettingsMap": {},
          "title": ""
        },
        "id": "XkLfLbaKe1op"
      },
      "outputs": [],
      "source": [
        "# Drop unnecessary columns\n",
        "data_cleaned = data_cleaned.drop(\"timestamp\")"
      ]
    },
    {
      "cell_type": "code",
      "execution_count": null,
      "metadata": {
        "application/vnd.databricks.v1+cell": {
          "cellMetadata": {
            "byteLimit": 2048000,
            "rowLimit": 10000
          },
          "inputWidgets": {},
          "nuid": "67361fe4-2dea-4d5d-8530-56f1a6c588af",
          "showTitle": false,
          "tableResultSettingsMap": {},
          "title": ""
        },
        "id": "LKsM1yeqe1op"
      },
      "outputs": [],
      "source": [
        "# Assemble features into a single vector\n",
        "assembler = VectorAssembler(inputCols=[\"temp\", \"wind_speed\", \"hour_of_day\"], outputCol=\"features\")\n",
        "data_assembled = assembler.transform(data_cleaned)"
      ]
    },
    {
      "cell_type": "code",
      "execution_count": null,
      "metadata": {
        "application/vnd.databricks.v1+cell": {
          "cellMetadata": {
            "byteLimit": 2048000,
            "rowLimit": 10000
          },
          "inputWidgets": {},
          "nuid": "1e2d5ffd-9b3e-4761-af4f-dfe55b8a727b",
          "showTitle": false,
          "tableResultSettingsMap": {},
          "title": ""
        },
        "id": "3ehZcYkWe1oq"
      },
      "outputs": [],
      "source": [
        "# Train a K-means model\n",
        "kmeans = KMeans().setK(3).setSeed(42)\n",
        "model = kmeans.fit(data_assembled)"
      ]
    },
    {
      "cell_type": "code",
      "execution_count": null,
      "metadata": {
        "application/vnd.databricks.v1+cell": {
          "cellMetadata": {
            "byteLimit": 2048000,
            "rowLimit": 10000
          },
          "inputWidgets": {},
          "nuid": "cac8233f-ec69-4bd0-b37e-18ffdbea3feb",
          "showTitle": false,
          "tableResultSettingsMap": {},
          "title": ""
        },
        "id": "qTUvazQYe1os"
      },
      "outputs": [],
      "source": [
        "# Make predictions\n",
        "predictions = model.transform(data_assembled)"
      ]
    },
    {
      "cell_type": "code",
      "execution_count": null,
      "metadata": {
        "application/vnd.databricks.v1+cell": {
          "cellMetadata": {
            "byteLimit": 2048000,
            "rowLimit": 10000
          },
          "inputWidgets": {},
          "nuid": "e7091dfb-c1fd-4f39-8836-9969c0ca6491",
          "showTitle": false,
          "tableResultSettingsMap": {},
          "title": ""
        },
        "id": "52JpuvhTe1ot",
        "outputId": "e1a67aad-441f-44eb-e2e4-137169f1bf27"
      },
      "outputs": [
        {
          "output_type": "display_data",
          "data": {
            "text/html": [
              "<div>\n",
              "<style scoped>\n",
              "    .dataframe tbody tr th:only-of-type {\n",
              "        vertical-align: middle;\n",
              "    }\n",
              "\n",
              "    .dataframe tbody tr th {\n",
              "        vertical-align: top;\n",
              "    }\n",
              "\n",
              "    .dataframe thead th {\n",
              "        text-align: right;\n",
              "    }\n",
              "</style>\n",
              "<table border=\"1\" class=\"dataframe\">\n",
              "  <thead>\n",
              "    <tr style=\"text-align: right;\">\n",
              "      <th></th>\n",
              "      <th>temp</th>\n",
              "      <th>wind_speed</th>\n",
              "      <th>hour_of_day</th>\n",
              "      <th>prediction</th>\n",
              "    </tr>\n",
              "  </thead>\n",
              "  <tbody>\n",
              "    <tr>\n",
              "      <th>0</th>\n",
              "      <td>275.11</td>\n",
              "      <td>2.06</td>\n",
              "      <td>3</td>\n",
              "      <td>0</td>\n",
              "    </tr>\n",
              "    <tr>\n",
              "      <th>1</th>\n",
              "      <td>275.11</td>\n",
              "      <td>2.06</td>\n",
              "      <td>3</td>\n",
              "      <td>0</td>\n",
              "    </tr>\n",
              "    <tr>\n",
              "      <th>2</th>\n",
              "      <td>275.11</td>\n",
              "      <td>2.06</td>\n",
              "      <td>3</td>\n",
              "      <td>0</td>\n",
              "    </tr>\n",
              "    <tr>\n",
              "      <th>3</th>\n",
              "      <td>275.11</td>\n",
              "      <td>2.06</td>\n",
              "      <td>3</td>\n",
              "      <td>0</td>\n",
              "    </tr>\n",
              "    <tr>\n",
              "      <th>4</th>\n",
              "      <td>275.11</td>\n",
              "      <td>2.06</td>\n",
              "      <td>3</td>\n",
              "      <td>0</td>\n",
              "    </tr>\n",
              "    <tr>\n",
              "      <th>...</th>\n",
              "      <td>...</td>\n",
              "      <td>...</td>\n",
              "      <td>...</td>\n",
              "      <td>...</td>\n",
              "    </tr>\n",
              "    <tr>\n",
              "      <th>256</th>\n",
              "      <td>275.11</td>\n",
              "      <td>2.06</td>\n",
              "      <td>3</td>\n",
              "      <td>0</td>\n",
              "    </tr>\n",
              "    <tr>\n",
              "      <th>257</th>\n",
              "      <td>275.11</td>\n",
              "      <td>2.06</td>\n",
              "      <td>3</td>\n",
              "      <td>0</td>\n",
              "    </tr>\n",
              "    <tr>\n",
              "      <th>258</th>\n",
              "      <td>275.11</td>\n",
              "      <td>2.06</td>\n",
              "      <td>3</td>\n",
              "      <td>0</td>\n",
              "    </tr>\n",
              "    <tr>\n",
              "      <th>259</th>\n",
              "      <td>275.11</td>\n",
              "      <td>2.06</td>\n",
              "      <td>3</td>\n",
              "      <td>0</td>\n",
              "    </tr>\n",
              "    <tr>\n",
              "      <th>260</th>\n",
              "      <td>275.11</td>\n",
              "      <td>2.06</td>\n",
              "      <td>3</td>\n",
              "      <td>0</td>\n",
              "    </tr>\n",
              "  </tbody>\n",
              "</table>\n",
              "<p>261 rows × 4 columns</p>\n",
              "</div>"
            ]
          },
          "metadata": {
            "application/vnd.databricks.v1+output": {
              "addedWidgets": {},
              "arguments": {},
              "data": "<div>\n<style scoped>\n    .dataframe tbody tr th:only-of-type {\n        vertical-align: middle;\n    }\n\n    .dataframe tbody tr th {\n        vertical-align: top;\n    }\n\n    .dataframe thead th {\n        text-align: right;\n    }\n</style>\n<table border=\"1\" class=\"dataframe\">\n  <thead>\n    <tr style=\"text-align: right;\">\n      <th></th>\n      <th>temp</th>\n      <th>wind_speed</th>\n      <th>hour_of_day</th>\n      <th>prediction</th>\n    </tr>\n  </thead>\n  <tbody>\n    <tr>\n      <th>0</th>\n      <td>275.11</td>\n      <td>2.06</td>\n      <td>3</td>\n      <td>0</td>\n    </tr>\n    <tr>\n      <th>1</th>\n      <td>275.11</td>\n      <td>2.06</td>\n      <td>3</td>\n      <td>0</td>\n    </tr>\n    <tr>\n      <th>2</th>\n      <td>275.11</td>\n      <td>2.06</td>\n      <td>3</td>\n      <td>0</td>\n    </tr>\n    <tr>\n      <th>3</th>\n      <td>275.11</td>\n      <td>2.06</td>\n      <td>3</td>\n      <td>0</td>\n    </tr>\n    <tr>\n      <th>4</th>\n      <td>275.11</td>\n      <td>2.06</td>\n      <td>3</td>\n      <td>0</td>\n    </tr>\n    <tr>\n      <th>...</th>\n      <td>...</td>\n      <td>...</td>\n      <td>...</td>\n      <td>...</td>\n    </tr>\n    <tr>\n      <th>256</th>\n      <td>275.11</td>\n      <td>2.06</td>\n      <td>3</td>\n      <td>0</td>\n    </tr>\n    <tr>\n      <th>257</th>\n      <td>275.11</td>\n      <td>2.06</td>\n      <td>3</td>\n      <td>0</td>\n    </tr>\n    <tr>\n      <th>258</th>\n      <td>275.11</td>\n      <td>2.06</td>\n      <td>3</td>\n      <td>0</td>\n    </tr>\n    <tr>\n      <th>259</th>\n      <td>275.11</td>\n      <td>2.06</td>\n      <td>3</td>\n      <td>0</td>\n    </tr>\n    <tr>\n      <th>260</th>\n      <td>275.11</td>\n      <td>2.06</td>\n      <td>3</td>\n      <td>0</td>\n    </tr>\n  </tbody>\n</table>\n<p>261 rows × 4 columns</p>\n</div>",
              "datasetInfos": [],
              "metadata": {},
              "removedWidgets": [],
              "textData": null,
              "type": "htmlSandbox"
            }
          }
        }
      ],
      "source": [
        "# Convert Spark DataFrame to Pandas DataFrame for visualization\n",
        "predictions_pd = predictions.select(\"temp\", \"wind_speed\", \"hour_of_day\", \"prediction\").toPandas()\n",
        "predictions_pd"
      ]
    },
    {
      "cell_type": "code",
      "execution_count": null,
      "metadata": {
        "application/vnd.databricks.v1+cell": {
          "cellMetadata": {
            "byteLimit": 2048000,
            "rowLimit": 10000
          },
          "inputWidgets": {},
          "nuid": "e1e30016-13f1-4eca-9b1d-066f02f5dad6",
          "showTitle": false,
          "tableResultSettingsMap": {},
          "title": ""
        },
        "id": "SKpMGrIfe1o5",
        "outputId": "d954c568-52a1-413f-87ae-386a4f28f07e"
      },
      "outputs": [
        {
          "output_type": "display_data",
          "data": {
            "image/png": "[encoded data removed]"
          },
          "metadata": {
            "application/vnd.databricks.v1+output": {
              "addedWidgets": {},
              "arguments": {},
              "data": "data:image/png;base64,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\n",
              "datasetInfos": [],
              "metadata": {},
              "removedWidgets": [],
              "type": "image"
            }
          }
        }
      ],
      "source": [
        "# Scatter plot of features colored by predicted cluster\n",
        "# Sample a subset of data for visualization\n",
        "plt.figure(figsize=(10, 6))\n",
        "plt.scatter(predictions_pd[\"temp\"], predictions_pd[\"wind_speed\"], c=predictions_pd[\"prediction\"], cmap='viridis')\n",
        "plt.xlabel('Temperature')\n",
        "plt.ylabel('Wind Speed')\n",
        "plt.title('Clustering of Weather Data')\n",
        "plt.colorbar(label='Cluster')\n",
        "plt.xlim(predictions_pd[\"temp\"].min() - 1, predictions_pd[\"temp\"].max() + 1)\n",
        "plt.ylim(predictions_pd[\"wind_speed\"].min() - 1, predictions_pd[\"wind_speed\"].max() + 1)\n",
        "plt.show()"
      ]
    },
    {
      "cell_type": "markdown",
      "metadata": {
        "application/vnd.databricks.v1+cell": {
          "cellMetadata": {},
          "inputWidgets": {},
          "nuid": "3a1736a1-890d-4035-993f-3f864fc5d868",
          "showTitle": false,
          "tableResultSettingsMap": {},
          "title": ""
        },
        "id": "YcTyT8OBe1o6"
      },
      "source": [
        "#### Make Predictions:\n",
        "Use the trained model to make predictions on your data."
      ]
    },
    {
      "cell_type": "code",
      "execution_count": null,
      "metadata": {
        "application/vnd.databricks.v1+cell": {
          "cellMetadata": {
            "byteLimit": 2048000,
            "rowLimit": 10000
          },
          "inputWidgets": {},
          "nuid": "75809d3e-ec63-4ac7-b5e7-3de88bf76382",
          "showTitle": false,
          "tableResultSettingsMap": {},
          "title": ""
        },
        "id": "nPGFzV_ze1o6"
      },
      "outputs": [],
      "source": [
        "predictions = model.transform(data_assembled)"
      ]
    },
    {
      "cell_type": "markdown",
      "metadata": {
        "application/vnd.databricks.v1+cell": {
          "cellMetadata": {},
          "inputWidgets": {},
          "nuid": "b48fec4d-eae5-422a-ad3d-c9ea38363ac7",
          "showTitle": false,
          "tableResultSettingsMap": {},
          "title": ""
        },
        "id": "YG5IcQS_e1o6"
      },
      "source": [
        "#### Extract Predicted Cluster Labels:\n",
        "Extract the predicted cluster labels from the predictions DataFrame."
      ]
    },
    {
      "cell_type": "code",
      "execution_count": null,
      "metadata": {
        "application/vnd.databricks.v1+cell": {
          "cellMetadata": {
            "byteLimit": 2048000,
            "rowLimit": 10000
          },
          "inputWidgets": {},
          "nuid": "ac214afe-734b-439a-8cd9-ae942d95f88f",
          "showTitle": false,
          "tableResultSettingsMap": {},
          "title": ""
        },
        "id": "Pqkgfsije1o7"
      },
      "outputs": [],
      "source": [
        "predicted_labels = predictions.select(\"prediction\").rdd.flatMap(lambda x: x).collect()"
      ]
    },
    {
      "cell_type": "markdown",
      "metadata": {
        "application/vnd.databricks.v1+cell": {
          "cellMetadata": {},
          "inputWidgets": {},
          "nuid": "50474547-c826-4260-9b55-a448d4c204c3",
          "showTitle": false,
          "tableResultSettingsMap": {},
          "title": ""
        },
        "id": "CT5T1F0te1o7"
      },
      "source": [
        "#### Compute Silhouette Score:\n",
        "Calculate the silhouette score using the silhouette_score function from sklearn.metrics."
      ]
    },
    {
      "cell_type": "code",
      "execution_count": null,
      "metadata": {
        "application/vnd.databricks.v1+cell": {
          "cellMetadata": {
            "byteLimit": 2048000,
            "rowLimit": 10000
          },
          "inputWidgets": {},
          "nuid": "a573693e-533c-4338-8bd5-be304ff30d5d",
          "showTitle": false,
          "tableResultSettingsMap": {},
          "title": ""
        },
        "id": "EkzPljkle1o7"
      },
      "outputs": [],
      "source": [
        "from sklearn.metrics import silhouette_score\n",
        "from sklearn.preprocessing import StandardScaler\n",
        "import pandas as pd"
      ]
    },
    {
      "cell_type": "code",
      "execution_count": null,
      "metadata": {
        "application/vnd.databricks.v1+cell": {
          "cellMetadata": {
            "byteLimit": 2048000,
            "rowLimit": 10000
          },
          "inputWidgets": {},
          "nuid": "9655b17b-ee0c-4771-9282-5bb56e98db63",
          "showTitle": false,
          "tableResultSettingsMap": {},
          "title": ""
        },
        "id": "qvr15ZQAe1o8",
        "outputId": "36f192ca-011b-49d1-87b5-b108c47a1198"
      },
      "outputs": [
        {
          "output_type": "display_data",
          "data": {
            "text/html": [
              "<div>\n",
              "<style scoped>\n",
              "    .dataframe tbody tr th:only-of-type {\n",
              "        vertical-align: middle;\n",
              "    }\n",
              "\n",
              "    .dataframe tbody tr th {\n",
              "        vertical-align: top;\n",
              "    }\n",
              "\n",
              "    .dataframe thead th {\n",
              "        text-align: right;\n",
              "    }\n",
              "</style>\n",
              "<table border=\"1\" class=\"dataframe\">\n",
              "  <thead>\n",
              "    <tr style=\"text-align: right;\">\n",
              "      <th></th>\n",
              "      <th>temp</th>\n",
              "      <th>wind_speed</th>\n",
              "      <th>hour_of_day</th>\n",
              "      <th>prediction</th>\n",
              "    </tr>\n",
              "  </thead>\n",
              "  <tbody>\n",
              "    <tr>\n",
              "      <th>0</th>\n",
              "      <td>275.11</td>\n",
              "      <td>2.06</td>\n",
              "      <td>3</td>\n",
              "      <td>0</td>\n",
              "    </tr>\n",
              "    <tr>\n",
              "      <th>1</th>\n",
              "      <td>275.11</td>\n",
              "      <td>2.06</td>\n",
              "      <td>3</td>\n",
              "      <td>0</td>\n",
              "    </tr>\n",
              "    <tr>\n",
              "      <th>2</th>\n",
              "      <td>275.11</td>\n",
              "      <td>2.06</td>\n",
              "      <td>3</td>\n",
              "      <td>0</td>\n",
              "    </tr>\n",
              "    <tr>\n",
              "      <th>3</th>\n",
              "      <td>275.11</td>\n",
              "      <td>2.06</td>\n",
              "      <td>3</td>\n",
              "      <td>0</td>\n",
              "    </tr>\n",
              "    <tr>\n",
              "      <th>4</th>\n",
              "      <td>275.11</td>\n",
              "      <td>2.06</td>\n",
              "      <td>3</td>\n",
              "      <td>0</td>\n",
              "    </tr>\n",
              "    <tr>\n",
              "      <th>...</th>\n",
              "      <td>...</td>\n",
              "      <td>...</td>\n",
              "      <td>...</td>\n",
              "      <td>...</td>\n",
              "    </tr>\n",
              "    <tr>\n",
              "      <th>256</th>\n",
              "      <td>275.11</td>\n",
              "      <td>2.06</td>\n",
              "      <td>3</td>\n",
              "      <td>0</td>\n",
              "    </tr>\n",
              "    <tr>\n",
              "      <th>257</th>\n",
              "      <td>275.11</td>\n",
              "      <td>2.06</td>\n",
              "      <td>3</td>\n",
              "      <td>0</td>\n",
              "    </tr>\n",
              "    <tr>\n",
              "      <th>258</th>\n",
              "      <td>275.11</td>\n",
              "      <td>2.06</td>\n",
              "      <td>3</td>\n",
              "      <td>0</td>\n",
              "    </tr>\n",
              "    <tr>\n",
              "      <th>259</th>\n",
              "      <td>275.11</td>\n",
              "      <td>2.06</td>\n",
              "      <td>3</td>\n",
              "      <td>0</td>\n",
              "    </tr>\n",
              "    <tr>\n",
              "      <th>260</th>\n",
              "      <td>275.11</td>\n",
              "      <td>2.06</td>\n",
              "      <td>3</td>\n",
              "      <td>0</td>\n",
              "    </tr>\n",
              "  </tbody>\n",
              "</table>\n",
              "<p>261 rows × 4 columns</p>\n",
              "</div>"
            ]
          },
          "metadata": {
            "application/vnd.databricks.v1+output": {
              "addedWidgets": {},
              "arguments": {},
              "data": "<div>\n<style scoped>\n    .dataframe tbody tr th:only-of-type {\n        vertical-align: middle;\n    }\n\n    .dataframe tbody tr th {\n        vertical-align: top;\n    }\n\n    .dataframe thead th {\n        text-align: right;\n    }\n</style>\n<table border=\"1\" class=\"dataframe\">\n  <thead>\n    <tr style=\"text-align: right;\">\n      <th></th>\n      <th>temp</th>\n      <th>wind_speed</th>\n      <th>hour_of_day</th>\n      <th>prediction</th>\n    </tr>\n  </thead>\n  <tbody>\n    <tr>\n      <th>0</th>\n      <td>275.11</td>\n      <td>2.06</td>\n      <td>3</td>\n      <td>0</td>\n    </tr>\n    <tr>\n      <th>1</th>\n      <td>275.11</td>\n      <td>2.06</td>\n      <td>3</td>\n      <td>0</td>\n    </tr>\n    <tr>\n      <th>2</th>\n      <td>275.11</td>\n      <td>2.06</td>\n      <td>3</td>\n      <td>0</td>\n    </tr>\n    <tr>\n      <th>3</th>\n      <td>275.11</td>\n      <td>2.06</td>\n      <td>3</td>\n      <td>0</td>\n    </tr>\n    <tr>\n      <th>4</th>\n      <td>275.11</td>\n      <td>2.06</td>\n      <td>3</td>\n      <td>0</td>\n    </tr>\n    <tr>\n      <th>...</th>\n      <td>...</td>\n      <td>...</td>\n      <td>...</td>\n      <td>...</td>\n    </tr>\n    <tr>\n      <th>256</th>\n      <td>275.11</td>\n      <td>2.06</td>\n      <td>3</td>\n      <td>0</td>\n    </tr>\n    <tr>\n      <th>257</th>\n      <td>275.11</td>\n      <td>2.06</td>\n      <td>3</td>\n      <td>0</td>\n    </tr>\n    <tr>\n      <th>258</th>\n      <td>275.11</td>\n      <td>2.06</td>\n      <td>3</td>\n      <td>0</td>\n    </tr>\n    <tr>\n      <th>259</th>\n      <td>275.11</td>\n      <td>2.06</td>\n      <td>3</td>\n      <td>0</td>\n    </tr>\n    <tr>\n      <th>260</th>\n      <td>275.11</td>\n      <td>2.06</td>\n      <td>3</td>\n      <td>0</td>\n    </tr>\n  </tbody>\n</table>\n<p>261 rows × 4 columns</p>\n</div>",
              "datasetInfos": [],
              "metadata": {},
              "removedWidgets": [],
              "textData": null,
              "type": "htmlSandbox"
            }
          }
        }
      ],
      "source": [
        "# Convert predictions DataFrame to Pandas DataFrame for silhouette score calculation\n",
        "predictions_pd = predictions.select(\"temp\", \"wind_speed\", \"hour_of_day\", \"prediction\").toPandas()\n",
        "predictions_pd"
      ]
    },
    {
      "cell_type": "code",
      "execution_count": null,
      "metadata": {
        "application/vnd.databricks.v1+cell": {
          "cellMetadata": {
            "byteLimit": 2048000,
            "rowLimit": 10000
          },
          "inputWidgets": {},
          "nuid": "3d20d96b-3f18-44b8-bbbd-5d9b55a4ecd1",
          "showTitle": false,
          "tableResultSettingsMap": {},
          "title": ""
        },
        "id": "kzRUf11ne1o9"
      },
      "outputs": [],
      "source": [
        "# Standardize the features\n",
        "scaler = StandardScaler()\n",
        "scaled_features = scaler.fit_transform(predictions_pd[[\"temp\", \"wind_speed\", \"hour_of_day\"]])"
      ]
    },
    {
      "cell_type": "code",
      "execution_count": null,
      "metadata": {
        "application/vnd.databricks.v1+cell": {
          "cellMetadata": {
            "byteLimit": 2048000,
            "rowLimit": 10000
          },
          "inputWidgets": {},
          "nuid": "bbd8cc29-d14b-45d0-a001-925f2e1d11d7",
          "showTitle": false,
          "tableResultSettingsMap": {},
          "title": ""
        },
        "id": "KhDhPZAae1o9",
        "outputId": "09810b1e-d8d7-44df-fcb1-3a003e2dae43"
      },
      "outputs": [
        {
          "output_type": "display_data",
          "data": {
            "text/plain": [
              "\u001b[0;31m---------------------------------------------------------------------------\u001b[0m\n",
              "\u001b[0;31mValueError\u001b[0m                                Traceback (most recent call last)\n",
              "File \u001b[0;32m<command-1926133685684794>:2\u001b[0m\n",
              "\u001b[1;32m      1\u001b[0m \u001b[38;5;66;03m# Compute silhouette score\u001b[39;00m\n",
              "\u001b[0;32m----> 2\u001b[0m silhouette_avg \u001b[38;5;241m=\u001b[39m silhouette_score(scaled_features, predicted_labels)\n",
              "\u001b[1;32m      3\u001b[0m \u001b[38;5;28mprint\u001b[39m(\u001b[38;5;124mf\u001b[39m\u001b[38;5;124m\"\u001b[39m\u001b[38;5;124mSilhouette Score: \u001b[39m\u001b[38;5;132;01m{\u001b[39;00msilhouette_avg\u001b[38;5;132;01m}\u001b[39;00m\u001b[38;5;124m\"\u001b[39m)\n",
              "\n",
              "File \u001b[0;32m/databricks/python/lib/python3.9/site-packages/sklearn/metrics/cluster/_unsupervised.py:117\u001b[0m, in \u001b[0;36msilhouette_score\u001b[0;34m(X, labels, metric, sample_size, random_state, **kwds)\u001b[0m\n",
              "\u001b[1;32m    115\u001b[0m     \u001b[38;5;28;01melse\u001b[39;00m:\n",
              "\u001b[1;32m    116\u001b[0m         X, labels \u001b[38;5;241m=\u001b[39m X[indices], labels[indices]\n",
              "\u001b[0;32m--> 117\u001b[0m \u001b[38;5;28;01mreturn\u001b[39;00m np\u001b[38;5;241m.\u001b[39mmean(\u001b[43msilhouette_samples\u001b[49m\u001b[43m(\u001b[49m\u001b[43mX\u001b[49m\u001b[43m,\u001b[49m\u001b[43m \u001b[49m\u001b[43mlabels\u001b[49m\u001b[43m,\u001b[49m\u001b[43m \u001b[49m\u001b[43mmetric\u001b[49m\u001b[38;5;241;43m=\u001b[39;49m\u001b[43mmetric\u001b[49m\u001b[43m,\u001b[49m\u001b[43m \u001b[49m\u001b[38;5;241;43m*\u001b[39;49m\u001b[38;5;241;43m*\u001b[39;49m\u001b[43mkwds\u001b[49m\u001b[43m)\u001b[49m)\n",
              "\n",
              "File \u001b[0;32m/databricks/python/lib/python3.9/site-packages/sklearn/metrics/cluster/_unsupervised.py:227\u001b[0m, in \u001b[0;36msilhouette_samples\u001b[0;34m(X, labels, metric, **kwds)\u001b[0m\n",
              "\u001b[1;32m    225\u001b[0m n_samples \u001b[38;5;241m=\u001b[39m \u001b[38;5;28mlen\u001b[39m(labels)\n",
              "\u001b[1;32m    226\u001b[0m label_freqs \u001b[38;5;241m=\u001b[39m np\u001b[38;5;241m.\u001b[39mbincount(labels)\n",
              "\u001b[0;32m--> 227\u001b[0m \u001b[43mcheck_number_of_labels\u001b[49m\u001b[43m(\u001b[49m\u001b[38;5;28;43mlen\u001b[39;49m\u001b[43m(\u001b[49m\u001b[43mle\u001b[49m\u001b[38;5;241;43m.\u001b[39;49m\u001b[43mclasses_\u001b[49m\u001b[43m)\u001b[49m\u001b[43m,\u001b[49m\u001b[43m \u001b[49m\u001b[43mn_samples\u001b[49m\u001b[43m)\u001b[49m\n",
              "\u001b[1;32m    229\u001b[0m kwds[\u001b[38;5;124m\"\u001b[39m\u001b[38;5;124mmetric\u001b[39m\u001b[38;5;124m\"\u001b[39m] \u001b[38;5;241m=\u001b[39m metric\n",
              "\u001b[1;32m    230\u001b[0m reduce_func \u001b[38;5;241m=\u001b[39m functools\u001b[38;5;241m.\u001b[39mpartial(\n",
              "\u001b[1;32m    231\u001b[0m     _silhouette_reduce, labels\u001b[38;5;241m=\u001b[39mlabels, label_freqs\u001b[38;5;241m=\u001b[39mlabel_freqs\n",
              "\u001b[1;32m    232\u001b[0m )\n",
              "\n",
              "File \u001b[0;32m/databricks/python/lib/python3.9/site-packages/sklearn/metrics/cluster/_unsupervised.py:33\u001b[0m, in \u001b[0;36mcheck_number_of_labels\u001b[0;34m(n_labels, n_samples)\u001b[0m\n",
              "\u001b[1;32m     22\u001b[0m \u001b[38;5;124;03m\"\"\"Check that number of labels are valid.\u001b[39;00m\n",
              "\u001b[1;32m     23\u001b[0m \n",
              "\u001b[1;32m     24\u001b[0m \u001b[38;5;124;03mParameters\u001b[39;00m\n",
              "\u001b[0;32m   (...)\u001b[0m\n",
              "\u001b[1;32m     30\u001b[0m \u001b[38;5;124;03m    Number of samples.\u001b[39;00m\n",
              "\u001b[1;32m     31\u001b[0m \u001b[38;5;124;03m\"\"\"\u001b[39;00m\n",
              "\u001b[1;32m     32\u001b[0m \u001b[38;5;28;01mif\u001b[39;00m \u001b[38;5;129;01mnot\u001b[39;00m \u001b[38;5;241m1\u001b[39m \u001b[38;5;241m<\u001b[39m n_labels \u001b[38;5;241m<\u001b[39m n_samples:\n",
              "\u001b[0;32m---> 33\u001b[0m     \u001b[38;5;28;01mraise\u001b[39;00m \u001b[38;5;167;01mValueError\u001b[39;00m(\n",
              "\u001b[1;32m     34\u001b[0m         \u001b[38;5;124m\"\u001b[39m\u001b[38;5;124mNumber of labels is \u001b[39m\u001b[38;5;132;01m%d\u001b[39;00m\u001b[38;5;124m. Valid values are 2 to n_samples - 1 (inclusive)\u001b[39m\u001b[38;5;124m\"\u001b[39m\n",
              "\u001b[1;32m     35\u001b[0m         \u001b[38;5;241m%\u001b[39m n_labels\n",
              "\u001b[1;32m     36\u001b[0m     )\n",
              "\n",
              "\u001b[0;31mValueError\u001b[0m: Number of labels is 1. Valid values are 2 to n_samples - 1 (inclusive)"
            ]
          },
          "metadata": {
            "application/vnd.databricks.v1+output": {
              "arguments": {},
              "data": "\u001b[0;31m---------------------------------------------------------------------------\u001b[0m\n\u001b[0;31mValueError\u001b[0m                                Traceback (most recent call last)\nFile \u001b[0;32m<command-1926133685684794>:2\u001b[0m\n\u001b[1;32m      1\u001b[0m \u001b[38;5;66;03m# Compute silhouette score\u001b[39;00m\n\u001b[0;32m----> 2\u001b[0m silhouette_avg \u001b[38;5;241m=\u001b[39m silhouette_score(scaled_features, predicted_labels)\n\u001b[1;32m      3\u001b[0m \u001b[38;5;28mprint\u001b[39m(\u001b[38;5;124mf\u001b[39m\u001b[38;5;124m\"\u001b[39m\u001b[38;5;124mSilhouette Score: \u001b[39m\u001b[38;5;132;01m{\u001b[39;00msilhouette_avg\u001b[38;5;132;01m}\u001b[39;00m\u001b[38;5;124m\"\u001b[39m)\n\nFile \u001b[0;32m/databricks/python/lib/python3.9/site-packages/sklearn/metrics/cluster/_unsupervised.py:117\u001b[0m, in \u001b[0;36msilhouette_score\u001b[0;34m(X, labels, metric, sample_size, random_state, **kwds)\u001b[0m\n\u001b[1;32m    115\u001b[0m     \u001b[38;5;28;01melse\u001b[39;00m:\n\u001b[1;32m    116\u001b[0m         X, labels \u001b[38;5;241m=\u001b[39m X[indices], labels[indices]\n\u001b[0;32m--> 117\u001b[0m \u001b[38;5;28;01mreturn\u001b[39;00m np\u001b[38;5;241m.\u001b[39mmean(\u001b[43msilhouette_samples\u001b[49m\u001b[43m(\u001b[49m\u001b[43mX\u001b[49m\u001b[43m,\u001b[49m\u001b[43m \u001b[49m\u001b[43mlabels\u001b[49m\u001b[43m,\u001b[49m\u001b[43m \u001b[49m\u001b[43mmetric\u001b[49m\u001b[38;5;241;43m=\u001b[39;49m\u001b[43mmetric\u001b[49m\u001b[43m,\u001b[49m\u001b[43m \u001b[49m\u001b[38;5;241;43m*\u001b[39;49m\u001b[38;5;241;43m*\u001b[39;49m\u001b[43mkwds\u001b[49m\u001b[43m)\u001b[49m)\n\nFile \u001b[0;32m/databricks/python/lib/python3.9/site-packages/sklearn/metrics/cluster/_unsupervised.py:227\u001b[0m, in \u001b[0;36msilhouette_samples\u001b[0;34m(X, labels, metric, **kwds)\u001b[0m\n\u001b[1;32m    225\u001b[0m n_samples \u001b[38;5;241m=\u001b[39m \u001b[38;5;28mlen\u001b[39m(labels)\n\u001b[1;32m    226\u001b[0m label_freqs \u001b[38;5;241m=\u001b[39m np\u001b[38;5;241m.\u001b[39mbincount(labels)\n\u001b[0;32m--> 227\u001b[0m \u001b[43mcheck_number_of_labels\u001b[49m\u001b[43m(\u001b[49m\u001b[38;5;28;43mlen\u001b[39;49m\u001b[43m(\u001b[49m\u001b[43mle\u001b[49m\u001b[38;5;241;43m.\u001b[39;49m\u001b[43mclasses_\u001b[49m\u001b[43m)\u001b[49m\u001b[43m,\u001b[49m\u001b[43m \u001b[49m\u001b[43mn_samples\u001b[49m\u001b[43m)\u001b[49m\n\u001b[1;32m    229\u001b[0m kwds[\u001b[38;5;124m\"\u001b[39m\u001b[38;5;124mmetric\u001b[39m\u001b[38;5;124m\"\u001b[39m] \u001b[38;5;241m=\u001b[39m metric\n\u001b[1;32m    230\u001b[0m reduce_func \u001b[38;5;241m=\u001b[39m functools\u001b[38;5;241m.\u001b[39mpartial(\n\u001b[1;32m    231\u001b[0m     _silhouette_reduce, labels\u001b[38;5;241m=\u001b[39mlabels, label_freqs\u001b[38;5;241m=\u001b[39mlabel_freqs\n\u001b[1;32m    232\u001b[0m )\n\nFile \u001b[0;32m/databricks/python/lib/python3.9/site-packages/sklearn/metrics/cluster/_unsupervised.py:33\u001b[0m, in \u001b[0;36mcheck_number_of_labels\u001b[0;34m(n_labels, n_samples)\u001b[0m\n\u001b[1;32m     22\u001b[0m \u001b[38;5;124;03m\"\"\"Check that number of labels are valid.\u001b[39;00m\n\u001b[1;32m     23\u001b[0m \n\u001b[1;32m     24\u001b[0m \u001b[38;5;124;03mParameters\u001b[39;00m\n\u001b[0;32m   (...)\u001b[0m\n\u001b[1;32m     30\u001b[0m \u001b[38;5;124;03m    Number of samples.\u001b[39;00m\n\u001b[1;32m     31\u001b[0m \u001b[38;5;124;03m\"\"\"\u001b[39;00m\n\u001b[1;32m     32\u001b[0m \u001b[38;5;28;01mif\u001b[39;00m \u001b[38;5;129;01mnot\u001b[39;00m \u001b[38;5;241m1\u001b[39m \u001b[38;5;241m<\u001b[39m n_labels \u001b[38;5;241m<\u001b[39m n_samples:\n\u001b[0;32m---> 33\u001b[0m     \u001b[38;5;28;01mraise\u001b[39;00m \u001b[38;5;167;01mValueError\u001b[39;00m(\n\u001b[1;32m     34\u001b[0m         \u001b[38;5;124m\"\u001b[39m\u001b[38;5;124mNumber of labels is \u001b[39m\u001b[38;5;132;01m%d\u001b[39;00m\u001b[38;5;124m. Valid values are 2 to n_samples - 1 (inclusive)\u001b[39m\u001b[38;5;124m\"\u001b[39m\n\u001b[1;32m     35\u001b[0m         \u001b[38;5;241m%\u001b[39m n_labels\n\u001b[1;32m     36\u001b[0m     )\n\n\u001b[0;31mValueError\u001b[0m: Number of labels is 1. Valid values are 2 to n_samples - 1 (inclusive)",
              "errorSummary": "<span class='ansi-red-fg'>ValueError</span>: Number of labels is 1. Valid values are 2 to n_samples - 1 (inclusive)",
              "errorTraceType": "ansi",
              "metadata": {},
              "type": "ipynbError"
            }
          }
        }
      ],
      "source": [
        "# Compute silhouette score\n",
        "silhouette_avg = silhouette_score(scaled_features, predicted_labels)\n",
        "print(f\"Silhouette Score: {silhouette_avg}\")"
      ]
    },
    {
      "cell_type": "markdown",
      "metadata": {
        "application/vnd.databricks.v1+cell": {
          "cellMetadata": {},
          "inputWidgets": {},
          "nuid": "dbcee9c8-16c9-4582-a43f-377286dc5b49",
          "showTitle": false,
          "tableResultSettingsMap": {},
          "title": ""
        },
        "id": "KeiJ0xt7e1o-"
      },
      "source": [
        "### Steps to Determine Cluster for a New Sample\n",
        "\n",
        "1. **Prepare the New Sample**:\n",
        "Prepare your new sample data in a format consistent with your model's training data. This typically involves assembling the features into a vector using `VectorAssembler`."
      ]
    },
    {
      "cell_type": "code",
      "execution_count": null,
      "metadata": {
        "application/vnd.databricks.v1+cell": {
          "cellMetadata": {
            "byteLimit": 2048000,
            "rowLimit": 10000
          },
          "inputWidgets": {},
          "nuid": "821c177c-865a-4d68-a17f-8362b0a2d5a9",
          "showTitle": false,
          "tableResultSettingsMap": {},
          "title": ""
        },
        "id": "6MdeC7GVe1o_"
      },
      "outputs": [],
      "source": [
        "from pyspark.ml.feature import VectorAssembler"
      ]
    },
    {
      "cell_type": "code",
      "execution_count": null,
      "metadata": {
        "application/vnd.databricks.v1+cell": {
          "cellMetadata": {
            "byteLimit": 2048000,
            "rowLimit": 10000
          },
          "inputWidgets": {},
          "nuid": "56864195-ba2b-4cfc-adaa-f66672a0d7a7",
          "showTitle": false,
          "tableResultSettingsMap": {},
          "title": ""
        },
        "id": "pRMyVroPe1o_"
      },
      "outputs": [],
      "source": [
        "# Example new sample data (replace with your actual data)\n",
        "new_sample = [(286.13, 3, 2)]  # (temp, wind_speed, hour_of_day)"
      ]
    },
    {
      "cell_type": "code",
      "execution_count": null,
      "metadata": {
        "application/vnd.databricks.v1+cell": {
          "cellMetadata": {
            "byteLimit": 2048000,
            "rowLimit": 10000
          },
          "inputWidgets": {},
          "nuid": "774af2bc-0eb8-4496-b018-9463ac97ef0f",
          "showTitle": false,
          "tableResultSettingsMap": {},
          "title": ""
        },
        "id": "AyHvv4Gbe1pA"
      },
      "outputs": [],
      "source": [
        "# Convert to Spark DataFrame\n",
        "new_sample_df = spark.createDataFrame(new_sample, [\"temp\", \"wind_speed\", \"hour_of_day\"])"
      ]
    },
    {
      "cell_type": "code",
      "execution_count": null,
      "metadata": {
        "application/vnd.databricks.v1+cell": {
          "cellMetadata": {
            "byteLimit": 2048000,
            "rowLimit": 10000
          },
          "inputWidgets": {},
          "nuid": "62362130-048a-4440-9813-ab209eb64f84",
          "showTitle": false,
          "tableResultSettingsMap": {},
          "title": ""
        },
        "id": "FeEYBJbFe1pB"
      },
      "outputs": [],
      "source": [
        "# Assemble features into a single vector\n",
        "assembler = VectorAssembler(inputCols=[\"temp\", \"wind_speed\", \"hour_of_day\"], outputCol=\"features\")\n",
        "new_sample_assembled = assembler.transform(new_sample_df)"
      ]
    },
    {
      "cell_type": "markdown",
      "metadata": {
        "application/vnd.databricks.v1+cell": {
          "cellMetadata": {},
          "inputWidgets": {},
          "nuid": "1603a5a8-10d3-449d-88e2-c74a3f1ab88b",
          "showTitle": false,
          "tableResultSettingsMap": {},
          "title": ""
        },
        "id": "-HWfofeje1pB"
      },
      "source": [
        "2. **Load Trained Model**:\n",
        "Load or reference the already trained K-means model that you used for clustering."
      ]
    },
    {
      "cell_type": "markdown",
      "metadata": {
        "application/vnd.databricks.v1+cell": {
          "cellMetadata": {},
          "inputWidgets": {},
          "nuid": "037860be-0e37-4391-a7a3-a1c299889db5",
          "showTitle": false,
          "tableResultSettingsMap": {},
          "title": ""
        },
        "id": "YIUST-cPe1pB"
      },
      "source": [
        "3. **Predict the Cluster**:\n",
        "Use the trained model to predict the cluster for the new sample."
      ]
    },
    {
      "cell_type": "code",
      "execution_count": null,
      "metadata": {
        "application/vnd.databricks.v1+cell": {
          "cellMetadata": {
            "byteLimit": 2048000,
            "rowLimit": 10000
          },
          "inputWidgets": {},
          "nuid": "185b7172-692b-4428-8f86-dfc79a4bca53",
          "showTitle": false,
          "tableResultSettingsMap": {},
          "title": ""
        },
        "id": "ejRXBx0Le1pC"
      },
      "outputs": [],
      "source": [
        "predictions = model.transform(new_sample_assembled)\n",
        "predicted_cluster = predictions.select(\"prediction\").collect()[0][0]"
      ]
    },
    {
      "cell_type": "markdown",
      "metadata": {
        "application/vnd.databricks.v1+cell": {
          "cellMetadata": {},
          "inputWidgets": {},
          "nuid": "8bc5470c-c0dd-4c73-9fa7-6495dc0a017b",
          "showTitle": false,
          "tableResultSettingsMap": {},
          "title": ""
        },
        "id": "OnRuEFgOe1pC"
      },
      "source": [
        "4. **Display the Result**:\n",
        "Print or use the predicted cluster label to determine which cluster group the new sample belongs to."
      ]
    },
    {
      "cell_type": "code",
      "execution_count": null,
      "metadata": {
        "application/vnd.databricks.v1+cell": {
          "cellMetadata": {
            "byteLimit": 2048000,
            "rowLimit": 10000
          },
          "inputWidgets": {},
          "nuid": "dcae1a3f-b4a6-4d9d-be21-5ac1c1487680",
          "showTitle": false,
          "tableResultSettingsMap": {},
          "title": ""
        },
        "id": "sBRVV4Qde1pD",
        "outputId": "4616e50d-7f00-4cc1-ca90-b1c424cc8f37"
      },
      "outputs": [
        {
          "output_type": "stream",
          "name": "stdout",
          "text": [
            "New sample belongs to cluster: 0\n"
          ]
        }
      ],
      "source": [
        "print(f\"New sample belongs to cluster: {predicted_cluster}\")"
      ]
    },
    {
      "cell_type": "code",
      "execution_count": null,
      "metadata": {
        "application/vnd.databricks.v1+cell": {
          "cellMetadata": {},
          "inputWidgets": {},
          "nuid": "b1a19de2-50ee-49ba-9adb-da8afcabca01",
          "showTitle": false,
          "tableResultSettingsMap": {},
          "title": ""
        },
        "id": "uLnYJU8Xe1pD"
      },
      "outputs": [],
      "source": []
    }
  ],
  "metadata": {
    "application/vnd.databricks.v1+notebook": {
      "computePreferences": null,
      "dashboards": [],
      "environmentMetadata": null,
      "language": "python",
      "notebookMetadata": {
        "pythonIndentUnit": 4
      },
      "notebookName": "14-Realtime Data Streaming",
      "widgets": {}
    },
    "kernelspec": {
      "display_name": "Python 3",
      "language": "python",
      "name": "python3"
    },
    "language_info": {
      "codemirror_mode": {
        "name": "ipython",
        "version": 3
      },
      "file_extension": ".py",
      "mimetype": "text/x-python",
      "name": "python",
      "nbconvert_exporter": "python",
      "pygments_lexer": "ipython3",
      "version": "3.7.4"
    },
    "colab": {
      "provenance": [],
      "include_colab_link": true
    }
  },
  "nbformat": 4,
  "nbformat_minor": 0
}