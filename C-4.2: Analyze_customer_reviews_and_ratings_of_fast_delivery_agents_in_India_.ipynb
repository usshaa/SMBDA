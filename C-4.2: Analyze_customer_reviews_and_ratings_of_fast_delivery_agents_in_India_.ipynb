{
  "cells": [
    {
      "cell_type": "markdown",
      "metadata": {
        "id": "view-in-github",
        "colab_type": "text"
      },
      "source": [
        "<a href=\"https://colab.research.google.com/github/usshaa/SMBDA/blob/main/C-4.2%3A%20Analyze_customer_reviews_and_ratings_of_fast_delivery_agents_in_India_.ipynb\" target=\"_parent\"><img src=\"https://colab.research.google.com/assets/colab-badge.svg\" alt=\"Open In Colab\"/></a>"
      ]
    },
    {
      "cell_type": "markdown",
      "metadata": {
        "application/vnd.databricks.v1+cell": {
          "cellMetadata": {
            "byteLimit": 2048000,
            "rowLimit": 10000
          },
          "inputWidgets": {},
          "nuid": "b842bb2e-0945-4e5a-aa04-e74c9c3fdb00",
          "showTitle": false,
          "tableResultSettingsMap": {},
          "title": ""
        },
        "id": "8VirTjiJBgOU"
      },
      "source": [
        "## **1️⃣ Project Overview**\n",
        "- **Objective**: Analyze customer reviews and ratings of fast delivery agents in India.  \n",
        "- **Dataset Source**: Kaggle ([India's Fast Delivery Agents Reviews and Ratings](https://www.kaggle.com/datasets/vivekattri/indias-fast-delivery-agents-reviews-and-ratings)).  \n",
        "- **Technology Stack**: Hive, Spark (Databricks), HDFS/DBFS, Bash (for data download).  \n",
        "- **Steps Involved**:\n",
        "  1. Download and extract the dataset.  \n",
        "  2. Upload the CSV file to DBFS/HDFS.  \n",
        "  3. Create an **external table** in Hive.  \n",
        "  4. Create a **cleaned table** by handling missing data & formatting issues.  \n",
        "  5. Perform **data analysis** using Hive SQL queries.  \n",
        "\n",
        "---\n",
        "\n",
        "## **2️⃣ Step 1: Download and Upload Data**\n",
        "### **Download Dataset (Bash Script)**\n",
        "Run the following script to **download and extract** the dataset:\n"
      ]
    },
    {
      "cell_type": "code",
      "execution_count": null,
      "metadata": {
        "application/vnd.databricks.v1+cell": {
          "cellMetadata": {
            "byteLimit": 2048000,
            "rowLimit": 10000
          },
          "inputWidgets": {},
          "nuid": "00ccabf8-027d-49a4-8395-dc86ec38b641",
          "showTitle": false,
          "tableResultSettingsMap": {},
          "title": ""
        },
        "id": "AM7_jjBtBgOY",
        "outputId": "c6e5873e-dcce-4ea4-8755-a94f265550cb"
      },
      "outputs": [
        {
          "output_type": "stream",
          "name": "stdout",
          "text": [
            "  % Total    % Received % Xferd  Average Speed   Time    Time     Time  Current\r\n                                 Dload  Upload   Total   Spent    Left  Speed\r\n\r  0     0    0     0    0     0      0      0 --:--:-- --:--:-- --:--:--     0\r  0     0    0     0    0     0      0      0 --:--:-- --:--:-- --:--:--     0\r\n\r100  172k  100  172k    0     0   322k      0 --:--:-- --:--:-- --:--:--  322k\r\nArchive:  /root/Downloads/delivery_reviews/dataset.zip\r\n  inflating: /root/Downloads/delivery_reviews/Fast Delivery Agent Reviews.csv  \r\n"
          ]
        }
      ],
      "source": [
        "%python\n",
        "!mkdir -p ~/Downloads/delivery_reviews\n",
        "!curl -L -o ~/Downloads/delivery_reviews/dataset.zip \\\n",
        "  https://www.kaggle.com/api/v1/datasets/download/vivekattri/indias-fast-delivery-agents-reviews-and-ratings\n",
        "\n",
        "!unzip -o ~/Downloads/delivery_reviews/dataset.zip -d ~/Downloads/delivery_reviews"
      ]
    },
    {
      "cell_type": "code",
      "execution_count": null,
      "metadata": {
        "application/vnd.databricks.v1+cell": {
          "cellMetadata": {
            "byteLimit": 2048000,
            "rowLimit": 10000
          },
          "inputWidgets": {},
          "nuid": "247f071c-c5fe-463c-8b09-d5ce5204867d",
          "showTitle": false,
          "tableResultSettingsMap": {},
          "title": ""
        },
        "id": "2me-k3uiBgOb",
        "outputId": "7444af82-0172-45e3-ecce-8e434c10a971"
      },
      "outputs": [
        {
          "output_type": "stream",
          "name": "stdout",
          "text": [
            "['dataset.zip', 'Fast Delivery Agent Reviews.csv']\n"
          ]
        }
      ],
      "source": [
        "%python\n",
        "import os\n",
        "\n",
        "local_path = \"/root/Downloads/delivery_reviews/\"\n",
        "print(os.listdir(local_path))\n"
      ]
    },
    {
      "cell_type": "markdown",
      "metadata": {
        "application/vnd.databricks.v1+cell": {
          "cellMetadata": {},
          "inputWidgets": {},
          "nuid": "87407a8f-b3aa-41f5-b5e3-31c532c56693",
          "showTitle": false,
          "tableResultSettingsMap": {},
          "title": ""
        },
        "id": "ExnAKlxCBgOc"
      },
      "source": [
        "### **Upload Data to Databricks FileStore or HDFS**\n",
        "**For Databricks (DBFS)**"
      ]
    },
    {
      "cell_type": "code",
      "execution_count": null,
      "metadata": {
        "application/vnd.databricks.v1+cell": {
          "cellMetadata": {
            "byteLimit": 2048000,
            "rowLimit": 10000
          },
          "inputWidgets": {},
          "nuid": "26c766c3-51a8-4946-a386-9a3ab24f2030",
          "showTitle": false,
          "tableResultSettingsMap": {},
          "title": ""
        },
        "id": "-UgNeEXZBgOd",
        "outputId": "0ab26fd4-4424-4245-e1c2-0e9a85f1ac20"
      },
      "outputs": [
        {
          "output_type": "stream",
          "name": "stdout",
          "text": [
            "Out[56]: True"
          ]
        }
      ],
      "source": [
        "%python\n",
        "dbutils.fs.cp(\"file:/root/Downloads/delivery_reviews/Fast Delivery Agent Reviews.csv\",\n",
        "              \"dbfs:/FileStore/tables/delivery_reviews/Fast_Delivery_Agent_Reviews.csv\")\n"
      ]
    },
    {
      "cell_type": "markdown",
      "metadata": {
        "application/vnd.databricks.v1+cell": {
          "cellMetadata": {},
          "inputWidgets": {},
          "nuid": "d97cbabb-f993-47f5-8112-be1a588815af",
          "showTitle": false,
          "tableResultSettingsMap": {},
          "title": ""
        },
        "id": "U_bs9Ta_BgOd"
      },
      "source": [
        "**For HDFS**"
      ]
    },
    {
      "cell_type": "code",
      "execution_count": null,
      "metadata": {
        "application/vnd.databricks.v1+cell": {
          "cellMetadata": {
            "byteLimit": 2048000,
            "rowLimit": 10000
          },
          "inputWidgets": {},
          "nuid": "95cb3280-4a63-4975-ae83-dcae5246109b",
          "showTitle": false,
          "tableResultSettingsMap": {},
          "title": ""
        },
        "id": "uZrnUPzlBgOe",
        "outputId": "07cd9a42-8eaf-417f-ae09-2674767c5149"
      },
      "outputs": [
        {
          "output_type": "stream",
          "name": "stdout",
          "text": [
            "Out[57]: True"
          ]
        }
      ],
      "source": [
        "%python\n",
        "dbutils.fs.mkdirs(\"dbfs:/user/hive/warehouse/delivery_reviews/\")"
      ]
    },
    {
      "cell_type": "code",
      "execution_count": null,
      "metadata": {
        "application/vnd.databricks.v1+cell": {
          "cellMetadata": {
            "byteLimit": 2048000,
            "rowLimit": 10000
          },
          "inputWidgets": {},
          "nuid": "2a91d8f2-4ba8-46c5-81f4-f8db7dd88396",
          "showTitle": false,
          "tableResultSettingsMap": {},
          "title": ""
        },
        "id": "eRwdarxGBgOf",
        "outputId": "c2b2fd70-b020-41eb-97d6-eed6f5f009e6"
      },
      "outputs": [
        {
          "output_type": "stream",
          "name": "stdout",
          "text": [
            "Out[58]: True"
          ]
        }
      ],
      "source": [
        "%python\n",
        "dbutils.fs.cp(\"file:/root/Downloads/delivery_reviews/\",\n",
        "              \"dbfs:/user/hive/warehouse/delivery_reviews/\",\n",
        "              recurse=True)"
      ]
    },
    {
      "cell_type": "markdown",
      "metadata": {
        "application/vnd.databricks.v1+cell": {
          "cellMetadata": {},
          "inputWidgets": {},
          "nuid": "3c9a6364-b629-4f54-b1ba-0496adb53ace",
          "showTitle": false,
          "tableResultSettingsMap": {},
          "title": ""
        },
        "id": "PuI0TbXxBgO8"
      },
      "source": [
        "## **3️⃣ Step 2: Create Hive External Table**\n",
        "### **Create Database**"
      ]
    },
    {
      "cell_type": "code",
      "execution_count": null,
      "metadata": {
        "application/vnd.databricks.v1+cell": {
          "cellMetadata": {
            "byteLimit": 2048000,
            "rowLimit": 10000
          },
          "inputWidgets": {},
          "nuid": "d6fda857-1dcb-46d3-9b0d-4ceebab00663",
          "showTitle": false,
          "tableResultSettingsMap": {},
          "title": ""
        },
        "id": "PHaxShh9BgO-",
        "outputId": "10f6f422-edae-4a6b-fed7-2d593f6c65c2"
      },
      "outputs": [
        {
          "output_type": "display_data",
          "data": {
            "text/html": [
              "<style scoped>\n",
              "  .table-result-container {\n",
              "    max-height: 300px;\n",
              "    overflow: auto;\n",
              "  }\n",
              "  table, th, td {\n",
              "    border: 1px solid black;\n",
              "    border-collapse: collapse;\n",
              "  }\n",
              "  th, td {\n",
              "    padding: 5px;\n",
              "  }\n",
              "  th {\n",
              "    text-align: left;\n",
              "  }\n",
              "</style><div class='table-result-container'><table class='table-result'><thead style='background-color: white'><tr></tr></thead><tbody></tbody></table></div>"
            ]
          },
          "metadata": {
            "application/vnd.databricks.v1+output": {
              "addedWidgets": {},
              "aggData": [],
              "aggError": "",
              "aggOverflow": false,
              "aggSchema": [],
              "aggSeriesLimitReached": false,
              "aggType": "",
              "arguments": {},
              "columnCustomDisplayInfos": {},
              "data": [],
              "datasetInfos": [],
              "dbfsResultPath": null,
              "isJsonSchema": true,
              "metadata": {
                "isDbfsCommandResult": false
              },
              "overflow": false,
              "plotOptions": {
                "customPlotOptions": {},
                "displayType": "table",
                "pivotAggregation": null,
                "pivotColumns": null,
                "xColumns": null,
                "yColumns": null
              },
              "removedWidgets": [],
              "schema": [],
              "type": "table"
            }
          }
        }
      ],
      "source": [
        "%sql\n",
        "CREATE DATABASE IF NOT EXISTS delivery_reviews_db;\n",
        "USE delivery_reviews_db;"
      ]
    },
    {
      "cell_type": "markdown",
      "metadata": {
        "application/vnd.databricks.v1+cell": {
          "cellMetadata": {},
          "inputWidgets": {},
          "nuid": "177c769b-361e-4f00-bfcd-286d19f250b7",
          "showTitle": false,
          "tableResultSettingsMap": {},
          "title": ""
        },
        "id": "Bewt83UjBgO_"
      },
      "source": [
        "### **Create External Table**"
      ]
    },
    {
      "cell_type": "code",
      "execution_count": null,
      "metadata": {
        "application/vnd.databricks.v1+cell": {
          "cellMetadata": {
            "byteLimit": 2048000,
            "rowLimit": 10000
          },
          "inputWidgets": {},
          "nuid": "6d57dfa7-f2ba-401d-9b47-e77f0214962f",
          "showTitle": false,
          "tableResultSettingsMap": {},
          "title": ""
        },
        "id": "ysU0T7vUBgO_",
        "outputId": "1104336c-9d41-47d6-a620-5fb636e5a937"
      },
      "outputs": [
        {
          "output_type": "display_data",
          "data": {
            "text/html": [
              "<style scoped>\n",
              "  .table-result-container {\n",
              "    max-height: 300px;\n",
              "    overflow: auto;\n",
              "  }\n",
              "  table, th, td {\n",
              "    border: 1px solid black;\n",
              "    border-collapse: collapse;\n",
              "  }\n",
              "  th, td {\n",
              "    padding: 5px;\n",
              "  }\n",
              "  th {\n",
              "    text-align: left;\n",
              "  }\n",
              "</style><div class='table-result-container'><table class='table-result'><thead style='background-color: white'><tr></tr></thead><tbody></tbody></table></div>"
            ]
          },
          "metadata": {
            "application/vnd.databricks.v1+output": {
              "addedWidgets": {},
              "aggData": [],
              "aggError": "",
              "aggOverflow": false,
              "aggSchema": [],
              "aggSeriesLimitReached": false,
              "aggType": "",
              "arguments": {},
              "columnCustomDisplayInfos": {},
              "data": [],
              "datasetInfos": [],
              "dbfsResultPath": null,
              "isJsonSchema": true,
              "metadata": {
                "isDbfsCommandResult": false
              },
              "overflow": false,
              "plotOptions": {
                "customPlotOptions": {},
                "displayType": "table",
                "pivotAggregation": null,
                "pivotColumns": null,
                "xColumns": null,
                "yColumns": null
              },
              "removedWidgets": [],
              "schema": [],
              "type": "table"
            }
          }
        }
      ],
      "source": [
        "%sql\n",
        "DROP Table delivery_reviews_raw;"
      ]
    },
    {
      "cell_type": "code",
      "execution_count": null,
      "metadata": {
        "application/vnd.databricks.v1+cell": {
          "cellMetadata": {
            "byteLimit": 2048000,
            "rowLimit": 10000
          },
          "inputWidgets": {},
          "nuid": "4b6de627-bd60-4742-8c98-703563563a72",
          "showTitle": false,
          "tableResultSettingsMap": {},
          "title": ""
        },
        "id": "dc39MjjBBgPA",
        "outputId": "68c1529b-e94e-4c79-d81a-3e4b91a37e8e"
      },
      "outputs": [
        {
          "output_type": "display_data",
          "data": {
            "text/html": [
              "<style scoped>\n",
              "  .table-result-container {\n",
              "    max-height: 300px;\n",
              "    overflow: auto;\n",
              "  }\n",
              "  table, th, td {\n",
              "    border: 1px solid black;\n",
              "    border-collapse: collapse;\n",
              "  }\n",
              "  th, td {\n",
              "    padding: 5px;\n",
              "  }\n",
              "  th {\n",
              "    text-align: left;\n",
              "  }\n",
              "</style><div class='table-result-container'><table class='table-result'><thead style='background-color: white'><tr></tr></thead><tbody></tbody></table></div>"
            ]
          },
          "metadata": {
            "application/vnd.databricks.v1+output": {
              "addedWidgets": {},
              "aggData": [],
              "aggError": "",
              "aggOverflow": false,
              "aggSchema": [],
              "aggSeriesLimitReached": false,
              "aggType": "",
              "arguments": {},
              "columnCustomDisplayInfos": {},
              "data": [],
              "datasetInfos": [],
              "dbfsResultPath": null,
              "isJsonSchema": true,
              "metadata": {
                "isDbfsCommandResult": false
              },
              "overflow": false,
              "plotOptions": {
                "customPlotOptions": {},
                "displayType": "table",
                "pivotAggregation": null,
                "pivotColumns": null,
                "xColumns": null,
                "yColumns": null
              },
              "removedWidgets": [],
              "schema": [],
              "type": "table"
            }
          }
        }
      ],
      "source": [
        "%sql\n",
        "CREATE EXTERNAL TABLE delivery_reviews_raw (\n",
        "    Agent_Name STRING,\n",
        "    Rating FLOAT,\n",
        "    Review_Text STRING,\n",
        "    Delivery_Time INT,\n",
        "    Location STRING,\n",
        "    Order_Type STRING,\n",
        "    Customer_Feedback_Type STRING,\n",
        "    Price_Range STRING,\n",
        "    Discount_Applied STRING,\n",
        "    Product_Availability STRING,\n",
        "    Customer_Service_Rating INT,\n",
        "    Order_Accuracy STRING\n",
        ")\n",
        "ROW FORMAT DELIMITED\n",
        "FIELDS TERMINATED BY ','\n",
        "STORED AS TEXTFILE\n",
        "LOCATION 'dbfs:/FileStore/tables/delivery_reviews/';"
      ]
    },
    {
      "cell_type": "markdown",
      "metadata": {
        "application/vnd.databricks.v1+cell": {
          "cellMetadata": {},
          "inputWidgets": {},
          "nuid": "66e112c8-9bd1-4504-8313-161cf8a2568d",
          "showTitle": false,
          "tableResultSettingsMap": {},
          "title": ""
        },
        "id": "Zn0nf96MBgPB"
      },
      "source": [
        "**Verify Data**"
      ]
    },
    {
      "cell_type": "code",
      "execution_count": null,
      "metadata": {
        "application/vnd.databricks.v1+cell": {
          "cellMetadata": {
            "byteLimit": 2048000,
            "rowLimit": 10000
          },
          "inputWidgets": {},
          "nuid": "7b82be45-e087-4456-b671-d32c7918d461",
          "showTitle": false,
          "tableResultSettingsMap": {},
          "title": ""
        },
        "id": "mnBV84keBgPB",
        "outputId": "180450ec-b58f-45af-8ab1-d296e7048f47"
      },
      "outputs": [
        {
          "output_type": "display_data",
          "data": {
            "text/html": [
              "<style scoped>\n",
              "  .table-result-container {\n",
              "    max-height: 300px;\n",
              "    overflow: auto;\n",
              "  }\n",
              "  table, th, td {\n",
              "    border: 1px solid black;\n",
              "    border-collapse: collapse;\n",
              "  }\n",
              "  th, td {\n",
              "    padding: 5px;\n",
              "  }\n",
              "  th {\n",
              "    text-align: left;\n",
              "  }\n",
              "</style><div class='table-result-container'><table class='table-result'><thead style='background-color: white'><tr><th>Agent_Name</th><th>Rating</th><th>Review_Text</th><th>Delivery_Time</th><th>Location</th><th>Order_Type</th><th>Customer_Feedback_Type</th><th>Price_Range</th><th>Discount_Applied</th><th>Product_Availability</th><th>Customer_Service_Rating</th><th>Order_Accuracy</th></tr></thead><tbody><tr><td>Agent Name</td><td>null</td><td>Review Text</td><td>null</td><td>Location</td><td>Order Type</td><td>Customer Feedback Type</td><td>Price Range</td><td>Discount Applied</td><td>Product Availability</td><td>null</td><td>Order Accuracy</td></tr><tr><td>Zepto</td><td>4.5</td><td>Purpose boy job cup decision girl now get job yard.</td><td>58</td><td>Delhi</td><td>Essentials</td><td>Neutral</td><td>High</td><td>Yes</td><td>Out of Stock</td><td>4</td><td>Incorrect</td></tr><tr><td>Zepto</td><td>2.1</td><td>Prevent production able both the box school way issue grow action figure one.</td><td>25</td><td>Lucknow</td><td>Grocery</td><td>Negative</td><td>Low</td><td>No</td><td>Out of Stock</td><td>2</td><td>Correct</td></tr><tr><td>JioMart</td><td>4.5</td><td>Family station listen agreement more kitchen lose hour hour.</td><td>54</td><td>Ahmedabad</td><td>Essentials</td><td>Neutral</td><td>Low</td><td>No</td><td>Out of Stock</td><td>3</td><td>Correct</td></tr><tr><td>JioMart</td><td>2.6</td><td>World north people area everything enter beyond Democrat beautiful very.</td><td>22</td><td>Chennai</td><td>Essentials</td><td>Neutral</td><td>Low</td><td>Yes</td><td>In Stock</td><td>1</td><td>Incorrect</td></tr></tbody></table></div>"
            ]
          },
          "metadata": {
            "application/vnd.databricks.v1+output": {
              "addedWidgets": {},
              "aggData": [],
              "aggError": "",
              "aggOverflow": false,
              "aggSchema": [],
              "aggSeriesLimitReached": false,
              "aggType": "",
              "arguments": {},
              "columnCustomDisplayInfos": {},
              "data": [
                [
                  "Agent Name",
                  null,
                  "Review Text",
                  null,
                  "Location",
                  "Order Type",
                  "Customer Feedback Type",
                  "Price Range",
                  "Discount Applied",
                  "Product Availability",
                  null,
                  "Order Accuracy"
                ],
                [
                  "Zepto",
                  4.5,
                  "Purpose boy job cup decision girl now get job yard.",
                  58,
                  "Delhi",
                  "Essentials",
                  "Neutral",
                  "High",
                  "Yes",
                  "Out of Stock",
                  4,
                  "Incorrect"
                ],
                [
                  "Zepto",
                  2.1,
                  "Prevent production able both the box school way issue grow action figure one.",
                  25,
                  "Lucknow",
                  "Grocery",
                  "Negative",
                  "Low",
                  "No",
                  "Out of Stock",
                  2,
                  "Correct"
                ],
                [
                  "JioMart",
                  4.5,
                  "Family station listen agreement more kitchen lose hour hour.",
                  54,
                  "Ahmedabad",
                  "Essentials",
                  "Neutral",
                  "Low",
                  "No",
                  "Out of Stock",
                  3,
                  "Correct"
                ],
                [
                  "JioMart",
                  2.6,
                  "World north people area everything enter beyond Democrat beautiful very.",
                  22,
                  "Chennai",
                  "Essentials",
                  "Neutral",
                  "Low",
                  "Yes",
                  "In Stock",
                  1,
                  "Incorrect"
                ]
              ],
              "datasetInfos": [],
              "dbfsResultPath": null,
              "isJsonSchema": true,
              "metadata": {
                "isDbfsCommandResult": false
              },
              "overflow": false,
              "plotOptions": {
                "customPlotOptions": {},
                "displayType": "table",
                "pivotAggregation": null,
                "pivotColumns": null,
                "xColumns": null,
                "yColumns": null
              },
              "removedWidgets": [],
              "schema": [
                {
                  "metadata": "{}",
                  "name": "Agent_Name",
                  "type": "\"string\""
                },
                {
                  "metadata": "{}",
                  "name": "Rating",
                  "type": "\"float\""
                },
                {
                  "metadata": "{}",
                  "name": "Review_Text",
                  "type": "\"string\""
                },
                {
                  "metadata": "{}",
                  "name": "Delivery_Time",
                  "type": "\"integer\""
                },
                {
                  "metadata": "{}",
                  "name": "Location",
                  "type": "\"string\""
                },
                {
                  "metadata": "{}",
                  "name": "Order_Type",
                  "type": "\"string\""
                },
                {
                  "metadata": "{}",
                  "name": "Customer_Feedback_Type",
                  "type": "\"string\""
                },
                {
                  "metadata": "{}",
                  "name": "Price_Range",
                  "type": "\"string\""
                },
                {
                  "metadata": "{}",
                  "name": "Discount_Applied",
                  "type": "\"string\""
                },
                {
                  "metadata": "{}",
                  "name": "Product_Availability",
                  "type": "\"string\""
                },
                {
                  "metadata": "{}",
                  "name": "Customer_Service_Rating",
                  "type": "\"integer\""
                },
                {
                  "metadata": "{}",
                  "name": "Order_Accuracy",
                  "type": "\"string\""
                }
              ],
              "type": "table"
            }
          }
        }
      ],
      "source": [
        "%sql\n",
        "SELECT * FROM delivery_reviews_raw LIMIT 5;"
      ]
    },
    {
      "cell_type": "markdown",
      "metadata": {
        "application/vnd.databricks.v1+cell": {
          "cellMetadata": {},
          "inputWidgets": {},
          "nuid": "7c17586e-b58e-4a62-83de-232bfe571011",
          "showTitle": false,
          "tableResultSettingsMap": {},
          "title": ""
        },
        "id": "jLGVYKMrBgPC"
      },
      "source": [
        "## **4️⃣ Step 3: Create a Cleaned Table**\n",
        "### **Data Cleaning & Transformation**\n",
        "- Remove duplicate rows  \n",
        "- Filter out missing or corrupted data  \n",
        "- Standardize column formats  "
      ]
    },
    {
      "cell_type": "code",
      "execution_count": null,
      "metadata": {
        "application/vnd.databricks.v1+cell": {
          "cellMetadata": {
            "byteLimit": 2048000,
            "rowLimit": 10000
          },
          "inputWidgets": {},
          "nuid": "ea032600-4a7f-4963-b9de-8e0efdb08d2a",
          "showTitle": false,
          "tableResultSettingsMap": {},
          "title": ""
        },
        "id": "U86U8yPbBgPC",
        "outputId": "7619138c-aa88-4286-914b-e2ddc60b8d78"
      },
      "outputs": [
        {
          "output_type": "display_data",
          "data": {
            "text/html": [
              "<style scoped>\n",
              "  .table-result-container {\n",
              "    max-height: 300px;\n",
              "    overflow: auto;\n",
              "  }\n",
              "  table, th, td {\n",
              "    border: 1px solid black;\n",
              "    border-collapse: collapse;\n",
              "  }\n",
              "  th, td {\n",
              "    padding: 5px;\n",
              "  }\n",
              "  th {\n",
              "    text-align: left;\n",
              "  }\n",
              "</style><div class='table-result-container'><table class='table-result'><thead style='background-color: white'><tr></tr></thead><tbody></tbody></table></div>"
            ]
          },
          "metadata": {
            "application/vnd.databricks.v1+output": {
              "addedWidgets": {},
              "aggData": [],
              "aggError": "",
              "aggOverflow": false,
              "aggSchema": [],
              "aggSeriesLimitReached": false,
              "aggType": "",
              "arguments": {},
              "columnCustomDisplayInfos": {},
              "data": [],
              "datasetInfos": [],
              "dbfsResultPath": null,
              "isJsonSchema": true,
              "metadata": {
                "isDbfsCommandResult": false
              },
              "overflow": false,
              "plotOptions": {
                "customPlotOptions": {},
                "displayType": "table",
                "pivotAggregation": null,
                "pivotColumns": null,
                "xColumns": null,
                "yColumns": null
              },
              "removedWidgets": [],
              "schema": [],
              "type": "table"
            }
          }
        }
      ],
      "source": [
        "%sql\n",
        "DROP TABLE delivery_reviews_cleaned;"
      ]
    },
    {
      "cell_type": "code",
      "execution_count": null,
      "metadata": {
        "application/vnd.databricks.v1+cell": {
          "cellMetadata": {
            "byteLimit": 2048000,
            "rowLimit": 10000
          },
          "inputWidgets": {},
          "nuid": "88318245-3b1e-48c0-89ac-1bf8153ec20f",
          "showTitle": false,
          "tableResultSettingsMap": {},
          "title": ""
        },
        "id": "LtpzJ0ogBgPD",
        "outputId": "28948ebe-b1cd-4d84-80f4-a5f2e296baeb"
      },
      "outputs": [
        {
          "output_type": "display_data",
          "data": {
            "text/html": [
              "<style scoped>\n",
              "  .table-result-container {\n",
              "    max-height: 300px;\n",
              "    overflow: auto;\n",
              "  }\n",
              "  table, th, td {\n",
              "    border: 1px solid black;\n",
              "    border-collapse: collapse;\n",
              "  }\n",
              "  th, td {\n",
              "    padding: 5px;\n",
              "  }\n",
              "  th {\n",
              "    text-align: left;\n",
              "  }\n",
              "</style><div class='table-result-container'><table class='table-result'><thead style='background-color: white'><tr><th>num_affected_rows</th><th>num_inserted_rows</th></tr></thead><tbody></tbody></table></div>"
            ]
          },
          "metadata": {
            "application/vnd.databricks.v1+output": {
              "addedWidgets": {},
              "aggData": [],
              "aggError": "",
              "aggOverflow": false,
              "aggSchema": [],
              "aggSeriesLimitReached": false,
              "aggType": "",
              "arguments": {},
              "columnCustomDisplayInfos": {},
              "data": [],
              "datasetInfos": [],
              "dbfsResultPath": null,
              "isJsonSchema": true,
              "metadata": {
                "isDbfsCommandResult": false
              },
              "overflow": false,
              "plotOptions": {
                "customPlotOptions": {},
                "displayType": "table",
                "pivotAggregation": null,
                "pivotColumns": null,
                "xColumns": null,
                "yColumns": null
              },
              "removedWidgets": [],
              "schema": [
                {
                  "metadata": "{}",
                  "name": "num_affected_rows",
                  "type": "\"long\""
                },
                {
                  "metadata": "{}",
                  "name": "num_inserted_rows",
                  "type": "\"long\""
                }
              ],
              "type": "table"
            }
          }
        }
      ],
      "source": [
        "%sql\n",
        "CREATE TABLE delivery_reviews_cleaned AS\n",
        "SELECT\n",
        "    Agent_Name,\n",
        "    Rating,\n",
        "    Review_Text,\n",
        "    Delivery_Time,\n",
        "    Location,\n",
        "    Order_Type,\n",
        "    Customer_Feedback_Type,\n",
        "    Price_Range,\n",
        "    Discount_Applied,\n",
        "    Product_Availability,\n",
        "    Customer_Service_Rating,\n",
        "    Order_Accuracy\n",
        "FROM delivery_reviews_raw\n",
        "WHERE Agent_Name IS NOT NULL AND Rating IS NOT NULL;"
      ]
    },
    {
      "cell_type": "markdown",
      "metadata": {
        "application/vnd.databricks.v1+cell": {
          "cellMetadata": {},
          "inputWidgets": {},
          "nuid": "ae06bebd-9b7e-4eb2-8bde-cd4a78caf752",
          "showTitle": false,
          "tableResultSettingsMap": {},
          "title": ""
        },
        "id": "_P2JSNbTBgPD"
      },
      "source": [
        "**Verify Cleaned Data**"
      ]
    },
    {
      "cell_type": "code",
      "execution_count": null,
      "metadata": {
        "application/vnd.databricks.v1+cell": {
          "cellMetadata": {
            "byteLimit": 2048000,
            "rowLimit": 10000
          },
          "inputWidgets": {},
          "nuid": "7d034fc2-250b-46b1-8c46-ba44b54f71ab",
          "showTitle": false,
          "tableResultSettingsMap": {},
          "title": ""
        },
        "id": "euUbhFYiBgPE",
        "outputId": "57cb71d1-a1f7-468d-b1c4-065a350b0679"
      },
      "outputs": [
        {
          "output_type": "display_data",
          "data": {
            "text/html": [
              "<style scoped>\n",
              "  .table-result-container {\n",
              "    max-height: 300px;\n",
              "    overflow: auto;\n",
              "  }\n",
              "  table, th, td {\n",
              "    border: 1px solid black;\n",
              "    border-collapse: collapse;\n",
              "  }\n",
              "  th, td {\n",
              "    padding: 5px;\n",
              "  }\n",
              "  th {\n",
              "    text-align: left;\n",
              "  }\n",
              "</style><div class='table-result-container'><table class='table-result'><thead style='background-color: white'><tr><th>count(1)</th></tr></thead><tbody><tr><td>5000</td></tr></tbody></table></div>"
            ]
          },
          "metadata": {
            "application/vnd.databricks.v1+output": {
              "addedWidgets": {},
              "aggData": [],
              "aggError": "",
              "aggOverflow": false,
              "aggSchema": [],
              "aggSeriesLimitReached": false,
              "aggType": "",
              "arguments": {},
              "columnCustomDisplayInfos": {},
              "data": [
                [
                  5000
                ]
              ],
              "datasetInfos": [],
              "dbfsResultPath": null,
              "isJsonSchema": true,
              "metadata": {
                "isDbfsCommandResult": false
              },
              "overflow": false,
              "plotOptions": {
                "customPlotOptions": {},
                "displayType": "table",
                "pivotAggregation": null,
                "pivotColumns": null,
                "xColumns": null,
                "yColumns": null
              },
              "removedWidgets": [],
              "schema": [
                {
                  "metadata": "{\"__autoGeneratedAlias\":\"true\"}",
                  "name": "count(1)",
                  "type": "\"long\""
                }
              ],
              "type": "table"
            }
          }
        }
      ],
      "source": [
        "%sql\n",
        "SELECT COUNT(*) FROM delivery_reviews_cleaned;"
      ]
    },
    {
      "cell_type": "markdown",
      "metadata": {
        "application/vnd.databricks.v1+cell": {
          "cellMetadata": {},
          "inputWidgets": {},
          "nuid": "df53469d-4461-4bea-9619-209147ac164b",
          "showTitle": false,
          "tableResultSettingsMap": {},
          "title": ""
        },
        "id": "YO5GGYKlBgPE"
      },
      "source": [
        "## **5️⃣ Step 4: Data Analysis Queries**\n",
        "### **1️⃣ Find the top 5 best-rated delivery agents**"
      ]
    },
    {
      "cell_type": "code",
      "execution_count": null,
      "metadata": {
        "application/vnd.databricks.v1+cell": {
          "cellMetadata": {
            "byteLimit": 2048000,
            "rowLimit": 10000
          },
          "inputWidgets": {},
          "nuid": "7544ff60-00c7-45b9-b078-43288aaddf74",
          "showTitle": false,
          "tableResultSettingsMap": {},
          "title": ""
        },
        "id": "0TsKINw2BgPE",
        "outputId": "c331dc87-3e04-4903-f710-7673f6daa5e9"
      },
      "outputs": [
        {
          "output_type": "display_data",
          "data": {
            "text/html": [
              "<style scoped>\n",
              "  .table-result-container {\n",
              "    max-height: 300px;\n",
              "    overflow: auto;\n",
              "  }\n",
              "  table, th, td {\n",
              "    border: 1px solid black;\n",
              "    border-collapse: collapse;\n",
              "  }\n",
              "  th, td {\n",
              "    padding: 5px;\n",
              "  }\n",
              "  th {\n",
              "    text-align: left;\n",
              "  }\n",
              "</style><div class='table-result-container'><table class='table-result'><thead style='background-color: white'><tr><th>Agent_Name</th><th>avg_rating</th></tr></thead><tbody><tr><td>Swiggy Instamart</td><td>3.02</td></tr><tr><td>Zepto</td><td>3.01</td></tr><tr><td>Blinkit</td><td>2.99</td></tr><tr><td>JioMart</td><td>2.99</td></tr></tbody></table></div>"
            ]
          },
          "metadata": {
            "application/vnd.databricks.v1+output": {
              "addedWidgets": {},
              "aggData": [],
              "aggError": "",
              "aggOverflow": false,
              "aggSchema": [],
              "aggSeriesLimitReached": false,
              "aggType": "",
              "arguments": {},
              "columnCustomDisplayInfos": {},
              "data": [
                [
                  "Swiggy Instamart",
                  3.02
                ],
                [
                  "Zepto",
                  3.01
                ],
                [
                  "Blinkit",
                  2.99
                ],
                [
                  "JioMart",
                  2.99
                ]
              ],
              "datasetInfos": [],
              "dbfsResultPath": null,
              "isJsonSchema": true,
              "metadata": {
                "isDbfsCommandResult": false
              },
              "overflow": false,
              "plotOptions": {
                "customPlotOptions": {},
                "displayType": "table",
                "pivotAggregation": null,
                "pivotColumns": null,
                "xColumns": null,
                "yColumns": null
              },
              "removedWidgets": [],
              "schema": [
                {
                  "metadata": "{}",
                  "name": "Agent_Name",
                  "type": "\"string\""
                },
                {
                  "metadata": "{}",
                  "name": "avg_rating",
                  "type": "\"double\""
                }
              ],
              "type": "table"
            }
          }
        }
      ],
      "source": [
        "%sql\n",
        "SELECT Agent_Name, ROUND(AVG(Rating), 2) AS avg_rating\n",
        "FROM delivery_reviews_cleaned\n",
        "GROUP BY Agent_Name\n",
        "ORDER BY avg_rating DESC\n",
        "LIMIT 5;"
      ]
    },
    {
      "cell_type": "markdown",
      "metadata": {
        "application/vnd.databricks.v1+cell": {
          "cellMetadata": {},
          "inputWidgets": {},
          "nuid": "5517f5bd-02fc-4d18-9aef-43b357cbaebb",
          "showTitle": false,
          "tableResultSettingsMap": {},
          "title": ""
        },
        "id": "UQvV94pRBgPF"
      },
      "source": [
        "### **2️⃣ Count total reviews per location**"
      ]
    },
    {
      "cell_type": "code",
      "execution_count": null,
      "metadata": {
        "application/vnd.databricks.v1+cell": {
          "cellMetadata": {
            "byteLimit": 2048000,
            "rowLimit": 10000
          },
          "inputWidgets": {},
          "nuid": "37099000-29a0-4cc2-81d3-65ff26560c61",
          "showTitle": false,
          "tableResultSettingsMap": {},
          "title": ""
        },
        "id": "S3GlD5kIBgPF",
        "outputId": "05691036-6d0a-4df6-ff99-dacfd90e2251"
      },
      "outputs": [
        {
          "output_type": "display_data",
          "data": {
            "text/html": [
              "<style scoped>\n",
              "  .table-result-container {\n",
              "    max-height: 300px;\n",
              "    overflow: auto;\n",
              "  }\n",
              "  table, th, td {\n",
              "    border: 1px solid black;\n",
              "    border-collapse: collapse;\n",
              "  }\n",
              "  th, td {\n",
              "    padding: 5px;\n",
              "  }\n",
              "  th {\n",
              "    text-align: left;\n",
              "  }\n",
              "</style><div class='table-result-container'><table class='table-result'><thead style='background-color: white'><tr><th>Location</th><th>total_reviews</th></tr></thead><tbody><tr><td>Kolkata</td><td>517</td></tr><tr><td>Ahmedabad</td><td>515</td></tr><tr><td>Pune</td><td>515</td></tr><tr><td>Delhi</td><td>514</td></tr><tr><td>Bangalore</td><td>513</td></tr><tr><td>Mumbai</td><td>498</td></tr><tr><td>Hyderabad</td><td>490</td></tr><tr><td>Jaipur</td><td>489</td></tr><tr><td>Chennai</td><td>478</td></tr><tr><td>Lucknow</td><td>471</td></tr></tbody></table></div>"
            ]
          },
          "metadata": {
            "application/vnd.databricks.v1+output": {
              "addedWidgets": {},
              "aggData": [],
              "aggError": "",
              "aggOverflow": false,
              "aggSchema": [],
              "aggSeriesLimitReached": false,
              "aggType": "",
              "arguments": {},
              "columnCustomDisplayInfos": {},
              "data": [
                [
                  "Kolkata",
                  517
                ],
                [
                  "Ahmedabad",
                  515
                ],
                [
                  "Pune",
                  515
                ],
                [
                  "Delhi",
                  514
                ],
                [
                  "Bangalore",
                  513
                ],
                [
                  "Mumbai",
                  498
                ],
                [
                  "Hyderabad",
                  490
                ],
                [
                  "Jaipur",
                  489
                ],
                [
                  "Chennai",
                  478
                ],
                [
                  "Lucknow",
                  471
                ]
              ],
              "datasetInfos": [],
              "dbfsResultPath": null,
              "isJsonSchema": true,
              "metadata": {
                "isDbfsCommandResult": false
              },
              "overflow": false,
              "plotOptions": {
                "customPlotOptions": {},
                "displayType": "table",
                "pivotAggregation": null,
                "pivotColumns": null,
                "xColumns": null,
                "yColumns": null
              },
              "removedWidgets": [],
              "schema": [
                {
                  "metadata": "{}",
                  "name": "Location",
                  "type": "\"string\""
                },
                {
                  "metadata": "{}",
                  "name": "total_reviews",
                  "type": "\"long\""
                }
              ],
              "type": "table"
            }
          }
        }
      ],
      "source": [
        "%sql\n",
        "SELECT Location, COUNT(*) AS total_reviews\n",
        "FROM delivery_reviews_cleaned\n",
        "GROUP BY Location\n",
        "ORDER BY total_reviews DESC;"
      ]
    },
    {
      "cell_type": "markdown",
      "metadata": {
        "application/vnd.databricks.v1+cell": {
          "cellMetadata": {},
          "inputWidgets": {},
          "nuid": "2739877b-fbe0-4a2f-b62e-7e73df4f3af8",
          "showTitle": false,
          "tableResultSettingsMap": {},
          "title": ""
        },
        "id": "n98xDa3DBgPF"
      },
      "source": [
        "### **3️⃣ Find the most common order type**"
      ]
    },
    {
      "cell_type": "code",
      "execution_count": null,
      "metadata": {
        "application/vnd.databricks.v1+cell": {
          "cellMetadata": {
            "byteLimit": 2048000,
            "rowLimit": 10000
          },
          "inputWidgets": {},
          "nuid": "a56c6d67-9673-4d49-825c-0d35f99bed44",
          "showTitle": false,
          "tableResultSettingsMap": {},
          "title": ""
        },
        "id": "gj-EVfu3BgPF",
        "outputId": "8649e81b-44f4-4af5-c98e-d4889ca09531"
      },
      "outputs": [
        {
          "output_type": "display_data",
          "data": {
            "text/html": [
              "<style scoped>\n",
              "  .table-result-container {\n",
              "    max-height: 300px;\n",
              "    overflow: auto;\n",
              "  }\n",
              "  table, th, td {\n",
              "    border: 1px solid black;\n",
              "    border-collapse: collapse;\n",
              "  }\n",
              "  th, td {\n",
              "    padding: 5px;\n",
              "  }\n",
              "  th {\n",
              "    text-align: left;\n",
              "  }\n",
              "</style><div class='table-result-container'><table class='table-result'><thead style='background-color: white'><tr><th>Order_Type</th><th>total_orders</th></tr></thead><tbody><tr><td>Electronics</td><td>1008</td></tr><tr><td>Food</td><td>1003</td></tr><tr><td>Essentials</td><td>1001</td></tr><tr><td>Grocery</td><td>995</td></tr><tr><td>Pharmacy</td><td>993</td></tr></tbody></table></div>"
            ]
          },
          "metadata": {
            "application/vnd.databricks.v1+output": {
              "addedWidgets": {},
              "aggData": [],
              "aggError": "",
              "aggOverflow": false,
              "aggSchema": [],
              "aggSeriesLimitReached": false,
              "aggType": "",
              "arguments": {},
              "columnCustomDisplayInfos": {},
              "data": [
                [
                  "Electronics",
                  1008
                ],
                [
                  "Food",
                  1003
                ],
                [
                  "Essentials",
                  1001
                ],
                [
                  "Grocery",
                  995
                ],
                [
                  "Pharmacy",
                  993
                ]
              ],
              "datasetInfos": [],
              "dbfsResultPath": null,
              "isJsonSchema": true,
              "metadata": {
                "isDbfsCommandResult": false
              },
              "overflow": false,
              "plotOptions": {
                "customPlotOptions": {},
                "displayType": "table",
                "pivotAggregation": null,
                "pivotColumns": null,
                "xColumns": null,
                "yColumns": null
              },
              "removedWidgets": [],
              "schema": [
                {
                  "metadata": "{}",
                  "name": "Order_Type",
                  "type": "\"string\""
                },
                {
                  "metadata": "{}",
                  "name": "total_orders",
                  "type": "\"long\""
                }
              ],
              "type": "table"
            }
          }
        }
      ],
      "source": [
        "%sql\n",
        "SELECT Order_Type, COUNT(*) AS total_orders\n",
        "FROM delivery_reviews_cleaned\n",
        "GROUP BY Order_Type\n",
        "ORDER BY total_orders DESC;"
      ]
    },
    {
      "cell_type": "markdown",
      "metadata": {
        "application/vnd.databricks.v1+cell": {
          "cellMetadata": {},
          "inputWidgets": {},
          "nuid": "c6ba724e-3470-4565-b974-2d7de24df2ce",
          "showTitle": false,
          "tableResultSettingsMap": {},
          "title": ""
        },
        "id": "X8AxfPbYBgPG"
      },
      "source": [
        "### **4️⃣ Find the average delivery time per agent**"
      ]
    },
    {
      "cell_type": "code",
      "execution_count": null,
      "metadata": {
        "application/vnd.databricks.v1+cell": {
          "cellMetadata": {
            "byteLimit": 2048000,
            "rowLimit": 10000
          },
          "inputWidgets": {},
          "nuid": "b60b7966-9bff-49c4-93e8-e07a758deec6",
          "showTitle": false,
          "tableResultSettingsMap": {},
          "title": ""
        },
        "id": "shqo1mvlBgPG",
        "outputId": "ccf91bce-22e2-4d7a-f76b-066c06c28f5f"
      },
      "outputs": [
        {
          "output_type": "display_data",
          "data": {
            "text/html": [
              "<style scoped>\n",
              "  .table-result-container {\n",
              "    max-height: 300px;\n",
              "    overflow: auto;\n",
              "  }\n",
              "  table, th, td {\n",
              "    border: 1px solid black;\n",
              "    border-collapse: collapse;\n",
              "  }\n",
              "  th, td {\n",
              "    padding: 5px;\n",
              "  }\n",
              "  th {\n",
              "    text-align: left;\n",
              "  }\n",
              "</style><div class='table-result-container'><table class='table-result'><thead style='background-color: white'><tr><th>Agent_Name</th><th>avg_delivery_time</th></tr></thead><tbody><tr><td>Blinkit</td><td>34.65</td></tr><tr><td>JioMart</td><td>35.03</td></tr><tr><td>Zepto</td><td>35.06</td></tr><tr><td>Swiggy Instamart</td><td>35.12</td></tr></tbody></table></div>"
            ]
          },
          "metadata": {
            "application/vnd.databricks.v1+output": {
              "addedWidgets": {},
              "aggData": [],
              "aggError": "",
              "aggOverflow": false,
              "aggSchema": [],
              "aggSeriesLimitReached": false,
              "aggType": "",
              "arguments": {},
              "columnCustomDisplayInfos": {},
              "data": [
                [
                  "Blinkit",
                  34.65
                ],
                [
                  "JioMart",
                  35.03
                ],
                [
                  "Zepto",
                  35.06
                ],
                [
                  "Swiggy Instamart",
                  35.12
                ]
              ],
              "datasetInfos": [],
              "dbfsResultPath": null,
              "isJsonSchema": true,
              "metadata": {
                "isDbfsCommandResult": false
              },
              "overflow": false,
              "plotOptions": {
                "customPlotOptions": {},
                "displayType": "table",
                "pivotAggregation": null,
                "pivotColumns": null,
                "xColumns": null,
                "yColumns": null
              },
              "removedWidgets": [],
              "schema": [
                {
                  "metadata": "{}",
                  "name": "Agent_Name",
                  "type": "\"string\""
                },
                {
                  "metadata": "{}",
                  "name": "avg_delivery_time",
                  "type": "\"double\""
                }
              ],
              "type": "table"
            }
          }
        }
      ],
      "source": [
        "%sql\n",
        "SELECT Agent_Name, ROUND(AVG(Delivery_Time), 2) AS avg_delivery_time\n",
        "FROM delivery_reviews_cleaned\n",
        "GROUP BY Agent_Name\n",
        "ORDER BY avg_delivery_time ASC;"
      ]
    },
    {
      "cell_type": "markdown",
      "metadata": {
        "application/vnd.databricks.v1+cell": {
          "cellMetadata": {},
          "inputWidgets": {},
          "nuid": "a0155846-4c2c-42b6-ae9e-fe1787987ce6",
          "showTitle": false,
          "tableResultSettingsMap": {},
          "title": ""
        },
        "id": "F1cuWliJBgPG"
      },
      "source": [
        "### **5️⃣ Find the impact of discount on ratings**"
      ]
    },
    {
      "cell_type": "code",
      "execution_count": null,
      "metadata": {
        "application/vnd.databricks.v1+cell": {
          "cellMetadata": {
            "byteLimit": 2048000,
            "rowLimit": 10000
          },
          "inputWidgets": {},
          "nuid": "b68ec517-cf5d-465e-a21a-f4dd2c7ae2c7",
          "showTitle": false,
          "tableResultSettingsMap": {},
          "title": ""
        },
        "id": "h3zLycXsBgPH",
        "outputId": "9c9c381a-90b9-4617-a814-fccdcc036ceb"
      },
      "outputs": [
        {
          "output_type": "display_data",
          "data": {
            "text/html": [
              "<style scoped>\n",
              "  .table-result-container {\n",
              "    max-height: 300px;\n",
              "    overflow: auto;\n",
              "  }\n",
              "  table, th, td {\n",
              "    border: 1px solid black;\n",
              "    border-collapse: collapse;\n",
              "  }\n",
              "  th, td {\n",
              "    padding: 5px;\n",
              "  }\n",
              "  th {\n",
              "    text-align: left;\n",
              "  }\n",
              "</style><div class='table-result-container'><table class='table-result'><thead style='background-color: white'><tr><th>Discount_Applied</th><th>avg_rating</th></tr></thead><tbody><tr><td>No</td><td>2.99</td></tr><tr><td>Yes</td><td>3.02</td></tr></tbody></table></div>"
            ]
          },
          "metadata": {
            "application/vnd.databricks.v1+output": {
              "addedWidgets": {},
              "aggData": [],
              "aggError": "",
              "aggOverflow": false,
              "aggSchema": [],
              "aggSeriesLimitReached": false,
              "aggType": "",
              "arguments": {},
              "columnCustomDisplayInfos": {},
              "data": [
                [
                  "No",
                  2.99
                ],
                [
                  "Yes",
                  3.02
                ]
              ],
              "datasetInfos": [],
              "dbfsResultPath": null,
              "isJsonSchema": true,
              "metadata": {
                "isDbfsCommandResult": false
              },
              "overflow": false,
              "plotOptions": {
                "customPlotOptions": {},
                "displayType": "table",
                "pivotAggregation": null,
                "pivotColumns": null,
                "xColumns": null,
                "yColumns": null
              },
              "removedWidgets": [],
              "schema": [
                {
                  "metadata": "{}",
                  "name": "Discount_Applied",
                  "type": "\"string\""
                },
                {
                  "metadata": "{}",
                  "name": "avg_rating",
                  "type": "\"double\""
                }
              ],
              "type": "table"
            }
          }
        }
      ],
      "source": [
        "%sql\n",
        "SELECT Discount_Applied, ROUND(AVG(Rating), 2) AS avg_rating\n",
        "FROM delivery_reviews_cleaned\n",
        "GROUP BY Discount_Applied;"
      ]
    },
    {
      "cell_type": "markdown",
      "metadata": {
        "application/vnd.databricks.v1+cell": {
          "cellMetadata": {
            "byteLimit": 2048000,
            "rowLimit": 10000
          },
          "inputWidgets": {},
          "nuid": "72896352-78b2-45e2-b4ac-0801ff574cf6",
          "showTitle": false,
          "tableResultSettingsMap": {},
          "title": ""
        },
        "id": "YxFrv1X-BgPH"
      },
      "source": [
        "### **6️⃣ Categorize Ratings into Low, Medium, and High**"
      ]
    },
    {
      "cell_type": "code",
      "execution_count": null,
      "metadata": {
        "application/vnd.databricks.v1+cell": {
          "cellMetadata": {
            "byteLimit": 2048000,
            "rowLimit": 10000
          },
          "inputWidgets": {},
          "nuid": "892178f6-a42b-4d99-9140-76e648c73d68",
          "showTitle": false,
          "tableResultSettingsMap": {},
          "title": ""
        },
        "id": "GM0qdhNDBgPI",
        "outputId": "1003d96a-2e48-4c74-fa1a-6d6b8c180df4"
      },
      "outputs": [
        {
          "output_type": "display_data",
          "data": {
            "text/html": [
              "<style scoped>\n",
              "  .table-result-container {\n",
              "    max-height: 300px;\n",
              "    overflow: auto;\n",
              "  }\n",
              "  table, th, td {\n",
              "    border: 1px solid black;\n",
              "    border-collapse: collapse;\n",
              "  }\n",
              "  th, td {\n",
              "    padding: 5px;\n",
              "  }\n",
              "  th {\n",
              "    text-align: left;\n",
              "  }\n",
              "</style><div class='table-result-container'><table class='table-result'><thead style='background-color: white'><tr><th>Agent_Name</th><th>Rating</th><th>rating_category</th></tr></thead><tbody><tr><td>Zepto</td><td>4.5</td><td>High</td></tr><tr><td>Zepto</td><td>2.1</td><td>Low</td></tr><tr><td>JioMart</td><td>4.5</td><td>High</td></tr><tr><td>JioMart</td><td>2.6</td><td>Low</td></tr><tr><td>Zepto</td><td>3.6</td><td>Medium</td></tr><tr><td>Blinkit</td><td>1.9</td><td>Low</td></tr><tr><td>Blinkit</td><td>3.3</td><td>Medium</td></tr><tr><td>Blinkit</td><td>1.5</td><td>Low</td></tr><tr><td>Zepto</td><td>2.8</td><td>Low</td></tr><tr><td>JioMart</td><td>2.5</td><td>Low</td></tr><tr><td>Zepto</td><td>2.5</td><td>Low</td></tr><tr><td>Swiggy Instamart</td><td>2.9</td><td>Low</td></tr><tr><td>JioMart</td><td>4.6</td><td>High</td></tr><tr><td>JioMart</td><td>2.6</td><td>Low</td></tr><tr><td>Blinkit</td><td>3.6</td><td>Medium</td></tr><tr><td>Zepto</td><td>1.8</td><td>Low</td></tr><tr><td>Zepto</td><td>3.8</td><td>Medium</td></tr><tr><td>Zepto</td><td>2.0</td><td>Low</td></tr><tr><td>JioMart</td><td>4.7</td><td>High</td></tr><tr><td>Blinkit</td><td>3.6</td><td>Medium</td></tr><tr><td>Zepto</td><td>2.3</td><td>Low</td></tr><tr><td>Swiggy Instamart</td><td>3.8</td><td>Medium</td></tr><tr><td>JioMart</td><td>1.9</td><td>Low</td></tr><tr><td>Zepto</td><td>2.2</td><td>Low</td></tr><tr><td>JioMart</td><td>1.1</td><td>Low</td></tr><tr><td>Blinkit</td><td>1.3</td><td>Low</td></tr><tr><td>Swiggy Instamart</td><td>4.6</td><td>High</td></tr><tr><td>Blinkit</td><td>4.8</td><td>High</td></tr><tr><td>Zepto</td><td>2.2</td><td>Low</td></tr><tr><td>Blinkit</td><td>2.4</td><td>Low</td></tr><tr><td>Zepto</td><td>3.8</td><td>Medium</td></tr><tr><td>Swiggy Instamart</td><td>1.5</td><td>Low</td></tr><tr><td>Blinkit</td><td>1.6</td><td>Low</td></tr><tr><td>Zepto</td><td>4.7</td><td>High</td></tr><tr><td>JioMart</td><td>1.8</td><td>Low</td></tr><tr><td>Zepto</td><td>2.4</td><td>Low</td></tr><tr><td>JioMart</td><td>3.4</td><td>Medium</td></tr><tr><td>Blinkit</td><td>2.4</td><td>Low</td></tr><tr><td>Zepto</td><td>2.5</td><td>Low</td></tr><tr><td>Swiggy Instamart</td><td>3.1</td><td>Medium</td></tr><tr><td>JioMart</td><td>4.3</td><td>High</td></tr><tr><td>Zepto</td><td>2.3</td><td>Low</td></tr><tr><td>Blinkit</td><td>4.3</td><td>High</td></tr><tr><td>Zepto</td><td>4.7</td><td>High</td></tr><tr><td>Zepto</td><td>2.2</td><td>Low</td></tr><tr><td>Blinkit</td><td>2.6</td><td>Low</td></tr><tr><td>Zepto</td><td>3.6</td><td>Medium</td></tr><tr><td>Blinkit</td><td>2.7</td><td>Low</td></tr><tr><td>Blinkit</td><td>2.6</td><td>Low</td></tr><tr><td>Zepto</td><td>2.8</td><td>Low</td></tr><tr><td>Zepto</td><td>3.7</td><td>Medium</td></tr><tr><td>Zepto</td><td>3.8</td><td>Medium</td></tr><tr><td>Zepto</td><td>3.6</td><td>Medium</td></tr><tr><td>JioMart</td><td>3.4</td><td>Medium</td></tr><tr><td>Swiggy Instamart</td><td>4.6</td><td>High</td></tr><tr><td>Blinkit</td><td>3.0</td><td>Medium</td></tr><tr><td>Blinkit</td><td>3.9</td><td>Medium</td></tr><tr><td>JioMart</td><td>3.7</td><td>Medium</td></tr><tr><td>Swiggy Instamart</td><td>3.6</td><td>Medium</td></tr><tr><td>Swiggy Instamart</td><td>4.8</td><td>High</td></tr><tr><td>Zepto</td><td>3.7</td><td>Medium</td></tr><tr><td>Zepto</td><td>3.7</td><td>Medium</td></tr><tr><td>Zepto</td><td>4.6</td><td>High</td></tr><tr><td>Swiggy Instamart</td><td>2.5</td><td>Low</td></tr><tr><td>Blinkit</td><td>1.0</td><td>Low</td></tr><tr><td>Zepto</td><td>1.6</td><td>Low</td></tr><tr><td>JioMart</td><td>1.5</td><td>Low</td></tr><tr><td>Swiggy Instamart</td><td>2.1</td><td>Low</td></tr><tr><td>JioMart</td><td>1.2</td><td>Low</td></tr><tr><td>JioMart</td><td>2.7</td><td>Low</td></tr><tr><td>JioMart</td><td>1.9</td><td>Low</td></tr><tr><td>JioMart</td><td>4.1</td><td>High</td></tr><tr><td>Swiggy Instamart</td><td>2.7</td><td>Low</td></tr><tr><td>JioMart</td><td>4.3</td><td>High</td></tr><tr><td>Swiggy Instamart</td><td>3.6</td><td>Medium</td></tr><tr><td>Zepto</td><td>3.7</td><td>Medium</td></tr><tr><td>Zepto</td><td>1.2</td><td>Low</td></tr><tr><td>Swiggy Instamart</td><td>1.6</td><td>Low</td></tr><tr><td>Zepto</td><td>3.3</td><td>Medium</td></tr><tr><td>JioMart</td><td>4.4</td><td>High</td></tr><tr><td>Swiggy Instamart</td><td>3.6</td><td>Medium</td></tr><tr><td>Swiggy Instamart</td><td>3.4</td><td>Medium</td></tr><tr><td>JioMart</td><td>4.7</td><td>High</td></tr><tr><td>Swiggy Instamart</td><td>1.4</td><td>Low</td></tr><tr><td>Blinkit</td><td>1.7</td><td>Low</td></tr><tr><td>Zepto</td><td>1.6</td><td>Low</td></tr><tr><td>Blinkit</td><td>4.7</td><td>High</td></tr><tr><td>JioMart</td><td>2.6</td><td>Low</td></tr><tr><td>Zepto</td><td>1.3</td><td>Low</td></tr><tr><td>Blinkit</td><td>1.5</td><td>Low</td></tr><tr><td>Swiggy Instamart</td><td>3.8</td><td>Medium</td></tr><tr><td>Blinkit</td><td>2.6</td><td>Low</td></tr><tr><td>Swiggy Instamart</td><td>2.9</td><td>Low</td></tr><tr><td>Zepto</td><td>5.0</td><td>High</td></tr><tr><td>Swiggy Instamart</td><td>4.3</td><td>High</td></tr><tr><td>Swiggy Instamart</td><td>4.3</td><td>High</td></tr><tr><td>JioMart</td><td>4.6</td><td>High</td></tr><tr><td>Blinkit</td><td>4.9</td><td>High</td></tr><tr><td>Zepto</td><td>3.0</td><td>Medium</td></tr><tr><td>Swiggy Instamart</td><td>4.8</td><td>High</td></tr><tr><td>Swiggy Instamart</td><td>4.8</td><td>High</td></tr><tr><td>Blinkit</td><td>4.3</td><td>High</td></tr><tr><td>JioMart</td><td>3.8</td><td>Medium</td></tr><tr><td>Blinkit</td><td>2.2</td><td>Low</td></tr><tr><td>JioMart</td><td>4.0</td><td>Medium</td></tr><tr><td>Zepto</td><td>3.2</td><td>Medium</td></tr><tr><td>Swiggy Instamart</td><td>2.2</td><td>Low</td></tr><tr><td>Swiggy Instamart</td><td>1.4</td><td>Low</td></tr><tr><td>Swiggy Instamart</td><td>4.4</td><td>High</td></tr><tr><td>Zepto</td><td>1.7</td><td>Low</td></tr><tr><td>Blinkit</td><td>4.3</td><td>High</td></tr><tr><td>JioMart</td><td>3.1</td><td>Medium</td></tr><tr><td>Zepto</td><td>4.8</td><td>High</td></tr><tr><td>Zepto</td><td>4.2</td><td>High</td></tr><tr><td>Swiggy Instamart</td><td>1.2</td><td>Low</td></tr><tr><td>Swiggy Instamart</td><td>4.7</td><td>High</td></tr><tr><td>Zepto</td><td>1.1</td><td>Low</td></tr><tr><td>Blinkit</td><td>3.7</td><td>Medium</td></tr><tr><td>Swiggy Instamart</td><td>2.8</td><td>Low</td></tr><tr><td>JioMart</td><td>2.2</td><td>Low</td></tr><tr><td>Blinkit</td><td>5.0</td><td>High</td></tr><tr><td>Blinkit</td><td>4.2</td><td>High</td></tr><tr><td>Zepto</td><td>3.8</td><td>Medium</td></tr><tr><td>Zepto</td><td>4.6</td><td>High</td></tr><tr><td>JioMart</td><td>4.0</td><td>Medium</td></tr><tr><td>JioMart</td><td>3.1</td><td>Medium</td></tr><tr><td>Blinkit</td><td>4.7</td><td>High</td></tr><tr><td>JioMart</td><td>4.7</td><td>High</td></tr><tr><td>JioMart</td><td>3.0</td><td>Medium</td></tr><tr><td>Swiggy Instamart</td><td>3.7</td><td>Medium</td></tr><tr><td>JioMart</td><td>2.6</td><td>Low</td></tr><tr><td>Zepto</td><td>1.7</td><td>Low</td></tr><tr><td>Zepto</td><td>2.1</td><td>Low</td></tr><tr><td>Zepto</td><td>4.7</td><td>High</td></tr><tr><td>Blinkit</td><td>2.7</td><td>Low</td></tr><tr><td>JioMart</td><td>1.1</td><td>Low</td></tr><tr><td>Blinkit</td><td>1.6</td><td>Low</td></tr><tr><td>Blinkit</td><td>2.8</td><td>Low</td></tr><tr><td>JioMart</td><td>4.2</td><td>High</td></tr><tr><td>Zepto</td><td>3.2</td><td>Medium</td></tr><tr><td>Blinkit</td><td>3.7</td><td>Medium</td></tr><tr><td>JioMart</td><td>4.8</td><td>High</td></tr><tr><td>Blinkit</td><td>2.2</td><td>Low</td></tr><tr><td>JioMart</td><td>1.3</td><td>Low</td></tr><tr><td>JioMart</td><td>2.1</td><td>Low</td></tr><tr><td>Zepto</td><td>2.7</td><td>Low</td></tr><tr><td>JioMart</td><td>1.7</td><td>Low</td></tr><tr><td>Blinkit</td><td>1.4</td><td>Low</td></tr><tr><td>Zepto</td><td>4.1</td><td>High</td></tr><tr><td>Blinkit</td><td>1.0</td><td>Low</td></tr><tr><td>Swiggy Instamart</td><td>3.7</td><td>Medium</td></tr><tr><td>Swiggy Instamart</td><td>3.1</td><td>Medium</td></tr><tr><td>Blinkit</td><td>3.6</td><td>Medium</td></tr><tr><td>Swiggy Instamart</td><td>4.3</td><td>High</td></tr><tr><td>Blinkit</td><td>2.3</td><td>Low</td></tr><tr><td>Zepto</td><td>3.8</td><td>Medium</td></tr><tr><td>JioMart</td><td>3.2</td><td>Medium</td></tr><tr><td>Blinkit</td><td>3.2</td><td>Medium</td></tr><tr><td>JioMart</td><td>2.8</td><td>Low</td></tr><tr><td>Swiggy Instamart</td><td>2.8</td><td>Low</td></tr><tr><td>Swiggy Instamart</td><td>4.3</td><td>High</td></tr><tr><td>Swiggy Instamart</td><td>5.0</td><td>High</td></tr><tr><td>Swiggy Instamart</td><td>2.0</td><td>Low</td></tr><tr><td>Blinkit</td><td>1.0</td><td>Low</td></tr><tr><td>JioMart</td><td>4.8</td><td>High</td></tr><tr><td>Blinkit</td><td>1.2</td><td>Low</td></tr><tr><td>Swiggy Instamart</td><td>4.0</td><td>Medium</td></tr><tr><td>Swiggy Instamart</td><td>4.8</td><td>High</td></tr><tr><td>Blinkit</td><td>4.8</td><td>High</td></tr><tr><td>JioMart</td><td>3.0</td><td>Medium</td></tr><tr><td>Blinkit</td><td>1.9</td><td>Low</td></tr><tr><td>Zepto</td><td>1.9</td><td>Low</td></tr><tr><td>Blinkit</td><td>5.0</td><td>High</td></tr><tr><td>Zepto</td><td>3.4</td><td>Medium</td></tr><tr><td>Swiggy Instamart</td><td>2.0</td><td>Low</td></tr><tr><td>JioMart</td><td>3.4</td><td>Medium</td></tr><tr><td>JioMart</td><td>2.1</td><td>Low</td></tr><tr><td>JioMart</td><td>4.2</td><td>High</td></tr><tr><td>Blinkit</td><td>1.7</td><td>Low</td></tr><tr><td>JioMart</td><td>1.3</td><td>Low</td></tr><tr><td>JioMart</td><td>3.4</td><td>Medium</td></tr><tr><td>Blinkit</td><td>2.2</td><td>Low</td></tr><tr><td>Zepto</td><td>2.6</td><td>Low</td></tr><tr><td>Swiggy Instamart</td><td>1.4</td><td>Low</td></tr><tr><td>JioMart</td><td>2.9</td><td>Low</td></tr><tr><td>Swiggy Instamart</td><td>3.8</td><td>Medium</td></tr><tr><td>Swiggy Instamart</td><td>5.0</td><td>High</td></tr><tr><td>Blinkit</td><td>3.1</td><td>Medium</td></tr><tr><td>JioMart</td><td>3.2</td><td>Medium</td></tr><tr><td>Swiggy Instamart</td><td>3.6</td><td>Medium</td></tr><tr><td>Swiggy Instamart</td><td>2.6</td><td>Low</td></tr><tr><td>JioMart</td><td>4.7</td><td>High</td></tr><tr><td>Swiggy Instamart</td><td>3.7</td><td>Medium</td></tr><tr><td>Blinkit</td><td>4.1</td><td>High</td></tr><tr><td>Blinkit</td><td>1.5</td><td>Low</td></tr><tr><td>Swiggy Instamart</td><td>2.5</td><td>Low</td></tr><tr><td>Swiggy Instamart</td><td>1.3</td><td>Low</td></tr><tr><td>Swiggy Instamart</td><td>4.3</td><td>High</td></tr><tr><td>Blinkit</td><td>2.3</td><td>Low</td></tr><tr><td>Zepto</td><td>1.9</td><td>Low</td></tr><tr><td>Blinkit</td><td>4.4</td><td>High</td></tr><tr><td>JioMart</td><td>3.8</td><td>Medium</td></tr><tr><td>Blinkit</td><td>1.1</td><td>Low</td></tr><tr><td>Blinkit</td><td>1.7</td><td>Low</td></tr><tr><td>Swiggy Instamart</td><td>3.0</td><td>Medium</td></tr><tr><td>JioMart</td><td>1.7</td><td>Low</td></tr><tr><td>Swiggy Instamart</td><td>4.6</td><td>High</td></tr><tr><td>Swiggy Instamart</td><td>4.8</td><td>High</td></tr><tr><td>Zepto</td><td>3.0</td><td>Medium</td></tr><tr><td>Blinkit</td><td>1.7</td><td>Low</td></tr><tr><td>Blinkit</td><td>2.8</td><td>Low</td></tr><tr><td>Blinkit</td><td>1.1</td><td>Low</td></tr><tr><td>Swiggy Instamart</td><td>3.7</td><td>Medium</td></tr><tr><td>Zepto</td><td>3.5</td><td>Medium</td></tr><tr><td>Zepto</td><td>1.5</td><td>Low</td></tr><tr><td>JioMart</td><td>3.5</td><td>Medium</td></tr><tr><td>Zepto</td><td>3.2</td><td>Medium</td></tr><tr><td>Zepto</td><td>2.7</td><td>Low</td></tr><tr><td>JioMart</td><td>3.3</td><td>Medium</td></tr><tr><td>Zepto</td><td>3.3</td><td>Medium</td></tr><tr><td>Zepto</td><td>3.3</td><td>Medium</td></tr><tr><td>Swiggy Instamart</td><td>3.8</td><td>Medium</td></tr><tr><td>Swiggy Instamart</td><td>3.8</td><td>Medium</td></tr><tr><td>JioMart</td><td>4.0</td><td>Medium</td></tr><tr><td>Blinkit</td><td>2.3</td><td>Low</td></tr><tr><td>JioMart</td><td>4.5</td><td>High</td></tr><tr><td>JioMart</td><td>4.6</td><td>High</td></tr><tr><td>Zepto</td><td>1.7</td><td>Low</td></tr><tr><td>Swiggy Instamart</td><td>1.0</td><td>Low</td></tr><tr><td>Swiggy Instamart</td><td>2.2</td><td>Low</td></tr><tr><td>JioMart</td><td>1.8</td><td>Low</td></tr><tr><td>JioMart</td><td>4.2</td><td>High</td></tr><tr><td>Swiggy Instamart</td><td>1.2</td><td>Low</td></tr><tr><td>Swiggy Instamart</td><td>4.1</td><td>High</td></tr><tr><td>Zepto</td><td>3.0</td><td>Medium</td></tr><tr><td>Zepto</td><td>1.5</td><td>Low</td></tr><tr><td>Swiggy Instamart</td><td>1.9</td><td>Low</td></tr><tr><td>Swiggy Instamart</td><td>3.8</td><td>Medium</td></tr><tr><td>Swiggy Instamart</td><td>2.7</td><td>Low</td></tr><tr><td>Blinkit</td><td>3.1</td><td>Medium</td></tr><tr><td>Zepto</td><td>4.4</td><td>High</td></tr><tr><td>Zepto</td><td>4.2</td><td>High</td></tr><tr><td>JioMart</td><td>4.1</td><td>High</td></tr><tr><td>JioMart</td><td>1.2</td><td>Low</td></tr><tr><td>Zepto</td><td>2.5</td><td>Low</td></tr><tr><td>Blinkit</td><td>2.4</td><td>Low</td></tr><tr><td>Swiggy Instamart</td><td>4.1</td><td>High</td></tr><tr><td>Blinkit</td><td>1.5</td><td>Low</td></tr><tr><td>Zepto</td><td>3.3</td><td>Medium</td></tr><tr><td>Swiggy Instamart</td><td>1.7</td><td>Low</td></tr><tr><td>Swiggy Instamart</td><td>3.5</td><td>Medium</td></tr><tr><td>Zepto</td><td>2.6</td><td>Low</td></tr><tr><td>Zepto</td><td>4.9</td><td>High</td></tr><tr><td>Blinkit</td><td>1.3</td><td>Low</td></tr><tr><td>JioMart</td><td>4.1</td><td>High</td></tr><tr><td>Blinkit</td><td>3.8</td><td>Medium</td></tr><tr><td>JioMart</td><td>2.4</td><td>Low</td></tr><tr><td>Blinkit</td><td>1.2</td><td>Low</td></tr><tr><td>Blinkit</td><td>2.4</td><td>Low</td></tr><tr><td>Zepto</td><td>4.8</td><td>High</td></tr><tr><td>JioMart</td><td>2.6</td><td>Low</td></tr><tr><td>Swiggy Instamart</td><td>1.1</td><td>Low</td></tr><tr><td>Zepto</td><td>1.8</td><td>Low</td></tr><tr><td>Swiggy Instamart</td><td>2.2</td><td>Low</td></tr><tr><td>Swiggy Instamart</td><td>2.0</td><td>Low</td></tr><tr><td>Blinkit</td><td>1.3</td><td>Low</td></tr><tr><td>Zepto</td><td>3.9</td><td>Medium</td></tr><tr><td>JioMart</td><td>4.7</td><td>High</td></tr><tr><td>Zepto</td><td>4.6</td><td>High</td></tr><tr><td>Blinkit</td><td>3.7</td><td>Medium</td></tr><tr><td>JioMart</td><td>1.8</td><td>Low</td></tr><tr><td>JioMart</td><td>3.5</td><td>Medium</td></tr><tr><td>Blinkit</td><td>2.1</td><td>Low</td></tr><tr><td>JioMart</td><td>4.9</td><td>High</td></tr><tr><td>JioMart</td><td>3.4</td><td>Medium</td></tr><tr><td>JioMart</td><td>2.5</td><td>Low</td></tr><tr><td>Zepto</td><td>3.3</td><td>Medium</td></tr><tr><td>Swiggy Instamart</td><td>1.1</td><td>Low</td></tr><tr><td>JioMart</td><td>3.1</td><td>Medium</td></tr><tr><td>JioMart</td><td>4.3</td><td>High</td></tr><tr><td>Zepto</td><td>4.5</td><td>High</td></tr><tr><td>Blinkit</td><td>2.9</td><td>Low</td></tr><tr><td>Zepto</td><td>2.6</td><td>Low</td></tr><tr><td>Blinkit</td><td>4.2</td><td>High</td></tr><tr><td>Blinkit</td><td>4.9</td><td>High</td></tr><tr><td>JioMart</td><td>3.0</td><td>Medium</td></tr><tr><td>Swiggy Instamart</td><td>1.0</td><td>Low</td></tr><tr><td>JioMart</td><td>1.6</td><td>Low</td></tr><tr><td>Zepto</td><td>2.8</td><td>Low</td></tr><tr><td>Zepto</td><td>2.3</td><td>Low</td></tr><tr><td>Swiggy Instamart</td><td>2.6</td><td>Low</td></tr><tr><td>Swiggy Instamart</td><td>3.7</td><td>Medium</td></tr><tr><td>Swiggy Instamart</td><td>1.4</td><td>Low</td></tr><tr><td>Blinkit</td><td>4.4</td><td>High</td></tr><tr><td>Zepto</td><td>3.2</td><td>Medium</td></tr><tr><td>JioMart</td><td>4.6</td><td>High</td></tr><tr><td>Blinkit</td><td>1.6</td><td>Low</td></tr><tr><td>Zepto</td><td>2.9</td><td>Low</td></tr><tr><td>Blinkit</td><td>4.0</td><td>Medium</td></tr><tr><td>Zepto</td><td>3.7</td><td>Medium</td></tr><tr><td>Blinkit</td><td>3.0</td><td>Medium</td></tr><tr><td>JioMart</td><td>1.8</td><td>Low</td></tr><tr><td>Zepto</td><td>2.3</td><td>Low</td></tr><tr><td>Blinkit</td><td>4.6</td><td>High</td></tr><tr><td>Zepto</td><td>2.4</td><td>Low</td></tr><tr><td>Zepto</td><td>3.8</td><td>Medium</td></tr><tr><td>Zepto</td><td>2.3</td><td>Low</td></tr><tr><td>Swiggy Instamart</td><td>1.8</td><td>Low</td></tr><tr><td>Blinkit</td><td>1.2</td><td>Low</td></tr><tr><td>Blinkit</td><td>4.7</td><td>High</td></tr><tr><td>Blinkit</td><td>2.0</td><td>Low</td></tr><tr><td>Blinkit</td><td>1.4</td><td>Low</td></tr><tr><td>Blinkit</td><td>4.7</td><td>High</td></tr><tr><td>Zepto</td><td>5.0</td><td>High</td></tr><tr><td>JioMart</td><td>2.8</td><td>Low</td></tr><tr><td>JioMart</td><td>4.9</td><td>High</td></tr><tr><td>JioMart</td><td>2.6</td><td>Low</td></tr><tr><td>Blinkit</td><td>4.4</td><td>High</td></tr><tr><td>Blinkit</td><td>4.3</td><td>High</td></tr><tr><td>Swiggy Instamart</td><td>4.6</td><td>High</td></tr><tr><td>Swiggy Instamart</td><td>3.2</td><td>Medium</td></tr><tr><td>JioMart</td><td>2.9</td><td>Low</td></tr><tr><td>Blinkit</td><td>3.1</td><td>Medium</td></tr><tr><td>Blinkit</td><td>4.4</td><td>High</td></tr><tr><td>Blinkit</td><td>3.7</td><td>Medium</td></tr><tr><td>Zepto</td><td>2.3</td><td>Low</td></tr><tr><td>Swiggy Instamart</td><td>4.4</td><td>High</td></tr><tr><td>JioMart</td><td>2.6</td><td>Low</td></tr><tr><td>Swiggy Instamart</td><td>3.5</td><td>Medium</td></tr><tr><td>JioMart</td><td>3.5</td><td>Medium</td></tr><tr><td>Blinkit</td><td>1.8</td><td>Low</td></tr><tr><td>Zepto</td><td>1.6</td><td>Low</td></tr><tr><td>JioMart</td><td>3.9</td><td>Medium</td></tr><tr><td>Blinkit</td><td>4.9</td><td>High</td></tr><tr><td>Zepto</td><td>4.0</td><td>Medium</td></tr><tr><td>Zepto</td><td>3.1</td><td>Medium</td></tr><tr><td>Blinkit</td><td>4.9</td><td>High</td></tr><tr><td>Zepto</td><td>1.3</td><td>Low</td></tr><tr><td>Blinkit</td><td>4.1</td><td>High</td></tr><tr><td>JioMart</td><td>2.7</td><td>Low</td></tr><tr><td>Swiggy Instamart</td><td>1.6</td><td>Low</td></tr><tr><td>Swiggy Instamart</td><td>3.6</td><td>Medium</td></tr><tr><td>Zepto</td><td>3.4</td><td>Medium</td></tr><tr><td>JioMart</td><td>4.6</td><td>High</td></tr><tr><td>Zepto</td><td>2.6</td><td>Low</td></tr><tr><td>JioMart</td><td>4.9</td><td>High</td></tr><tr><td>Blinkit</td><td>3.0</td><td>Medium</td></tr><tr><td>Blinkit</td><td>4.1</td><td>High</td></tr><tr><td>JioMart</td><td>3.8</td><td>Medium</td></tr><tr><td>Blinkit</td><td>3.3</td><td>Medium</td></tr><tr><td>Blinkit</td><td>3.8</td><td>Medium</td></tr><tr><td>Zepto</td><td>3.0</td><td>Medium</td></tr><tr><td>Blinkit</td><td>1.5</td><td>Low</td></tr><tr><td>JioMart</td><td>2.4</td><td>Low</td></tr><tr><td>Swiggy Instamart</td><td>2.4</td><td>Low</td></tr><tr><td>JioMart</td><td>4.9</td><td>High</td></tr><tr><td>Zepto</td><td>3.2</td><td>Medium</td></tr><tr><td>Blinkit</td><td>4.8</td><td>High</td></tr><tr><td>Swiggy Instamart</td><td>3.6</td><td>Medium</td></tr><tr><td>Blinkit</td><td>2.0</td><td>Low</td></tr><tr><td>JioMart</td><td>1.8</td><td>Low</td></tr><tr><td>Zepto</td><td>2.8</td><td>Low</td></tr><tr><td>Zepto</td><td>4.2</td><td>High</td></tr><tr><td>Zepto</td><td>2.0</td><td>Low</td></tr><tr><td>Zepto</td><td>2.2</td><td>Low</td></tr><tr><td>Swiggy Instamart</td><td>3.4</td><td>Medium</td></tr><tr><td>JioMart</td><td>3.5</td><td>Medium</td></tr><tr><td>JioMart</td><td>4.6</td><td>High</td></tr><tr><td>Zepto</td><td>1.1</td><td>Low</td></tr><tr><td>JioMart</td><td>4.0</td><td>Medium</td></tr><tr><td>Zepto</td><td>3.8</td><td>Medium</td></tr><tr><td>Zepto</td><td>2.5</td><td>Low</td></tr><tr><td>Blinkit</td><td>4.3</td><td>High</td></tr><tr><td>Swiggy Instamart</td><td>3.2</td><td>Medium</td></tr><tr><td>JioMart</td><td>4.3</td><td>High</td></tr><tr><td>Blinkit</td><td>4.4</td><td>High</td></tr><tr><td>Blinkit</td><td>4.4</td><td>High</td></tr><tr><td>Blinkit</td><td>3.1</td><td>Medium</td></tr><tr><td>Swiggy Instamart</td><td>1.5</td><td>Low</td></tr><tr><td>Zepto</td><td>3.4</td><td>Medium</td></tr><tr><td>Blinkit</td><td>3.7</td><td>Medium</td></tr><tr><td>Blinkit</td><td>3.6</td><td>Medium</td></tr><tr><td>Blinkit</td><td>2.0</td><td>Low</td></tr><tr><td>JioMart</td><td>4.6</td><td>High</td></tr><tr><td>Zepto</td><td>1.7</td><td>Low</td></tr><tr><td>Zepto</td><td>2.1</td><td>Low</td></tr><tr><td>Swiggy Instamart</td><td>4.0</td><td>Medium</td></tr><tr><td>Zepto</td><td>2.0</td><td>Low</td></tr><tr><td>Blinkit</td><td>1.8</td><td>Low</td></tr><tr><td>Zepto</td><td>4.2</td><td>High</td></tr><tr><td>Blinkit</td><td>4.1</td><td>High</td></tr><tr><td>Zepto</td><td>3.5</td><td>Medium</td></tr><tr><td>JioMart</td><td>4.6</td><td>High</td></tr><tr><td>Swiggy Instamart</td><td>4.8</td><td>High</td></tr><tr><td>Blinkit</td><td>4.5</td><td>High</td></tr><tr><td>Swiggy Instamart</td><td>2.3</td><td>Low</td></tr><tr><td>Blinkit</td><td>2.6</td><td>Low</td></tr><tr><td>Zepto</td><td>3.2</td><td>Medium</td></tr><tr><td>JioMart</td><td>3.1</td><td>Medium</td></tr><tr><td>JioMart</td><td>3.2</td><td>Medium</td></tr><tr><td>Blinkit</td><td>3.3</td><td>Medium</td></tr><tr><td>JioMart</td><td>1.1</td><td>Low</td></tr><tr><td>Swiggy Instamart</td><td>2.3</td><td>Low</td></tr><tr><td>Blinkit</td><td>3.4</td><td>Medium</td></tr><tr><td>Swiggy Instamart</td><td>5.0</td><td>High</td></tr><tr><td>JioMart</td><td>2.6</td><td>Low</td></tr><tr><td>Swiggy Instamart</td><td>1.2</td><td>Low</td></tr><tr><td>Zepto</td><td>2.9</td><td>Low</td></tr><tr><td>Zepto</td><td>1.5</td><td>Low</td></tr><tr><td>Zepto</td><td>1.1</td><td>Low</td></tr><tr><td>Swiggy Instamart</td><td>2.4</td><td>Low</td></tr><tr><td>Swiggy Instamart</td><td>4.7</td><td>High</td></tr><tr><td>Blinkit</td><td>2.5</td><td>Low</td></tr><tr><td>Zepto</td><td>4.2</td><td>High</td></tr><tr><td>Zepto</td><td>4.6</td><td>High</td></tr><tr><td>JioMart</td><td>1.7</td><td>Low</td></tr><tr><td>Swiggy Instamart</td><td>2.3</td><td>Low</td></tr><tr><td>JioMart</td><td>1.3</td><td>Low</td></tr><tr><td>JioMart</td><td>4.9</td><td>High</td></tr><tr><td>Swiggy Instamart</td><td>1.6</td><td>Low</td></tr><tr><td>Blinkit</td><td>1.7</td><td>Low</td></tr><tr><td>Blinkit</td><td>2.0</td><td>Low</td></tr><tr><td>Zepto</td><td>4.5</td><td>High</td></tr><tr><td>Swiggy Instamart</td><td>2.2</td><td>Low</td></tr><tr><td>Blinkit</td><td>4.1</td><td>High</td></tr><tr><td>Blinkit</td><td>3.6</td><td>Medium</td></tr><tr><td>Swiggy Instamart</td><td>1.9</td><td>Low</td></tr><tr><td>Zepto</td><td>2.6</td><td>Low</td></tr><tr><td>Zepto</td><td>4.4</td><td>High</td></tr><tr><td>Swiggy Instamart</td><td>3.4</td><td>Medium</td></tr><tr><td>Swiggy Instamart</td><td>4.3</td><td>High</td></tr><tr><td>JioMart</td><td>3.2</td><td>Medium</td></tr><tr><td>JioMart</td><td>1.0</td><td>Low</td></tr><tr><td>Blinkit</td><td>3.9</td><td>Medium</td></tr><tr><td>Zepto</td><td>4.3</td><td>High</td></tr><tr><td>Swiggy Instamart</td><td>2.0</td><td>Low</td></tr><tr><td>Zepto</td><td>4.6</td><td>High</td></tr><tr><td>Blinkit</td><td>4.8</td><td>High</td></tr><tr><td>Swiggy Instamart</td><td>3.0</td><td>Medium</td></tr><tr><td>Zepto</td><td>2.8</td><td>Low</td></tr><tr><td>Swiggy Instamart</td><td>1.2</td><td>Low</td></tr><tr><td>Swiggy Instamart</td><td>4.0</td><td>Medium</td></tr><tr><td>Zepto</td><td>4.1</td><td>High</td></tr><tr><td>Swiggy Instamart</td><td>3.0</td><td>Medium</td></tr><tr><td>Zepto</td><td>3.2</td><td>Medium</td></tr><tr><td>JioMart</td><td>3.1</td><td>Medium</td></tr><tr><td>JioMart</td><td>3.1</td><td>Medium</td></tr><tr><td>JioMart</td><td>2.8</td><td>Low</td></tr><tr><td>JioMart</td><td>1.6</td><td>Low</td></tr><tr><td>JioMart</td><td>3.3</td><td>Medium</td></tr><tr><td>JioMart</td><td>3.9</td><td>Medium</td></tr><tr><td>Zepto</td><td>3.1</td><td>Medium</td></tr><tr><td>Swiggy Instamart</td><td>3.8</td><td>Medium</td></tr><tr><td>Swiggy Instamart</td><td>4.6</td><td>High</td></tr><tr><td>Blinkit</td><td>3.5</td><td>Medium</td></tr><tr><td>JioMart</td><td>1.1</td><td>Low</td></tr><tr><td>Blinkit</td><td>3.0</td><td>Medium</td></tr><tr><td>Blinkit</td><td>2.9</td><td>Low</td></tr><tr><td>Swiggy Instamart</td><td>2.1</td><td>Low</td></tr><tr><td>Zepto</td><td>2.9</td><td>Low</td></tr><tr><td>Swiggy Instamart</td><td>4.2</td><td>High</td></tr><tr><td>Blinkit</td><td>2.1</td><td>Low</td></tr><tr><td>Zepto</td><td>4.7</td><td>High</td></tr><tr><td>Swiggy Instamart</td><td>2.0</td><td>Low</td></tr><tr><td>Swiggy Instamart</td><td>3.3</td><td>Medium</td></tr><tr><td>Zepto</td><td>2.9</td><td>Low</td></tr><tr><td>Blinkit</td><td>1.7</td><td>Low</td></tr><tr><td>Blinkit</td><td>4.8</td><td>High</td></tr><tr><td>Blinkit</td><td>2.8</td><td>Low</td></tr><tr><td>Blinkit</td><td>4.0</td><td>Medium</td></tr><tr><td>Zepto</td><td>4.0</td><td>Medium</td></tr><tr><td>Zepto</td><td>4.2</td><td>High</td></tr><tr><td>Swiggy Instamart</td><td>2.6</td><td>Low</td></tr><tr><td>JioMart</td><td>3.4</td><td>Medium</td></tr><tr><td>JioMart</td><td>4.2</td><td>High</td></tr><tr><td>Swiggy Instamart</td><td>2.9</td><td>Low</td></tr><tr><td>Swiggy Instamart</td><td>1.6</td><td>Low</td></tr><tr><td>Zepto</td><td>4.5</td><td>High</td></tr><tr><td>Zepto</td><td>1.9</td><td>Low</td></tr><tr><td>Swiggy Instamart</td><td>2.9</td><td>Low</td></tr><tr><td>Zepto</td><td>4.5</td><td>High</td></tr><tr><td>Blinkit</td><td>4.0</td><td>Medium</td></tr><tr><td>Swiggy Instamart</td><td>3.7</td><td>Medium</td></tr><tr><td>Swiggy Instamart</td><td>1.0</td><td>Low</td></tr><tr><td>Zepto</td><td>2.5</td><td>Low</td></tr><tr><td>Swiggy Instamart</td><td>2.6</td><td>Low</td></tr><tr><td>Zepto</td><td>2.7</td><td>Low</td></tr><tr><td>Blinkit</td><td>1.2</td><td>Low</td></tr><tr><td>JioMart</td><td>4.7</td><td>High</td></tr><tr><td>Blinkit</td><td>1.9</td><td>Low</td></tr><tr><td>Zepto</td><td>3.5</td><td>Medium</td></tr><tr><td>Zepto</td><td>2.3</td><td>Low</td></tr><tr><td>Swiggy Instamart</td><td>3.2</td><td>Medium</td></tr><tr><td>Blinkit</td><td>4.7</td><td>High</td></tr><tr><td>Zepto</td><td>2.8</td><td>Low</td></tr><tr><td>JioMart</td><td>2.9</td><td>Low</td></tr><tr><td>Swiggy Instamart</td><td>2.1</td><td>Low</td></tr><tr><td>Blinkit</td><td>3.5</td><td>Medium</td></tr><tr><td>Swiggy Instamart</td><td>4.6</td><td>High</td></tr><tr><td>Zepto</td><td>2.5</td><td>Low</td></tr><tr><td>Zepto</td><td>3.0</td><td>Medium</td></tr><tr><td>Swiggy Instamart</td><td>1.7</td><td>Low</td></tr><tr><td>Zepto</td><td>3.3</td><td>Medium</td></tr><tr><td>JioMart</td><td>1.9</td><td>Low</td></tr><tr><td>Zepto</td><td>2.1</td><td>Low</td></tr><tr><td>Blinkit</td><td>4.5</td><td>High</td></tr><tr><td>Zepto</td><td>1.4</td><td>Low</td></tr><tr><td>Zepto</td><td>4.5</td><td>High</td></tr><tr><td>JioMart</td><td>2.5</td><td>Low</td></tr><tr><td>JioMart</td><td>2.9</td><td>Low</td></tr><tr><td>JioMart</td><td>4.8</td><td>High</td></tr><tr><td>JioMart</td><td>1.1</td><td>Low</td></tr><tr><td>Zepto</td><td>2.1</td><td>Low</td></tr><tr><td>Swiggy Instamart</td><td>1.8</td><td>Low</td></tr><tr><td>Zepto</td><td>1.0</td><td>Low</td></tr><tr><td>Zepto</td><td>1.0</td><td>Low</td></tr><tr><td>Blinkit</td><td>2.8</td><td>Low</td></tr><tr><td>Swiggy Instamart</td><td>3.7</td><td>Medium</td></tr><tr><td>JioMart</td><td>1.9</td><td>Low</td></tr><tr><td>JioMart</td><td>1.9</td><td>Low</td></tr><tr><td>Swiggy Instamart</td><td>1.3</td><td>Low</td></tr><tr><td>Zepto</td><td>4.2</td><td>High</td></tr><tr><td>Zepto</td><td>1.3</td><td>Low</td></tr><tr><td>Swiggy Instamart</td><td>3.8</td><td>Medium</td></tr><tr><td>Swiggy Instamart</td><td>3.6</td><td>Medium</td></tr><tr><td>JioMart</td><td>3.7</td><td>Medium</td></tr><tr><td>Blinkit</td><td>2.9</td><td>Low</td></tr><tr><td>Blinkit</td><td>4.8</td><td>High</td></tr><tr><td>JioMart</td><td>2.2</td><td>Low</td></tr><tr><td>Blinkit</td><td>1.8</td><td>Low</td></tr><tr><td>Zepto</td><td>2.9</td><td>Low</td></tr><tr><td>Blinkit</td><td>3.7</td><td>Medium</td></tr><tr><td>Swiggy Instamart</td><td>3.3</td><td>Medium</td></tr><tr><td>Blinkit</td><td>3.7</td><td>Medium</td></tr><tr><td>Swiggy Instamart</td><td>3.7</td><td>Medium</td></tr><tr><td>Swiggy Instamart</td><td>3.2</td><td>Medium</td></tr><tr><td>JioMart</td><td>3.0</td><td>Medium</td></tr><tr><td>JioMart</td><td>1.7</td><td>Low</td></tr><tr><td>JioMart</td><td>3.4</td><td>Medium</td></tr><tr><td>JioMart</td><td>4.8</td><td>High</td></tr><tr><td>Swiggy Instamart</td><td>2.8</td><td>Low</td></tr><tr><td>Zepto</td><td>3.9</td><td>Medium</td></tr><tr><td>Zepto</td><td>2.0</td><td>Low</td></tr><tr><td>Zepto</td><td>2.4</td><td>Low</td></tr><tr><td>Blinkit</td><td>4.5</td><td>High</td></tr><tr><td>Zepto</td><td>3.1</td><td>Medium</td></tr><tr><td>Zepto</td><td>2.0</td><td>Low</td></tr><tr><td>Blinkit</td><td>4.3</td><td>High</td></tr><tr><td>Blinkit</td><td>3.7</td><td>Medium</td></tr><tr><td>Swiggy Instamart</td><td>1.2</td><td>Low</td></tr><tr><td>Blinkit</td><td>2.4</td><td>Low</td></tr><tr><td>Zepto</td><td>4.9</td><td>High</td></tr><tr><td>Swiggy Instamart</td><td>2.4</td><td>Low</td></tr><tr><td>Blinkit</td><td>1.4</td><td>Low</td></tr><tr><td>JioMart</td><td>4.2</td><td>High</td></tr><tr><td>JioMart</td><td>4.0</td><td>Medium</td></tr><tr><td>Zepto</td><td>2.4</td><td>Low</td></tr><tr><td>JioMart</td><td>4.0</td><td>Medium</td></tr><tr><td>Blinkit</td><td>3.1</td><td>Medium</td></tr><tr><td>Blinkit</td><td>2.3</td><td>Low</td></tr><tr><td>JioMart</td><td>3.2</td><td>Medium</td></tr><tr><td>Blinkit</td><td>2.1</td><td>Low</td></tr><tr><td>Blinkit</td><td>1.6</td><td>Low</td></tr><tr><td>Zepto</td><td>4.4</td><td>High</td></tr><tr><td>Blinkit</td><td>4.3</td><td>High</td></tr><tr><td>Zepto</td><td>2.3</td><td>Low</td></tr><tr><td>Blinkit</td><td>4.7</td><td>High</td></tr><tr><td>Swiggy Instamart</td><td>4.5</td><td>High</td></tr><tr><td>Blinkit</td><td>2.2</td><td>Low</td></tr><tr><td>Zepto</td><td>2.4</td><td>Low</td></tr><tr><td>Blinkit</td><td>1.5</td><td>Low</td></tr><tr><td>Zepto</td><td>5.0</td><td>High</td></tr><tr><td>Blinkit</td><td>4.4</td><td>High</td></tr><tr><td>Zepto</td><td>4.0</td><td>Medium</td></tr><tr><td>JioMart</td><td>3.6</td><td>Medium</td></tr><tr><td>Swiggy Instamart</td><td>3.9</td><td>Medium</td></tr><tr><td>Swiggy Instamart</td><td>4.3</td><td>High</td></tr><tr><td>Blinkit</td><td>4.1</td><td>High</td></tr><tr><td>Blinkit</td><td>4.1</td><td>High</td></tr><tr><td>Swiggy Instamart</td><td>4.7</td><td>High</td></tr><tr><td>Zepto</td><td>3.3</td><td>Medium</td></tr><tr><td>Swiggy Instamart</td><td>2.6</td><td>Low</td></tr><tr><td>Blinkit</td><td>2.1</td><td>Low</td></tr><tr><td>Zepto</td><td>4.0</td><td>Medium</td></tr><tr><td>Blinkit</td><td>2.8</td><td>Low</td></tr><tr><td>Blinkit</td><td>3.4</td><td>Medium</td></tr><tr><td>JioMart</td><td>4.7</td><td>High</td></tr><tr><td>Swiggy Instamart</td><td>1.5</td><td>Low</td></tr><tr><td>Blinkit</td><td>3.2</td><td>Medium</td></tr><tr><td>Blinkit</td><td>4.5</td><td>High</td></tr><tr><td>Zepto</td><td>2.1</td><td>Low</td></tr><tr><td>Swiggy Instamart</td><td>2.9</td><td>Low</td></tr><tr><td>Swiggy Instamart</td><td>4.0</td><td>Medium</td></tr><tr><td>Swiggy Instamart</td><td>3.3</td><td>Medium</td></tr><tr><td>Zepto</td><td>2.1</td><td>Low</td></tr><tr><td>Blinkit</td><td>1.8</td><td>Low</td></tr><tr><td>Swiggy Instamart</td><td>3.0</td><td>Medium</td></tr><tr><td>JioMart</td><td>3.3</td><td>Medium</td></tr><tr><td>Swiggy Instamart</td><td>2.0</td><td>Low</td></tr><tr><td>Blinkit</td><td>1.3</td><td>Low</td></tr><tr><td>Zepto</td><td>2.4</td><td>Low</td></tr><tr><td>Zepto</td><td>3.4</td><td>Medium</td></tr><tr><td>Zepto</td><td>3.2</td><td>Medium</td></tr><tr><td>Zepto</td><td>4.2</td><td>High</td></tr><tr><td>Swiggy Instamart</td><td>4.8</td><td>High</td></tr><tr><td>Zepto</td><td>3.9</td><td>Medium</td></tr><tr><td>Zepto</td><td>3.4</td><td>Medium</td></tr><tr><td>Zepto</td><td>3.1</td><td>Medium</td></tr><tr><td>JioMart</td><td>3.8</td><td>Medium</td></tr><tr><td>Zepto</td><td>1.7</td><td>Low</td></tr><tr><td>JioMart</td><td>2.2</td><td>Low</td></tr><tr><td>Swiggy Instamart</td><td>3.3</td><td>Medium</td></tr><tr><td>Zepto</td><td>1.8</td><td>Low</td></tr><tr><td>Blinkit</td><td>2.8</td><td>Low</td></tr><tr><td>Blinkit</td><td>3.5</td><td>Medium</td></tr><tr><td>Blinkit</td><td>1.2</td><td>Low</td></tr><tr><td>JioMart</td><td>2.9</td><td>Low</td></tr><tr><td>Zepto</td><td>4.5</td><td>High</td></tr><tr><td>Zepto</td><td>2.3</td><td>Low</td></tr><tr><td>Zepto</td><td>4.4</td><td>High</td></tr><tr><td>Zepto</td><td>3.8</td><td>Medium</td></tr><tr><td>Zepto</td><td>1.1</td><td>Low</td></tr><tr><td>Zepto</td><td>4.1</td><td>High</td></tr><tr><td>Swiggy Instamart</td><td>3.3</td><td>Medium</td></tr><tr><td>Blinkit</td><td>2.2</td><td>Low</td></tr><tr><td>JioMart</td><td>1.3</td><td>Low</td></tr><tr><td>JioMart</td><td>4.3</td><td>High</td></tr><tr><td>JioMart</td><td>3.3</td><td>Medium</td></tr><tr><td>Swiggy Instamart</td><td>1.3</td><td>Low</td></tr><tr><td>Blinkit</td><td>1.8</td><td>Low</td></tr><tr><td>Zepto</td><td>3.7</td><td>Medium</td></tr><tr><td>Zepto</td><td>2.4</td><td>Low</td></tr><tr><td>Blinkit</td><td>1.5</td><td>Low</td></tr><tr><td>Swiggy Instamart</td><td>1.2</td><td>Low</td></tr><tr><td>Blinkit</td><td>1.3</td><td>Low</td></tr><tr><td>Blinkit</td><td>3.4</td><td>Medium</td></tr><tr><td>Zepto</td><td>2.4</td><td>Low</td></tr><tr><td>Zepto</td><td>4.3</td><td>High</td></tr><tr><td>Blinkit</td><td>4.8</td><td>High</td></tr><tr><td>Swiggy Instamart</td><td>4.3</td><td>High</td></tr><tr><td>Blinkit</td><td>3.9</td><td>Medium</td></tr><tr><td>JioMart</td><td>1.3</td><td>Low</td></tr><tr><td>Zepto</td><td>1.8</td><td>Low</td></tr><tr><td>Zepto</td><td>3.7</td><td>Medium</td></tr><tr><td>JioMart</td><td>4.3</td><td>High</td></tr><tr><td>Swiggy Instamart</td><td>3.4</td><td>Medium</td></tr><tr><td>Zepto</td><td>4.7</td><td>High</td></tr><tr><td>Swiggy Instamart</td><td>3.5</td><td>Medium</td></tr><tr><td>Blinkit</td><td>4.0</td><td>Medium</td></tr><tr><td>Blinkit</td><td>3.9</td><td>Medium</td></tr><tr><td>Swiggy Instamart</td><td>2.0</td><td>Low</td></tr><tr><td>Swiggy Instamart</td><td>2.9</td><td>Low</td></tr><tr><td>JioMart</td><td>4.4</td><td>High</td></tr><tr><td>Swiggy Instamart</td><td>1.1</td><td>Low</td></tr><tr><td>Swiggy Instamart</td><td>3.0</td><td>Medium</td></tr><tr><td>Blinkit</td><td>3.4</td><td>Medium</td></tr><tr><td>Zepto</td><td>3.6</td><td>Medium</td></tr><tr><td>Swiggy Instamart</td><td>3.0</td><td>Medium</td></tr><tr><td>Blinkit</td><td>2.3</td><td>Low</td></tr><tr><td>Blinkit</td><td>3.4</td><td>Medium</td></tr><tr><td>Swiggy Instamart</td><td>3.5</td><td>Medium</td></tr><tr><td>Swiggy Instamart</td><td>3.7</td><td>Medium</td></tr><tr><td>JioMart</td><td>1.6</td><td>Low</td></tr><tr><td>JioMart</td><td>3.3</td><td>Medium</td></tr><tr><td>JioMart</td><td>4.4</td><td>High</td></tr><tr><td>Zepto</td><td>4.2</td><td>High</td></tr><tr><td>JioMart</td><td>2.1</td><td>Low</td></tr><tr><td>Blinkit</td><td>3.6</td><td>Medium</td></tr><tr><td>Swiggy Instamart</td><td>1.6</td><td>Low</td></tr><tr><td>Zepto</td><td>3.8</td><td>Medium</td></tr><tr><td>Zepto</td><td>3.6</td><td>Medium</td></tr><tr><td>Zepto</td><td>3.5</td><td>Medium</td></tr><tr><td>Swiggy Instamart</td><td>3.6</td><td>Medium</td></tr><tr><td>Swiggy Instamart</td><td>2.0</td><td>Low</td></tr><tr><td>Swiggy Instamart</td><td>3.8</td><td>Medium</td></tr><tr><td>Blinkit</td><td>2.2</td><td>Low</td></tr><tr><td>JioMart</td><td>1.6</td><td>Low</td></tr><tr><td>Swiggy Instamart</td><td>3.0</td><td>Medium</td></tr><tr><td>Swiggy Instamart</td><td>4.1</td><td>High</td></tr><tr><td>JioMart</td><td>3.4</td><td>Medium</td></tr><tr><td>JioMart</td><td>2.7</td><td>Low</td></tr><tr><td>Zepto</td><td>2.7</td><td>Low</td></tr><tr><td>Blinkit</td><td>1.0</td><td>Low</td></tr><tr><td>Swiggy Instamart</td><td>4.2</td><td>High</td></tr><tr><td>JioMart</td><td>2.2</td><td>Low</td></tr><tr><td>Swiggy Instamart</td><td>3.9</td><td>Medium</td></tr><tr><td>Swiggy Instamart</td><td>2.1</td><td>Low</td></tr><tr><td>Blinkit</td><td>4.3</td><td>High</td></tr><tr><td>Zepto</td><td>4.3</td><td>High</td></tr><tr><td>JioMart</td><td>2.2</td><td>Low</td></tr><tr><td>Blinkit</td><td>4.6</td><td>High</td></tr><tr><td>Blinkit</td><td>4.6</td><td>High</td></tr><tr><td>Blinkit</td><td>4.0</td><td>Medium</td></tr><tr><td>Blinkit</td><td>1.7</td><td>Low</td></tr><tr><td>Blinkit</td><td>4.4</td><td>High</td></tr><tr><td>Zepto</td><td>1.7</td><td>Low</td></tr><tr><td>Blinkit</td><td>3.2</td><td>Medium</td></tr><tr><td>Swiggy Instamart</td><td>4.7</td><td>High</td></tr><tr><td>Blinkit</td><td>3.2</td><td>Medium</td></tr><tr><td>Blinkit</td><td>1.6</td><td>Low</td></tr><tr><td>Blinkit</td><td>2.8</td><td>Low</td></tr><tr><td>Zepto</td><td>2.1</td><td>Low</td></tr><tr><td>JioMart</td><td>4.9</td><td>High</td></tr><tr><td>Blinkit</td><td>3.6</td><td>Medium</td></tr><tr><td>Zepto</td><td>4.1</td><td>High</td></tr><tr><td>JioMart</td><td>1.7</td><td>Low</td></tr><tr><td>Zepto</td><td>1.3</td><td>Low</td></tr><tr><td>JioMart</td><td>2.3</td><td>Low</td></tr><tr><td>Zepto</td><td>3.9</td><td>Medium</td></tr><tr><td>Zepto</td><td>1.6</td><td>Low</td></tr><tr><td>Swiggy Instamart</td><td>3.4</td><td>Medium</td></tr><tr><td>Zepto</td><td>1.6</td><td>Low</td></tr><tr><td>Zepto</td><td>2.0</td><td>Low</td></tr><tr><td>Swiggy Instamart</td><td>3.6</td><td>Medium</td></tr><tr><td>Zepto</td><td>1.0</td><td>Low</td></tr><tr><td>JioMart</td><td>1.7</td><td>Low</td></tr><tr><td>Swiggy Instamart</td><td>3.8</td><td>Medium</td></tr><tr><td>JioMart</td><td>4.3</td><td>High</td></tr><tr><td>Blinkit</td><td>3.6</td><td>Medium</td></tr><tr><td>Zepto</td><td>4.3</td><td>High</td></tr><tr><td>Blinkit</td><td>3.9</td><td>Medium</td></tr><tr><td>Swiggy Instamart</td><td>3.9</td><td>Medium</td></tr><tr><td>Blinkit</td><td>3.3</td><td>Medium</td></tr><tr><td>Swiggy Instamart</td><td>2.4</td><td>Low</td></tr><tr><td>Zepto</td><td>3.6</td><td>Medium</td></tr><tr><td>JioMart</td><td>3.9</td><td>Medium</td></tr><tr><td>Swiggy Instamart</td><td>4.3</td><td>High</td></tr><tr><td>JioMart</td><td>2.3</td><td>Low</td></tr><tr><td>JioMart</td><td>1.4</td><td>Low</td></tr><tr><td>Swiggy Instamart</td><td>2.5</td><td>Low</td></tr><tr><td>Swiggy Instamart</td><td>2.0</td><td>Low</td></tr><tr><td>Swiggy Instamart</td><td>4.3</td><td>High</td></tr><tr><td>Blinkit</td><td>1.0</td><td>Low</td></tr><tr><td>Swiggy Instamart</td><td>4.8</td><td>High</td></tr><tr><td>Swiggy Instamart</td><td>4.6</td><td>High</td></tr><tr><td>Zepto</td><td>3.0</td><td>Medium</td></tr><tr><td>Blinkit</td><td>3.0</td><td>Medium</td></tr><tr><td>Zepto</td><td>1.3</td><td>Low</td></tr><tr><td>Zepto</td><td>1.2</td><td>Low</td></tr><tr><td>Swiggy Instamart</td><td>3.9</td><td>Medium</td></tr><tr><td>Blinkit</td><td>1.6</td><td>Low</td></tr><tr><td>Zepto</td><td>1.4</td><td>Low</td></tr><tr><td>JioMart</td><td>2.6</td><td>Low</td></tr><tr><td>Zepto</td><td>1.3</td><td>Low</td></tr><tr><td>Blinkit</td><td>2.8</td><td>Low</td></tr><tr><td>Zepto</td><td>4.8</td><td>High</td></tr><tr><td>Zepto</td><td>1.3</td><td>Low</td></tr><tr><td>Zepto</td><td>3.7</td><td>Medium</td></tr><tr><td>Zepto</td><td>1.4</td><td>Low</td></tr><tr><td>Swiggy Instamart</td><td>4.6</td><td>High</td></tr><tr><td>Swiggy Instamart</td><td>2.0</td><td>Low</td></tr><tr><td>Swiggy Instamart</td><td>4.5</td><td>High</td></tr><tr><td>Zepto</td><td>4.6</td><td>High</td></tr><tr><td>Zepto</td><td>3.3</td><td>Medium</td></tr><tr><td>Zepto</td><td>3.2</td><td>Medium</td></tr><tr><td>Zepto</td><td>4.0</td><td>Medium</td></tr><tr><td>Blinkit</td><td>1.6</td><td>Low</td></tr><tr><td>Swiggy Instamart</td><td>2.0</td><td>Low</td></tr><tr><td>Blinkit</td><td>1.2</td><td>Low</td></tr><tr><td>Zepto</td><td>4.2</td><td>High</td></tr><tr><td>JioMart</td><td>3.5</td><td>Medium</td></tr><tr><td>Zepto</td><td>3.8</td><td>Medium</td></tr><tr><td>Swiggy Instamart</td><td>1.5</td><td>Low</td></tr><tr><td>JioMart</td><td>2.3</td><td>Low</td></tr><tr><td>Blinkit</td><td>2.4</td><td>Low</td></tr><tr><td>Blinkit</td><td>1.9</td><td>Low</td></tr><tr><td>JioMart</td><td>1.8</td><td>Low</td></tr><tr><td>Zepto</td><td>3.9</td><td>Medium</td></tr><tr><td>Swiggy Instamart</td><td>2.8</td><td>Low</td></tr><tr><td>JioMart</td><td>4.1</td><td>High</td></tr><tr><td>Swiggy Instamart</td><td>3.0</td><td>Medium</td></tr><tr><td>Zepto</td><td>4.7</td><td>High</td></tr><tr><td>Swiggy Instamart</td><td>4.9</td><td>High</td></tr><tr><td>Blinkit</td><td>4.8</td><td>High</td></tr><tr><td>Zepto</td><td>2.3</td><td>Low</td></tr><tr><td>Swiggy Instamart</td><td>3.8</td><td>Medium</td></tr><tr><td>Blinkit</td><td>2.1</td><td>Low</td></tr><tr><td>Blinkit</td><td>1.7</td><td>Low</td></tr><tr><td>Blinkit</td><td>3.7</td><td>Medium</td></tr><tr><td>Swiggy Instamart</td><td>2.3</td><td>Low</td></tr><tr><td>Zepto</td><td>2.0</td><td>Low</td></tr><tr><td>JioMart</td><td>2.2</td><td>Low</td></tr><tr><td>Zepto</td><td>2.7</td><td>Low</td></tr><tr><td>Blinkit</td><td>1.5</td><td>Low</td></tr><tr><td>Blinkit</td><td>3.9</td><td>Medium</td></tr><tr><td>JioMart</td><td>2.9</td><td>Low</td></tr><tr><td>Zepto</td><td>2.3</td><td>Low</td></tr><tr><td>Blinkit</td><td>2.1</td><td>Low</td></tr><tr><td>JioMart</td><td>4.4</td><td>High</td></tr><tr><td>JioMart</td><td>4.2</td><td>High</td></tr><tr><td>JioMart</td><td>3.5</td><td>Medium</td></tr><tr><td>Blinkit</td><td>4.2</td><td>High</td></tr><tr><td>Zepto</td><td>4.0</td><td>Medium</td></tr><tr><td>Blinkit</td><td>1.8</td><td>Low</td></tr><tr><td>Swiggy Instamart</td><td>4.8</td><td>High</td></tr><tr><td>Zepto</td><td>3.4</td><td>Medium</td></tr><tr><td>JioMart</td><td>3.8</td><td>Medium</td></tr><tr><td>Zepto</td><td>4.0</td><td>Medium</td></tr><tr><td>JioMart</td><td>3.6</td><td>Medium</td></tr><tr><td>JioMart</td><td>1.9</td><td>Low</td></tr><tr><td>Blinkit</td><td>4.1</td><td>High</td></tr><tr><td>Swiggy Instamart</td><td>2.3</td><td>Low</td></tr><tr><td>Swiggy Instamart</td><td>3.7</td><td>Medium</td></tr><tr><td>Zepto</td><td>4.3</td><td>High</td></tr><tr><td>Swiggy Instamart</td><td>2.5</td><td>Low</td></tr><tr><td>JioMart</td><td>3.0</td><td>Medium</td></tr><tr><td>Blinkit</td><td>1.8</td><td>Low</td></tr><tr><td>JioMart</td><td>1.1</td><td>Low</td></tr><tr><td>Swiggy Instamart</td><td>3.8</td><td>Medium</td></tr><tr><td>Swiggy Instamart</td><td>1.2</td><td>Low</td></tr><tr><td>Blinkit</td><td>3.5</td><td>Medium</td></tr><tr><td>JioMart</td><td>3.4</td><td>Medium</td></tr><tr><td>Blinkit</td><td>4.4</td><td>High</td></tr><tr><td>Zepto</td><td>3.0</td><td>Medium</td></tr><tr><td>Blinkit</td><td>3.0</td><td>Medium</td></tr><tr><td>Zepto</td><td>4.9</td><td>High</td></tr><tr><td>Zepto</td><td>3.5</td><td>Medium</td></tr><tr><td>Zepto</td><td>3.3</td><td>Medium</td></tr><tr><td>JioMart</td><td>4.8</td><td>High</td></tr><tr><td>JioMart</td><td>2.5</td><td>Low</td></tr><tr><td>Blinkit</td><td>4.9</td><td>High</td></tr><tr><td>Zepto</td><td>2.5</td><td>Low</td></tr><tr><td>JioMart</td><td>2.1</td><td>Low</td></tr><tr><td>Zepto</td><td>2.3</td><td>Low</td></tr><tr><td>JioMart</td><td>3.9</td><td>Medium</td></tr><tr><td>JioMart</td><td>3.4</td><td>Medium</td></tr><tr><td>Zepto</td><td>4.1</td><td>High</td></tr><tr><td>JioMart</td><td>1.4</td><td>Low</td></tr><tr><td>JioMart</td><td>4.3</td><td>High</td></tr><tr><td>JioMart</td><td>1.5</td><td>Low</td></tr><tr><td>Swiggy Instamart</td><td>2.6</td><td>Low</td></tr><tr><td>JioMart</td><td>2.6</td><td>Low</td></tr><tr><td>Blinkit</td><td>4.6</td><td>High</td></tr><tr><td>JioMart</td><td>3.2</td><td>Medium</td></tr><tr><td>JioMart</td><td>4.6</td><td>High</td></tr><tr><td>Swiggy Instamart</td><td>4.4</td><td>High</td></tr><tr><td>Zepto</td><td>2.2</td><td>Low</td></tr><tr><td>JioMart</td><td>1.4</td><td>Low</td></tr><tr><td>Swiggy Instamart</td><td>2.6</td><td>Low</td></tr><tr><td>Swiggy Instamart</td><td>4.8</td><td>High</td></tr><tr><td>Zepto</td><td>4.3</td><td>High</td></tr><tr><td>Blinkit</td><td>1.1</td><td>Low</td></tr><tr><td>Blinkit</td><td>5.0</td><td>High</td></tr><tr><td>Zepto</td><td>2.9</td><td>Low</td></tr><tr><td>Zepto</td><td>3.9</td><td>Medium</td></tr><tr><td>Zepto</td><td>2.6</td><td>Low</td></tr><tr><td>Swiggy Instamart</td><td>4.5</td><td>High</td></tr><tr><td>Zepto</td><td>3.2</td><td>Medium</td></tr><tr><td>JioMart</td><td>4.6</td><td>High</td></tr><tr><td>Blinkit</td><td>4.1</td><td>High</td></tr><tr><td>Swiggy Instamart</td><td>4.4</td><td>High</td></tr><tr><td>JioMart</td><td>1.9</td><td>Low</td></tr><tr><td>JioMart</td><td>2.1</td><td>Low</td></tr><tr><td>Swiggy Instamart</td><td>4.1</td><td>High</td></tr><tr><td>Blinkit</td><td>4.4</td><td>High</td></tr><tr><td>Blinkit</td><td>2.7</td><td>Low</td></tr><tr><td>Swiggy Instamart</td><td>2.1</td><td>Low</td></tr><tr><td>Zepto</td><td>2.5</td><td>Low</td></tr><tr><td>Zepto</td><td>3.5</td><td>Medium</td></tr><tr><td>Swiggy Instamart</td><td>3.0</td><td>Medium</td></tr><tr><td>JioMart</td><td>2.5</td><td>Low</td></tr><tr><td>Blinkit</td><td>4.9</td><td>High</td></tr><tr><td>Blinkit</td><td>4.7</td><td>High</td></tr><tr><td>JioMart</td><td>4.5</td><td>High</td></tr><tr><td>Swiggy Instamart</td><td>3.2</td><td>Medium</td></tr><tr><td>Zepto</td><td>2.6</td><td>Low</td></tr><tr><td>Blinkit</td><td>2.3</td><td>Low</td></tr><tr><td>JioMart</td><td>2.0</td><td>Low</td></tr><tr><td>Blinkit</td><td>4.7</td><td>High</td></tr><tr><td>Zepto</td><td>4.4</td><td>High</td></tr><tr><td>JioMart</td><td>4.5</td><td>High</td></tr><tr><td>Swiggy Instamart</td><td>2.5</td><td>Low</td></tr><tr><td>JioMart</td><td>2.5</td><td>Low</td></tr><tr><td>Zepto</td><td>2.1</td><td>Low</td></tr><tr><td>Blinkit</td><td>3.1</td><td>Medium</td></tr><tr><td>Swiggy Instamart</td><td>3.7</td><td>Medium</td></tr><tr><td>Blinkit</td><td>3.2</td><td>Medium</td></tr><tr><td>Blinkit</td><td>2.3</td><td>Low</td></tr><tr><td>JioMart</td><td>1.2</td><td>Low</td></tr><tr><td>Swiggy Instamart</td><td>4.7</td><td>High</td></tr><tr><td>Blinkit</td><td>3.9</td><td>Medium</td></tr><tr><td>JioMart</td><td>1.3</td><td>Low</td></tr><tr><td>Blinkit</td><td>3.2</td><td>Medium</td></tr><tr><td>Blinkit</td><td>2.3</td><td>Low</td></tr><tr><td>Zepto</td><td>4.9</td><td>High</td></tr><tr><td>Zepto</td><td>3.8</td><td>Medium</td></tr><tr><td>JioMart</td><td>4.6</td><td>High</td></tr><tr><td>Zepto</td><td>2.5</td><td>Low</td></tr><tr><td>JioMart</td><td>2.9</td><td>Low</td></tr><tr><td>Swiggy Instamart</td><td>4.1</td><td>High</td></tr><tr><td>Zepto</td><td>4.9</td><td>High</td></tr><tr><td>JioMart</td><td>4.4</td><td>High</td></tr><tr><td>JioMart</td><td>3.1</td><td>Medium</td></tr><tr><td>JioMart</td><td>1.6</td><td>Low</td></tr><tr><td>Swiggy Instamart</td><td>1.5</td><td>Low</td></tr><tr><td>Blinkit</td><td>1.5</td><td>Low</td></tr><tr><td>Zepto</td><td>3.1</td><td>Medium</td></tr><tr><td>Zepto</td><td>3.1</td><td>Medium</td></tr><tr><td>Swiggy Instamart</td><td>1.7</td><td>Low</td></tr><tr><td>Swiggy Instamart</td><td>2.7</td><td>Low</td></tr><tr><td>Zepto</td><td>4.7</td><td>High</td></tr><tr><td>Swiggy Instamart</td><td>3.0</td><td>Medium</td></tr><tr><td>Blinkit</td><td>2.1</td><td>Low</td></tr><tr><td>Swiggy Instamart</td><td>2.7</td><td>Low</td></tr><tr><td>JioMart</td><td>3.6</td><td>Medium</td></tr><tr><td>Swiggy Instamart</td><td>1.2</td><td>Low</td></tr><tr><td>Blinkit</td><td>1.7</td><td>Low</td></tr><tr><td>Blinkit</td><td>1.9</td><td>Low</td></tr><tr><td>JioMart</td><td>2.7</td><td>Low</td></tr><tr><td>Blinkit</td><td>1.7</td><td>Low</td></tr><tr><td>Zepto</td><td>3.2</td><td>Medium</td></tr><tr><td>JioMart</td><td>2.6</td><td>Low</td></tr><tr><td>Swiggy Instamart</td><td>4.1</td><td>High</td></tr><tr><td>Zepto</td><td>4.3</td><td>High</td></tr><tr><td>Blinkit</td><td>3.3</td><td>Medium</td></tr><tr><td>Swiggy Instamart</td><td>2.2</td><td>Low</td></tr><tr><td>Blinkit</td><td>4.1</td><td>High</td></tr><tr><td>JioMart</td><td>4.8</td><td>High</td></tr><tr><td>JioMart</td><td>1.4</td><td>Low</td></tr><tr><td>Swiggy Instamart</td><td>1.7</td><td>Low</td></tr><tr><td>Swiggy Instamart</td><td>4.5</td><td>High</td></tr><tr><td>Swiggy Instamart</td><td>4.9</td><td>High</td></tr><tr><td>JioMart</td><td>4.4</td><td>High</td></tr><tr><td>Blinkit</td><td>3.4</td><td>Medium</td></tr><tr><td>Blinkit</td><td>3.8</td><td>Medium</td></tr><tr><td>JioMart</td><td>3.2</td><td>Medium</td></tr><tr><td>Swiggy Instamart</td><td>2.1</td><td>Low</td></tr><tr><td>Swiggy Instamart</td><td>2.2</td><td>Low</td></tr><tr><td>Blinkit</td><td>2.2</td><td>Low</td></tr><tr><td>Blinkit</td><td>2.6</td><td>Low</td></tr><tr><td>Zepto</td><td>2.4</td><td>Low</td></tr><tr><td>Swiggy Instamart</td><td>4.2</td><td>High</td></tr><tr><td>JioMart</td><td>1.5</td><td>Low</td></tr><tr><td>Zepto</td><td>1.4</td><td>Low</td></tr><tr><td>JioMart</td><td>3.4</td><td>Medium</td></tr><tr><td>Blinkit</td><td>1.3</td><td>Low</td></tr><tr><td>Swiggy Instamart</td><td>4.4</td><td>High</td></tr><tr><td>Zepto</td><td>1.5</td><td>Low</td></tr><tr><td>JioMart</td><td>3.7</td><td>Medium</td></tr><tr><td>Zepto</td><td>4.8</td><td>High</td></tr><tr><td>Zepto</td><td>2.2</td><td>Low</td></tr><tr><td>JioMart</td><td>4.5</td><td>High</td></tr><tr><td>Blinkit</td><td>4.2</td><td>High</td></tr><tr><td>Swiggy Instamart</td><td>1.8</td><td>Low</td></tr><tr><td>Zepto</td><td>4.0</td><td>Medium</td></tr><tr><td>Swiggy Instamart</td><td>3.9</td><td>Medium</td></tr><tr><td>Blinkit</td><td>2.1</td><td>Low</td></tr><tr><td>Zepto</td><td>3.0</td><td>Medium</td></tr><tr><td>Swiggy Instamart</td><td>1.4</td><td>Low</td></tr><tr><td>Swiggy Instamart</td><td>1.2</td><td>Low</td></tr><tr><td>Blinkit</td><td>2.4</td><td>Low</td></tr><tr><td>JioMart</td><td>3.2</td><td>Medium</td></tr><tr><td>JioMart</td><td>1.0</td><td>Low</td></tr><tr><td>JioMart</td><td>2.2</td><td>Low</td></tr><tr><td>Zepto</td><td>2.2</td><td>Low</td></tr><tr><td>JioMart</td><td>3.0</td><td>Medium</td></tr><tr><td>JioMart</td><td>1.8</td><td>Low</td></tr><tr><td>Swiggy Instamart</td><td>3.7</td><td>Medium</td></tr><tr><td>Blinkit</td><td>2.1</td><td>Low</td></tr><tr><td>Swiggy Instamart</td><td>4.7</td><td>High</td></tr><tr><td>Zepto</td><td>2.4</td><td>Low</td></tr><tr><td>Zepto</td><td>3.3</td><td>Medium</td></tr><tr><td>Swiggy Instamart</td><td>3.6</td><td>Medium</td></tr><tr><td>JioMart</td><td>1.7</td><td>Low</td></tr><tr><td>Blinkit</td><td>5.0</td><td>High</td></tr><tr><td>Zepto</td><td>2.2</td><td>Low</td></tr><tr><td>Blinkit</td><td>4.0</td><td>Medium</td></tr><tr><td>JioMart</td><td>2.8</td><td>Low</td></tr><tr><td>JioMart</td><td>3.2</td><td>Medium</td></tr><tr><td>JioMart</td><td>1.6</td><td>Low</td></tr><tr><td>Zepto</td><td>4.9</td><td>High</td></tr><tr><td>JioMart</td><td>3.0</td><td>Medium</td></tr><tr><td>Zepto</td><td>3.2</td><td>Medium</td></tr><tr><td>Blinkit</td><td>2.5</td><td>Low</td></tr><tr><td>Zepto</td><td>1.6</td><td>Low</td></tr><tr><td>JioMart</td><td>3.0</td><td>Medium</td></tr><tr><td>Zepto</td><td>2.9</td><td>Low</td></tr><tr><td>JioMart</td><td>3.8</td><td>Medium</td></tr><tr><td>JioMart</td><td>4.6</td><td>High</td></tr><tr><td>JioMart</td><td>3.0</td><td>Medium</td></tr><tr><td>JioMart</td><td>2.7</td><td>Low</td></tr><tr><td>JioMart</td><td>3.4</td><td>Medium</td></tr><tr><td>Swiggy Instamart</td><td>2.1</td><td>Low</td></tr><tr><td>JioMart</td><td>2.6</td><td>Low</td></tr><tr><td>Swiggy Instamart</td><td>1.5</td><td>Low</td></tr><tr><td>Swiggy Instamart</td><td>1.7</td><td>Low</td></tr><tr><td>JioMart</td><td>4.7</td><td>High</td></tr><tr><td>Swiggy Instamart</td><td>1.4</td><td>Low</td></tr><tr><td>Zepto</td><td>3.0</td><td>Medium</td></tr><tr><td>Zepto</td><td>3.0</td><td>Medium</td></tr><tr><td>Swiggy Instamart</td><td>3.4</td><td>Medium</td></tr><tr><td>JioMart</td><td>3.9</td><td>Medium</td></tr><tr><td>Blinkit</td><td>2.4</td><td>Low</td></tr><tr><td>Swiggy Instamart</td><td>2.3</td><td>Low</td></tr><tr><td>Zepto</td><td>3.4</td><td>Medium</td></tr><tr><td>Blinkit</td><td>3.3</td><td>Medium</td></tr><tr><td>Blinkit</td><td>1.3</td><td>Low</td></tr><tr><td>Zepto</td><td>1.3</td><td>Low</td></tr><tr><td>JioMart</td><td>1.3</td><td>Low</td></tr><tr><td>Swiggy Instamart</td><td>4.4</td><td>High</td></tr><tr><td>JioMart</td><td>2.0</td><td>Low</td></tr><tr><td>Swiggy Instamart</td><td>4.1</td><td>High</td></tr><tr><td>Blinkit</td><td>3.0</td><td>Medium</td></tr><tr><td>JioMart</td><td>1.1</td><td>Low</td></tr><tr><td>Blinkit</td><td>3.8</td><td>Medium</td></tr><tr><td>Zepto</td><td>2.0</td><td>Low</td></tr><tr><td>JioMart</td><td>2.4</td><td>Low</td></tr><tr><td>JioMart</td><td>1.8</td><td>Low</td></tr><tr><td>JioMart</td><td>3.8</td><td>Medium</td></tr><tr><td>Swiggy Instamart</td><td>4.7</td><td>High</td></tr><tr><td>JioMart</td><td>1.8</td><td>Low</td></tr><tr><td>Blinkit</td><td>3.9</td><td>Medium</td></tr><tr><td>Zepto</td><td>1.5</td><td>Low</td></tr><tr><td>Swiggy Instamart</td><td>1.3</td><td>Low</td></tr><tr><td>Zepto</td><td>2.6</td><td>Low</td></tr><tr><td>Swiggy Instamart</td><td>2.7</td><td>Low</td></tr><tr><td>Blinkit</td><td>4.8</td><td>High</td></tr><tr><td>Zepto</td><td>1.1</td><td>Low</td></tr><tr><td>JioMart</td><td>1.6</td><td>Low</td></tr><tr><td>Blinkit</td><td>3.3</td><td>Medium</td></tr><tr><td>Zepto</td><td>2.0</td><td>Low</td></tr><tr><td>JioMart</td><td>3.4</td><td>Medium</td></tr><tr><td>Blinkit</td><td>1.1</td><td>Low</td></tr><tr><td>Swiggy Instamart</td><td>1.2</td><td>Low</td></tr><tr><td>Swiggy Instamart</td><td>4.4</td><td>High</td></tr><tr><td>Swiggy Instamart</td><td>2.5</td><td>Low</td></tr><tr><td>Blinkit</td><td>1.9</td><td>Low</td></tr><tr><td>JioMart</td><td>1.1</td><td>Low</td></tr><tr><td>Zepto</td><td>3.7</td><td>Medium</td></tr><tr><td>Blinkit</td><td>3.9</td><td>Medium</td></tr><tr><td>JioMart</td><td>1.1</td><td>Low</td></tr><tr><td>Zepto</td><td>2.1</td><td>Low</td></tr><tr><td>JioMart</td><td>1.7</td><td>Low</td></tr><tr><td>Swiggy Instamart</td><td>1.7</td><td>Low</td></tr><tr><td>Zepto</td><td>4.5</td><td>High</td></tr><tr><td>Swiggy Instamart</td><td>1.6</td><td>Low</td></tr><tr><td>Swiggy Instamart</td><td>3.6</td><td>Medium</td></tr><tr><td>Blinkit</td><td>3.0</td><td>Medium</td></tr><tr><td>Zepto</td><td>4.6</td><td>High</td></tr><tr><td>JioMart</td><td>1.1</td><td>Low</td></tr><tr><td>JioMart</td><td>3.3</td><td>Medium</td></tr><tr><td>Blinkit</td><td>2.0</td><td>Low</td></tr><tr><td>JioMart</td><td>2.2</td><td>Low</td></tr><tr><td>Blinkit</td><td>3.3</td><td>Medium</td></tr><tr><td>Blinkit</td><td>2.9</td><td>Low</td></tr><tr><td>Zepto</td><td>2.2</td><td>Low</td></tr><tr><td>Zepto</td><td>3.5</td><td>Medium</td></tr><tr><td>Swiggy Instamart</td><td>2.2</td><td>Low</td></tr><tr><td>Swiggy Instamart</td><td>1.6</td><td>Low</td></tr><tr><td>Blinkit</td><td>2.7</td><td>Low</td></tr><tr><td>JioMart</td><td>4.8</td><td>High</td></tr><tr><td>Blinkit</td><td>4.2</td><td>High</td></tr><tr><td>Swiggy Instamart</td><td>2.3</td><td>Low</td></tr><tr><td>JioMart</td><td>2.4</td><td>Low</td></tr><tr><td>Blinkit</td><td>4.3</td><td>High</td></tr><tr><td>JioMart</td><td>1.1</td><td>Low</td></tr><tr><td>JioMart</td><td>1.8</td><td>Low</td></tr><tr><td>Zepto</td><td>2.1</td><td>Low</td></tr><tr><td>Swiggy Instamart</td><td>2.2</td><td>Low</td></tr><tr><td>Swiggy Instamart</td><td>1.0</td><td>Low</td></tr><tr><td>Zepto</td><td>2.0</td><td>Low</td></tr><tr><td>Swiggy Instamart</td><td>2.2</td><td>Low</td></tr><tr><td>Swiggy Instamart</td><td>3.4</td><td>Medium</td></tr><tr><td>Zepto</td><td>1.1</td><td>Low</td></tr><tr><td>Zepto</td><td>2.1</td><td>Low</td></tr><tr><td>JioMart</td><td>4.0</td><td>Medium</td></tr><tr><td>Swiggy Instamart</td><td>4.9</td><td>High</td></tr><tr><td>Zepto</td><td>4.2</td><td>High</td></tr><tr><td>Blinkit</td><td>1.7</td><td>Low</td></tr><tr><td>JioMart</td><td>4.6</td><td>High</td></tr><tr><td>JioMart</td><td>2.3</td><td>Low</td></tr><tr><td>Blinkit</td><td>4.4</td><td>High</td></tr><tr><td>Zepto</td><td>1.3</td><td>Low</td></tr><tr><td>Zepto</td><td>2.7</td><td>Low</td></tr><tr><td>Swiggy Instamart</td><td>1.7</td><td>Low</td></tr><tr><td>JioMart</td><td>4.9</td><td>High</td></tr><tr><td>Swiggy Instamart</td><td>3.6</td><td>Medium</td></tr><tr><td>Blinkit</td><td>4.3</td><td>High</td></tr><tr><td>Blinkit</td><td>4.0</td><td>Medium</td></tr><tr><td>Zepto</td><td>2.8</td><td>Low</td></tr><tr><td>Zepto</td><td>2.7</td><td>Low</td></tr><tr><td>Zepto</td><td>3.1</td><td>Medium</td></tr><tr><td>Blinkit</td><td>2.6</td><td>Low</td></tr><tr><td>JioMart</td><td>5.0</td><td>High</td></tr><tr><td>Zepto</td><td>1.1</td><td>Low</td></tr><tr><td>JioMart</td><td>3.2</td><td>Medium</td></tr><tr><td>Swiggy Instamart</td><td>1.4</td><td>Low</td></tr><tr><td>Swiggy Instamart</td><td>1.5</td><td>Low</td></tr><tr><td>JioMart</td><td>2.3</td><td>Low</td></tr><tr><td>JioMart</td><td>2.0</td><td>Low</td></tr><tr><td>Zepto</td><td>4.7</td><td>High</td></tr><tr><td>Blinkit</td><td>2.2</td><td>Low</td></tr><tr><td>Blinkit</td><td>3.9</td><td>Medium</td></tr><tr><td>Zepto</td><td>1.9</td><td>Low</td></tr><tr><td>Zepto</td><td>2.2</td><td>Low</td></tr><tr><td>Zepto</td><td>2.9</td><td>Low</td></tr><tr><td>Zepto</td><td>2.1</td><td>Low</td></tr><tr><td>JioMart</td><td>1.8</td><td>Low</td></tr><tr><td>Blinkit</td><td>4.3</td><td>High</td></tr><tr><td>JioMart</td><td>4.0</td><td>Medium</td></tr><tr><td>Swiggy Instamart</td><td>2.4</td><td>Low</td></tr><tr><td>Blinkit</td><td>2.6</td><td>Low</td></tr><tr><td>Zepto</td><td>4.4</td><td>High</td></tr><tr><td>JioMart</td><td>3.6</td><td>Medium</td></tr><tr><td>Blinkit</td><td>2.8</td><td>Low</td></tr><tr><td>Swiggy Instamart</td><td>2.1</td><td>Low</td></tr><tr><td>Swiggy Instamart</td><td>1.2</td><td>Low</td></tr><tr><td>Blinkit</td><td>4.7</td><td>High</td></tr><tr><td>JioMart</td><td>4.1</td><td>High</td></tr><tr><td>Zepto</td><td>3.0</td><td>Medium</td></tr><tr><td>Swiggy Instamart</td><td>4.6</td><td>High</td></tr><tr><td>Blinkit</td><td>3.1</td><td>Medium</td></tr><tr><td>JioMart</td><td>4.9</td><td>High</td></tr><tr><td>JioMart</td><td>1.5</td><td>Low</td></tr><tr><td>JioMart</td><td>4.9</td><td>High</td></tr><tr><td>Swiggy Instamart</td><td>1.1</td><td>Low</td></tr><tr><td>Swiggy Instamart</td><td>3.5</td><td>Medium</td></tr><tr><td>Blinkit</td><td>3.9</td><td>Medium</td></tr><tr><td>Zepto</td><td>2.8</td><td>Low</td></tr><tr><td>Swiggy Instamart</td><td>4.3</td><td>High</td></tr><tr><td>JioMart</td><td>3.9</td><td>Medium</td></tr><tr><td>Zepto</td><td>3.2</td><td>Medium</td></tr><tr><td>Blinkit</td><td>2.7</td><td>Low</td></tr><tr><td>Swiggy Instamart</td><td>1.0</td><td>Low</td></tr><tr><td>Swiggy Instamart</td><td>4.5</td><td>High</td></tr><tr><td>Blinkit</td><td>1.6</td><td>Low</td></tr><tr><td>Blinkit</td><td>2.5</td><td>Low</td></tr><tr><td>Zepto</td><td>4.6</td><td>High</td></tr><tr><td>Blinkit</td><td>1.7</td><td>Low</td></tr><tr><td>Swiggy Instamart</td><td>4.1</td><td>High</td></tr><tr><td>Blinkit</td><td>1.4</td><td>Low</td></tr><tr><td>Swiggy Instamart</td><td>3.2</td><td>Medium</td></tr><tr><td>Zepto</td><td>1.5</td><td>Low</td></tr><tr><td>Blinkit</td><td>4.1</td><td>High</td></tr><tr><td>Blinkit</td><td>1.9</td><td>Low</td></tr><tr><td>JioMart</td><td>3.3</td><td>Medium</td></tr><tr><td>JioMart</td><td>2.0</td><td>Low</td></tr><tr><td>Zepto</td><td>4.7</td><td>High</td></tr><tr><td>Blinkit</td><td>3.6</td><td>Medium</td></tr><tr><td>JioMart</td><td>2.0</td><td>Low</td></tr><tr><td>Zepto</td><td>2.9</td><td>Low</td></tr><tr><td>Zepto</td><td>2.3</td><td>Low</td></tr><tr><td>Zepto</td><td>4.6</td><td>High</td></tr><tr><td>Blinkit</td><td>2.8</td><td>Low</td></tr><tr><td>Swiggy Instamart</td><td>2.2</td><td>Low</td></tr><tr><td>Blinkit</td><td>4.2</td><td>High</td></tr><tr><td>Blinkit</td><td>1.6</td><td>Low</td></tr><tr><td>Zepto</td><td>2.6</td><td>Low</td></tr><tr><td>Swiggy Instamart</td><td>1.0</td><td>Low</td></tr><tr><td>JioMart</td><td>4.2</td><td>High</td></tr><tr><td>Zepto</td><td>2.4</td><td>Low</td></tr><tr><td>Zepto</td><td>4.0</td><td>Medium</td></tr><tr><td>Blinkit</td><td>4.3</td><td>High</td></tr><tr><td>Swiggy Instamart</td><td>3.7</td><td>Medium</td></tr><tr><td>Blinkit</td><td>4.5</td><td>High</td></tr><tr><td>Swiggy Instamart</td><td>4.5</td><td>High</td></tr><tr><td>Zepto</td><td>1.9</td><td>Low</td></tr><tr><td>Zepto</td><td>1.4</td><td>Low</td></tr><tr><td>JioMart</td><td>2.0</td><td>Low</td></tr><tr><td>JioMart</td><td>2.4</td><td>Low</td></tr><tr><td>Swiggy Instamart</td><td>2.1</td><td>Low</td></tr><tr><td>Zepto</td><td>3.9</td><td>Medium</td></tr><tr><td>Blinkit</td><td>3.7</td><td>Medium</td></tr><tr><td>Swiggy Instamart</td><td>2.1</td><td>Low</td></tr><tr><td>Zepto</td><td>2.6</td><td>Low</td></tr><tr><td>JioMart</td><td>2.8</td><td>Low</td></tr><tr><td>Zepto</td><td>1.4</td><td>Low</td></tr><tr><td>Zepto</td><td>1.7</td><td>Low</td></tr><tr><td>Swiggy Instamart</td><td>4.7</td><td>High</td></tr><tr><td>Swiggy Instamart</td><td>4.8</td><td>High</td></tr><tr><td>Blinkit</td><td>1.3</td><td>Low</td></tr><tr><td>JioMart</td><td>3.3</td><td>Medium</td></tr><tr><td>Zepto</td><td>3.4</td><td>Medium</td></tr><tr><td>Blinkit</td><td>4.4</td><td>High</td></tr><tr><td>Swiggy Instamart</td><td>2.9</td><td>Low</td></tr><tr><td>JioMart</td><td>1.2</td><td>Low</td></tr><tr><td>Swiggy Instamart</td><td>4.4</td><td>High</td></tr><tr><td>JioMart</td><td>2.1</td><td>Low</td></tr><tr><td>JioMart</td><td>1.0</td><td>Low</td></tr><tr><td>Zepto</td><td>4.5</td><td>High</td></tr><tr><td>Blinkit</td><td>4.3</td><td>High</td></tr><tr><td>JioMart</td><td>4.6</td><td>High</td></tr><tr><td>Swiggy Instamart</td><td>4.0</td><td>Medium</td></tr><tr><td>Swiggy Instamart</td><td>1.4</td><td>Low</td></tr><tr><td>Blinkit</td><td>4.4</td><td>High</td></tr><tr><td>Zepto</td><td>1.7</td><td>Low</td></tr><tr><td>Blinkit</td><td>1.8</td><td>Low</td></tr><tr><td>Swiggy Instamart</td><td>4.1</td><td>High</td></tr><tr><td>Swiggy Instamart</td><td>1.3</td><td>Low</td></tr><tr><td>JioMart</td><td>1.1</td><td>Low</td></tr><tr><td>Zepto</td><td>2.5</td><td>Low</td></tr><tr><td>JioMart</td><td>2.4</td><td>Low</td></tr><tr><td>Zepto</td><td>1.9</td><td>Low</td></tr><tr><td>Swiggy Instamart</td><td>4.1</td><td>High</td></tr><tr><td>Blinkit</td><td>4.7</td><td>High</td></tr><tr><td>Blinkit</td><td>1.7</td><td>Low</td></tr><tr><td>JioMart</td><td>3.0</td><td>Medium</td></tr><tr><td>Blinkit</td><td>1.9</td><td>Low</td></tr><tr><td>JioMart</td><td>1.0</td><td>Low</td></tr><tr><td>JioMart</td><td>2.8</td><td>Low</td></tr><tr><td>JioMart</td><td>1.5</td><td>Low</td></tr><tr><td>Zepto</td><td>3.7</td><td>Medium</td></tr><tr><td>Swiggy Instamart</td><td>2.8</td><td>Low</td></tr><tr><td>JioMart</td><td>2.5</td><td>Low</td></tr><tr><td>Swiggy Instamart</td><td>2.3</td><td>Low</td></tr><tr><td>JioMart</td><td>2.4</td><td>Low</td></tr><tr><td>Blinkit</td><td>4.6</td><td>High</td></tr><tr><td>JioMart</td><td>4.1</td><td>High</td></tr><tr><td>Swiggy Instamart</td><td>1.3</td><td>Low</td></tr><tr><td>JioMart</td><td>1.2</td><td>Low</td></tr><tr><td>Blinkit</td><td>3.2</td><td>Medium</td></tr><tr><td>Zepto</td><td>3.4</td><td>Medium</td></tr><tr><td>Blinkit</td><td>1.4</td><td>Low</td></tr><tr><td>JioMart</td><td>3.2</td><td>Medium</td></tr><tr><td>Swiggy Instamart</td><td>4.3</td><td>High</td></tr><tr><td>Blinkit</td><td>2.6</td><td>Low</td></tr><tr><td>Zepto</td><td>3.2</td><td>Medium</td></tr><tr><td>Swiggy Instamart</td><td>1.0</td><td>Low</td></tr><tr><td>Blinkit</td><td>2.4</td><td>Low</td></tr><tr><td>JioMart</td><td>5.0</td><td>High</td></tr><tr><td>Zepto</td><td>4.3</td><td>High</td></tr><tr><td>Zepto</td><td>3.3</td><td>Medium</td></tr><tr><td>Zepto</td><td>1.3</td><td>Low</td></tr><tr><td>JioMart</td><td>2.8</td><td>Low</td></tr><tr><td>Blinkit</td><td>3.1</td><td>Medium</td></tr><tr><td>Zepto</td><td>1.2</td><td>Low</td></tr><tr><td>JioMart</td><td>4.3</td><td>High</td></tr><tr><td>JioMart</td><td>1.3</td><td>Low</td></tr><tr><td>JioMart</td><td>1.8</td><td>Low</td></tr><tr><td>JioMart</td><td>1.1</td><td>Low</td></tr><tr><td>Zepto</td><td>2.2</td><td>Low</td></tr><tr><td>Blinkit</td><td>3.5</td><td>Medium</td></tr><tr><td>JioMart</td><td>3.2</td><td>Medium</td></tr><tr><td>Swiggy Instamart</td><td>2.8</td><td>Low</td></tr><tr><td>JioMart</td><td>2.5</td><td>Low</td></tr><tr><td>JioMart</td><td>2.8</td><td>Low</td></tr><tr><td>Swiggy Instamart</td><td>3.2</td><td>Medium</td></tr><tr><td>Blinkit</td><td>2.0</td><td>Low</td></tr><tr><td>Blinkit</td><td>3.9</td><td>Medium</td></tr><tr><td>Swiggy Instamart</td><td>4.5</td><td>High</td></tr><tr><td>Swiggy Instamart</td><td>2.9</td><td>Low</td></tr><tr><td>Swiggy Instamart</td><td>3.6</td><td>Medium</td></tr><tr><td>Zepto</td><td>4.0</td><td>Medium</td></tr><tr><td>JioMart</td><td>1.9</td><td>Low</td></tr><tr><td>Zepto</td><td>3.7</td><td>Medium</td></tr><tr><td>Swiggy Instamart</td><td>2.4</td><td>Low</td></tr><tr><td>Blinkit</td><td>2.4</td><td>Low</td></tr><tr><td>Zepto</td><td>3.8</td><td>Medium</td></tr><tr><td>JioMart</td><td>4.0</td><td>Medium</td></tr><tr><td>JioMart</td><td>1.3</td><td>Low</td></tr><tr><td>JioMart</td><td>4.1</td><td>High</td></tr><tr><td>Zepto</td><td>4.4</td><td>High</td></tr><tr><td>Blinkit</td><td>2.3</td><td>Low</td></tr><tr><td>Zepto</td><td>2.2</td><td>Low</td></tr><tr><td>Blinkit</td><td>4.0</td><td>Medium</td></tr><tr><td>JioMart</td><td>3.7</td><td>Medium</td></tr><tr><td>Swiggy Instamart</td><td>2.9</td><td>Low</td></tr><tr><td>Blinkit</td><td>1.5</td><td>Low</td></tr><tr><td>Blinkit</td><td>1.4</td><td>Low</td></tr><tr><td>Zepto</td><td>1.4</td><td>Low</td></tr><tr><td>Zepto</td><td>3.1</td><td>Medium</td></tr><tr><td>JioMart</td><td>1.5</td><td>Low</td></tr><tr><td>Blinkit</td><td>4.5</td><td>High</td></tr><tr><td>JioMart</td><td>5.0</td><td>High</td></tr><tr><td>JioMart</td><td>2.2</td><td>Low</td></tr><tr><td>Blinkit</td><td>1.1</td><td>Low</td></tr><tr><td>JioMart</td><td>2.3</td><td>Low</td></tr><tr><td>Zepto</td><td>2.3</td><td>Low</td></tr><tr><td>JioMart</td><td>3.3</td><td>Medium</td></tr><tr><td>JioMart</td><td>1.4</td><td>Low</td></tr><tr><td>Swiggy Instamart</td><td>2.3</td><td>Low</td></tr><tr><td>Zepto</td><td>4.5</td><td>High</td></tr><tr><td>Zepto</td><td>3.3</td><td>Medium</td></tr><tr><td>JioMart</td><td>5.0</td><td>High</td></tr><tr><td>JioMart</td><td>4.5</td><td>High</td></tr><tr><td>Blinkit</td><td>4.7</td><td>High</td></tr><tr><td>Zepto</td><td>4.7</td><td>High</td></tr><tr><td>JioMart</td><td>2.0</td><td>Low</td></tr><tr><td>JioMart</td><td>4.6</td><td>High</td></tr><tr><td>Swiggy Instamart</td><td>3.1</td><td>Medium</td></tr><tr><td>JioMart</td><td>4.2</td><td>High</td></tr><tr><td>JioMart</td><td>4.4</td><td>High</td></tr><tr><td>Swiggy Instamart</td><td>1.6</td><td>Low</td></tr><tr><td>JioMart</td><td>2.6</td><td>Low</td></tr><tr><td>JioMart</td><td>4.0</td><td>Medium</td></tr><tr><td>JioMart</td><td>2.5</td><td>Low</td></tr><tr><td>Swiggy Instamart</td><td>2.4</td><td>Low</td></tr><tr><td>Swiggy Instamart</td><td>3.7</td><td>Medium</td></tr><tr><td>Blinkit</td><td>4.9</td><td>High</td></tr><tr><td>Zepto</td><td>2.2</td><td>Low</td></tr><tr><td>Swiggy Instamart</td><td>1.5</td><td>Low</td></tr><tr><td>Zepto</td><td>3.6</td><td>Medium</td></tr><tr><td>Swiggy Instamart</td><td>1.1</td><td>Low</td></tr><tr><td>Zepto</td><td>1.3</td><td>Low</td></tr><tr><td>Zepto</td><td>3.1</td><td>Medium</td></tr><tr><td>Swiggy Instamart</td><td>4.4</td><td>High</td></tr><tr><td>JioMart</td><td>4.8</td><td>High</td></tr><tr><td>Zepto</td><td>2.5</td><td>Low</td></tr><tr><td>Zepto</td><td>3.0</td><td>Medium</td></tr><tr><td>Swiggy Instamart</td><td>4.5</td><td>High</td></tr><tr><td>JioMart</td><td>3.7</td><td>Medium</td></tr><tr><td>Swiggy Instamart</td><td>2.8</td><td>Low</td></tr><tr><td>JioMart</td><td>2.6</td><td>Low</td></tr><tr><td>JioMart</td><td>1.5</td><td>Low</td></tr><tr><td>Zepto</td><td>4.1</td><td>High</td></tr><tr><td>Swiggy Instamart</td><td>1.1</td><td>Low</td></tr><tr><td>JioMart</td><td>4.9</td><td>High</td></tr><tr><td>JioMart</td><td>1.2</td><td>Low</td></tr><tr><td>Swiggy Instamart</td><td>3.9</td><td>Medium</td></tr><tr><td>Swiggy Instamart</td><td>4.4</td><td>High</td></tr><tr><td>Blinkit</td><td>1.7</td><td>Low</td></tr><tr><td>Swiggy Instamart</td><td>3.8</td><td>Medium</td></tr><tr><td>JioMart</td><td>3.1</td><td>Medium</td></tr><tr><td>Zepto</td><td>3.2</td><td>Medium</td></tr><tr><td>JioMart</td><td>3.7</td><td>Medium</td></tr><tr><td>JioMart</td><td>4.9</td><td>High</td></tr><tr><td>Swiggy Instamart</td><td>3.2</td><td>Medium</td></tr><tr><td>Zepto</td><td>1.7</td><td>Low</td></tr><tr><td>JioMart</td><td>4.4</td><td>High</td></tr><tr><td>Zepto</td><td>3.5</td><td>Medium</td></tr><tr><td>Blinkit</td><td>4.5</td><td>High</td></tr><tr><td>JioMart</td><td>1.9</td><td>Low</td></tr><tr><td>Swiggy Instamart</td><td>2.0</td><td>Low</td></tr><tr><td>JioMart</td><td>4.4</td><td>High</td></tr><tr><td>JioMart</td><td>2.3</td><td>Low</td></tr><tr><td>Zepto</td><td>2.4</td><td>Low</td></tr><tr><td>Blinkit</td><td>2.0</td><td>Low</td></tr><tr><td>Blinkit</td><td>4.7</td><td>High</td></tr><tr><td>JioMart</td><td>4.8</td><td>High</td></tr><tr><td>Blinkit</td><td>4.7</td><td>High</td></tr><tr><td>JioMart</td><td>3.6</td><td>Medium</td></tr><tr><td>JioMart</td><td>1.9</td><td>Low</td></tr><tr><td>Zepto</td><td>3.7</td><td>Medium</td></tr><tr><td>Blinkit</td><td>4.7</td><td>High</td></tr><tr><td>JioMart</td><td>2.8</td><td>Low</td></tr><tr><td>Zepto</td><td>2.2</td><td>Low</td></tr><tr><td>Blinkit</td><td>4.6</td><td>High</td></tr><tr><td>Swiggy Instamart</td><td>3.6</td><td>Medium</td></tr><tr><td>Blinkit</td><td>1.3</td><td>Low</td></tr><tr><td>Blinkit</td><td>1.9</td><td>Low</td></tr><tr><td>Zepto</td><td>3.4</td><td>Medium</td></tr><tr><td>Zepto</td><td>4.2</td><td>High</td></tr><tr><td>Swiggy Instamart</td><td>3.2</td><td>Medium</td></tr><tr><td>Blinkit</td><td>2.5</td><td>Low</td></tr><tr><td>Blinkit</td><td>2.9</td><td>Low</td></tr><tr><td>Zepto</td><td>4.6</td><td>High</td></tr><tr><td>Swiggy Instamart</td><td>3.4</td><td>Medium</td></tr><tr><td>JioMart</td><td>2.8</td><td>Low</td></tr><tr><td>Swiggy Instamart</td><td>1.7</td><td>Low</td></tr><tr><td>Blinkit</td><td>3.3</td><td>Medium</td></tr><tr><td>Swiggy Instamart</td><td>2.5</td><td>Low</td></tr><tr><td>JioMart</td><td>2.9</td><td>Low</td></tr><tr><td>JioMart</td><td>1.9</td><td>Low</td></tr><tr><td>Zepto</td><td>2.8</td><td>Low</td></tr><tr><td>Swiggy Instamart</td><td>4.6</td><td>High</td></tr><tr><td>Swiggy Instamart</td><td>2.9</td><td>Low</td></tr><tr><td>Blinkit</td><td>3.6</td><td>Medium</td></tr><tr><td>Swiggy Instamart</td><td>1.7</td><td>Low</td></tr><tr><td>Blinkit</td><td>2.7</td><td>Low</td></tr><tr><td>Swiggy Instamart</td><td>4.0</td><td>Medium</td></tr><tr><td>Swiggy Instamart</td><td>2.5</td><td>Low</td></tr><tr><td>JioMart</td><td>3.3</td><td>Medium</td></tr><tr><td>Zepto</td><td>1.4</td><td>Low</td></tr><tr><td>JioMart</td><td>4.8</td><td>High</td></tr><tr><td>Blinkit</td><td>1.8</td><td>Low</td></tr><tr><td>Swiggy Instamart</td><td>3.3</td><td>Medium</td></tr><tr><td>Blinkit</td><td>3.3</td><td>Medium</td></tr><tr><td>JioMart</td><td>1.3</td><td>Low</td></tr><tr><td>Swiggy Instamart</td><td>4.0</td><td>Medium</td></tr><tr><td>Zepto</td><td>1.5</td><td>Low</td></tr><tr><td>Blinkit</td><td>4.8</td><td>High</td></tr><tr><td>Blinkit</td><td>2.9</td><td>Low</td></tr><tr><td>Swiggy Instamart</td><td>2.2</td><td>Low</td></tr><tr><td>Swiggy Instamart</td><td>1.2</td><td>Low</td></tr><tr><td>JioMart</td><td>4.0</td><td>Medium</td></tr><tr><td>Zepto</td><td>2.2</td><td>Low</td></tr><tr><td>Zepto</td><td>4.5</td><td>High</td></tr><tr><td>Blinkit</td><td>3.0</td><td>Medium</td></tr><tr><td>Swiggy Instamart</td><td>3.2</td><td>Medium</td></tr><tr><td>Blinkit</td><td>4.1</td><td>High</td></tr><tr><td>Blinkit</td><td>3.2</td><td>Medium</td></tr><tr><td>Blinkit</td><td>5.0</td><td>High</td></tr><tr><td>Blinkit</td><td>1.4</td><td>Low</td></tr><tr><td>Blinkit</td><td>2.0</td><td>Low</td></tr><tr><td>JioMart</td><td>4.7</td><td>High</td></tr><tr><td>Swiggy Instamart</td><td>2.8</td><td>Low</td></tr><tr><td>JioMart</td><td>1.4</td><td>Low</td></tr><tr><td>Zepto</td><td>2.9</td><td>Low</td></tr><tr><td>Swiggy Instamart</td><td>1.8</td><td>Low</td></tr><tr><td>Zepto</td><td>3.9</td><td>Medium</td></tr><tr><td>Zepto</td><td>3.8</td><td>Medium</td></tr><tr><td>Swiggy Instamart</td><td>3.5</td><td>Medium</td></tr><tr><td>Swiggy Instamart</td><td>2.0</td><td>Low</td></tr><tr><td>Blinkit</td><td>2.5</td><td>Low</td></tr><tr><td>Blinkit</td><td>3.0</td><td>Medium</td></tr><tr><td>Blinkit</td><td>4.9</td><td>High</td></tr><tr><td>Swiggy Instamart</td><td>2.7</td><td>Low</td></tr><tr><td>Zepto</td><td>4.8</td><td>High</td></tr><tr><td>Zepto</td><td>3.4</td><td>Medium</td></tr><tr><td>Blinkit</td><td>2.4</td><td>Low</td></tr><tr><td>Blinkit</td><td>3.3</td><td>Medium</td></tr><tr><td>Swiggy Instamart</td><td>3.6</td><td>Medium</td></tr><tr><td>JioMart</td><td>2.0</td><td>Low</td></tr><tr><td>Swiggy Instamart</td><td>1.7</td><td>Low</td></tr><tr><td>Swiggy Instamart</td><td>5.0</td><td>High</td></tr><tr><td>JioMart</td><td>4.2</td><td>High</td></tr><tr><td>Blinkit</td><td>2.5</td><td>Low</td></tr><tr><td>Blinkit</td><td>2.4</td><td>Low</td></tr><tr><td>JioMart</td><td>3.8</td><td>Medium</td></tr><tr><td>Blinkit</td><td>3.0</td><td>Medium</td></tr><tr><td>Blinkit</td><td>3.3</td><td>Medium</td></tr><tr><td>Swiggy Instamart</td><td>1.4</td><td>Low</td></tr><tr><td>JioMart</td><td>3.7</td><td>Medium</td></tr><tr><td>JioMart</td><td>2.2</td><td>Low</td></tr><tr><td>Swiggy Instamart</td><td>4.0</td><td>Medium</td></tr><tr><td>Swiggy Instamart</td><td>2.1</td><td>Low</td></tr><tr><td>Zepto</td><td>4.9</td><td>High</td></tr><tr><td>Zepto</td><td>2.7</td><td>Low</td></tr><tr><td>Zepto</td><td>3.1</td><td>Medium</td></tr><tr><td>JioMart</td><td>3.3</td><td>Medium</td></tr><tr><td>Zepto</td><td>4.1</td><td>High</td></tr><tr><td>Zepto</td><td>2.7</td><td>Low</td></tr><tr><td>Swiggy Instamart</td><td>3.1</td><td>Medium</td></tr><tr><td>Zepto</td><td>4.2</td><td>High</td></tr><tr><td>Zepto</td><td>2.1</td><td>Low</td></tr><tr><td>Swiggy Instamart</td><td>2.1</td><td>Low</td></tr><tr><td>Blinkit</td><td>1.6</td><td>Low</td></tr><tr><td>Blinkit</td><td>2.3</td><td>Low</td></tr><tr><td>Blinkit</td><td>1.8</td><td>Low</td></tr><tr><td>JioMart</td><td>3.5</td><td>Medium</td></tr><tr><td>Blinkit</td><td>4.7</td><td>High</td></tr><tr><td>Blinkit</td><td>3.4</td><td>Medium</td></tr><tr><td>Zepto</td><td>4.4</td><td>High</td></tr><tr><td>Blinkit</td><td>4.1</td><td>High</td></tr><tr><td>JioMart</td><td>2.4</td><td>Low</td></tr><tr><td>Blinkit</td><td>3.4</td><td>Medium</td></tr><tr><td>Zepto</td><td>3.8</td><td>Medium</td></tr><tr><td>Swiggy Instamart</td><td>2.4</td><td>Low</td></tr><tr><td>Swiggy Instamart</td><td>2.7</td><td>Low</td></tr><tr><td>Blinkit</td><td>1.2</td><td>Low</td></tr><tr><td>Zepto</td><td>4.8</td><td>High</td></tr><tr><td>Blinkit</td><td>3.8</td><td>Medium</td></tr><tr><td>Blinkit</td><td>1.5</td><td>Low</td></tr><tr><td>JioMart</td><td>2.5</td><td>Low</td></tr><tr><td>JioMart</td><td>2.1</td><td>Low</td></tr><tr><td>Swiggy Instamart</td><td>4.7</td><td>High</td></tr><tr><td>Swiggy Instamart</td><td>3.7</td><td>Medium</td></tr><tr><td>JioMart</td><td>3.8</td><td>Medium</td></tr><tr><td>Zepto</td><td>1.0</td><td>Low</td></tr><tr><td>Zepto</td><td>2.2</td><td>Low</td></tr><tr><td>Swiggy Instamart</td><td>2.8</td><td>Low</td></tr><tr><td>JioMart</td><td>4.7</td><td>High</td></tr><tr><td>Blinkit</td><td>1.7</td><td>Low</td></tr><tr><td>JioMart</td><td>3.0</td><td>Medium</td></tr><tr><td>Swiggy Instamart</td><td>3.6</td><td>Medium</td></tr><tr><td>JioMart</td><td>2.5</td><td>Low</td></tr><tr><td>Zepto</td><td>1.4</td><td>Low</td></tr><tr><td>Blinkit</td><td>1.5</td><td>Low</td></tr><tr><td>Zepto</td><td>3.4</td><td>Medium</td></tr><tr><td>Swiggy Instamart</td><td>4.9</td><td>High</td></tr><tr><td>Zepto</td><td>3.3</td><td>Medium</td></tr><tr><td>Zepto</td><td>2.9</td><td>Low</td></tr><tr><td>Zepto</td><td>4.8</td><td>High</td></tr><tr><td>Swiggy Instamart</td><td>2.0</td><td>Low</td></tr><tr><td>Swiggy Instamart</td><td>1.7</td><td>Low</td></tr><tr><td>Swiggy Instamart</td><td>1.2</td><td>Low</td></tr><tr><td>Zepto</td><td>3.4</td><td>Medium</td></tr><tr><td>Swiggy Instamart</td><td>4.2</td><td>High</td></tr><tr><td>Blinkit</td><td>2.6</td><td>Low</td></tr><tr><td>Blinkit</td><td>1.1</td><td>Low</td></tr><tr><td>Blinkit</td><td>1.7</td><td>Low</td></tr><tr><td>JioMart</td><td>2.6</td><td>Low</td></tr><tr><td>Zepto</td><td>4.2</td><td>High</td></tr><tr><td>Swiggy Instamart</td><td>3.0</td><td>Medium</td></tr><tr><td>JioMart</td><td>1.5</td><td>Low</td></tr><tr><td>Zepto</td><td>5.0</td><td>High</td></tr><tr><td>Swiggy Instamart</td><td>2.6</td><td>Low</td></tr><tr><td>Swiggy Instamart</td><td>4.5</td><td>High</td></tr><tr><td>JioMart</td><td>4.2</td><td>High</td></tr><tr><td>Swiggy Instamart</td><td>2.2</td><td>Low</td></tr><tr><td>Swiggy Instamart</td><td>4.2</td><td>High</td></tr><tr><td>JioMart</td><td>3.1</td><td>Medium</td></tr><tr><td>Swiggy Instamart</td><td>4.0</td><td>Medium</td></tr><tr><td>Blinkit</td><td>4.8</td><td>High</td></tr><tr><td>JioMart</td><td>2.1</td><td>Low</td></tr><tr><td>Swiggy Instamart</td><td>4.7</td><td>High</td></tr><tr><td>Zepto</td><td>2.1</td><td>Low</td></tr><tr><td>Zepto</td><td>4.2</td><td>High</td></tr><tr><td>Blinkit</td><td>3.7</td><td>Medium</td></tr><tr><td>Blinkit</td><td>4.4</td><td>High</td></tr><tr><td>Blinkit</td><td>2.9</td><td>Low</td></tr><tr><td>Zepto</td><td>1.0</td><td>Low</td></tr><tr><td>JioMart</td><td>4.9</td><td>High</td></tr><tr><td>Swiggy Instamart</td><td>3.2</td><td>Medium</td></tr><tr><td>Blinkit</td><td>1.8</td><td>Low</td></tr><tr><td>Swiggy Instamart</td><td>4.0</td><td>Medium</td></tr><tr><td>Zepto</td><td>2.2</td><td>Low</td></tr><tr><td>Zepto</td><td>2.6</td><td>Low</td></tr><tr><td>Zepto</td><td>1.4</td><td>Low</td></tr><tr><td>Zepto</td><td>3.8</td><td>Medium</td></tr><tr><td>Swiggy Instamart</td><td>2.6</td><td>Low</td></tr><tr><td>Zepto</td><td>2.8</td><td>Low</td></tr><tr><td>Zepto</td><td>1.0</td><td>Low</td></tr><tr><td>JioMart</td><td>5.0</td><td>High</td></tr><tr><td>JioMart</td><td>1.7</td><td>Low</td></tr><tr><td>Blinkit</td><td>2.5</td><td>Low</td></tr><tr><td>JioMart</td><td>2.3</td><td>Low</td></tr><tr><td>Blinkit</td><td>3.7</td><td>Medium</td></tr><tr><td>JioMart</td><td>3.5</td><td>Medium</td></tr><tr><td>Zepto</td><td>1.6</td><td>Low</td></tr><tr><td>Blinkit</td><td>3.8</td><td>Medium</td></tr><tr><td>Blinkit</td><td>4.5</td><td>High</td></tr><tr><td>Swiggy Instamart</td><td>1.9</td><td>Low</td></tr><tr><td>Zepto</td><td>4.5</td><td>High</td></tr><tr><td>Swiggy Instamart</td><td>2.4</td><td>Low</td></tr><tr><td>Swiggy Instamart</td><td>3.4</td><td>Medium</td></tr><tr><td>JioMart</td><td>4.2</td><td>High</td></tr><tr><td>Swiggy Instamart</td><td>1.4</td><td>Low</td></tr><tr><td>JioMart</td><td>1.0</td><td>Low</td></tr><tr><td>Swiggy Instamart</td><td>3.1</td><td>Medium</td></tr><tr><td>Zepto</td><td>3.1</td><td>Medium</td></tr><tr><td>Blinkit</td><td>3.7</td><td>Medium</td></tr><tr><td>Zepto</td><td>4.4</td><td>High</td></tr><tr><td>Zepto</td><td>1.9</td><td>Low</td></tr><tr><td>JioMart</td><td>3.4</td><td>Medium</td></tr><tr><td>Swiggy Instamart</td><td>2.8</td><td>Low</td></tr><tr><td>Blinkit</td><td>2.1</td><td>Low</td></tr><tr><td>JioMart</td><td>1.2</td><td>Low</td></tr><tr><td>Blinkit</td><td>3.1</td><td>Medium</td></tr><tr><td>Blinkit</td><td>1.1</td><td>Low</td></tr><tr><td>Blinkit</td><td>1.6</td><td>Low</td></tr><tr><td>Zepto</td><td>2.8</td><td>Low</td></tr><tr><td>JioMart</td><td>2.7</td><td>Low</td></tr><tr><td>Blinkit</td><td>4.1</td><td>High</td></tr><tr><td>Swiggy Instamart</td><td>5.0</td><td>High</td></tr><tr><td>JioMart</td><td>4.2</td><td>High</td></tr><tr><td>Swiggy Instamart</td><td>2.5</td><td>Low</td></tr><tr><td>Swiggy Instamart</td><td>3.4</td><td>Medium</td></tr><tr><td>Blinkit</td><td>1.5</td><td>Low</td></tr><tr><td>Blinkit</td><td>3.5</td><td>Medium</td></tr><tr><td>Swiggy Instamart</td><td>2.2</td><td>Low</td></tr><tr><td>Swiggy Instamart</td><td>4.5</td><td>High</td></tr><tr><td>Blinkit</td><td>2.2</td><td>Low</td></tr><tr><td>JioMart</td><td>3.2</td><td>Medium</td></tr><tr><td>Swiggy Instamart</td><td>2.7</td><td>Low</td></tr><tr><td>Swiggy Instamart</td><td>2.6</td><td>Low</td></tr><tr><td>Zepto</td><td>3.1</td><td>Medium</td></tr><tr><td>JioMart</td><td>4.9</td><td>High</td></tr><tr><td>Blinkit</td><td>3.7</td><td>Medium</td></tr><tr><td>Swiggy Instamart</td><td>4.1</td><td>High</td></tr><tr><td>Zepto</td><td>1.3</td><td>Low</td></tr><tr><td>Swiggy Instamart</td><td>3.3</td><td>Medium</td></tr><tr><td>Zepto</td><td>3.2</td><td>Medium</td></tr><tr><td>JioMart</td><td>4.2</td><td>High</td></tr><tr><td>JioMart</td><td>4.0</td><td>Medium</td></tr><tr><td>Blinkit</td><td>2.3</td><td>Low</td></tr><tr><td>Swiggy Instamart</td><td>3.6</td><td>Medium</td></tr><tr><td>Zepto</td><td>2.1</td><td>Low</td></tr><tr><td>Swiggy Instamart</td><td>2.9</td><td>Low</td></tr><tr><td>JioMart</td><td>3.3</td><td>Medium</td></tr><tr><td>Blinkit</td><td>2.2</td><td>Low</td></tr><tr><td>Blinkit</td><td>1.7</td><td>Low</td></tr><tr><td>Blinkit</td><td>1.9</td><td>Low</td></tr><tr><td>Blinkit</td><td>1.8</td><td>Low</td></tr><tr><td>Blinkit</td><td>4.8</td><td>High</td></tr><tr><td>JioMart</td><td>2.3</td><td>Low</td></tr><tr><td>Swiggy Instamart</td><td>3.8</td><td>Medium</td></tr><tr><td>Blinkit</td><td>1.5</td><td>Low</td></tr><tr><td>Swiggy Instamart</td><td>4.1</td><td>High</td></tr><tr><td>Zepto</td><td>2.4</td><td>Low</td></tr><tr><td>Zepto</td><td>2.7</td><td>Low</td></tr><tr><td>Zepto</td><td>4.2</td><td>High</td></tr><tr><td>Swiggy Instamart</td><td>2.2</td><td>Low</td></tr><tr><td>Blinkit</td><td>4.1</td><td>High</td></tr><tr><td>Zepto</td><td>4.7</td><td>High</td></tr><tr><td>JioMart</td><td>3.0</td><td>Medium</td></tr><tr><td>JioMart</td><td>4.9</td><td>High</td></tr><tr><td>Blinkit</td><td>1.6</td><td>Low</td></tr><tr><td>Zepto</td><td>3.4</td><td>Medium</td></tr><tr><td>Blinkit</td><td>1.1</td><td>Low</td></tr><tr><td>Zepto</td><td>2.9</td><td>Low</td></tr><tr><td>JioMart</td><td>4.8</td><td>High</td></tr><tr><td>Zepto</td><td>4.3</td><td>High</td></tr><tr><td>Zepto</td><td>2.9</td><td>Low</td></tr><tr><td>Blinkit</td><td>3.2</td><td>Medium</td></tr><tr><td>Zepto</td><td>2.0</td><td>Low</td></tr><tr><td>Blinkit</td><td>3.0</td><td>Medium</td></tr><tr><td>Swiggy Instamart</td><td>4.2</td><td>High</td></tr><tr><td>JioMart</td><td>3.8</td><td>Medium</td></tr><tr><td>JioMart</td><td>2.4</td><td>Low</td></tr><tr><td>JioMart</td><td>4.5</td><td>High</td></tr><tr><td>Swiggy Instamart</td><td>3.6</td><td>Medium</td></tr><tr><td>Zepto</td><td>3.6</td><td>Medium</td></tr><tr><td>Swiggy Instamart</td><td>3.9</td><td>Medium</td></tr><tr><td>Blinkit</td><td>1.4</td><td>Low</td></tr><tr><td>Zepto</td><td>1.6</td><td>Low</td></tr><tr><td>Zepto</td><td>4.9</td><td>High</td></tr><tr><td>Zepto</td><td>4.1</td><td>High</td></tr><tr><td>Zepto</td><td>1.7</td><td>Low</td></tr><tr><td>Blinkit</td><td>1.8</td><td>Low</td></tr><tr><td>JioMart</td><td>2.7</td><td>Low</td></tr><tr><td>Zepto</td><td>2.2</td><td>Low</td></tr><tr><td>Swiggy Instamart</td><td>3.0</td><td>Medium</td></tr><tr><td>Blinkit</td><td>4.4</td><td>High</td></tr><tr><td>Swiggy Instamart</td><td>2.3</td><td>Low</td></tr><tr><td>JioMart</td><td>4.4</td><td>High</td></tr><tr><td>JioMart</td><td>2.5</td><td>Low</td></tr><tr><td>Zepto</td><td>3.4</td><td>Medium</td></tr><tr><td>Blinkit</td><td>1.0</td><td>Low</td></tr><tr><td>Blinkit</td><td>2.2</td><td>Low</td></tr><tr><td>Zepto</td><td>3.3</td><td>Medium</td></tr><tr><td>Swiggy Instamart</td><td>2.0</td><td>Low</td></tr><tr><td>Blinkit</td><td>1.2</td><td>Low</td></tr><tr><td>JioMart</td><td>2.2</td><td>Low</td></tr><tr><td>Zepto</td><td>2.1</td><td>Low</td></tr><tr><td>Blinkit</td><td>4.9</td><td>High</td></tr><tr><td>JioMart</td><td>4.5</td><td>High</td></tr><tr><td>Swiggy Instamart</td><td>4.4</td><td>High</td></tr><tr><td>Swiggy Instamart</td><td>2.7</td><td>Low</td></tr><tr><td>Blinkit</td><td>1.1</td><td>Low</td></tr><tr><td>Zepto</td><td>4.6</td><td>High</td></tr><tr><td>Swiggy Instamart</td><td>2.0</td><td>Low</td></tr><tr><td>JioMart</td><td>4.0</td><td>Medium</td></tr><tr><td>Swiggy Instamart</td><td>2.0</td><td>Low</td></tr><tr><td>Swiggy Instamart</td><td>3.5</td><td>Medium</td></tr><tr><td>Blinkit</td><td>1.2</td><td>Low</td></tr><tr><td>Zepto</td><td>2.0</td><td>Low</td></tr><tr><td>Blinkit</td><td>1.9</td><td>Low</td></tr><tr><td>Blinkit</td><td>4.9</td><td>High</td></tr><tr><td>Zepto</td><td>1.2</td><td>Low</td></tr><tr><td>JioMart</td><td>4.2</td><td>High</td></tr><tr><td>Blinkit</td><td>1.4</td><td>Low</td></tr><tr><td>Swiggy Instamart</td><td>1.4</td><td>Low</td></tr><tr><td>Swiggy Instamart</td><td>1.5</td><td>Low</td></tr><tr><td>Zepto</td><td>4.5</td><td>High</td></tr><tr><td>Swiggy Instamart</td><td>1.4</td><td>Low</td></tr><tr><td>Swiggy Instamart</td><td>5.0</td><td>High</td></tr><tr><td>Zepto</td><td>3.7</td><td>Medium</td></tr><tr><td>Zepto</td><td>4.8</td><td>High</td></tr><tr><td>JioMart</td><td>2.9</td><td>Low</td></tr><tr><td>Swiggy Instamart</td><td>2.6</td><td>Low</td></tr><tr><td>Zepto</td><td>1.9</td><td>Low</td></tr><tr><td>JioMart</td><td>2.2</td><td>Low</td></tr><tr><td>Zepto</td><td>5.0</td><td>High</td></tr><tr><td>Swiggy Instamart</td><td>1.2</td><td>Low</td></tr><tr><td>Blinkit</td><td>3.8</td><td>Medium</td></tr><tr><td>Blinkit</td><td>4.8</td><td>High</td></tr><tr><td>Blinkit</td><td>1.2</td><td>Low</td></tr><tr><td>Swiggy Instamart</td><td>1.7</td><td>Low</td></tr><tr><td>Swiggy Instamart</td><td>1.7</td><td>Low</td></tr><tr><td>Swiggy Instamart</td><td>3.0</td><td>Medium</td></tr><tr><td>Zepto</td><td>3.7</td><td>Medium</td></tr><tr><td>Zepto</td><td>2.6</td><td>Low</td></tr><tr><td>Zepto</td><td>1.5</td><td>Low</td></tr><tr><td>Swiggy Instamart</td><td>2.8</td><td>Low</td></tr><tr><td>Zepto</td><td>3.1</td><td>Medium</td></tr><tr><td>JioMart</td><td>2.7</td><td>Low</td></tr><tr><td>JioMart</td><td>4.8</td><td>High</td></tr><tr><td>Swiggy Instamart</td><td>2.6</td><td>Low</td></tr><tr><td>Swiggy Instamart</td><td>4.7</td><td>High</td></tr><tr><td>JioMart</td><td>1.1</td><td>Low</td></tr><tr><td>Zepto</td><td>4.3</td><td>High</td></tr><tr><td>JioMart</td><td>3.0</td><td>Medium</td></tr><tr><td>JioMart</td><td>1.8</td><td>Low</td></tr><tr><td>Blinkit</td><td>4.3</td><td>High</td></tr><tr><td>Zepto</td><td>1.6</td><td>Low</td></tr><tr><td>Swiggy Instamart</td><td>2.2</td><td>Low</td></tr><tr><td>Zepto</td><td>2.5</td><td>Low</td></tr><tr><td>Blinkit</td><td>2.1</td><td>Low</td></tr><tr><td>Zepto</td><td>4.6</td><td>High</td></tr><tr><td>Swiggy Instamart</td><td>2.4</td><td>Low</td></tr><tr><td>Zepto</td><td>4.4</td><td>High</td></tr><tr><td>Swiggy Instamart</td><td>3.1</td><td>Medium</td></tr><tr><td>Swiggy Instamart</td><td>1.7</td><td>Low</td></tr><tr><td>Blinkit</td><td>3.6</td><td>Medium</td></tr><tr><td>Swiggy Instamart</td><td>3.3</td><td>Medium</td></tr><tr><td>Blinkit</td><td>4.6</td><td>High</td></tr><tr><td>Swiggy Instamart</td><td>4.2</td><td>High</td></tr><tr><td>Zepto</td><td>3.8</td><td>Medium</td></tr><tr><td>Swiggy Instamart</td><td>1.2</td><td>Low</td></tr><tr><td>Zepto</td><td>3.7</td><td>Medium</td></tr><tr><td>Zepto</td><td>3.4</td><td>Medium</td></tr><tr><td>Blinkit</td><td>4.0</td><td>Medium</td></tr><tr><td>Swiggy Instamart</td><td>2.5</td><td>Low</td></tr><tr><td>Zepto</td><td>1.1</td><td>Low</td></tr><tr><td>JioMart</td><td>4.9</td><td>High</td></tr><tr><td>Swiggy Instamart</td><td>2.2</td><td>Low</td></tr><tr><td>JioMart</td><td>4.5</td><td>High</td></tr><tr><td>Zepto</td><td>4.3</td><td>High</td></tr><tr><td>Swiggy Instamart</td><td>4.7</td><td>High</td></tr><tr><td>Blinkit</td><td>3.9</td><td>Medium</td></tr><tr><td>Swiggy Instamart</td><td>3.0</td><td>Medium</td></tr><tr><td>Zepto</td><td>2.5</td><td>Low</td></tr><tr><td>JioMart</td><td>4.6</td><td>High</td></tr><tr><td>Blinkit</td><td>1.2</td><td>Low</td></tr><tr><td>Zepto</td><td>3.0</td><td>Medium</td></tr><tr><td>JioMart</td><td>3.7</td><td>Medium</td></tr><tr><td>Blinkit</td><td>2.2</td><td>Low</td></tr><tr><td>Blinkit</td><td>4.6</td><td>High</td></tr><tr><td>Swiggy Instamart</td><td>1.1</td><td>Low</td></tr><tr><td>JioMart</td><td>3.0</td><td>Medium</td></tr><tr><td>Blinkit</td><td>4.1</td><td>High</td></tr><tr><td>Zepto</td><td>4.3</td><td>High</td></tr><tr><td>Blinkit</td><td>1.3</td><td>Low</td></tr><tr><td>JioMart</td><td>3.8</td><td>Medium</td></tr><tr><td>Zepto</td><td>3.2</td><td>Medium</td></tr><tr><td>JioMart</td><td>4.4</td><td>High</td></tr><tr><td>Swiggy Instamart</td><td>3.0</td><td>Medium</td></tr><tr><td>Swiggy Instamart</td><td>4.3</td><td>High</td></tr><tr><td>Swiggy Instamart</td><td>4.4</td><td>High</td></tr><tr><td>JioMart</td><td>1.3</td><td>Low</td></tr><tr><td>Zepto</td><td>4.6</td><td>High</td></tr><tr><td>Zepto</td><td>4.9</td><td>High</td></tr><tr><td>Zepto</td><td>2.9</td><td>Low</td></tr><tr><td>JioMart</td><td>2.1</td><td>Low</td></tr><tr><td>Swiggy Instamart</td><td>2.7</td><td>Low</td></tr><tr><td>Zepto</td><td>3.4</td><td>Medium</td></tr><tr><td>Blinkit</td><td>2.6</td><td>Low</td></tr><tr><td>Zepto</td><td>1.6</td><td>Low</td></tr><tr><td>Swiggy Instamart</td><td>3.2</td><td>Medium</td></tr><tr><td>Blinkit</td><td>2.5</td><td>Low</td></tr><tr><td>Swiggy Instamart</td><td>1.7</td><td>Low</td></tr><tr><td>Zepto</td><td>4.3</td><td>High</td></tr><tr><td>JioMart</td><td>4.1</td><td>High</td></tr><tr><td>Swiggy Instamart</td><td>2.4</td><td>Low</td></tr><tr><td>Blinkit</td><td>2.2</td><td>Low</td></tr><tr><td>Swiggy Instamart</td><td>3.9</td><td>Medium</td></tr><tr><td>Blinkit</td><td>1.4</td><td>Low</td></tr><tr><td>Zepto</td><td>2.3</td><td>Low</td></tr><tr><td>Blinkit</td><td>2.2</td><td>Low</td></tr><tr><td>Blinkit</td><td>1.9</td><td>Low</td></tr><tr><td>Swiggy Instamart</td><td>4.7</td><td>High</td></tr><tr><td>Swiggy Instamart</td><td>1.8</td><td>Low</td></tr><tr><td>Blinkit</td><td>1.1</td><td>Low</td></tr><tr><td>JioMart</td><td>1.3</td><td>Low</td></tr><tr><td>Swiggy Instamart</td><td>4.2</td><td>High</td></tr><tr><td>Blinkit</td><td>4.6</td><td>High</td></tr><tr><td>Blinkit</td><td>2.5</td><td>Low</td></tr><tr><td>Swiggy Instamart</td><td>3.0</td><td>Medium</td></tr><tr><td>Swiggy Instamart</td><td>3.5</td><td>Medium</td></tr><tr><td>Swiggy Instamart</td><td>2.7</td><td>Low</td></tr><tr><td>Blinkit</td><td>3.5</td><td>Medium</td></tr><tr><td>Blinkit</td><td>4.6</td><td>High</td></tr><tr><td>Swiggy Instamart</td><td>4.2</td><td>High</td></tr><tr><td>Zepto</td><td>2.2</td><td>Low</td></tr><tr><td>Zepto</td><td>1.1</td><td>Low</td></tr><tr><td>Zepto</td><td>3.2</td><td>Medium</td></tr><tr><td>Swiggy Instamart</td><td>1.9</td><td>Low</td></tr><tr><td>JioMart</td><td>1.5</td><td>Low</td></tr><tr><td>Swiggy Instamart</td><td>1.3</td><td>Low</td></tr><tr><td>Blinkit</td><td>2.2</td><td>Low</td></tr><tr><td>JioMart</td><td>4.6</td><td>High</td></tr><tr><td>JioMart</td><td>1.9</td><td>Low</td></tr><tr><td>JioMart</td><td>4.7</td><td>High</td></tr><tr><td>Zepto</td><td>2.4</td><td>Low</td></tr><tr><td>JioMart</td><td>1.4</td><td>Low</td></tr><tr><td>Blinkit</td><td>4.2</td><td>High</td></tr><tr><td>Zepto</td><td>1.6</td><td>Low</td></tr><tr><td>Swiggy Instamart</td><td>2.8</td><td>Low</td></tr><tr><td>Swiggy Instamart</td><td>2.0</td><td>Low</td></tr><tr><td>JioMart</td><td>1.3</td><td>Low</td></tr><tr><td>JioMart</td><td>2.9</td><td>Low</td></tr><tr><td>Zepto</td><td>4.7</td><td>High</td></tr><tr><td>Swiggy Instamart</td><td>4.0</td><td>Medium</td></tr><tr><td>Zepto</td><td>1.1</td><td>Low</td></tr><tr><td>JioMart</td><td>3.2</td><td>Medium</td></tr><tr><td>Zepto</td><td>4.3</td><td>High</td></tr><tr><td>JioMart</td><td>3.5</td><td>Medium</td></tr><tr><td>Zepto</td><td>1.9</td><td>Low</td></tr><tr><td>Swiggy Instamart</td><td>3.6</td><td>Medium</td></tr><tr><td>Zepto</td><td>3.3</td><td>Medium</td></tr><tr><td>JioMart</td><td>2.3</td><td>Low</td></tr><tr><td>JioMart</td><td>2.7</td><td>Low</td></tr><tr><td>Zepto</td><td>4.9</td><td>High</td></tr><tr><td>JioMart</td><td>1.1</td><td>Low</td></tr><tr><td>Swiggy Instamart</td><td>3.8</td><td>Medium</td></tr><tr><td>JioMart</td><td>3.2</td><td>Medium</td></tr><tr><td>Swiggy Instamart</td><td>4.9</td><td>High</td></tr><tr><td>Swiggy Instamart</td><td>3.1</td><td>Medium</td></tr><tr><td>Swiggy Instamart</td><td>5.0</td><td>High</td></tr><tr><td>JioMart</td><td>1.0</td><td>Low</td></tr><tr><td>Blinkit</td><td>4.3</td><td>High</td></tr><tr><td>Swiggy Instamart</td><td>4.3</td><td>High</td></tr><tr><td>Blinkit</td><td>2.8</td><td>Low</td></tr><tr><td>Blinkit</td><td>4.9</td><td>High</td></tr><tr><td>Blinkit</td><td>3.4</td><td>Medium</td></tr><tr><td>Zepto</td><td>2.9</td><td>Low</td></tr><tr><td>Zepto</td><td>2.6</td><td>Low</td></tr><tr><td>JioMart</td><td>2.6</td><td>Low</td></tr><tr><td>Zepto</td><td>3.8</td><td>Medium</td></tr><tr><td>Swiggy Instamart</td><td>3.3</td><td>Medium</td></tr><tr><td>JioMart</td><td>1.1</td><td>Low</td></tr><tr><td>Swiggy Instamart</td><td>2.1</td><td>Low</td></tr><tr><td>Swiggy Instamart</td><td>4.7</td><td>High</td></tr><tr><td>Blinkit</td><td>1.1</td><td>Low</td></tr><tr><td>Blinkit</td><td>1.8</td><td>Low</td></tr><tr><td>Blinkit</td><td>1.5</td><td>Low</td></tr><tr><td>JioMart</td><td>2.2</td><td>Low</td></tr><tr><td>Zepto</td><td>1.6</td><td>Low</td></tr><tr><td>JioMart</td><td>1.6</td><td>Low</td></tr><tr><td>JioMart</td><td>2.1</td><td>Low</td></tr><tr><td>Blinkit</td><td>1.1</td><td>Low</td></tr><tr><td>Swiggy Instamart</td><td>3.2</td><td>Medium</td></tr><tr><td>Blinkit</td><td>1.9</td><td>Low</td></tr><tr><td>JioMart</td><td>4.8</td><td>High</td></tr><tr><td>JioMart</td><td>1.6</td><td>Low</td></tr><tr><td>Zepto</td><td>3.4</td><td>Medium</td></tr><tr><td>JioMart</td><td>2.1</td><td>Low</td></tr><tr><td>Zepto</td><td>1.7</td><td>Low</td></tr><tr><td>Zepto</td><td>3.4</td><td>Medium</td></tr><tr><td>Blinkit</td><td>2.3</td><td>Low</td></tr><tr><td>JioMart</td><td>2.2</td><td>Low</td></tr><tr><td>JioMart</td><td>2.7</td><td>Low</td></tr><tr><td>Zepto</td><td>4.5</td><td>High</td></tr><tr><td>Zepto</td><td>2.0</td><td>Low</td></tr><tr><td>JioMart</td><td>1.1</td><td>Low</td></tr><tr><td>Swiggy Instamart</td><td>1.7</td><td>Low</td></tr><tr><td>Zepto</td><td>1.5</td><td>Low</td></tr><tr><td>JioMart</td><td>3.6</td><td>Medium</td></tr><tr><td>Zepto</td><td>1.1</td><td>Low</td></tr><tr><td>Zepto</td><td>4.9</td><td>High</td></tr><tr><td>JioMart</td><td>4.4</td><td>High</td></tr><tr><td>Blinkit</td><td>1.0</td><td>Low</td></tr><tr><td>Blinkit</td><td>2.3</td><td>Low</td></tr><tr><td>Blinkit</td><td>2.2</td><td>Low</td></tr><tr><td>JioMart</td><td>2.4</td><td>Low</td></tr><tr><td>Swiggy Instamart</td><td>4.1</td><td>High</td></tr><tr><td>Blinkit</td><td>1.2</td><td>Low</td></tr><tr><td>Blinkit</td><td>2.7</td><td>Low</td></tr><tr><td>JioMart</td><td>1.1</td><td>Low</td></tr><tr><td>JioMart</td><td>4.7</td><td>High</td></tr><tr><td>Swiggy Instamart</td><td>2.1</td><td>Low</td></tr><tr><td>Swiggy Instamart</td><td>3.9</td><td>Medium</td></tr><tr><td>JioMart</td><td>3.5</td><td>Medium</td></tr><tr><td>Blinkit</td><td>1.0</td><td>Low</td></tr><tr><td>Swiggy Instamart</td><td>4.8</td><td>High</td></tr><tr><td>Blinkit</td><td>2.9</td><td>Low</td></tr><tr><td>Zepto</td><td>3.1</td><td>Medium</td></tr><tr><td>Zepto</td><td>3.5</td><td>Medium</td></tr><tr><td>JioMart</td><td>3.2</td><td>Medium</td></tr><tr><td>JioMart</td><td>1.1</td><td>Low</td></tr><tr><td>Swiggy Instamart</td><td>2.0</td><td>Low</td></tr><tr><td>Swiggy Instamart</td><td>1.8</td><td>Low</td></tr><tr><td>Blinkit</td><td>3.5</td><td>Medium</td></tr><tr><td>Zepto</td><td>1.5</td><td>Low</td></tr><tr><td>JioMart</td><td>4.0</td><td>Medium</td></tr><tr><td>JioMart</td><td>4.7</td><td>High</td></tr><tr><td>JioMart</td><td>1.8</td><td>Low</td></tr><tr><td>Zepto</td><td>3.0</td><td>Medium</td></tr><tr><td>Blinkit</td><td>1.1</td><td>Low</td></tr><tr><td>Blinkit</td><td>5.0</td><td>High</td></tr><tr><td>Blinkit</td><td>3.3</td><td>Medium</td></tr><tr><td>JioMart</td><td>1.9</td><td>Low</td></tr><tr><td>JioMart</td><td>4.1</td><td>High</td></tr><tr><td>Blinkit</td><td>2.5</td><td>Low</td></tr><tr><td>Zepto</td><td>2.7</td><td>Low</td></tr><tr><td>JioMart</td><td>2.8</td><td>Low</td></tr><tr><td>Swiggy Instamart</td><td>2.3</td><td>Low</td></tr><tr><td>Blinkit</td><td>2.9</td><td>Low</td></tr><tr><td>JioMart</td><td>1.6</td><td>Low</td></tr><tr><td>Zepto</td><td>1.9</td><td>Low</td></tr><tr><td>Swiggy Instamart</td><td>4.1</td><td>High</td></tr><tr><td>Zepto</td><td>3.5</td><td>Medium</td></tr><tr><td>Swiggy Instamart</td><td>3.4</td><td>Medium</td></tr><tr><td>Zepto</td><td>4.2</td><td>High</td></tr><tr><td>Blinkit</td><td>2.9</td><td>Low</td></tr><tr><td>JioMart</td><td>4.4</td><td>High</td></tr><tr><td>Blinkit</td><td>3.0</td><td>Medium</td></tr><tr><td>Swiggy Instamart</td><td>3.3</td><td>Medium</td></tr><tr><td>Blinkit</td><td>4.4</td><td>High</td></tr><tr><td>JioMart</td><td>1.7</td><td>Low</td></tr><tr><td>Blinkit</td><td>4.7</td><td>High</td></tr><tr><td>Blinkit</td><td>2.4</td><td>Low</td></tr><tr><td>Blinkit</td><td>2.7</td><td>Low</td></tr><tr><td>Zepto</td><td>3.0</td><td>Medium</td></tr><tr><td>Zepto</td><td>4.9</td><td>High</td></tr><tr><td>Zepto</td><td>3.4</td><td>Medium</td></tr><tr><td>Zepto</td><td>2.8</td><td>Low</td></tr><tr><td>Swiggy Instamart</td><td>4.6</td><td>High</td></tr><tr><td>Swiggy Instamart</td><td>1.2</td><td>Low</td></tr><tr><td>Swiggy Instamart</td><td>4.1</td><td>High</td></tr><tr><td>Swiggy Instamart</td><td>1.9</td><td>Low</td></tr><tr><td>JioMart</td><td>1.2</td><td>Low</td></tr><tr><td>Swiggy Instamart</td><td>4.1</td><td>High</td></tr><tr><td>Swiggy Instamart</td><td>5.0</td><td>High</td></tr><tr><td>Blinkit</td><td>3.7</td><td>Medium</td></tr><tr><td>Blinkit</td><td>1.3</td><td>Low</td></tr><tr><td>Swiggy Instamart</td><td>4.9</td><td>High</td></tr><tr><td>Swiggy Instamart</td><td>3.7</td><td>Medium</td></tr><tr><td>Swiggy Instamart</td><td>3.6</td><td>Medium</td></tr><tr><td>Swiggy Instamart</td><td>1.4</td><td>Low</td></tr><tr><td>Swiggy Instamart</td><td>4.5</td><td>High</td></tr><tr><td>Blinkit</td><td>1.0</td><td>Low</td></tr><tr><td>JioMart</td><td>3.5</td><td>Medium</td></tr><tr><td>JioMart</td><td>3.7</td><td>Medium</td></tr><tr><td>Zepto</td><td>4.3</td><td>High</td></tr><tr><td>Blinkit</td><td>1.3</td><td>Low</td></tr><tr><td>Blinkit</td><td>4.3</td><td>High</td></tr><tr><td>Zepto</td><td>2.9</td><td>Low</td></tr><tr><td>JioMart</td><td>3.1</td><td>Medium</td></tr><tr><td>Blinkit</td><td>1.9</td><td>Low</td></tr><tr><td>Swiggy Instamart</td><td>3.0</td><td>Medium</td></tr><tr><td>Zepto</td><td>4.1</td><td>High</td></tr><tr><td>JioMart</td><td>4.3</td><td>High</td></tr><tr><td>Zepto</td><td>2.1</td><td>Low</td></tr><tr><td>Zepto</td><td>1.5</td><td>Low</td></tr><tr><td>JioMart</td><td>3.8</td><td>Medium</td></tr><tr><td>Blinkit</td><td>4.0</td><td>Medium</td></tr><tr><td>JioMart</td><td>4.9</td><td>High</td></tr><tr><td>Zepto</td><td>4.3</td><td>High</td></tr><tr><td>JioMart</td><td>3.5</td><td>Medium</td></tr><tr><td>Zepto</td><td>3.7</td><td>Medium</td></tr><tr><td>Swiggy Instamart</td><td>2.4</td><td>Low</td></tr><tr><td>JioMart</td><td>2.9</td><td>Low</td></tr><tr><td>JioMart</td><td>1.1</td><td>Low</td></tr><tr><td>JioMart</td><td>4.9</td><td>High</td></tr><tr><td>Swiggy Instamart</td><td>1.2</td><td>Low</td></tr><tr><td>Zepto</td><td>3.3</td><td>Medium</td></tr><tr><td>JioMart</td><td>2.1</td><td>Low</td></tr><tr><td>Blinkit</td><td>1.9</td><td>Low</td></tr><tr><td>Swiggy Instamart</td><td>1.1</td><td>Low</td></tr><tr><td>Zepto</td><td>3.2</td><td>Medium</td></tr><tr><td>Swiggy Instamart</td><td>3.5</td><td>Medium</td></tr><tr><td>JioMart</td><td>3.2</td><td>Medium</td></tr><tr><td>Blinkit</td><td>4.0</td><td>Medium</td></tr><tr><td>Zepto</td><td>4.4</td><td>High</td></tr><tr><td>Swiggy Instamart</td><td>1.1</td><td>Low</td></tr><tr><td>Swiggy Instamart</td><td>2.5</td><td>Low</td></tr><tr><td>JioMart</td><td>2.8</td><td>Low</td></tr><tr><td>Blinkit</td><td>1.8</td><td>Low</td></tr><tr><td>Swiggy Instamart</td><td>1.8</td><td>Low</td></tr><tr><td>Swiggy Instamart</td><td>3.9</td><td>Medium</td></tr><tr><td>Swiggy Instamart</td><td>3.3</td><td>Medium</td></tr><tr><td>Swiggy Instamart</td><td>3.0</td><td>Medium</td></tr><tr><td>Swiggy Instamart</td><td>2.0</td><td>Low</td></tr><tr><td>Zepto</td><td>2.2</td><td>Low</td></tr><tr><td>Swiggy Instamart</td><td>4.3</td><td>High</td></tr><tr><td>Blinkit</td><td>3.4</td><td>Medium</td></tr><tr><td>Swiggy Instamart</td><td>3.2</td><td>Medium</td></tr><tr><td>Zepto</td><td>1.7</td><td>Low</td></tr><tr><td>Swiggy Instamart</td><td>3.2</td><td>Medium</td></tr><tr><td>Zepto</td><td>1.1</td><td>Low</td></tr><tr><td>Zepto</td><td>2.8</td><td>Low</td></tr><tr><td>Zepto</td><td>1.3</td><td>Low</td></tr><tr><td>Blinkit</td><td>3.3</td><td>Medium</td></tr><tr><td>Zepto</td><td>3.1</td><td>Medium</td></tr><tr><td>Swiggy Instamart</td><td>1.3</td><td>Low</td></tr><tr><td>Swiggy Instamart</td><td>2.3</td><td>Low</td></tr><tr><td>JioMart</td><td>2.7</td><td>Low</td></tr><tr><td>Blinkit</td><td>2.0</td><td>Low</td></tr><tr><td>Blinkit</td><td>1.8</td><td>Low</td></tr><tr><td>JioMart</td><td>3.2</td><td>Medium</td></tr><tr><td>Blinkit</td><td>4.4</td><td>High</td></tr><tr><td>Swiggy Instamart</td><td>3.4</td><td>Medium</td></tr><tr><td>JioMart</td><td>4.8</td><td>High</td></tr><tr><td>Swiggy Instamart</td><td>4.0</td><td>Medium</td></tr><tr><td>Blinkit</td><td>3.4</td><td>Medium</td></tr><tr><td>Zepto</td><td>1.1</td><td>Low</td></tr><tr><td>JioMart</td><td>2.3</td><td>Low</td></tr><tr><td>Blinkit</td><td>1.6</td><td>Low</td></tr><tr><td>Swiggy Instamart</td><td>4.4</td><td>High</td></tr><tr><td>JioMart</td><td>4.2</td><td>High</td></tr><tr><td>Swiggy Instamart</td><td>3.3</td><td>Medium</td></tr><tr><td>JioMart</td><td>2.9</td><td>Low</td></tr><tr><td>Swiggy Instamart</td><td>4.8</td><td>High</td></tr><tr><td>Zepto</td><td>4.6</td><td>High</td></tr><tr><td>Zepto</td><td>3.9</td><td>Medium</td></tr><tr><td>Swiggy Instamart</td><td>1.4</td><td>Low</td></tr><tr><td>JioMart</td><td>2.1</td><td>Low</td></tr><tr><td>JioMart</td><td>4.5</td><td>High</td></tr><tr><td>JioMart</td><td>4.8</td><td>High</td></tr><tr><td>Zepto</td><td>4.5</td><td>High</td></tr><tr><td>JioMart</td><td>1.1</td><td>Low</td></tr><tr><td>Zepto</td><td>3.0</td><td>Medium</td></tr><tr><td>Swiggy Instamart</td><td>1.7</td><td>Low</td></tr><tr><td>Swiggy Instamart</td><td>4.1</td><td>High</td></tr><tr><td>Blinkit</td><td>4.9</td><td>High</td></tr><tr><td>Swiggy Instamart</td><td>1.8</td><td>Low</td></tr><tr><td>JioMart</td><td>1.4</td><td>Low</td></tr><tr><td>Swiggy Instamart</td><td>4.7</td><td>High</td></tr><tr><td>Zepto</td><td>1.9</td><td>Low</td></tr><tr><td>Blinkit</td><td>3.0</td><td>Medium</td></tr><tr><td>Blinkit</td><td>2.5</td><td>Low</td></tr><tr><td>Blinkit</td><td>3.4</td><td>Medium</td></tr><tr><td>Blinkit</td><td>1.3</td><td>Low</td></tr><tr><td>Blinkit</td><td>4.8</td><td>High</td></tr><tr><td>JioMart</td><td>2.7</td><td>Low</td></tr><tr><td>JioMart</td><td>1.4</td><td>Low</td></tr><tr><td>JioMart</td><td>5.0</td><td>High</td></tr><tr><td>Blinkit</td><td>3.1</td><td>Medium</td></tr><tr><td>Blinkit</td><td>1.7</td><td>Low</td></tr><tr><td>Blinkit</td><td>1.9</td><td>Low</td></tr><tr><td>Zepto</td><td>4.6</td><td>High</td></tr><tr><td>Zepto</td><td>4.4</td><td>High</td></tr><tr><td>JioMart</td><td>2.4</td><td>Low</td></tr><tr><td>Zepto</td><td>1.9</td><td>Low</td></tr><tr><td>Zepto</td><td>2.5</td><td>Low</td></tr><tr><td>JioMart</td><td>3.5</td><td>Medium</td></tr><tr><td>Swiggy Instamart</td><td>1.2</td><td>Low</td></tr><tr><td>Blinkit</td><td>3.0</td><td>Medium</td></tr><tr><td>Zepto</td><td>3.9</td><td>Medium</td></tr><tr><td>Zepto</td><td>2.3</td><td>Low</td></tr><tr><td>Zepto</td><td>3.2</td><td>Medium</td></tr><tr><td>Zepto</td><td>2.1</td><td>Low</td></tr><tr><td>JioMart</td><td>1.1</td><td>Low</td></tr><tr><td>Blinkit</td><td>1.5</td><td>Low</td></tr><tr><td>Zepto</td><td>3.7</td><td>Medium</td></tr><tr><td>Swiggy Instamart</td><td>4.6</td><td>High</td></tr><tr><td>JioMart</td><td>2.2</td><td>Low</td></tr><tr><td>Swiggy Instamart</td><td>4.4</td><td>High</td></tr><tr><td>Blinkit</td><td>2.1</td><td>Low</td></tr><tr><td>Blinkit</td><td>3.1</td><td>Medium</td></tr><tr><td>JioMart</td><td>2.7</td><td>Low</td></tr><tr><td>Blinkit</td><td>4.4</td><td>High</td></tr><tr><td>Blinkit</td><td>1.8</td><td>Low</td></tr><tr><td>Blinkit</td><td>4.4</td><td>High</td></tr><tr><td>Blinkit</td><td>3.9</td><td>Medium</td></tr><tr><td>Zepto</td><td>3.3</td><td>Medium</td></tr><tr><td>Zepto</td><td>2.3</td><td>Low</td></tr><tr><td>Zepto</td><td>4.3</td><td>High</td></tr><tr><td>Blinkit</td><td>3.4</td><td>Medium</td></tr><tr><td>JioMart</td><td>2.7</td><td>Low</td></tr><tr><td>Swiggy Instamart</td><td>4.5</td><td>High</td></tr><tr><td>JioMart</td><td>4.7</td><td>High</td></tr><tr><td>Blinkit</td><td>4.3</td><td>High</td></tr><tr><td>Zepto</td><td>4.6</td><td>High</td></tr><tr><td>Blinkit</td><td>2.3</td><td>Low</td></tr><tr><td>Swiggy Instamart</td><td>2.1</td><td>Low</td></tr><tr><td>Swiggy Instamart</td><td>2.5</td><td>Low</td></tr><tr><td>Swiggy Instamart</td><td>4.5</td><td>High</td></tr><tr><td>Swiggy Instamart</td><td>2.6</td><td>Low</td></tr><tr><td>Blinkit</td><td>1.8</td><td>Low</td></tr><tr><td>JioMart</td><td>1.8</td><td>Low</td></tr><tr><td>Swiggy Instamart</td><td>3.6</td><td>Medium</td></tr><tr><td>Blinkit</td><td>2.4</td><td>Low</td></tr><tr><td>JioMart</td><td>4.4</td><td>High</td></tr><tr><td>Blinkit</td><td>4.6</td><td>High</td></tr><tr><td>Zepto</td><td>3.4</td><td>Medium</td></tr><tr><td>Zepto</td><td>1.9</td><td>Low</td></tr><tr><td>Blinkit</td><td>3.9</td><td>Medium</td></tr><tr><td>Blinkit</td><td>3.9</td><td>Medium</td></tr><tr><td>Zepto</td><td>4.6</td><td>High</td></tr><tr><td>Zepto</td><td>4.2</td><td>High</td></tr><tr><td>Swiggy Instamart</td><td>3.0</td><td>Medium</td></tr><tr><td>Zepto</td><td>3.8</td><td>Medium</td></tr><tr><td>Blinkit</td><td>3.4</td><td>Medium</td></tr><tr><td>JioMart</td><td>2.9</td><td>Low</td></tr><tr><td>Blinkit</td><td>3.4</td><td>Medium</td></tr><tr><td>JioMart</td><td>2.9</td><td>Low</td></tr><tr><td>Zepto</td><td>4.0</td><td>Medium</td></tr><tr><td>Swiggy Instamart</td><td>3.7</td><td>Medium</td></tr><tr><td>Swiggy Instamart</td><td>2.5</td><td>Low</td></tr><tr><td>Swiggy Instamart</td><td>4.4</td><td>High</td></tr><tr><td>JioMart</td><td>4.5</td><td>High</td></tr><tr><td>JioMart</td><td>1.8</td><td>Low</td></tr><tr><td>JioMart</td><td>3.5</td><td>Medium</td></tr><tr><td>Zepto</td><td>4.0</td><td>Medium</td></tr><tr><td>Zepto</td><td>1.6</td><td>Low</td></tr><tr><td>Blinkit</td><td>4.7</td><td>High</td></tr><tr><td>Zepto</td><td>3.1</td><td>Medium</td></tr><tr><td>Swiggy Instamart</td><td>1.5</td><td>Low</td></tr><tr><td>Blinkit</td><td>3.1</td><td>Medium</td></tr><tr><td>Blinkit</td><td>1.6</td><td>Low</td></tr><tr><td>Blinkit</td><td>2.3</td><td>Low</td></tr><tr><td>Zepto</td><td>2.7</td><td>Low</td></tr><tr><td>Zepto</td><td>4.1</td><td>High</td></tr><tr><td>Zepto</td><td>1.7</td><td>Low</td></tr><tr><td>JioMart</td><td>2.8</td><td>Low</td></tr><tr><td>Blinkit</td><td>4.8</td><td>High</td></tr><tr><td>JioMart</td><td>2.9</td><td>Low</td></tr><tr><td>Blinkit</td><td>4.3</td><td>High</td></tr><tr><td>JioMart</td><td>1.1</td><td>Low</td></tr><tr><td>Zepto</td><td>1.3</td><td>Low</td></tr><tr><td>Zepto</td><td>4.4</td><td>High</td></tr><tr><td>Blinkit</td><td>4.5</td><td>High</td></tr><tr><td>Swiggy Instamart</td><td>2.9</td><td>Low</td></tr><tr><td>Zepto</td><td>3.3</td><td>Medium</td></tr><tr><td>Zepto</td><td>3.2</td><td>Medium</td></tr><tr><td>JioMart</td><td>1.7</td><td>Low</td></tr><tr><td>Blinkit</td><td>4.7</td><td>High</td></tr><tr><td>Zepto</td><td>1.4</td><td>Low</td></tr><tr><td>Swiggy Instamart</td><td>4.5</td><td>High</td></tr><tr><td>Zepto</td><td>3.6</td><td>Medium</td></tr><tr><td>JioMart</td><td>3.7</td><td>Medium</td></tr><tr><td>Swiggy Instamart</td><td>4.8</td><td>High</td></tr><tr><td>Zepto</td><td>2.3</td><td>Low</td></tr><tr><td>JioMart</td><td>2.5</td><td>Low</td></tr><tr><td>JioMart</td><td>4.9</td><td>High</td></tr><tr><td>Swiggy Instamart</td><td>1.0</td><td>Low</td></tr><tr><td>Zepto</td><td>1.5</td><td>Low</td></tr><tr><td>JioMart</td><td>2.9</td><td>Low</td></tr><tr><td>Zepto</td><td>2.6</td><td>Low</td></tr><tr><td>Zepto</td><td>1.7</td><td>Low</td></tr><tr><td>Zepto</td><td>3.1</td><td>Medium</td></tr><tr><td>Zepto</td><td>2.9</td><td>Low</td></tr><tr><td>JioMart</td><td>1.8</td><td>Low</td></tr><tr><td>Swiggy Instamart</td><td>1.7</td><td>Low</td></tr><tr><td>Blinkit</td><td>2.1</td><td>Low</td></tr><tr><td>JioMart</td><td>2.2</td><td>Low</td></tr><tr><td>Zepto</td><td>3.5</td><td>Medium</td></tr><tr><td>Zepto</td><td>4.1</td><td>High</td></tr><tr><td>Zepto</td><td>4.4</td><td>High</td></tr><tr><td>JioMart</td><td>4.2</td><td>High</td></tr><tr><td>JioMart</td><td>3.5</td><td>Medium</td></tr><tr><td>Blinkit</td><td>4.9</td><td>High</td></tr><tr><td>Blinkit</td><td>2.5</td><td>Low</td></tr><tr><td>Zepto</td><td>5.0</td><td>High</td></tr><tr><td>Zepto</td><td>3.9</td><td>Medium</td></tr><tr><td>Blinkit</td><td>4.8</td><td>High</td></tr><tr><td>Zepto</td><td>1.4</td><td>Low</td></tr><tr><td>Zepto</td><td>1.0</td><td>Low</td></tr><tr><td>Blinkit</td><td>4.0</td><td>Medium</td></tr><tr><td>Zepto</td><td>3.3</td><td>Medium</td></tr><tr><td>Zepto</td><td>2.4</td><td>Low</td></tr><tr><td>Swiggy Instamart</td><td>2.6</td><td>Low</td></tr><tr><td>JioMart</td><td>2.9</td><td>Low</td></tr><tr><td>Zepto</td><td>3.6</td><td>Medium</td></tr><tr><td>Swiggy Instamart</td><td>5.0</td><td>High</td></tr><tr><td>Zepto</td><td>2.0</td><td>Low</td></tr><tr><td>Swiggy Instamart</td><td>2.0</td><td>Low</td></tr><tr><td>Zepto</td><td>4.8</td><td>High</td></tr><tr><td>Blinkit</td><td>2.7</td><td>Low</td></tr><tr><td>Zepto</td><td>1.4</td><td>Low</td></tr><tr><td>Blinkit</td><td>1.5</td><td>Low</td></tr><tr><td>Swiggy Instamart</td><td>1.5</td><td>Low</td></tr><tr><td>JioMart</td><td>2.8</td><td>Low</td></tr><tr><td>JioMart</td><td>4.4</td><td>High</td></tr><tr><td>Zepto</td><td>2.7</td><td>Low</td></tr><tr><td>Zepto</td><td>1.3</td><td>Low</td></tr><tr><td>Zepto</td><td>4.4</td><td>High</td></tr><tr><td>JioMart</td><td>1.2</td><td>Low</td></tr><tr><td>JioMart</td><td>2.2</td><td>Low</td></tr><tr><td>JioMart</td><td>3.2</td><td>Medium</td></tr><tr><td>JioMart</td><td>4.8</td><td>High</td></tr><tr><td>Zepto</td><td>4.2</td><td>High</td></tr><tr><td>Blinkit</td><td>2.3</td><td>Low</td></tr><tr><td>Zepto</td><td>2.9</td><td>Low</td></tr><tr><td>Swiggy Instamart</td><td>4.5</td><td>High</td></tr><tr><td>JioMart</td><td>4.0</td><td>Medium</td></tr><tr><td>Zepto</td><td>1.6</td><td>Low</td></tr><tr><td>Swiggy Instamart</td><td>3.6</td><td>Medium</td></tr><tr><td>Zepto</td><td>2.9</td><td>Low</td></tr><tr><td>Swiggy Instamart</td><td>4.4</td><td>High</td></tr><tr><td>Zepto</td><td>4.6</td><td>High</td></tr><tr><td>Swiggy Instamart</td><td>2.3</td><td>Low</td></tr><tr><td>Blinkit</td><td>1.3</td><td>Low</td></tr><tr><td>Swiggy Instamart</td><td>2.9</td><td>Low</td></tr><tr><td>Blinkit</td><td>3.0</td><td>Medium</td></tr><tr><td>JioMart</td><td>2.5</td><td>Low</td></tr><tr><td>Blinkit</td><td>4.1</td><td>High</td></tr><tr><td>Blinkit</td><td>1.7</td><td>Low</td></tr><tr><td>Zepto</td><td>4.9</td><td>High</td></tr><tr><td>Swiggy Instamart</td><td>1.0</td><td>Low</td></tr><tr><td>Swiggy Instamart</td><td>4.8</td><td>High</td></tr><tr><td>Swiggy Instamart</td><td>3.6</td><td>Medium</td></tr><tr><td>Zepto</td><td>1.4</td><td>Low</td></tr><tr><td>JioMart</td><td>1.4</td><td>Low</td></tr><tr><td>JioMart</td><td>1.7</td><td>Low</td></tr><tr><td>JioMart</td><td>1.3</td><td>Low</td></tr><tr><td>Blinkit</td><td>2.2</td><td>Low</td></tr><tr><td>Zepto</td><td>2.1</td><td>Low</td></tr><tr><td>JioMart</td><td>2.3</td><td>Low</td></tr><tr><td>Zepto</td><td>2.9</td><td>Low</td></tr><tr><td>Blinkit</td><td>4.9</td><td>High</td></tr><tr><td>Blinkit</td><td>4.5</td><td>High</td></tr><tr><td>Zepto</td><td>2.7</td><td>Low</td></tr><tr><td>JioMart</td><td>2.4</td><td>Low</td></tr><tr><td>Blinkit</td><td>4.3</td><td>High</td></tr><tr><td>Swiggy Instamart</td><td>3.4</td><td>Medium</td></tr><tr><td>JioMart</td><td>1.4</td><td>Low</td></tr><tr><td>Blinkit</td><td>1.4</td><td>Low</td></tr><tr><td>Swiggy Instamart</td><td>3.2</td><td>Medium</td></tr><tr><td>Swiggy Instamart</td><td>4.6</td><td>High</td></tr><tr><td>Zepto</td><td>4.0</td><td>Medium</td></tr><tr><td>Zepto</td><td>2.9</td><td>Low</td></tr><tr><td>Blinkit</td><td>4.9</td><td>High</td></tr><tr><td>Blinkit</td><td>4.9</td><td>High</td></tr><tr><td>Swiggy Instamart</td><td>3.0</td><td>Medium</td></tr><tr><td>Blinkit</td><td>1.4</td><td>Low</td></tr><tr><td>Swiggy Instamart</td><td>1.1</td><td>Low</td></tr><tr><td>Blinkit</td><td>3.3</td><td>Medium</td></tr><tr><td>Blinkit</td><td>2.6</td><td>Low</td></tr><tr><td>Swiggy Instamart</td><td>3.6</td><td>Medium</td></tr><tr><td>JioMart</td><td>2.4</td><td>Low</td></tr><tr><td>Zepto</td><td>1.0</td><td>Low</td></tr><tr><td>Zepto</td><td>1.3</td><td>Low</td></tr><tr><td>Zepto</td><td>2.3</td><td>Low</td></tr><tr><td>Swiggy Instamart</td><td>4.6</td><td>High</td></tr><tr><td>Swiggy Instamart</td><td>3.6</td><td>Medium</td></tr><tr><td>Zepto</td><td>3.6</td><td>Medium</td></tr><tr><td>JioMart</td><td>2.4</td><td>Low</td></tr><tr><td>JioMart</td><td>3.4</td><td>Medium</td></tr><tr><td>Swiggy Instamart</td><td>2.4</td><td>Low</td></tr><tr><td>Blinkit</td><td>1.1</td><td>Low</td></tr><tr><td>Swiggy Instamart</td><td>4.5</td><td>High</td></tr><tr><td>Swiggy Instamart</td><td>1.4</td><td>Low</td></tr><tr><td>Blinkit</td><td>4.7</td><td>High</td></tr><tr><td>Blinkit</td><td>1.5</td><td>Low</td></tr><tr><td>Zepto</td><td>4.8</td><td>High</td></tr><tr><td>Swiggy Instamart</td><td>4.9</td><td>High</td></tr><tr><td>Blinkit</td><td>4.3</td><td>High</td></tr><tr><td>Zepto</td><td>2.2</td><td>Low</td></tr><tr><td>Swiggy Instamart</td><td>1.4</td><td>Low</td></tr><tr><td>Swiggy Instamart</td><td>3.2</td><td>Medium</td></tr><tr><td>JioMart</td><td>2.4</td><td>Low</td></tr><tr><td>Blinkit</td><td>3.4</td><td>Medium</td></tr><tr><td>Blinkit</td><td>5.0</td><td>High</td></tr><tr><td>Zepto</td><td>1.9</td><td>Low</td></tr><tr><td>Blinkit</td><td>1.8</td><td>Low</td></tr><tr><td>Swiggy Instamart</td><td>1.7</td><td>Low</td></tr><tr><td>Swiggy Instamart</td><td>3.4</td><td>Medium</td></tr><tr><td>JioMart</td><td>2.9</td><td>Low</td></tr><tr><td>JioMart</td><td>2.7</td><td>Low</td></tr><tr><td>Blinkit</td><td>4.5</td><td>High</td></tr><tr><td>Zepto</td><td>4.8</td><td>High</td></tr><tr><td>JioMart</td><td>1.7</td><td>Low</td></tr><tr><td>Blinkit</td><td>2.9</td><td>Low</td></tr><tr><td>Blinkit</td><td>3.5</td><td>Medium</td></tr><tr><td>Blinkit</td><td>3.4</td><td>Medium</td></tr><tr><td>JioMart</td><td>1.8</td><td>Low</td></tr><tr><td>JioMart</td><td>2.5</td><td>Low</td></tr><tr><td>Zepto</td><td>1.2</td><td>Low</td></tr><tr><td>JioMart</td><td>2.2</td><td>Low</td></tr><tr><td>Blinkit</td><td>2.8</td><td>Low</td></tr><tr><td>Swiggy Instamart</td><td>2.3</td><td>Low</td></tr><tr><td>JioMart</td><td>2.0</td><td>Low</td></tr><tr><td>JioMart</td><td>3.3</td><td>Medium</td></tr><tr><td>JioMart</td><td>1.3</td><td>Low</td></tr><tr><td>JioMart</td><td>3.5</td><td>Medium</td></tr><tr><td>JioMart</td><td>3.1</td><td>Medium</td></tr><tr><td>Zepto</td><td>4.9</td><td>High</td></tr><tr><td>Blinkit</td><td>1.9</td><td>Low</td></tr><tr><td>JioMart</td><td>4.3</td><td>High</td></tr><tr><td>Blinkit</td><td>2.1</td><td>Low</td></tr><tr><td>JioMart</td><td>3.5</td><td>Medium</td></tr><tr><td>JioMart</td><td>2.5</td><td>Low</td></tr><tr><td>Blinkit</td><td>2.9</td><td>Low</td></tr><tr><td>Blinkit</td><td>1.6</td><td>Low</td></tr><tr><td>Swiggy Instamart</td><td>1.5</td><td>Low</td></tr><tr><td>JioMart</td><td>1.7</td><td>Low</td></tr><tr><td>JioMart</td><td>2.1</td><td>Low</td></tr><tr><td>JioMart</td><td>2.4</td><td>Low</td></tr><tr><td>Blinkit</td><td>1.7</td><td>Low</td></tr><tr><td>Zepto</td><td>4.2</td><td>High</td></tr><tr><td>Zepto</td><td>4.0</td><td>Medium</td></tr><tr><td>JioMart</td><td>3.7</td><td>Medium</td></tr><tr><td>Blinkit</td><td>4.2</td><td>High</td></tr><tr><td>Swiggy Instamart</td><td>4.0</td><td>Medium</td></tr><tr><td>JioMart</td><td>4.2</td><td>High</td></tr><tr><td>Blinkit</td><td>4.0</td><td>Medium</td></tr><tr><td>Swiggy Instamart</td><td>4.0</td><td>Medium</td></tr><tr><td>Blinkit</td><td>2.4</td><td>Low</td></tr><tr><td>JioMart</td><td>1.9</td><td>Low</td></tr><tr><td>JioMart</td><td>3.2</td><td>Medium</td></tr><tr><td>Blinkit</td><td>1.8</td><td>Low</td></tr><tr><td>Zepto</td><td>2.5</td><td>Low</td></tr><tr><td>Swiggy Instamart</td><td>2.3</td><td>Low</td></tr><tr><td>Swiggy Instamart</td><td>2.4</td><td>Low</td></tr><tr><td>Blinkit</td><td>1.5</td><td>Low</td></tr><tr><td>JioMart</td><td>5.0</td><td>High</td></tr><tr><td>Zepto</td><td>2.9</td><td>Low</td></tr><tr><td>Blinkit</td><td>4.4</td><td>High</td></tr><tr><td>JioMart</td><td>3.4</td><td>Medium</td></tr><tr><td>Zepto</td><td>1.1</td><td>Low</td></tr><tr><td>Blinkit</td><td>1.3</td><td>Low</td></tr><tr><td>Blinkit</td><td>4.3</td><td>High</td></tr><tr><td>Blinkit</td><td>1.1</td><td>Low</td></tr><tr><td>Blinkit</td><td>4.2</td><td>High</td></tr><tr><td>Blinkit</td><td>4.4</td><td>High</td></tr><tr><td>Zepto</td><td>4.3</td><td>High</td></tr><tr><td>Blinkit</td><td>1.4</td><td>Low</td></tr><tr><td>Blinkit</td><td>3.2</td><td>Medium</td></tr><tr><td>Blinkit</td><td>4.0</td><td>Medium</td></tr><tr><td>Swiggy Instamart</td><td>4.1</td><td>High</td></tr><tr><td>Zepto</td><td>4.8</td><td>High</td></tr><tr><td>Blinkit</td><td>4.8</td><td>High</td></tr><tr><td>Zepto</td><td>3.1</td><td>Medium</td></tr><tr><td>JioMart</td><td>1.8</td><td>Low</td></tr><tr><td>Blinkit</td><td>1.2</td><td>Low</td></tr><tr><td>JioMart</td><td>2.4</td><td>Low</td></tr><tr><td>Blinkit</td><td>2.3</td><td>Low</td></tr><tr><td>JioMart</td><td>3.0</td><td>Medium</td></tr><tr><td>Swiggy Instamart</td><td>4.7</td><td>High</td></tr><tr><td>Zepto</td><td>5.0</td><td>High</td></tr><tr><td>Swiggy Instamart</td><td>3.4</td><td>Medium</td></tr><tr><td>JioMart</td><td>4.1</td><td>High</td></tr><tr><td>Swiggy Instamart</td><td>3.9</td><td>Medium</td></tr><tr><td>Blinkit</td><td>3.9</td><td>Medium</td></tr><tr><td>Swiggy Instamart</td><td>3.1</td><td>Medium</td></tr><tr><td>JioMart</td><td>4.8</td><td>High</td></tr><tr><td>Blinkit</td><td>2.1</td><td>Low</td></tr><tr><td>Zepto</td><td>3.5</td><td>Medium</td></tr><tr><td>Blinkit</td><td>3.4</td><td>Medium</td></tr><tr><td>Zepto</td><td>1.7</td><td>Low</td></tr><tr><td>Blinkit</td><td>3.7</td><td>Medium</td></tr><tr><td>Zepto</td><td>2.4</td><td>Low</td></tr><tr><td>Swiggy Instamart</td><td>2.8</td><td>Low</td></tr><tr><td>Swiggy Instamart</td><td>3.5</td><td>Medium</td></tr><tr><td>Blinkit</td><td>1.5</td><td>Low</td></tr><tr><td>Zepto</td><td>1.9</td><td>Low</td></tr><tr><td>JioMart</td><td>1.3</td><td>Low</td></tr><tr><td>JioMart</td><td>4.1</td><td>High</td></tr><tr><td>Zepto</td><td>2.2</td><td>Low</td></tr><tr><td>Zepto</td><td>1.9</td><td>Low</td></tr><tr><td>Zepto</td><td>4.3</td><td>High</td></tr><tr><td>JioMart</td><td>3.6</td><td>Medium</td></tr><tr><td>Blinkit</td><td>4.1</td><td>High</td></tr><tr><td>Zepto</td><td>3.5</td><td>Medium</td></tr><tr><td>JioMart</td><td>1.8</td><td>Low</td></tr><tr><td>Swiggy Instamart</td><td>2.7</td><td>Low</td></tr><tr><td>JioMart</td><td>2.0</td><td>Low</td></tr><tr><td>Zepto</td><td>2.8</td><td>Low</td></tr><tr><td>Zepto</td><td>1.8</td><td>Low</td></tr><tr><td>Swiggy Instamart</td><td>3.3</td><td>Medium</td></tr><tr><td>Zepto</td><td>2.0</td><td>Low</td></tr><tr><td>JioMart</td><td>4.0</td><td>Medium</td></tr><tr><td>Swiggy Instamart</td><td>2.4</td><td>Low</td></tr><tr><td>Blinkit</td><td>4.9</td><td>High</td></tr><tr><td>Blinkit</td><td>4.4</td><td>High</td></tr><tr><td>Blinkit</td><td>1.7</td><td>Low</td></tr><tr><td>Swiggy Instamart</td><td>3.1</td><td>Medium</td></tr><tr><td>Zepto</td><td>3.6</td><td>Medium</td></tr><tr><td>Swiggy Instamart</td><td>2.7</td><td>Low</td></tr><tr><td>JioMart</td><td>2.0</td><td>Low</td></tr><tr><td>Zepto</td><td>1.1</td><td>Low</td></tr><tr><td>JioMart</td><td>1.2</td><td>Low</td></tr><tr><td>Swiggy Instamart</td><td>2.8</td><td>Low</td></tr><tr><td>Swiggy Instamart</td><td>4.3</td><td>High</td></tr><tr><td>Zepto</td><td>4.1</td><td>High</td></tr><tr><td>Blinkit</td><td>1.1</td><td>Low</td></tr><tr><td>Swiggy Instamart</td><td>4.0</td><td>Medium</td></tr><tr><td>JioMart</td><td>4.1</td><td>High</td></tr><tr><td>Zepto</td><td>3.9</td><td>Medium</td></tr><tr><td>Blinkit</td><td>4.6</td><td>High</td></tr><tr><td>Zepto</td><td>2.1</td><td>Low</td></tr><tr><td>Swiggy Instamart</td><td>3.1</td><td>Medium</td></tr><tr><td>JioMart</td><td>3.2</td><td>Medium</td></tr><tr><td>Blinkit</td><td>2.4</td><td>Low</td></tr><tr><td>Zepto</td><td>2.7</td><td>Low</td></tr><tr><td>Blinkit</td><td>1.1</td><td>Low</td></tr><tr><td>Swiggy Instamart</td><td>3.5</td><td>Medium</td></tr><tr><td>Swiggy Instamart</td><td>3.5</td><td>Medium</td></tr><tr><td>JioMart</td><td>3.6</td><td>Medium</td></tr><tr><td>Zepto</td><td>2.5</td><td>Low</td></tr><tr><td>Zepto</td><td>4.1</td><td>High</td></tr><tr><td>Zepto</td><td>2.7</td><td>Low</td></tr><tr><td>Swiggy Instamart</td><td>4.3</td><td>High</td></tr><tr><td>Zepto</td><td>2.2</td><td>Low</td></tr><tr><td>JioMart</td><td>2.8</td><td>Low</td></tr><tr><td>Blinkit</td><td>4.9</td><td>High</td></tr><tr><td>Swiggy Instamart</td><td>3.2</td><td>Medium</td></tr><tr><td>Swiggy Instamart</td><td>2.7</td><td>Low</td></tr><tr><td>Zepto</td><td>3.1</td><td>Medium</td></tr><tr><td>JioMart</td><td>3.6</td><td>Medium</td></tr><tr><td>Blinkit</td><td>3.4</td><td>Medium</td></tr><tr><td>JioMart</td><td>2.8</td><td>Low</td></tr><tr><td>JioMart</td><td>2.3</td><td>Low</td></tr><tr><td>Blinkit</td><td>1.0</td><td>Low</td></tr><tr><td>Zepto</td><td>4.8</td><td>High</td></tr><tr><td>Swiggy Instamart</td><td>1.4</td><td>Low</td></tr><tr><td>Blinkit</td><td>2.1</td><td>Low</td></tr><tr><td>Swiggy Instamart</td><td>4.9</td><td>High</td></tr><tr><td>Zepto</td><td>4.1</td><td>High</td></tr><tr><td>Swiggy Instamart</td><td>1.4</td><td>Low</td></tr><tr><td>Swiggy Instamart</td><td>3.3</td><td>Medium</td></tr><tr><td>Zepto</td><td>1.2</td><td>Low</td></tr><tr><td>Zepto</td><td>4.4</td><td>High</td></tr><tr><td>Blinkit</td><td>1.2</td><td>Low</td></tr><tr><td>Zepto</td><td>1.7</td><td>Low</td></tr><tr><td>JioMart</td><td>2.0</td><td>Low</td></tr><tr><td>JioMart</td><td>1.7</td><td>Low</td></tr><tr><td>Swiggy Instamart</td><td>3.0</td><td>Medium</td></tr><tr><td>JioMart</td><td>3.6</td><td>Medium</td></tr><tr><td>Swiggy Instamart</td><td>1.2</td><td>Low</td></tr><tr><td>Blinkit</td><td>2.3</td><td>Low</td></tr><tr><td>Swiggy Instamart</td><td>2.6</td><td>Low</td></tr><tr><td>Zepto</td><td>3.1</td><td>Medium</td></tr><tr><td>Blinkit</td><td>4.1</td><td>High</td></tr><tr><td>Blinkit</td><td>3.5</td><td>Medium</td></tr><tr><td>Swiggy Instamart</td><td>2.1</td><td>Low</td></tr><tr><td>Zepto</td><td>4.7</td><td>High</td></tr><tr><td>Zepto</td><td>3.4</td><td>Medium</td></tr><tr><td>Zepto</td><td>1.5</td><td>Low</td></tr><tr><td>Swiggy Instamart</td><td>1.3</td><td>Low</td></tr><tr><td>Zepto</td><td>4.0</td><td>Medium</td></tr><tr><td>Swiggy Instamart</td><td>4.8</td><td>High</td></tr><tr><td>Zepto</td><td>1.4</td><td>Low</td></tr><tr><td>JioMart</td><td>1.4</td><td>Low</td></tr><tr><td>Zepto</td><td>3.8</td><td>Medium</td></tr><tr><td>Zepto</td><td>2.4</td><td>Low</td></tr><tr><td>Blinkit</td><td>5.0</td><td>High</td></tr><tr><td>Swiggy Instamart</td><td>1.2</td><td>Low</td></tr><tr><td>JioMart</td><td>2.7</td><td>Low</td></tr><tr><td>Zepto</td><td>2.8</td><td>Low</td></tr><tr><td>Blinkit</td><td>4.9</td><td>High</td></tr><tr><td>Blinkit</td><td>4.9</td><td>High</td></tr><tr><td>Swiggy Instamart</td><td>4.5</td><td>High</td></tr><tr><td>JioMart</td><td>2.0</td><td>Low</td></tr><tr><td>JioMart</td><td>4.0</td><td>Medium</td></tr><tr><td>Zepto</td><td>4.7</td><td>High</td></tr><tr><td>Zepto</td><td>3.7</td><td>Medium</td></tr><tr><td>Zepto</td><td>2.0</td><td>Low</td></tr><tr><td>Blinkit</td><td>2.0</td><td>Low</td></tr><tr><td>Blinkit</td><td>4.9</td><td>High</td></tr><tr><td>Blinkit</td><td>4.9</td><td>High</td></tr><tr><td>Blinkit</td><td>4.2</td><td>High</td></tr><tr><td>JioMart</td><td>3.9</td><td>Medium</td></tr><tr><td>Blinkit</td><td>4.6</td><td>High</td></tr><tr><td>Swiggy Instamart</td><td>2.5</td><td>Low</td></tr><tr><td>Zepto</td><td>3.3</td><td>Medium</td></tr><tr><td>Blinkit</td><td>3.0</td><td>Medium</td></tr><tr><td>Blinkit</td><td>3.6</td><td>Medium</td></tr><tr><td>JioMart</td><td>1.4</td><td>Low</td></tr><tr><td>JioMart</td><td>1.1</td><td>Low</td></tr><tr><td>Swiggy Instamart</td><td>2.0</td><td>Low</td></tr><tr><td>JioMart</td><td>4.9</td><td>High</td></tr><tr><td>Zepto</td><td>3.8</td><td>Medium</td></tr><tr><td>Swiggy Instamart</td><td>4.9</td><td>High</td></tr><tr><td>Zepto</td><td>4.4</td><td>High</td></tr><tr><td>JioMart</td><td>3.7</td><td>Medium</td></tr><tr><td>Swiggy Instamart</td><td>2.5</td><td>Low</td></tr><tr><td>Zepto</td><td>1.3</td><td>Low</td></tr><tr><td>Blinkit</td><td>4.9</td><td>High</td></tr><tr><td>JioMart</td><td>2.7</td><td>Low</td></tr><tr><td>Zepto</td><td>2.5</td><td>Low</td></tr><tr><td>Zepto</td><td>1.9</td><td>Low</td></tr><tr><td>Swiggy Instamart</td><td>1.0</td><td>Low</td></tr><tr><td>Swiggy Instamart</td><td>1.2</td><td>Low</td></tr><tr><td>JioMart</td><td>4.3</td><td>High</td></tr><tr><td>Blinkit</td><td>2.0</td><td>Low</td></tr><tr><td>Blinkit</td><td>3.7</td><td>Medium</td></tr><tr><td>JioMart</td><td>3.4</td><td>Medium</td></tr><tr><td>Blinkit</td><td>1.4</td><td>Low</td></tr><tr><td>Blinkit</td><td>1.6</td><td>Low</td></tr><tr><td>Swiggy Instamart</td><td>2.1</td><td>Low</td></tr><tr><td>JioMart</td><td>1.5</td><td>Low</td></tr><tr><td>Swiggy Instamart</td><td>1.7</td><td>Low</td></tr><tr><td>Swiggy Instamart</td><td>1.3</td><td>Low</td></tr><tr><td>Swiggy Instamart</td><td>1.9</td><td>Low</td></tr><tr><td>JioMart</td><td>2.5</td><td>Low</td></tr><tr><td>Blinkit</td><td>3.2</td><td>Medium</td></tr><tr><td>JioMart</td><td>3.6</td><td>Medium</td></tr><tr><td>JioMart</td><td>2.2</td><td>Low</td></tr><tr><td>Zepto</td><td>4.6</td><td>High</td></tr><tr><td>Zepto</td><td>3.5</td><td>Medium</td></tr><tr><td>Swiggy Instamart</td><td>3.5</td><td>Medium</td></tr><tr><td>JioMart</td><td>2.5</td><td>Low</td></tr><tr><td>Swiggy Instamart</td><td>3.4</td><td>Medium</td></tr><tr><td>Swiggy Instamart</td><td>2.1</td><td>Low</td></tr><tr><td>Zepto</td><td>1.9</td><td>Low</td></tr><tr><td>Swiggy Instamart</td><td>4.3</td><td>High</td></tr><tr><td>Zepto</td><td>2.8</td><td>Low</td></tr><tr><td>Blinkit</td><td>1.6</td><td>Low</td></tr><tr><td>Zepto</td><td>2.0</td><td>Low</td></tr><tr><td>Swiggy Instamart</td><td>3.9</td><td>Medium</td></tr><tr><td>Swiggy Instamart</td><td>2.3</td><td>Low</td></tr><tr><td>Zepto</td><td>3.8</td><td>Medium</td></tr><tr><td>Zepto</td><td>1.4</td><td>Low</td></tr><tr><td>JioMart</td><td>2.1</td><td>Low</td></tr><tr><td>JioMart</td><td>4.5</td><td>High</td></tr><tr><td>Swiggy Instamart</td><td>1.5</td><td>Low</td></tr><tr><td>Blinkit</td><td>2.7</td><td>Low</td></tr><tr><td>Swiggy Instamart</td><td>3.3</td><td>Medium</td></tr><tr><td>Zepto</td><td>1.6</td><td>Low</td></tr><tr><td>JioMart</td><td>4.2</td><td>High</td></tr><tr><td>Blinkit</td><td>4.7</td><td>High</td></tr><tr><td>Zepto</td><td>4.7</td><td>High</td></tr><tr><td>Zepto</td><td>2.0</td><td>Low</td></tr><tr><td>Swiggy Instamart</td><td>4.1</td><td>High</td></tr><tr><td>Swiggy Instamart</td><td>3.5</td><td>Medium</td></tr><tr><td>Swiggy Instamart</td><td>3.7</td><td>Medium</td></tr><tr><td>Zepto</td><td>2.7</td><td>Low</td></tr><tr><td>Swiggy Instamart</td><td>4.7</td><td>High</td></tr><tr><td>Swiggy Instamart</td><td>2.5</td><td>Low</td></tr><tr><td>Zepto</td><td>2.3</td><td>Low</td></tr><tr><td>JioMart</td><td>4.3</td><td>High</td></tr><tr><td>Blinkit</td><td>3.0</td><td>Medium</td></tr><tr><td>JioMart</td><td>1.9</td><td>Low</td></tr><tr><td>Blinkit</td><td>1.0</td><td>Low</td></tr><tr><td>JioMart</td><td>4.3</td><td>High</td></tr><tr><td>Blinkit</td><td>4.8</td><td>High</td></tr><tr><td>Blinkit</td><td>1.2</td><td>Low</td></tr><tr><td>Swiggy Instamart</td><td>4.0</td><td>Medium</td></tr><tr><td>JioMart</td><td>3.2</td><td>Medium</td></tr><tr><td>Blinkit</td><td>1.4</td><td>Low</td></tr><tr><td>Zepto</td><td>4.4</td><td>High</td></tr><tr><td>Swiggy Instamart</td><td>3.8</td><td>Medium</td></tr><tr><td>Blinkit</td><td>4.9</td><td>High</td></tr><tr><td>Zepto</td><td>1.9</td><td>Low</td></tr><tr><td>JioMart</td><td>4.0</td><td>Medium</td></tr><tr><td>Zepto</td><td>4.5</td><td>High</td></tr><tr><td>Swiggy Instamart</td><td>1.3</td><td>Low</td></tr><tr><td>Blinkit</td><td>3.7</td><td>Medium</td></tr><tr><td>Zepto</td><td>1.5</td><td>Low</td></tr><tr><td>Blinkit</td><td>1.1</td><td>Low</td></tr><tr><td>JioMart</td><td>2.0</td><td>Low</td></tr><tr><td>Zepto</td><td>3.2</td><td>Medium</td></tr><tr><td>Swiggy Instamart</td><td>1.6</td><td>Low</td></tr><tr><td>Blinkit</td><td>2.5</td><td>Low</td></tr><tr><td>Swiggy Instamart</td><td>1.1</td><td>Low</td></tr><tr><td>Blinkit</td><td>4.2</td><td>High</td></tr><tr><td>Zepto</td><td>3.7</td><td>Medium</td></tr><tr><td>JioMart</td><td>1.3</td><td>Low</td></tr><tr><td>Blinkit</td><td>4.0</td><td>Medium</td></tr><tr><td>Blinkit</td><td>4.0</td><td>Medium</td></tr><tr><td>Zepto</td><td>1.8</td><td>Low</td></tr><tr><td>Swiggy Instamart</td><td>2.1</td><td>Low</td></tr><tr><td>Swiggy Instamart</td><td>2.6</td><td>Low</td></tr><tr><td>Zepto</td><td>4.3</td><td>High</td></tr><tr><td>JioMart</td><td>4.5</td><td>High</td></tr><tr><td>Swiggy Instamart</td><td>4.7</td><td>High</td></tr><tr><td>JioMart</td><td>5.0</td><td>High</td></tr><tr><td>Blinkit</td><td>3.6</td><td>Medium</td></tr><tr><td>Blinkit</td><td>4.1</td><td>High</td></tr><tr><td>Swiggy Instamart</td><td>1.6</td><td>Low</td></tr><tr><td>Blinkit</td><td>4.8</td><td>High</td></tr><tr><td>JioMart</td><td>1.2</td><td>Low</td></tr><tr><td>Swiggy Instamart</td><td>2.0</td><td>Low</td></tr><tr><td>Swiggy Instamart</td><td>3.1</td><td>Medium</td></tr><tr><td>Blinkit</td><td>4.9</td><td>High</td></tr><tr><td>Zepto</td><td>1.0</td><td>Low</td></tr><tr><td>Blinkit</td><td>4.0</td><td>Medium</td></tr><tr><td>Swiggy Instamart</td><td>4.1</td><td>High</td></tr><tr><td>JioMart</td><td>1.8</td><td>Low</td></tr><tr><td>JioMart</td><td>1.1</td><td>Low</td></tr><tr><td>Blinkit</td><td>2.5</td><td>Low</td></tr><tr><td>Zepto</td><td>2.7</td><td>Low</td></tr><tr><td>Swiggy Instamart</td><td>2.2</td><td>Low</td></tr><tr><td>Blinkit</td><td>2.9</td><td>Low</td></tr><tr><td>Swiggy Instamart</td><td>4.7</td><td>High</td></tr><tr><td>Swiggy Instamart</td><td>2.8</td><td>Low</td></tr><tr><td>Swiggy Instamart</td><td>1.0</td><td>Low</td></tr><tr><td>Zepto</td><td>3.2</td><td>Medium</td></tr><tr><td>Zepto</td><td>1.3</td><td>Low</td></tr><tr><td>Zepto</td><td>2.3</td><td>Low</td></tr><tr><td>JioMart</td><td>4.8</td><td>High</td></tr><tr><td>Blinkit</td><td>4.9</td><td>High</td></tr><tr><td>JioMart</td><td>1.0</td><td>Low</td></tr><tr><td>JioMart</td><td>3.1</td><td>Medium</td></tr><tr><td>Swiggy Instamart</td><td>4.1</td><td>High</td></tr><tr><td>Blinkit</td><td>1.9</td><td>Low</td></tr><tr><td>JioMart</td><td>2.2</td><td>Low</td></tr><tr><td>Zepto</td><td>3.1</td><td>Medium</td></tr><tr><td>Zepto</td><td>4.0</td><td>Medium</td></tr><tr><td>Zepto</td><td>1.4</td><td>Low</td></tr><tr><td>Zepto</td><td>1.7</td><td>Low</td></tr><tr><td>Blinkit</td><td>2.5</td><td>Low</td></tr><tr><td>Blinkit</td><td>1.1</td><td>Low</td></tr><tr><td>JioMart</td><td>1.2</td><td>Low</td></tr><tr><td>Swiggy Instamart</td><td>4.9</td><td>High</td></tr><tr><td>JioMart</td><td>3.4</td><td>Medium</td></tr><tr><td>Blinkit</td><td>1.9</td><td>Low</td></tr><tr><td>Swiggy Instamart</td><td>2.9</td><td>Low</td></tr><tr><td>JioMart</td><td>4.4</td><td>High</td></tr><tr><td>Zepto</td><td>1.7</td><td>Low</td></tr><tr><td>Zepto</td><td>1.9</td><td>Low</td></tr><tr><td>Zepto</td><td>1.1</td><td>Low</td></tr><tr><td>JioMart</td><td>2.7</td><td>Low</td></tr><tr><td>Swiggy Instamart</td><td>3.3</td><td>Medium</td></tr><tr><td>JioMart</td><td>4.7</td><td>High</td></tr><tr><td>JioMart</td><td>3.6</td><td>Medium</td></tr><tr><td>Zepto</td><td>1.6</td><td>Low</td></tr><tr><td>Zepto</td><td>4.7</td><td>High</td></tr><tr><td>Swiggy Instamart</td><td>2.7</td><td>Low</td></tr><tr><td>Swiggy Instamart</td><td>1.1</td><td>Low</td></tr><tr><td>Swiggy Instamart</td><td>4.3</td><td>High</td></tr><tr><td>Blinkit</td><td>4.4</td><td>High</td></tr><tr><td>Swiggy Instamart</td><td>3.9</td><td>Medium</td></tr><tr><td>Blinkit</td><td>3.8</td><td>Medium</td></tr><tr><td>Zepto</td><td>3.9</td><td>Medium</td></tr><tr><td>JioMart</td><td>4.4</td><td>High</td></tr><tr><td>Swiggy Instamart</td><td>2.7</td><td>Low</td></tr><tr><td>Swiggy Instamart</td><td>1.1</td><td>Low</td></tr><tr><td>Swiggy Instamart</td><td>2.5</td><td>Low</td></tr><tr><td>JioMart</td><td>1.9</td><td>Low</td></tr><tr><td>Blinkit</td><td>1.1</td><td>Low</td></tr><tr><td>Swiggy Instamart</td><td>2.4</td><td>Low</td></tr><tr><td>Zepto</td><td>2.2</td><td>Low</td></tr><tr><td>JioMart</td><td>2.2</td><td>Low</td></tr><tr><td>Swiggy Instamart</td><td>1.9</td><td>Low</td></tr><tr><td>JioMart</td><td>3.9</td><td>Medium</td></tr><tr><td>Blinkit</td><td>2.9</td><td>Low</td></tr><tr><td>JioMart</td><td>1.6</td><td>Low</td></tr><tr><td>JioMart</td><td>4.2</td><td>High</td></tr><tr><td>Swiggy Instamart</td><td>2.6</td><td>Low</td></tr><tr><td>Swiggy Instamart</td><td>1.4</td><td>Low</td></tr><tr><td>Swiggy Instamart</td><td>2.7</td><td>Low</td></tr><tr><td>Swiggy Instamart</td><td>3.3</td><td>Medium</td></tr><tr><td>JioMart</td><td>3.2</td><td>Medium</td></tr><tr><td>JioMart</td><td>3.6</td><td>Medium</td></tr><tr><td>Swiggy Instamart</td><td>1.8</td><td>Low</td></tr><tr><td>Blinkit</td><td>2.6</td><td>Low</td></tr><tr><td>Zepto</td><td>4.0</td><td>Medium</td></tr><tr><td>Blinkit</td><td>4.7</td><td>High</td></tr><tr><td>Blinkit</td><td>3.9</td><td>Medium</td></tr><tr><td>Blinkit</td><td>1.9</td><td>Low</td></tr><tr><td>Zepto</td><td>4.9</td><td>High</td></tr><tr><td>Blinkit</td><td>4.9</td><td>High</td></tr><tr><td>Swiggy Instamart</td><td>1.7</td><td>Low</td></tr><tr><td>Swiggy Instamart</td><td>2.1</td><td>Low</td></tr><tr><td>JioMart</td><td>2.2</td><td>Low</td></tr><tr><td>Blinkit</td><td>4.4</td><td>High</td></tr><tr><td>JioMart</td><td>4.1</td><td>High</td></tr><tr><td>Blinkit</td><td>3.7</td><td>Medium</td></tr><tr><td>JioMart</td><td>4.4</td><td>High</td></tr><tr><td>Zepto</td><td>1.7</td><td>Low</td></tr><tr><td>JioMart</td><td>4.9</td><td>High</td></tr><tr><td>Blinkit</td><td>2.3</td><td>Low</td></tr><tr><td>Swiggy Instamart</td><td>3.2</td><td>Medium</td></tr><tr><td>JioMart</td><td>2.3</td><td>Low</td></tr><tr><td>Blinkit</td><td>1.1</td><td>Low</td></tr><tr><td>JioMart</td><td>4.4</td><td>High</td></tr><tr><td>Blinkit</td><td>2.3</td><td>Low</td></tr><tr><td>Swiggy Instamart</td><td>3.9</td><td>Medium</td></tr><tr><td>Zepto</td><td>1.7</td><td>Low</td></tr><tr><td>Zepto</td><td>2.9</td><td>Low</td></tr><tr><td>Swiggy Instamart</td><td>1.0</td><td>Low</td></tr><tr><td>Swiggy Instamart</td><td>2.0</td><td>Low</td></tr><tr><td>Blinkit</td><td>3.6</td><td>Medium</td></tr><tr><td>Zepto</td><td>1.5</td><td>Low</td></tr><tr><td>Blinkit</td><td>3.4</td><td>Medium</td></tr><tr><td>Swiggy Instamart</td><td>2.6</td><td>Low</td></tr><tr><td>JioMart</td><td>1.4</td><td>Low</td></tr><tr><td>Blinkit</td><td>4.0</td><td>Medium</td></tr><tr><td>Swiggy Instamart</td><td>1.9</td><td>Low</td></tr><tr><td>Swiggy Instamart</td><td>2.3</td><td>Low</td></tr><tr><td>Zepto</td><td>3.2</td><td>Medium</td></tr><tr><td>JioMart</td><td>1.8</td><td>Low</td></tr><tr><td>Zepto</td><td>1.1</td><td>Low</td></tr><tr><td>Blinkit</td><td>4.0</td><td>Medium</td></tr><tr><td>Swiggy Instamart</td><td>1.7</td><td>Low</td></tr><tr><td>Zepto</td><td>4.6</td><td>High</td></tr><tr><td>JioMart</td><td>4.4</td><td>High</td></tr><tr><td>Blinkit</td><td>4.7</td><td>High</td></tr><tr><td>Swiggy Instamart</td><td>3.8</td><td>Medium</td></tr><tr><td>JioMart</td><td>4.2</td><td>High</td></tr><tr><td>Zepto</td><td>4.0</td><td>Medium</td></tr><tr><td>Swiggy Instamart</td><td>3.8</td><td>Medium</td></tr><tr><td>Zepto</td><td>1.7</td><td>Low</td></tr><tr><td>JioMart</td><td>3.2</td><td>Medium</td></tr><tr><td>Swiggy Instamart</td><td>3.4</td><td>Medium</td></tr><tr><td>Zepto</td><td>4.2</td><td>High</td></tr><tr><td>Zepto</td><td>3.7</td><td>Medium</td></tr><tr><td>JioMart</td><td>2.1</td><td>Low</td></tr><tr><td>Blinkit</td><td>2.7</td><td>Low</td></tr><tr><td>Swiggy Instamart</td><td>3.1</td><td>Medium</td></tr><tr><td>Blinkit</td><td>3.7</td><td>Medium</td></tr><tr><td>Blinkit</td><td>5.0</td><td>High</td></tr><tr><td>Zepto</td><td>3.5</td><td>Medium</td></tr><tr><td>JioMart</td><td>3.4</td><td>Medium</td></tr><tr><td>Blinkit</td><td>4.1</td><td>High</td></tr><tr><td>Zepto</td><td>2.7</td><td>Low</td></tr><tr><td>Swiggy Instamart</td><td>2.4</td><td>Low</td></tr><tr><td>Blinkit</td><td>3.6</td><td>Medium</td></tr><tr><td>Blinkit</td><td>5.0</td><td>High</td></tr><tr><td>Zepto</td><td>4.1</td><td>High</td></tr><tr><td>Swiggy Instamart</td><td>3.1</td><td>Medium</td></tr><tr><td>Swiggy Instamart</td><td>1.2</td><td>Low</td></tr><tr><td>JioMart</td><td>1.2</td><td>Low</td></tr><tr><td>Swiggy Instamart</td><td>3.0</td><td>Medium</td></tr><tr><td>Swiggy Instamart</td><td>4.9</td><td>High</td></tr><tr><td>Swiggy Instamart</td><td>4.7</td><td>High</td></tr><tr><td>Swiggy Instamart</td><td>1.7</td><td>Low</td></tr><tr><td>JioMart</td><td>1.3</td><td>Low</td></tr><tr><td>Swiggy Instamart</td><td>4.6</td><td>High</td></tr><tr><td>Swiggy Instamart</td><td>2.4</td><td>Low</td></tr><tr><td>Swiggy Instamart</td><td>1.5</td><td>Low</td></tr><tr><td>JioMart</td><td>3.6</td><td>Medium</td></tr><tr><td>Zepto</td><td>1.9</td><td>Low</td></tr><tr><td>JioMart</td><td>2.7</td><td>Low</td></tr><tr><td>Blinkit</td><td>2.8</td><td>Low</td></tr><tr><td>Blinkit</td><td>4.4</td><td>High</td></tr><tr><td>Blinkit</td><td>2.1</td><td>Low</td></tr><tr><td>Zepto</td><td>2.6</td><td>Low</td></tr><tr><td>Swiggy Instamart</td><td>4.3</td><td>High</td></tr><tr><td>Blinkit</td><td>4.6</td><td>High</td></tr><tr><td>JioMart</td><td>3.3</td><td>Medium</td></tr><tr><td>Zepto</td><td>1.4</td><td>Low</td></tr><tr><td>JioMart</td><td>4.8</td><td>High</td></tr><tr><td>Blinkit</td><td>3.4</td><td>Medium</td></tr><tr><td>JioMart</td><td>4.5</td><td>High</td></tr><tr><td>Zepto</td><td>2.9</td><td>Low</td></tr><tr><td>Zepto</td><td>4.1</td><td>High</td></tr><tr><td>JioMart</td><td>4.8</td><td>High</td></tr><tr><td>Blinkit</td><td>2.8</td><td>Low</td></tr><tr><td>Blinkit</td><td>1.4</td><td>Low</td></tr><tr><td>JioMart</td><td>4.4</td><td>High</td></tr><tr><td>Blinkit</td><td>1.5</td><td>Low</td></tr><tr><td>JioMart</td><td>3.0</td><td>Medium</td></tr><tr><td>Blinkit</td><td>1.2</td><td>Low</td></tr><tr><td>Zepto</td><td>1.7</td><td>Low</td></tr><tr><td>Swiggy Instamart</td><td>4.4</td><td>High</td></tr><tr><td>JioMart</td><td>2.2</td><td>Low</td></tr><tr><td>Zepto</td><td>2.2</td><td>Low</td></tr><tr><td>Blinkit</td><td>3.9</td><td>Medium</td></tr><tr><td>Zepto</td><td>1.4</td><td>Low</td></tr><tr><td>Swiggy Instamart</td><td>4.8</td><td>High</td></tr><tr><td>Zepto</td><td>2.8</td><td>Low</td></tr><tr><td>JioMart</td><td>2.7</td><td>Low</td></tr><tr><td>Swiggy Instamart</td><td>4.9</td><td>High</td></tr><tr><td>Swiggy Instamart</td><td>2.3</td><td>Low</td></tr><tr><td>Swiggy Instamart</td><td>2.8</td><td>Low</td></tr><tr><td>JioMart</td><td>1.3</td><td>Low</td></tr><tr><td>Zepto</td><td>1.9</td><td>Low</td></tr><tr><td>JioMart</td><td>2.8</td><td>Low</td></tr><tr><td>JioMart</td><td>4.3</td><td>High</td></tr><tr><td>Swiggy Instamart</td><td>2.6</td><td>Low</td></tr><tr><td>JioMart</td><td>3.6</td><td>Medium</td></tr><tr><td>Zepto</td><td>2.8</td><td>Low</td></tr><tr><td>Blinkit</td><td>1.3</td><td>Low</td></tr><tr><td>Zepto</td><td>3.1</td><td>Medium</td></tr><tr><td>JioMart</td><td>3.8</td><td>Medium</td></tr><tr><td>Swiggy Instamart</td><td>2.6</td><td>Low</td></tr><tr><td>JioMart</td><td>2.8</td><td>Low</td></tr><tr><td>JioMart</td><td>1.1</td><td>Low</td></tr><tr><td>Swiggy Instamart</td><td>4.8</td><td>High</td></tr><tr><td>JioMart</td><td>1.8</td><td>Low</td></tr><tr><td>Blinkit</td><td>1.9</td><td>Low</td></tr><tr><td>Swiggy Instamart</td><td>2.8</td><td>Low</td></tr><tr><td>Swiggy Instamart</td><td>4.7</td><td>High</td></tr><tr><td>Zepto</td><td>4.9</td><td>High</td></tr><tr><td>Swiggy Instamart</td><td>4.8</td><td>High</td></tr><tr><td>Swiggy Instamart</td><td>2.7</td><td>Low</td></tr><tr><td>Swiggy Instamart</td><td>2.4</td><td>Low</td></tr><tr><td>Zepto</td><td>3.1</td><td>Medium</td></tr><tr><td>JioMart</td><td>4.5</td><td>High</td></tr><tr><td>Blinkit</td><td>3.7</td><td>Medium</td></tr><tr><td>JioMart</td><td>2.7</td><td>Low</td></tr><tr><td>Swiggy Instamart</td><td>2.6</td><td>Low</td></tr><tr><td>Swiggy Instamart</td><td>1.1</td><td>Low</td></tr><tr><td>Blinkit</td><td>1.7</td><td>Low</td></tr><tr><td>Swiggy Instamart</td><td>2.2</td><td>Low</td></tr><tr><td>Swiggy Instamart</td><td>2.0</td><td>Low</td></tr><tr><td>JioMart</td><td>2.1</td><td>Low</td></tr><tr><td>Zepto</td><td>3.4</td><td>Medium</td></tr><tr><td>Blinkit</td><td>2.4</td><td>Low</td></tr><tr><td>Blinkit</td><td>3.3</td><td>Medium</td></tr><tr><td>Blinkit</td><td>4.4</td><td>High</td></tr><tr><td>Swiggy Instamart</td><td>4.5</td><td>High</td></tr><tr><td>JioMart</td><td>2.5</td><td>Low</td></tr><tr><td>Blinkit</td><td>2.2</td><td>Low</td></tr><tr><td>Swiggy Instamart</td><td>3.1</td><td>Medium</td></tr><tr><td>JioMart</td><td>2.3</td><td>Low</td></tr><tr><td>Zepto</td><td>2.4</td><td>Low</td></tr><tr><td>JioMart</td><td>3.6</td><td>Medium</td></tr><tr><td>Zepto</td><td>2.8</td><td>Low</td></tr><tr><td>JioMart</td><td>2.5</td><td>Low</td></tr><tr><td>Swiggy Instamart</td><td>1.1</td><td>Low</td></tr><tr><td>Zepto</td><td>4.7</td><td>High</td></tr><tr><td>Swiggy Instamart</td><td>4.3</td><td>High</td></tr><tr><td>Swiggy Instamart</td><td>3.5</td><td>Medium</td></tr><tr><td>Zepto</td><td>5.0</td><td>High</td></tr><tr><td>Zepto</td><td>1.5</td><td>Low</td></tr><tr><td>Swiggy Instamart</td><td>2.7</td><td>Low</td></tr><tr><td>Blinkit</td><td>3.8</td><td>Medium</td></tr><tr><td>Zepto</td><td>2.1</td><td>Low</td></tr><tr><td>Zepto</td><td>4.1</td><td>High</td></tr><tr><td>Swiggy Instamart</td><td>4.2</td><td>High</td></tr><tr><td>Swiggy Instamart</td><td>3.1</td><td>Medium</td></tr><tr><td>Zepto</td><td>4.7</td><td>High</td></tr><tr><td>Swiggy Instamart</td><td>1.5</td><td>Low</td></tr><tr><td>Swiggy Instamart</td><td>4.8</td><td>High</td></tr><tr><td>Blinkit</td><td>1.1</td><td>Low</td></tr><tr><td>Zepto</td><td>1.7</td><td>Low</td></tr><tr><td>Swiggy Instamart</td><td>4.1</td><td>High</td></tr><tr><td>JioMart</td><td>4.1</td><td>High</td></tr><tr><td>JioMart</td><td>4.6</td><td>High</td></tr><tr><td>Zepto</td><td>4.9</td><td>High</td></tr><tr><td>Blinkit</td><td>4.4</td><td>High</td></tr><tr><td>Zepto</td><td>1.2</td><td>Low</td></tr><tr><td>Zepto</td><td>4.1</td><td>High</td></tr><tr><td>Zepto</td><td>4.7</td><td>High</td></tr><tr><td>Swiggy Instamart</td><td>2.1</td><td>Low</td></tr><tr><td>Zepto</td><td>4.9</td><td>High</td></tr><tr><td>Zepto</td><td>1.7</td><td>Low</td></tr><tr><td>JioMart</td><td>2.1</td><td>Low</td></tr><tr><td>Swiggy Instamart</td><td>2.6</td><td>Low</td></tr><tr><td>JioMart</td><td>3.3</td><td>Medium</td></tr><tr><td>Blinkit</td><td>2.5</td><td>Low</td></tr><tr><td>Zepto</td><td>4.2</td><td>High</td></tr><tr><td>Swiggy Instamart</td><td>3.4</td><td>Medium</td></tr><tr><td>Zepto</td><td>4.2</td><td>High</td></tr><tr><td>Blinkit</td><td>1.2</td><td>Low</td></tr><tr><td>Blinkit</td><td>1.2</td><td>Low</td></tr><tr><td>Blinkit</td><td>3.0</td><td>Medium</td></tr><tr><td>Zepto</td><td>2.0</td><td>Low</td></tr><tr><td>Zepto</td><td>4.1</td><td>High</td></tr><tr><td>Blinkit</td><td>4.3</td><td>High</td></tr><tr><td>Blinkit</td><td>3.2</td><td>Medium</td></tr><tr><td>JioMart</td><td>2.8</td><td>Low</td></tr><tr><td>Zepto</td><td>2.2</td><td>Low</td></tr><tr><td>Zepto</td><td>4.2</td><td>High</td></tr><tr><td>Zepto</td><td>2.5</td><td>Low</td></tr><tr><td>JioMart</td><td>3.4</td><td>Medium</td></tr><tr><td>Zepto</td><td>2.9</td><td>Low</td></tr><tr><td>JioMart</td><td>1.5</td><td>Low</td></tr><tr><td>JioMart</td><td>1.7</td><td>Low</td></tr><tr><td>Swiggy Instamart</td><td>1.5</td><td>Low</td></tr><tr><td>Zepto</td><td>3.8</td><td>Medium</td></tr><tr><td>Swiggy Instamart</td><td>4.4</td><td>High</td></tr><tr><td>Blinkit</td><td>2.1</td><td>Low</td></tr><tr><td>JioMart</td><td>3.8</td><td>Medium</td></tr><tr><td>Blinkit</td><td>3.5</td><td>Medium</td></tr><tr><td>JioMart</td><td>2.8</td><td>Low</td></tr><tr><td>JioMart</td><td>1.3</td><td>Low</td></tr><tr><td>Blinkit</td><td>1.1</td><td>Low</td></tr><tr><td>Blinkit</td><td>2.6</td><td>Low</td></tr><tr><td>Blinkit</td><td>1.7</td><td>Low</td></tr><tr><td>Zepto</td><td>1.7</td><td>Low</td></tr><tr><td>Swiggy Instamart</td><td>4.0</td><td>Medium</td></tr><tr><td>Zepto</td><td>3.3</td><td>Medium</td></tr><tr><td>Blinkit</td><td>1.3</td><td>Low</td></tr><tr><td>Zepto</td><td>4.1</td><td>High</td></tr><tr><td>Swiggy Instamart</td><td>4.7</td><td>High</td></tr><tr><td>Swiggy Instamart</td><td>2.1</td><td>Low</td></tr><tr><td>Swiggy Instamart</td><td>2.8</td><td>Low</td></tr><tr><td>Zepto</td><td>4.9</td><td>High</td></tr><tr><td>Swiggy Instamart</td><td>3.0</td><td>Medium</td></tr><tr><td>JioMart</td><td>4.8</td><td>High</td></tr><tr><td>Blinkit</td><td>4.8</td><td>High</td></tr><tr><td>Swiggy Instamart</td><td>2.9</td><td>Low</td></tr><tr><td>Zepto</td><td>4.7</td><td>High</td></tr><tr><td>Swiggy Instamart</td><td>4.5</td><td>High</td></tr><tr><td>Blinkit</td><td>2.7</td><td>Low</td></tr><tr><td>Blinkit</td><td>4.6</td><td>High</td></tr><tr><td>JioMart</td><td>3.1</td><td>Medium</td></tr><tr><td>Zepto</td><td>4.3</td><td>High</td></tr><tr><td>Blinkit</td><td>2.5</td><td>Low</td></tr><tr><td>JioMart</td><td>2.1</td><td>Low</td></tr><tr><td>JioMart</td><td>4.4</td><td>High</td></tr><tr><td>JioMart</td><td>2.9</td><td>Low</td></tr><tr><td>Zepto</td><td>3.1</td><td>Medium</td></tr><tr><td>Blinkit</td><td>3.5</td><td>Medium</td></tr><tr><td>Zepto</td><td>2.4</td><td>Low</td></tr><tr><td>JioMart</td><td>1.3</td><td>Low</td></tr><tr><td>Zepto</td><td>3.6</td><td>Medium</td></tr><tr><td>Zepto</td><td>4.1</td><td>High</td></tr><tr><td>Blinkit</td><td>1.3</td><td>Low</td></tr><tr><td>Blinkit</td><td>2.7</td><td>Low</td></tr><tr><td>Swiggy Instamart</td><td>2.5</td><td>Low</td></tr><tr><td>JioMart</td><td>4.3</td><td>High</td></tr><tr><td>Zepto</td><td>2.1</td><td>Low</td></tr><tr><td>Blinkit</td><td>2.6</td><td>Low</td></tr><tr><td>JioMart</td><td>1.6</td><td>Low</td></tr><tr><td>Blinkit</td><td>1.3</td><td>Low</td></tr><tr><td>Blinkit</td><td>1.8</td><td>Low</td></tr><tr><td>JioMart</td><td>4.8</td><td>High</td></tr><tr><td>JioMart</td><td>3.4</td><td>Medium</td></tr><tr><td>Swiggy Instamart</td><td>3.0</td><td>Medium</td></tr><tr><td>JioMart</td><td>3.3</td><td>Medium</td></tr><tr><td>Swiggy Instamart</td><td>3.6</td><td>Medium</td></tr><tr><td>Swiggy Instamart</td><td>3.7</td><td>Medium</td></tr><tr><td>Blinkit</td><td>2.2</td><td>Low</td></tr><tr><td>Zepto</td><td>4.4</td><td>High</td></tr><tr><td>Swiggy Instamart</td><td>2.9</td><td>Low</td></tr><tr><td>Blinkit</td><td>4.1</td><td>High</td></tr><tr><td>Zepto</td><td>4.6</td><td>High</td></tr><tr><td>Blinkit</td><td>4.8</td><td>High</td></tr><tr><td>Swiggy Instamart</td><td>4.7</td><td>High</td></tr><tr><td>Blinkit</td><td>1.8</td><td>Low</td></tr><tr><td>Zepto</td><td>3.9</td><td>Medium</td></tr><tr><td>Blinkit</td><td>1.3</td><td>Low</td></tr><tr><td>Blinkit</td><td>2.1</td><td>Low</td></tr><tr><td>JioMart</td><td>4.5</td><td>High</td></tr><tr><td>JioMart</td><td>2.1</td><td>Low</td></tr><tr><td>Swiggy Instamart</td><td>1.5</td><td>Low</td></tr><tr><td>Blinkit</td><td>3.3</td><td>Medium</td></tr><tr><td>Zepto</td><td>1.9</td><td>Low</td></tr><tr><td>Zepto</td><td>1.1</td><td>Low</td></tr><tr><td>Blinkit</td><td>4.7</td><td>High</td></tr><tr><td>Blinkit</td><td>5.0</td><td>High</td></tr><tr><td>Zepto</td><td>1.4</td><td>Low</td></tr><tr><td>Zepto</td><td>4.8</td><td>High</td></tr><tr><td>Swiggy Instamart</td><td>1.8</td><td>Low</td></tr><tr><td>JioMart</td><td>2.1</td><td>Low</td></tr><tr><td>Swiggy Instamart</td><td>2.4</td><td>Low</td></tr><tr><td>Swiggy Instamart</td><td>4.5</td><td>High</td></tr><tr><td>Swiggy Instamart</td><td>3.9</td><td>Medium</td></tr><tr><td>Zepto</td><td>1.6</td><td>Low</td></tr><tr><td>Blinkit</td><td>3.0</td><td>Medium</td></tr><tr><td>Blinkit</td><td>4.3</td><td>High</td></tr><tr><td>JioMart</td><td>3.8</td><td>Medium</td></tr><tr><td>Blinkit</td><td>5.0</td><td>High</td></tr><tr><td>Zepto</td><td>2.2</td><td>Low</td></tr><tr><td>Swiggy Instamart</td><td>2.9</td><td>Low</td></tr><tr><td>Blinkit</td><td>2.2</td><td>Low</td></tr><tr><td>Zepto</td><td>2.9</td><td>Low</td></tr><tr><td>JioMart</td><td>3.2</td><td>Medium</td></tr><tr><td>Blinkit</td><td>2.6</td><td>Low</td></tr><tr><td>Zepto</td><td>3.7</td><td>Medium</td></tr><tr><td>Swiggy Instamart</td><td>3.0</td><td>Medium</td></tr><tr><td>JioMart</td><td>1.5</td><td>Low</td></tr><tr><td>Swiggy Instamart</td><td>4.3</td><td>High</td></tr><tr><td>Blinkit</td><td>4.0</td><td>Medium</td></tr><tr><td>JioMart</td><td>3.6</td><td>Medium</td></tr><tr><td>JioMart</td><td>3.2</td><td>Medium</td></tr><tr><td>Blinkit</td><td>1.5</td><td>Low</td></tr><tr><td>JioMart</td><td>2.7</td><td>Low</td></tr><tr><td>Zepto</td><td>1.5</td><td>Low</td></tr><tr><td>JioMart</td><td>2.7</td><td>Low</td></tr><tr><td>JioMart</td><td>3.0</td><td>Medium</td></tr><tr><td>JioMart</td><td>2.3</td><td>Low</td></tr><tr><td>Swiggy Instamart</td><td>3.3</td><td>Medium</td></tr><tr><td>Swiggy Instamart</td><td>4.6</td><td>High</td></tr><tr><td>Swiggy Instamart</td><td>3.1</td><td>Medium</td></tr><tr><td>JioMart</td><td>3.5</td><td>Medium</td></tr><tr><td>Swiggy Instamart</td><td>3.7</td><td>Medium</td></tr><tr><td>Swiggy Instamart</td><td>2.5</td><td>Low</td></tr><tr><td>Zepto</td><td>3.6</td><td>Medium</td></tr><tr><td>Blinkit</td><td>2.5</td><td>Low</td></tr><tr><td>Blinkit</td><td>2.2</td><td>Low</td></tr><tr><td>Zepto</td><td>4.2</td><td>High</td></tr><tr><td>Swiggy Instamart</td><td>2.9</td><td>Low</td></tr><tr><td>Blinkit</td><td>3.5</td><td>Medium</td></tr><tr><td>Zepto</td><td>1.3</td><td>Low</td></tr><tr><td>JioMart</td><td>2.5</td><td>Low</td></tr><tr><td>Swiggy Instamart</td><td>2.6</td><td>Low</td></tr><tr><td>Zepto</td><td>4.0</td><td>Medium</td></tr><tr><td>Zepto</td><td>1.6</td><td>Low</td></tr><tr><td>JioMart</td><td>4.1</td><td>High</td></tr><tr><td>Blinkit</td><td>4.1</td><td>High</td></tr><tr><td>JioMart</td><td>4.3</td><td>High</td></tr><tr><td>JioMart</td><td>2.1</td><td>Low</td></tr><tr><td>Zepto</td><td>2.8</td><td>Low</td></tr><tr><td>Swiggy Instamart</td><td>1.1</td><td>Low</td></tr><tr><td>Swiggy Instamart</td><td>4.9</td><td>High</td></tr><tr><td>JioMart</td><td>1.6</td><td>Low</td></tr><tr><td>Zepto</td><td>2.9</td><td>Low</td></tr><tr><td>Swiggy Instamart</td><td>1.6</td><td>Low</td></tr><tr><td>Blinkit</td><td>1.1</td><td>Low</td></tr><tr><td>Swiggy Instamart</td><td>4.8</td><td>High</td></tr><tr><td>JioMart</td><td>4.0</td><td>Medium</td></tr><tr><td>Blinkit</td><td>4.5</td><td>High</td></tr><tr><td>Blinkit</td><td>4.3</td><td>High</td></tr><tr><td>Blinkit</td><td>1.7</td><td>Low</td></tr><tr><td>Blinkit</td><td>1.8</td><td>Low</td></tr><tr><td>Zepto</td><td>3.7</td><td>Medium</td></tr><tr><td>Zepto</td><td>1.8</td><td>Low</td></tr><tr><td>Blinkit</td><td>3.2</td><td>Medium</td></tr><tr><td>JioMart</td><td>3.1</td><td>Medium</td></tr><tr><td>Zepto</td><td>4.6</td><td>High</td></tr><tr><td>Swiggy Instamart</td><td>3.4</td><td>Medium</td></tr><tr><td>Blinkit</td><td>1.4</td><td>Low</td></tr><tr><td>JioMart</td><td>1.6</td><td>Low</td></tr><tr><td>Zepto</td><td>4.9</td><td>High</td></tr><tr><td>Zepto</td><td>2.6</td><td>Low</td></tr><tr><td>Blinkit</td><td>1.9</td><td>Low</td></tr><tr><td>Swiggy Instamart</td><td>1.6</td><td>Low</td></tr><tr><td>JioMart</td><td>3.7</td><td>Medium</td></tr><tr><td>JioMart</td><td>1.4</td><td>Low</td></tr><tr><td>Swiggy Instamart</td><td>4.1</td><td>High</td></tr><tr><td>Blinkit</td><td>4.0</td><td>Medium</td></tr><tr><td>Blinkit</td><td>3.1</td><td>Medium</td></tr><tr><td>JioMart</td><td>3.7</td><td>Medium</td></tr><tr><td>Zepto</td><td>4.4</td><td>High</td></tr><tr><td>JioMart</td><td>2.0</td><td>Low</td></tr><tr><td>Blinkit</td><td>4.5</td><td>High</td></tr><tr><td>JioMart</td><td>2.9</td><td>Low</td></tr><tr><td>JioMart</td><td>2.0</td><td>Low</td></tr><tr><td>Swiggy Instamart</td><td>1.7</td><td>Low</td></tr><tr><td>Swiggy Instamart</td><td>2.5</td><td>Low</td></tr><tr><td>Swiggy Instamart</td><td>4.6</td><td>High</td></tr><tr><td>Blinkit</td><td>4.2</td><td>High</td></tr><tr><td>Zepto</td><td>2.8</td><td>Low</td></tr><tr><td>Blinkit</td><td>2.9</td><td>Low</td></tr><tr><td>Blinkit</td><td>3.1</td><td>Medium</td></tr><tr><td>Zepto</td><td>3.0</td><td>Medium</td></tr><tr><td>Swiggy Instamart</td><td>3.0</td><td>Medium</td></tr><tr><td>Blinkit</td><td>1.0</td><td>Low</td></tr><tr><td>Swiggy Instamart</td><td>1.2</td><td>Low</td></tr><tr><td>Swiggy Instamart</td><td>4.0</td><td>Medium</td></tr><tr><td>Zepto</td><td>1.3</td><td>Low</td></tr><tr><td>Zepto</td><td>3.5</td><td>Medium</td></tr><tr><td>Zepto</td><td>1.9</td><td>Low</td></tr><tr><td>Zepto</td><td>1.4</td><td>Low</td></tr><tr><td>Zepto</td><td>1.9</td><td>Low</td></tr><tr><td>JioMart</td><td>2.3</td><td>Low</td></tr><tr><td>JioMart</td><td>3.7</td><td>Medium</td></tr><tr><td>Blinkit</td><td>4.1</td><td>High</td></tr><tr><td>Swiggy Instamart</td><td>4.5</td><td>High</td></tr><tr><td>JioMart</td><td>2.0</td><td>Low</td></tr><tr><td>Blinkit</td><td>2.1</td><td>Low</td></tr><tr><td>Blinkit</td><td>4.9</td><td>High</td></tr><tr><td>Swiggy Instamart</td><td>1.5</td><td>Low</td></tr><tr><td>Blinkit</td><td>2.9</td><td>Low</td></tr><tr><td>Blinkit</td><td>4.2</td><td>High</td></tr><tr><td>Swiggy Instamart</td><td>4.7</td><td>High</td></tr><tr><td>JioMart</td><td>1.1</td><td>Low</td></tr><tr><td>Blinkit</td><td>1.4</td><td>Low</td></tr><tr><td>Zepto</td><td>3.0</td><td>Medium</td></tr><tr><td>Swiggy Instamart</td><td>2.2</td><td>Low</td></tr><tr><td>Zepto</td><td>1.5</td><td>Low</td></tr><tr><td>Swiggy Instamart</td><td>1.3</td><td>Low</td></tr><tr><td>JioMart</td><td>2.2</td><td>Low</td></tr><tr><td>Zepto</td><td>1.9</td><td>Low</td></tr><tr><td>Swiggy Instamart</td><td>1.4</td><td>Low</td></tr><tr><td>Zepto</td><td>1.2</td><td>Low</td></tr><tr><td>Blinkit</td><td>1.5</td><td>Low</td></tr><tr><td>Swiggy Instamart</td><td>1.7</td><td>Low</td></tr><tr><td>Zepto</td><td>1.4</td><td>Low</td></tr><tr><td>Swiggy Instamart</td><td>2.8</td><td>Low</td></tr><tr><td>Blinkit</td><td>3.8</td><td>Medium</td></tr><tr><td>Swiggy Instamart</td><td>1.9</td><td>Low</td></tr><tr><td>Zepto</td><td>1.6</td><td>Low</td></tr><tr><td>Blinkit</td><td>1.7</td><td>Low</td></tr><tr><td>Blinkit</td><td>4.9</td><td>High</td></tr><tr><td>Zepto</td><td>1.5</td><td>Low</td></tr><tr><td>JioMart</td><td>2.8</td><td>Low</td></tr><tr><td>Swiggy Instamart</td><td>2.3</td><td>Low</td></tr><tr><td>Swiggy Instamart</td><td>4.3</td><td>High</td></tr><tr><td>Blinkit</td><td>3.2</td><td>Medium</td></tr><tr><td>Blinkit</td><td>1.9</td><td>Low</td></tr><tr><td>JioMart</td><td>1.2</td><td>Low</td></tr><tr><td>Blinkit</td><td>4.7</td><td>High</td></tr><tr><td>JioMart</td><td>2.4</td><td>Low</td></tr><tr><td>JioMart</td><td>2.4</td><td>Low</td></tr><tr><td>Zepto</td><td>2.7</td><td>Low</td></tr><tr><td>Zepto</td><td>4.5</td><td>High</td></tr><tr><td>Swiggy Instamart</td><td>3.0</td><td>Medium</td></tr><tr><td>Swiggy Instamart</td><td>2.4</td><td>Low</td></tr><tr><td>JioMart</td><td>2.5</td><td>Low</td></tr><tr><td>JioMart</td><td>1.2</td><td>Low</td></tr><tr><td>JioMart</td><td>4.5</td><td>High</td></tr><tr><td>JioMart</td><td>3.6</td><td>Medium</td></tr><tr><td>Zepto</td><td>1.8</td><td>Low</td></tr><tr><td>Swiggy Instamart</td><td>2.1</td><td>Low</td></tr><tr><td>JioMart</td><td>3.9</td><td>Medium</td></tr><tr><td>Blinkit</td><td>1.3</td><td>Low</td></tr><tr><td>JioMart</td><td>2.2</td><td>Low</td></tr><tr><td>Zepto</td><td>3.6</td><td>Medium</td></tr><tr><td>Blinkit</td><td>4.5</td><td>High</td></tr><tr><td>Blinkit</td><td>1.8</td><td>Low</td></tr><tr><td>Swiggy Instamart</td><td>3.3</td><td>Medium</td></tr><tr><td>Swiggy Instamart</td><td>2.5</td><td>Low</td></tr><tr><td>Zepto</td><td>4.8</td><td>High</td></tr><tr><td>Zepto</td><td>4.7</td><td>High</td></tr><tr><td>JioMart</td><td>1.4</td><td>Low</td></tr><tr><td>Blinkit</td><td>3.3</td><td>Medium</td></tr><tr><td>Blinkit</td><td>2.6</td><td>Low</td></tr><tr><td>JioMart</td><td>1.5</td><td>Low</td></tr><tr><td>Zepto</td><td>5.0</td><td>High</td></tr><tr><td>Zepto</td><td>4.7</td><td>High</td></tr><tr><td>Blinkit</td><td>3.2</td><td>Medium</td></tr><tr><td>Swiggy Instamart</td><td>1.5</td><td>Low</td></tr><tr><td>Zepto</td><td>3.2</td><td>Medium</td></tr><tr><td>Blinkit</td><td>4.2</td><td>High</td></tr><tr><td>Swiggy Instamart</td><td>1.8</td><td>Low</td></tr><tr><td>Zepto</td><td>3.9</td><td>Medium</td></tr><tr><td>JioMart</td><td>4.3</td><td>High</td></tr><tr><td>JioMart</td><td>1.2</td><td>Low</td></tr><tr><td>Zepto</td><td>3.2</td><td>Medium</td></tr><tr><td>JioMart</td><td>3.7</td><td>Medium</td></tr><tr><td>Blinkit</td><td>3.6</td><td>Medium</td></tr><tr><td>Swiggy Instamart</td><td>3.9</td><td>Medium</td></tr><tr><td>Swiggy Instamart</td><td>2.7</td><td>Low</td></tr><tr><td>Blinkit</td><td>3.8</td><td>Medium</td></tr><tr><td>Zepto</td><td>4.0</td><td>Medium</td></tr><tr><td>JioMart</td><td>1.5</td><td>Low</td></tr><tr><td>JioMart</td><td>3.1</td><td>Medium</td></tr><tr><td>JioMart</td><td>2.5</td><td>Low</td></tr><tr><td>Zepto</td><td>3.7</td><td>Medium</td></tr><tr><td>Blinkit</td><td>1.4</td><td>Low</td></tr><tr><td>JioMart</td><td>3.0</td><td>Medium</td></tr><tr><td>JioMart</td><td>4.6</td><td>High</td></tr><tr><td>Blinkit</td><td>4.1</td><td>High</td></tr><tr><td>Swiggy Instamart</td><td>4.9</td><td>High</td></tr><tr><td>Zepto</td><td>2.1</td><td>Low</td></tr><tr><td>Blinkit</td><td>1.4</td><td>Low</td></tr><tr><td>Swiggy Instamart</td><td>4.0</td><td>Medium</td></tr><tr><td>JioMart</td><td>2.7</td><td>Low</td></tr><tr><td>Zepto</td><td>2.1</td><td>Low</td></tr><tr><td>Swiggy Instamart</td><td>2.2</td><td>Low</td></tr><tr><td>Blinkit</td><td>3.1</td><td>Medium</td></tr><tr><td>JioMart</td><td>4.2</td><td>High</td></tr><tr><td>Blinkit</td><td>2.9</td><td>Low</td></tr><tr><td>Swiggy Instamart</td><td>3.7</td><td>Medium</td></tr><tr><td>JioMart</td><td>2.9</td><td>Low</td></tr><tr><td>Zepto</td><td>3.3</td><td>Medium</td></tr><tr><td>Zepto</td><td>2.8</td><td>Low</td></tr><tr><td>Blinkit</td><td>2.3</td><td>Low</td></tr><tr><td>JioMart</td><td>4.5</td><td>High</td></tr><tr><td>JioMart</td><td>3.9</td><td>Medium</td></tr><tr><td>JioMart</td><td>1.3</td><td>Low</td></tr><tr><td>Blinkit</td><td>3.8</td><td>Medium</td></tr><tr><td>Blinkit</td><td>1.9</td><td>Low</td></tr><tr><td>JioMart</td><td>3.8</td><td>Medium</td></tr><tr><td>Swiggy Instamart</td><td>3.2</td><td>Medium</td></tr><tr><td>JioMart</td><td>1.2</td><td>Low</td></tr><tr><td>Swiggy Instamart</td><td>2.0</td><td>Low</td></tr><tr><td>JioMart</td><td>1.9</td><td>Low</td></tr><tr><td>Blinkit</td><td>3.0</td><td>Medium</td></tr><tr><td>Zepto</td><td>2.2</td><td>Low</td></tr><tr><td>Zepto</td><td>4.0</td><td>Medium</td></tr><tr><td>JioMart</td><td>1.5</td><td>Low</td></tr><tr><td>JioMart</td><td>4.4</td><td>High</td></tr><tr><td>Swiggy Instamart</td><td>3.3</td><td>Medium</td></tr><tr><td>Swiggy Instamart</td><td>3.0</td><td>Medium</td></tr><tr><td>Blinkit</td><td>1.1</td><td>Low</td></tr><tr><td>Swiggy Instamart</td><td>2.9</td><td>Low</td></tr><tr><td>Zepto</td><td>2.6</td><td>Low</td></tr><tr><td>Blinkit</td><td>3.8</td><td>Medium</td></tr><tr><td>JioMart</td><td>4.0</td><td>Medium</td></tr><tr><td>JioMart</td><td>3.6</td><td>Medium</td></tr><tr><td>JioMart</td><td>3.4</td><td>Medium</td></tr><tr><td>JioMart</td><td>1.5</td><td>Low</td></tr><tr><td>Zepto</td><td>2.8</td><td>Low</td></tr><tr><td>JioMart</td><td>4.6</td><td>High</td></tr><tr><td>Swiggy Instamart</td><td>1.8</td><td>Low</td></tr><tr><td>Zepto</td><td>3.1</td><td>Medium</td></tr><tr><td>Blinkit</td><td>3.2</td><td>Medium</td></tr><tr><td>Zepto</td><td>2.7</td><td>Low</td></tr><tr><td>Zepto</td><td>4.7</td><td>High</td></tr><tr><td>Swiggy Instamart</td><td>1.9</td><td>Low</td></tr><tr><td>Blinkit</td><td>1.3</td><td>Low</td></tr><tr><td>Blinkit</td><td>4.3</td><td>High</td></tr><tr><td>Blinkit</td><td>4.9</td><td>High</td></tr><tr><td>JioMart</td><td>2.1</td><td>Low</td></tr><tr><td>Zepto</td><td>1.9</td><td>Low</td></tr><tr><td>Zepto</td><td>2.7</td><td>Low</td></tr><tr><td>Blinkit</td><td>5.0</td><td>High</td></tr><tr><td>Swiggy Instamart</td><td>4.4</td><td>High</td></tr><tr><td>Blinkit</td><td>4.7</td><td>High</td></tr><tr><td>Zepto</td><td>4.9</td><td>High</td></tr><tr><td>Blinkit</td><td>2.0</td><td>Low</td></tr><tr><td>Blinkit</td><td>4.0</td><td>Medium</td></tr><tr><td>Swiggy Instamart</td><td>4.4</td><td>High</td></tr><tr><td>JioMart</td><td>3.2</td><td>Medium</td></tr><tr><td>Swiggy Instamart</td><td>1.3</td><td>Low</td></tr><tr><td>Blinkit</td><td>1.9</td><td>Low</td></tr><tr><td>Swiggy Instamart</td><td>2.5</td><td>Low</td></tr><tr><td>Swiggy Instamart</td><td>2.8</td><td>Low</td></tr><tr><td>Swiggy Instamart</td><td>2.6</td><td>Low</td></tr><tr><td>Swiggy Instamart</td><td>3.8</td><td>Medium</td></tr><tr><td>Swiggy Instamart</td><td>2.3</td><td>Low</td></tr><tr><td>Swiggy Instamart</td><td>3.5</td><td>Medium</td></tr><tr><td>Swiggy Instamart</td><td>4.3</td><td>High</td></tr><tr><td>Blinkit</td><td>4.8</td><td>High</td></tr><tr><td>Swiggy Instamart</td><td>2.3</td><td>Low</td></tr><tr><td>Swiggy Instamart</td><td>4.8</td><td>High</td></tr><tr><td>Swiggy Instamart</td><td>3.9</td><td>Medium</td></tr><tr><td>JioMart</td><td>1.4</td><td>Low</td></tr><tr><td>Swiggy Instamart</td><td>2.8</td><td>Low</td></tr><tr><td>JioMart</td><td>4.1</td><td>High</td></tr><tr><td>Blinkit</td><td>3.3</td><td>Medium</td></tr><tr><td>JioMart</td><td>2.9</td><td>Low</td></tr><tr><td>Blinkit</td><td>1.4</td><td>Low</td></tr><tr><td>Zepto</td><td>2.2</td><td>Low</td></tr><tr><td>JioMart</td><td>3.4</td><td>Medium</td></tr><tr><td>JioMart</td><td>1.3</td><td>Low</td></tr><tr><td>JioMart</td><td>3.3</td><td>Medium</td></tr><tr><td>Zepto</td><td>4.5</td><td>High</td></tr><tr><td>Zepto</td><td>4.6</td><td>High</td></tr><tr><td>Blinkit</td><td>2.3</td><td>Low</td></tr><tr><td>Blinkit</td><td>3.1</td><td>Medium</td></tr><tr><td>Swiggy Instamart</td><td>2.3</td><td>Low</td></tr><tr><td>Blinkit</td><td>3.6</td><td>Medium</td></tr><tr><td>Zepto</td><td>5.0</td><td>High</td></tr><tr><td>Zepto</td><td>2.8</td><td>Low</td></tr><tr><td>JioMart</td><td>4.8</td><td>High</td></tr><tr><td>Zepto</td><td>2.7</td><td>Low</td></tr><tr><td>JioMart</td><td>2.6</td><td>Low</td></tr><tr><td>Blinkit</td><td>1.4</td><td>Low</td></tr><tr><td>Swiggy Instamart</td><td>1.7</td><td>Low</td></tr><tr><td>Blinkit</td><td>2.2</td><td>Low</td></tr><tr><td>JioMart</td><td>4.9</td><td>High</td></tr><tr><td>Blinkit</td><td>1.7</td><td>Low</td></tr><tr><td>Swiggy Instamart</td><td>3.2</td><td>Medium</td></tr><tr><td>JioMart</td><td>1.5</td><td>Low</td></tr><tr><td>JioMart</td><td>3.8</td><td>Medium</td></tr><tr><td>Swiggy Instamart</td><td>3.3</td><td>Medium</td></tr><tr><td>Blinkit</td><td>1.5</td><td>Low</td></tr><tr><td>Swiggy Instamart</td><td>3.3</td><td>Medium</td></tr><tr><td>Swiggy Instamart</td><td>4.3</td><td>High</td></tr><tr><td>Swiggy Instamart</td><td>4.9</td><td>High</td></tr><tr><td>Blinkit</td><td>3.5</td><td>Medium</td></tr><tr><td>Zepto</td><td>3.0</td><td>Medium</td></tr><tr><td>Zepto</td><td>4.8</td><td>High</td></tr><tr><td>Swiggy Instamart</td><td>1.6</td><td>Low</td></tr><tr><td>Zepto</td><td>2.9</td><td>Low</td></tr><tr><td>Zepto</td><td>4.4</td><td>High</td></tr><tr><td>Zepto</td><td>1.0</td><td>Low</td></tr><tr><td>JioMart</td><td>2.2</td><td>Low</td></tr><tr><td>Blinkit</td><td>3.9</td><td>Medium</td></tr><tr><td>Swiggy Instamart</td><td>3.1</td><td>Medium</td></tr><tr><td>JioMart</td><td>4.2</td><td>High</td></tr><tr><td>Zepto</td><td>4.0</td><td>Medium</td></tr><tr><td>Swiggy Instamart</td><td>2.5</td><td>Low</td></tr><tr><td>Blinkit</td><td>2.4</td><td>Low</td></tr><tr><td>Blinkit</td><td>3.9</td><td>Medium</td></tr><tr><td>Zepto</td><td>3.9</td><td>Medium</td></tr><tr><td>JioMart</td><td>1.7</td><td>Low</td></tr><tr><td>Zepto</td><td>4.0</td><td>Medium</td></tr><tr><td>Zepto</td><td>5.0</td><td>High</td></tr><tr><td>Swiggy Instamart</td><td>1.1</td><td>Low</td></tr><tr><td>Swiggy Instamart</td><td>1.9</td><td>Low</td></tr><tr><td>Zepto</td><td>3.7</td><td>Medium</td></tr><tr><td>Swiggy Instamart</td><td>2.0</td><td>Low</td></tr><tr><td>Zepto</td><td>2.7</td><td>Low</td></tr><tr><td>Zepto</td><td>4.2</td><td>High</td></tr><tr><td>Swiggy Instamart</td><td>4.3</td><td>High</td></tr><tr><td>Blinkit</td><td>2.6</td><td>Low</td></tr><tr><td>Zepto</td><td>2.2</td><td>Low</td></tr><tr><td>JioMart</td><td>1.9</td><td>Low</td></tr><tr><td>Zepto</td><td>3.7</td><td>Medium</td></tr><tr><td>Blinkit</td><td>1.2</td><td>Low</td></tr><tr><td>Zepto</td><td>1.1</td><td>Low</td></tr><tr><td>Blinkit</td><td>4.4</td><td>High</td></tr><tr><td>JioMart</td><td>1.4</td><td>Low</td></tr><tr><td>JioMart</td><td>3.4</td><td>Medium</td></tr><tr><td>JioMart</td><td>3.7</td><td>Medium</td></tr><tr><td>Swiggy Instamart</td><td>3.3</td><td>Medium</td></tr><tr><td>Blinkit</td><td>4.1</td><td>High</td></tr><tr><td>Zepto</td><td>2.6</td><td>Low</td></tr><tr><td>Swiggy Instamart</td><td>2.1</td><td>Low</td></tr><tr><td>Zepto</td><td>2.1</td><td>Low</td></tr><tr><td>Zepto</td><td>4.4</td><td>High</td></tr><tr><td>Swiggy Instamart</td><td>3.1</td><td>Medium</td></tr><tr><td>Blinkit</td><td>4.8</td><td>High</td></tr><tr><td>Blinkit</td><td>2.3</td><td>Low</td></tr><tr><td>Blinkit</td><td>3.0</td><td>Medium</td></tr><tr><td>Blinkit</td><td>3.6</td><td>Medium</td></tr><tr><td>Zepto</td><td>4.3</td><td>High</td></tr><tr><td>Swiggy Instamart</td><td>1.5</td><td>Low</td></tr><tr><td>Zepto</td><td>4.8</td><td>High</td></tr><tr><td>Blinkit</td><td>3.2</td><td>Medium</td></tr><tr><td>JioMart</td><td>3.3</td><td>Medium</td></tr><tr><td>Blinkit</td><td>3.9</td><td>Medium</td></tr><tr><td>Blinkit</td><td>2.1</td><td>Low</td></tr><tr><td>Blinkit</td><td>3.7</td><td>Medium</td></tr><tr><td>Blinkit</td><td>2.8</td><td>Low</td></tr><tr><td>Swiggy Instamart</td><td>1.1</td><td>Low</td></tr><tr><td>JioMart</td><td>2.3</td><td>Low</td></tr><tr><td>JioMart</td><td>2.9</td><td>Low</td></tr><tr><td>Blinkit</td><td>3.1</td><td>Medium</td></tr><tr><td>Swiggy Instamart</td><td>4.3</td><td>High</td></tr><tr><td>JioMart</td><td>2.7</td><td>Low</td></tr><tr><td>Swiggy Instamart</td><td>3.3</td><td>Medium</td></tr><tr><td>Swiggy Instamart</td><td>2.8</td><td>Low</td></tr><tr><td>Blinkit</td><td>3.7</td><td>Medium</td></tr><tr><td>Blinkit</td><td>3.4</td><td>Medium</td></tr><tr><td>JioMart</td><td>1.2</td><td>Low</td></tr><tr><td>Swiggy Instamart</td><td>4.3</td><td>High</td></tr><tr><td>Zepto</td><td>4.2</td><td>High</td></tr><tr><td>JioMart</td><td>4.7</td><td>High</td></tr><tr><td>Swiggy Instamart</td><td>4.2</td><td>High</td></tr><tr><td>Swiggy Instamart</td><td>4.1</td><td>High</td></tr><tr><td>Swiggy Instamart</td><td>3.6</td><td>Medium</td></tr><tr><td>Swiggy Instamart</td><td>4.8</td><td>High</td></tr><tr><td>Swiggy Instamart</td><td>1.8</td><td>Low</td></tr><tr><td>JioMart</td><td>3.8</td><td>Medium</td></tr><tr><td>Zepto</td><td>2.6</td><td>Low</td></tr><tr><td>Blinkit</td><td>1.1</td><td>Low</td></tr><tr><td>Zepto</td><td>3.6</td><td>Medium</td></tr><tr><td>Zepto</td><td>4.9</td><td>High</td></tr><tr><td>Swiggy Instamart</td><td>4.4</td><td>High</td></tr><tr><td>JioMart</td><td>4.1</td><td>High</td></tr><tr><td>Zepto</td><td>1.8</td><td>Low</td></tr><tr><td>Swiggy Instamart</td><td>3.7</td><td>Medium</td></tr><tr><td>Swiggy Instamart</td><td>4.7</td><td>High</td></tr><tr><td>JioMart</td><td>1.6</td><td>Low</td></tr><tr><td>Swiggy Instamart</td><td>4.7</td><td>High</td></tr><tr><td>JioMart</td><td>3.8</td><td>Medium</td></tr><tr><td>Swiggy Instamart</td><td>4.6</td><td>High</td></tr><tr><td>Swiggy Instamart</td><td>1.3</td><td>Low</td></tr><tr><td>JioMart</td><td>2.2</td><td>Low</td></tr><tr><td>Swiggy Instamart</td><td>3.4</td><td>Medium</td></tr><tr><td>JioMart</td><td>3.3</td><td>Medium</td></tr><tr><td>Blinkit</td><td>4.6</td><td>High</td></tr><tr><td>Zepto</td><td>2.7</td><td>Low</td></tr><tr><td>Swiggy Instamart</td><td>3.7</td><td>Medium</td></tr><tr><td>Zepto</td><td>1.1</td><td>Low</td></tr><tr><td>JioMart</td><td>1.0</td><td>Low</td></tr><tr><td>Blinkit</td><td>3.8</td><td>Medium</td></tr><tr><td>Swiggy Instamart</td><td>1.8</td><td>Low</td></tr><tr><td>JioMart</td><td>3.4</td><td>Medium</td></tr><tr><td>Zepto</td><td>2.7</td><td>Low</td></tr><tr><td>JioMart</td><td>4.0</td><td>Medium</td></tr><tr><td>Blinkit</td><td>1.2</td><td>Low</td></tr><tr><td>Blinkit</td><td>4.5</td><td>High</td></tr><tr><td>Zepto</td><td>4.3</td><td>High</td></tr><tr><td>Zepto</td><td>1.3</td><td>Low</td></tr><tr><td>Blinkit</td><td>3.3</td><td>Medium</td></tr><tr><td>Blinkit</td><td>4.1</td><td>High</td></tr><tr><td>Blinkit</td><td>3.1</td><td>Medium</td></tr><tr><td>JioMart</td><td>2.7</td><td>Low</td></tr><tr><td>Zepto</td><td>3.2</td><td>Medium</td></tr><tr><td>JioMart</td><td>2.3</td><td>Low</td></tr><tr><td>Zepto</td><td>1.3</td><td>Low</td></tr><tr><td>JioMart</td><td>1.7</td><td>Low</td></tr><tr><td>Blinkit</td><td>1.1</td><td>Low</td></tr><tr><td>JioMart</td><td>1.2</td><td>Low</td></tr><tr><td>Blinkit</td><td>4.6</td><td>High</td></tr><tr><td>Blinkit</td><td>3.6</td><td>Medium</td></tr><tr><td>JioMart</td><td>1.7</td><td>Low</td></tr><tr><td>Swiggy Instamart</td><td>1.1</td><td>Low</td></tr><tr><td>Zepto</td><td>4.8</td><td>High</td></tr><tr><td>Blinkit</td><td>2.1</td><td>Low</td></tr><tr><td>JioMart</td><td>1.7</td><td>Low</td></tr><tr><td>Blinkit</td><td>3.7</td><td>Medium</td></tr><tr><td>Blinkit</td><td>2.5</td><td>Low</td></tr><tr><td>Swiggy Instamart</td><td>1.7</td><td>Low</td></tr><tr><td>Blinkit</td><td>4.0</td><td>Medium</td></tr><tr><td>Swiggy Instamart</td><td>3.8</td><td>Medium</td></tr><tr><td>Blinkit</td><td>2.7</td><td>Low</td></tr><tr><td>JioMart</td><td>2.1</td><td>Low</td></tr><tr><td>Swiggy Instamart</td><td>1.3</td><td>Low</td></tr><tr><td>Zepto</td><td>3.1</td><td>Medium</td></tr><tr><td>Swiggy Instamart</td><td>4.2</td><td>High</td></tr><tr><td>JioMart</td><td>1.5</td><td>Low</td></tr><tr><td>Blinkit</td><td>3.0</td><td>Medium</td></tr><tr><td>Zepto</td><td>2.9</td><td>Low</td></tr><tr><td>Blinkit</td><td>4.3</td><td>High</td></tr><tr><td>Zepto</td><td>1.7</td><td>Low</td></tr><tr><td>Zepto</td><td>1.1</td><td>Low</td></tr><tr><td>Blinkit</td><td>3.3</td><td>Medium</td></tr><tr><td>Zepto</td><td>2.7</td><td>Low</td></tr><tr><td>Zepto</td><td>1.3</td><td>Low</td></tr><tr><td>Blinkit</td><td>2.9</td><td>Low</td></tr><tr><td>Zepto</td><td>2.3</td><td>Low</td></tr><tr><td>Swiggy Instamart</td><td>2.5</td><td>Low</td></tr><tr><td>JioMart</td><td>2.5</td><td>Low</td></tr><tr><td>Swiggy Instamart</td><td>1.6</td><td>Low</td></tr><tr><td>Blinkit</td><td>4.5</td><td>High</td></tr><tr><td>Zepto</td><td>3.0</td><td>Medium</td></tr><tr><td>Blinkit</td><td>3.8</td><td>Medium</td></tr><tr><td>Blinkit</td><td>4.7</td><td>High</td></tr><tr><td>Zepto</td><td>5.0</td><td>High</td></tr><tr><td>Blinkit</td><td>5.0</td><td>High</td></tr><tr><td>Swiggy Instamart</td><td>3.8</td><td>Medium</td></tr><tr><td>Blinkit</td><td>3.6</td><td>Medium</td></tr><tr><td>JioMart</td><td>5.0</td><td>High</td></tr><tr><td>Blinkit</td><td>4.7</td><td>High</td></tr><tr><td>Zepto</td><td>1.3</td><td>Low</td></tr><tr><td>Swiggy Instamart</td><td>4.5</td><td>High</td></tr><tr><td>Swiggy Instamart</td><td>3.0</td><td>Medium</td></tr><tr><td>Swiggy Instamart</td><td>3.2</td><td>Medium</td></tr><tr><td>Zepto</td><td>3.2</td><td>Medium</td></tr><tr><td>JioMart</td><td>1.2</td><td>Low</td></tr><tr><td>Swiggy Instamart</td><td>3.8</td><td>Medium</td></tr><tr><td>Blinkit</td><td>3.0</td><td>Medium</td></tr><tr><td>Blinkit</td><td>3.1</td><td>Medium</td></tr><tr><td>Blinkit</td><td>1.1</td><td>Low</td></tr><tr><td>JioMart</td><td>4.2</td><td>High</td></tr><tr><td>JioMart</td><td>2.6</td><td>Low</td></tr><tr><td>Swiggy Instamart</td><td>1.5</td><td>Low</td></tr><tr><td>Zepto</td><td>1.5</td><td>Low</td></tr><tr><td>Swiggy Instamart</td><td>4.9</td><td>High</td></tr><tr><td>Swiggy Instamart</td><td>2.2</td><td>Low</td></tr><tr><td>Swiggy Instamart</td><td>1.8</td><td>Low</td></tr><tr><td>Blinkit</td><td>1.4</td><td>Low</td></tr><tr><td>JioMart</td><td>2.8</td><td>Low</td></tr><tr><td>JioMart</td><td>4.8</td><td>High</td></tr><tr><td>Blinkit</td><td>2.4</td><td>Low</td></tr><tr><td>Swiggy Instamart</td><td>1.2</td><td>Low</td></tr><tr><td>Blinkit</td><td>3.8</td><td>Medium</td></tr><tr><td>Zepto</td><td>1.7</td><td>Low</td></tr><tr><td>Swiggy Instamart</td><td>3.3</td><td>Medium</td></tr><tr><td>Swiggy Instamart</td><td>3.8</td><td>Medium</td></tr><tr><td>Swiggy Instamart</td><td>3.0</td><td>Medium</td></tr><tr><td>JioMart</td><td>2.0</td><td>Low</td></tr><tr><td>JioMart</td><td>4.1</td><td>High</td></tr><tr><td>JioMart</td><td>2.8</td><td>Low</td></tr><tr><td>JioMart</td><td>2.4</td><td>Low</td></tr><tr><td>Swiggy Instamart</td><td>3.3</td><td>Medium</td></tr><tr><td>Zepto</td><td>4.3</td><td>High</td></tr><tr><td>Blinkit</td><td>2.7</td><td>Low</td></tr><tr><td>Swiggy Instamart</td><td>4.0</td><td>Medium</td></tr><tr><td>Zepto</td><td>1.6</td><td>Low</td></tr><tr><td>Swiggy Instamart</td><td>1.8</td><td>Low</td></tr><tr><td>Swiggy Instamart</td><td>4.2</td><td>High</td></tr><tr><td>JioMart</td><td>1.7</td><td>Low</td></tr><tr><td>Zepto</td><td>3.7</td><td>Medium</td></tr><tr><td>JioMart</td><td>3.5</td><td>Medium</td></tr><tr><td>Zepto</td><td>4.5</td><td>High</td></tr><tr><td>Zepto</td><td>1.2</td><td>Low</td></tr><tr><td>JioMart</td><td>2.3</td><td>Low</td></tr><tr><td>Zepto</td><td>3.0</td><td>Medium</td></tr><tr><td>Blinkit</td><td>4.1</td><td>High</td></tr><tr><td>Swiggy Instamart</td><td>4.5</td><td>High</td></tr><tr><td>JioMart</td><td>3.2</td><td>Medium</td></tr><tr><td>Blinkit</td><td>3.3</td><td>Medium</td></tr><tr><td>Zepto</td><td>2.3</td><td>Low</td></tr><tr><td>Blinkit</td><td>1.0</td><td>Low</td></tr><tr><td>Blinkit</td><td>5.0</td><td>High</td></tr><tr><td>Blinkit</td><td>2.3</td><td>Low</td></tr><tr><td>JioMart</td><td>1.9</td><td>Low</td></tr><tr><td>JioMart</td><td>4.3</td><td>High</td></tr><tr><td>Swiggy Instamart</td><td>4.5</td><td>High</td></tr><tr><td>Zepto</td><td>3.3</td><td>Medium</td></tr><tr><td>Zepto</td><td>4.6</td><td>High</td></tr><tr><td>Blinkit</td><td>2.0</td><td>Low</td></tr><tr><td>Blinkit</td><td>3.4</td><td>Medium</td></tr><tr><td>Swiggy Instamart</td><td>1.3</td><td>Low</td></tr><tr><td>Blinkit</td><td>3.6</td><td>Medium</td></tr><tr><td>Swiggy Instamart</td><td>4.4</td><td>High</td></tr><tr><td>Zepto</td><td>1.7</td><td>Low</td></tr><tr><td>Zepto</td><td>4.5</td><td>High</td></tr><tr><td>JioMart</td><td>1.6</td><td>Low</td></tr><tr><td>Blinkit</td><td>2.5</td><td>Low</td></tr><tr><td>Blinkit</td><td>2.0</td><td>Low</td></tr><tr><td>Zepto</td><td>3.9</td><td>Medium</td></tr><tr><td>JioMart</td><td>2.3</td><td>Low</td></tr><tr><td>Zepto</td><td>3.3</td><td>Medium</td></tr><tr><td>Swiggy Instamart</td><td>4.4</td><td>High</td></tr><tr><td>Zepto</td><td>2.4</td><td>Low</td></tr><tr><td>Swiggy Instamart</td><td>2.9</td><td>Low</td></tr><tr><td>Zepto</td><td>1.7</td><td>Low</td></tr><tr><td>Blinkit</td><td>1.1</td><td>Low</td></tr><tr><td>Blinkit</td><td>1.6</td><td>Low</td></tr><tr><td>Swiggy Instamart</td><td>2.0</td><td>Low</td></tr><tr><td>JioMart</td><td>1.1</td><td>Low</td></tr><tr><td>JioMart</td><td>4.2</td><td>High</td></tr><tr><td>Swiggy Instamart</td><td>4.5</td><td>High</td></tr><tr><td>Zepto</td><td>4.4</td><td>High</td></tr><tr><td>Swiggy Instamart</td><td>2.6</td><td>Low</td></tr><tr><td>Swiggy Instamart</td><td>3.9</td><td>Medium</td></tr><tr><td>Blinkit</td><td>4.5</td><td>High</td></tr><tr><td>Blinkit</td><td>2.8</td><td>Low</td></tr><tr><td>JioMart</td><td>4.2</td><td>High</td></tr><tr><td>JioMart</td><td>2.9</td><td>Low</td></tr><tr><td>Zepto</td><td>3.4</td><td>Medium</td></tr><tr><td>Swiggy Instamart</td><td>2.9</td><td>Low</td></tr><tr><td>JioMart</td><td>4.2</td><td>High</td></tr><tr><td>Blinkit</td><td>4.1</td><td>High</td></tr><tr><td>JioMart</td><td>3.7</td><td>Medium</td></tr><tr><td>Zepto</td><td>4.8</td><td>High</td></tr><tr><td>Swiggy Instamart</td><td>3.6</td><td>Medium</td></tr><tr><td>JioMart</td><td>1.3</td><td>Low</td></tr><tr><td>Swiggy Instamart</td><td>4.7</td><td>High</td></tr><tr><td>Blinkit</td><td>2.1</td><td>Low</td></tr><tr><td>Zepto</td><td>2.0</td><td>Low</td></tr><tr><td>JioMart</td><td>3.4</td><td>Medium</td></tr><tr><td>Zepto</td><td>4.5</td><td>High</td></tr><tr><td>JioMart</td><td>4.4</td><td>High</td></tr><tr><td>Swiggy Instamart</td><td>1.5</td><td>Low</td></tr><tr><td>Swiggy Instamart</td><td>3.9</td><td>Medium</td></tr><tr><td>Swiggy Instamart</td><td>1.6</td><td>Low</td></tr><tr><td>Blinkit</td><td>1.6</td><td>Low</td></tr><tr><td>Blinkit</td><td>4.8</td><td>High</td></tr><tr><td>Blinkit</td><td>2.3</td><td>Low</td></tr><tr><td>Swiggy Instamart</td><td>4.4</td><td>High</td></tr><tr><td>Blinkit</td><td>4.0</td><td>Medium</td></tr><tr><td>Swiggy Instamart</td><td>3.4</td><td>Medium</td></tr><tr><td>Blinkit</td><td>4.1</td><td>High</td></tr><tr><td>JioMart</td><td>1.3</td><td>Low</td></tr><tr><td>Zepto</td><td>1.9</td><td>Low</td></tr><tr><td>JioMart</td><td>3.5</td><td>Medium</td></tr><tr><td>Zepto</td><td>2.1</td><td>Low</td></tr><tr><td>Swiggy Instamart</td><td>2.0</td><td>Low</td></tr><tr><td>JioMart</td><td>4.2</td><td>High</td></tr><tr><td>Zepto</td><td>3.1</td><td>Medium</td></tr><tr><td>JioMart</td><td>4.6</td><td>High</td></tr><tr><td>Blinkit</td><td>2.8</td><td>Low</td></tr><tr><td>Zepto</td><td>1.4</td><td>Low</td></tr><tr><td>Blinkit</td><td>1.3</td><td>Low</td></tr><tr><td>Zepto</td><td>4.3</td><td>High</td></tr><tr><td>Zepto</td><td>2.2</td><td>Low</td></tr><tr><td>Swiggy Instamart</td><td>4.3</td><td>High</td></tr><tr><td>Blinkit</td><td>1.2</td><td>Low</td></tr><tr><td>Zepto</td><td>2.7</td><td>Low</td></tr><tr><td>JioMart</td><td>3.3</td><td>Medium</td></tr><tr><td>Zepto</td><td>4.4</td><td>High</td></tr><tr><td>Zepto</td><td>2.4</td><td>Low</td></tr><tr><td>Swiggy Instamart</td><td>1.6</td><td>Low</td></tr><tr><td>Swiggy Instamart</td><td>1.7</td><td>Low</td></tr><tr><td>Zepto</td><td>2.4</td><td>Low</td></tr><tr><td>Swiggy Instamart</td><td>4.5</td><td>High</td></tr><tr><td>Swiggy Instamart</td><td>4.7</td><td>High</td></tr><tr><td>Blinkit</td><td>2.1</td><td>Low</td></tr><tr><td>Swiggy Instamart</td><td>1.8</td><td>Low</td></tr><tr><td>JioMart</td><td>3.7</td><td>Medium</td></tr><tr><td>JioMart</td><td>2.1</td><td>Low</td></tr><tr><td>JioMart</td><td>1.6</td><td>Low</td></tr><tr><td>Zepto</td><td>3.4</td><td>Medium</td></tr><tr><td>JioMart</td><td>1.6</td><td>Low</td></tr><tr><td>Zepto</td><td>2.4</td><td>Low</td></tr><tr><td>JioMart</td><td>3.6</td><td>Medium</td></tr><tr><td>Swiggy Instamart</td><td>4.8</td><td>High</td></tr><tr><td>Zepto</td><td>2.0</td><td>Low</td></tr><tr><td>JioMart</td><td>3.4</td><td>Medium</td></tr><tr><td>Blinkit</td><td>2.7</td><td>Low</td></tr><tr><td>JioMart</td><td>3.3</td><td>Medium</td></tr><tr><td>Blinkit</td><td>3.0</td><td>Medium</td></tr><tr><td>Blinkit</td><td>1.0</td><td>Low</td></tr><tr><td>JioMart</td><td>4.1</td><td>High</td></tr><tr><td>Zepto</td><td>1.2</td><td>Low</td></tr><tr><td>JioMart</td><td>3.7</td><td>Medium</td></tr><tr><td>Blinkit</td><td>3.0</td><td>Medium</td></tr><tr><td>Swiggy Instamart</td><td>3.9</td><td>Medium</td></tr><tr><td>Zepto</td><td>1.5</td><td>Low</td></tr><tr><td>Blinkit</td><td>4.5</td><td>High</td></tr><tr><td>Swiggy Instamart</td><td>1.8</td><td>Low</td></tr><tr><td>Zepto</td><td>4.9</td><td>High</td></tr><tr><td>Swiggy Instamart</td><td>1.2</td><td>Low</td></tr><tr><td>Blinkit</td><td>1.7</td><td>Low</td></tr><tr><td>JioMart</td><td>1.3</td><td>Low</td></tr><tr><td>JioMart</td><td>2.7</td><td>Low</td></tr><tr><td>Zepto</td><td>4.5</td><td>High</td></tr><tr><td>Zepto</td><td>2.8</td><td>Low</td></tr><tr><td>Zepto</td><td>3.6</td><td>Medium</td></tr><tr><td>Blinkit</td><td>1.9</td><td>Low</td></tr><tr><td>Swiggy Instamart</td><td>3.5</td><td>Medium</td></tr><tr><td>Blinkit</td><td>1.7</td><td>Low</td></tr><tr><td>Zepto</td><td>3.8</td><td>Medium</td></tr><tr><td>JioMart</td><td>3.6</td><td>Medium</td></tr><tr><td>JioMart</td><td>4.8</td><td>High</td></tr><tr><td>Blinkit</td><td>2.5</td><td>Low</td></tr><tr><td>Blinkit</td><td>2.6</td><td>Low</td></tr><tr><td>JioMart</td><td>3.8</td><td>Medium</td></tr><tr><td>Zepto</td><td>4.2</td><td>High</td></tr><tr><td>JioMart</td><td>4.0</td><td>Medium</td></tr><tr><td>Zepto</td><td>4.8</td><td>High</td></tr><tr><td>JioMart</td><td>3.1</td><td>Medium</td></tr><tr><td>Blinkit</td><td>2.2</td><td>Low</td></tr><tr><td>JioMart</td><td>2.7</td><td>Low</td></tr><tr><td>Blinkit</td><td>3.4</td><td>Medium</td></tr><tr><td>JioMart</td><td>3.2</td><td>Medium</td></tr><tr><td>Blinkit</td><td>4.9</td><td>High</td></tr><tr><td>Swiggy Instamart</td><td>4.7</td><td>High</td></tr><tr><td>Zepto</td><td>3.1</td><td>Medium</td></tr><tr><td>Blinkit</td><td>3.0</td><td>Medium</td></tr><tr><td>Zepto</td><td>2.8</td><td>Low</td></tr><tr><td>Zepto</td><td>1.4</td><td>Low</td></tr><tr><td>Swiggy Instamart</td><td>5.0</td><td>High</td></tr><tr><td>JioMart</td><td>5.0</td><td>High</td></tr><tr><td>JioMart</td><td>2.6</td><td>Low</td></tr><tr><td>Swiggy Instamart</td><td>1.0</td><td>Low</td></tr><tr><td>Swiggy Instamart</td><td>4.8</td><td>High</td></tr><tr><td>Blinkit</td><td>3.7</td><td>Medium</td></tr><tr><td>Zepto</td><td>2.8</td><td>Low</td></tr><tr><td>Blinkit</td><td>2.3</td><td>Low</td></tr><tr><td>Zepto</td><td>1.9</td><td>Low</td></tr><tr><td>Swiggy Instamart</td><td>2.2</td><td>Low</td></tr><tr><td>Zepto</td><td>4.4</td><td>High</td></tr><tr><td>JioMart</td><td>3.7</td><td>Medium</td></tr><tr><td>JioMart</td><td>2.1</td><td>Low</td></tr><tr><td>Blinkit</td><td>1.7</td><td>Low</td></tr><tr><td>JioMart</td><td>2.9</td><td>Low</td></tr><tr><td>JioMart</td><td>2.5</td><td>Low</td></tr><tr><td>JioMart</td><td>4.0</td><td>Medium</td></tr><tr><td>Blinkit</td><td>3.9</td><td>Medium</td></tr><tr><td>Zepto</td><td>2.7</td><td>Low</td></tr><tr><td>Zepto</td><td>1.3</td><td>Low</td></tr><tr><td>Blinkit</td><td>2.5</td><td>Low</td></tr><tr><td>Zepto</td><td>1.5</td><td>Low</td></tr><tr><td>JioMart</td><td>4.4</td><td>High</td></tr><tr><td>Swiggy Instamart</td><td>3.2</td><td>Medium</td></tr><tr><td>Swiggy Instamart</td><td>2.0</td><td>Low</td></tr><tr><td>JioMart</td><td>2.7</td><td>Low</td></tr><tr><td>JioMart</td><td>4.3</td><td>High</td></tr><tr><td>Blinkit</td><td>3.1</td><td>Medium</td></tr><tr><td>Zepto</td><td>3.0</td><td>Medium</td></tr><tr><td>Blinkit</td><td>4.8</td><td>High</td></tr><tr><td>Blinkit</td><td>4.7</td><td>High</td></tr><tr><td>Zepto</td><td>4.4</td><td>High</td></tr><tr><td>Blinkit</td><td>3.2</td><td>Medium</td></tr><tr><td>Zepto</td><td>3.7</td><td>Medium</td></tr><tr><td>Zepto</td><td>4.7</td><td>High</td></tr><tr><td>Zepto</td><td>4.2</td><td>High</td></tr><tr><td>Swiggy Instamart</td><td>1.0</td><td>Low</td></tr><tr><td>Swiggy Instamart</td><td>3.3</td><td>Medium</td></tr><tr><td>Blinkit</td><td>3.1</td><td>Medium</td></tr><tr><td>Swiggy Instamart</td><td>4.5</td><td>High</td></tr><tr><td>Zepto</td><td>4.2</td><td>High</td></tr><tr><td>Blinkit</td><td>3.5</td><td>Medium</td></tr><tr><td>Swiggy Instamart</td><td>3.3</td><td>Medium</td></tr><tr><td>JioMart</td><td>3.5</td><td>Medium</td></tr><tr><td>Swiggy Instamart</td><td>1.3</td><td>Low</td></tr><tr><td>Zepto</td><td>2.5</td><td>Low</td></tr><tr><td>Zepto</td><td>1.4</td><td>Low</td></tr><tr><td>JioMart</td><td>3.6</td><td>Medium</td></tr><tr><td>Swiggy Instamart</td><td>2.7</td><td>Low</td></tr><tr><td>Blinkit</td><td>2.9</td><td>Low</td></tr><tr><td>JioMart</td><td>4.5</td><td>High</td></tr><tr><td>Blinkit</td><td>1.8</td><td>Low</td></tr><tr><td>JioMart</td><td>3.5</td><td>Medium</td></tr><tr><td>JioMart</td><td>1.6</td><td>Low</td></tr><tr><td>Zepto</td><td>4.4</td><td>High</td></tr><tr><td>JioMart</td><td>4.0</td><td>Medium</td></tr><tr><td>Zepto</td><td>1.7</td><td>Low</td></tr><tr><td>Blinkit</td><td>4.2</td><td>High</td></tr><tr><td>Blinkit</td><td>4.3</td><td>High</td></tr><tr><td>JioMart</td><td>1.8</td><td>Low</td></tr><tr><td>Swiggy Instamart</td><td>3.0</td><td>Medium</td></tr><tr><td>Swiggy Instamart</td><td>1.6</td><td>Low</td></tr><tr><td>JioMart</td><td>3.3</td><td>Medium</td></tr><tr><td>JioMart</td><td>2.5</td><td>Low</td></tr><tr><td>Blinkit</td><td>1.5</td><td>Low</td></tr><tr><td>Blinkit</td><td>2.7</td><td>Low</td></tr><tr><td>JioMart</td><td>3.2</td><td>Medium</td></tr><tr><td>JioMart</td><td>2.6</td><td>Low</td></tr><tr><td>JioMart</td><td>1.3</td><td>Low</td></tr><tr><td>JioMart</td><td>3.3</td><td>Medium</td></tr><tr><td>Swiggy Instamart</td><td>4.7</td><td>High</td></tr><tr><td>Zepto</td><td>1.9</td><td>Low</td></tr><tr><td>JioMart</td><td>3.2</td><td>Medium</td></tr><tr><td>Blinkit</td><td>2.5</td><td>Low</td></tr><tr><td>Blinkit</td><td>1.5</td><td>Low</td></tr><tr><td>Blinkit</td><td>4.7</td><td>High</td></tr><tr><td>Zepto</td><td>2.6</td><td>Low</td></tr><tr><td>Blinkit</td><td>2.2</td><td>Low</td></tr><tr><td>Blinkit</td><td>3.0</td><td>Medium</td></tr><tr><td>Blinkit</td><td>1.3</td><td>Low</td></tr><tr><td>Zepto</td><td>4.9</td><td>High</td></tr><tr><td>Zepto</td><td>3.0</td><td>Medium</td></tr><tr><td>Blinkit</td><td>4.2</td><td>High</td></tr><tr><td>Swiggy Instamart</td><td>1.7</td><td>Low</td></tr><tr><td>Swiggy Instamart</td><td>3.7</td><td>Medium</td></tr><tr><td>JioMart</td><td>2.8</td><td>Low</td></tr><tr><td>JioMart</td><td>2.9</td><td>Low</td></tr><tr><td>JioMart</td><td>1.4</td><td>Low</td></tr><tr><td>JioMart</td><td>1.1</td><td>Low</td></tr><tr><td>Zepto</td><td>2.4</td><td>Low</td></tr><tr><td>Swiggy Instamart</td><td>2.4</td><td>Low</td></tr><tr><td>JioMart</td><td>1.7</td><td>Low</td></tr><tr><td>Swiggy Instamart</td><td>4.9</td><td>High</td></tr><tr><td>JioMart</td><td>2.7</td><td>Low</td></tr><tr><td>Blinkit</td><td>3.8</td><td>Medium</td></tr><tr><td>JioMart</td><td>1.7</td><td>Low</td></tr><tr><td>Blinkit</td><td>2.0</td><td>Low</td></tr><tr><td>Zepto</td><td>2.2</td><td>Low</td></tr><tr><td>Blinkit</td><td>4.0</td><td>Medium</td></tr><tr><td>JioMart</td><td>2.3</td><td>Low</td></tr><tr><td>JioMart</td><td>4.3</td><td>High</td></tr><tr><td>JioMart</td><td>4.1</td><td>High</td></tr><tr><td>Blinkit</td><td>1.6</td><td>Low</td></tr><tr><td>Zepto</td><td>3.6</td><td>Medium</td></tr><tr><td>Zepto</td><td>1.7</td><td>Low</td></tr><tr><td>Zepto</td><td>3.3</td><td>Medium</td></tr><tr><td>Swiggy Instamart</td><td>4.8</td><td>High</td></tr><tr><td>Swiggy Instamart</td><td>3.2</td><td>Medium</td></tr><tr><td>Zepto</td><td>2.9</td><td>Low</td></tr><tr><td>Blinkit</td><td>2.5</td><td>Low</td></tr><tr><td>Zepto</td><td>1.2</td><td>Low</td></tr><tr><td>Zepto</td><td>4.7</td><td>High</td></tr><tr><td>JioMart</td><td>4.8</td><td>High</td></tr><tr><td>JioMart</td><td>4.5</td><td>High</td></tr><tr><td>Zepto</td><td>4.9</td><td>High</td></tr><tr><td>Swiggy Instamart</td><td>3.5</td><td>Medium</td></tr><tr><td>JioMart</td><td>2.1</td><td>Low</td></tr><tr><td>JioMart</td><td>3.9</td><td>Medium</td></tr><tr><td>JioMart</td><td>2.5</td><td>Low</td></tr><tr><td>Blinkit</td><td>4.1</td><td>High</td></tr><tr><td>JioMart</td><td>2.6</td><td>Low</td></tr><tr><td>Zepto</td><td>4.9</td><td>High</td></tr><tr><td>Swiggy Instamart</td><td>4.6</td><td>High</td></tr><tr><td>Zepto</td><td>3.3</td><td>Medium</td></tr><tr><td>JioMart</td><td>2.2</td><td>Low</td></tr><tr><td>Zepto</td><td>1.7</td><td>Low</td></tr><tr><td>Blinkit</td><td>1.7</td><td>Low</td></tr><tr><td>Blinkit</td><td>4.6</td><td>High</td></tr><tr><td>Blinkit</td><td>1.6</td><td>Low</td></tr><tr><td>JioMart</td><td>2.4</td><td>Low</td></tr><tr><td>Zepto</td><td>2.6</td><td>Low</td></tr><tr><td>Swiggy Instamart</td><td>3.1</td><td>Medium</td></tr><tr><td>Blinkit</td><td>2.4</td><td>Low</td></tr><tr><td>JioMart</td><td>4.0</td><td>Medium</td></tr><tr><td>Swiggy Instamart</td><td>3.5</td><td>Medium</td></tr><tr><td>Zepto</td><td>1.8</td><td>Low</td></tr><tr><td>JioMart</td><td>4.4</td><td>High</td></tr><tr><td>Swiggy Instamart</td><td>1.8</td><td>Low</td></tr><tr><td>Swiggy Instamart</td><td>4.7</td><td>High</td></tr><tr><td>JioMart</td><td>4.5</td><td>High</td></tr><tr><td>Blinkit</td><td>1.8</td><td>Low</td></tr><tr><td>JioMart</td><td>2.1</td><td>Low</td></tr><tr><td>JioMart</td><td>3.4</td><td>Medium</td></tr><tr><td>Blinkit</td><td>1.8</td><td>Low</td></tr><tr><td>Swiggy Instamart</td><td>4.1</td><td>High</td></tr><tr><td>Zepto</td><td>4.2</td><td>High</td></tr><tr><td>JioMart</td><td>1.0</td><td>Low</td></tr><tr><td>Swiggy Instamart</td><td>2.7</td><td>Low</td></tr><tr><td>Swiggy Instamart</td><td>2.3</td><td>Low</td></tr><tr><td>Blinkit</td><td>1.0</td><td>Low</td></tr><tr><td>Blinkit</td><td>3.2</td><td>Medium</td></tr><tr><td>Zepto</td><td>4.9</td><td>High</td></tr><tr><td>Swiggy Instamart</td><td>1.6</td><td>Low</td></tr><tr><td>JioMart</td><td>1.8</td><td>Low</td></tr><tr><td>JioMart</td><td>4.7</td><td>High</td></tr><tr><td>JioMart</td><td>3.8</td><td>Medium</td></tr><tr><td>Swiggy Instamart</td><td>4.7</td><td>High</td></tr><tr><td>Swiggy Instamart</td><td>2.8</td><td>Low</td></tr><tr><td>Swiggy Instamart</td><td>3.5</td><td>Medium</td></tr><tr><td>JioMart</td><td>1.3</td><td>Low</td></tr><tr><td>Swiggy Instamart</td><td>1.3</td><td>Low</td></tr><tr><td>Zepto</td><td>1.3</td><td>Low</td></tr><tr><td>Swiggy Instamart</td><td>1.9</td><td>Low</td></tr><tr><td>Swiggy Instamart</td><td>1.8</td><td>Low</td></tr><tr><td>Swiggy Instamart</td><td>2.5</td><td>Low</td></tr><tr><td>Swiggy Instamart</td><td>4.4</td><td>High</td></tr><tr><td>Zepto</td><td>4.0</td><td>Medium</td></tr><tr><td>Swiggy Instamart</td><td>3.4</td><td>Medium</td></tr><tr><td>Blinkit</td><td>3.1</td><td>Medium</td></tr><tr><td>JioMart</td><td>3.3</td><td>Medium</td></tr><tr><td>Blinkit</td><td>2.1</td><td>Low</td></tr><tr><td>Blinkit</td><td>4.4</td><td>High</td></tr><tr><td>Zepto</td><td>1.5</td><td>Low</td></tr><tr><td>JioMart</td><td>3.4</td><td>Medium</td></tr><tr><td>JioMart</td><td>4.0</td><td>Medium</td></tr><tr><td>Zepto</td><td>2.3</td><td>Low</td></tr><tr><td>Blinkit</td><td>4.6</td><td>High</td></tr><tr><td>Zepto</td><td>2.1</td><td>Low</td></tr><tr><td>JioMart</td><td>3.4</td><td>Medium</td></tr><tr><td>JioMart</td><td>1.1</td><td>Low</td></tr><tr><td>Blinkit</td><td>3.3</td><td>Medium</td></tr><tr><td>Swiggy Instamart</td><td>3.9</td><td>Medium</td></tr><tr><td>Zepto</td><td>4.3</td><td>High</td></tr><tr><td>Zepto</td><td>1.6</td><td>Low</td></tr><tr><td>Zepto</td><td>2.9</td><td>Low</td></tr><tr><td>Zepto</td><td>3.5</td><td>Medium</td></tr><tr><td>Zepto</td><td>4.9</td><td>High</td></tr><tr><td>Zepto</td><td>3.0</td><td>Medium</td></tr><tr><td>JioMart</td><td>3.3</td><td>Medium</td></tr><tr><td>Blinkit</td><td>1.5</td><td>Low</td></tr><tr><td>Blinkit</td><td>1.1</td><td>Low</td></tr><tr><td>Swiggy Instamart</td><td>4.4</td><td>High</td></tr><tr><td>Zepto</td><td>4.0</td><td>Medium</td></tr><tr><td>Blinkit</td><td>3.5</td><td>Medium</td></tr><tr><td>Swiggy Instamart</td><td>2.1</td><td>Low</td></tr><tr><td>Zepto</td><td>2.5</td><td>Low</td></tr><tr><td>JioMart</td><td>3.3</td><td>Medium</td></tr><tr><td>Swiggy Instamart</td><td>1.0</td><td>Low</td></tr><tr><td>Swiggy Instamart</td><td>1.6</td><td>Low</td></tr><tr><td>Swiggy Instamart</td><td>1.4</td><td>Low</td></tr><tr><td>JioMart</td><td>2.9</td><td>Low</td></tr><tr><td>Zepto</td><td>4.2</td><td>High</td></tr><tr><td>Zepto</td><td>2.6</td><td>Low</td></tr><tr><td>JioMart</td><td>2.0</td><td>Low</td></tr><tr><td>Blinkit</td><td>3.5</td><td>Medium</td></tr><tr><td>Blinkit</td><td>2.9</td><td>Low</td></tr><tr><td>JioMart</td><td>2.4</td><td>Low</td></tr><tr><td>Swiggy Instamart</td><td>1.4</td><td>Low</td></tr><tr><td>Blinkit</td><td>2.1</td><td>Low</td></tr><tr><td>Swiggy Instamart</td><td>1.3</td><td>Low</td></tr><tr><td>Zepto</td><td>4.1</td><td>High</td></tr><tr><td>Zepto</td><td>1.2</td><td>Low</td></tr><tr><td>Zepto</td><td>4.8</td><td>High</td></tr><tr><td>JioMart</td><td>4.8</td><td>High</td></tr><tr><td>Zepto</td><td>1.2</td><td>Low</td></tr><tr><td>Zepto</td><td>2.7</td><td>Low</td></tr><tr><td>Blinkit</td><td>2.2</td><td>Low</td></tr><tr><td>JioMart</td><td>1.5</td><td>Low</td></tr><tr><td>JioMart</td><td>1.7</td><td>Low</td></tr><tr><td>Blinkit</td><td>1.8</td><td>Low</td></tr><tr><td>JioMart</td><td>2.9</td><td>Low</td></tr><tr><td>Zepto</td><td>3.9</td><td>Medium</td></tr><tr><td>Zepto</td><td>2.5</td><td>Low</td></tr><tr><td>Zepto</td><td>4.4</td><td>High</td></tr><tr><td>Blinkit</td><td>3.7</td><td>Medium</td></tr><tr><td>JioMart</td><td>4.3</td><td>High</td></tr><tr><td>Swiggy Instamart</td><td>3.4</td><td>Medium</td></tr><tr><td>JioMart</td><td>1.0</td><td>Low</td></tr><tr><td>Swiggy Instamart</td><td>3.2</td><td>Medium</td></tr><tr><td>Blinkit</td><td>1.0</td><td>Low</td></tr><tr><td>JioMart</td><td>3.0</td><td>Medium</td></tr><tr><td>Blinkit</td><td>4.9</td><td>High</td></tr><tr><td>Swiggy Instamart</td><td>1.6</td><td>Low</td></tr><tr><td>Blinkit</td><td>3.8</td><td>Medium</td></tr><tr><td>Zepto</td><td>4.3</td><td>High</td></tr><tr><td>Swiggy Instamart</td><td>3.2</td><td>Medium</td></tr><tr><td>Swiggy Instamart</td><td>4.2</td><td>High</td></tr><tr><td>Swiggy Instamart</td><td>3.8</td><td>Medium</td></tr><tr><td>Swiggy Instamart</td><td>1.7</td><td>Low</td></tr><tr><td>Zepto</td><td>5.0</td><td>High</td></tr><tr><td>Blinkit</td><td>2.6</td><td>Low</td></tr><tr><td>Blinkit</td><td>2.4</td><td>Low</td></tr><tr><td>JioMart</td><td>4.6</td><td>High</td></tr><tr><td>Blinkit</td><td>3.1</td><td>Medium</td></tr><tr><td>Zepto</td><td>2.1</td><td>Low</td></tr><tr><td>Swiggy Instamart</td><td>1.5</td><td>Low</td></tr><tr><td>Blinkit</td><td>1.4</td><td>Low</td></tr><tr><td>Blinkit</td><td>1.1</td><td>Low</td></tr><tr><td>Blinkit</td><td>1.9</td><td>Low</td></tr><tr><td>Blinkit</td><td>3.4</td><td>Medium</td></tr><tr><td>JioMart</td><td>1.8</td><td>Low</td></tr><tr><td>JioMart</td><td>3.4</td><td>Medium</td></tr><tr><td>Zepto</td><td>3.7</td><td>Medium</td></tr><tr><td>Blinkit</td><td>3.0</td><td>Medium</td></tr><tr><td>Blinkit</td><td>4.2</td><td>High</td></tr><tr><td>Zepto</td><td>1.3</td><td>Low</td></tr><tr><td>Zepto</td><td>4.2</td><td>High</td></tr><tr><td>Swiggy Instamart</td><td>3.2</td><td>Medium</td></tr><tr><td>Swiggy Instamart</td><td>3.6</td><td>Medium</td></tr><tr><td>Blinkit</td><td>3.7</td><td>Medium</td></tr><tr><td>Zepto</td><td>2.8</td><td>Low</td></tr><tr><td>Zepto</td><td>2.3</td><td>Low</td></tr><tr><td>JioMart</td><td>2.1</td><td>Low</td></tr><tr><td>JioMart</td><td>2.9</td><td>Low</td></tr><tr><td>JioMart</td><td>2.9</td><td>Low</td></tr><tr><td>JioMart</td><td>4.1</td><td>High</td></tr><tr><td>Blinkit</td><td>2.1</td><td>Low</td></tr><tr><td>JioMart</td><td>3.4</td><td>Medium</td></tr><tr><td>Swiggy Instamart</td><td>4.2</td><td>High</td></tr><tr><td>Blinkit</td><td>3.6</td><td>Medium</td></tr><tr><td>Swiggy Instamart</td><td>4.3</td><td>High</td></tr><tr><td>Zepto</td><td>3.2</td><td>Medium</td></tr><tr><td>Blinkit</td><td>2.8</td><td>Low</td></tr><tr><td>Blinkit</td><td>2.6</td><td>Low</td></tr><tr><td>JioMart</td><td>2.5</td><td>Low</td></tr><tr><td>JioMart</td><td>4.4</td><td>High</td></tr><tr><td>Zepto</td><td>3.5</td><td>Medium</td></tr><tr><td>Zepto</td><td>1.1</td><td>Low</td></tr><tr><td>Zepto</td><td>2.7</td><td>Low</td></tr><tr><td>Swiggy Instamart</td><td>3.2</td><td>Medium</td></tr><tr><td>Blinkit</td><td>1.1</td><td>Low</td></tr><tr><td>Swiggy Instamart</td><td>2.7</td><td>Low</td></tr><tr><td>Blinkit</td><td>3.1</td><td>Medium</td></tr><tr><td>Zepto</td><td>3.4</td><td>Medium</td></tr><tr><td>Blinkit</td><td>1.4</td><td>Low</td></tr><tr><td>Swiggy Instamart</td><td>4.8</td><td>High</td></tr><tr><td>JioMart</td><td>2.3</td><td>Low</td></tr><tr><td>JioMart</td><td>4.1</td><td>High</td></tr><tr><td>Blinkit</td><td>4.1</td><td>High</td></tr><tr><td>JioMart</td><td>2.3</td><td>Low</td></tr><tr><td>JioMart</td><td>4.6</td><td>High</td></tr><tr><td>Zepto</td><td>2.7</td><td>Low</td></tr><tr><td>Zepto</td><td>2.5</td><td>Low</td></tr><tr><td>JioMart</td><td>3.2</td><td>Medium</td></tr><tr><td>Swiggy Instamart</td><td>1.3</td><td>Low</td></tr><tr><td>JioMart</td><td>2.2</td><td>Low</td></tr><tr><td>JioMart</td><td>2.5</td><td>Low</td></tr><tr><td>Blinkit</td><td>1.5</td><td>Low</td></tr><tr><td>Swiggy Instamart</td><td>4.1</td><td>High</td></tr><tr><td>Swiggy Instamart</td><td>4.7</td><td>High</td></tr><tr><td>JioMart</td><td>2.8</td><td>Low</td></tr><tr><td>Zepto</td><td>1.4</td><td>Low</td></tr><tr><td>Swiggy Instamart</td><td>3.8</td><td>Medium</td></tr><tr><td>Swiggy Instamart</td><td>2.9</td><td>Low</td></tr><tr><td>Swiggy Instamart</td><td>4.7</td><td>High</td></tr><tr><td>Blinkit</td><td>3.4</td><td>Medium</td></tr><tr><td>Swiggy Instamart</td><td>2.9</td><td>Low</td></tr><tr><td>Blinkit</td><td>4.5</td><td>High</td></tr><tr><td>Blinkit</td><td>3.8</td><td>Medium</td></tr><tr><td>Zepto</td><td>2.2</td><td>Low</td></tr><tr><td>Zepto</td><td>2.8</td><td>Low</td></tr><tr><td>Zepto</td><td>1.3</td><td>Low</td></tr><tr><td>Blinkit</td><td>2.2</td><td>Low</td></tr><tr><td>Swiggy Instamart</td><td>1.4</td><td>Low</td></tr><tr><td>Zepto</td><td>1.9</td><td>Low</td></tr><tr><td>Zepto</td><td>1.5</td><td>Low</td></tr><tr><td>Zepto</td><td>2.7</td><td>Low</td></tr><tr><td>JioMart</td><td>3.5</td><td>Medium</td></tr><tr><td>Swiggy Instamart</td><td>2.9</td><td>Low</td></tr><tr><td>Swiggy Instamart</td><td>4.3</td><td>High</td></tr><tr><td>Zepto</td><td>4.5</td><td>High</td></tr><tr><td>Zepto</td><td>4.2</td><td>High</td></tr><tr><td>Blinkit</td><td>4.5</td><td>High</td></tr><tr><td>Blinkit</td><td>2.6</td><td>Low</td></tr><tr><td>JioMart</td><td>3.4</td><td>Medium</td></tr><tr><td>Zepto</td><td>4.8</td><td>High</td></tr><tr><td>JioMart</td><td>3.6</td><td>Medium</td></tr><tr><td>Swiggy Instamart</td><td>2.5</td><td>Low</td></tr><tr><td>Blinkit</td><td>3.5</td><td>Medium</td></tr><tr><td>Blinkit</td><td>1.5</td><td>Low</td></tr><tr><td>Swiggy Instamart</td><td>1.2</td><td>Low</td></tr><tr><td>Blinkit</td><td>4.6</td><td>High</td></tr><tr><td>Blinkit</td><td>4.7</td><td>High</td></tr><tr><td>Zepto</td><td>1.3</td><td>Low</td></tr><tr><td>Swiggy Instamart</td><td>4.6</td><td>High</td></tr><tr><td>Swiggy Instamart</td><td>1.5</td><td>Low</td></tr><tr><td>Swiggy Instamart</td><td>1.8</td><td>Low</td></tr><tr><td>JioMart</td><td>3.5</td><td>Medium</td></tr><tr><td>JioMart</td><td>4.5</td><td>High</td></tr><tr><td>Zepto</td><td>2.5</td><td>Low</td></tr><tr><td>Zepto</td><td>1.0</td><td>Low</td></tr><tr><td>JioMart</td><td>2.3</td><td>Low</td></tr><tr><td>JioMart</td><td>3.1</td><td>Medium</td></tr><tr><td>Swiggy Instamart</td><td>3.8</td><td>Medium</td></tr><tr><td>JioMart</td><td>4.0</td><td>Medium</td></tr><tr><td>Zepto</td><td>1.1</td><td>Low</td></tr><tr><td>Blinkit</td><td>3.0</td><td>Medium</td></tr><tr><td>Blinkit</td><td>3.2</td><td>Medium</td></tr><tr><td>Blinkit</td><td>4.5</td><td>High</td></tr><tr><td>Swiggy Instamart</td><td>1.0</td><td>Low</td></tr><tr><td>Blinkit</td><td>2.2</td><td>Low</td></tr><tr><td>Swiggy Instamart</td><td>4.4</td><td>High</td></tr><tr><td>Swiggy Instamart</td><td>1.9</td><td>Low</td></tr><tr><td>Swiggy Instamart</td><td>2.9</td><td>Low</td></tr><tr><td>JioMart</td><td>4.5</td><td>High</td></tr><tr><td>JioMart</td><td>3.5</td><td>Medium</td></tr><tr><td>Blinkit</td><td>1.5</td><td>Low</td></tr><tr><td>Zepto</td><td>2.2</td><td>Low</td></tr><tr><td>Blinkit</td><td>1.5</td><td>Low</td></tr><tr><td>Blinkit</td><td>1.4</td><td>Low</td></tr><tr><td>Blinkit</td><td>3.0</td><td>Medium</td></tr><tr><td>JioMart</td><td>3.3</td><td>Medium</td></tr><tr><td>JioMart</td><td>4.5</td><td>High</td></tr><tr><td>Zepto</td><td>2.4</td><td>Low</td></tr><tr><td>Zepto</td><td>5.0</td><td>High</td></tr><tr><td>Blinkit</td><td>1.9</td><td>Low</td></tr><tr><td>JioMart</td><td>2.7</td><td>Low</td></tr><tr><td>Zepto</td><td>2.0</td><td>Low</td></tr><tr><td>JioMart</td><td>4.7</td><td>High</td></tr><tr><td>Swiggy Instamart</td><td>2.1</td><td>Low</td></tr><tr><td>Swiggy Instamart</td><td>5.0</td><td>High</td></tr><tr><td>Swiggy Instamart</td><td>1.8</td><td>Low</td></tr><tr><td>Swiggy Instamart</td><td>4.1</td><td>High</td></tr><tr><td>Blinkit</td><td>4.4</td><td>High</td></tr><tr><td>Blinkit</td><td>3.7</td><td>Medium</td></tr><tr><td>Swiggy Instamart</td><td>4.9</td><td>High</td></tr><tr><td>Swiggy Instamart</td><td>3.1</td><td>Medium</td></tr><tr><td>JioMart</td><td>4.7</td><td>High</td></tr><tr><td>Blinkit</td><td>3.8</td><td>Medium</td></tr><tr><td>JioMart</td><td>5.0</td><td>High</td></tr><tr><td>Zepto</td><td>2.0</td><td>Low</td></tr><tr><td>JioMart</td><td>2.8</td><td>Low</td></tr><tr><td>Blinkit</td><td>2.1</td><td>Low</td></tr><tr><td>Blinkit</td><td>3.0</td><td>Medium</td></tr><tr><td>Swiggy Instamart</td><td>4.0</td><td>Medium</td></tr><tr><td>Zepto</td><td>1.7</td><td>Low</td></tr><tr><td>Blinkit</td><td>4.9</td><td>High</td></tr><tr><td>Zepto</td><td>3.2</td><td>Medium</td></tr><tr><td>Blinkit</td><td>1.2</td><td>Low</td></tr><tr><td>Zepto</td><td>4.4</td><td>High</td></tr><tr><td>Swiggy Instamart</td><td>2.4</td><td>Low</td></tr><tr><td>Blinkit</td><td>4.0</td><td>Medium</td></tr><tr><td>Swiggy Instamart</td><td>2.0</td><td>Low</td></tr><tr><td>Zepto</td><td>1.2</td><td>Low</td></tr><tr><td>Zepto</td><td>3.9</td><td>Medium</td></tr><tr><td>Zepto</td><td>1.1</td><td>Low</td></tr><tr><td>Blinkit</td><td>1.1</td><td>Low</td></tr><tr><td>Swiggy Instamart</td><td>4.8</td><td>High</td></tr><tr><td>JioMart</td><td>4.9</td><td>High</td></tr><tr><td>Swiggy Instamart</td><td>4.1</td><td>High</td></tr><tr><td>Blinkit</td><td>4.0</td><td>Medium</td></tr><tr><td>Zepto</td><td>4.6</td><td>High</td></tr><tr><td>Blinkit</td><td>1.9</td><td>Low</td></tr><tr><td>Zepto</td><td>1.3</td><td>Low</td></tr><tr><td>Swiggy Instamart</td><td>2.4</td><td>Low</td></tr><tr><td>Zepto</td><td>2.8</td><td>Low</td></tr><tr><td>Zepto</td><td>4.6</td><td>High</td></tr><tr><td>Zepto</td><td>3.4</td><td>Medium</td></tr><tr><td>Blinkit</td><td>2.5</td><td>Low</td></tr><tr><td>Blinkit</td><td>3.5</td><td>Medium</td></tr><tr><td>Zepto</td><td>1.4</td><td>Low</td></tr><tr><td>Zepto</td><td>2.4</td><td>Low</td></tr><tr><td>Blinkit</td><td>2.8</td><td>Low</td></tr><tr><td>Swiggy Instamart</td><td>2.4</td><td>Low</td></tr><tr><td>JioMart</td><td>2.5</td><td>Low</td></tr><tr><td>Zepto</td><td>3.1</td><td>Medium</td></tr><tr><td>JioMart</td><td>1.3</td><td>Low</td></tr><tr><td>Zepto</td><td>3.5</td><td>Medium</td></tr><tr><td>JioMart</td><td>2.8</td><td>Low</td></tr><tr><td>Zepto</td><td>2.2</td><td>Low</td></tr><tr><td>Blinkit</td><td>4.2</td><td>High</td></tr><tr><td>JioMart</td><td>2.7</td><td>Low</td></tr><tr><td>JioMart</td><td>2.1</td><td>Low</td></tr><tr><td>Blinkit</td><td>1.7</td><td>Low</td></tr><tr><td>Blinkit</td><td>1.5</td><td>Low</td></tr><tr><td>Blinkit</td><td>2.1</td><td>Low</td></tr><tr><td>JioMart</td><td>1.4</td><td>Low</td></tr><tr><td>Swiggy Instamart</td><td>4.4</td><td>High</td></tr><tr><td>Zepto</td><td>4.3</td><td>High</td></tr><tr><td>JioMart</td><td>2.0</td><td>Low</td></tr><tr><td>JioMart</td><td>2.6</td><td>Low</td></tr><tr><td>Blinkit</td><td>1.2</td><td>Low</td></tr><tr><td>Blinkit</td><td>2.4</td><td>Low</td></tr><tr><td>JioMart</td><td>3.2</td><td>Medium</td></tr><tr><td>Blinkit</td><td>1.2</td><td>Low</td></tr><tr><td>Zepto</td><td>3.0</td><td>Medium</td></tr><tr><td>JioMart</td><td>4.2</td><td>High</td></tr><tr><td>Blinkit</td><td>1.1</td><td>Low</td></tr><tr><td>Swiggy Instamart</td><td>1.5</td><td>Low</td></tr><tr><td>Zepto</td><td>2.2</td><td>Low</td></tr><tr><td>Zepto</td><td>1.3</td><td>Low</td></tr><tr><td>Blinkit</td><td>1.4</td><td>Low</td></tr><tr><td>Zepto</td><td>3.6</td><td>Medium</td></tr><tr><td>Zepto</td><td>4.4</td><td>High</td></tr><tr><td>Blinkit</td><td>3.6</td><td>Medium</td></tr><tr><td>Swiggy Instamart</td><td>2.8</td><td>Low</td></tr><tr><td>Swiggy Instamart</td><td>3.3</td><td>Medium</td></tr><tr><td>Zepto</td><td>3.4</td><td>Medium</td></tr><tr><td>Zepto</td><td>4.3</td><td>High</td></tr><tr><td>JioMart</td><td>2.2</td><td>Low</td></tr><tr><td>Zepto</td><td>1.5</td><td>Low</td></tr><tr><td>Blinkit</td><td>2.4</td><td>Low</td></tr><tr><td>Swiggy Instamart</td><td>4.9</td><td>High</td></tr><tr><td>Blinkit</td><td>4.6</td><td>High</td></tr><tr><td>JioMart</td><td>3.4</td><td>Medium</td></tr><tr><td>Zepto</td><td>4.2</td><td>High</td></tr><tr><td>JioMart</td><td>2.6</td><td>Low</td></tr><tr><td>Swiggy Instamart</td><td>3.6</td><td>Medium</td></tr><tr><td>Zepto</td><td>1.8</td><td>Low</td></tr><tr><td>Swiggy Instamart</td><td>2.1</td><td>Low</td></tr><tr><td>Swiggy Instamart</td><td>3.1</td><td>Medium</td></tr><tr><td>Blinkit</td><td>1.9</td><td>Low</td></tr><tr><td>Zepto</td><td>4.0</td><td>Medium</td></tr><tr><td>Zepto</td><td>1.1</td><td>Low</td></tr><tr><td>Blinkit</td><td>4.3</td><td>High</td></tr><tr><td>Blinkit</td><td>3.3</td><td>Medium</td></tr><tr><td>Blinkit</td><td>1.5</td><td>Low</td></tr><tr><td>JioMart</td><td>2.5</td><td>Low</td></tr><tr><td>Swiggy Instamart</td><td>2.3</td><td>Low</td></tr><tr><td>Blinkit</td><td>1.6</td><td>Low</td></tr><tr><td>Zepto</td><td>3.0</td><td>Medium</td></tr><tr><td>Blinkit</td><td>1.1</td><td>Low</td></tr><tr><td>Blinkit</td><td>4.1</td><td>High</td></tr><tr><td>Blinkit</td><td>4.4</td><td>High</td></tr><tr><td>JioMart</td><td>2.6</td><td>Low</td></tr><tr><td>Blinkit</td><td>3.5</td><td>Medium</td></tr><tr><td>JioMart</td><td>4.8</td><td>High</td></tr><tr><td>Swiggy Instamart</td><td>4.7</td><td>High</td></tr><tr><td>Swiggy Instamart</td><td>3.2</td><td>Medium</td></tr><tr><td>Blinkit</td><td>4.7</td><td>High</td></tr><tr><td>Zepto</td><td>4.7</td><td>High</td></tr><tr><td>JioMart</td><td>3.1</td><td>Medium</td></tr><tr><td>Zepto</td><td>4.5</td><td>High</td></tr><tr><td>Zepto</td><td>4.8</td><td>High</td></tr><tr><td>Zepto</td><td>5.0</td><td>High</td></tr><tr><td>JioMart</td><td>2.2</td><td>Low</td></tr><tr><td>Blinkit</td><td>2.2</td><td>Low</td></tr><tr><td>Swiggy Instamart</td><td>1.3</td><td>Low</td></tr><tr><td>JioMart</td><td>1.6</td><td>Low</td></tr><tr><td>Blinkit</td><td>5.0</td><td>High</td></tr><tr><td>JioMart</td><td>4.1</td><td>High</td></tr><tr><td>Zepto</td><td>2.2</td><td>Low</td></tr><tr><td>Zepto</td><td>2.8</td><td>Low</td></tr><tr><td>JioMart</td><td>1.5</td><td>Low</td></tr><tr><td>JioMart</td><td>1.8</td><td>Low</td></tr><tr><td>Swiggy Instamart</td><td>3.4</td><td>Medium</td></tr><tr><td>Swiggy Instamart</td><td>3.5</td><td>Medium</td></tr><tr><td>Zepto</td><td>2.1</td><td>Low</td></tr><tr><td>Zepto</td><td>1.6</td><td>Low</td></tr><tr><td>JioMart</td><td>3.6</td><td>Medium</td></tr><tr><td>Blinkit</td><td>4.0</td><td>Medium</td></tr><tr><td>JioMart</td><td>2.9</td><td>Low</td></tr><tr><td>Blinkit</td><td>1.6</td><td>Low</td></tr><tr><td>Blinkit</td><td>4.8</td><td>High</td></tr><tr><td>Zepto</td><td>2.6</td><td>Low</td></tr><tr><td>Blinkit</td><td>3.4</td><td>Medium</td></tr><tr><td>Zepto</td><td>2.1</td><td>Low</td></tr><tr><td>Zepto</td><td>3.9</td><td>Medium</td></tr><tr><td>Zepto</td><td>4.9</td><td>High</td></tr><tr><td>JioMart</td><td>2.7</td><td>Low</td></tr><tr><td>Blinkit</td><td>2.1</td><td>Low</td></tr><tr><td>Zepto</td><td>3.1</td><td>Medium</td></tr><tr><td>Blinkit</td><td>2.9</td><td>Low</td></tr><tr><td>Swiggy Instamart</td><td>3.7</td><td>Medium</td></tr><tr><td>Zepto</td><td>2.3</td><td>Low</td></tr><tr><td>Zepto</td><td>1.4</td><td>Low</td></tr><tr><td>Blinkit</td><td>4.8</td><td>High</td></tr><tr><td>Swiggy Instamart</td><td>4.3</td><td>High</td></tr><tr><td>Blinkit</td><td>2.7</td><td>Low</td></tr><tr><td>JioMart</td><td>2.9</td><td>Low</td></tr><tr><td>Zepto</td><td>4.2</td><td>High</td></tr><tr><td>Zepto</td><td>4.1</td><td>High</td></tr><tr><td>Blinkit</td><td>2.6</td><td>Low</td></tr><tr><td>Zepto</td><td>1.8</td><td>Low</td></tr><tr><td>Swiggy Instamart</td><td>4.9</td><td>High</td></tr><tr><td>JioMart</td><td>2.2</td><td>Low</td></tr><tr><td>Swiggy Instamart</td><td>3.5</td><td>Medium</td></tr><tr><td>JioMart</td><td>1.8</td><td>Low</td></tr><tr><td>Blinkit</td><td>1.6</td><td>Low</td></tr><tr><td>Zepto</td><td>2.3</td><td>Low</td></tr><tr><td>Swiggy Instamart</td><td>3.6</td><td>Medium</td></tr><tr><td>JioMart</td><td>3.2</td><td>Medium</td></tr><tr><td>Swiggy Instamart</td><td>2.4</td><td>Low</td></tr><tr><td>Blinkit</td><td>4.8</td><td>High</td></tr><tr><td>Zepto</td><td>3.0</td><td>Medium</td></tr><tr><td>Zepto</td><td>2.6</td><td>Low</td></tr><tr><td>Zepto</td><td>2.8</td><td>Low</td></tr><tr><td>Zepto</td><td>2.3</td><td>Low</td></tr><tr><td>Swiggy Instamart</td><td>3.5</td><td>Medium</td></tr><tr><td>Blinkit</td><td>2.2</td><td>Low</td></tr><tr><td>Zepto</td><td>4.6</td><td>High</td></tr><tr><td>Zepto</td><td>1.4</td><td>Low</td></tr><tr><td>Zepto</td><td>4.3</td><td>High</td></tr><tr><td>JioMart</td><td>1.6</td><td>Low</td></tr><tr><td>JioMart</td><td>4.1</td><td>High</td></tr><tr><td>Blinkit</td><td>1.6</td><td>Low</td></tr><tr><td>Zepto</td><td>4.1</td><td>High</td></tr><tr><td>Blinkit</td><td>4.4</td><td>High</td></tr><tr><td>Zepto</td><td>4.9</td><td>High</td></tr><tr><td>Swiggy Instamart</td><td>4.5</td><td>High</td></tr><tr><td>Blinkit</td><td>2.1</td><td>Low</td></tr><tr><td>Swiggy Instamart</td><td>4.7</td><td>High</td></tr><tr><td>Swiggy Instamart</td><td>4.7</td><td>High</td></tr><tr><td>Blinkit</td><td>1.5</td><td>Low</td></tr><tr><td>Blinkit</td><td>4.9</td><td>High</td></tr><tr><td>Swiggy Instamart</td><td>2.0</td><td>Low</td></tr><tr><td>Zepto</td><td>4.6</td><td>High</td></tr><tr><td>JioMart</td><td>3.9</td><td>Medium</td></tr><tr><td>Blinkit</td><td>2.0</td><td>Low</td></tr><tr><td>Swiggy Instamart</td><td>2.1</td><td>Low</td></tr><tr><td>Zepto</td><td>1.9</td><td>Low</td></tr><tr><td>Blinkit</td><td>1.6</td><td>Low</td></tr><tr><td>Swiggy Instamart</td><td>2.8</td><td>Low</td></tr><tr><td>Blinkit</td><td>3.5</td><td>Medium</td></tr><tr><td>Blinkit</td><td>2.9</td><td>Low</td></tr><tr><td>Zepto</td><td>4.7</td><td>High</td></tr><tr><td>Blinkit</td><td>2.6</td><td>Low</td></tr><tr><td>Blinkit</td><td>3.7</td><td>Medium</td></tr><tr><td>Blinkit</td><td>4.9</td><td>High</td></tr><tr><td>Blinkit</td><td>2.8</td><td>Low</td></tr><tr><td>Zepto</td><td>1.9</td><td>Low</td></tr><tr><td>Zepto</td><td>3.2</td><td>Medium</td></tr><tr><td>Swiggy Instamart</td><td>4.5</td><td>High</td></tr><tr><td>Swiggy Instamart</td><td>2.4</td><td>Low</td></tr><tr><td>Swiggy Instamart</td><td>2.8</td><td>Low</td></tr><tr><td>Blinkit</td><td>4.7</td><td>High</td></tr><tr><td>Zepto</td><td>1.4</td><td>Low</td></tr><tr><td>Zepto</td><td>4.5</td><td>High</td></tr><tr><td>JioMart</td><td>1.1</td><td>Low</td></tr><tr><td>Swiggy Instamart</td><td>2.4</td><td>Low</td></tr><tr><td>Zepto</td><td>1.0</td><td>Low</td></tr><tr><td>Zepto</td><td>3.4</td><td>Medium</td></tr><tr><td>Blinkit</td><td>1.6</td><td>Low</td></tr><tr><td>JioMart</td><td>4.4</td><td>High</td></tr><tr><td>JioMart</td><td>2.5</td><td>Low</td></tr><tr><td>Zepto</td><td>2.5</td><td>Low</td></tr><tr><td>Zepto</td><td>4.2</td><td>High</td></tr><tr><td>Zepto</td><td>1.2</td><td>Low</td></tr><tr><td>Zepto</td><td>4.9</td><td>High</td></tr><tr><td>Zepto</td><td>2.0</td><td>Low</td></tr><tr><td>Swiggy Instamart</td><td>1.9</td><td>Low</td></tr><tr><td>Blinkit</td><td>3.3</td><td>Medium</td></tr><tr><td>Blinkit</td><td>2.5</td><td>Low</td></tr><tr><td>Blinkit</td><td>2.1</td><td>Low</td></tr><tr><td>Blinkit</td><td>1.6</td><td>Low</td></tr><tr><td>Swiggy Instamart</td><td>1.5</td><td>Low</td></tr><tr><td>Swiggy Instamart</td><td>2.8</td><td>Low</td></tr><tr><td>Swiggy Instamart</td><td>3.8</td><td>Medium</td></tr><tr><td>Swiggy Instamart</td><td>4.0</td><td>Medium</td></tr><tr><td>JioMart</td><td>3.5</td><td>Medium</td></tr><tr><td>Swiggy Instamart</td><td>3.2</td><td>Medium</td></tr><tr><td>JioMart</td><td>2.7</td><td>Low</td></tr><tr><td>Swiggy Instamart</td><td>1.6</td><td>Low</td></tr><tr><td>Swiggy Instamart</td><td>2.5</td><td>Low</td></tr><tr><td>Swiggy Instamart</td><td>4.4</td><td>High</td></tr><tr><td>Blinkit</td><td>3.8</td><td>Medium</td></tr><tr><td>JioMart</td><td>4.1</td><td>High</td></tr><tr><td>JioMart</td><td>3.6</td><td>Medium</td></tr><tr><td>Blinkit</td><td>2.4</td><td>Low</td></tr><tr><td>JioMart</td><td>3.7</td><td>Medium</td></tr><tr><td>JioMart</td><td>4.7</td><td>High</td></tr><tr><td>JioMart</td><td>4.9</td><td>High</td></tr><tr><td>Zepto</td><td>4.3</td><td>High</td></tr><tr><td>Zepto</td><td>1.4</td><td>Low</td></tr><tr><td>JioMart</td><td>3.2</td><td>Medium</td></tr><tr><td>JioMart</td><td>1.8</td><td>Low</td></tr><tr><td>JioMart</td><td>1.0</td><td>Low</td></tr><tr><td>Swiggy Instamart</td><td>1.2</td><td>Low</td></tr><tr><td>Blinkit</td><td>4.6</td><td>High</td></tr><tr><td>Blinkit</td><td>1.0</td><td>Low</td></tr><tr><td>JioMart</td><td>1.5</td><td>Low</td></tr><tr><td>Swiggy Instamart</td><td>2.4</td><td>Low</td></tr><tr><td>Swiggy Instamart</td><td>2.5</td><td>Low</td></tr><tr><td>JioMart</td><td>1.2</td><td>Low</td></tr><tr><td>Swiggy Instamart</td><td>4.4</td><td>High</td></tr><tr><td>Zepto</td><td>4.8</td><td>High</td></tr><tr><td>Zepto</td><td>1.1</td><td>Low</td></tr><tr><td>Swiggy Instamart</td><td>1.1</td><td>Low</td></tr><tr><td>Swiggy Instamart</td><td>4.8</td><td>High</td></tr><tr><td>Swiggy Instamart</td><td>3.9</td><td>Medium</td></tr><tr><td>Swiggy Instamart</td><td>2.5</td><td>Low</td></tr><tr><td>JioMart</td><td>2.7</td><td>Low</td></tr><tr><td>Zepto</td><td>3.7</td><td>Medium</td></tr><tr><td>JioMart</td><td>3.9</td><td>Medium</td></tr><tr><td>Blinkit</td><td>4.1</td><td>High</td></tr><tr><td>JioMart</td><td>1.4</td><td>Low</td></tr><tr><td>Zepto</td><td>2.8</td><td>Low</td></tr><tr><td>JioMart</td><td>4.4</td><td>High</td></tr><tr><td>Blinkit</td><td>3.8</td><td>Medium</td></tr><tr><td>JioMart</td><td>3.5</td><td>Medium</td></tr><tr><td>Swiggy Instamart</td><td>3.9</td><td>Medium</td></tr><tr><td>JioMart</td><td>1.9</td><td>Low</td></tr><tr><td>Swiggy Instamart</td><td>4.9</td><td>High</td></tr><tr><td>Blinkit</td><td>1.0</td><td>Low</td></tr><tr><td>Blinkit</td><td>4.0</td><td>Medium</td></tr><tr><td>Blinkit</td><td>2.6</td><td>Low</td></tr><tr><td>Blinkit</td><td>3.6</td><td>Medium</td></tr><tr><td>Blinkit</td><td>1.1</td><td>Low</td></tr><tr><td>JioMart</td><td>3.2</td><td>Medium</td></tr><tr><td>Zepto</td><td>2.5</td><td>Low</td></tr><tr><td>Blinkit</td><td>3.6</td><td>Medium</td></tr><tr><td>Swiggy Instamart</td><td>1.6</td><td>Low</td></tr><tr><td>Zepto</td><td>2.2</td><td>Low</td></tr><tr><td>Zepto</td><td>1.9</td><td>Low</td></tr><tr><td>Swiggy Instamart</td><td>1.5</td><td>Low</td></tr><tr><td>Blinkit</td><td>3.2</td><td>Medium</td></tr><tr><td>Zepto</td><td>3.1</td><td>Medium</td></tr><tr><td>Zepto</td><td>1.1</td><td>Low</td></tr><tr><td>Swiggy Instamart</td><td>2.4</td><td>Low</td></tr><tr><td>Zepto</td><td>3.1</td><td>Medium</td></tr><tr><td>Zepto</td><td>1.2</td><td>Low</td></tr><tr><td>JioMart</td><td>4.0</td><td>Medium</td></tr><tr><td>Blinkit</td><td>2.4</td><td>Low</td></tr><tr><td>Blinkit</td><td>3.4</td><td>Medium</td></tr><tr><td>JioMart</td><td>2.3</td><td>Low</td></tr><tr><td>Swiggy Instamart</td><td>3.0</td><td>Medium</td></tr><tr><td>Swiggy Instamart</td><td>3.3</td><td>Medium</td></tr><tr><td>Blinkit</td><td>1.9</td><td>Low</td></tr><tr><td>JioMart</td><td>4.2</td><td>High</td></tr><tr><td>JioMart</td><td>1.5</td><td>Low</td></tr><tr><td>JioMart</td><td>1.0</td><td>Low</td></tr><tr><td>Swiggy Instamart</td><td>1.7</td><td>Low</td></tr><tr><td>JioMart</td><td>4.6</td><td>High</td></tr><tr><td>Zepto</td><td>4.5</td><td>High</td></tr><tr><td>Zepto</td><td>3.7</td><td>Medium</td></tr><tr><td>Blinkit</td><td>1.5</td><td>Low</td></tr><tr><td>Zepto</td><td>3.8</td><td>Medium</td></tr><tr><td>JioMart</td><td>2.1</td><td>Low</td></tr><tr><td>Blinkit</td><td>1.6</td><td>Low</td></tr><tr><td>Blinkit</td><td>1.6</td><td>Low</td></tr><tr><td>Swiggy Instamart</td><td>1.9</td><td>Low</td></tr><tr><td>Blinkit</td><td>3.8</td><td>Medium</td></tr><tr><td>JioMart</td><td>4.2</td><td>High</td></tr><tr><td>Blinkit</td><td>3.3</td><td>Medium</td></tr><tr><td>JioMart</td><td>4.7</td><td>High</td></tr><tr><td>JioMart</td><td>2.5</td><td>Low</td></tr><tr><td>JioMart</td><td>2.0</td><td>Low</td></tr><tr><td>Swiggy Instamart</td><td>2.8</td><td>Low</td></tr><tr><td>Zepto</td><td>1.7</td><td>Low</td></tr><tr><td>Blinkit</td><td>3.0</td><td>Medium</td></tr><tr><td>Zepto</td><td>4.0</td><td>Medium</td></tr><tr><td>Zepto</td><td>3.9</td><td>Medium</td></tr><tr><td>Blinkit</td><td>3.2</td><td>Medium</td></tr><tr><td>Swiggy Instamart</td><td>4.3</td><td>High</td></tr><tr><td>JioMart</td><td>2.3</td><td>Low</td></tr><tr><td>Zepto</td><td>1.6</td><td>Low</td></tr><tr><td>Zepto</td><td>1.1</td><td>Low</td></tr><tr><td>Blinkit</td><td>3.7</td><td>Medium</td></tr><tr><td>Zepto</td><td>3.6</td><td>Medium</td></tr><tr><td>Zepto</td><td>3.2</td><td>Medium</td></tr><tr><td>JioMart</td><td>3.4</td><td>Medium</td></tr><tr><td>Swiggy Instamart</td><td>2.2</td><td>Low</td></tr><tr><td>Swiggy Instamart</td><td>2.2</td><td>Low</td></tr><tr><td>Zepto</td><td>3.9</td><td>Medium</td></tr><tr><td>JioMart</td><td>2.7</td><td>Low</td></tr><tr><td>JioMart</td><td>4.4</td><td>High</td></tr><tr><td>JioMart</td><td>2.9</td><td>Low</td></tr><tr><td>Blinkit</td><td>2.5</td><td>Low</td></tr><tr><td>Zepto</td><td>4.2</td><td>High</td></tr><tr><td>Blinkit</td><td>3.3</td><td>Medium</td></tr><tr><td>Swiggy Instamart</td><td>3.1</td><td>Medium</td></tr><tr><td>Blinkit</td><td>3.5</td><td>Medium</td></tr><tr><td>Swiggy Instamart</td><td>3.8</td><td>Medium</td></tr><tr><td>Swiggy Instamart</td><td>3.7</td><td>Medium</td></tr><tr><td>Zepto</td><td>1.1</td><td>Low</td></tr><tr><td>Blinkit</td><td>4.9</td><td>High</td></tr><tr><td>Swiggy Instamart</td><td>3.5</td><td>Medium</td></tr><tr><td>Zepto</td><td>1.1</td><td>Low</td></tr><tr><td>Swiggy Instamart</td><td>2.7</td><td>Low</td></tr><tr><td>Swiggy Instamart</td><td>3.2</td><td>Medium</td></tr><tr><td>JioMart</td><td>1.8</td><td>Low</td></tr><tr><td>JioMart</td><td>3.1</td><td>Medium</td></tr><tr><td>JioMart</td><td>2.9</td><td>Low</td></tr><tr><td>Zepto</td><td>1.7</td><td>Low</td></tr><tr><td>Zepto</td><td>2.1</td><td>Low</td></tr><tr><td>JioMart</td><td>1.9</td><td>Low</td></tr><tr><td>Swiggy Instamart</td><td>2.1</td><td>Low</td></tr><tr><td>JioMart</td><td>3.1</td><td>Medium</td></tr><tr><td>JioMart</td><td>2.9</td><td>Low</td></tr><tr><td>JioMart</td><td>1.3</td><td>Low</td></tr><tr><td>Blinkit</td><td>3.6</td><td>Medium</td></tr><tr><td>JioMart</td><td>1.7</td><td>Low</td></tr><tr><td>JioMart</td><td>3.8</td><td>Medium</td></tr><tr><td>Zepto</td><td>4.8</td><td>High</td></tr><tr><td>Blinkit</td><td>3.3</td><td>Medium</td></tr><tr><td>Blinkit</td><td>3.4</td><td>Medium</td></tr><tr><td>JioMart</td><td>3.7</td><td>Medium</td></tr><tr><td>Zepto</td><td>5.0</td><td>High</td></tr><tr><td>Swiggy Instamart</td><td>1.8</td><td>Low</td></tr><tr><td>Blinkit</td><td>4.9</td><td>High</td></tr><tr><td>Blinkit</td><td>3.9</td><td>Medium</td></tr><tr><td>Zepto</td><td>2.7</td><td>Low</td></tr><tr><td>Swiggy Instamart</td><td>1.7</td><td>Low</td></tr><tr><td>Swiggy Instamart</td><td>2.6</td><td>Low</td></tr><tr><td>Blinkit</td><td>2.0</td><td>Low</td></tr><tr><td>JioMart</td><td>2.7</td><td>Low</td></tr><tr><td>Blinkit</td><td>4.7</td><td>High</td></tr><tr><td>Zepto</td><td>1.7</td><td>Low</td></tr><tr><td>Swiggy Instamart</td><td>1.8</td><td>Low</td></tr><tr><td>Zepto</td><td>3.4</td><td>Medium</td></tr><tr><td>Blinkit</td><td>2.3</td><td>Low</td></tr><tr><td>Blinkit</td><td>1.3</td><td>Low</td></tr><tr><td>JioMart</td><td>3.0</td><td>Medium</td></tr><tr><td>Blinkit</td><td>4.7</td><td>High</td></tr><tr><td>Blinkit</td><td>2.8</td><td>Low</td></tr><tr><td>Swiggy Instamart</td><td>4.6</td><td>High</td></tr><tr><td>Blinkit</td><td>2.2</td><td>Low</td></tr><tr><td>Zepto</td><td>2.1</td><td>Low</td></tr><tr><td>Blinkit</td><td>3.5</td><td>Medium</td></tr><tr><td>JioMart</td><td>4.2</td><td>High</td></tr><tr><td>Swiggy Instamart</td><td>3.2</td><td>Medium</td></tr><tr><td>Zepto</td><td>1.1</td><td>Low</td></tr><tr><td>Swiggy Instamart</td><td>3.0</td><td>Medium</td></tr><tr><td>JioMart</td><td>3.5</td><td>Medium</td></tr><tr><td>JioMart</td><td>3.1</td><td>Medium</td></tr><tr><td>JioMart</td><td>1.9</td><td>Low</td></tr><tr><td>Zepto</td><td>3.6</td><td>Medium</td></tr><tr><td>Swiggy Instamart</td><td>2.5</td><td>Low</td></tr><tr><td>Blinkit</td><td>1.0</td><td>Low</td></tr><tr><td>Zepto</td><td>2.1</td><td>Low</td></tr><tr><td>Swiggy Instamart</td><td>4.3</td><td>High</td></tr><tr><td>JioMart</td><td>4.2</td><td>High</td></tr><tr><td>Swiggy Instamart</td><td>2.6</td><td>Low</td></tr><tr><td>JioMart</td><td>4.1</td><td>High</td></tr><tr><td>JioMart</td><td>2.6</td><td>Low</td></tr><tr><td>JioMart</td><td>3.2</td><td>Medium</td></tr><tr><td>Blinkit</td><td>1.6</td><td>Low</td></tr><tr><td>JioMart</td><td>1.0</td><td>Low</td></tr><tr><td>Zepto</td><td>4.4</td><td>High</td></tr><tr><td>Blinkit</td><td>3.1</td><td>Medium</td></tr><tr><td>Zepto</td><td>1.6</td><td>Low</td></tr><tr><td>Zepto</td><td>1.7</td><td>Low</td></tr><tr><td>JioMart</td><td>3.3</td><td>Medium</td></tr><tr><td>JioMart</td><td>3.7</td><td>Medium</td></tr><tr><td>Zepto</td><td>3.3</td><td>Medium</td></tr><tr><td>JioMart</td><td>4.7</td><td>High</td></tr><tr><td>Zepto</td><td>2.6</td><td>Low</td></tr><tr><td>Swiggy Instamart</td><td>1.1</td><td>Low</td></tr><tr><td>Swiggy Instamart</td><td>2.3</td><td>Low</td></tr><tr><td>Swiggy Instamart</td><td>4.8</td><td>High</td></tr><tr><td>Blinkit</td><td>1.4</td><td>Low</td></tr><tr><td>Zepto</td><td>4.5</td><td>High</td></tr><tr><td>JioMart</td><td>2.3</td><td>Low</td></tr><tr><td>Swiggy Instamart</td><td>4.4</td><td>High</td></tr><tr><td>Swiggy Instamart</td><td>1.8</td><td>Low</td></tr><tr><td>Swiggy Instamart</td><td>4.0</td><td>Medium</td></tr><tr><td>Blinkit</td><td>3.4</td><td>Medium</td></tr><tr><td>Zepto</td><td>3.2</td><td>Medium</td></tr><tr><td>Swiggy Instamart</td><td>4.3</td><td>High</td></tr><tr><td>Zepto</td><td>1.7</td><td>Low</td></tr><tr><td>JioMart</td><td>1.7</td><td>Low</td></tr><tr><td>JioMart</td><td>4.5</td><td>High</td></tr><tr><td>JioMart</td><td>1.9</td><td>Low</td></tr><tr><td>Swiggy Instamart</td><td>1.6</td><td>Low</td></tr><tr><td>Blinkit</td><td>1.4</td><td>Low</td></tr><tr><td>Blinkit</td><td>3.3</td><td>Medium</td></tr><tr><td>Swiggy Instamart</td><td>3.2</td><td>Medium</td></tr><tr><td>JioMart</td><td>3.9</td><td>Medium</td></tr><tr><td>Zepto</td><td>4.8</td><td>High</td></tr><tr><td>Zepto</td><td>4.0</td><td>Medium</td></tr><tr><td>Blinkit</td><td>1.8</td><td>Low</td></tr><tr><td>Zepto</td><td>3.0</td><td>Medium</td></tr><tr><td>Blinkit</td><td>2.5</td><td>Low</td></tr><tr><td>Swiggy Instamart</td><td>2.8</td><td>Low</td></tr><tr><td>Swiggy Instamart</td><td>3.7</td><td>Medium</td></tr><tr><td>Swiggy Instamart</td><td>4.7</td><td>High</td></tr><tr><td>Swiggy Instamart</td><td>2.7</td><td>Low</td></tr><tr><td>JioMart</td><td>3.3</td><td>Medium</td></tr><tr><td>JioMart</td><td>3.9</td><td>Medium</td></tr><tr><td>JioMart</td><td>2.1</td><td>Low</td></tr><tr><td>Blinkit</td><td>1.1</td><td>Low</td></tr><tr><td>Zepto</td><td>1.1</td><td>Low</td></tr><tr><td>Blinkit</td><td>3.1</td><td>Medium</td></tr><tr><td>Zepto</td><td>2.7</td><td>Low</td></tr><tr><td>Blinkit</td><td>2.1</td><td>Low</td></tr><tr><td>Blinkit</td><td>2.7</td><td>Low</td></tr><tr><td>JioMart</td><td>3.7</td><td>Medium</td></tr><tr><td>Swiggy Instamart</td><td>3.8</td><td>Medium</td></tr><tr><td>Blinkit</td><td>4.9</td><td>High</td></tr><tr><td>Zepto</td><td>4.7</td><td>High</td></tr><tr><td>Swiggy Instamart</td><td>2.8</td><td>Low</td></tr><tr><td>Blinkit</td><td>2.2</td><td>Low</td></tr><tr><td>JioMart</td><td>4.0</td><td>Medium</td></tr><tr><td>Swiggy Instamart</td><td>3.9</td><td>Medium</td></tr><tr><td>Swiggy Instamart</td><td>4.0</td><td>Medium</td></tr><tr><td>Swiggy Instamart</td><td>2.2</td><td>Low</td></tr><tr><td>Zepto</td><td>1.2</td><td>Low</td></tr><tr><td>JioMart</td><td>1.7</td><td>Low</td></tr><tr><td>Blinkit</td><td>3.9</td><td>Medium</td></tr><tr><td>Swiggy Instamart</td><td>2.3</td><td>Low</td></tr><tr><td>Blinkit</td><td>4.3</td><td>High</td></tr><tr><td>Blinkit</td><td>2.9</td><td>Low</td></tr><tr><td>Swiggy Instamart</td><td>2.1</td><td>Low</td></tr><tr><td>Swiggy Instamart</td><td>3.5</td><td>Medium</td></tr><tr><td>Zepto</td><td>2.7</td><td>Low</td></tr><tr><td>Blinkit</td><td>4.2</td><td>High</td></tr><tr><td>JioMart</td><td>3.1</td><td>Medium</td></tr><tr><td>Blinkit</td><td>4.0</td><td>Medium</td></tr><tr><td>Swiggy Instamart</td><td>4.6</td><td>High</td></tr><tr><td>Blinkit</td><td>1.4</td><td>Low</td></tr><tr><td>JioMart</td><td>1.6</td><td>Low</td></tr><tr><td>Swiggy Instamart</td><td>2.8</td><td>Low</td></tr><tr><td>Zepto</td><td>3.6</td><td>Medium</td></tr><tr><td>Swiggy Instamart</td><td>1.2</td><td>Low</td></tr><tr><td>JioMart</td><td>2.2</td><td>Low</td></tr><tr><td>Blinkit</td><td>4.3</td><td>High</td></tr><tr><td>Blinkit</td><td>4.0</td><td>Medium</td></tr><tr><td>Blinkit</td><td>1.1</td><td>Low</td></tr><tr><td>Zepto</td><td>3.6</td><td>Medium</td></tr><tr><td>Blinkit</td><td>4.9</td><td>High</td></tr><tr><td>Blinkit</td><td>4.1</td><td>High</td></tr><tr><td>JioMart</td><td>1.7</td><td>Low</td></tr><tr><td>Blinkit</td><td>1.1</td><td>Low</td></tr><tr><td>JioMart</td><td>4.7</td><td>High</td></tr><tr><td>Swiggy Instamart</td><td>2.8</td><td>Low</td></tr><tr><td>JioMart</td><td>1.5</td><td>Low</td></tr><tr><td>Swiggy Instamart</td><td>1.3</td><td>Low</td></tr><tr><td>JioMart</td><td>4.4</td><td>High</td></tr><tr><td>Blinkit</td><td>4.4</td><td>High</td></tr><tr><td>Zepto</td><td>3.8</td><td>Medium</td></tr><tr><td>Blinkit</td><td>4.1</td><td>High</td></tr><tr><td>Blinkit</td><td>1.1</td><td>Low</td></tr><tr><td>Blinkit</td><td>1.5</td><td>Low</td></tr><tr><td>Zepto</td><td>2.6</td><td>Low</td></tr><tr><td>Swiggy Instamart</td><td>4.5</td><td>High</td></tr><tr><td>JioMart</td><td>2.2</td><td>Low</td></tr><tr><td>Swiggy Instamart</td><td>4.6</td><td>High</td></tr><tr><td>JioMart</td><td>3.5</td><td>Medium</td></tr><tr><td>Zepto</td><td>1.6</td><td>Low</td></tr><tr><td>Swiggy Instamart</td><td>1.1</td><td>Low</td></tr><tr><td>Blinkit</td><td>4.1</td><td>High</td></tr><tr><td>JioMart</td><td>2.0</td><td>Low</td></tr><tr><td>JioMart</td><td>2.8</td><td>Low</td></tr><tr><td>Blinkit</td><td>1.3</td><td>Low</td></tr><tr><td>Zepto</td><td>4.0</td><td>Medium</td></tr><tr><td>JioMart</td><td>2.6</td><td>Low</td></tr><tr><td>JioMart</td><td>4.3</td><td>High</td></tr><tr><td>Zepto</td><td>4.3</td><td>High</td></tr><tr><td>JioMart</td><td>3.3</td><td>Medium</td></tr><tr><td>Blinkit</td><td>3.5</td><td>Medium</td></tr><tr><td>Blinkit</td><td>2.9</td><td>Low</td></tr><tr><td>JioMart</td><td>1.8</td><td>Low</td></tr><tr><td>JioMart</td><td>2.7</td><td>Low</td></tr><tr><td>JioMart</td><td>2.9</td><td>Low</td></tr><tr><td>JioMart</td><td>3.6</td><td>Medium</td></tr><tr><td>Zepto</td><td>1.6</td><td>Low</td></tr><tr><td>JioMart</td><td>1.8</td><td>Low</td></tr><tr><td>JioMart</td><td>2.1</td><td>Low</td></tr><tr><td>JioMart</td><td>3.7</td><td>Medium</td></tr><tr><td>Swiggy Instamart</td><td>1.1</td><td>Low</td></tr><tr><td>JioMart</td><td>2.6</td><td>Low</td></tr><tr><td>Blinkit</td><td>1.6</td><td>Low</td></tr><tr><td>Blinkit</td><td>2.6</td><td>Low</td></tr><tr><td>Swiggy Instamart</td><td>1.0</td><td>Low</td></tr><tr><td>Swiggy Instamart</td><td>4.7</td><td>High</td></tr><tr><td>Zepto</td><td>4.7</td><td>High</td></tr><tr><td>Swiggy Instamart</td><td>4.5</td><td>High</td></tr><tr><td>Blinkit</td><td>2.4</td><td>Low</td></tr><tr><td>Zepto</td><td>3.3</td><td>Medium</td></tr><tr><td>Blinkit</td><td>4.5</td><td>High</td></tr><tr><td>JioMart</td><td>3.0</td><td>Medium</td></tr><tr><td>Zepto</td><td>1.8</td><td>Low</td></tr><tr><td>Zepto</td><td>4.8</td><td>High</td></tr><tr><td>Swiggy Instamart</td><td>3.4</td><td>Medium</td></tr><tr><td>JioMart</td><td>4.3</td><td>High</td></tr><tr><td>Zepto</td><td>3.9</td><td>Medium</td></tr><tr><td>JioMart</td><td>1.8</td><td>Low</td></tr><tr><td>Blinkit</td><td>4.6</td><td>High</td></tr><tr><td>JioMart</td><td>4.8</td><td>High</td></tr><tr><td>Blinkit</td><td>2.7</td><td>Low</td></tr><tr><td>Swiggy Instamart</td><td>1.6</td><td>Low</td></tr><tr><td>Swiggy Instamart</td><td>3.2</td><td>Medium</td></tr><tr><td>Zepto</td><td>3.9</td><td>Medium</td></tr><tr><td>Zepto</td><td>1.9</td><td>Low</td></tr><tr><td>JioMart</td><td>2.0</td><td>Low</td></tr><tr><td>Swiggy Instamart</td><td>3.7</td><td>Medium</td></tr><tr><td>Zepto</td><td>3.0</td><td>Medium</td></tr><tr><td>Swiggy Instamart</td><td>3.6</td><td>Medium</td></tr><tr><td>Blinkit</td><td>2.4</td><td>Low</td></tr><tr><td>Swiggy Instamart</td><td>3.5</td><td>Medium</td></tr><tr><td>Swiggy Instamart</td><td>3.8</td><td>Medium</td></tr><tr><td>JioMart</td><td>4.3</td><td>High</td></tr><tr><td>Zepto</td><td>2.6</td><td>Low</td></tr><tr><td>JioMart</td><td>2.0</td><td>Low</td></tr><tr><td>Blinkit</td><td>3.0</td><td>Medium</td></tr><tr><td>Blinkit</td><td>2.9</td><td>Low</td></tr><tr><td>JioMart</td><td>4.8</td><td>High</td></tr><tr><td>Zepto</td><td>3.9</td><td>Medium</td></tr><tr><td>Blinkit</td><td>4.8</td><td>High</td></tr><tr><td>Blinkit</td><td>1.3</td><td>Low</td></tr><tr><td>JioMart</td><td>3.3</td><td>Medium</td></tr><tr><td>JioMart</td><td>4.5</td><td>High</td></tr><tr><td>Blinkit</td><td>4.0</td><td>Medium</td></tr><tr><td>JioMart</td><td>2.9</td><td>Low</td></tr><tr><td>Swiggy Instamart</td><td>1.7</td><td>Low</td></tr><tr><td>JioMart</td><td>2.1</td><td>Low</td></tr><tr><td>Zepto</td><td>3.6</td><td>Medium</td></tr><tr><td>Swiggy Instamart</td><td>1.5</td><td>Low</td></tr><tr><td>Blinkit</td><td>3.7</td><td>Medium</td></tr><tr><td>Swiggy Instamart</td><td>3.6</td><td>Medium</td></tr><tr><td>Swiggy Instamart</td><td>4.2</td><td>High</td></tr><tr><td>Zepto</td><td>2.3</td><td>Low</td></tr><tr><td>Zepto</td><td>3.2</td><td>Medium</td></tr><tr><td>Swiggy Instamart</td><td>1.5</td><td>Low</td></tr><tr><td>Zepto</td><td>3.0</td><td>Medium</td></tr><tr><td>Zepto</td><td>4.0</td><td>Medium</td></tr><tr><td>Blinkit</td><td>3.3</td><td>Medium</td></tr><tr><td>JioMart</td><td>4.1</td><td>High</td></tr><tr><td>JioMart</td><td>1.9</td><td>Low</td></tr><tr><td>Swiggy Instamart</td><td>1.9</td><td>Low</td></tr><tr><td>Zepto</td><td>4.5</td><td>High</td></tr><tr><td>Blinkit</td><td>3.5</td><td>Medium</td></tr><tr><td>Zepto</td><td>3.1</td><td>Medium</td></tr><tr><td>Zepto</td><td>4.0</td><td>Medium</td></tr><tr><td>Blinkit</td><td>4.2</td><td>High</td></tr><tr><td>Blinkit</td><td>4.0</td><td>Medium</td></tr><tr><td>Blinkit</td><td>1.5</td><td>Low</td></tr><tr><td>Swiggy Instamart</td><td>4.6</td><td>High</td></tr><tr><td>Blinkit</td><td>2.8</td><td>Low</td></tr><tr><td>Swiggy Instamart</td><td>1.2</td><td>Low</td></tr><tr><td>Swiggy Instamart</td><td>1.3</td><td>Low</td></tr><tr><td>Zepto</td><td>2.6</td><td>Low</td></tr><tr><td>Blinkit</td><td>4.7</td><td>High</td></tr><tr><td>Swiggy Instamart</td><td>1.3</td><td>Low</td></tr><tr><td>Blinkit</td><td>3.3</td><td>Medium</td></tr><tr><td>Swiggy Instamart</td><td>2.7</td><td>Low</td></tr><tr><td>JioMart</td><td>3.5</td><td>Medium</td></tr><tr><td>Zepto</td><td>3.4</td><td>Medium</td></tr><tr><td>Blinkit</td><td>3.4</td><td>Medium</td></tr><tr><td>Blinkit</td><td>3.0</td><td>Medium</td></tr><tr><td>Blinkit</td><td>1.7</td><td>Low</td></tr><tr><td>Zepto</td><td>4.5</td><td>High</td></tr><tr><td>Blinkit</td><td>2.5</td><td>Low</td></tr><tr><td>Zepto</td><td>3.0</td><td>Medium</td></tr><tr><td>JioMart</td><td>4.8</td><td>High</td></tr><tr><td>Zepto</td><td>3.2</td><td>Medium</td></tr><tr><td>Swiggy Instamart</td><td>2.3</td><td>Low</td></tr><tr><td>JioMart</td><td>4.5</td><td>High</td></tr><tr><td>Swiggy Instamart</td><td>3.9</td><td>Medium</td></tr><tr><td>Swiggy Instamart</td><td>3.4</td><td>Medium</td></tr><tr><td>Blinkit</td><td>3.5</td><td>Medium</td></tr><tr><td>JioMart</td><td>3.4</td><td>Medium</td></tr><tr><td>Zepto</td><td>4.5</td><td>High</td></tr><tr><td>Blinkit</td><td>2.7</td><td>Low</td></tr><tr><td>Blinkit</td><td>4.0</td><td>Medium</td></tr><tr><td>Swiggy Instamart</td><td>3.2</td><td>Medium</td></tr><tr><td>Swiggy Instamart</td><td>2.4</td><td>Low</td></tr><tr><td>Swiggy Instamart</td><td>1.4</td><td>Low</td></tr><tr><td>JioMart</td><td>3.0</td><td>Medium</td></tr><tr><td>Blinkit</td><td>1.4</td><td>Low</td></tr><tr><td>Blinkit</td><td>4.2</td><td>High</td></tr><tr><td>JioMart</td><td>1.1</td><td>Low</td></tr><tr><td>Swiggy Instamart</td><td>3.9</td><td>Medium</td></tr><tr><td>JioMart</td><td>4.6</td><td>High</td></tr><tr><td>JioMart</td><td>5.0</td><td>High</td></tr><tr><td>Swiggy Instamart</td><td>1.8</td><td>Low</td></tr><tr><td>Swiggy Instamart</td><td>2.3</td><td>Low</td></tr><tr><td>Zepto</td><td>2.3</td><td>Low</td></tr><tr><td>Blinkit</td><td>4.6</td><td>High</td></tr><tr><td>Swiggy Instamart</td><td>4.8</td><td>High</td></tr><tr><td>Blinkit</td><td>2.5</td><td>Low</td></tr><tr><td>Blinkit</td><td>2.6</td><td>Low</td></tr><tr><td>Blinkit</td><td>3.4</td><td>Medium</td></tr><tr><td>JioMart</td><td>2.9</td><td>Low</td></tr><tr><td>Zepto</td><td>4.4</td><td>High</td></tr><tr><td>Zepto</td><td>3.0</td><td>Medium</td></tr><tr><td>JioMart</td><td>4.1</td><td>High</td></tr><tr><td>JioMart</td><td>4.1</td><td>High</td></tr><tr><td>JioMart</td><td>4.5</td><td>High</td></tr><tr><td>Zepto</td><td>4.9</td><td>High</td></tr><tr><td>Blinkit</td><td>4.9</td><td>High</td></tr><tr><td>Blinkit</td><td>2.9</td><td>Low</td></tr><tr><td>Blinkit</td><td>1.0</td><td>Low</td></tr><tr><td>JioMart</td><td>3.3</td><td>Medium</td></tr><tr><td>JioMart</td><td>3.9</td><td>Medium</td></tr><tr><td>Swiggy Instamart</td><td>3.8</td><td>Medium</td></tr><tr><td>Blinkit</td><td>2.0</td><td>Low</td></tr><tr><td>Swiggy Instamart</td><td>4.1</td><td>High</td></tr><tr><td>Blinkit</td><td>1.0</td><td>Low</td></tr><tr><td>Zepto</td><td>4.8</td><td>High</td></tr><tr><td>Zepto</td><td>3.1</td><td>Medium</td></tr><tr><td>Blinkit</td><td>4.5</td><td>High</td></tr><tr><td>Swiggy Instamart</td><td>4.4</td><td>High</td></tr><tr><td>Zepto</td><td>2.8</td><td>Low</td></tr><tr><td>Swiggy Instamart</td><td>1.7</td><td>Low</td></tr><tr><td>Zepto</td><td>3.8</td><td>Medium</td></tr><tr><td>Zepto</td><td>3.0</td><td>Medium</td></tr><tr><td>Blinkit</td><td>4.8</td><td>High</td></tr><tr><td>Blinkit</td><td>1.9</td><td>Low</td></tr><tr><td>Zepto</td><td>1.9</td><td>Low</td></tr><tr><td>Zepto</td><td>2.1</td><td>Low</td></tr><tr><td>Blinkit</td><td>4.7</td><td>High</td></tr><tr><td>Swiggy Instamart</td><td>1.2</td><td>Low</td></tr><tr><td>Blinkit</td><td>4.7</td><td>High</td></tr><tr><td>Zepto</td><td>2.7</td><td>Low</td></tr><tr><td>JioMart</td><td>1.9</td><td>Low</td></tr><tr><td>JioMart</td><td>3.9</td><td>Medium</td></tr><tr><td>JioMart</td><td>3.6</td><td>Medium</td></tr><tr><td>Blinkit</td><td>1.7</td><td>Low</td></tr><tr><td>JioMart</td><td>1.7</td><td>Low</td></tr><tr><td>Blinkit</td><td>3.6</td><td>Medium</td></tr><tr><td>JioMart</td><td>3.3</td><td>Medium</td></tr><tr><td>Blinkit</td><td>3.6</td><td>Medium</td></tr><tr><td>Zepto</td><td>2.6</td><td>Low</td></tr><tr><td>Zepto</td><td>2.8</td><td>Low</td></tr><tr><td>Swiggy Instamart</td><td>3.7</td><td>Medium</td></tr><tr><td>Blinkit</td><td>1.7</td><td>Low</td></tr><tr><td>Swiggy Instamart</td><td>3.7</td><td>Medium</td></tr><tr><td>Swiggy Instamart</td><td>3.3</td><td>Medium</td></tr><tr><td>Swiggy Instamart</td><td>1.3</td><td>Low</td></tr><tr><td>JioMart</td><td>1.4</td><td>Low</td></tr><tr><td>Zepto</td><td>2.2</td><td>Low</td></tr><tr><td>Blinkit</td><td>3.6</td><td>Medium</td></tr><tr><td>JioMart</td><td>2.4</td><td>Low</td></tr><tr><td>Swiggy Instamart</td><td>3.7</td><td>Medium</td></tr><tr><td>Zepto</td><td>1.7</td><td>Low</td></tr><tr><td>Swiggy Instamart</td><td>3.6</td><td>Medium</td></tr><tr><td>Blinkit</td><td>2.9</td><td>Low</td></tr><tr><td>Zepto</td><td>4.2</td><td>High</td></tr><tr><td>Zepto</td><td>1.2</td><td>Low</td></tr><tr><td>Zepto</td><td>4.6</td><td>High</td></tr><tr><td>Swiggy Instamart</td><td>2.7</td><td>Low</td></tr><tr><td>Blinkit</td><td>3.5</td><td>Medium</td></tr><tr><td>Zepto</td><td>4.5</td><td>High</td></tr><tr><td>Swiggy Instamart</td><td>1.0</td><td>Low</td></tr><tr><td>Zepto</td><td>3.5</td><td>Medium</td></tr><tr><td>Zepto</td><td>3.7</td><td>Medium</td></tr><tr><td>Zepto</td><td>3.6</td><td>Medium</td></tr><tr><td>Zepto</td><td>3.3</td><td>Medium</td></tr><tr><td>Zepto</td><td>3.4</td><td>Medium</td></tr><tr><td>Blinkit</td><td>1.5</td><td>Low</td></tr><tr><td>JioMart</td><td>2.1</td><td>Low</td></tr><tr><td>Swiggy Instamart</td><td>1.3</td><td>Low</td></tr><tr><td>Swiggy Instamart</td><td>4.2</td><td>High</td></tr><tr><td>JioMart</td><td>2.6</td><td>Low</td></tr><tr><td>JioMart</td><td>4.0</td><td>Medium</td></tr><tr><td>JioMart</td><td>3.6</td><td>Medium</td></tr><tr><td>JioMart</td><td>1.6</td><td>Low</td></tr><tr><td>Zepto</td><td>4.7</td><td>High</td></tr><tr><td>JioMart</td><td>1.3</td><td>Low</td></tr><tr><td>Zepto</td><td>2.8</td><td>Low</td></tr><tr><td>JioMart</td><td>2.1</td><td>Low</td></tr><tr><td>Swiggy Instamart</td><td>2.3</td><td>Low</td></tr><tr><td>Zepto</td><td>2.2</td><td>Low</td></tr><tr><td>Blinkit</td><td>1.9</td><td>Low</td></tr><tr><td>Blinkit</td><td>3.5</td><td>Medium</td></tr><tr><td>Zepto</td><td>3.0</td><td>Medium</td></tr><tr><td>Swiggy Instamart</td><td>3.2</td><td>Medium</td></tr><tr><td>Blinkit</td><td>2.3</td><td>Low</td></tr><tr><td>Swiggy Instamart</td><td>4.3</td><td>High</td></tr><tr><td>Zepto</td><td>4.0</td><td>Medium</td></tr><tr><td>Blinkit</td><td>4.6</td><td>High</td></tr><tr><td>Swiggy Instamart</td><td>3.1</td><td>Medium</td></tr><tr><td>Zepto</td><td>3.8</td><td>Medium</td></tr><tr><td>Zepto</td><td>1.8</td><td>Low</td></tr><tr><td>Zepto</td><td>3.1</td><td>Medium</td></tr><tr><td>Blinkit</td><td>3.4</td><td>Medium</td></tr><tr><td>Swiggy Instamart</td><td>1.7</td><td>Low</td></tr><tr><td>JioMart</td><td>1.5</td><td>Low</td></tr><tr><td>Blinkit</td><td>4.4</td><td>High</td></tr><tr><td>Blinkit</td><td>1.5</td><td>Low</td></tr><tr><td>JioMart</td><td>2.5</td><td>Low</td></tr><tr><td>JioMart</td><td>2.6</td><td>Low</td></tr><tr><td>Swiggy Instamart</td><td>4.1</td><td>High</td></tr><tr><td>Swiggy Instamart</td><td>2.5</td><td>Low</td></tr><tr><td>Swiggy Instamart</td><td>4.3</td><td>High</td></tr><tr><td>Zepto</td><td>4.3</td><td>High</td></tr><tr><td>Blinkit</td><td>1.7</td><td>Low</td></tr><tr><td>Swiggy Instamart</td><td>4.7</td><td>High</td></tr><tr><td>JioMart</td><td>3.0</td><td>Medium</td></tr><tr><td>Swiggy Instamart</td><td>4.3</td><td>High</td></tr><tr><td>Blinkit</td><td>4.1</td><td>High</td></tr><tr><td>Swiggy Instamart</td><td>1.1</td><td>Low</td></tr><tr><td>Swiggy Instamart</td><td>3.8</td><td>Medium</td></tr><tr><td>JioMart</td><td>2.9</td><td>Low</td></tr><tr><td>JioMart</td><td>1.5</td><td>Low</td></tr><tr><td>Zepto</td><td>2.3</td><td>Low</td></tr><tr><td>JioMart</td><td>1.6</td><td>Low</td></tr><tr><td>JioMart</td><td>3.0</td><td>Medium</td></tr><tr><td>Blinkit</td><td>2.4</td><td>Low</td></tr><tr><td>Swiggy Instamart</td><td>1.5</td><td>Low</td></tr><tr><td>Blinkit</td><td>4.4</td><td>High</td></tr><tr><td>Swiggy Instamart</td><td>3.5</td><td>Medium</td></tr><tr><td>Blinkit</td><td>4.6</td><td>High</td></tr><tr><td>Swiggy Instamart</td><td>4.7</td><td>High</td></tr><tr><td>Zepto</td><td>4.3</td><td>High</td></tr><tr><td>Swiggy Instamart</td><td>3.2</td><td>Medium</td></tr><tr><td>JioMart</td><td>3.8</td><td>Medium</td></tr><tr><td>Swiggy Instamart</td><td>2.6</td><td>Low</td></tr><tr><td>Blinkit</td><td>1.9</td><td>Low</td></tr><tr><td>Blinkit</td><td>2.8</td><td>Low</td></tr><tr><td>JioMart</td><td>4.5</td><td>High</td></tr><tr><td>JioMart</td><td>3.4</td><td>Medium</td></tr><tr><td>JioMart</td><td>2.5</td><td>Low</td></tr><tr><td>Blinkit</td><td>2.9</td><td>Low</td></tr><tr><td>JioMart</td><td>1.6</td><td>Low</td></tr><tr><td>Swiggy Instamart</td><td>2.2</td><td>Low</td></tr><tr><td>JioMart</td><td>4.4</td><td>High</td></tr><tr><td>Blinkit</td><td>1.6</td><td>Low</td></tr><tr><td>JioMart</td><td>4.6</td><td>High</td></tr><tr><td>Swiggy Instamart</td><td>1.4</td><td>Low</td></tr><tr><td>Swiggy Instamart</td><td>3.3</td><td>Medium</td></tr><tr><td>Blinkit</td><td>4.9</td><td>High</td></tr><tr><td>JioMart</td><td>1.8</td><td>Low</td></tr><tr><td>Blinkit</td><td>3.3</td><td>Medium</td></tr><tr><td>Swiggy Instamart</td><td>4.1</td><td>High</td></tr><tr><td>JioMart</td><td>2.2</td><td>Low</td></tr><tr><td>Blinkit</td><td>4.1</td><td>High</td></tr><tr><td>Swiggy Instamart</td><td>3.7</td><td>Medium</td></tr><tr><td>Zepto</td><td>3.8</td><td>Medium</td></tr><tr><td>Swiggy Instamart</td><td>2.8</td><td>Low</td></tr><tr><td>Zepto</td><td>3.1</td><td>Medium</td></tr><tr><td>JioMart</td><td>3.0</td><td>Medium</td></tr><tr><td>JioMart</td><td>1.8</td><td>Low</td></tr><tr><td>Zepto</td><td>3.3</td><td>Medium</td></tr><tr><td>Swiggy Instamart</td><td>1.9</td><td>Low</td></tr><tr><td>JioMart</td><td>1.4</td><td>Low</td></tr><tr><td>Blinkit</td><td>2.9</td><td>Low</td></tr><tr><td>Swiggy Instamart</td><td>3.8</td><td>Medium</td></tr><tr><td>Zepto</td><td>2.5</td><td>Low</td></tr><tr><td>Swiggy Instamart</td><td>3.9</td><td>Medium</td></tr><tr><td>Blinkit</td><td>4.5</td><td>High</td></tr><tr><td>Zepto</td><td>2.0</td><td>Low</td></tr><tr><td>Blinkit</td><td>3.9</td><td>Medium</td></tr><tr><td>JioMart</td><td>2.6</td><td>Low</td></tr><tr><td>Zepto</td><td>2.9</td><td>Low</td></tr><tr><td>JioMart</td><td>2.6</td><td>Low</td></tr><tr><td>Blinkit</td><td>2.6</td><td>Low</td></tr><tr><td>Blinkit</td><td>2.1</td><td>Low</td></tr><tr><td>Blinkit</td><td>2.1</td><td>Low</td></tr><tr><td>Blinkit</td><td>4.5</td><td>High</td></tr><tr><td>Blinkit</td><td>3.5</td><td>Medium</td></tr><tr><td>Zepto</td><td>2.6</td><td>Low</td></tr><tr><td>Swiggy Instamart</td><td>3.0</td><td>Medium</td></tr><tr><td>JioMart</td><td>3.2</td><td>Medium</td></tr><tr><td>Blinkit</td><td>4.4</td><td>High</td></tr><tr><td>Swiggy Instamart</td><td>2.5</td><td>Low</td></tr><tr><td>JioMart</td><td>2.2</td><td>Low</td></tr><tr><td>Zepto</td><td>2.0</td><td>Low</td></tr><tr><td>Swiggy Instamart</td><td>3.8</td><td>Medium</td></tr><tr><td>JioMart</td><td>4.2</td><td>High</td></tr><tr><td>Blinkit</td><td>4.0</td><td>Medium</td></tr><tr><td>JioMart</td><td>4.3</td><td>High</td></tr><tr><td>JioMart</td><td>3.0</td><td>Medium</td></tr><tr><td>Blinkit</td><td>1.6</td><td>Low</td></tr><tr><td>JioMart</td><td>3.8</td><td>Medium</td></tr><tr><td>JioMart</td><td>4.5</td><td>High</td></tr><tr><td>Zepto</td><td>2.8</td><td>Low</td></tr><tr><td>Zepto</td><td>2.2</td><td>Low</td></tr><tr><td>Zepto</td><td>4.6</td><td>High</td></tr><tr><td>Swiggy Instamart</td><td>3.3</td><td>Medium</td></tr><tr><td>Blinkit</td><td>1.6</td><td>Low</td></tr><tr><td>Swiggy Instamart</td><td>3.7</td><td>Medium</td></tr><tr><td>JioMart</td><td>4.4</td><td>High</td></tr><tr><td>JioMart</td><td>1.2</td><td>Low</td></tr><tr><td>Zepto</td><td>2.3</td><td>Low</td></tr><tr><td>JioMart</td><td>4.4</td><td>High</td></tr><tr><td>JioMart</td><td>3.6</td><td>Medium</td></tr><tr><td>Swiggy Instamart</td><td>3.6</td><td>Medium</td></tr><tr><td>Zepto</td><td>2.8</td><td>Low</td></tr><tr><td>Blinkit</td><td>3.8</td><td>Medium</td></tr><tr><td>Blinkit</td><td>2.9</td><td>Low</td></tr><tr><td>JioMart</td><td>4.9</td><td>High</td></tr><tr><td>Zepto</td><td>4.2</td><td>High</td></tr><tr><td>Zepto</td><td>4.7</td><td>High</td></tr><tr><td>Zepto</td><td>3.6</td><td>Medium</td></tr><tr><td>Swiggy Instamart</td><td>4.3</td><td>High</td></tr><tr><td>Zepto</td><td>1.0</td><td>Low</td></tr><tr><td>JioMart</td><td>3.0</td><td>Medium</td></tr><tr><td>Zepto</td><td>1.5</td><td>Low</td></tr><tr><td>Blinkit</td><td>4.1</td><td>High</td></tr><tr><td>Swiggy Instamart</td><td>1.8</td><td>Low</td></tr><tr><td>Blinkit</td><td>3.5</td><td>Medium</td></tr><tr><td>JioMart</td><td>4.4</td><td>High</td></tr><tr><td>Blinkit</td><td>1.9</td><td>Low</td></tr><tr><td>Zepto</td><td>1.7</td><td>Low</td></tr><tr><td>Blinkit</td><td>1.9</td><td>Low</td></tr><tr><td>Blinkit</td><td>1.7</td><td>Low</td></tr><tr><td>Zepto</td><td>4.4</td><td>High</td></tr><tr><td>Zepto</td><td>2.6</td><td>Low</td></tr><tr><td>JioMart</td><td>3.7</td><td>Medium</td></tr><tr><td>Swiggy Instamart</td><td>5.0</td><td>High</td></tr><tr><td>Swiggy Instamart</td><td>3.2</td><td>Medium</td></tr><tr><td>Swiggy Instamart</td><td>4.2</td><td>High</td></tr><tr><td>Swiggy Instamart</td><td>3.2</td><td>Medium</td></tr><tr><td>Swiggy Instamart</td><td>1.4</td><td>Low</td></tr><tr><td>Swiggy Instamart</td><td>3.7</td><td>Medium</td></tr><tr><td>Blinkit</td><td>4.2</td><td>High</td></tr><tr><td>Zepto</td><td>3.6</td><td>Medium</td></tr><tr><td>Swiggy Instamart</td><td>1.1</td><td>Low</td></tr><tr><td>Blinkit</td><td>3.9</td><td>Medium</td></tr><tr><td>Zepto</td><td>2.9</td><td>Low</td></tr><tr><td>Swiggy Instamart</td><td>2.7</td><td>Low</td></tr><tr><td>Blinkit</td><td>1.8</td><td>Low</td></tr><tr><td>Swiggy Instamart</td><td>4.3</td><td>High</td></tr><tr><td>JioMart</td><td>1.7</td><td>Low</td></tr><tr><td>Blinkit</td><td>2.0</td><td>Low</td></tr><tr><td>Swiggy Instamart</td><td>1.0</td><td>Low</td></tr><tr><td>Swiggy Instamart</td><td>2.3</td><td>Low</td></tr><tr><td>JioMart</td><td>1.2</td><td>Low</td></tr><tr><td>Swiggy Instamart</td><td>4.2</td><td>High</td></tr><tr><td>JioMart</td><td>2.6</td><td>Low</td></tr><tr><td>Swiggy Instamart</td><td>1.1</td><td>Low</td></tr><tr><td>JioMart</td><td>1.4</td><td>Low</td></tr><tr><td>Zepto</td><td>2.3</td><td>Low</td></tr><tr><td>JioMart</td><td>2.0</td><td>Low</td></tr><tr><td>Zepto</td><td>1.2</td><td>Low</td></tr><tr><td>Swiggy Instamart</td><td>3.4</td><td>Medium</td></tr><tr><td>Blinkit</td><td>2.3</td><td>Low</td></tr><tr><td>JioMart</td><td>4.9</td><td>High</td></tr><tr><td>JioMart</td><td>4.1</td><td>High</td></tr><tr><td>Zepto</td><td>2.1</td><td>Low</td></tr><tr><td>Blinkit</td><td>4.6</td><td>High</td></tr><tr><td>JioMart</td><td>1.9</td><td>Low</td></tr><tr><td>JioMart</td><td>3.3</td><td>Medium</td></tr><tr><td>Swiggy Instamart</td><td>2.0</td><td>Low</td></tr><tr><td>Blinkit</td><td>3.6</td><td>Medium</td></tr><tr><td>Zepto</td><td>2.3</td><td>Low</td></tr><tr><td>Blinkit</td><td>4.2</td><td>High</td></tr><tr><td>Swiggy Instamart</td><td>2.8</td><td>Low</td></tr><tr><td>Swiggy Instamart</td><td>1.8</td><td>Low</td></tr><tr><td>Zepto</td><td>1.1</td><td>Low</td></tr><tr><td>Zepto</td><td>4.6</td><td>High</td></tr><tr><td>JioMart</td><td>1.3</td><td>Low</td></tr><tr><td>JioMart</td><td>3.2</td><td>Medium</td></tr><tr><td>Swiggy Instamart</td><td>1.2</td><td>Low</td></tr><tr><td>Swiggy Instamart</td><td>5.0</td><td>High</td></tr><tr><td>Blinkit</td><td>1.3</td><td>Low</td></tr><tr><td>Blinkit</td><td>4.6</td><td>High</td></tr><tr><td>JioMart</td><td>1.6</td><td>Low</td></tr><tr><td>JioMart</td><td>3.7</td><td>Medium</td></tr><tr><td>Swiggy Instamart</td><td>1.8</td><td>Low</td></tr><tr><td>JioMart</td><td>1.7</td><td>Low</td></tr><tr><td>Zepto</td><td>3.8</td><td>Medium</td></tr><tr><td>JioMart</td><td>3.2</td><td>Medium</td></tr><tr><td>Zepto</td><td>2.5</td><td>Low</td></tr><tr><td>JioMart</td><td>4.9</td><td>High</td></tr><tr><td>Zepto</td><td>1.1</td><td>Low</td></tr><tr><td>JioMart</td><td>1.7</td><td>Low</td></tr><tr><td>Zepto</td><td>3.4</td><td>Medium</td></tr><tr><td>JioMart</td><td>1.8</td><td>Low</td></tr><tr><td>Zepto</td><td>3.7</td><td>Medium</td></tr><tr><td>JioMart</td><td>1.8</td><td>Low</td></tr><tr><td>Zepto</td><td>1.9</td><td>Low</td></tr><tr><td>Zepto</td><td>1.3</td><td>Low</td></tr><tr><td>Blinkit</td><td>2.5</td><td>Low</td></tr><tr><td>Zepto</td><td>2.0</td><td>Low</td></tr><tr><td>Zepto</td><td>2.5</td><td>Low</td></tr><tr><td>Blinkit</td><td>3.2</td><td>Medium</td></tr><tr><td>JioMart</td><td>3.4</td><td>Medium</td></tr><tr><td>Zepto</td><td>3.4</td><td>Medium</td></tr><tr><td>JioMart</td><td>2.5</td><td>Low</td></tr><tr><td>Swiggy Instamart</td><td>2.6</td><td>Low</td></tr><tr><td>Blinkit</td><td>3.1</td><td>Medium</td></tr><tr><td>Blinkit</td><td>2.1</td><td>Low</td></tr><tr><td>Swiggy Instamart</td><td>1.8</td><td>Low</td></tr><tr><td>Zepto</td><td>2.9</td><td>Low</td></tr><tr><td>Blinkit</td><td>1.2</td><td>Low</td></tr><tr><td>Blinkit</td><td>4.9</td><td>High</td></tr><tr><td>Zepto</td><td>4.2</td><td>High</td></tr><tr><td>Blinkit</td><td>1.2</td><td>Low</td></tr><tr><td>JioMart</td><td>3.4</td><td>Medium</td></tr><tr><td>Swiggy Instamart</td><td>2.0</td><td>Low</td></tr><tr><td>Blinkit</td><td>2.5</td><td>Low</td></tr><tr><td>Swiggy Instamart</td><td>1.5</td><td>Low</td></tr><tr><td>Swiggy Instamart</td><td>4.2</td><td>High</td></tr><tr><td>JioMart</td><td>2.3</td><td>Low</td></tr><tr><td>JioMart</td><td>3.3</td><td>Medium</td></tr><tr><td>Zepto</td><td>1.0</td><td>Low</td></tr><tr><td>Zepto</td><td>4.8</td><td>High</td></tr><tr><td>Swiggy Instamart</td><td>2.6</td><td>Low</td></tr><tr><td>JioMart</td><td>2.3</td><td>Low</td></tr><tr><td>Blinkit</td><td>4.0</td><td>Medium</td></tr><tr><td>Swiggy Instamart</td><td>4.2</td><td>High</td></tr><tr><td>Zepto</td><td>1.0</td><td>Low</td></tr><tr><td>Blinkit</td><td>3.2</td><td>Medium</td></tr><tr><td>JioMart</td><td>1.2</td><td>Low</td></tr><tr><td>Swiggy Instamart</td><td>3.1</td><td>Medium</td></tr><tr><td>Zepto</td><td>1.7</td><td>Low</td></tr><tr><td>Zepto</td><td>1.9</td><td>Low</td></tr><tr><td>JioMart</td><td>2.2</td><td>Low</td></tr><tr><td>Swiggy Instamart</td><td>2.8</td><td>Low</td></tr><tr><td>JioMart</td><td>3.6</td><td>Medium</td></tr><tr><td>Blinkit</td><td>2.8</td><td>Low</td></tr><tr><td>Blinkit</td><td>4.8</td><td>High</td></tr><tr><td>Swiggy Instamart</td><td>4.4</td><td>High</td></tr><tr><td>Blinkit</td><td>3.6</td><td>Medium</td></tr><tr><td>JioMart</td><td>1.3</td><td>Low</td></tr><tr><td>Zepto</td><td>3.1</td><td>Medium</td></tr><tr><td>Blinkit</td><td>1.6</td><td>Low</td></tr><tr><td>JioMart</td><td>3.9</td><td>Medium</td></tr><tr><td>JioMart</td><td>1.0</td><td>Low</td></tr><tr><td>JioMart</td><td>1.2</td><td>Low</td></tr><tr><td>Swiggy Instamart</td><td>2.7</td><td>Low</td></tr><tr><td>Zepto</td><td>3.0</td><td>Medium</td></tr><tr><td>JioMart</td><td>1.5</td><td>Low</td></tr><tr><td>Swiggy Instamart</td><td>3.6</td><td>Medium</td></tr><tr><td>Swiggy Instamart</td><td>4.9</td><td>High</td></tr><tr><td>Swiggy Instamart</td><td>4.1</td><td>High</td></tr><tr><td>Zepto</td><td>2.4</td><td>Low</td></tr><tr><td>Zepto</td><td>4.8</td><td>High</td></tr><tr><td>JioMart</td><td>3.0</td><td>Medium</td></tr><tr><td>Swiggy Instamart</td><td>1.7</td><td>Low</td></tr><tr><td>Zepto</td><td>2.9</td><td>Low</td></tr><tr><td>JioMart</td><td>4.2</td><td>High</td></tr><tr><td>Blinkit</td><td>3.3</td><td>Medium</td></tr><tr><td>Blinkit</td><td>4.1</td><td>High</td></tr><tr><td>Swiggy Instamart</td><td>1.1</td><td>Low</td></tr><tr><td>Blinkit</td><td>3.6</td><td>Medium</td></tr><tr><td>Blinkit</td><td>3.4</td><td>Medium</td></tr><tr><td>Zepto</td><td>3.9</td><td>Medium</td></tr><tr><td>Swiggy Instamart</td><td>4.5</td><td>High</td></tr><tr><td>Swiggy Instamart</td><td>1.7</td><td>Low</td></tr><tr><td>Blinkit</td><td>4.0</td><td>Medium</td></tr><tr><td>Blinkit</td><td>1.6</td><td>Low</td></tr><tr><td>JioMart</td><td>3.8</td><td>Medium</td></tr><tr><td>Swiggy Instamart</td><td>1.9</td><td>Low</td></tr><tr><td>Blinkit</td><td>4.7</td><td>High</td></tr><tr><td>JioMart</td><td>3.2</td><td>Medium</td></tr><tr><td>Swiggy Instamart</td><td>1.7</td><td>Low</td></tr><tr><td>Blinkit</td><td>3.8</td><td>Medium</td></tr><tr><td>Swiggy Instamart</td><td>2.9</td><td>Low</td></tr><tr><td>Swiggy Instamart</td><td>1.4</td><td>Low</td></tr><tr><td>Swiggy Instamart</td><td>4.5</td><td>High</td></tr><tr><td>Blinkit</td><td>4.6</td><td>High</td></tr><tr><td>JioMart</td><td>1.2</td><td>Low</td></tr><tr><td>Blinkit</td><td>2.9</td><td>Low</td></tr><tr><td>Zepto</td><td>1.5</td><td>Low</td></tr><tr><td>Zepto</td><td>1.8</td><td>Low</td></tr><tr><td>Zepto</td><td>2.2</td><td>Low</td></tr><tr><td>Blinkit</td><td>4.7</td><td>High</td></tr><tr><td>Zepto</td><td>2.9</td><td>Low</td></tr><tr><td>Zepto</td><td>3.6</td><td>Medium</td></tr><tr><td>JioMart</td><td>1.2</td><td>Low</td></tr><tr><td>Swiggy Instamart</td><td>3.4</td><td>Medium</td></tr><tr><td>Swiggy Instamart</td><td>3.6</td><td>Medium</td></tr><tr><td>Blinkit</td><td>2.3</td><td>Low</td></tr><tr><td>Zepto</td><td>3.7</td><td>Medium</td></tr><tr><td>JioMart</td><td>4.6</td><td>High</td></tr><tr><td>Zepto</td><td>1.2</td><td>Low</td></tr><tr><td>Zepto</td><td>4.9</td><td>High</td></tr><tr><td>JioMart</td><td>1.5</td><td>Low</td></tr><tr><td>Swiggy Instamart</td><td>3.8</td><td>Medium</td></tr><tr><td>Blinkit</td><td>1.4</td><td>Low</td></tr><tr><td>Blinkit</td><td>2.2</td><td>Low</td></tr><tr><td>Swiggy Instamart</td><td>3.5</td><td>Medium</td></tr><tr><td>JioMart</td><td>3.1</td><td>Medium</td></tr><tr><td>Blinkit</td><td>2.4</td><td>Low</td></tr><tr><td>Zepto</td><td>4.4</td><td>High</td></tr><tr><td>Zepto</td><td>2.9</td><td>Low</td></tr><tr><td>JioMart</td><td>4.4</td><td>High</td></tr><tr><td>Blinkit</td><td>3.1</td><td>Medium</td></tr><tr><td>JioMart</td><td>4.1</td><td>High</td></tr><tr><td>JioMart</td><td>3.5</td><td>Medium</td></tr><tr><td>JioMart</td><td>3.2</td><td>Medium</td></tr><tr><td>Blinkit</td><td>1.2</td><td>Low</td></tr><tr><td>Blinkit</td><td>4.2</td><td>High</td></tr><tr><td>Swiggy Instamart</td><td>2.4</td><td>Low</td></tr><tr><td>Blinkit</td><td>4.0</td><td>Medium</td></tr><tr><td>Swiggy Instamart</td><td>3.1</td><td>Medium</td></tr><tr><td>Blinkit</td><td>4.7</td><td>High</td></tr><tr><td>JioMart</td><td>1.0</td><td>Low</td></tr><tr><td>Zepto</td><td>4.6</td><td>High</td></tr><tr><td>JioMart</td><td>4.4</td><td>High</td></tr><tr><td>JioMart</td><td>4.6</td><td>High</td></tr><tr><td>Zepto</td><td>3.2</td><td>Medium</td></tr><tr><td>Blinkit</td><td>1.6</td><td>Low</td></tr><tr><td>Swiggy Instamart</td><td>1.2</td><td>Low</td></tr><tr><td>Swiggy Instamart</td><td>2.3</td><td>Low</td></tr><tr><td>Zepto</td><td>1.8</td><td>Low</td></tr><tr><td>Zepto</td><td>3.9</td><td>Medium</td></tr><tr><td>Blinkit</td><td>2.1</td><td>Low</td></tr><tr><td>Zepto</td><td>2.9</td><td>Low</td></tr><tr><td>JioMart</td><td>4.2</td><td>High</td></tr><tr><td>Zepto</td><td>4.3</td><td>High</td></tr><tr><td>Blinkit</td><td>1.0</td><td>Low</td></tr><tr><td>Blinkit</td><td>5.0</td><td>High</td></tr><tr><td>Zepto</td><td>1.7</td><td>Low</td></tr><tr><td>JioMart</td><td>2.1</td><td>Low</td></tr><tr><td>Blinkit</td><td>1.6</td><td>Low</td></tr><tr><td>Zepto</td><td>3.6</td><td>Medium</td></tr><tr><td>Zepto</td><td>4.3</td><td>High</td></tr><tr><td>Swiggy Instamart</td><td>3.1</td><td>Medium</td></tr><tr><td>JioMart</td><td>3.5</td><td>Medium</td></tr><tr><td>Blinkit</td><td>4.2</td><td>High</td></tr><tr><td>JioMart</td><td>1.8</td><td>Low</td></tr><tr><td>Swiggy Instamart</td><td>1.6</td><td>Low</td></tr><tr><td>Zepto</td><td>1.3</td><td>Low</td></tr><tr><td>Blinkit</td><td>1.5</td><td>Low</td></tr><tr><td>Swiggy Instamart</td><td>2.4</td><td>Low</td></tr><tr><td>Blinkit</td><td>3.8</td><td>Medium</td></tr><tr><td>Zepto</td><td>3.7</td><td>Medium</td></tr><tr><td>Zepto</td><td>2.7</td><td>Low</td></tr><tr><td>Swiggy Instamart</td><td>3.6</td><td>Medium</td></tr><tr><td>Blinkit</td><td>1.2</td><td>Low</td></tr><tr><td>JioMart</td><td>4.5</td><td>High</td></tr><tr><td>Blinkit</td><td>2.2</td><td>Low</td></tr><tr><td>Swiggy Instamart</td><td>4.3</td><td>High</td></tr><tr><td>Swiggy Instamart</td><td>3.7</td><td>Medium</td></tr><tr><td>Swiggy Instamart</td><td>3.0</td><td>Medium</td></tr><tr><td>JioMart</td><td>4.6</td><td>High</td></tr><tr><td>Zepto</td><td>2.1</td><td>Low</td></tr><tr><td>Zepto</td><td>4.6</td><td>High</td></tr><tr><td>Swiggy Instamart</td><td>2.5</td><td>Low</td></tr><tr><td>Zepto</td><td>1.3</td><td>Low</td></tr><tr><td>Swiggy Instamart</td><td>3.8</td><td>Medium</td></tr><tr><td>Zepto</td><td>4.0</td><td>Medium</td></tr><tr><td>Blinkit</td><td>4.3</td><td>High</td></tr><tr><td>Zepto</td><td>1.4</td><td>Low</td></tr><tr><td>Blinkit</td><td>2.4</td><td>Low</td></tr><tr><td>JioMart</td><td>2.4</td><td>Low</td></tr><tr><td>Zepto</td><td>1.4</td><td>Low</td></tr><tr><td>JioMart</td><td>4.7</td><td>High</td></tr><tr><td>Zepto</td><td>2.4</td><td>Low</td></tr><tr><td>JioMart</td><td>2.3</td><td>Low</td></tr><tr><td>JioMart</td><td>3.5</td><td>Medium</td></tr><tr><td>Zepto</td><td>1.4</td><td>Low</td></tr><tr><td>Swiggy Instamart</td><td>4.9</td><td>High</td></tr><tr><td>Zepto</td><td>3.0</td><td>Medium</td></tr><tr><td>JioMart</td><td>3.2</td><td>Medium</td></tr><tr><td>Swiggy Instamart</td><td>3.6</td><td>Medium</td></tr><tr><td>Blinkit</td><td>2.5</td><td>Low</td></tr><tr><td>Blinkit</td><td>2.4</td><td>Low</td></tr><tr><td>JioMart</td><td>3.2</td><td>Medium</td></tr><tr><td>Zepto</td><td>4.7</td><td>High</td></tr><tr><td>JioMart</td><td>3.8</td><td>Medium</td></tr><tr><td>JioMart</td><td>4.5</td><td>High</td></tr></tbody></table></div>"
            ]
          },
          "metadata": {
            "application/vnd.databricks.v1+output": {
              "addedWidgets": {},
              "aggData": [],
              "aggError": "",
              "aggOverflow": false,
              "aggSchema": [],
              "aggSeriesLimitReached": false,
              "aggType": "",
              "arguments": {},
              "columnCustomDisplayInfos": {},
              "data": [
                [
                  "Zepto",
                  4.5,
                  "High"
                ],
                [
                  "Zepto",
                  2.1,
                  "Low"
                ],
                [
                  "JioMart",
                  4.5,
                  "High"
                ],
                [
                  "JioMart",
                  2.6,
                  "Low"
                ],
                [
                  "Zepto",
                  3.6,
                  "Medium"
                ],
                [
                  "Blinkit",
                  1.9,
                  "Low"
                ],
                [
                  "Blinkit",
                  3.3,
                  "Medium"
                ],
                [
                  "Blinkit",
                  1.5,
                  "Low"
                ],
                [
                  "Zepto",
                  2.8,
                  "Low"
                ],
                [
                  "JioMart",
                  2.5,
                  "Low"
                ],
                [
                  "Zepto",
                  2.5,
                  "Low"
                ],
                [
                  "Swiggy Instamart",
                  2.9,
                  "Low"
                ],
                [
                  "JioMart",
                  4.6,
                  "High"
                ],
                [
                  "JioMart",
                  2.6,
                  "Low"
                ],
                [
                  "Blinkit",
                  3.6,
                  "Medium"
                ],
                [
                  "Zepto",
                  1.8,
                  "Low"
                ],
                [
                  "Zepto",
                  3.8,
                  "Medium"
                ],
                [
                  "Zepto",
                  2,
                  "Low"
                ],
                [
                  "JioMart",
                  4.7,
                  "High"
                ],
                [
                  "Blinkit",
                  3.6,
                  "Medium"
                ],
                [
                  "Zepto",
                  2.3,
                  "Low"
                ],
                [
                  "Swiggy Instamart",
                  3.8,
                  "Medium"
                ],
                [
                  "JioMart",
                  1.9,
                  "Low"
                ],
                [
                  "Zepto",
                  2.2,
                  "Low"
                ],
                [
                  "JioMart",
                  1.1,
                  "Low"
                ],
                [
                  "Blinkit",
                  1.3,
                  "Low"
                ],
                [
                  "Swiggy Instamart",
                  4.6,
                  "High"
                ],
                [
                  "Blinkit",
                  4.8,
                  "High"
                ],
                [
                  "Zepto",
                  2.2,
                  "Low"
                ],
                [
                  "Blinkit",
                  2.4,
                  "Low"
                ],
                [
                  "Zepto",
                  3.8,
                  "Medium"
                ],
                [
                  "Swiggy Instamart",
                  1.5,
                  "Low"
                ],
                [
                  "Blinkit",
                  1.6,
                  "Low"
                ],
                [
                  "Zepto",
                  4.7,
                  "High"
                ],
                [
                  "JioMart",
                  1.8,
                  "Low"
                ],
                [
                  "Zepto",
                  2.4,
                  "Low"
                ],
                [
                  "JioMart",
                  3.4,
                  "Medium"
                ],
                [
                  "Blinkit",
                  2.4,
                  "Low"
                ],
                [
                  "Zepto",
                  2.5,
                  "Low"
                ],
                [
                  "Swiggy Instamart",
                  3.1,
                  "Medium"
                ],
                [
                  "JioMart",
                  4.3,
                  "High"
                ],
                [
                  "Zepto",
                  2.3,
                  "Low"
                ],
                [
                  "Blinkit",
                  4.3,
                  "High"
                ],
                [
                  "Zepto",
                  4.7,
                  "High"
                ],
                [
                  "Zepto",
                  2.2,
                  "Low"
                ],
                [
                  "Blinkit",
                  2.6,
                  "Low"
                ],
                [
                  "Zepto",
                  3.6,
                  "Medium"
                ],
                [
                  "Blinkit",
                  2.7,
                  "Low"
                ],
                [
                  "Blinkit",
                  2.6,
                  "Low"
                ],
                [
                  "Zepto",
                  2.8,
                  "Low"
                ],
                [
                  "Zepto",
                  3.7,
                  "Medium"
                ],
                [
                  "Zepto",
                  3.8,
                  "Medium"
                ],
                [
                  "Zepto",
                  3.6,
                  "Medium"
                ],
                [
                  "JioMart",
                  3.4,
                  "Medium"
                ],
                [
                  "Swiggy Instamart",
                  4.6,
                  "High"
                ],
                [
                  "Blinkit",
                  3,
                  "Medium"
                ],
                [
                  "Blinkit",
                  3.9,
                  "Medium"
                ],
                [
                  "JioMart",
                  3.7,
                  "Medium"
                ],
                [
                  "Swiggy Instamart",
                  3.6,
                  "Medium"
                ],
                [
                  "Swiggy Instamart",
                  4.8,
                  "High"
                ],
                [
                  "Zepto",
                  3.7,
                  "Medium"
                ],
                [
                  "Zepto",
                  3.7,
                  "Medium"
                ],
                [
                  "Zepto",
                  4.6,
                  "High"
                ],
                [
                  "Swiggy Instamart",
                  2.5,
                  "Low"
                ],
                [
                  "Blinkit",
                  1,
                  "Low"
                ],
                [
                  "Zepto",
                  1.6,
                  "Low"
                ],
                [
                  "JioMart",
                  1.5,
                  "Low"
                ],
                [
                  "Swiggy Instamart",
                  2.1,
                  "Low"
                ],
                [
                  "JioMart",
                  1.2,
                  "Low"
                ],
                [
                  "JioMart",
                  2.7,
                  "Low"
                ],
                [
                  "JioMart",
                  1.9,
                  "Low"
                ],
                [
                  "JioMart",
                  4.1,
                  "High"
                ],
                [
                  "Swiggy Instamart",
                  2.7,
                  "Low"
                ],
                [
                  "JioMart",
                  4.3,
                  "High"
                ],
                [
                  "Swiggy Instamart",
                  3.6,
                  "Medium"
                ],
                [
                  "Zepto",
                  3.7,
                  "Medium"
                ],
                [
                  "Zepto",
                  1.2,
                  "Low"
                ],
                [
                  "Swiggy Instamart",
                  1.6,
                  "Low"
                ],
                [
                  "Zepto",
                  3.3,
                  "Medium"
                ],
                [
                  "JioMart",
                  4.4,
                  "High"
                ],
                [
                  "Swiggy Instamart",
                  3.6,
                  "Medium"
                ],
                [
                  "Swiggy Instamart",
                  3.4,
                  "Medium"
                ],
                [
                  "JioMart",
                  4.7,
                  "High"
                ],
                [
                  "Swiggy Instamart",
                  1.4,
                  "Low"
                ],
                [
                  "Blinkit",
                  1.7,
                  "Low"
                ],
                [
                  "Zepto",
                  1.6,
                  "Low"
                ],
                [
                  "Blinkit",
                  4.7,
                  "High"
                ],
                [
                  "JioMart",
                  2.6,
                  "Low"
                ],
                [
                  "Zepto",
                  1.3,
                  "Low"
                ],
                [
                  "Blinkit",
                  1.5,
                  "Low"
                ],
                [
                  "Swiggy Instamart",
                  3.8,
                  "Medium"
                ],
                [
                  "Blinkit",
                  2.6,
                  "Low"
                ],
                [
                  "Swiggy Instamart",
                  2.9,
                  "Low"
                ],
                [
                  "Zepto",
                  5,
                  "High"
                ],
                [
                  "Swiggy Instamart",
                  4.3,
                  "High"
                ],
                [
                  "Swiggy Instamart",
                  4.3,
                  "High"
                ],
                [
                  "JioMart",
                  4.6,
                  "High"
                ],
                [
                  "Blinkit",
                  4.9,
                  "High"
                ],
                [
                  "Zepto",
                  3,
                  "Medium"
                ],
                [
                  "Swiggy Instamart",
                  4.8,
                  "High"
                ],
                [
                  "Swiggy Instamart",
                  4.8,
                  "High"
                ],
                [
                  "Blinkit",
                  4.3,
                  "High"
                ],
                [
                  "JioMart",
                  3.8,
                  "Medium"
                ],
                [
                  "Blinkit",
                  2.2,
                  "Low"
                ],
                [
                  "JioMart",
                  4,
                  "Medium"
                ],
                [
                  "Zepto",
                  3.2,
                  "Medium"
                ],
                [
                  "Swiggy Instamart",
                  2.2,
                  "Low"
                ],
                [
                  "Swiggy Instamart",
                  1.4,
                  "Low"
                ],
                [
                  "Swiggy Instamart",
                  4.4,
                  "High"
                ],
                [
                  "Zepto",
                  1.7,
                  "Low"
                ],
                [
                  "Blinkit",
                  4.3,
                  "High"
                ],
                [
                  "JioMart",
                  3.1,
                  "Medium"
                ],
                [
                  "Zepto",
                  4.8,
                  "High"
                ],
                [
                  "Zepto",
                  4.2,
                  "High"
                ],
                [
                  "Swiggy Instamart",
                  1.2,
                  "Low"
                ],
                [
                  "Swiggy Instamart",
                  4.7,
                  "High"
                ],
                [
                  "Zepto",
                  1.1,
                  "Low"
                ],
                [
                  "Blinkit",
                  3.7,
                  "Medium"
                ],
                [
                  "Swiggy Instamart",
                  2.8,
                  "Low"
                ],
                [
                  "JioMart",
                  2.2,
                  "Low"
                ],
                [
                  "Blinkit",
                  5,
                  "High"
                ],
                [
                  "Blinkit",
                  4.2,
                  "High"
                ],
                [
                  "Zepto",
                  3.8,
                  "Medium"
                ],
                [
                  "Zepto",
                  4.6,
                  "High"
                ],
                [
                  "JioMart",
                  4,
                  "Medium"
                ],
                [
                  "JioMart",
                  3.1,
                  "Medium"
                ],
                [
                  "Blinkit",
                  4.7,
                  "High"
                ],
                [
                  "JioMart",
                  4.7,
                  "High"
                ],
                [
                  "JioMart",
                  3,
                  "Medium"
                ],
                [
                  "Swiggy Instamart",
                  3.7,
                  "Medium"
                ],
                [
                  "JioMart",
                  2.6,
                  "Low"
                ],
                [
                  "Zepto",
                  1.7,
                  "Low"
                ],
                [
                  "Zepto",
                  2.1,
                  "Low"
                ],
                [
                  "Zepto",
                  4.7,
                  "High"
                ],
                [
                  "Blinkit",
                  2.7,
                  "Low"
                ],
                [
                  "JioMart",
                  1.1,
                  "Low"
                ],
                [
                  "Blinkit",
                  1.6,
                  "Low"
                ],
                [
                  "Blinkit",
                  2.8,
                  "Low"
                ],
                [
                  "JioMart",
                  4.2,
                  "High"
                ],
                [
                  "Zepto",
                  3.2,
                  "Medium"
                ],
                [
                  "Blinkit",
                  3.7,
                  "Medium"
                ],
                [
                  "JioMart",
                  4.8,
                  "High"
                ],
                [
                  "Blinkit",
                  2.2,
                  "Low"
                ],
                [
                  "JioMart",
                  1.3,
                  "Low"
                ],
                [
                  "JioMart",
                  2.1,
                  "Low"
                ],
                [
                  "Zepto",
                  2.7,
                  "Low"
                ],
                [
                  "JioMart",
                  1.7,
                  "Low"
                ],
                [
                  "Blinkit",
                  1.4,
                  "Low"
                ],
                [
                  "Zepto",
                  4.1,
                  "High"
                ],
                [
                  "Blinkit",
                  1,
                  "Low"
                ],
                [
                  "Swiggy Instamart",
                  3.7,
                  "Medium"
                ],
                [
                  "Swiggy Instamart",
                  3.1,
                  "Medium"
                ],
                [
                  "Blinkit",
                  3.6,
                  "Medium"
                ],
                [
                  "Swiggy Instamart",
                  4.3,
                  "High"
                ],
                [
                  "Blinkit",
                  2.3,
                  "Low"
                ],
                [
                  "Zepto",
                  3.8,
                  "Medium"
                ],
                [
                  "JioMart",
                  3.2,
                  "Medium"
                ],
                [
                  "Blinkit",
                  3.2,
                  "Medium"
                ],
                [
                  "JioMart",
                  2.8,
                  "Low"
                ],
                [
                  "Swiggy Instamart",
                  2.8,
                  "Low"
                ],
                [
                  "Swiggy Instamart",
                  4.3,
                  "High"
                ],
                [
                  "Swiggy Instamart",
                  5,
                  "High"
                ],
                [
                  "Swiggy Instamart",
                  2,
                  "Low"
                ],
                [
                  "Blinkit",
                  1,
                  "Low"
                ],
                [
                  "JioMart",
                  4.8,
                  "High"
                ],
                [
                  "Blinkit",
                  1.2,
                  "Low"
                ],
                [
                  "Swiggy Instamart",
                  4,
                  "Medium"
                ],
                [
                  "Swiggy Instamart",
                  4.8,
                  "High"
                ],
                [
                  "Blinkit",
                  4.8,
                  "High"
                ],
                [
                  "JioMart",
                  3,
                  "Medium"
                ],
                [
                  "Blinkit",
                  1.9,
                  "Low"
                ],
                [
                  "Zepto",
                  1.9,
                  "Low"
                ],
                [
                  "Blinkit",
                  5,
                  "High"
                ],
                [
                  "Zepto",
                  3.4,
                  "Medium"
                ],
                [
                  "Swiggy Instamart",
                  2,
                  "Low"
                ],
                [
                  "JioMart",
                  3.4,
                  "Medium"
                ],
                [
                  "JioMart",
                  2.1,
                  "Low"
                ],
                [
                  "JioMart",
                  4.2,
                  "High"
                ],
                [
                  "Blinkit",
                  1.7,
                  "Low"
                ],
                [
                  "JioMart",
                  1.3,
                  "Low"
                ],
                [
                  "JioMart",
                  3.4,
                  "Medium"
                ],
                [
                  "Blinkit",
                  2.2,
                  "Low"
                ],
                [
                  "Zepto",
                  2.6,
                  "Low"
                ],
                [
                  "Swiggy Instamart",
                  1.4,
                  "Low"
                ],
                [
                  "JioMart",
                  2.9,
                  "Low"
                ],
                [
                  "Swiggy Instamart",
                  3.8,
                  "Medium"
                ],
                [
                  "Swiggy Instamart",
                  5,
                  "High"
                ],
                [
                  "Blinkit",
                  3.1,
                  "Medium"
                ],
                [
                  "JioMart",
                  3.2,
                  "Medium"
                ],
                [
                  "Swiggy Instamart",
                  3.6,
                  "Medium"
                ],
                [
                  "Swiggy Instamart",
                  2.6,
                  "Low"
                ],
                [
                  "JioMart",
                  4.7,
                  "High"
                ],
                [
                  "Swiggy Instamart",
                  3.7,
                  "Medium"
                ],
                [
                  "Blinkit",
                  4.1,
                  "High"
                ],
                [
                  "Blinkit",
                  1.5,
                  "Low"
                ],
                [
                  "Swiggy Instamart",
                  2.5,
                  "Low"
                ],
                [
                  "Swiggy Instamart",
                  1.3,
                  "Low"
                ],
                [
                  "Swiggy Instamart",
                  4.3,
                  "High"
                ],
                [
                  "Blinkit",
                  2.3,
                  "Low"
                ],
                [
                  "Zepto",
                  1.9,
                  "Low"
                ],
                [
                  "Blinkit",
                  4.4,
                  "High"
                ],
                [
                  "JioMart",
                  3.8,
                  "Medium"
                ],
                [
                  "Blinkit",
                  1.1,
                  "Low"
                ],
                [
                  "Blinkit",
                  1.7,
                  "Low"
                ],
                [
                  "Swiggy Instamart",
                  3,
                  "Medium"
                ],
                [
                  "JioMart",
                  1.7,
                  "Low"
                ],
                [
                  "Swiggy Instamart",
                  4.6,
                  "High"
                ],
                [
                  "Swiggy Instamart",
                  4.8,
                  "High"
                ],
                [
                  "Zepto",
                  3,
                  "Medium"
                ],
                [
                  "Blinkit",
                  1.7,
                  "Low"
                ],
                [
                  "Blinkit",
                  2.8,
                  "Low"
                ],
                [
                  "Blinkit",
                  1.1,
                  "Low"
                ],
                [
                  "Swiggy Instamart",
                  3.7,
                  "Medium"
                ],
                [
                  "Zepto",
                  3.5,
                  "Medium"
                ],
                [
                  "Zepto",
                  1.5,
                  "Low"
                ],
                [
                  "JioMart",
                  3.5,
                  "Medium"
                ],
                [
                  "Zepto",
                  3.2,
                  "Medium"
                ],
                [
                  "Zepto",
                  2.7,
                  "Low"
                ],
                [
                  "JioMart",
                  3.3,
                  "Medium"
                ],
                [
                  "Zepto",
                  3.3,
                  "Medium"
                ],
                [
                  "Zepto",
                  3.3,
                  "Medium"
                ],
                [
                  "Swiggy Instamart",
                  3.8,
                  "Medium"
                ],
                [
                  "Swiggy Instamart",
                  3.8,
                  "Medium"
                ],
                [
                  "JioMart",
                  4,
                  "Medium"
                ],
                [
                  "Blinkit",
                  2.3,
                  "Low"
                ],
                [
                  "JioMart",
                  4.5,
                  "High"
                ],
                [
                  "JioMart",
                  4.6,
                  "High"
                ],
                [
                  "Zepto",
                  1.7,
                  "Low"
                ],
                [
                  "Swiggy Instamart",
                  1,
                  "Low"
                ],
                [
                  "Swiggy Instamart",
                  2.2,
                  "Low"
                ],
                [
                  "JioMart",
                  1.8,
                  "Low"
                ],
                [
                  "JioMart",
                  4.2,
                  "High"
                ],
                [
                  "Swiggy Instamart",
                  1.2,
                  "Low"
                ],
                [
                  "Swiggy Instamart",
                  4.1,
                  "High"
                ],
                [
                  "Zepto",
                  3,
                  "Medium"
                ],
                [
                  "Zepto",
                  1.5,
                  "Low"
                ],
                [
                  "Swiggy Instamart",
                  1.9,
                  "Low"
                ],
                [
                  "Swiggy Instamart",
                  3.8,
                  "Medium"
                ],
                [
                  "Swiggy Instamart",
                  2.7,
                  "Low"
                ],
                [
                  "Blinkit",
                  3.1,
                  "Medium"
                ],
                [
                  "Zepto",
                  4.4,
                  "High"
                ],
                [
                  "Zepto",
                  4.2,
                  "High"
                ],
                [
                  "JioMart",
                  4.1,
                  "High"
                ],
                [
                  "JioMart",
                  1.2,
                  "Low"
                ],
                [
                  "Zepto",
                  2.5,
                  "Low"
                ],
                [
                  "Blinkit",
                  2.4,
                  "Low"
                ],
                [
                  "Swiggy Instamart",
                  4.1,
                  "High"
                ],
                [
                  "Blinkit",
                  1.5,
                  "Low"
                ],
                [
                  "Zepto",
                  3.3,
                  "Medium"
                ],
                [
                  "Swiggy Instamart",
                  1.7,
                  "Low"
                ],
                [
                  "Swiggy Instamart",
                  3.5,
                  "Medium"
                ],
                [
                  "Zepto",
                  2.6,
                  "Low"
                ],
                [
                  "Zepto",
                  4.9,
                  "High"
                ],
                [
                  "Blinkit",
                  1.3,
                  "Low"
                ],
                [
                  "JioMart",
                  4.1,
                  "High"
                ],
                [
                  "Blinkit",
                  3.8,
                  "Medium"
                ],
                [
                  "JioMart",
                  2.4,
                  "Low"
                ],
                [
                  "Blinkit",
                  1.2,
                  "Low"
                ],
                [
                  "Blinkit",
                  2.4,
                  "Low"
                ],
                [
                  "Zepto",
                  4.8,
                  "High"
                ],
                [
                  "JioMart",
                  2.6,
                  "Low"
                ],
                [
                  "Swiggy Instamart",
                  1.1,
                  "Low"
                ],
                [
                  "Zepto",
                  1.8,
                  "Low"
                ],
                [
                  "Swiggy Instamart",
                  2.2,
                  "Low"
                ],
                [
                  "Swiggy Instamart",
                  2,
                  "Low"
                ],
                [
                  "Blinkit",
                  1.3,
                  "Low"
                ],
                [
                  "Zepto",
                  3.9,
                  "Medium"
                ],
                [
                  "JioMart",
                  4.7,
                  "High"
                ],
                [
                  "Zepto",
                  4.6,
                  "High"
                ],
                [
                  "Blinkit",
                  3.7,
                  "Medium"
                ],
                [
                  "JioMart",
                  1.8,
                  "Low"
                ],
                [
                  "JioMart",
                  3.5,
                  "Medium"
                ],
                [
                  "Blinkit",
                  2.1,
                  "Low"
                ],
                [
                  "JioMart",
                  4.9,
                  "High"
                ],
                [
                  "JioMart",
                  3.4,
                  "Medium"
                ],
                [
                  "JioMart",
                  2.5,
                  "Low"
                ],
                [
                  "Zepto",
                  3.3,
                  "Medium"
                ],
                [
                  "Swiggy Instamart",
                  1.1,
                  "Low"
                ],
                [
                  "JioMart",
                  3.1,
                  "Medium"
                ],
                [
                  "JioMart",
                  4.3,
                  "High"
                ],
                [
                  "Zepto",
                  4.5,
                  "High"
                ],
                [
                  "Blinkit",
                  2.9,
                  "Low"
                ],
                [
                  "Zepto",
                  2.6,
                  "Low"
                ],
                [
                  "Blinkit",
                  4.2,
                  "High"
                ],
                [
                  "Blinkit",
                  4.9,
                  "High"
                ],
                [
                  "JioMart",
                  3,
                  "Medium"
                ],
                [
                  "Swiggy Instamart",
                  1,
                  "Low"
                ],
                [
                  "JioMart",
                  1.6,
                  "Low"
                ],
                [
                  "Zepto",
                  2.8,
                  "Low"
                ],
                [
                  "Zepto",
                  2.3,
                  "Low"
                ],
                [
                  "Swiggy Instamart",
                  2.6,
                  "Low"
                ],
                [
                  "Swiggy Instamart",
                  3.7,
                  "Medium"
                ],
                [
                  "Swiggy Instamart",
                  1.4,
                  "Low"
                ],
                [
                  "Blinkit",
                  4.4,
                  "High"
                ],
                [
                  "Zepto",
                  3.2,
                  "Medium"
                ],
                [
                  "JioMart",
                  4.6,
                  "High"
                ],
                [
                  "Blinkit",
                  1.6,
                  "Low"
                ],
                [
                  "Zepto",
                  2.9,
                  "Low"
                ],
                [
                  "Blinkit",
                  4,
                  "Medium"
                ],
                [
                  "Zepto",
                  3.7,
                  "Medium"
                ],
                [
                  "Blinkit",
                  3,
                  "Medium"
                ],
                [
                  "JioMart",
                  1.8,
                  "Low"
                ],
                [
                  "Zepto",
                  2.3,
                  "Low"
                ],
                [
                  "Blinkit",
                  4.6,
                  "High"
                ],
                [
                  "Zepto",
                  2.4,
                  "Low"
                ],
                [
                  "Zepto",
                  3.8,
                  "Medium"
                ],
                [
                  "Zepto",
                  2.3,
                  "Low"
                ],
                [
                  "Swiggy Instamart",
                  1.8,
                  "Low"
                ],
                [
                  "Blinkit",
                  1.2,
                  "Low"
                ],
                [
                  "Blinkit",
                  4.7,
                  "High"
                ],
                [
                  "Blinkit",
                  2,
                  "Low"
                ],
                [
                  "Blinkit",
                  1.4,
                  "Low"
                ],
                [
                  "Blinkit",
                  4.7,
                  "High"
                ],
                [
                  "Zepto",
                  5,
                  "High"
                ],
                [
                  "JioMart",
                  2.8,
                  "Low"
                ],
                [
                  "JioMart",
                  4.9,
                  "High"
                ],
                [
                  "JioMart",
                  2.6,
                  "Low"
                ],
                [
                  "Blinkit",
                  4.4,
                  "High"
                ],
                [
                  "Blinkit",
                  4.3,
                  "High"
                ],
                [
                  "Swiggy Instamart",
                  4.6,
                  "High"
                ],
                [
                  "Swiggy Instamart",
                  3.2,
                  "Medium"
                ],
                [
                  "JioMart",
                  2.9,
                  "Low"
                ],
                [
                  "Blinkit",
                  3.1,
                  "Medium"
                ],
                [
                  "Blinkit",
                  4.4,
                  "High"
                ],
                [
                  "Blinkit",
                  3.7,
                  "Medium"
                ],
                [
                  "Zepto",
                  2.3,
                  "Low"
                ],
                [
                  "Swiggy Instamart",
                  4.4,
                  "High"
                ],
                [
                  "JioMart",
                  2.6,
                  "Low"
                ],
                [
                  "Swiggy Instamart",
                  3.5,
                  "Medium"
                ],
                [
                  "JioMart",
                  3.5,
                  "Medium"
                ],
                [
                  "Blinkit",
                  1.8,
                  "Low"
                ],
                [
                  "Zepto",
                  1.6,
                  "Low"
                ],
                [
                  "JioMart",
                  3.9,
                  "Medium"
                ],
                [
                  "Blinkit",
                  4.9,
                  "High"
                ],
                [
                  "Zepto",
                  4,
                  "Medium"
                ],
                [
                  "Zepto",
                  3.1,
                  "Medium"
                ],
                [
                  "Blinkit",
                  4.9,
                  "High"
                ],
                [
                  "Zepto",
                  1.3,
                  "Low"
                ],
                [
                  "Blinkit",
                  4.1,
                  "High"
                ],
                [
                  "JioMart",
                  2.7,
                  "Low"
                ],
                [
                  "Swiggy Instamart",
                  1.6,
                  "Low"
                ],
                [
                  "Swiggy Instamart",
                  3.6,
                  "Medium"
                ],
                [
                  "Zepto",
                  3.4,
                  "Medium"
                ],
                [
                  "JioMart",
                  4.6,
                  "High"
                ],
                [
                  "Zepto",
                  2.6,
                  "Low"
                ],
                [
                  "JioMart",
                  4.9,
                  "High"
                ],
                [
                  "Blinkit",
                  3,
                  "Medium"
                ],
                [
                  "Blinkit",
                  4.1,
                  "High"
                ],
                [
                  "JioMart",
                  3.8,
                  "Medium"
                ],
                [
                  "Blinkit",
                  3.3,
                  "Medium"
                ],
                [
                  "Blinkit",
                  3.8,
                  "Medium"
                ],
                [
                  "Zepto",
                  3,
                  "Medium"
                ],
                [
                  "Blinkit",
                  1.5,
                  "Low"
                ],
                [
                  "JioMart",
                  2.4,
                  "Low"
                ],
                [
                  "Swiggy Instamart",
                  2.4,
                  "Low"
                ],
                [
                  "JioMart",
                  4.9,
                  "High"
                ],
                [
                  "Zepto",
                  3.2,
                  "Medium"
                ],
                [
                  "Blinkit",
                  4.8,
                  "High"
                ],
                [
                  "Swiggy Instamart",
                  3.6,
                  "Medium"
                ],
                [
                  "Blinkit",
                  2,
                  "Low"
                ],
                [
                  "JioMart",
                  1.8,
                  "Low"
                ],
                [
                  "Zepto",
                  2.8,
                  "Low"
                ],
                [
                  "Zepto",
                  4.2,
                  "High"
                ],
                [
                  "Zepto",
                  2,
                  "Low"
                ],
                [
                  "Zepto",
                  2.2,
                  "Low"
                ],
                [
                  "Swiggy Instamart",
                  3.4,
                  "Medium"
                ],
                [
                  "JioMart",
                  3.5,
                  "Medium"
                ],
                [
                  "JioMart",
                  4.6,
                  "High"
                ],
                [
                  "Zepto",
                  1.1,
                  "Low"
                ],
                [
                  "JioMart",
                  4,
                  "Medium"
                ],
                [
                  "Zepto",
                  3.8,
                  "Medium"
                ],
                [
                  "Zepto",
                  2.5,
                  "Low"
                ],
                [
                  "Blinkit",
                  4.3,
                  "High"
                ],
                [
                  "Swiggy Instamart",
                  3.2,
                  "Medium"
                ],
                [
                  "JioMart",
                  4.3,
                  "High"
                ],
                [
                  "Blinkit",
                  4.4,
                  "High"
                ],
                [
                  "Blinkit",
                  4.4,
                  "High"
                ],
                [
                  "Blinkit",
                  3.1,
                  "Medium"
                ],
                [
                  "Swiggy Instamart",
                  1.5,
                  "Low"
                ],
                [
                  "Zepto",
                  3.4,
                  "Medium"
                ],
                [
                  "Blinkit",
                  3.7,
                  "Medium"
                ],
                [
                  "Blinkit",
                  3.6,
                  "Medium"
                ],
                [
                  "Blinkit",
                  2,
                  "Low"
                ],
                [
                  "JioMart",
                  4.6,
                  "High"
                ],
                [
                  "Zepto",
                  1.7,
                  "Low"
                ],
                [
                  "Zepto",
                  2.1,
                  "Low"
                ],
                [
                  "Swiggy Instamart",
                  4,
                  "Medium"
                ],
                [
                  "Zepto",
                  2,
                  "Low"
                ],
                [
                  "Blinkit",
                  1.8,
                  "Low"
                ],
                [
                  "Zepto",
                  4.2,
                  "High"
                ],
                [
                  "Blinkit",
                  4.1,
                  "High"
                ],
                [
                  "Zepto",
                  3.5,
                  "Medium"
                ],
                [
                  "JioMart",
                  4.6,
                  "High"
                ],
                [
                  "Swiggy Instamart",
                  4.8,
                  "High"
                ],
                [
                  "Blinkit",
                  4.5,
                  "High"
                ],
                [
                  "Swiggy Instamart",
                  2.3,
                  "Low"
                ],
                [
                  "Blinkit",
                  2.6,
                  "Low"
                ],
                [
                  "Zepto",
                  3.2,
                  "Medium"
                ],
                [
                  "JioMart",
                  3.1,
                  "Medium"
                ],
                [
                  "JioMart",
                  3.2,
                  "Medium"
                ],
                [
                  "Blinkit",
                  3.3,
                  "Medium"
                ],
                [
                  "JioMart",
                  1.1,
                  "Low"
                ],
                [
                  "Swiggy Instamart",
                  2.3,
                  "Low"
                ],
                [
                  "Blinkit",
                  3.4,
                  "Medium"
                ],
                [
                  "Swiggy Instamart",
                  5,
                  "High"
                ],
                [
                  "JioMart",
                  2.6,
                  "Low"
                ],
                [
                  "Swiggy Instamart",
                  1.2,
                  "Low"
                ],
                [
                  "Zepto",
                  2.9,
                  "Low"
                ],
                [
                  "Zepto",
                  1.5,
                  "Low"
                ],
                [
                  "Zepto",
                  1.1,
                  "Low"
                ],
                [
                  "Swiggy Instamart",
                  2.4,
                  "Low"
                ],
                [
                  "Swiggy Instamart",
                  4.7,
                  "High"
                ],
                [
                  "Blinkit",
                  2.5,
                  "Low"
                ],
                [
                  "Zepto",
                  4.2,
                  "High"
                ],
                [
                  "Zepto",
                  4.6,
                  "High"
                ],
                [
                  "JioMart",
                  1.7,
                  "Low"
                ],
                [
                  "Swiggy Instamart",
                  2.3,
                  "Low"
                ],
                [
                  "JioMart",
                  1.3,
                  "Low"
                ],
                [
                  "JioMart",
                  4.9,
                  "High"
                ],
                [
                  "Swiggy Instamart",
                  1.6,
                  "Low"
                ],
                [
                  "Blinkit",
                  1.7,
                  "Low"
                ],
                [
                  "Blinkit",
                  2,
                  "Low"
                ],
                [
                  "Zepto",
                  4.5,
                  "High"
                ],
                [
                  "Swiggy Instamart",
                  2.2,
                  "Low"
                ],
                [
                  "Blinkit",
                  4.1,
                  "High"
                ],
                [
                  "Blinkit",
                  3.6,
                  "Medium"
                ],
                [
                  "Swiggy Instamart",
                  1.9,
                  "Low"
                ],
                [
                  "Zepto",
                  2.6,
                  "Low"
                ],
                [
                  "Zepto",
                  4.4,
                  "High"
                ],
                [
                  "Swiggy Instamart",
                  3.4,
                  "Medium"
                ],
                [
                  "Swiggy Instamart",
                  4.3,
                  "High"
                ],
                [
                  "JioMart",
                  3.2,
                  "Medium"
                ],
                [
                  "JioMart",
                  1,
                  "Low"
                ],
                [
                  "Blinkit",
                  3.9,
                  "Medium"
                ],
                [
                  "Zepto",
                  4.3,
                  "High"
                ],
                [
                  "Swiggy Instamart",
                  2,
                  "Low"
                ],
                [
                  "Zepto",
                  4.6,
                  "High"
                ],
                [
                  "Blinkit",
                  4.8,
                  "High"
                ],
                [
                  "Swiggy Instamart",
                  3,
                  "Medium"
                ],
                [
                  "Zepto",
                  2.8,
                  "Low"
                ],
                [
                  "Swiggy Instamart",
                  1.2,
                  "Low"
                ],
                [
                  "Swiggy Instamart",
                  4,
                  "Medium"
                ],
                [
                  "Zepto",
                  4.1,
                  "High"
                ],
                [
                  "Swiggy Instamart",
                  3,
                  "Medium"
                ],
                [
                  "Zepto",
                  3.2,
                  "Medium"
                ],
                [
                  "JioMart",
                  3.1,
                  "Medium"
                ],
                [
                  "JioMart",
                  3.1,
                  "Medium"
                ],
                [
                  "JioMart",
                  2.8,
                  "Low"
                ],
                [
                  "JioMart",
                  1.6,
                  "Low"
                ],
                [
                  "JioMart",
                  3.3,
                  "Medium"
                ],
                [
                  "JioMart",
                  3.9,
                  "Medium"
                ],
                [
                  "Zepto",
                  3.1,
                  "Medium"
                ],
                [
                  "Swiggy Instamart",
                  3.8,
                  "Medium"
                ],
                [
                  "Swiggy Instamart",
                  4.6,
                  "High"
                ],
                [
                  "Blinkit",
                  3.5,
                  "Medium"
                ],
                [
                  "JioMart",
                  1.1,
                  "Low"
                ],
                [
                  "Blinkit",
                  3,
                  "Medium"
                ],
                [
                  "Blinkit",
                  2.9,
                  "Low"
                ],
                [
                  "Swiggy Instamart",
                  2.1,
                  "Low"
                ],
                [
                  "Zepto",
                  2.9,
                  "Low"
                ],
                [
                  "Swiggy Instamart",
                  4.2,
                  "High"
                ],
                [
                  "Blinkit",
                  2.1,
                  "Low"
                ],
                [
                  "Zepto",
                  4.7,
                  "High"
                ],
                [
                  "Swiggy Instamart",
                  2,
                  "Low"
                ],
                [
                  "Swiggy Instamart",
                  3.3,
                  "Medium"
                ],
                [
                  "Zepto",
                  2.9,
                  "Low"
                ],
                [
                  "Blinkit",
                  1.7,
                  "Low"
                ],
                [
                  "Blinkit",
                  4.8,
                  "High"
                ],
                [
                  "Blinkit",
                  2.8,
                  "Low"
                ],
                [
                  "Blinkit",
                  4,
                  "Medium"
                ],
                [
                  "Zepto",
                  4,
                  "Medium"
                ],
                [
                  "Zepto",
                  4.2,
                  "High"
                ],
                [
                  "Swiggy Instamart",
                  2.6,
                  "Low"
                ],
                [
                  "JioMart",
                  3.4,
                  "Medium"
                ],
                [
                  "JioMart",
                  4.2,
                  "High"
                ],
                [
                  "Swiggy Instamart",
                  2.9,
                  "Low"
                ],
                [
                  "Swiggy Instamart",
                  1.6,
                  "Low"
                ],
                [
                  "Zepto",
                  4.5,
                  "High"
                ],
                [
                  "Zepto",
                  1.9,
                  "Low"
                ],
                [
                  "Swiggy Instamart",
                  2.9,
                  "Low"
                ],
                [
                  "Zepto",
                  4.5,
                  "High"
                ],
                [
                  "Blinkit",
                  4,
                  "Medium"
                ],
                [
                  "Swiggy Instamart",
                  3.7,
                  "Medium"
                ],
                [
                  "Swiggy Instamart",
                  1,
                  "Low"
                ],
                [
                  "Zepto",
                  2.5,
                  "Low"
                ],
                [
                  "Swiggy Instamart",
                  2.6,
                  "Low"
                ],
                [
                  "Zepto",
                  2.7,
                  "Low"
                ],
                [
                  "Blinkit",
                  1.2,
                  "Low"
                ],
                [
                  "JioMart",
                  4.7,
                  "High"
                ],
                [
                  "Blinkit",
                  1.9,
                  "Low"
                ],
                [
                  "Zepto",
                  3.5,
                  "Medium"
                ],
                [
                  "Zepto",
                  2.3,
                  "Low"
                ],
                [
                  "Swiggy Instamart",
                  3.2,
                  "Medium"
                ],
                [
                  "Blinkit",
                  4.7,
                  "High"
                ],
                [
                  "Zepto",
                  2.8,
                  "Low"
                ],
                [
                  "JioMart",
                  2.9,
                  "Low"
                ],
                [
                  "Swiggy Instamart",
                  2.1,
                  "Low"
                ],
                [
                  "Blinkit",
                  3.5,
                  "Medium"
                ],
                [
                  "Swiggy Instamart",
                  4.6,
                  "High"
                ],
                [
                  "Zepto",
                  2.5,
                  "Low"
                ],
                [
                  "Zepto",
                  3,
                  "Medium"
                ],
                [
                  "Swiggy Instamart",
                  1.7,
                  "Low"
                ],
                [
                  "Zepto",
                  3.3,
                  "Medium"
                ],
                [
                  "JioMart",
                  1.9,
                  "Low"
                ],
                [
                  "Zepto",
                  2.1,
                  "Low"
                ],
                [
                  "Blinkit",
                  4.5,
                  "High"
                ],
                [
                  "Zepto",
                  1.4,
                  "Low"
                ],
                [
                  "Zepto",
                  4.5,
                  "High"
                ],
                [
                  "JioMart",
                  2.5,
                  "Low"
                ],
                [
                  "JioMart",
                  2.9,
                  "Low"
                ],
                [
                  "JioMart",
                  4.8,
                  "High"
                ],
                [
                  "JioMart",
                  1.1,
                  "Low"
                ],
                [
                  "Zepto",
                  2.1,
                  "Low"
                ],
                [
                  "Swiggy Instamart",
                  1.8,
                  "Low"
                ],
                [
                  "Zepto",
                  1,
                  "Low"
                ],
                [
                  "Zepto",
                  1,
                  "Low"
                ],
                [
                  "Blinkit",
                  2.8,
                  "Low"
                ],
                [
                  "Swiggy Instamart",
                  3.7,
                  "Medium"
                ],
                [
                  "JioMart",
                  1.9,
                  "Low"
                ],
                [
                  "JioMart",
                  1.9,
                  "Low"
                ],
                [
                  "Swiggy Instamart",
                  1.3,
                  "Low"
                ],
                [
                  "Zepto",
                  4.2,
                  "High"
                ],
                [
                  "Zepto",
                  1.3,
                  "Low"
                ],
                [
                  "Swiggy Instamart",
                  3.8,
                  "Medium"
                ],
                [
                  "Swiggy Instamart",
                  3.6,
                  "Medium"
                ],
                [
                  "JioMart",
                  3.7,
                  "Medium"
                ],
                [
                  "Blinkit",
                  2.9,
                  "Low"
                ],
                [
                  "Blinkit",
                  4.8,
                  "High"
                ],
                [
                  "JioMart",
                  2.2,
                  "Low"
                ],
                [
                  "Blinkit",
                  1.8,
                  "Low"
                ],
                [
                  "Zepto",
                  2.9,
                  "Low"
                ],
                [
                  "Blinkit",
                  3.7,
                  "Medium"
                ],
                [
                  "Swiggy Instamart",
                  3.3,
                  "Medium"
                ],
                [
                  "Blinkit",
                  3.7,
                  "Medium"
                ],
                [
                  "Swiggy Instamart",
                  3.7,
                  "Medium"
                ],
                [
                  "Swiggy Instamart",
                  3.2,
                  "Medium"
                ],
                [
                  "JioMart",
                  3,
                  "Medium"
                ],
                [
                  "JioMart",
                  1.7,
                  "Low"
                ],
                [
                  "JioMart",
                  3.4,
                  "Medium"
                ],
                [
                  "JioMart",
                  4.8,
                  "High"
                ],
                [
                  "Swiggy Instamart",
                  2.8,
                  "Low"
                ],
                [
                  "Zepto",
                  3.9,
                  "Medium"
                ],
                [
                  "Zepto",
                  2,
                  "Low"
                ],
                [
                  "Zepto",
                  2.4,
                  "Low"
                ],
                [
                  "Blinkit",
                  4.5,
                  "High"
                ],
                [
                  "Zepto",
                  3.1,
                  "Medium"
                ],
                [
                  "Zepto",
                  2,
                  "Low"
                ],
                [
                  "Blinkit",
                  4.3,
                  "High"
                ],
                [
                  "Blinkit",
                  3.7,
                  "Medium"
                ],
                [
                  "Swiggy Instamart",
                  1.2,
                  "Low"
                ],
                [
                  "Blinkit",
                  2.4,
                  "Low"
                ],
                [
                  "Zepto",
                  4.9,
                  "High"
                ],
                [
                  "Swiggy Instamart",
                  2.4,
                  "Low"
                ],
                [
                  "Blinkit",
                  1.4,
                  "Low"
                ],
                [
                  "JioMart",
                  4.2,
                  "High"
                ],
                [
                  "JioMart",
                  4,
                  "Medium"
                ],
                [
                  "Zepto",
                  2.4,
                  "Low"
                ],
                [
                  "JioMart",
                  4,
                  "Medium"
                ],
                [
                  "Blinkit",
                  3.1,
                  "Medium"
                ],
                [
                  "Blinkit",
                  2.3,
                  "Low"
                ],
                [
                  "JioMart",
                  3.2,
                  "Medium"
                ],
                [
                  "Blinkit",
                  2.1,
                  "Low"
                ],
                [
                  "Blinkit",
                  1.6,
                  "Low"
                ],
                [
                  "Zepto",
                  4.4,
                  "High"
                ],
                [
                  "Blinkit",
                  4.3,
                  "High"
                ],
                [
                  "Zepto",
                  2.3,
                  "Low"
                ],
                [
                  "Blinkit",
                  4.7,
                  "High"
                ],
                [
                  "Swiggy Instamart",
                  4.5,
                  "High"
                ],
                [
                  "Blinkit",
                  2.2,
                  "Low"
                ],
                [
                  "Zepto",
                  2.4,
                  "Low"
                ],
                [
                  "Blinkit",
                  1.5,
                  "Low"
                ],
                [
                  "Zepto",
                  5,
                  "High"
                ],
                [
                  "Blinkit",
                  4.4,
                  "High"
                ],
                [
                  "Zepto",
                  4,
                  "Medium"
                ],
                [
                  "JioMart",
                  3.6,
                  "Medium"
                ],
                [
                  "Swiggy Instamart",
                  3.9,
                  "Medium"
                ],
                [
                  "Swiggy Instamart",
                  4.3,
                  "High"
                ],
                [
                  "Blinkit",
                  4.1,
                  "High"
                ],
                [
                  "Blinkit",
                  4.1,
                  "High"
                ],
                [
                  "Swiggy Instamart",
                  4.7,
                  "High"
                ],
                [
                  "Zepto",
                  3.3,
                  "Medium"
                ],
                [
                  "Swiggy Instamart",
                  2.6,
                  "Low"
                ],
                [
                  "Blinkit",
                  2.1,
                  "Low"
                ],
                [
                  "Zepto",
                  4,
                  "Medium"
                ],
                [
                  "Blinkit",
                  2.8,
                  "Low"
                ],
                [
                  "Blinkit",
                  3.4,
                  "Medium"
                ],
                [
                  "JioMart",
                  4.7,
                  "High"
                ],
                [
                  "Swiggy Instamart",
                  1.5,
                  "Low"
                ],
                [
                  "Blinkit",
                  3.2,
                  "Medium"
                ],
                [
                  "Blinkit",
                  4.5,
                  "High"
                ],
                [
                  "Zepto",
                  2.1,
                  "Low"
                ],
                [
                  "Swiggy Instamart",
                  2.9,
                  "Low"
                ],
                [
                  "Swiggy Instamart",
                  4,
                  "Medium"
                ],
                [
                  "Swiggy Instamart",
                  3.3,
                  "Medium"
                ],
                [
                  "Zepto",
                  2.1,
                  "Low"
                ],
                [
                  "Blinkit",
                  1.8,
                  "Low"
                ],
                [
                  "Swiggy Instamart",
                  3,
                  "Medium"
                ],
                [
                  "JioMart",
                  3.3,
                  "Medium"
                ],
                [
                  "Swiggy Instamart",
                  2,
                  "Low"
                ],
                [
                  "Blinkit",
                  1.3,
                  "Low"
                ],
                [
                  "Zepto",
                  2.4,
                  "Low"
                ],
                [
                  "Zepto",
                  3.4,
                  "Medium"
                ],
                [
                  "Zepto",
                  3.2,
                  "Medium"
                ],
                [
                  "Zepto",
                  4.2,
                  "High"
                ],
                [
                  "Swiggy Instamart",
                  4.8,
                  "High"
                ],
                [
                  "Zepto",
                  3.9,
                  "Medium"
                ],
                [
                  "Zepto",
                  3.4,
                  "Medium"
                ],
                [
                  "Zepto",
                  3.1,
                  "Medium"
                ],
                [
                  "JioMart",
                  3.8,
                  "Medium"
                ],
                [
                  "Zepto",
                  1.7,
                  "Low"
                ],
                [
                  "JioMart",
                  2.2,
                  "Low"
                ],
                [
                  "Swiggy Instamart",
                  3.3,
                  "Medium"
                ],
                [
                  "Zepto",
                  1.8,
                  "Low"
                ],
                [
                  "Blinkit",
                  2.8,
                  "Low"
                ],
                [
                  "Blinkit",
                  3.5,
                  "Medium"
                ],
                [
                  "Blinkit",
                  1.2,
                  "Low"
                ],
                [
                  "JioMart",
                  2.9,
                  "Low"
                ],
                [
                  "Zepto",
                  4.5,
                  "High"
                ],
                [
                  "Zepto",
                  2.3,
                  "Low"
                ],
                [
                  "Zepto",
                  4.4,
                  "High"
                ],
                [
                  "Zepto",
                  3.8,
                  "Medium"
                ],
                [
                  "Zepto",
                  1.1,
                  "Low"
                ],
                [
                  "Zepto",
                  4.1,
                  "High"
                ],
                [
                  "Swiggy Instamart",
                  3.3,
                  "Medium"
                ],
                [
                  "Blinkit",
                  2.2,
                  "Low"
                ],
                [
                  "JioMart",
                  1.3,
                  "Low"
                ],
                [
                  "JioMart",
                  4.3,
                  "High"
                ],
                [
                  "JioMart",
                  3.3,
                  "Medium"
                ],
                [
                  "Swiggy Instamart",
                  1.3,
                  "Low"
                ],
                [
                  "Blinkit",
                  1.8,
                  "Low"
                ],
                [
                  "Zepto",
                  3.7,
                  "Medium"
                ],
                [
                  "Zepto",
                  2.4,
                  "Low"
                ],
                [
                  "Blinkit",
                  1.5,
                  "Low"
                ],
                [
                  "Swiggy Instamart",
                  1.2,
                  "Low"
                ],
                [
                  "Blinkit",
                  1.3,
                  "Low"
                ],
                [
                  "Blinkit",
                  3.4,
                  "Medium"
                ],
                [
                  "Zepto",
                  2.4,
                  "Low"
                ],
                [
                  "Zepto",
                  4.3,
                  "High"
                ],
                [
                  "Blinkit",
                  4.8,
                  "High"
                ],
                [
                  "Swiggy Instamart",
                  4.3,
                  "High"
                ],
                [
                  "Blinkit",
                  3.9,
                  "Medium"
                ],
                [
                  "JioMart",
                  1.3,
                  "Low"
                ],
                [
                  "Zepto",
                  1.8,
                  "Low"
                ],
                [
                  "Zepto",
                  3.7,
                  "Medium"
                ],
                [
                  "JioMart",
                  4.3,
                  "High"
                ],
                [
                  "Swiggy Instamart",
                  3.4,
                  "Medium"
                ],
                [
                  "Zepto",
                  4.7,
                  "High"
                ],
                [
                  "Swiggy Instamart",
                  3.5,
                  "Medium"
                ],
                [
                  "Blinkit",
                  4,
                  "Medium"
                ],
                [
                  "Blinkit",
                  3.9,
                  "Medium"
                ],
                [
                  "Swiggy Instamart",
                  2,
                  "Low"
                ],
                [
                  "Swiggy Instamart",
                  2.9,
                  "Low"
                ],
                [
                  "JioMart",
                  4.4,
                  "High"
                ],
                [
                  "Swiggy Instamart",
                  1.1,
                  "Low"
                ],
                [
                  "Swiggy Instamart",
                  3,
                  "Medium"
                ],
                [
                  "Blinkit",
                  3.4,
                  "Medium"
                ],
                [
                  "Zepto",
                  3.6,
                  "Medium"
                ],
                [
                  "Swiggy Instamart",
                  3,
                  "Medium"
                ],
                [
                  "Blinkit",
                  2.3,
                  "Low"
                ],
                [
                  "Blinkit",
                  3.4,
                  "Medium"
                ],
                [
                  "Swiggy Instamart",
                  3.5,
                  "Medium"
                ],
                [
                  "Swiggy Instamart",
                  3.7,
                  "Medium"
                ],
                [
                  "JioMart",
                  1.6,
                  "Low"
                ],
                [
                  "JioMart",
                  3.3,
                  "Medium"
                ],
                [
                  "JioMart",
                  4.4,
                  "High"
                ],
                [
                  "Zepto",
                  4.2,
                  "High"
                ],
                [
                  "JioMart",
                  2.1,
                  "Low"
                ],
                [
                  "Blinkit",
                  3.6,
                  "Medium"
                ],
                [
                  "Swiggy Instamart",
                  1.6,
                  "Low"
                ],
                [
                  "Zepto",
                  3.8,
                  "Medium"
                ],
                [
                  "Zepto",
                  3.6,
                  "Medium"
                ],
                [
                  "Zepto",
                  3.5,
                  "Medium"
                ],
                [
                  "Swiggy Instamart",
                  3.6,
                  "Medium"
                ],
                [
                  "Swiggy Instamart",
                  2,
                  "Low"
                ],
                [
                  "Swiggy Instamart",
                  3.8,
                  "Medium"
                ],
                [
                  "Blinkit",
                  2.2,
                  "Low"
                ],
                [
                  "JioMart",
                  1.6,
                  "Low"
                ],
                [
                  "Swiggy Instamart",
                  3,
                  "Medium"
                ],
                [
                  "Swiggy Instamart",
                  4.1,
                  "High"
                ],
                [
                  "JioMart",
                  3.4,
                  "Medium"
                ],
                [
                  "JioMart",
                  2.7,
                  "Low"
                ],
                [
                  "Zepto",
                  2.7,
                  "Low"
                ],
                [
                  "Blinkit",
                  1,
                  "Low"
                ],
                [
                  "Swiggy Instamart",
                  4.2,
                  "High"
                ],
                [
                  "JioMart",
                  2.2,
                  "Low"
                ],
                [
                  "Swiggy Instamart",
                  3.9,
                  "Medium"
                ],
                [
                  "Swiggy Instamart",
                  2.1,
                  "Low"
                ],
                [
                  "Blinkit",
                  4.3,
                  "High"
                ],
                [
                  "Zepto",
                  4.3,
                  "High"
                ],
                [
                  "JioMart",
                  2.2,
                  "Low"
                ],
                [
                  "Blinkit",
                  4.6,
                  "High"
                ],
                [
                  "Blinkit",
                  4.6,
                  "High"
                ],
                [
                  "Blinkit",
                  4,
                  "Medium"
                ],
                [
                  "Blinkit",
                  1.7,
                  "Low"
                ],
                [
                  "Blinkit",
                  4.4,
                  "High"
                ],
                [
                  "Zepto",
                  1.7,
                  "Low"
                ],
                [
                  "Blinkit",
                  3.2,
                  "Medium"
                ],
                [
                  "Swiggy Instamart",
                  4.7,
                  "High"
                ],
                [
                  "Blinkit",
                  3.2,
                  "Medium"
                ],
                [
                  "Blinkit",
                  1.6,
                  "Low"
                ],
                [
                  "Blinkit",
                  2.8,
                  "Low"
                ],
                [
                  "Zepto",
                  2.1,
                  "Low"
                ],
                [
                  "JioMart",
                  4.9,
                  "High"
                ],
                [
                  "Blinkit",
                  3.6,
                  "Medium"
                ],
                [
                  "Zepto",
                  4.1,
                  "High"
                ],
                [
                  "JioMart",
                  1.7,
                  "Low"
                ],
                [
                  "Zepto",
                  1.3,
                  "Low"
                ],
                [
                  "JioMart",
                  2.3,
                  "Low"
                ],
                [
                  "Zepto",
                  3.9,
                  "Medium"
                ],
                [
                  "Zepto",
                  1.6,
                  "Low"
                ],
                [
                  "Swiggy Instamart",
                  3.4,
                  "Medium"
                ],
                [
                  "Zepto",
                  1.6,
                  "Low"
                ],
                [
                  "Zepto",
                  2,
                  "Low"
                ],
                [
                  "Swiggy Instamart",
                  3.6,
                  "Medium"
                ],
                [
                  "Zepto",
                  1,
                  "Low"
                ],
                [
                  "JioMart",
                  1.7,
                  "Low"
                ],
                [
                  "Swiggy Instamart",
                  3.8,
                  "Medium"
                ],
                [
                  "JioMart",
                  4.3,
                  "High"
                ],
                [
                  "Blinkit",
                  3.6,
                  "Medium"
                ],
                [
                  "Zepto",
                  4.3,
                  "High"
                ],
                [
                  "Blinkit",
                  3.9,
                  "Medium"
                ],
                [
                  "Swiggy Instamart",
                  3.9,
                  "Medium"
                ],
                [
                  "Blinkit",
                  3.3,
                  "Medium"
                ],
                [
                  "Swiggy Instamart",
                  2.4,
                  "Low"
                ],
                [
                  "Zepto",
                  3.6,
                  "Medium"
                ],
                [
                  "JioMart",
                  3.9,
                  "Medium"
                ],
                [
                  "Swiggy Instamart",
                  4.3,
                  "High"
                ],
                [
                  "JioMart",
                  2.3,
                  "Low"
                ],
                [
                  "JioMart",
                  1.4,
                  "Low"
                ],
                [
                  "Swiggy Instamart",
                  2.5,
                  "Low"
                ],
                [
                  "Swiggy Instamart",
                  2,
                  "Low"
                ],
                [
                  "Swiggy Instamart",
                  4.3,
                  "High"
                ],
                [
                  "Blinkit",
                  1,
                  "Low"
                ],
                [
                  "Swiggy Instamart",
                  4.8,
                  "High"
                ],
                [
                  "Swiggy Instamart",
                  4.6,
                  "High"
                ],
                [
                  "Zepto",
                  3,
                  "Medium"
                ],
                [
                  "Blinkit",
                  3,
                  "Medium"
                ],
                [
                  "Zepto",
                  1.3,
                  "Low"
                ],
                [
                  "Zepto",
                  1.2,
                  "Low"
                ],
                [
                  "Swiggy Instamart",
                  3.9,
                  "Medium"
                ],
                [
                  "Blinkit",
                  1.6,
                  "Low"
                ],
                [
                  "Zepto",
                  1.4,
                  "Low"
                ],
                [
                  "JioMart",
                  2.6,
                  "Low"
                ],
                [
                  "Zepto",
                  1.3,
                  "Low"
                ],
                [
                  "Blinkit",
                  2.8,
                  "Low"
                ],
                [
                  "Zepto",
                  4.8,
                  "High"
                ],
                [
                  "Zepto",
                  1.3,
                  "Low"
                ],
                [
                  "Zepto",
                  3.7,
                  "Medium"
                ],
                [
                  "Zepto",
                  1.4,
                  "Low"
                ],
                [
                  "Swiggy Instamart",
                  4.6,
                  "High"
                ],
                [
                  "Swiggy Instamart",
                  2,
                  "Low"
                ],
                [
                  "Swiggy Instamart",
                  4.5,
                  "High"
                ],
                [
                  "Zepto",
                  4.6,
                  "High"
                ],
                [
                  "Zepto",
                  3.3,
                  "Medium"
                ],
                [
                  "Zepto",
                  3.2,
                  "Medium"
                ],
                [
                  "Zepto",
                  4,
                  "Medium"
                ],
                [
                  "Blinkit",
                  1.6,
                  "Low"
                ],
                [
                  "Swiggy Instamart",
                  2,
                  "Low"
                ],
                [
                  "Blinkit",
                  1.2,
                  "Low"
                ],
                [
                  "Zepto",
                  4.2,
                  "High"
                ],
                [
                  "JioMart",
                  3.5,
                  "Medium"
                ],
                [
                  "Zepto",
                  3.8,
                  "Medium"
                ],
                [
                  "Swiggy Instamart",
                  1.5,
                  "Low"
                ],
                [
                  "JioMart",
                  2.3,
                  "Low"
                ],
                [
                  "Blinkit",
                  2.4,
                  "Low"
                ],
                [
                  "Blinkit",
                  1.9,
                  "Low"
                ],
                [
                  "JioMart",
                  1.8,
                  "Low"
                ],
                [
                  "Zepto",
                  3.9,
                  "Medium"
                ],
                [
                  "Swiggy Instamart",
                  2.8,
                  "Low"
                ],
                [
                  "JioMart",
                  4.1,
                  "High"
                ],
                [
                  "Swiggy Instamart",
                  3,
                  "Medium"
                ],
                [
                  "Zepto",
                  4.7,
                  "High"
                ],
                [
                  "Swiggy Instamart",
                  4.9,
                  "High"
                ],
                [
                  "Blinkit",
                  4.8,
                  "High"
                ],
                [
                  "Zepto",
                  2.3,
                  "Low"
                ],
                [
                  "Swiggy Instamart",
                  3.8,
                  "Medium"
                ],
                [
                  "Blinkit",
                  2.1,
                  "Low"
                ],
                [
                  "Blinkit",
                  1.7,
                  "Low"
                ],
                [
                  "Blinkit",
                  3.7,
                  "Medium"
                ],
                [
                  "Swiggy Instamart",
                  2.3,
                  "Low"
                ],
                [
                  "Zepto",
                  2,
                  "Low"
                ],
                [
                  "JioMart",
                  2.2,
                  "Low"
                ],
                [
                  "Zepto",
                  2.7,
                  "Low"
                ],
                [
                  "Blinkit",
                  1.5,
                  "Low"
                ],
                [
                  "Blinkit",
                  3.9,
                  "Medium"
                ],
                [
                  "JioMart",
                  2.9,
                  "Low"
                ],
                [
                  "Zepto",
                  2.3,
                  "Low"
                ],
                [
                  "Blinkit",
                  2.1,
                  "Low"
                ],
                [
                  "JioMart",
                  4.4,
                  "High"
                ],
                [
                  "JioMart",
                  4.2,
                  "High"
                ],
                [
                  "JioMart",
                  3.5,
                  "Medium"
                ],
                [
                  "Blinkit",
                  4.2,
                  "High"
                ],
                [
                  "Zepto",
                  4,
                  "Medium"
                ],
                [
                  "Blinkit",
                  1.8,
                  "Low"
                ],
                [
                  "Swiggy Instamart",
                  4.8,
                  "High"
                ],
                [
                  "Zepto",
                  3.4,
                  "Medium"
                ],
                [
                  "JioMart",
                  3.8,
                  "Medium"
                ],
                [
                  "Zepto",
                  4,
                  "Medium"
                ],
                [
                  "JioMart",
                  3.6,
                  "Medium"
                ],
                [
                  "JioMart",
                  1.9,
                  "Low"
                ],
                [
                  "Blinkit",
                  4.1,
                  "High"
                ],
                [
                  "Swiggy Instamart",
                  2.3,
                  "Low"
                ],
                [
                  "Swiggy Instamart",
                  3.7,
                  "Medium"
                ],
                [
                  "Zepto",
                  4.3,
                  "High"
                ],
                [
                  "Swiggy Instamart",
                  2.5,
                  "Low"
                ],
                [
                  "JioMart",
                  3,
                  "Medium"
                ],
                [
                  "Blinkit",
                  1.8,
                  "Low"
                ],
                [
                  "JioMart",
                  1.1,
                  "Low"
                ],
                [
                  "Swiggy Instamart",
                  3.8,
                  "Medium"
                ],
                [
                  "Swiggy Instamart",
                  1.2,
                  "Low"
                ],
                [
                  "Blinkit",
                  3.5,
                  "Medium"
                ],
                [
                  "JioMart",
                  3.4,
                  "Medium"
                ],
                [
                  "Blinkit",
                  4.4,
                  "High"
                ],
                [
                  "Zepto",
                  3,
                  "Medium"
                ],
                [
                  "Blinkit",
                  3,
                  "Medium"
                ],
                [
                  "Zepto",
                  4.9,
                  "High"
                ],
                [
                  "Zepto",
                  3.5,
                  "Medium"
                ],
                [
                  "Zepto",
                  3.3,
                  "Medium"
                ],
                [
                  "JioMart",
                  4.8,
                  "High"
                ],
                [
                  "JioMart",
                  2.5,
                  "Low"
                ],
                [
                  "Blinkit",
                  4.9,
                  "High"
                ],
                [
                  "Zepto",
                  2.5,
                  "Low"
                ],
                [
                  "JioMart",
                  2.1,
                  "Low"
                ],
                [
                  "Zepto",
                  2.3,
                  "Low"
                ],
                [
                  "JioMart",
                  3.9,
                  "Medium"
                ],
                [
                  "JioMart",
                  3.4,
                  "Medium"
                ],
                [
                  "Zepto",
                  4.1,
                  "High"
                ],
                [
                  "JioMart",
                  1.4,
                  "Low"
                ],
                [
                  "JioMart",
                  4.3,
                  "High"
                ],
                [
                  "JioMart",
                  1.5,
                  "Low"
                ],
                [
                  "Swiggy Instamart",
                  2.6,
                  "Low"
                ],
                [
                  "JioMart",
                  2.6,
                  "Low"
                ],
                [
                  "Blinkit",
                  4.6,
                  "High"
                ],
                [
                  "JioMart",
                  3.2,
                  "Medium"
                ],
                [
                  "JioMart",
                  4.6,
                  "High"
                ],
                [
                  "Swiggy Instamart",
                  4.4,
                  "High"
                ],
                [
                  "Zepto",
                  2.2,
                  "Low"
                ],
                [
                  "JioMart",
                  1.4,
                  "Low"
                ],
                [
                  "Swiggy Instamart",
                  2.6,
                  "Low"
                ],
                [
                  "Swiggy Instamart",
                  4.8,
                  "High"
                ],
                [
                  "Zepto",
                  4.3,
                  "High"
                ],
                [
                  "Blinkit",
                  1.1,
                  "Low"
                ],
                [
                  "Blinkit",
                  5,
                  "High"
                ],
                [
                  "Zepto",
                  2.9,
                  "Low"
                ],
                [
                  "Zepto",
                  3.9,
                  "Medium"
                ],
                [
                  "Zepto",
                  2.6,
                  "Low"
                ],
                [
                  "Swiggy Instamart",
                  4.5,
                  "High"
                ],
                [
                  "Zepto",
                  3.2,
                  "Medium"
                ],
                [
                  "JioMart",
                  4.6,
                  "High"
                ],
                [
                  "Blinkit",
                  4.1,
                  "High"
                ],
                [
                  "Swiggy Instamart",
                  4.4,
                  "High"
                ],
                [
                  "JioMart",
                  1.9,
                  "Low"
                ],
                [
                  "JioMart",
                  2.1,
                  "Low"
                ],
                [
                  "Swiggy Instamart",
                  4.1,
                  "High"
                ],
                [
                  "Blinkit",
                  4.4,
                  "High"
                ],
                [
                  "Blinkit",
                  2.7,
                  "Low"
                ],
                [
                  "Swiggy Instamart",
                  2.1,
                  "Low"
                ],
                [
                  "Zepto",
                  2.5,
                  "Low"
                ],
                [
                  "Zepto",
                  3.5,
                  "Medium"
                ],
                [
                  "Swiggy Instamart",
                  3,
                  "Medium"
                ],
                [
                  "JioMart",
                  2.5,
                  "Low"
                ],
                [
                  "Blinkit",
                  4.9,
                  "High"
                ],
                [
                  "Blinkit",
                  4.7,
                  "High"
                ],
                [
                  "JioMart",
                  4.5,
                  "High"
                ],
                [
                  "Swiggy Instamart",
                  3.2,
                  "Medium"
                ],
                [
                  "Zepto",
                  2.6,
                  "Low"
                ],
                [
                  "Blinkit",
                  2.3,
                  "Low"
                ],
                [
                  "JioMart",
                  2,
                  "Low"
                ],
                [
                  "Blinkit",
                  4.7,
                  "High"
                ],
                [
                  "Zepto",
                  4.4,
                  "High"
                ],
                [
                  "JioMart",
                  4.5,
                  "High"
                ],
                [
                  "Swiggy Instamart",
                  2.5,
                  "Low"
                ],
                [
                  "JioMart",
                  2.5,
                  "Low"
                ],
                [
                  "Zepto",
                  2.1,
                  "Low"
                ],
                [
                  "Blinkit",
                  3.1,
                  "Medium"
                ],
                [
                  "Swiggy Instamart",
                  3.7,
                  "Medium"
                ],
                [
                  "Blinkit",
                  3.2,
                  "Medium"
                ],
                [
                  "Blinkit",
                  2.3,
                  "Low"
                ],
                [
                  "JioMart",
                  1.2,
                  "Low"
                ],
                [
                  "Swiggy Instamart",
                  4.7,
                  "High"
                ],
                [
                  "Blinkit",
                  3.9,
                  "Medium"
                ],
                [
                  "JioMart",
                  1.3,
                  "Low"
                ],
                [
                  "Blinkit",
                  3.2,
                  "Medium"
                ],
                [
                  "Blinkit",
                  2.3,
                  "Low"
                ],
                [
                  "Zepto",
                  4.9,
                  "High"
                ],
                [
                  "Zepto",
                  3.8,
                  "Medium"
                ],
                [
                  "JioMart",
                  4.6,
                  "High"
                ],
                [
                  "Zepto",
                  2.5,
                  "Low"
                ],
                [
                  "JioMart",
                  2.9,
                  "Low"
                ],
                [
                  "Swiggy Instamart",
                  4.1,
                  "High"
                ],
                [
                  "Zepto",
                  4.9,
                  "High"
                ],
                [
                  "JioMart",
                  4.4,
                  "High"
                ],
                [
                  "JioMart",
                  3.1,
                  "Medium"
                ],
                [
                  "JioMart",
                  1.6,
                  "Low"
                ],
                [
                  "Swiggy Instamart",
                  1.5,
                  "Low"
                ],
                [
                  "Blinkit",
                  1.5,
                  "Low"
                ],
                [
                  "Zepto",
                  3.1,
                  "Medium"
                ],
                [
                  "Zepto",
                  3.1,
                  "Medium"
                ],
                [
                  "Swiggy Instamart",
                  1.7,
                  "Low"
                ],
                [
                  "Swiggy Instamart",
                  2.7,
                  "Low"
                ],
                [
                  "Zepto",
                  4.7,
                  "High"
                ],
                [
                  "Swiggy Instamart",
                  3,
                  "Medium"
                ],
                [
                  "Blinkit",
                  2.1,
                  "Low"
                ],
                [
                  "Swiggy Instamart",
                  2.7,
                  "Low"
                ],
                [
                  "JioMart",
                  3.6,
                  "Medium"
                ],
                [
                  "Swiggy Instamart",
                  1.2,
                  "Low"
                ],
                [
                  "Blinkit",
                  1.7,
                  "Low"
                ],
                [
                  "Blinkit",
                  1.9,
                  "Low"
                ],
                [
                  "JioMart",
                  2.7,
                  "Low"
                ],
                [
                  "Blinkit",
                  1.7,
                  "Low"
                ],
                [
                  "Zepto",
                  3.2,
                  "Medium"
                ],
                [
                  "JioMart",
                  2.6,
                  "Low"
                ],
                [
                  "Swiggy Instamart",
                  4.1,
                  "High"
                ],
                [
                  "Zepto",
                  4.3,
                  "High"
                ],
                [
                  "Blinkit",
                  3.3,
                  "Medium"
                ],
                [
                  "Swiggy Instamart",
                  2.2,
                  "Low"
                ],
                [
                  "Blinkit",
                  4.1,
                  "High"
                ],
                [
                  "JioMart",
                  4.8,
                  "High"
                ],
                [
                  "JioMart",
                  1.4,
                  "Low"
                ],
                [
                  "Swiggy Instamart",
                  1.7,
                  "Low"
                ],
                [
                  "Swiggy Instamart",
                  4.5,
                  "High"
                ],
                [
                  "Swiggy Instamart",
                  4.9,
                  "High"
                ],
                [
                  "JioMart",
                  4.4,
                  "High"
                ],
                [
                  "Blinkit",
                  3.4,
                  "Medium"
                ],
                [
                  "Blinkit",
                  3.8,
                  "Medium"
                ],
                [
                  "JioMart",
                  3.2,
                  "Medium"
                ],
                [
                  "Swiggy Instamart",
                  2.1,
                  "Low"
                ],
                [
                  "Swiggy Instamart",
                  2.2,
                  "Low"
                ],
                [
                  "Blinkit",
                  2.2,
                  "Low"
                ],
                [
                  "Blinkit",
                  2.6,
                  "Low"
                ],
                [
                  "Zepto",
                  2.4,
                  "Low"
                ],
                [
                  "Swiggy Instamart",
                  4.2,
                  "High"
                ],
                [
                  "JioMart",
                  1.5,
                  "Low"
                ],
                [
                  "Zepto",
                  1.4,
                  "Low"
                ],
                [
                  "JioMart",
                  3.4,
                  "Medium"
                ],
                [
                  "Blinkit",
                  1.3,
                  "Low"
                ],
                [
                  "Swiggy Instamart",
                  4.4,
                  "High"
                ],
                [
                  "Zepto",
                  1.5,
                  "Low"
                ],
                [
                  "JioMart",
                  3.7,
                  "Medium"
                ],
                [
                  "Zepto",
                  4.8,
                  "High"
                ],
                [
                  "Zepto",
                  2.2,
                  "Low"
                ],
                [
                  "JioMart",
                  4.5,
                  "High"
                ],
                [
                  "Blinkit",
                  4.2,
                  "High"
                ],
                [
                  "Swiggy Instamart",
                  1.8,
                  "Low"
                ],
                [
                  "Zepto",
                  4,
                  "Medium"
                ],
                [
                  "Swiggy Instamart",
                  3.9,
                  "Medium"
                ],
                [
                  "Blinkit",
                  2.1,
                  "Low"
                ],
                [
                  "Zepto",
                  3,
                  "Medium"
                ],
                [
                  "Swiggy Instamart",
                  1.4,
                  "Low"
                ],
                [
                  "Swiggy Instamart",
                  1.2,
                  "Low"
                ],
                [
                  "Blinkit",
                  2.4,
                  "Low"
                ],
                [
                  "JioMart",
                  3.2,
                  "Medium"
                ],
                [
                  "JioMart",
                  1,
                  "Low"
                ],
                [
                  "JioMart",
                  2.2,
                  "Low"
                ],
                [
                  "Zepto",
                  2.2,
                  "Low"
                ],
                [
                  "JioMart",
                  3,
                  "Medium"
                ],
                [
                  "JioMart",
                  1.8,
                  "Low"
                ],
                [
                  "Swiggy Instamart",
                  3.7,
                  "Medium"
                ],
                [
                  "Blinkit",
                  2.1,
                  "Low"
                ],
                [
                  "Swiggy Instamart",
                  4.7,
                  "High"
                ],
                [
                  "Zepto",
                  2.4,
                  "Low"
                ],
                [
                  "Zepto",
                  3.3,
                  "Medium"
                ],
                [
                  "Swiggy Instamart",
                  3.6,
                  "Medium"
                ],
                [
                  "JioMart",
                  1.7,
                  "Low"
                ],
                [
                  "Blinkit",
                  5,
                  "High"
                ],
                [
                  "Zepto",
                  2.2,
                  "Low"
                ],
                [
                  "Blinkit",
                  4,
                  "Medium"
                ],
                [
                  "JioMart",
                  2.8,
                  "Low"
                ],
                [
                  "JioMart",
                  3.2,
                  "Medium"
                ],
                [
                  "JioMart",
                  1.6,
                  "Low"
                ],
                [
                  "Zepto",
                  4.9,
                  "High"
                ],
                [
                  "JioMart",
                  3,
                  "Medium"
                ],
                [
                  "Zepto",
                  3.2,
                  "Medium"
                ],
                [
                  "Blinkit",
                  2.5,
                  "Low"
                ],
                [
                  "Zepto",
                  1.6,
                  "Low"
                ],
                [
                  "JioMart",
                  3,
                  "Medium"
                ],
                [
                  "Zepto",
                  2.9,
                  "Low"
                ],
                [
                  "JioMart",
                  3.8,
                  "Medium"
                ],
                [
                  "JioMart",
                  4.6,
                  "High"
                ],
                [
                  "JioMart",
                  3,
                  "Medium"
                ],
                [
                  "JioMart",
                  2.7,
                  "Low"
                ],
                [
                  "JioMart",
                  3.4,
                  "Medium"
                ],
                [
                  "Swiggy Instamart",
                  2.1,
                  "Low"
                ],
                [
                  "JioMart",
                  2.6,
                  "Low"
                ],
                [
                  "Swiggy Instamart",
                  1.5,
                  "Low"
                ],
                [
                  "Swiggy Instamart",
                  1.7,
                  "Low"
                ],
                [
                  "JioMart",
                  4.7,
                  "High"
                ],
                [
                  "Swiggy Instamart",
                  1.4,
                  "Low"
                ],
                [
                  "Zepto",
                  3,
                  "Medium"
                ],
                [
                  "Zepto",
                  3,
                  "Medium"
                ],
                [
                  "Swiggy Instamart",
                  3.4,
                  "Medium"
                ],
                [
                  "JioMart",
                  3.9,
                  "Medium"
                ],
                [
                  "Blinkit",
                  2.4,
                  "Low"
                ],
                [
                  "Swiggy Instamart",
                  2.3,
                  "Low"
                ],
                [
                  "Zepto",
                  3.4,
                  "Medium"
                ],
                [
                  "Blinkit",
                  3.3,
                  "Medium"
                ],
                [
                  "Blinkit",
                  1.3,
                  "Low"
                ],
                [
                  "Zepto",
                  1.3,
                  "Low"
                ],
                [
                  "JioMart",
                  1.3,
                  "Low"
                ],
                [
                  "Swiggy Instamart",
                  4.4,
                  "High"
                ],
                [
                  "JioMart",
                  2,
                  "Low"
                ],
                [
                  "Swiggy Instamart",
                  4.1,
                  "High"
                ],
                [
                  "Blinkit",
                  3,
                  "Medium"
                ],
                [
                  "JioMart",
                  1.1,
                  "Low"
                ],
                [
                  "Blinkit",
                  3.8,
                  "Medium"
                ],
                [
                  "Zepto",
                  2,
                  "Low"
                ],
                [
                  "JioMart",
                  2.4,
                  "Low"
                ],
                [
                  "JioMart",
                  1.8,
                  "Low"
                ],
                [
                  "JioMart",
                  3.8,
                  "Medium"
                ],
                [
                  "Swiggy Instamart",
                  4.7,
                  "High"
                ],
                [
                  "JioMart",
                  1.8,
                  "Low"
                ],
                [
                  "Blinkit",
                  3.9,
                  "Medium"
                ],
                [
                  "Zepto",
                  1.5,
                  "Low"
                ],
                [
                  "Swiggy Instamart",
                  1.3,
                  "Low"
                ],
                [
                  "Zepto",
                  2.6,
                  "Low"
                ],
                [
                  "Swiggy Instamart",
                  2.7,
                  "Low"
                ],
                [
                  "Blinkit",
                  4.8,
                  "High"
                ],
                [
                  "Zepto",
                  1.1,
                  "Low"
                ],
                [
                  "JioMart",
                  1.6,
                  "Low"
                ],
                [
                  "Blinkit",
                  3.3,
                  "Medium"
                ],
                [
                  "Zepto",
                  2,
                  "Low"
                ],
                [
                  "JioMart",
                  3.4,
                  "Medium"
                ],
                [
                  "Blinkit",
                  1.1,
                  "Low"
                ],
                [
                  "Swiggy Instamart",
                  1.2,
                  "Low"
                ],
                [
                  "Swiggy Instamart",
                  4.4,
                  "High"
                ],
                [
                  "Swiggy Instamart",
                  2.5,
                  "Low"
                ],
                [
                  "Blinkit",
                  1.9,
                  "Low"
                ],
                [
                  "JioMart",
                  1.1,
                  "Low"
                ],
                [
                  "Zepto",
                  3.7,
                  "Medium"
                ],
                [
                  "Blinkit",
                  3.9,
                  "Medium"
                ],
                [
                  "JioMart",
                  1.1,
                  "Low"
                ],
                [
                  "Zepto",
                  2.1,
                  "Low"
                ],
                [
                  "JioMart",
                  1.7,
                  "Low"
                ],
                [
                  "Swiggy Instamart",
                  1.7,
                  "Low"
                ],
                [
                  "Zepto",
                  4.5,
                  "High"
                ],
                [
                  "Swiggy Instamart",
                  1.6,
                  "Low"
                ],
                [
                  "Swiggy Instamart",
                  3.6,
                  "Medium"
                ],
                [
                  "Blinkit",
                  3,
                  "Medium"
                ],
                [
                  "Zepto",
                  4.6,
                  "High"
                ],
                [
                  "JioMart",
                  1.1,
                  "Low"
                ],
                [
                  "JioMart",
                  3.3,
                  "Medium"
                ],
                [
                  "Blinkit",
                  2,
                  "Low"
                ],
                [
                  "JioMart",
                  2.2,
                  "Low"
                ],
                [
                  "Blinkit",
                  3.3,
                  "Medium"
                ],
                [
                  "Blinkit",
                  2.9,
                  "Low"
                ],
                [
                  "Zepto",
                  2.2,
                  "Low"
                ],
                [
                  "Zepto",
                  3.5,
                  "Medium"
                ],
                [
                  "Swiggy Instamart",
                  2.2,
                  "Low"
                ],
                [
                  "Swiggy Instamart",
                  1.6,
                  "Low"
                ],
                [
                  "Blinkit",
                  2.7,
                  "Low"
                ],
                [
                  "JioMart",
                  4.8,
                  "High"
                ],
                [
                  "Blinkit",
                  4.2,
                  "High"
                ],
                [
                  "Swiggy Instamart",
                  2.3,
                  "Low"
                ],
                [
                  "JioMart",
                  2.4,
                  "Low"
                ],
                [
                  "Blinkit",
                  4.3,
                  "High"
                ],
                [
                  "JioMart",
                  1.1,
                  "Low"
                ],
                [
                  "JioMart",
                  1.8,
                  "Low"
                ],
                [
                  "Zepto",
                  2.1,
                  "Low"
                ],
                [
                  "Swiggy Instamart",
                  2.2,
                  "Low"
                ],
                [
                  "Swiggy Instamart",
                  1,
                  "Low"
                ],
                [
                  "Zepto",
                  2,
                  "Low"
                ],
                [
                  "Swiggy Instamart",
                  2.2,
                  "Low"
                ],
                [
                  "Swiggy Instamart",
                  3.4,
                  "Medium"
                ],
                [
                  "Zepto",
                  1.1,
                  "Low"
                ],
                [
                  "Zepto",
                  2.1,
                  "Low"
                ],
                [
                  "JioMart",
                  4,
                  "Medium"
                ],
                [
                  "Swiggy Instamart",
                  4.9,
                  "High"
                ],
                [
                  "Zepto",
                  4.2,
                  "High"
                ],
                [
                  "Blinkit",
                  1.7,
                  "Low"
                ],
                [
                  "JioMart",
                  4.6,
                  "High"
                ],
                [
                  "JioMart",
                  2.3,
                  "Low"
                ],
                [
                  "Blinkit",
                  4.4,
                  "High"
                ],
                [
                  "Zepto",
                  1.3,
                  "Low"
                ],
                [
                  "Zepto",
                  2.7,
                  "Low"
                ],
                [
                  "Swiggy Instamart",
                  1.7,
                  "Low"
                ],
                [
                  "JioMart",
                  4.9,
                  "High"
                ],
                [
                  "Swiggy Instamart",
                  3.6,
                  "Medium"
                ],
                [
                  "Blinkit",
                  4.3,
                  "High"
                ],
                [
                  "Blinkit",
                  4,
                  "Medium"
                ],
                [
                  "Zepto",
                  2.8,
                  "Low"
                ],
                [
                  "Zepto",
                  2.7,
                  "Low"
                ],
                [
                  "Zepto",
                  3.1,
                  "Medium"
                ],
                [
                  "Blinkit",
                  2.6,
                  "Low"
                ],
                [
                  "JioMart",
                  5,
                  "High"
                ],
                [
                  "Zepto",
                  1.1,
                  "Low"
                ],
                [
                  "JioMart",
                  3.2,
                  "Medium"
                ],
                [
                  "Swiggy Instamart",
                  1.4,
                  "Low"
                ],
                [
                  "Swiggy Instamart",
                  1.5,
                  "Low"
                ],
                [
                  "JioMart",
                  2.3,
                  "Low"
                ],
                [
                  "JioMart",
                  2,
                  "Low"
                ],
                [
                  "Zepto",
                  4.7,
                  "High"
                ],
                [
                  "Blinkit",
                  2.2,
                  "Low"
                ],
                [
                  "Blinkit",
                  3.9,
                  "Medium"
                ],
                [
                  "Zepto",
                  1.9,
                  "Low"
                ],
                [
                  "Zepto",
                  2.2,
                  "Low"
                ],
                [
                  "Zepto",
                  2.9,
                  "Low"
                ],
                [
                  "Zepto",
                  2.1,
                  "Low"
                ],
                [
                  "JioMart",
                  1.8,
                  "Low"
                ],
                [
                  "Blinkit",
                  4.3,
                  "High"
                ],
                [
                  "JioMart",
                  4,
                  "Medium"
                ],
                [
                  "Swiggy Instamart",
                  2.4,
                  "Low"
                ],
                [
                  "Blinkit",
                  2.6,
                  "Low"
                ],
                [
                  "Zepto",
                  4.4,
                  "High"
                ],
                [
                  "JioMart",
                  3.6,
                  "Medium"
                ],
                [
                  "Blinkit",
                  2.8,
                  "Low"
                ],
                [
                  "Swiggy Instamart",
                  2.1,
                  "Low"
                ],
                [
                  "Swiggy Instamart",
                  1.2,
                  "Low"
                ],
                [
                  "Blinkit",
                  4.7,
                  "High"
                ],
                [
                  "JioMart",
                  4.1,
                  "High"
                ],
                [
                  "Zepto",
                  3,
                  "Medium"
                ],
                [
                  "Swiggy Instamart",
                  4.6,
                  "High"
                ],
                [
                  "Blinkit",
                  3.1,
                  "Medium"
                ],
                [
                  "JioMart",
                  4.9,
                  "High"
                ],
                [
                  "JioMart",
                  1.5,
                  "Low"
                ],
                [
                  "JioMart",
                  4.9,
                  "High"
                ],
                [
                  "Swiggy Instamart",
                  1.1,
                  "Low"
                ],
                [
                  "Swiggy Instamart",
                  3.5,
                  "Medium"
                ],
                [
                  "Blinkit",
                  3.9,
                  "Medium"
                ],
                [
                  "Zepto",
                  2.8,
                  "Low"
                ],
                [
                  "Swiggy Instamart",
                  4.3,
                  "High"
                ],
                [
                  "JioMart",
                  3.9,
                  "Medium"
                ],
                [
                  "Zepto",
                  3.2,
                  "Medium"
                ],
                [
                  "Blinkit",
                  2.7,
                  "Low"
                ],
                [
                  "Swiggy Instamart",
                  1,
                  "Low"
                ],
                [
                  "Swiggy Instamart",
                  4.5,
                  "High"
                ],
                [
                  "Blinkit",
                  1.6,
                  "Low"
                ],
                [
                  "Blinkit",
                  2.5,
                  "Low"
                ],
                [
                  "Zepto",
                  4.6,
                  "High"
                ],
                [
                  "Blinkit",
                  1.7,
                  "Low"
                ],
                [
                  "Swiggy Instamart",
                  4.1,
                  "High"
                ],
                [
                  "Blinkit",
                  1.4,
                  "Low"
                ],
                [
                  "Swiggy Instamart",
                  3.2,
                  "Medium"
                ],
                [
                  "Zepto",
                  1.5,
                  "Low"
                ],
                [
                  "Blinkit",
                  4.1,
                  "High"
                ],
                [
                  "Blinkit",
                  1.9,
                  "Low"
                ],
                [
                  "JioMart",
                  3.3,
                  "Medium"
                ],
                [
                  "JioMart",
                  2,
                  "Low"
                ],
                [
                  "Zepto",
                  4.7,
                  "High"
                ],
                [
                  "Blinkit",
                  3.6,
                  "Medium"
                ],
                [
                  "JioMart",
                  2,
                  "Low"
                ],
                [
                  "Zepto",
                  2.9,
                  "Low"
                ],
                [
                  "Zepto",
                  2.3,
                  "Low"
                ],
                [
                  "Zepto",
                  4.6,
                  "High"
                ],
                [
                  "Blinkit",
                  2.8,
                  "Low"
                ],
                [
                  "Swiggy Instamart",
                  2.2,
                  "Low"
                ],
                [
                  "Blinkit",
                  4.2,
                  "High"
                ],
                [
                  "Blinkit",
                  1.6,
                  "Low"
                ],
                [
                  "Zepto",
                  2.6,
                  "Low"
                ],
                [
                  "Swiggy Instamart",
                  1,
                  "Low"
                ],
                [
                  "JioMart",
                  4.2,
                  "High"
                ],
                [
                  "Zepto",
                  2.4,
                  "Low"
                ],
                [
                  "Zepto",
                  4,
                  "Medium"
                ],
                [
                  "Blinkit",
                  4.3,
                  "High"
                ],
                [
                  "Swiggy Instamart",
                  3.7,
                  "Medium"
                ],
                [
                  "Blinkit",
                  4.5,
                  "High"
                ],
                [
                  "Swiggy Instamart",
                  4.5,
                  "High"
                ],
                [
                  "Zepto",
                  1.9,
                  "Low"
                ],
                [
                  "Zepto",
                  1.4,
                  "Low"
                ],
                [
                  "JioMart",
                  2,
                  "Low"
                ],
                [
                  "JioMart",
                  2.4,
                  "Low"
                ],
                [
                  "Swiggy Instamart",
                  2.1,
                  "Low"
                ],
                [
                  "Zepto",
                  3.9,
                  "Medium"
                ],
                [
                  "Blinkit",
                  3.7,
                  "Medium"
                ],
                [
                  "Swiggy Instamart",
                  2.1,
                  "Low"
                ],
                [
                  "Zepto",
                  2.6,
                  "Low"
                ],
                [
                  "JioMart",
                  2.8,
                  "Low"
                ],
                [
                  "Zepto",
                  1.4,
                  "Low"
                ],
                [
                  "Zepto",
                  1.7,
                  "Low"
                ],
                [
                  "Swiggy Instamart",
                  4.7,
                  "High"
                ],
                [
                  "Swiggy Instamart",
                  4.8,
                  "High"
                ],
                [
                  "Blinkit",
                  1.3,
                  "Low"
                ],
                [
                  "JioMart",
                  3.3,
                  "Medium"
                ],
                [
                  "Zepto",
                  3.4,
                  "Medium"
                ],
                [
                  "Blinkit",
                  4.4,
                  "High"
                ],
                [
                  "Swiggy Instamart",
                  2.9,
                  "Low"
                ],
                [
                  "JioMart",
                  1.2,
                  "Low"
                ],
                [
                  "Swiggy Instamart",
                  4.4,
                  "High"
                ],
                [
                  "JioMart",
                  2.1,
                  "Low"
                ],
                [
                  "JioMart",
                  1,
                  "Low"
                ],
                [
                  "Zepto",
                  4.5,
                  "High"
                ],
                [
                  "Blinkit",
                  4.3,
                  "High"
                ],
                [
                  "JioMart",
                  4.6,
                  "High"
                ],
                [
                  "Swiggy Instamart",
                  4,
                  "Medium"
                ],
                [
                  "Swiggy Instamart",
                  1.4,
                  "Low"
                ],
                [
                  "Blinkit",
                  4.4,
                  "High"
                ],
                [
                  "Zepto",
                  1.7,
                  "Low"
                ],
                [
                  "Blinkit",
                  1.8,
                  "Low"
                ],
                [
                  "Swiggy Instamart",
                  4.1,
                  "High"
                ],
                [
                  "Swiggy Instamart",
                  1.3,
                  "Low"
                ],
                [
                  "JioMart",
                  1.1,
                  "Low"
                ],
                [
                  "Zepto",
                  2.5,
                  "Low"
                ],
                [
                  "JioMart",
                  2.4,
                  "Low"
                ],
                [
                  "Zepto",
                  1.9,
                  "Low"
                ],
                [
                  "Swiggy Instamart",
                  4.1,
                  "High"
                ],
                [
                  "Blinkit",
                  4.7,
                  "High"
                ],
                [
                  "Blinkit",
                  1.7,
                  "Low"
                ],
                [
                  "JioMart",
                  3,
                  "Medium"
                ],
                [
                  "Blinkit",
                  1.9,
                  "Low"
                ],
                [
                  "JioMart",
                  1,
                  "Low"
                ],
                [
                  "JioMart",
                  2.8,
                  "Low"
                ],
                [
                  "JioMart",
                  1.5,
                  "Low"
                ],
                [
                  "Zepto",
                  3.7,
                  "Medium"
                ],
                [
                  "Swiggy Instamart",
                  2.8,
                  "Low"
                ],
                [
                  "JioMart",
                  2.5,
                  "Low"
                ],
                [
                  "Swiggy Instamart",
                  2.3,
                  "Low"
                ],
                [
                  "JioMart",
                  2.4,
                  "Low"
                ],
                [
                  "Blinkit",
                  4.6,
                  "High"
                ],
                [
                  "JioMart",
                  4.1,
                  "High"
                ],
                [
                  "Swiggy Instamart",
                  1.3,
                  "Low"
                ],
                [
                  "JioMart",
                  1.2,
                  "Low"
                ],
                [
                  "Blinkit",
                  3.2,
                  "Medium"
                ],
                [
                  "Zepto",
                  3.4,
                  "Medium"
                ],
                [
                  "Blinkit",
                  1.4,
                  "Low"
                ],
                [
                  "JioMart",
                  3.2,
                  "Medium"
                ],
                [
                  "Swiggy Instamart",
                  4.3,
                  "High"
                ],
                [
                  "Blinkit",
                  2.6,
                  "Low"
                ],
                [
                  "Zepto",
                  3.2,
                  "Medium"
                ],
                [
                  "Swiggy Instamart",
                  1,
                  "Low"
                ],
                [
                  "Blinkit",
                  2.4,
                  "Low"
                ],
                [
                  "JioMart",
                  5,
                  "High"
                ],
                [
                  "Zepto",
                  4.3,
                  "High"
                ],
                [
                  "Zepto",
                  3.3,
                  "Medium"
                ],
                [
                  "Zepto",
                  1.3,
                  "Low"
                ],
                [
                  "JioMart",
                  2.8,
                  "Low"
                ],
                [
                  "Blinkit",
                  3.1,
                  "Medium"
                ],
                [
                  "Zepto",
                  1.2,
                  "Low"
                ],
                [
                  "JioMart",
                  4.3,
                  "High"
                ],
                [
                  "JioMart",
                  1.3,
                  "Low"
                ],
                [
                  "JioMart",
                  1.8,
                  "Low"
                ],
                [
                  "JioMart",
                  1.1,
                  "Low"
                ],
                [
                  "Zepto",
                  2.2,
                  "Low"
                ],
                [
                  "Blinkit",
                  3.5,
                  "Medium"
                ],
                [
                  "JioMart",
                  3.2,
                  "Medium"
                ],
                [
                  "Swiggy Instamart",
                  2.8,
                  "Low"
                ],
                [
                  "JioMart",
                  2.5,
                  "Low"
                ],
                [
                  "JioMart",
                  2.8,
                  "Low"
                ],
                [
                  "Swiggy Instamart",
                  3.2,
                  "Medium"
                ],
                [
                  "Blinkit",
                  2,
                  "Low"
                ],
                [
                  "Blinkit",
                  3.9,
                  "Medium"
                ],
                [
                  "Swiggy Instamart",
                  4.5,
                  "High"
                ],
                [
                  "Swiggy Instamart",
                  2.9,
                  "Low"
                ],
                [
                  "Swiggy Instamart",
                  3.6,
                  "Medium"
                ],
                [
                  "Zepto",
                  4,
                  "Medium"
                ],
                [
                  "JioMart",
                  1.9,
                  "Low"
                ],
                [
                  "Zepto",
                  3.7,
                  "Medium"
                ],
                [
                  "Swiggy Instamart",
                  2.4,
                  "Low"
                ],
                [
                  "Blinkit",
                  2.4,
                  "Low"
                ],
                [
                  "Zepto",
                  3.8,
                  "Medium"
                ],
                [
                  "JioMart",
                  4,
                  "Medium"
                ],
                [
                  "JioMart",
                  1.3,
                  "Low"
                ],
                [
                  "JioMart",
                  4.1,
                  "High"
                ],
                [
                  "Zepto",
                  4.4,
                  "High"
                ],
                [
                  "Blinkit",
                  2.3,
                  "Low"
                ],
                [
                  "Zepto",
                  2.2,
                  "Low"
                ],
                [
                  "Blinkit",
                  4,
                  "Medium"
                ],
                [
                  "JioMart",
                  3.7,
                  "Medium"
                ],
                [
                  "Swiggy Instamart",
                  2.9,
                  "Low"
                ],
                [
                  "Blinkit",
                  1.5,
                  "Low"
                ],
                [
                  "Blinkit",
                  1.4,
                  "Low"
                ],
                [
                  "Zepto",
                  1.4,
                  "Low"
                ],
                [
                  "Zepto",
                  3.1,
                  "Medium"
                ],
                [
                  "JioMart",
                  1.5,
                  "Low"
                ],
                [
                  "Blinkit",
                  4.5,
                  "High"
                ],
                [
                  "JioMart",
                  5,
                  "High"
                ],
                [
                  "JioMart",
                  2.2,
                  "Low"
                ],
                [
                  "Blinkit",
                  1.1,
                  "Low"
                ],
                [
                  "JioMart",
                  2.3,
                  "Low"
                ],
                [
                  "Zepto",
                  2.3,
                  "Low"
                ],
                [
                  "JioMart",
                  3.3,
                  "Medium"
                ],
                [
                  "JioMart",
                  1.4,
                  "Low"
                ],
                [
                  "Swiggy Instamart",
                  2.3,
                  "Low"
                ],
                [
                  "Zepto",
                  4.5,
                  "High"
                ],
                [
                  "Zepto",
                  3.3,
                  "Medium"
                ],
                [
                  "JioMart",
                  5,
                  "High"
                ],
                [
                  "JioMart",
                  4.5,
                  "High"
                ],
                [
                  "Blinkit",
                  4.7,
                  "High"
                ],
                [
                  "Zepto",
                  4.7,
                  "High"
                ],
                [
                  "JioMart",
                  2,
                  "Low"
                ],
                [
                  "JioMart",
                  4.6,
                  "High"
                ],
                [
                  "Swiggy Instamart",
                  3.1,
                  "Medium"
                ],
                [
                  "JioMart",
                  4.2,
                  "High"
                ],
                [
                  "JioMart",
                  4.4,
                  "High"
                ],
                [
                  "Swiggy Instamart",
                  1.6,
                  "Low"
                ],
                [
                  "JioMart",
                  2.6,
                  "Low"
                ],
                [
                  "JioMart",
                  4,
                  "Medium"
                ],
                [
                  "JioMart",
                  2.5,
                  "Low"
                ],
                [
                  "Swiggy Instamart",
                  2.4,
                  "Low"
                ],
                [
                  "Swiggy Instamart",
                  3.7,
                  "Medium"
                ],
                [
                  "Blinkit",
                  4.9,
                  "High"
                ],
                [
                  "Zepto",
                  2.2,
                  "Low"
                ],
                [
                  "Swiggy Instamart",
                  1.5,
                  "Low"
                ],
                [
                  "Zepto",
                  3.6,
                  "Medium"
                ],
                [
                  "Swiggy Instamart",
                  1.1,
                  "Low"
                ],
                [
                  "Zepto",
                  1.3,
                  "Low"
                ],
                [
                  "Zepto",
                  3.1,
                  "Medium"
                ],
                [
                  "Swiggy Instamart",
                  4.4,
                  "High"
                ],
                [
                  "JioMart",
                  4.8,
                  "High"
                ],
                [
                  "Zepto",
                  2.5,
                  "Low"
                ],
                [
                  "Zepto",
                  3,
                  "Medium"
                ],
                [
                  "Swiggy Instamart",
                  4.5,
                  "High"
                ],
                [
                  "JioMart",
                  3.7,
                  "Medium"
                ],
                [
                  "Swiggy Instamart",
                  2.8,
                  "Low"
                ],
                [
                  "JioMart",
                  2.6,
                  "Low"
                ],
                [
                  "JioMart",
                  1.5,
                  "Low"
                ],
                [
                  "Zepto",
                  4.1,
                  "High"
                ],
                [
                  "Swiggy Instamart",
                  1.1,
                  "Low"
                ],
                [
                  "JioMart",
                  4.9,
                  "High"
                ],
                [
                  "JioMart",
                  1.2,
                  "Low"
                ],
                [
                  "Swiggy Instamart",
                  3.9,
                  "Medium"
                ],
                [
                  "Swiggy Instamart",
                  4.4,
                  "High"
                ],
                [
                  "Blinkit",
                  1.7,
                  "Low"
                ],
                [
                  "Swiggy Instamart",
                  3.8,
                  "Medium"
                ],
                [
                  "JioMart",
                  3.1,
                  "Medium"
                ],
                [
                  "Zepto",
                  3.2,
                  "Medium"
                ],
                [
                  "JioMart",
                  3.7,
                  "Medium"
                ],
                [
                  "JioMart",
                  4.9,
                  "High"
                ],
                [
                  "Swiggy Instamart",
                  3.2,
                  "Medium"
                ],
                [
                  "Zepto",
                  1.7,
                  "Low"
                ],
                [
                  "JioMart",
                  4.4,
                  "High"
                ],
                [
                  "Zepto",
                  3.5,
                  "Medium"
                ],
                [
                  "Blinkit",
                  4.5,
                  "High"
                ],
                [
                  "JioMart",
                  1.9,
                  "Low"
                ],
                [
                  "Swiggy Instamart",
                  2,
                  "Low"
                ],
                [
                  "JioMart",
                  4.4,
                  "High"
                ],
                [
                  "JioMart",
                  2.3,
                  "Low"
                ],
                [
                  "Zepto",
                  2.4,
                  "Low"
                ],
                [
                  "Blinkit",
                  2,
                  "Low"
                ],
                [
                  "Blinkit",
                  4.7,
                  "High"
                ],
                [
                  "JioMart",
                  4.8,
                  "High"
                ],
                [
                  "Blinkit",
                  4.7,
                  "High"
                ],
                [
                  "JioMart",
                  3.6,
                  "Medium"
                ],
                [
                  "JioMart",
                  1.9,
                  "Low"
                ],
                [
                  "Zepto",
                  3.7,
                  "Medium"
                ],
                [
                  "Blinkit",
                  4.7,
                  "High"
                ],
                [
                  "JioMart",
                  2.8,
                  "Low"
                ],
                [
                  "Zepto",
                  2.2,
                  "Low"
                ],
                [
                  "Blinkit",
                  4.6,
                  "High"
                ],
                [
                  "Swiggy Instamart",
                  3.6,
                  "Medium"
                ],
                [
                  "Blinkit",
                  1.3,
                  "Low"
                ],
                [
                  "Blinkit",
                  1.9,
                  "Low"
                ],
                [
                  "Zepto",
                  3.4,
                  "Medium"
                ],
                [
                  "Zepto",
                  4.2,
                  "High"
                ],
                [
                  "Swiggy Instamart",
                  3.2,
                  "Medium"
                ],
                [
                  "Blinkit",
                  2.5,
                  "Low"
                ],
                [
                  "Blinkit",
                  2.9,
                  "Low"
                ],
                [
                  "Zepto",
                  4.6,
                  "High"
                ],
                [
                  "Swiggy Instamart",
                  3.4,
                  "Medium"
                ],
                [
                  "JioMart",
                  2.8,
                  "Low"
                ],
                [
                  "Swiggy Instamart",
                  1.7,
                  "Low"
                ],
                [
                  "Blinkit",
                  3.3,
                  "Medium"
                ],
                [
                  "Swiggy Instamart",
                  2.5,
                  "Low"
                ],
                [
                  "JioMart",
                  2.9,
                  "Low"
                ],
                [
                  "JioMart",
                  1.9,
                  "Low"
                ],
                [
                  "Zepto",
                  2.8,
                  "Low"
                ],
                [
                  "Swiggy Instamart",
                  4.6,
                  "High"
                ],
                [
                  "Swiggy Instamart",
                  2.9,
                  "Low"
                ],
                [
                  "Blinkit",
                  3.6,
                  "Medium"
                ],
                [
                  "Swiggy Instamart",
                  1.7,
                  "Low"
                ],
                [
                  "Blinkit",
                  2.7,
                  "Low"
                ],
                [
                  "Swiggy Instamart",
                  4,
                  "Medium"
                ],
                [
                  "Swiggy Instamart",
                  2.5,
                  "Low"
                ],
                [
                  "JioMart",
                  3.3,
                  "Medium"
                ],
                [
                  "Zepto",
                  1.4,
                  "Low"
                ],
                [
                  "JioMart",
                  4.8,
                  "High"
                ],
                [
                  "Blinkit",
                  1.8,
                  "Low"
                ],
                [
                  "Swiggy Instamart",
                  3.3,
                  "Medium"
                ],
                [
                  "Blinkit",
                  3.3,
                  "Medium"
                ],
                [
                  "JioMart",
                  1.3,
                  "Low"
                ],
                [
                  "Swiggy Instamart",
                  4,
                  "Medium"
                ],
                [
                  "Zepto",
                  1.5,
                  "Low"
                ],
                [
                  "Blinkit",
                  4.8,
                  "High"
                ],
                [
                  "Blinkit",
                  2.9,
                  "Low"
                ],
                [
                  "Swiggy Instamart",
                  2.2,
                  "Low"
                ],
                [
                  "Swiggy Instamart",
                  1.2,
                  "Low"
                ],
                [
                  "JioMart",
                  4,
                  "Medium"
                ],
                [
                  "Zepto",
                  2.2,
                  "Low"
                ],
                [
                  "Zepto",
                  4.5,
                  "High"
                ],
                [
                  "Blinkit",
                  3,
                  "Medium"
                ],
                [
                  "Swiggy Instamart",
                  3.2,
                  "Medium"
                ],
                [
                  "Blinkit",
                  4.1,
                  "High"
                ],
                [
                  "Blinkit",
                  3.2,
                  "Medium"
                ],
                [
                  "Blinkit",
                  5,
                  "High"
                ],
                [
                  "Blinkit",
                  1.4,
                  "Low"
                ],
                [
                  "Blinkit",
                  2,
                  "Low"
                ],
                [
                  "JioMart",
                  4.7,
                  "High"
                ],
                [
                  "Swiggy Instamart",
                  2.8,
                  "Low"
                ],
                [
                  "JioMart",
                  1.4,
                  "Low"
                ],
                [
                  "Zepto",
                  2.9,
                  "Low"
                ],
                [
                  "Swiggy Instamart",
                  1.8,
                  "Low"
                ],
                [
                  "Zepto",
                  3.9,
                  "Medium"
                ],
                [
                  "Zepto",
                  3.8,
                  "Medium"
                ],
                [
                  "Swiggy Instamart",
                  3.5,
                  "Medium"
                ],
                [
                  "Swiggy Instamart",
                  2,
                  "Low"
                ],
                [
                  "Blinkit",
                  2.5,
                  "Low"
                ],
                [
                  "Blinkit",
                  3,
                  "Medium"
                ],
                [
                  "Blinkit",
                  4.9,
                  "High"
                ],
                [
                  "Swiggy Instamart",
                  2.7,
                  "Low"
                ],
                [
                  "Zepto",
                  4.8,
                  "High"
                ],
                [
                  "Zepto",
                  3.4,
                  "Medium"
                ],
                [
                  "Blinkit",
                  2.4,
                  "Low"
                ],
                [
                  "Blinkit",
                  3.3,
                  "Medium"
                ],
                [
                  "Swiggy Instamart",
                  3.6,
                  "Medium"
                ],
                [
                  "JioMart",
                  2,
                  "Low"
                ],
                [
                  "Swiggy Instamart",
                  1.7,
                  "Low"
                ],
                [
                  "Swiggy Instamart",
                  5,
                  "High"
                ],
                [
                  "JioMart",
                  4.2,
                  "High"
                ],
                [
                  "Blinkit",
                  2.5,
                  "Low"
                ],
                [
                  "Blinkit",
                  2.4,
                  "Low"
                ],
                [
                  "JioMart",
                  3.8,
                  "Medium"
                ],
                [
                  "Blinkit",
                  3,
                  "Medium"
                ],
                [
                  "Blinkit",
                  3.3,
                  "Medium"
                ],
                [
                  "Swiggy Instamart",
                  1.4,
                  "Low"
                ],
                [
                  "JioMart",
                  3.7,
                  "Medium"
                ],
                [
                  "JioMart",
                  2.2,
                  "Low"
                ],
                [
                  "Swiggy Instamart",
                  4,
                  "Medium"
                ],
                [
                  "Swiggy Instamart",
                  2.1,
                  "Low"
                ],
                [
                  "Zepto",
                  4.9,
                  "High"
                ],
                [
                  "Zepto",
                  2.7,
                  "Low"
                ],
                [
                  "Zepto",
                  3.1,
                  "Medium"
                ],
                [
                  "JioMart",
                  3.3,
                  "Medium"
                ],
                [
                  "Zepto",
                  4.1,
                  "High"
                ],
                [
                  "Zepto",
                  2.7,
                  "Low"
                ],
                [
                  "Swiggy Instamart",
                  3.1,
                  "Medium"
                ],
                [
                  "Zepto",
                  4.2,
                  "High"
                ],
                [
                  "Zepto",
                  2.1,
                  "Low"
                ],
                [
                  "Swiggy Instamart",
                  2.1,
                  "Low"
                ],
                [
                  "Blinkit",
                  1.6,
                  "Low"
                ],
                [
                  "Blinkit",
                  2.3,
                  "Low"
                ],
                [
                  "Blinkit",
                  1.8,
                  "Low"
                ],
                [
                  "JioMart",
                  3.5,
                  "Medium"
                ],
                [
                  "Blinkit",
                  4.7,
                  "High"
                ],
                [
                  "Blinkit",
                  3.4,
                  "Medium"
                ],
                [
                  "Zepto",
                  4.4,
                  "High"
                ],
                [
                  "Blinkit",
                  4.1,
                  "High"
                ],
                [
                  "JioMart",
                  2.4,
                  "Low"
                ],
                [
                  "Blinkit",
                  3.4,
                  "Medium"
                ],
                [
                  "Zepto",
                  3.8,
                  "Medium"
                ],
                [
                  "Swiggy Instamart",
                  2.4,
                  "Low"
                ],
                [
                  "Swiggy Instamart",
                  2.7,
                  "Low"
                ],
                [
                  "Blinkit",
                  1.2,
                  "Low"
                ],
                [
                  "Zepto",
                  4.8,
                  "High"
                ],
                [
                  "Blinkit",
                  3.8,
                  "Medium"
                ],
                [
                  "Blinkit",
                  1.5,
                  "Low"
                ],
                [
                  "JioMart",
                  2.5,
                  "Low"
                ],
                [
                  "JioMart",
                  2.1,
                  "Low"
                ],
                [
                  "Swiggy Instamart",
                  4.7,
                  "High"
                ],
                [
                  "Swiggy Instamart",
                  3.7,
                  "Medium"
                ],
                [
                  "JioMart",
                  3.8,
                  "Medium"
                ],
                [
                  "Zepto",
                  1,
                  "Low"
                ],
                [
                  "Zepto",
                  2.2,
                  "Low"
                ],
                [
                  "Swiggy Instamart",
                  2.8,
                  "Low"
                ],
                [
                  "JioMart",
                  4.7,
                  "High"
                ],
                [
                  "Blinkit",
                  1.7,
                  "Low"
                ],
                [
                  "JioMart",
                  3,
                  "Medium"
                ],
                [
                  "Swiggy Instamart",
                  3.6,
                  "Medium"
                ],
                [
                  "JioMart",
                  2.5,
                  "Low"
                ],
                [
                  "Zepto",
                  1.4,
                  "Low"
                ],
                [
                  "Blinkit",
                  1.5,
                  "Low"
                ],
                [
                  "Zepto",
                  3.4,
                  "Medium"
                ],
                [
                  "Swiggy Instamart",
                  4.9,
                  "High"
                ],
                [
                  "Zepto",
                  3.3,
                  "Medium"
                ],
                [
                  "Zepto",
                  2.9,
                  "Low"
                ],
                [
                  "Zepto",
                  4.8,
                  "High"
                ],
                [
                  "Swiggy Instamart",
                  2,
                  "Low"
                ],
                [
                  "Swiggy Instamart",
                  1.7,
                  "Low"
                ],
                [
                  "Swiggy Instamart",
                  1.2,
                  "Low"
                ],
                [
                  "Zepto",
                  3.4,
                  "Medium"
                ],
                [
                  "Swiggy Instamart",
                  4.2,
                  "High"
                ],
                [
                  "Blinkit",
                  2.6,
                  "Low"
                ],
                [
                  "Blinkit",
                  1.1,
                  "Low"
                ],
                [
                  "Blinkit",
                  1.7,
                  "Low"
                ],
                [
                  "JioMart",
                  2.6,
                  "Low"
                ],
                [
                  "Zepto",
                  4.2,
                  "High"
                ],
                [
                  "Swiggy Instamart",
                  3,
                  "Medium"
                ],
                [
                  "JioMart",
                  1.5,
                  "Low"
                ],
                [
                  "Zepto",
                  5,
                  "High"
                ],
                [
                  "Swiggy Instamart",
                  2.6,
                  "Low"
                ],
                [
                  "Swiggy Instamart",
                  4.5,
                  "High"
                ],
                [
                  "JioMart",
                  4.2,
                  "High"
                ],
                [
                  "Swiggy Instamart",
                  2.2,
                  "Low"
                ],
                [
                  "Swiggy Instamart",
                  4.2,
                  "High"
                ],
                [
                  "JioMart",
                  3.1,
                  "Medium"
                ],
                [
                  "Swiggy Instamart",
                  4,
                  "Medium"
                ],
                [
                  "Blinkit",
                  4.8,
                  "High"
                ],
                [
                  "JioMart",
                  2.1,
                  "Low"
                ],
                [
                  "Swiggy Instamart",
                  4.7,
                  "High"
                ],
                [
                  "Zepto",
                  2.1,
                  "Low"
                ],
                [
                  "Zepto",
                  4.2,
                  "High"
                ],
                [
                  "Blinkit",
                  3.7,
                  "Medium"
                ],
                [
                  "Blinkit",
                  4.4,
                  "High"
                ],
                [
                  "Blinkit",
                  2.9,
                  "Low"
                ],
                [
                  "Zepto",
                  1,
                  "Low"
                ],
                [
                  "JioMart",
                  4.9,
                  "High"
                ],
                [
                  "Swiggy Instamart",
                  3.2,
                  "Medium"
                ],
                [
                  "Blinkit",
                  1.8,
                  "Low"
                ],
                [
                  "Swiggy Instamart",
                  4,
                  "Medium"
                ],
                [
                  "Zepto",
                  2.2,
                  "Low"
                ],
                [
                  "Zepto",
                  2.6,
                  "Low"
                ],
                [
                  "Zepto",
                  1.4,
                  "Low"
                ],
                [
                  "Zepto",
                  3.8,
                  "Medium"
                ],
                [
                  "Swiggy Instamart",
                  2.6,
                  "Low"
                ],
                [
                  "Zepto",
                  2.8,
                  "Low"
                ],
                [
                  "Zepto",
                  1,
                  "Low"
                ],
                [
                  "JioMart",
                  5,
                  "High"
                ],
                [
                  "JioMart",
                  1.7,
                  "Low"
                ],
                [
                  "Blinkit",
                  2.5,
                  "Low"
                ],
                [
                  "JioMart",
                  2.3,
                  "Low"
                ],
                [
                  "Blinkit",
                  3.7,
                  "Medium"
                ],
                [
                  "JioMart",
                  3.5,
                  "Medium"
                ],
                [
                  "Zepto",
                  1.6,
                  "Low"
                ],
                [
                  "Blinkit",
                  3.8,
                  "Medium"
                ],
                [
                  "Blinkit",
                  4.5,
                  "High"
                ],
                [
                  "Swiggy Instamart",
                  1.9,
                  "Low"
                ],
                [
                  "Zepto",
                  4.5,
                  "High"
                ],
                [
                  "Swiggy Instamart",
                  2.4,
                  "Low"
                ],
                [
                  "Swiggy Instamart",
                  3.4,
                  "Medium"
                ],
                [
                  "JioMart",
                  4.2,
                  "High"
                ],
                [
                  "Swiggy Instamart",
                  1.4,
                  "Low"
                ],
                [
                  "JioMart",
                  1,
                  "Low"
                ],
                [
                  "Swiggy Instamart",
                  3.1,
                  "Medium"
                ],
                [
                  "Zepto",
                  3.1,
                  "Medium"
                ],
                [
                  "Blinkit",
                  3.7,
                  "Medium"
                ],
                [
                  "Zepto",
                  4.4,
                  "High"
                ],
                [
                  "Zepto",
                  1.9,
                  "Low"
                ],
                [
                  "JioMart",
                  3.4,
                  "Medium"
                ],
                [
                  "Swiggy Instamart",
                  2.8,
                  "Low"
                ],
                [
                  "Blinkit",
                  2.1,
                  "Low"
                ],
                [
                  "JioMart",
                  1.2,
                  "Low"
                ],
                [
                  "Blinkit",
                  3.1,
                  "Medium"
                ],
                [
                  "Blinkit",
                  1.1,
                  "Low"
                ],
                [
                  "Blinkit",
                  1.6,
                  "Low"
                ],
                [
                  "Zepto",
                  2.8,
                  "Low"
                ],
                [
                  "JioMart",
                  2.7,
                  "Low"
                ],
                [
                  "Blinkit",
                  4.1,
                  "High"
                ],
                [
                  "Swiggy Instamart",
                  5,
                  "High"
                ],
                [
                  "JioMart",
                  4.2,
                  "High"
                ],
                [
                  "Swiggy Instamart",
                  2.5,
                  "Low"
                ],
                [
                  "Swiggy Instamart",
                  3.4,
                  "Medium"
                ],
                [
                  "Blinkit",
                  1.5,
                  "Low"
                ],
                [
                  "Blinkit",
                  3.5,
                  "Medium"
                ],
                [
                  "Swiggy Instamart",
                  2.2,
                  "Low"
                ],
                [
                  "Swiggy Instamart",
                  4.5,
                  "High"
                ],
                [
                  "Blinkit",
                  2.2,
                  "Low"
                ],
                [
                  "JioMart",
                  3.2,
                  "Medium"
                ],
                [
                  "Swiggy Instamart",
                  2.7,
                  "Low"
                ],
                [
                  "Swiggy Instamart",
                  2.6,
                  "Low"
                ],
                [
                  "Zepto",
                  3.1,
                  "Medium"
                ],
                [
                  "JioMart",
                  4.9,
                  "High"
                ],
                [
                  "Blinkit",
                  3.7,
                  "Medium"
                ],
                [
                  "Swiggy Instamart",
                  4.1,
                  "High"
                ],
                [
                  "Zepto",
                  1.3,
                  "Low"
                ],
                [
                  "Swiggy Instamart",
                  3.3,
                  "Medium"
                ],
                [
                  "Zepto",
                  3.2,
                  "Medium"
                ],
                [
                  "JioMart",
                  4.2,
                  "High"
                ],
                [
                  "JioMart",
                  4,
                  "Medium"
                ],
                [
                  "Blinkit",
                  2.3,
                  "Low"
                ],
                [
                  "Swiggy Instamart",
                  3.6,
                  "Medium"
                ],
                [
                  "Zepto",
                  2.1,
                  "Low"
                ],
                [
                  "Swiggy Instamart",
                  2.9,
                  "Low"
                ],
                [
                  "JioMart",
                  3.3,
                  "Medium"
                ],
                [
                  "Blinkit",
                  2.2,
                  "Low"
                ],
                [
                  "Blinkit",
                  1.7,
                  "Low"
                ],
                [
                  "Blinkit",
                  1.9,
                  "Low"
                ],
                [
                  "Blinkit",
                  1.8,
                  "Low"
                ],
                [
                  "Blinkit",
                  4.8,
                  "High"
                ],
                [
                  "JioMart",
                  2.3,
                  "Low"
                ],
                [
                  "Swiggy Instamart",
                  3.8,
                  "Medium"
                ],
                [
                  "Blinkit",
                  1.5,
                  "Low"
                ],
                [
                  "Swiggy Instamart",
                  4.1,
                  "High"
                ],
                [
                  "Zepto",
                  2.4,
                  "Low"
                ],
                [
                  "Zepto",
                  2.7,
                  "Low"
                ],
                [
                  "Zepto",
                  4.2,
                  "High"
                ],
                [
                  "Swiggy Instamart",
                  2.2,
                  "Low"
                ],
                [
                  "Blinkit",
                  4.1,
                  "High"
                ],
                [
                  "Zepto",
                  4.7,
                  "High"
                ],
                [
                  "JioMart",
                  3,
                  "Medium"
                ],
                [
                  "JioMart",
                  4.9,
                  "High"
                ],
                [
                  "Blinkit",
                  1.6,
                  "Low"
                ],
                [
                  "Zepto",
                  3.4,
                  "Medium"
                ],
                [
                  "Blinkit",
                  1.1,
                  "Low"
                ],
                [
                  "Zepto",
                  2.9,
                  "Low"
                ],
                [
                  "JioMart",
                  4.8,
                  "High"
                ],
                [
                  "Zepto",
                  4.3,
                  "High"
                ],
                [
                  "Zepto",
                  2.9,
                  "Low"
                ],
                [
                  "Blinkit",
                  3.2,
                  "Medium"
                ],
                [
                  "Zepto",
                  2,
                  "Low"
                ],
                [
                  "Blinkit",
                  3,
                  "Medium"
                ],
                [
                  "Swiggy Instamart",
                  4.2,
                  "High"
                ],
                [
                  "JioMart",
                  3.8,
                  "Medium"
                ],
                [
                  "JioMart",
                  2.4,
                  "Low"
                ],
                [
                  "JioMart",
                  4.5,
                  "High"
                ],
                [
                  "Swiggy Instamart",
                  3.6,
                  "Medium"
                ],
                [
                  "Zepto",
                  3.6,
                  "Medium"
                ],
                [
                  "Swiggy Instamart",
                  3.9,
                  "Medium"
                ],
                [
                  "Blinkit",
                  1.4,
                  "Low"
                ],
                [
                  "Zepto",
                  1.6,
                  "Low"
                ],
                [
                  "Zepto",
                  4.9,
                  "High"
                ],
                [
                  "Zepto",
                  4.1,
                  "High"
                ],
                [
                  "Zepto",
                  1.7,
                  "Low"
                ],
                [
                  "Blinkit",
                  1.8,
                  "Low"
                ],
                [
                  "JioMart",
                  2.7,
                  "Low"
                ],
                [
                  "Zepto",
                  2.2,
                  "Low"
                ],
                [
                  "Swiggy Instamart",
                  3,
                  "Medium"
                ],
                [
                  "Blinkit",
                  4.4,
                  "High"
                ],
                [
                  "Swiggy Instamart",
                  2.3,
                  "Low"
                ],
                [
                  "JioMart",
                  4.4,
                  "High"
                ],
                [
                  "JioMart",
                  2.5,
                  "Low"
                ],
                [
                  "Zepto",
                  3.4,
                  "Medium"
                ],
                [
                  "Blinkit",
                  1,
                  "Low"
                ],
                [
                  "Blinkit",
                  2.2,
                  "Low"
                ],
                [
                  "Zepto",
                  3.3,
                  "Medium"
                ],
                [
                  "Swiggy Instamart",
                  2,
                  "Low"
                ],
                [
                  "Blinkit",
                  1.2,
                  "Low"
                ],
                [
                  "JioMart",
                  2.2,
                  "Low"
                ],
                [
                  "Zepto",
                  2.1,
                  "Low"
                ],
                [
                  "Blinkit",
                  4.9,
                  "High"
                ],
                [
                  "JioMart",
                  4.5,
                  "High"
                ],
                [
                  "Swiggy Instamart",
                  4.4,
                  "High"
                ],
                [
                  "Swiggy Instamart",
                  2.7,
                  "Low"
                ],
                [
                  "Blinkit",
                  1.1,
                  "Low"
                ],
                [
                  "Zepto",
                  4.6,
                  "High"
                ],
                [
                  "Swiggy Instamart",
                  2,
                  "Low"
                ],
                [
                  "JioMart",
                  4,
                  "Medium"
                ],
                [
                  "Swiggy Instamart",
                  2,
                  "Low"
                ],
                [
                  "Swiggy Instamart",
                  3.5,
                  "Medium"
                ],
                [
                  "Blinkit",
                  1.2,
                  "Low"
                ],
                [
                  "Zepto",
                  2,
                  "Low"
                ],
                [
                  "Blinkit",
                  1.9,
                  "Low"
                ],
                [
                  "Blinkit",
                  4.9,
                  "High"
                ],
                [
                  "Zepto",
                  1.2,
                  "Low"
                ],
                [
                  "JioMart",
                  4.2,
                  "High"
                ],
                [
                  "Blinkit",
                  1.4,
                  "Low"
                ],
                [
                  "Swiggy Instamart",
                  1.4,
                  "Low"
                ],
                [
                  "Swiggy Instamart",
                  1.5,
                  "Low"
                ],
                [
                  "Zepto",
                  4.5,
                  "High"
                ],
                [
                  "Swiggy Instamart",
                  1.4,
                  "Low"
                ],
                [
                  "Swiggy Instamart",
                  5,
                  "High"
                ],
                [
                  "Zepto",
                  3.7,
                  "Medium"
                ],
                [
                  "Zepto",
                  4.8,
                  "High"
                ],
                [
                  "JioMart",
                  2.9,
                  "Low"
                ],
                [
                  "Swiggy Instamart",
                  2.6,
                  "Low"
                ],
                [
                  "Zepto",
                  1.9,
                  "Low"
                ],
                [
                  "JioMart",
                  2.2,
                  "Low"
                ],
                [
                  "Zepto",
                  5,
                  "High"
                ],
                [
                  "Swiggy Instamart",
                  1.2,
                  "Low"
                ],
                [
                  "Blinkit",
                  3.8,
                  "Medium"
                ],
                [
                  "Blinkit",
                  4.8,
                  "High"
                ],
                [
                  "Blinkit",
                  1.2,
                  "Low"
                ],
                [
                  "Swiggy Instamart",
                  1.7,
                  "Low"
                ],
                [
                  "Swiggy Instamart",
                  1.7,
                  "Low"
                ],
                [
                  "Swiggy Instamart",
                  3,
                  "Medium"
                ],
                [
                  "Zepto",
                  3.7,
                  "Medium"
                ],
                [
                  "Zepto",
                  2.6,
                  "Low"
                ],
                [
                  "Zepto",
                  1.5,
                  "Low"
                ],
                [
                  "Swiggy Instamart",
                  2.8,
                  "Low"
                ],
                [
                  "Zepto",
                  3.1,
                  "Medium"
                ],
                [
                  "JioMart",
                  2.7,
                  "Low"
                ],
                [
                  "JioMart",
                  4.8,
                  "High"
                ],
                [
                  "Swiggy Instamart",
                  2.6,
                  "Low"
                ],
                [
                  "Swiggy Instamart",
                  4.7,
                  "High"
                ],
                [
                  "JioMart",
                  1.1,
                  "Low"
                ],
                [
                  "Zepto",
                  4.3,
                  "High"
                ],
                [
                  "JioMart",
                  3,
                  "Medium"
                ],
                [
                  "JioMart",
                  1.8,
                  "Low"
                ],
                [
                  "Blinkit",
                  4.3,
                  "High"
                ],
                [
                  "Zepto",
                  1.6,
                  "Low"
                ],
                [
                  "Swiggy Instamart",
                  2.2,
                  "Low"
                ],
                [
                  "Zepto",
                  2.5,
                  "Low"
                ],
                [
                  "Blinkit",
                  2.1,
                  "Low"
                ],
                [
                  "Zepto",
                  4.6,
                  "High"
                ],
                [
                  "Swiggy Instamart",
                  2.4,
                  "Low"
                ],
                [
                  "Zepto",
                  4.4,
                  "High"
                ],
                [
                  "Swiggy Instamart",
                  3.1,
                  "Medium"
                ],
                [
                  "Swiggy Instamart",
                  1.7,
                  "Low"
                ],
                [
                  "Blinkit",
                  3.6,
                  "Medium"
                ],
                [
                  "Swiggy Instamart",
                  3.3,
                  "Medium"
                ],
                [
                  "Blinkit",
                  4.6,
                  "High"
                ],
                [
                  "Swiggy Instamart",
                  4.2,
                  "High"
                ],
                [
                  "Zepto",
                  3.8,
                  "Medium"
                ],
                [
                  "Swiggy Instamart",
                  1.2,
                  "Low"
                ],
                [
                  "Zepto",
                  3.7,
                  "Medium"
                ],
                [
                  "Zepto",
                  3.4,
                  "Medium"
                ],
                [
                  "Blinkit",
                  4,
                  "Medium"
                ],
                [
                  "Swiggy Instamart",
                  2.5,
                  "Low"
                ],
                [
                  "Zepto",
                  1.1,
                  "Low"
                ],
                [
                  "JioMart",
                  4.9,
                  "High"
                ],
                [
                  "Swiggy Instamart",
                  2.2,
                  "Low"
                ],
                [
                  "JioMart",
                  4.5,
                  "High"
                ],
                [
                  "Zepto",
                  4.3,
                  "High"
                ],
                [
                  "Swiggy Instamart",
                  4.7,
                  "High"
                ],
                [
                  "Blinkit",
                  3.9,
                  "Medium"
                ],
                [
                  "Swiggy Instamart",
                  3,
                  "Medium"
                ],
                [
                  "Zepto",
                  2.5,
                  "Low"
                ],
                [
                  "JioMart",
                  4.6,
                  "High"
                ],
                [
                  "Blinkit",
                  1.2,
                  "Low"
                ],
                [
                  "Zepto",
                  3,
                  "Medium"
                ],
                [
                  "JioMart",
                  3.7,
                  "Medium"
                ],
                [
                  "Blinkit",
                  2.2,
                  "Low"
                ],
                [
                  "Blinkit",
                  4.6,
                  "High"
                ],
                [
                  "Swiggy Instamart",
                  1.1,
                  "Low"
                ],
                [
                  "JioMart",
                  3,
                  "Medium"
                ],
                [
                  "Blinkit",
                  4.1,
                  "High"
                ],
                [
                  "Zepto",
                  4.3,
                  "High"
                ],
                [
                  "Blinkit",
                  1.3,
                  "Low"
                ],
                [
                  "JioMart",
                  3.8,
                  "Medium"
                ],
                [
                  "Zepto",
                  3.2,
                  "Medium"
                ],
                [
                  "JioMart",
                  4.4,
                  "High"
                ],
                [
                  "Swiggy Instamart",
                  3,
                  "Medium"
                ],
                [
                  "Swiggy Instamart",
                  4.3,
                  "High"
                ],
                [
                  "Swiggy Instamart",
                  4.4,
                  "High"
                ],
                [
                  "JioMart",
                  1.3,
                  "Low"
                ],
                [
                  "Zepto",
                  4.6,
                  "High"
                ],
                [
                  "Zepto",
                  4.9,
                  "High"
                ],
                [
                  "Zepto",
                  2.9,
                  "Low"
                ],
                [
                  "JioMart",
                  2.1,
                  "Low"
                ],
                [
                  "Swiggy Instamart",
                  2.7,
                  "Low"
                ],
                [
                  "Zepto",
                  3.4,
                  "Medium"
                ],
                [
                  "Blinkit",
                  2.6,
                  "Low"
                ],
                [
                  "Zepto",
                  1.6,
                  "Low"
                ],
                [
                  "Swiggy Instamart",
                  3.2,
                  "Medium"
                ],
                [
                  "Blinkit",
                  2.5,
                  "Low"
                ],
                [
                  "Swiggy Instamart",
                  1.7,
                  "Low"
                ],
                [
                  "Zepto",
                  4.3,
                  "High"
                ],
                [
                  "JioMart",
                  4.1,
                  "High"
                ],
                [
                  "Swiggy Instamart",
                  2.4,
                  "Low"
                ],
                [
                  "Blinkit",
                  2.2,
                  "Low"
                ],
                [
                  "Swiggy Instamart",
                  3.9,
                  "Medium"
                ],
                [
                  "Blinkit",
                  1.4,
                  "Low"
                ],
                [
                  "Zepto",
                  2.3,
                  "Low"
                ],
                [
                  "Blinkit",
                  2.2,
                  "Low"
                ],
                [
                  "Blinkit",
                  1.9,
                  "Low"
                ],
                [
                  "Swiggy Instamart",
                  4.7,
                  "High"
                ],
                [
                  "Swiggy Instamart",
                  1.8,
                  "Low"
                ],
                [
                  "Blinkit",
                  1.1,
                  "Low"
                ],
                [
                  "JioMart",
                  1.3,
                  "Low"
                ],
                [
                  "Swiggy Instamart",
                  4.2,
                  "High"
                ],
                [
                  "Blinkit",
                  4.6,
                  "High"
                ],
                [
                  "Blinkit",
                  2.5,
                  "Low"
                ],
                [
                  "Swiggy Instamart",
                  3,
                  "Medium"
                ],
                [
                  "Swiggy Instamart",
                  3.5,
                  "Medium"
                ],
                [
                  "Swiggy Instamart",
                  2.7,
                  "Low"
                ],
                [
                  "Blinkit",
                  3.5,
                  "Medium"
                ],
                [
                  "Blinkit",
                  4.6,
                  "High"
                ],
                [
                  "Swiggy Instamart",
                  4.2,
                  "High"
                ],
                [
                  "Zepto",
                  2.2,
                  "Low"
                ],
                [
                  "Zepto",
                  1.1,
                  "Low"
                ],
                [
                  "Zepto",
                  3.2,
                  "Medium"
                ],
                [
                  "Swiggy Instamart",
                  1.9,
                  "Low"
                ],
                [
                  "JioMart",
                  1.5,
                  "Low"
                ],
                [
                  "Swiggy Instamart",
                  1.3,
                  "Low"
                ],
                [
                  "Blinkit",
                  2.2,
                  "Low"
                ],
                [
                  "JioMart",
                  4.6,
                  "High"
                ],
                [
                  "JioMart",
                  1.9,
                  "Low"
                ],
                [
                  "JioMart",
                  4.7,
                  "High"
                ],
                [
                  "Zepto",
                  2.4,
                  "Low"
                ],
                [
                  "JioMart",
                  1.4,
                  "Low"
                ],
                [
                  "Blinkit",
                  4.2,
                  "High"
                ],
                [
                  "Zepto",
                  1.6,
                  "Low"
                ],
                [
                  "Swiggy Instamart",
                  2.8,
                  "Low"
                ],
                [
                  "Swiggy Instamart",
                  2,
                  "Low"
                ],
                [
                  "JioMart",
                  1.3,
                  "Low"
                ],
                [
                  "JioMart",
                  2.9,
                  "Low"
                ],
                [
                  "Zepto",
                  4.7,
                  "High"
                ],
                [
                  "Swiggy Instamart",
                  4,
                  "Medium"
                ],
                [
                  "Zepto",
                  1.1,
                  "Low"
                ],
                [
                  "JioMart",
                  3.2,
                  "Medium"
                ],
                [
                  "Zepto",
                  4.3,
                  "High"
                ],
                [
                  "JioMart",
                  3.5,
                  "Medium"
                ],
                [
                  "Zepto",
                  1.9,
                  "Low"
                ],
                [
                  "Swiggy Instamart",
                  3.6,
                  "Medium"
                ],
                [
                  "Zepto",
                  3.3,
                  "Medium"
                ],
                [
                  "JioMart",
                  2.3,
                  "Low"
                ],
                [
                  "JioMart",
                  2.7,
                  "Low"
                ],
                [
                  "Zepto",
                  4.9,
                  "High"
                ],
                [
                  "JioMart",
                  1.1,
                  "Low"
                ],
                [
                  "Swiggy Instamart",
                  3.8,
                  "Medium"
                ],
                [
                  "JioMart",
                  3.2,
                  "Medium"
                ],
                [
                  "Swiggy Instamart",
                  4.9,
                  "High"
                ],
                [
                  "Swiggy Instamart",
                  3.1,
                  "Medium"
                ],
                [
                  "Swiggy Instamart",
                  5,
                  "High"
                ],
                [
                  "JioMart",
                  1,
                  "Low"
                ],
                [
                  "Blinkit",
                  4.3,
                  "High"
                ],
                [
                  "Swiggy Instamart",
                  4.3,
                  "High"
                ],
                [
                  "Blinkit",
                  2.8,
                  "Low"
                ],
                [
                  "Blinkit",
                  4.9,
                  "High"
                ],
                [
                  "Blinkit",
                  3.4,
                  "Medium"
                ],
                [
                  "Zepto",
                  2.9,
                  "Low"
                ],
                [
                  "Zepto",
                  2.6,
                  "Low"
                ],
                [
                  "JioMart",
                  2.6,
                  "Low"
                ],
                [
                  "Zepto",
                  3.8,
                  "Medium"
                ],
                [
                  "Swiggy Instamart",
                  3.3,
                  "Medium"
                ],
                [
                  "JioMart",
                  1.1,
                  "Low"
                ],
                [
                  "Swiggy Instamart",
                  2.1,
                  "Low"
                ],
                [
                  "Swiggy Instamart",
                  4.7,
                  "High"
                ],
                [
                  "Blinkit",
                  1.1,
                  "Low"
                ],
                [
                  "Blinkit",
                  1.8,
                  "Low"
                ],
                [
                  "Blinkit",
                  1.5,
                  "Low"
                ],
                [
                  "JioMart",
                  2.2,
                  "Low"
                ],
                [
                  "Zepto",
                  1.6,
                  "Low"
                ],
                [
                  "JioMart",
                  1.6,
                  "Low"
                ],
                [
                  "JioMart",
                  2.1,
                  "Low"
                ],
                [
                  "Blinkit",
                  1.1,
                  "Low"
                ],
                [
                  "Swiggy Instamart",
                  3.2,
                  "Medium"
                ],
                [
                  "Blinkit",
                  1.9,
                  "Low"
                ],
                [
                  "JioMart",
                  4.8,
                  "High"
                ],
                [
                  "JioMart",
                  1.6,
                  "Low"
                ],
                [
                  "Zepto",
                  3.4,
                  "Medium"
                ],
                [
                  "JioMart",
                  2.1,
                  "Low"
                ],
                [
                  "Zepto",
                  1.7,
                  "Low"
                ],
                [
                  "Zepto",
                  3.4,
                  "Medium"
                ],
                [
                  "Blinkit",
                  2.3,
                  "Low"
                ],
                [
                  "JioMart",
                  2.2,
                  "Low"
                ],
                [
                  "JioMart",
                  2.7,
                  "Low"
                ],
                [
                  "Zepto",
                  4.5,
                  "High"
                ],
                [
                  "Zepto",
                  2,
                  "Low"
                ],
                [
                  "JioMart",
                  1.1,
                  "Low"
                ],
                [
                  "Swiggy Instamart",
                  1.7,
                  "Low"
                ],
                [
                  "Zepto",
                  1.5,
                  "Low"
                ],
                [
                  "JioMart",
                  3.6,
                  "Medium"
                ],
                [
                  "Zepto",
                  1.1,
                  "Low"
                ],
                [
                  "Zepto",
                  4.9,
                  "High"
                ],
                [
                  "JioMart",
                  4.4,
                  "High"
                ],
                [
                  "Blinkit",
                  1,
                  "Low"
                ],
                [
                  "Blinkit",
                  2.3,
                  "Low"
                ],
                [
                  "Blinkit",
                  2.2,
                  "Low"
                ],
                [
                  "JioMart",
                  2.4,
                  "Low"
                ],
                [
                  "Swiggy Instamart",
                  4.1,
                  "High"
                ],
                [
                  "Blinkit",
                  1.2,
                  "Low"
                ],
                [
                  "Blinkit",
                  2.7,
                  "Low"
                ],
                [
                  "JioMart",
                  1.1,
                  "Low"
                ],
                [
                  "JioMart",
                  4.7,
                  "High"
                ],
                [
                  "Swiggy Instamart",
                  2.1,
                  "Low"
                ],
                [
                  "Swiggy Instamart",
                  3.9,
                  "Medium"
                ],
                [
                  "JioMart",
                  3.5,
                  "Medium"
                ],
                [
                  "Blinkit",
                  1,
                  "Low"
                ],
                [
                  "Swiggy Instamart",
                  4.8,
                  "High"
                ],
                [
                  "Blinkit",
                  2.9,
                  "Low"
                ],
                [
                  "Zepto",
                  3.1,
                  "Medium"
                ],
                [
                  "Zepto",
                  3.5,
                  "Medium"
                ],
                [
                  "JioMart",
                  3.2,
                  "Medium"
                ],
                [
                  "JioMart",
                  1.1,
                  "Low"
                ],
                [
                  "Swiggy Instamart",
                  2,
                  "Low"
                ],
                [
                  "Swiggy Instamart",
                  1.8,
                  "Low"
                ],
                [
                  "Blinkit",
                  3.5,
                  "Medium"
                ],
                [
                  "Zepto",
                  1.5,
                  "Low"
                ],
                [
                  "JioMart",
                  4,
                  "Medium"
                ],
                [
                  "JioMart",
                  4.7,
                  "High"
                ],
                [
                  "JioMart",
                  1.8,
                  "Low"
                ],
                [
                  "Zepto",
                  3,
                  "Medium"
                ],
                [
                  "Blinkit",
                  1.1,
                  "Low"
                ],
                [
                  "Blinkit",
                  5,
                  "High"
                ],
                [
                  "Blinkit",
                  3.3,
                  "Medium"
                ],
                [
                  "JioMart",
                  1.9,
                  "Low"
                ],
                [
                  "JioMart",
                  4.1,
                  "High"
                ],
                [
                  "Blinkit",
                  2.5,
                  "Low"
                ],
                [
                  "Zepto",
                  2.7,
                  "Low"
                ],
                [
                  "JioMart",
                  2.8,
                  "Low"
                ],
                [
                  "Swiggy Instamart",
                  2.3,
                  "Low"
                ],
                [
                  "Blinkit",
                  2.9,
                  "Low"
                ],
                [
                  "JioMart",
                  1.6,
                  "Low"
                ],
                [
                  "Zepto",
                  1.9,
                  "Low"
                ],
                [
                  "Swiggy Instamart",
                  4.1,
                  "High"
                ],
                [
                  "Zepto",
                  3.5,
                  "Medium"
                ],
                [
                  "Swiggy Instamart",
                  3.4,
                  "Medium"
                ],
                [
                  "Zepto",
                  4.2,
                  "High"
                ],
                [
                  "Blinkit",
                  2.9,
                  "Low"
                ],
                [
                  "JioMart",
                  4.4,
                  "High"
                ],
                [
                  "Blinkit",
                  3,
                  "Medium"
                ],
                [
                  "Swiggy Instamart",
                  3.3,
                  "Medium"
                ],
                [
                  "Blinkit",
                  4.4,
                  "High"
                ],
                [
                  "JioMart",
                  1.7,
                  "Low"
                ],
                [
                  "Blinkit",
                  4.7,
                  "High"
                ],
                [
                  "Blinkit",
                  2.4,
                  "Low"
                ],
                [
                  "Blinkit",
                  2.7,
                  "Low"
                ],
                [
                  "Zepto",
                  3,
                  "Medium"
                ],
                [
                  "Zepto",
                  4.9,
                  "High"
                ],
                [
                  "Zepto",
                  3.4,
                  "Medium"
                ],
                [
                  "Zepto",
                  2.8,
                  "Low"
                ],
                [
                  "Swiggy Instamart",
                  4.6,
                  "High"
                ],
                [
                  "Swiggy Instamart",
                  1.2,
                  "Low"
                ],
                [
                  "Swiggy Instamart",
                  4.1,
                  "High"
                ],
                [
                  "Swiggy Instamart",
                  1.9,
                  "Low"
                ],
                [
                  "JioMart",
                  1.2,
                  "Low"
                ],
                [
                  "Swiggy Instamart",
                  4.1,
                  "High"
                ],
                [
                  "Swiggy Instamart",
                  5,
                  "High"
                ],
                [
                  "Blinkit",
                  3.7,
                  "Medium"
                ],
                [
                  "Blinkit",
                  1.3,
                  "Low"
                ],
                [
                  "Swiggy Instamart",
                  4.9,
                  "High"
                ],
                [
                  "Swiggy Instamart",
                  3.7,
                  "Medium"
                ],
                [
                  "Swiggy Instamart",
                  3.6,
                  "Medium"
                ],
                [
                  "Swiggy Instamart",
                  1.4,
                  "Low"
                ],
                [
                  "Swiggy Instamart",
                  4.5,
                  "High"
                ],
                [
                  "Blinkit",
                  1,
                  "Low"
                ],
                [
                  "JioMart",
                  3.5,
                  "Medium"
                ],
                [
                  "JioMart",
                  3.7,
                  "Medium"
                ],
                [
                  "Zepto",
                  4.3,
                  "High"
                ],
                [
                  "Blinkit",
                  1.3,
                  "Low"
                ],
                [
                  "Blinkit",
                  4.3,
                  "High"
                ],
                [
                  "Zepto",
                  2.9,
                  "Low"
                ],
                [
                  "JioMart",
                  3.1,
                  "Medium"
                ],
                [
                  "Blinkit",
                  1.9,
                  "Low"
                ],
                [
                  "Swiggy Instamart",
                  3,
                  "Medium"
                ],
                [
                  "Zepto",
                  4.1,
                  "High"
                ],
                [
                  "JioMart",
                  4.3,
                  "High"
                ],
                [
                  "Zepto",
                  2.1,
                  "Low"
                ],
                [
                  "Zepto",
                  1.5,
                  "Low"
                ],
                [
                  "JioMart",
                  3.8,
                  "Medium"
                ],
                [
                  "Blinkit",
                  4,
                  "Medium"
                ],
                [
                  "JioMart",
                  4.9,
                  "High"
                ],
                [
                  "Zepto",
                  4.3,
                  "High"
                ],
                [
                  "JioMart",
                  3.5,
                  "Medium"
                ],
                [
                  "Zepto",
                  3.7,
                  "Medium"
                ],
                [
                  "Swiggy Instamart",
                  2.4,
                  "Low"
                ],
                [
                  "JioMart",
                  2.9,
                  "Low"
                ],
                [
                  "JioMart",
                  1.1,
                  "Low"
                ],
                [
                  "JioMart",
                  4.9,
                  "High"
                ],
                [
                  "Swiggy Instamart",
                  1.2,
                  "Low"
                ],
                [
                  "Zepto",
                  3.3,
                  "Medium"
                ],
                [
                  "JioMart",
                  2.1,
                  "Low"
                ],
                [
                  "Blinkit",
                  1.9,
                  "Low"
                ],
                [
                  "Swiggy Instamart",
                  1.1,
                  "Low"
                ],
                [
                  "Zepto",
                  3.2,
                  "Medium"
                ],
                [
                  "Swiggy Instamart",
                  3.5,
                  "Medium"
                ],
                [
                  "JioMart",
                  3.2,
                  "Medium"
                ],
                [
                  "Blinkit",
                  4,
                  "Medium"
                ],
                [
                  "Zepto",
                  4.4,
                  "High"
                ],
                [
                  "Swiggy Instamart",
                  1.1,
                  "Low"
                ],
                [
                  "Swiggy Instamart",
                  2.5,
                  "Low"
                ],
                [
                  "JioMart",
                  2.8,
                  "Low"
                ],
                [
                  "Blinkit",
                  1.8,
                  "Low"
                ],
                [
                  "Swiggy Instamart",
                  1.8,
                  "Low"
                ],
                [
                  "Swiggy Instamart",
                  3.9,
                  "Medium"
                ],
                [
                  "Swiggy Instamart",
                  3.3,
                  "Medium"
                ],
                [
                  "Swiggy Instamart",
                  3,
                  "Medium"
                ],
                [
                  "Swiggy Instamart",
                  2,
                  "Low"
                ],
                [
                  "Zepto",
                  2.2,
                  "Low"
                ],
                [
                  "Swiggy Instamart",
                  4.3,
                  "High"
                ],
                [
                  "Blinkit",
                  3.4,
                  "Medium"
                ],
                [
                  "Swiggy Instamart",
                  3.2,
                  "Medium"
                ],
                [
                  "Zepto",
                  1.7,
                  "Low"
                ],
                [
                  "Swiggy Instamart",
                  3.2,
                  "Medium"
                ],
                [
                  "Zepto",
                  1.1,
                  "Low"
                ],
                [
                  "Zepto",
                  2.8,
                  "Low"
                ],
                [
                  "Zepto",
                  1.3,
                  "Low"
                ],
                [
                  "Blinkit",
                  3.3,
                  "Medium"
                ],
                [
                  "Zepto",
                  3.1,
                  "Medium"
                ],
                [
                  "Swiggy Instamart",
                  1.3,
                  "Low"
                ],
                [
                  "Swiggy Instamart",
                  2.3,
                  "Low"
                ],
                [
                  "JioMart",
                  2.7,
                  "Low"
                ],
                [
                  "Blinkit",
                  2,
                  "Low"
                ],
                [
                  "Blinkit",
                  1.8,
                  "Low"
                ],
                [
                  "JioMart",
                  3.2,
                  "Medium"
                ],
                [
                  "Blinkit",
                  4.4,
                  "High"
                ],
                [
                  "Swiggy Instamart",
                  3.4,
                  "Medium"
                ],
                [
                  "JioMart",
                  4.8,
                  "High"
                ],
                [
                  "Swiggy Instamart",
                  4,
                  "Medium"
                ],
                [
                  "Blinkit",
                  3.4,
                  "Medium"
                ],
                [
                  "Zepto",
                  1.1,
                  "Low"
                ],
                [
                  "JioMart",
                  2.3,
                  "Low"
                ],
                [
                  "Blinkit",
                  1.6,
                  "Low"
                ],
                [
                  "Swiggy Instamart",
                  4.4,
                  "High"
                ],
                [
                  "JioMart",
                  4.2,
                  "High"
                ],
                [
                  "Swiggy Instamart",
                  3.3,
                  "Medium"
                ],
                [
                  "JioMart",
                  2.9,
                  "Low"
                ],
                [
                  "Swiggy Instamart",
                  4.8,
                  "High"
                ],
                [
                  "Zepto",
                  4.6,
                  "High"
                ],
                [
                  "Zepto",
                  3.9,
                  "Medium"
                ],
                [
                  "Swiggy Instamart",
                  1.4,
                  "Low"
                ],
                [
                  "JioMart",
                  2.1,
                  "Low"
                ],
                [
                  "JioMart",
                  4.5,
                  "High"
                ],
                [
                  "JioMart",
                  4.8,
                  "High"
                ],
                [
                  "Zepto",
                  4.5,
                  "High"
                ],
                [
                  "JioMart",
                  1.1,
                  "Low"
                ],
                [
                  "Zepto",
                  3,
                  "Medium"
                ],
                [
                  "Swiggy Instamart",
                  1.7,
                  "Low"
                ],
                [
                  "Swiggy Instamart",
                  4.1,
                  "High"
                ],
                [
                  "Blinkit",
                  4.9,
                  "High"
                ],
                [
                  "Swiggy Instamart",
                  1.8,
                  "Low"
                ],
                [
                  "JioMart",
                  1.4,
                  "Low"
                ],
                [
                  "Swiggy Instamart",
                  4.7,
                  "High"
                ],
                [
                  "Zepto",
                  1.9,
                  "Low"
                ],
                [
                  "Blinkit",
                  3,
                  "Medium"
                ],
                [
                  "Blinkit",
                  2.5,
                  "Low"
                ],
                [
                  "Blinkit",
                  3.4,
                  "Medium"
                ],
                [
                  "Blinkit",
                  1.3,
                  "Low"
                ],
                [
                  "Blinkit",
                  4.8,
                  "High"
                ],
                [
                  "JioMart",
                  2.7,
                  "Low"
                ],
                [
                  "JioMart",
                  1.4,
                  "Low"
                ],
                [
                  "JioMart",
                  5,
                  "High"
                ],
                [
                  "Blinkit",
                  3.1,
                  "Medium"
                ],
                [
                  "Blinkit",
                  1.7,
                  "Low"
                ],
                [
                  "Blinkit",
                  1.9,
                  "Low"
                ],
                [
                  "Zepto",
                  4.6,
                  "High"
                ],
                [
                  "Zepto",
                  4.4,
                  "High"
                ],
                [
                  "JioMart",
                  2.4,
                  "Low"
                ],
                [
                  "Zepto",
                  1.9,
                  "Low"
                ],
                [
                  "Zepto",
                  2.5,
                  "Low"
                ],
                [
                  "JioMart",
                  3.5,
                  "Medium"
                ],
                [
                  "Swiggy Instamart",
                  1.2,
                  "Low"
                ],
                [
                  "Blinkit",
                  3,
                  "Medium"
                ],
                [
                  "Zepto",
                  3.9,
                  "Medium"
                ],
                [
                  "Zepto",
                  2.3,
                  "Low"
                ],
                [
                  "Zepto",
                  3.2,
                  "Medium"
                ],
                [
                  "Zepto",
                  2.1,
                  "Low"
                ],
                [
                  "JioMart",
                  1.1,
                  "Low"
                ],
                [
                  "Blinkit",
                  1.5,
                  "Low"
                ],
                [
                  "Zepto",
                  3.7,
                  "Medium"
                ],
                [
                  "Swiggy Instamart",
                  4.6,
                  "High"
                ],
                [
                  "JioMart",
                  2.2,
                  "Low"
                ],
                [
                  "Swiggy Instamart",
                  4.4,
                  "High"
                ],
                [
                  "Blinkit",
                  2.1,
                  "Low"
                ],
                [
                  "Blinkit",
                  3.1,
                  "Medium"
                ],
                [
                  "JioMart",
                  2.7,
                  "Low"
                ],
                [
                  "Blinkit",
                  4.4,
                  "High"
                ],
                [
                  "Blinkit",
                  1.8,
                  "Low"
                ],
                [
                  "Blinkit",
                  4.4,
                  "High"
                ],
                [
                  "Blinkit",
                  3.9,
                  "Medium"
                ],
                [
                  "Zepto",
                  3.3,
                  "Medium"
                ],
                [
                  "Zepto",
                  2.3,
                  "Low"
                ],
                [
                  "Zepto",
                  4.3,
                  "High"
                ],
                [
                  "Blinkit",
                  3.4,
                  "Medium"
                ],
                [
                  "JioMart",
                  2.7,
                  "Low"
                ],
                [
                  "Swiggy Instamart",
                  4.5,
                  "High"
                ],
                [
                  "JioMart",
                  4.7,
                  "High"
                ],
                [
                  "Blinkit",
                  4.3,
                  "High"
                ],
                [
                  "Zepto",
                  4.6,
                  "High"
                ],
                [
                  "Blinkit",
                  2.3,
                  "Low"
                ],
                [
                  "Swiggy Instamart",
                  2.1,
                  "Low"
                ],
                [
                  "Swiggy Instamart",
                  2.5,
                  "Low"
                ],
                [
                  "Swiggy Instamart",
                  4.5,
                  "High"
                ],
                [
                  "Swiggy Instamart",
                  2.6,
                  "Low"
                ],
                [
                  "Blinkit",
                  1.8,
                  "Low"
                ],
                [
                  "JioMart",
                  1.8,
                  "Low"
                ],
                [
                  "Swiggy Instamart",
                  3.6,
                  "Medium"
                ],
                [
                  "Blinkit",
                  2.4,
                  "Low"
                ],
                [
                  "JioMart",
                  4.4,
                  "High"
                ],
                [
                  "Blinkit",
                  4.6,
                  "High"
                ],
                [
                  "Zepto",
                  3.4,
                  "Medium"
                ],
                [
                  "Zepto",
                  1.9,
                  "Low"
                ],
                [
                  "Blinkit",
                  3.9,
                  "Medium"
                ],
                [
                  "Blinkit",
                  3.9,
                  "Medium"
                ],
                [
                  "Zepto",
                  4.6,
                  "High"
                ],
                [
                  "Zepto",
                  4.2,
                  "High"
                ],
                [
                  "Swiggy Instamart",
                  3,
                  "Medium"
                ],
                [
                  "Zepto",
                  3.8,
                  "Medium"
                ],
                [
                  "Blinkit",
                  3.4,
                  "Medium"
                ],
                [
                  "JioMart",
                  2.9,
                  "Low"
                ],
                [
                  "Blinkit",
                  3.4,
                  "Medium"
                ],
                [
                  "JioMart",
                  2.9,
                  "Low"
                ],
                [
                  "Zepto",
                  4,
                  "Medium"
                ],
                [
                  "Swiggy Instamart",
                  3.7,
                  "Medium"
                ],
                [
                  "Swiggy Instamart",
                  2.5,
                  "Low"
                ],
                [
                  "Swiggy Instamart",
                  4.4,
                  "High"
                ],
                [
                  "JioMart",
                  4.5,
                  "High"
                ],
                [
                  "JioMart",
                  1.8,
                  "Low"
                ],
                [
                  "JioMart",
                  3.5,
                  "Medium"
                ],
                [
                  "Zepto",
                  4,
                  "Medium"
                ],
                [
                  "Zepto",
                  1.6,
                  "Low"
                ],
                [
                  "Blinkit",
                  4.7,
                  "High"
                ],
                [
                  "Zepto",
                  3.1,
                  "Medium"
                ],
                [
                  "Swiggy Instamart",
                  1.5,
                  "Low"
                ],
                [
                  "Blinkit",
                  3.1,
                  "Medium"
                ],
                [
                  "Blinkit",
                  1.6,
                  "Low"
                ],
                [
                  "Blinkit",
                  2.3,
                  "Low"
                ],
                [
                  "Zepto",
                  2.7,
                  "Low"
                ],
                [
                  "Zepto",
                  4.1,
                  "High"
                ],
                [
                  "Zepto",
                  1.7,
                  "Low"
                ],
                [
                  "JioMart",
                  2.8,
                  "Low"
                ],
                [
                  "Blinkit",
                  4.8,
                  "High"
                ],
                [
                  "JioMart",
                  2.9,
                  "Low"
                ],
                [
                  "Blinkit",
                  4.3,
                  "High"
                ],
                [
                  "JioMart",
                  1.1,
                  "Low"
                ],
                [
                  "Zepto",
                  1.3,
                  "Low"
                ],
                [
                  "Zepto",
                  4.4,
                  "High"
                ],
                [
                  "Blinkit",
                  4.5,
                  "High"
                ],
                [
                  "Swiggy Instamart",
                  2.9,
                  "Low"
                ],
                [
                  "Zepto",
                  3.3,
                  "Medium"
                ],
                [
                  "Zepto",
                  3.2,
                  "Medium"
                ],
                [
                  "JioMart",
                  1.7,
                  "Low"
                ],
                [
                  "Blinkit",
                  4.7,
                  "High"
                ],
                [
                  "Zepto",
                  1.4,
                  "Low"
                ],
                [
                  "Swiggy Instamart",
                  4.5,
                  "High"
                ],
                [
                  "Zepto",
                  3.6,
                  "Medium"
                ],
                [
                  "JioMart",
                  3.7,
                  "Medium"
                ],
                [
                  "Swiggy Instamart",
                  4.8,
                  "High"
                ],
                [
                  "Zepto",
                  2.3,
                  "Low"
                ],
                [
                  "JioMart",
                  2.5,
                  "Low"
                ],
                [
                  "JioMart",
                  4.9,
                  "High"
                ],
                [
                  "Swiggy Instamart",
                  1,
                  "Low"
                ],
                [
                  "Zepto",
                  1.5,
                  "Low"
                ],
                [
                  "JioMart",
                  2.9,
                  "Low"
                ],
                [
                  "Zepto",
                  2.6,
                  "Low"
                ],
                [
                  "Zepto",
                  1.7,
                  "Low"
                ],
                [
                  "Zepto",
                  3.1,
                  "Medium"
                ],
                [
                  "Zepto",
                  2.9,
                  "Low"
                ],
                [
                  "JioMart",
                  1.8,
                  "Low"
                ],
                [
                  "Swiggy Instamart",
                  1.7,
                  "Low"
                ],
                [
                  "Blinkit",
                  2.1,
                  "Low"
                ],
                [
                  "JioMart",
                  2.2,
                  "Low"
                ],
                [
                  "Zepto",
                  3.5,
                  "Medium"
                ],
                [
                  "Zepto",
                  4.1,
                  "High"
                ],
                [
                  "Zepto",
                  4.4,
                  "High"
                ],
                [
                  "JioMart",
                  4.2,
                  "High"
                ],
                [
                  "JioMart",
                  3.5,
                  "Medium"
                ],
                [
                  "Blinkit",
                  4.9,
                  "High"
                ],
                [
                  "Blinkit",
                  2.5,
                  "Low"
                ],
                [
                  "Zepto",
                  5,
                  "High"
                ],
                [
                  "Zepto",
                  3.9,
                  "Medium"
                ],
                [
                  "Blinkit",
                  4.8,
                  "High"
                ],
                [
                  "Zepto",
                  1.4,
                  "Low"
                ],
                [
                  "Zepto",
                  1,
                  "Low"
                ],
                [
                  "Blinkit",
                  4,
                  "Medium"
                ],
                [
                  "Zepto",
                  3.3,
                  "Medium"
                ],
                [
                  "Zepto",
                  2.4,
                  "Low"
                ],
                [
                  "Swiggy Instamart",
                  2.6,
                  "Low"
                ],
                [
                  "JioMart",
                  2.9,
                  "Low"
                ],
                [
                  "Zepto",
                  3.6,
                  "Medium"
                ],
                [
                  "Swiggy Instamart",
                  5,
                  "High"
                ],
                [
                  "Zepto",
                  2,
                  "Low"
                ],
                [
                  "Swiggy Instamart",
                  2,
                  "Low"
                ],
                [
                  "Zepto",
                  4.8,
                  "High"
                ],
                [
                  "Blinkit",
                  2.7,
                  "Low"
                ],
                [
                  "Zepto",
                  1.4,
                  "Low"
                ],
                [
                  "Blinkit",
                  1.5,
                  "Low"
                ],
                [
                  "Swiggy Instamart",
                  1.5,
                  "Low"
                ],
                [
                  "JioMart",
                  2.8,
                  "Low"
                ],
                [
                  "JioMart",
                  4.4,
                  "High"
                ],
                [
                  "Zepto",
                  2.7,
                  "Low"
                ],
                [
                  "Zepto",
                  1.3,
                  "Low"
                ],
                [
                  "Zepto",
                  4.4,
                  "High"
                ],
                [
                  "JioMart",
                  1.2,
                  "Low"
                ],
                [
                  "JioMart",
                  2.2,
                  "Low"
                ],
                [
                  "JioMart",
                  3.2,
                  "Medium"
                ],
                [
                  "JioMart",
                  4.8,
                  "High"
                ],
                [
                  "Zepto",
                  4.2,
                  "High"
                ],
                [
                  "Blinkit",
                  2.3,
                  "Low"
                ],
                [
                  "Zepto",
                  2.9,
                  "Low"
                ],
                [
                  "Swiggy Instamart",
                  4.5,
                  "High"
                ],
                [
                  "JioMart",
                  4,
                  "Medium"
                ],
                [
                  "Zepto",
                  1.6,
                  "Low"
                ],
                [
                  "Swiggy Instamart",
                  3.6,
                  "Medium"
                ],
                [
                  "Zepto",
                  2.9,
                  "Low"
                ],
                [
                  "Swiggy Instamart",
                  4.4,
                  "High"
                ],
                [
                  "Zepto",
                  4.6,
                  "High"
                ],
                [
                  "Swiggy Instamart",
                  2.3,
                  "Low"
                ],
                [
                  "Blinkit",
                  1.3,
                  "Low"
                ],
                [
                  "Swiggy Instamart",
                  2.9,
                  "Low"
                ],
                [
                  "Blinkit",
                  3,
                  "Medium"
                ],
                [
                  "JioMart",
                  2.5,
                  "Low"
                ],
                [
                  "Blinkit",
                  4.1,
                  "High"
                ],
                [
                  "Blinkit",
                  1.7,
                  "Low"
                ],
                [
                  "Zepto",
                  4.9,
                  "High"
                ],
                [
                  "Swiggy Instamart",
                  1,
                  "Low"
                ],
                [
                  "Swiggy Instamart",
                  4.8,
                  "High"
                ],
                [
                  "Swiggy Instamart",
                  3.6,
                  "Medium"
                ],
                [
                  "Zepto",
                  1.4,
                  "Low"
                ],
                [
                  "JioMart",
                  1.4,
                  "Low"
                ],
                [
                  "JioMart",
                  1.7,
                  "Low"
                ],
                [
                  "JioMart",
                  1.3,
                  "Low"
                ],
                [
                  "Blinkit",
                  2.2,
                  "Low"
                ],
                [
                  "Zepto",
                  2.1,
                  "Low"
                ],
                [
                  "JioMart",
                  2.3,
                  "Low"
                ],
                [
                  "Zepto",
                  2.9,
                  "Low"
                ],
                [
                  "Blinkit",
                  4.9,
                  "High"
                ],
                [
                  "Blinkit",
                  4.5,
                  "High"
                ],
                [
                  "Zepto",
                  2.7,
                  "Low"
                ],
                [
                  "JioMart",
                  2.4,
                  "Low"
                ],
                [
                  "Blinkit",
                  4.3,
                  "High"
                ],
                [
                  "Swiggy Instamart",
                  3.4,
                  "Medium"
                ],
                [
                  "JioMart",
                  1.4,
                  "Low"
                ],
                [
                  "Blinkit",
                  1.4,
                  "Low"
                ],
                [
                  "Swiggy Instamart",
                  3.2,
                  "Medium"
                ],
                [
                  "Swiggy Instamart",
                  4.6,
                  "High"
                ],
                [
                  "Zepto",
                  4,
                  "Medium"
                ],
                [
                  "Zepto",
                  2.9,
                  "Low"
                ],
                [
                  "Blinkit",
                  4.9,
                  "High"
                ],
                [
                  "Blinkit",
                  4.9,
                  "High"
                ],
                [
                  "Swiggy Instamart",
                  3,
                  "Medium"
                ],
                [
                  "Blinkit",
                  1.4,
                  "Low"
                ],
                [
                  "Swiggy Instamart",
                  1.1,
                  "Low"
                ],
                [
                  "Blinkit",
                  3.3,
                  "Medium"
                ],
                [
                  "Blinkit",
                  2.6,
                  "Low"
                ],
                [
                  "Swiggy Instamart",
                  3.6,
                  "Medium"
                ],
                [
                  "JioMart",
                  2.4,
                  "Low"
                ],
                [
                  "Zepto",
                  1,
                  "Low"
                ],
                [
                  "Zepto",
                  1.3,
                  "Low"
                ],
                [
                  "Zepto",
                  2.3,
                  "Low"
                ],
                [
                  "Swiggy Instamart",
                  4.6,
                  "High"
                ],
                [
                  "Swiggy Instamart",
                  3.6,
                  "Medium"
                ],
                [
                  "Zepto",
                  3.6,
                  "Medium"
                ],
                [
                  "JioMart",
                  2.4,
                  "Low"
                ],
                [
                  "JioMart",
                  3.4,
                  "Medium"
                ],
                [
                  "Swiggy Instamart",
                  2.4,
                  "Low"
                ],
                [
                  "Blinkit",
                  1.1,
                  "Low"
                ],
                [
                  "Swiggy Instamart",
                  4.5,
                  "High"
                ],
                [
                  "Swiggy Instamart",
                  1.4,
                  "Low"
                ],
                [
                  "Blinkit",
                  4.7,
                  "High"
                ],
                [
                  "Blinkit",
                  1.5,
                  "Low"
                ],
                [
                  "Zepto",
                  4.8,
                  "High"
                ],
                [
                  "Swiggy Instamart",
                  4.9,
                  "High"
                ],
                [
                  "Blinkit",
                  4.3,
                  "High"
                ],
                [
                  "Zepto",
                  2.2,
                  "Low"
                ],
                [
                  "Swiggy Instamart",
                  1.4,
                  "Low"
                ],
                [
                  "Swiggy Instamart",
                  3.2,
                  "Medium"
                ],
                [
                  "JioMart",
                  2.4,
                  "Low"
                ],
                [
                  "Blinkit",
                  3.4,
                  "Medium"
                ],
                [
                  "Blinkit",
                  5,
                  "High"
                ],
                [
                  "Zepto",
                  1.9,
                  "Low"
                ],
                [
                  "Blinkit",
                  1.8,
                  "Low"
                ],
                [
                  "Swiggy Instamart",
                  1.7,
                  "Low"
                ],
                [
                  "Swiggy Instamart",
                  3.4,
                  "Medium"
                ],
                [
                  "JioMart",
                  2.9,
                  "Low"
                ],
                [
                  "JioMart",
                  2.7,
                  "Low"
                ],
                [
                  "Blinkit",
                  4.5,
                  "High"
                ],
                [
                  "Zepto",
                  4.8,
                  "High"
                ],
                [
                  "JioMart",
                  1.7,
                  "Low"
                ],
                [
                  "Blinkit",
                  2.9,
                  "Low"
                ],
                [
                  "Blinkit",
                  3.5,
                  "Medium"
                ],
                [
                  "Blinkit",
                  3.4,
                  "Medium"
                ],
                [
                  "JioMart",
                  1.8,
                  "Low"
                ],
                [
                  "JioMart",
                  2.5,
                  "Low"
                ],
                [
                  "Zepto",
                  1.2,
                  "Low"
                ],
                [
                  "JioMart",
                  2.2,
                  "Low"
                ],
                [
                  "Blinkit",
                  2.8,
                  "Low"
                ],
                [
                  "Swiggy Instamart",
                  2.3,
                  "Low"
                ],
                [
                  "JioMart",
                  2,
                  "Low"
                ],
                [
                  "JioMart",
                  3.3,
                  "Medium"
                ],
                [
                  "JioMart",
                  1.3,
                  "Low"
                ],
                [
                  "JioMart",
                  3.5,
                  "Medium"
                ],
                [
                  "JioMart",
                  3.1,
                  "Medium"
                ],
                [
                  "Zepto",
                  4.9,
                  "High"
                ],
                [
                  "Blinkit",
                  1.9,
                  "Low"
                ],
                [
                  "JioMart",
                  4.3,
                  "High"
                ],
                [
                  "Blinkit",
                  2.1,
                  "Low"
                ],
                [
                  "JioMart",
                  3.5,
                  "Medium"
                ],
                [
                  "JioMart",
                  2.5,
                  "Low"
                ],
                [
                  "Blinkit",
                  2.9,
                  "Low"
                ],
                [
                  "Blinkit",
                  1.6,
                  "Low"
                ],
                [
                  "Swiggy Instamart",
                  1.5,
                  "Low"
                ],
                [
                  "JioMart",
                  1.7,
                  "Low"
                ],
                [
                  "JioMart",
                  2.1,
                  "Low"
                ],
                [
                  "JioMart",
                  2.4,
                  "Low"
                ],
                [
                  "Blinkit",
                  1.7,
                  "Low"
                ],
                [
                  "Zepto",
                  4.2,
                  "High"
                ],
                [
                  "Zepto",
                  4,
                  "Medium"
                ],
                [
                  "JioMart",
                  3.7,
                  "Medium"
                ],
                [
                  "Blinkit",
                  4.2,
                  "High"
                ],
                [
                  "Swiggy Instamart",
                  4,
                  "Medium"
                ],
                [
                  "JioMart",
                  4.2,
                  "High"
                ],
                [
                  "Blinkit",
                  4,
                  "Medium"
                ],
                [
                  "Swiggy Instamart",
                  4,
                  "Medium"
                ],
                [
                  "Blinkit",
                  2.4,
                  "Low"
                ],
                [
                  "JioMart",
                  1.9,
                  "Low"
                ],
                [
                  "JioMart",
                  3.2,
                  "Medium"
                ],
                [
                  "Blinkit",
                  1.8,
                  "Low"
                ],
                [
                  "Zepto",
                  2.5,
                  "Low"
                ],
                [
                  "Swiggy Instamart",
                  2.3,
                  "Low"
                ],
                [
                  "Swiggy Instamart",
                  2.4,
                  "Low"
                ],
                [
                  "Blinkit",
                  1.5,
                  "Low"
                ],
                [
                  "JioMart",
                  5,
                  "High"
                ],
                [
                  "Zepto",
                  2.9,
                  "Low"
                ],
                [
                  "Blinkit",
                  4.4,
                  "High"
                ],
                [
                  "JioMart",
                  3.4,
                  "Medium"
                ],
                [
                  "Zepto",
                  1.1,
                  "Low"
                ],
                [
                  "Blinkit",
                  1.3,
                  "Low"
                ],
                [
                  "Blinkit",
                  4.3,
                  "High"
                ],
                [
                  "Blinkit",
                  1.1,
                  "Low"
                ],
                [
                  "Blinkit",
                  4.2,
                  "High"
                ],
                [
                  "Blinkit",
                  4.4,
                  "High"
                ],
                [
                  "Zepto",
                  4.3,
                  "High"
                ],
                [
                  "Blinkit",
                  1.4,
                  "Low"
                ],
                [
                  "Blinkit",
                  3.2,
                  "Medium"
                ],
                [
                  "Blinkit",
                  4,
                  "Medium"
                ],
                [
                  "Swiggy Instamart",
                  4.1,
                  "High"
                ],
                [
                  "Zepto",
                  4.8,
                  "High"
                ],
                [
                  "Blinkit",
                  4.8,
                  "High"
                ],
                [
                  "Zepto",
                  3.1,
                  "Medium"
                ],
                [
                  "JioMart",
                  1.8,
                  "Low"
                ],
                [
                  "Blinkit",
                  1.2,
                  "Low"
                ],
                [
                  "JioMart",
                  2.4,
                  "Low"
                ],
                [
                  "Blinkit",
                  2.3,
                  "Low"
                ],
                [
                  "JioMart",
                  3,
                  "Medium"
                ],
                [
                  "Swiggy Instamart",
                  4.7,
                  "High"
                ],
                [
                  "Zepto",
                  5,
                  "High"
                ],
                [
                  "Swiggy Instamart",
                  3.4,
                  "Medium"
                ],
                [
                  "JioMart",
                  4.1,
                  "High"
                ],
                [
                  "Swiggy Instamart",
                  3.9,
                  "Medium"
                ],
                [
                  "Blinkit",
                  3.9,
                  "Medium"
                ],
                [
                  "Swiggy Instamart",
                  3.1,
                  "Medium"
                ],
                [
                  "JioMart",
                  4.8,
                  "High"
                ],
                [
                  "Blinkit",
                  2.1,
                  "Low"
                ],
                [
                  "Zepto",
                  3.5,
                  "Medium"
                ],
                [
                  "Blinkit",
                  3.4,
                  "Medium"
                ],
                [
                  "Zepto",
                  1.7,
                  "Low"
                ],
                [
                  "Blinkit",
                  3.7,
                  "Medium"
                ],
                [
                  "Zepto",
                  2.4,
                  "Low"
                ],
                [
                  "Swiggy Instamart",
                  2.8,
                  "Low"
                ],
                [
                  "Swiggy Instamart",
                  3.5,
                  "Medium"
                ],
                [
                  "Blinkit",
                  1.5,
                  "Low"
                ],
                [
                  "Zepto",
                  1.9,
                  "Low"
                ],
                [
                  "JioMart",
                  1.3,
                  "Low"
                ],
                [
                  "JioMart",
                  4.1,
                  "High"
                ],
                [
                  "Zepto",
                  2.2,
                  "Low"
                ],
                [
                  "Zepto",
                  1.9,
                  "Low"
                ],
                [
                  "Zepto",
                  4.3,
                  "High"
                ],
                [
                  "JioMart",
                  3.6,
                  "Medium"
                ],
                [
                  "Blinkit",
                  4.1,
                  "High"
                ],
                [
                  "Zepto",
                  3.5,
                  "Medium"
                ],
                [
                  "JioMart",
                  1.8,
                  "Low"
                ],
                [
                  "Swiggy Instamart",
                  2.7,
                  "Low"
                ],
                [
                  "JioMart",
                  2,
                  "Low"
                ],
                [
                  "Zepto",
                  2.8,
                  "Low"
                ],
                [
                  "Zepto",
                  1.8,
                  "Low"
                ],
                [
                  "Swiggy Instamart",
                  3.3,
                  "Medium"
                ],
                [
                  "Zepto",
                  2,
                  "Low"
                ],
                [
                  "JioMart",
                  4,
                  "Medium"
                ],
                [
                  "Swiggy Instamart",
                  2.4,
                  "Low"
                ],
                [
                  "Blinkit",
                  4.9,
                  "High"
                ],
                [
                  "Blinkit",
                  4.4,
                  "High"
                ],
                [
                  "Blinkit",
                  1.7,
                  "Low"
                ],
                [
                  "Swiggy Instamart",
                  3.1,
                  "Medium"
                ],
                [
                  "Zepto",
                  3.6,
                  "Medium"
                ],
                [
                  "Swiggy Instamart",
                  2.7,
                  "Low"
                ],
                [
                  "JioMart",
                  2,
                  "Low"
                ],
                [
                  "Zepto",
                  1.1,
                  "Low"
                ],
                [
                  "JioMart",
                  1.2,
                  "Low"
                ],
                [
                  "Swiggy Instamart",
                  2.8,
                  "Low"
                ],
                [
                  "Swiggy Instamart",
                  4.3,
                  "High"
                ],
                [
                  "Zepto",
                  4.1,
                  "High"
                ],
                [
                  "Blinkit",
                  1.1,
                  "Low"
                ],
                [
                  "Swiggy Instamart",
                  4,
                  "Medium"
                ],
                [
                  "JioMart",
                  4.1,
                  "High"
                ],
                [
                  "Zepto",
                  3.9,
                  "Medium"
                ],
                [
                  "Blinkit",
                  4.6,
                  "High"
                ],
                [
                  "Zepto",
                  2.1,
                  "Low"
                ],
                [
                  "Swiggy Instamart",
                  3.1,
                  "Medium"
                ],
                [
                  "JioMart",
                  3.2,
                  "Medium"
                ],
                [
                  "Blinkit",
                  2.4,
                  "Low"
                ],
                [
                  "Zepto",
                  2.7,
                  "Low"
                ],
                [
                  "Blinkit",
                  1.1,
                  "Low"
                ],
                [
                  "Swiggy Instamart",
                  3.5,
                  "Medium"
                ],
                [
                  "Swiggy Instamart",
                  3.5,
                  "Medium"
                ],
                [
                  "JioMart",
                  3.6,
                  "Medium"
                ],
                [
                  "Zepto",
                  2.5,
                  "Low"
                ],
                [
                  "Zepto",
                  4.1,
                  "High"
                ],
                [
                  "Zepto",
                  2.7,
                  "Low"
                ],
                [
                  "Swiggy Instamart",
                  4.3,
                  "High"
                ],
                [
                  "Zepto",
                  2.2,
                  "Low"
                ],
                [
                  "JioMart",
                  2.8,
                  "Low"
                ],
                [
                  "Blinkit",
                  4.9,
                  "High"
                ],
                [
                  "Swiggy Instamart",
                  3.2,
                  "Medium"
                ],
                [
                  "Swiggy Instamart",
                  2.7,
                  "Low"
                ],
                [
                  "Zepto",
                  3.1,
                  "Medium"
                ],
                [
                  "JioMart",
                  3.6,
                  "Medium"
                ],
                [
                  "Blinkit",
                  3.4,
                  "Medium"
                ],
                [
                  "JioMart",
                  2.8,
                  "Low"
                ],
                [
                  "JioMart",
                  2.3,
                  "Low"
                ],
                [
                  "Blinkit",
                  1,
                  "Low"
                ],
                [
                  "Zepto",
                  4.8,
                  "High"
                ],
                [
                  "Swiggy Instamart",
                  1.4,
                  "Low"
                ],
                [
                  "Blinkit",
                  2.1,
                  "Low"
                ],
                [
                  "Swiggy Instamart",
                  4.9,
                  "High"
                ],
                [
                  "Zepto",
                  4.1,
                  "High"
                ],
                [
                  "Swiggy Instamart",
                  1.4,
                  "Low"
                ],
                [
                  "Swiggy Instamart",
                  3.3,
                  "Medium"
                ],
                [
                  "Zepto",
                  1.2,
                  "Low"
                ],
                [
                  "Zepto",
                  4.4,
                  "High"
                ],
                [
                  "Blinkit",
                  1.2,
                  "Low"
                ],
                [
                  "Zepto",
                  1.7,
                  "Low"
                ],
                [
                  "JioMart",
                  2,
                  "Low"
                ],
                [
                  "JioMart",
                  1.7,
                  "Low"
                ],
                [
                  "Swiggy Instamart",
                  3,
                  "Medium"
                ],
                [
                  "JioMart",
                  3.6,
                  "Medium"
                ],
                [
                  "Swiggy Instamart",
                  1.2,
                  "Low"
                ],
                [
                  "Blinkit",
                  2.3,
                  "Low"
                ],
                [
                  "Swiggy Instamart",
                  2.6,
                  "Low"
                ],
                [
                  "Zepto",
                  3.1,
                  "Medium"
                ],
                [
                  "Blinkit",
                  4.1,
                  "High"
                ],
                [
                  "Blinkit",
                  3.5,
                  "Medium"
                ],
                [
                  "Swiggy Instamart",
                  2.1,
                  "Low"
                ],
                [
                  "Zepto",
                  4.7,
                  "High"
                ],
                [
                  "Zepto",
                  3.4,
                  "Medium"
                ],
                [
                  "Zepto",
                  1.5,
                  "Low"
                ],
                [
                  "Swiggy Instamart",
                  1.3,
                  "Low"
                ],
                [
                  "Zepto",
                  4,
                  "Medium"
                ],
                [
                  "Swiggy Instamart",
                  4.8,
                  "High"
                ],
                [
                  "Zepto",
                  1.4,
                  "Low"
                ],
                [
                  "JioMart",
                  1.4,
                  "Low"
                ],
                [
                  "Zepto",
                  3.8,
                  "Medium"
                ],
                [
                  "Zepto",
                  2.4,
                  "Low"
                ],
                [
                  "Blinkit",
                  5,
                  "High"
                ],
                [
                  "Swiggy Instamart",
                  1.2,
                  "Low"
                ],
                [
                  "JioMart",
                  2.7,
                  "Low"
                ],
                [
                  "Zepto",
                  2.8,
                  "Low"
                ],
                [
                  "Blinkit",
                  4.9,
                  "High"
                ],
                [
                  "Blinkit",
                  4.9,
                  "High"
                ],
                [
                  "Swiggy Instamart",
                  4.5,
                  "High"
                ],
                [
                  "JioMart",
                  2,
                  "Low"
                ],
                [
                  "JioMart",
                  4,
                  "Medium"
                ],
                [
                  "Zepto",
                  4.7,
                  "High"
                ],
                [
                  "Zepto",
                  3.7,
                  "Medium"
                ],
                [
                  "Zepto",
                  2,
                  "Low"
                ],
                [
                  "Blinkit",
                  2,
                  "Low"
                ],
                [
                  "Blinkit",
                  4.9,
                  "High"
                ],
                [
                  "Blinkit",
                  4.9,
                  "High"
                ],
                [
                  "Blinkit",
                  4.2,
                  "High"
                ],
                [
                  "JioMart",
                  3.9,
                  "Medium"
                ],
                [
                  "Blinkit",
                  4.6,
                  "High"
                ],
                [
                  "Swiggy Instamart",
                  2.5,
                  "Low"
                ],
                [
                  "Zepto",
                  3.3,
                  "Medium"
                ],
                [
                  "Blinkit",
                  3,
                  "Medium"
                ],
                [
                  "Blinkit",
                  3.6,
                  "Medium"
                ],
                [
                  "JioMart",
                  1.4,
                  "Low"
                ],
                [
                  "JioMart",
                  1.1,
                  "Low"
                ],
                [
                  "Swiggy Instamart",
                  2,
                  "Low"
                ],
                [
                  "JioMart",
                  4.9,
                  "High"
                ],
                [
                  "Zepto",
                  3.8,
                  "Medium"
                ],
                [
                  "Swiggy Instamart",
                  4.9,
                  "High"
                ],
                [
                  "Zepto",
                  4.4,
                  "High"
                ],
                [
                  "JioMart",
                  3.7,
                  "Medium"
                ],
                [
                  "Swiggy Instamart",
                  2.5,
                  "Low"
                ],
                [
                  "Zepto",
                  1.3,
                  "Low"
                ],
                [
                  "Blinkit",
                  4.9,
                  "High"
                ],
                [
                  "JioMart",
                  2.7,
                  "Low"
                ],
                [
                  "Zepto",
                  2.5,
                  "Low"
                ],
                [
                  "Zepto",
                  1.9,
                  "Low"
                ],
                [
                  "Swiggy Instamart",
                  1,
                  "Low"
                ],
                [
                  "Swiggy Instamart",
                  1.2,
                  "Low"
                ],
                [
                  "JioMart",
                  4.3,
                  "High"
                ],
                [
                  "Blinkit",
                  2,
                  "Low"
                ],
                [
                  "Blinkit",
                  3.7,
                  "Medium"
                ],
                [
                  "JioMart",
                  3.4,
                  "Medium"
                ],
                [
                  "Blinkit",
                  1.4,
                  "Low"
                ],
                [
                  "Blinkit",
                  1.6,
                  "Low"
                ],
                [
                  "Swiggy Instamart",
                  2.1,
                  "Low"
                ],
                [
                  "JioMart",
                  1.5,
                  "Low"
                ],
                [
                  "Swiggy Instamart",
                  1.7,
                  "Low"
                ],
                [
                  "Swiggy Instamart",
                  1.3,
                  "Low"
                ],
                [
                  "Swiggy Instamart",
                  1.9,
                  "Low"
                ],
                [
                  "JioMart",
                  2.5,
                  "Low"
                ],
                [
                  "Blinkit",
                  3.2,
                  "Medium"
                ],
                [
                  "JioMart",
                  3.6,
                  "Medium"
                ],
                [
                  "JioMart",
                  2.2,
                  "Low"
                ],
                [
                  "Zepto",
                  4.6,
                  "High"
                ],
                [
                  "Zepto",
                  3.5,
                  "Medium"
                ],
                [
                  "Swiggy Instamart",
                  3.5,
                  "Medium"
                ],
                [
                  "JioMart",
                  2.5,
                  "Low"
                ],
                [
                  "Swiggy Instamart",
                  3.4,
                  "Medium"
                ],
                [
                  "Swiggy Instamart",
                  2.1,
                  "Low"
                ],
                [
                  "Zepto",
                  1.9,
                  "Low"
                ],
                [
                  "Swiggy Instamart",
                  4.3,
                  "High"
                ],
                [
                  "Zepto",
                  2.8,
                  "Low"
                ],
                [
                  "Blinkit",
                  1.6,
                  "Low"
                ],
                [
                  "Zepto",
                  2,
                  "Low"
                ],
                [
                  "Swiggy Instamart",
                  3.9,
                  "Medium"
                ],
                [
                  "Swiggy Instamart",
                  2.3,
                  "Low"
                ],
                [
                  "Zepto",
                  3.8,
                  "Medium"
                ],
                [
                  "Zepto",
                  1.4,
                  "Low"
                ],
                [
                  "JioMart",
                  2.1,
                  "Low"
                ],
                [
                  "JioMart",
                  4.5,
                  "High"
                ],
                [
                  "Swiggy Instamart",
                  1.5,
                  "Low"
                ],
                [
                  "Blinkit",
                  2.7,
                  "Low"
                ],
                [
                  "Swiggy Instamart",
                  3.3,
                  "Medium"
                ],
                [
                  "Zepto",
                  1.6,
                  "Low"
                ],
                [
                  "JioMart",
                  4.2,
                  "High"
                ],
                [
                  "Blinkit",
                  4.7,
                  "High"
                ],
                [
                  "Zepto",
                  4.7,
                  "High"
                ],
                [
                  "Zepto",
                  2,
                  "Low"
                ],
                [
                  "Swiggy Instamart",
                  4.1,
                  "High"
                ],
                [
                  "Swiggy Instamart",
                  3.5,
                  "Medium"
                ],
                [
                  "Swiggy Instamart",
                  3.7,
                  "Medium"
                ],
                [
                  "Zepto",
                  2.7,
                  "Low"
                ],
                [
                  "Swiggy Instamart",
                  4.7,
                  "High"
                ],
                [
                  "Swiggy Instamart",
                  2.5,
                  "Low"
                ],
                [
                  "Zepto",
                  2.3,
                  "Low"
                ],
                [
                  "JioMart",
                  4.3,
                  "High"
                ],
                [
                  "Blinkit",
                  3,
                  "Medium"
                ],
                [
                  "JioMart",
                  1.9,
                  "Low"
                ],
                [
                  "Blinkit",
                  1,
                  "Low"
                ],
                [
                  "JioMart",
                  4.3,
                  "High"
                ],
                [
                  "Blinkit",
                  4.8,
                  "High"
                ],
                [
                  "Blinkit",
                  1.2,
                  "Low"
                ],
                [
                  "Swiggy Instamart",
                  4,
                  "Medium"
                ],
                [
                  "JioMart",
                  3.2,
                  "Medium"
                ],
                [
                  "Blinkit",
                  1.4,
                  "Low"
                ],
                [
                  "Zepto",
                  4.4,
                  "High"
                ],
                [
                  "Swiggy Instamart",
                  3.8,
                  "Medium"
                ],
                [
                  "Blinkit",
                  4.9,
                  "High"
                ],
                [
                  "Zepto",
                  1.9,
                  "Low"
                ],
                [
                  "JioMart",
                  4,
                  "Medium"
                ],
                [
                  "Zepto",
                  4.5,
                  "High"
                ],
                [
                  "Swiggy Instamart",
                  1.3,
                  "Low"
                ],
                [
                  "Blinkit",
                  3.7,
                  "Medium"
                ],
                [
                  "Zepto",
                  1.5,
                  "Low"
                ],
                [
                  "Blinkit",
                  1.1,
                  "Low"
                ],
                [
                  "JioMart",
                  2,
                  "Low"
                ],
                [
                  "Zepto",
                  3.2,
                  "Medium"
                ],
                [
                  "Swiggy Instamart",
                  1.6,
                  "Low"
                ],
                [
                  "Blinkit",
                  2.5,
                  "Low"
                ],
                [
                  "Swiggy Instamart",
                  1.1,
                  "Low"
                ],
                [
                  "Blinkit",
                  4.2,
                  "High"
                ],
                [
                  "Zepto",
                  3.7,
                  "Medium"
                ],
                [
                  "JioMart",
                  1.3,
                  "Low"
                ],
                [
                  "Blinkit",
                  4,
                  "Medium"
                ],
                [
                  "Blinkit",
                  4,
                  "Medium"
                ],
                [
                  "Zepto",
                  1.8,
                  "Low"
                ],
                [
                  "Swiggy Instamart",
                  2.1,
                  "Low"
                ],
                [
                  "Swiggy Instamart",
                  2.6,
                  "Low"
                ],
                [
                  "Zepto",
                  4.3,
                  "High"
                ],
                [
                  "JioMart",
                  4.5,
                  "High"
                ],
                [
                  "Swiggy Instamart",
                  4.7,
                  "High"
                ],
                [
                  "JioMart",
                  5,
                  "High"
                ],
                [
                  "Blinkit",
                  3.6,
                  "Medium"
                ],
                [
                  "Blinkit",
                  4.1,
                  "High"
                ],
                [
                  "Swiggy Instamart",
                  1.6,
                  "Low"
                ],
                [
                  "Blinkit",
                  4.8,
                  "High"
                ],
                [
                  "JioMart",
                  1.2,
                  "Low"
                ],
                [
                  "Swiggy Instamart",
                  2,
                  "Low"
                ],
                [
                  "Swiggy Instamart",
                  3.1,
                  "Medium"
                ],
                [
                  "Blinkit",
                  4.9,
                  "High"
                ],
                [
                  "Zepto",
                  1,
                  "Low"
                ],
                [
                  "Blinkit",
                  4,
                  "Medium"
                ],
                [
                  "Swiggy Instamart",
                  4.1,
                  "High"
                ],
                [
                  "JioMart",
                  1.8,
                  "Low"
                ],
                [
                  "JioMart",
                  1.1,
                  "Low"
                ],
                [
                  "Blinkit",
                  2.5,
                  "Low"
                ],
                [
                  "Zepto",
                  2.7,
                  "Low"
                ],
                [
                  "Swiggy Instamart",
                  2.2,
                  "Low"
                ],
                [
                  "Blinkit",
                  2.9,
                  "Low"
                ],
                [
                  "Swiggy Instamart",
                  4.7,
                  "High"
                ],
                [
                  "Swiggy Instamart",
                  2.8,
                  "Low"
                ],
                [
                  "Swiggy Instamart",
                  1,
                  "Low"
                ],
                [
                  "Zepto",
                  3.2,
                  "Medium"
                ],
                [
                  "Zepto",
                  1.3,
                  "Low"
                ],
                [
                  "Zepto",
                  2.3,
                  "Low"
                ],
                [
                  "JioMart",
                  4.8,
                  "High"
                ],
                [
                  "Blinkit",
                  4.9,
                  "High"
                ],
                [
                  "JioMart",
                  1,
                  "Low"
                ],
                [
                  "JioMart",
                  3.1,
                  "Medium"
                ],
                [
                  "Swiggy Instamart",
                  4.1,
                  "High"
                ],
                [
                  "Blinkit",
                  1.9,
                  "Low"
                ],
                [
                  "JioMart",
                  2.2,
                  "Low"
                ],
                [
                  "Zepto",
                  3.1,
                  "Medium"
                ],
                [
                  "Zepto",
                  4,
                  "Medium"
                ],
                [
                  "Zepto",
                  1.4,
                  "Low"
                ],
                [
                  "Zepto",
                  1.7,
                  "Low"
                ],
                [
                  "Blinkit",
                  2.5,
                  "Low"
                ],
                [
                  "Blinkit",
                  1.1,
                  "Low"
                ],
                [
                  "JioMart",
                  1.2,
                  "Low"
                ],
                [
                  "Swiggy Instamart",
                  4.9,
                  "High"
                ],
                [
                  "JioMart",
                  3.4,
                  "Medium"
                ],
                [
                  "Blinkit",
                  1.9,
                  "Low"
                ],
                [
                  "Swiggy Instamart",
                  2.9,
                  "Low"
                ],
                [
                  "JioMart",
                  4.4,
                  "High"
                ],
                [
                  "Zepto",
                  1.7,
                  "Low"
                ],
                [
                  "Zepto",
                  1.9,
                  "Low"
                ],
                [
                  "Zepto",
                  1.1,
                  "Low"
                ],
                [
                  "JioMart",
                  2.7,
                  "Low"
                ],
                [
                  "Swiggy Instamart",
                  3.3,
                  "Medium"
                ],
                [
                  "JioMart",
                  4.7,
                  "High"
                ],
                [
                  "JioMart",
                  3.6,
                  "Medium"
                ],
                [
                  "Zepto",
                  1.6,
                  "Low"
                ],
                [
                  "Zepto",
                  4.7,
                  "High"
                ],
                [
                  "Swiggy Instamart",
                  2.7,
                  "Low"
                ],
                [
                  "Swiggy Instamart",
                  1.1,
                  "Low"
                ],
                [
                  "Swiggy Instamart",
                  4.3,
                  "High"
                ],
                [
                  "Blinkit",
                  4.4,
                  "High"
                ],
                [
                  "Swiggy Instamart",
                  3.9,
                  "Medium"
                ],
                [
                  "Blinkit",
                  3.8,
                  "Medium"
                ],
                [
                  "Zepto",
                  3.9,
                  "Medium"
                ],
                [
                  "JioMart",
                  4.4,
                  "High"
                ],
                [
                  "Swiggy Instamart",
                  2.7,
                  "Low"
                ],
                [
                  "Swiggy Instamart",
                  1.1,
                  "Low"
                ],
                [
                  "Swiggy Instamart",
                  2.5,
                  "Low"
                ],
                [
                  "JioMart",
                  1.9,
                  "Low"
                ],
                [
                  "Blinkit",
                  1.1,
                  "Low"
                ],
                [
                  "Swiggy Instamart",
                  2.4,
                  "Low"
                ],
                [
                  "Zepto",
                  2.2,
                  "Low"
                ],
                [
                  "JioMart",
                  2.2,
                  "Low"
                ],
                [
                  "Swiggy Instamart",
                  1.9,
                  "Low"
                ],
                [
                  "JioMart",
                  3.9,
                  "Medium"
                ],
                [
                  "Blinkit",
                  2.9,
                  "Low"
                ],
                [
                  "JioMart",
                  1.6,
                  "Low"
                ],
                [
                  "JioMart",
                  4.2,
                  "High"
                ],
                [
                  "Swiggy Instamart",
                  2.6,
                  "Low"
                ],
                [
                  "Swiggy Instamart",
                  1.4,
                  "Low"
                ],
                [
                  "Swiggy Instamart",
                  2.7,
                  "Low"
                ],
                [
                  "Swiggy Instamart",
                  3.3,
                  "Medium"
                ],
                [
                  "JioMart",
                  3.2,
                  "Medium"
                ],
                [
                  "JioMart",
                  3.6,
                  "Medium"
                ],
                [
                  "Swiggy Instamart",
                  1.8,
                  "Low"
                ],
                [
                  "Blinkit",
                  2.6,
                  "Low"
                ],
                [
                  "Zepto",
                  4,
                  "Medium"
                ],
                [
                  "Blinkit",
                  4.7,
                  "High"
                ],
                [
                  "Blinkit",
                  3.9,
                  "Medium"
                ],
                [
                  "Blinkit",
                  1.9,
                  "Low"
                ],
                [
                  "Zepto",
                  4.9,
                  "High"
                ],
                [
                  "Blinkit",
                  4.9,
                  "High"
                ],
                [
                  "Swiggy Instamart",
                  1.7,
                  "Low"
                ],
                [
                  "Swiggy Instamart",
                  2.1,
                  "Low"
                ],
                [
                  "JioMart",
                  2.2,
                  "Low"
                ],
                [
                  "Blinkit",
                  4.4,
                  "High"
                ],
                [
                  "JioMart",
                  4.1,
                  "High"
                ],
                [
                  "Blinkit",
                  3.7,
                  "Medium"
                ],
                [
                  "JioMart",
                  4.4,
                  "High"
                ],
                [
                  "Zepto",
                  1.7,
                  "Low"
                ],
                [
                  "JioMart",
                  4.9,
                  "High"
                ],
                [
                  "Blinkit",
                  2.3,
                  "Low"
                ],
                [
                  "Swiggy Instamart",
                  3.2,
                  "Medium"
                ],
                [
                  "JioMart",
                  2.3,
                  "Low"
                ],
                [
                  "Blinkit",
                  1.1,
                  "Low"
                ],
                [
                  "JioMart",
                  4.4,
                  "High"
                ],
                [
                  "Blinkit",
                  2.3,
                  "Low"
                ],
                [
                  "Swiggy Instamart",
                  3.9,
                  "Medium"
                ],
                [
                  "Zepto",
                  1.7,
                  "Low"
                ],
                [
                  "Zepto",
                  2.9,
                  "Low"
                ],
                [
                  "Swiggy Instamart",
                  1,
                  "Low"
                ],
                [
                  "Swiggy Instamart",
                  2,
                  "Low"
                ],
                [
                  "Blinkit",
                  3.6,
                  "Medium"
                ],
                [
                  "Zepto",
                  1.5,
                  "Low"
                ],
                [
                  "Blinkit",
                  3.4,
                  "Medium"
                ],
                [
                  "Swiggy Instamart",
                  2.6,
                  "Low"
                ],
                [
                  "JioMart",
                  1.4,
                  "Low"
                ],
                [
                  "Blinkit",
                  4,
                  "Medium"
                ],
                [
                  "Swiggy Instamart",
                  1.9,
                  "Low"
                ],
                [
                  "Swiggy Instamart",
                  2.3,
                  "Low"
                ],
                [
                  "Zepto",
                  3.2,
                  "Medium"
                ],
                [
                  "JioMart",
                  1.8,
                  "Low"
                ],
                [
                  "Zepto",
                  1.1,
                  "Low"
                ],
                [
                  "Blinkit",
                  4,
                  "Medium"
                ],
                [
                  "Swiggy Instamart",
                  1.7,
                  "Low"
                ],
                [
                  "Zepto",
                  4.6,
                  "High"
                ],
                [
                  "JioMart",
                  4.4,
                  "High"
                ],
                [
                  "Blinkit",
                  4.7,
                  "High"
                ],
                [
                  "Swiggy Instamart",
                  3.8,
                  "Medium"
                ],
                [
                  "JioMart",
                  4.2,
                  "High"
                ],
                [
                  "Zepto",
                  4,
                  "Medium"
                ],
                [
                  "Swiggy Instamart",
                  3.8,
                  "Medium"
                ],
                [
                  "Zepto",
                  1.7,
                  "Low"
                ],
                [
                  "JioMart",
                  3.2,
                  "Medium"
                ],
                [
                  "Swiggy Instamart",
                  3.4,
                  "Medium"
                ],
                [
                  "Zepto",
                  4.2,
                  "High"
                ],
                [
                  "Zepto",
                  3.7,
                  "Medium"
                ],
                [
                  "JioMart",
                  2.1,
                  "Low"
                ],
                [
                  "Blinkit",
                  2.7,
                  "Low"
                ],
                [
                  "Swiggy Instamart",
                  3.1,
                  "Medium"
                ],
                [
                  "Blinkit",
                  3.7,
                  "Medium"
                ],
                [
                  "Blinkit",
                  5,
                  "High"
                ],
                [
                  "Zepto",
                  3.5,
                  "Medium"
                ],
                [
                  "JioMart",
                  3.4,
                  "Medium"
                ],
                [
                  "Blinkit",
                  4.1,
                  "High"
                ],
                [
                  "Zepto",
                  2.7,
                  "Low"
                ],
                [
                  "Swiggy Instamart",
                  2.4,
                  "Low"
                ],
                [
                  "Blinkit",
                  3.6,
                  "Medium"
                ],
                [
                  "Blinkit",
                  5,
                  "High"
                ],
                [
                  "Zepto",
                  4.1,
                  "High"
                ],
                [
                  "Swiggy Instamart",
                  3.1,
                  "Medium"
                ],
                [
                  "Swiggy Instamart",
                  1.2,
                  "Low"
                ],
                [
                  "JioMart",
                  1.2,
                  "Low"
                ],
                [
                  "Swiggy Instamart",
                  3,
                  "Medium"
                ],
                [
                  "Swiggy Instamart",
                  4.9,
                  "High"
                ],
                [
                  "Swiggy Instamart",
                  4.7,
                  "High"
                ],
                [
                  "Swiggy Instamart",
                  1.7,
                  "Low"
                ],
                [
                  "JioMart",
                  1.3,
                  "Low"
                ],
                [
                  "Swiggy Instamart",
                  4.6,
                  "High"
                ],
                [
                  "Swiggy Instamart",
                  2.4,
                  "Low"
                ],
                [
                  "Swiggy Instamart",
                  1.5,
                  "Low"
                ],
                [
                  "JioMart",
                  3.6,
                  "Medium"
                ],
                [
                  "Zepto",
                  1.9,
                  "Low"
                ],
                [
                  "JioMart",
                  2.7,
                  "Low"
                ],
                [
                  "Blinkit",
                  2.8,
                  "Low"
                ],
                [
                  "Blinkit",
                  4.4,
                  "High"
                ],
                [
                  "Blinkit",
                  2.1,
                  "Low"
                ],
                [
                  "Zepto",
                  2.6,
                  "Low"
                ],
                [
                  "Swiggy Instamart",
                  4.3,
                  "High"
                ],
                [
                  "Blinkit",
                  4.6,
                  "High"
                ],
                [
                  "JioMart",
                  3.3,
                  "Medium"
                ],
                [
                  "Zepto",
                  1.4,
                  "Low"
                ],
                [
                  "JioMart",
                  4.8,
                  "High"
                ],
                [
                  "Blinkit",
                  3.4,
                  "Medium"
                ],
                [
                  "JioMart",
                  4.5,
                  "High"
                ],
                [
                  "Zepto",
                  2.9,
                  "Low"
                ],
                [
                  "Zepto",
                  4.1,
                  "High"
                ],
                [
                  "JioMart",
                  4.8,
                  "High"
                ],
                [
                  "Blinkit",
                  2.8,
                  "Low"
                ],
                [
                  "Blinkit",
                  1.4,
                  "Low"
                ],
                [
                  "JioMart",
                  4.4,
                  "High"
                ],
                [
                  "Blinkit",
                  1.5,
                  "Low"
                ],
                [
                  "JioMart",
                  3,
                  "Medium"
                ],
                [
                  "Blinkit",
                  1.2,
                  "Low"
                ],
                [
                  "Zepto",
                  1.7,
                  "Low"
                ],
                [
                  "Swiggy Instamart",
                  4.4,
                  "High"
                ],
                [
                  "JioMart",
                  2.2,
                  "Low"
                ],
                [
                  "Zepto",
                  2.2,
                  "Low"
                ],
                [
                  "Blinkit",
                  3.9,
                  "Medium"
                ],
                [
                  "Zepto",
                  1.4,
                  "Low"
                ],
                [
                  "Swiggy Instamart",
                  4.8,
                  "High"
                ],
                [
                  "Zepto",
                  2.8,
                  "Low"
                ],
                [
                  "JioMart",
                  2.7,
                  "Low"
                ],
                [
                  "Swiggy Instamart",
                  4.9,
                  "High"
                ],
                [
                  "Swiggy Instamart",
                  2.3,
                  "Low"
                ],
                [
                  "Swiggy Instamart",
                  2.8,
                  "Low"
                ],
                [
                  "JioMart",
                  1.3,
                  "Low"
                ],
                [
                  "Zepto",
                  1.9,
                  "Low"
                ],
                [
                  "JioMart",
                  2.8,
                  "Low"
                ],
                [
                  "JioMart",
                  4.3,
                  "High"
                ],
                [
                  "Swiggy Instamart",
                  2.6,
                  "Low"
                ],
                [
                  "JioMart",
                  3.6,
                  "Medium"
                ],
                [
                  "Zepto",
                  2.8,
                  "Low"
                ],
                [
                  "Blinkit",
                  1.3,
                  "Low"
                ],
                [
                  "Zepto",
                  3.1,
                  "Medium"
                ],
                [
                  "JioMart",
                  3.8,
                  "Medium"
                ],
                [
                  "Swiggy Instamart",
                  2.6,
                  "Low"
                ],
                [
                  "JioMart",
                  2.8,
                  "Low"
                ],
                [
                  "JioMart",
                  1.1,
                  "Low"
                ],
                [
                  "Swiggy Instamart",
                  4.8,
                  "High"
                ],
                [
                  "JioMart",
                  1.8,
                  "Low"
                ],
                [
                  "Blinkit",
                  1.9,
                  "Low"
                ],
                [
                  "Swiggy Instamart",
                  2.8,
                  "Low"
                ],
                [
                  "Swiggy Instamart",
                  4.7,
                  "High"
                ],
                [
                  "Zepto",
                  4.9,
                  "High"
                ],
                [
                  "Swiggy Instamart",
                  4.8,
                  "High"
                ],
                [
                  "Swiggy Instamart",
                  2.7,
                  "Low"
                ],
                [
                  "Swiggy Instamart",
                  2.4,
                  "Low"
                ],
                [
                  "Zepto",
                  3.1,
                  "Medium"
                ],
                [
                  "JioMart",
                  4.5,
                  "High"
                ],
                [
                  "Blinkit",
                  3.7,
                  "Medium"
                ],
                [
                  "JioMart",
                  2.7,
                  "Low"
                ],
                [
                  "Swiggy Instamart",
                  2.6,
                  "Low"
                ],
                [
                  "Swiggy Instamart",
                  1.1,
                  "Low"
                ],
                [
                  "Blinkit",
                  1.7,
                  "Low"
                ],
                [
                  "Swiggy Instamart",
                  2.2,
                  "Low"
                ],
                [
                  "Swiggy Instamart",
                  2,
                  "Low"
                ],
                [
                  "JioMart",
                  2.1,
                  "Low"
                ],
                [
                  "Zepto",
                  3.4,
                  "Medium"
                ],
                [
                  "Blinkit",
                  2.4,
                  "Low"
                ],
                [
                  "Blinkit",
                  3.3,
                  "Medium"
                ],
                [
                  "Blinkit",
                  4.4,
                  "High"
                ],
                [
                  "Swiggy Instamart",
                  4.5,
                  "High"
                ],
                [
                  "JioMart",
                  2.5,
                  "Low"
                ],
                [
                  "Blinkit",
                  2.2,
                  "Low"
                ],
                [
                  "Swiggy Instamart",
                  3.1,
                  "Medium"
                ],
                [
                  "JioMart",
                  2.3,
                  "Low"
                ],
                [
                  "Zepto",
                  2.4,
                  "Low"
                ],
                [
                  "JioMart",
                  3.6,
                  "Medium"
                ],
                [
                  "Zepto",
                  2.8,
                  "Low"
                ],
                [
                  "JioMart",
                  2.5,
                  "Low"
                ],
                [
                  "Swiggy Instamart",
                  1.1,
                  "Low"
                ],
                [
                  "Zepto",
                  4.7,
                  "High"
                ],
                [
                  "Swiggy Instamart",
                  4.3,
                  "High"
                ],
                [
                  "Swiggy Instamart",
                  3.5,
                  "Medium"
                ],
                [
                  "Zepto",
                  5,
                  "High"
                ],
                [
                  "Zepto",
                  1.5,
                  "Low"
                ],
                [
                  "Swiggy Instamart",
                  2.7,
                  "Low"
                ],
                [
                  "Blinkit",
                  3.8,
                  "Medium"
                ],
                [
                  "Zepto",
                  2.1,
                  "Low"
                ],
                [
                  "Zepto",
                  4.1,
                  "High"
                ],
                [
                  "Swiggy Instamart",
                  4.2,
                  "High"
                ],
                [
                  "Swiggy Instamart",
                  3.1,
                  "Medium"
                ],
                [
                  "Zepto",
                  4.7,
                  "High"
                ],
                [
                  "Swiggy Instamart",
                  1.5,
                  "Low"
                ],
                [
                  "Swiggy Instamart",
                  4.8,
                  "High"
                ],
                [
                  "Blinkit",
                  1.1,
                  "Low"
                ],
                [
                  "Zepto",
                  1.7,
                  "Low"
                ],
                [
                  "Swiggy Instamart",
                  4.1,
                  "High"
                ],
                [
                  "JioMart",
                  4.1,
                  "High"
                ],
                [
                  "JioMart",
                  4.6,
                  "High"
                ],
                [
                  "Zepto",
                  4.9,
                  "High"
                ],
                [
                  "Blinkit",
                  4.4,
                  "High"
                ],
                [
                  "Zepto",
                  1.2,
                  "Low"
                ],
                [
                  "Zepto",
                  4.1,
                  "High"
                ],
                [
                  "Zepto",
                  4.7,
                  "High"
                ],
                [
                  "Swiggy Instamart",
                  2.1,
                  "Low"
                ],
                [
                  "Zepto",
                  4.9,
                  "High"
                ],
                [
                  "Zepto",
                  1.7,
                  "Low"
                ],
                [
                  "JioMart",
                  2.1,
                  "Low"
                ],
                [
                  "Swiggy Instamart",
                  2.6,
                  "Low"
                ],
                [
                  "JioMart",
                  3.3,
                  "Medium"
                ],
                [
                  "Blinkit",
                  2.5,
                  "Low"
                ],
                [
                  "Zepto",
                  4.2,
                  "High"
                ],
                [
                  "Swiggy Instamart",
                  3.4,
                  "Medium"
                ],
                [
                  "Zepto",
                  4.2,
                  "High"
                ],
                [
                  "Blinkit",
                  1.2,
                  "Low"
                ],
                [
                  "Blinkit",
                  1.2,
                  "Low"
                ],
                [
                  "Blinkit",
                  3,
                  "Medium"
                ],
                [
                  "Zepto",
                  2,
                  "Low"
                ],
                [
                  "Zepto",
                  4.1,
                  "High"
                ],
                [
                  "Blinkit",
                  4.3,
                  "High"
                ],
                [
                  "Blinkit",
                  3.2,
                  "Medium"
                ],
                [
                  "JioMart",
                  2.8,
                  "Low"
                ],
                [
                  "Zepto",
                  2.2,
                  "Low"
                ],
                [
                  "Zepto",
                  4.2,
                  "High"
                ],
                [
                  "Zepto",
                  2.5,
                  "Low"
                ],
                [
                  "JioMart",
                  3.4,
                  "Medium"
                ],
                [
                  "Zepto",
                  2.9,
                  "Low"
                ],
                [
                  "JioMart",
                  1.5,
                  "Low"
                ],
                [
                  "JioMart",
                  1.7,
                  "Low"
                ],
                [
                  "Swiggy Instamart",
                  1.5,
                  "Low"
                ],
                [
                  "Zepto",
                  3.8,
                  "Medium"
                ],
                [
                  "Swiggy Instamart",
                  4.4,
                  "High"
                ],
                [
                  "Blinkit",
                  2.1,
                  "Low"
                ],
                [
                  "JioMart",
                  3.8,
                  "Medium"
                ],
                [
                  "Blinkit",
                  3.5,
                  "Medium"
                ],
                [
                  "JioMart",
                  2.8,
                  "Low"
                ],
                [
                  "JioMart",
                  1.3,
                  "Low"
                ],
                [
                  "Blinkit",
                  1.1,
                  "Low"
                ],
                [
                  "Blinkit",
                  2.6,
                  "Low"
                ],
                [
                  "Blinkit",
                  1.7,
                  "Low"
                ],
                [
                  "Zepto",
                  1.7,
                  "Low"
                ],
                [
                  "Swiggy Instamart",
                  4,
                  "Medium"
                ],
                [
                  "Zepto",
                  3.3,
                  "Medium"
                ],
                [
                  "Blinkit",
                  1.3,
                  "Low"
                ],
                [
                  "Zepto",
                  4.1,
                  "High"
                ],
                [
                  "Swiggy Instamart",
                  4.7,
                  "High"
                ],
                [
                  "Swiggy Instamart",
                  2.1,
                  "Low"
                ],
                [
                  "Swiggy Instamart",
                  2.8,
                  "Low"
                ],
                [
                  "Zepto",
                  4.9,
                  "High"
                ],
                [
                  "Swiggy Instamart",
                  3,
                  "Medium"
                ],
                [
                  "JioMart",
                  4.8,
                  "High"
                ],
                [
                  "Blinkit",
                  4.8,
                  "High"
                ],
                [
                  "Swiggy Instamart",
                  2.9,
                  "Low"
                ],
                [
                  "Zepto",
                  4.7,
                  "High"
                ],
                [
                  "Swiggy Instamart",
                  4.5,
                  "High"
                ],
                [
                  "Blinkit",
                  2.7,
                  "Low"
                ],
                [
                  "Blinkit",
                  4.6,
                  "High"
                ],
                [
                  "JioMart",
                  3.1,
                  "Medium"
                ],
                [
                  "Zepto",
                  4.3,
                  "High"
                ],
                [
                  "Blinkit",
                  2.5,
                  "Low"
                ],
                [
                  "JioMart",
                  2.1,
                  "Low"
                ],
                [
                  "JioMart",
                  4.4,
                  "High"
                ],
                [
                  "JioMart",
                  2.9,
                  "Low"
                ],
                [
                  "Zepto",
                  3.1,
                  "Medium"
                ],
                [
                  "Blinkit",
                  3.5,
                  "Medium"
                ],
                [
                  "Zepto",
                  2.4,
                  "Low"
                ],
                [
                  "JioMart",
                  1.3,
                  "Low"
                ],
                [
                  "Zepto",
                  3.6,
                  "Medium"
                ],
                [
                  "Zepto",
                  4.1,
                  "High"
                ],
                [
                  "Blinkit",
                  1.3,
                  "Low"
                ],
                [
                  "Blinkit",
                  2.7,
                  "Low"
                ],
                [
                  "Swiggy Instamart",
                  2.5,
                  "Low"
                ],
                [
                  "JioMart",
                  4.3,
                  "High"
                ],
                [
                  "Zepto",
                  2.1,
                  "Low"
                ],
                [
                  "Blinkit",
                  2.6,
                  "Low"
                ],
                [
                  "JioMart",
                  1.6,
                  "Low"
                ],
                [
                  "Blinkit",
                  1.3,
                  "Low"
                ],
                [
                  "Blinkit",
                  1.8,
                  "Low"
                ],
                [
                  "JioMart",
                  4.8,
                  "High"
                ],
                [
                  "JioMart",
                  3.4,
                  "Medium"
                ],
                [
                  "Swiggy Instamart",
                  3,
                  "Medium"
                ],
                [
                  "JioMart",
                  3.3,
                  "Medium"
                ],
                [
                  "Swiggy Instamart",
                  3.6,
                  "Medium"
                ],
                [
                  "Swiggy Instamart",
                  3.7,
                  "Medium"
                ],
                [
                  "Blinkit",
                  2.2,
                  "Low"
                ],
                [
                  "Zepto",
                  4.4,
                  "High"
                ],
                [
                  "Swiggy Instamart",
                  2.9,
                  "Low"
                ],
                [
                  "Blinkit",
                  4.1,
                  "High"
                ],
                [
                  "Zepto",
                  4.6,
                  "High"
                ],
                [
                  "Blinkit",
                  4.8,
                  "High"
                ],
                [
                  "Swiggy Instamart",
                  4.7,
                  "High"
                ],
                [
                  "Blinkit",
                  1.8,
                  "Low"
                ],
                [
                  "Zepto",
                  3.9,
                  "Medium"
                ],
                [
                  "Blinkit",
                  1.3,
                  "Low"
                ],
                [
                  "Blinkit",
                  2.1,
                  "Low"
                ],
                [
                  "JioMart",
                  4.5,
                  "High"
                ],
                [
                  "JioMart",
                  2.1,
                  "Low"
                ],
                [
                  "Swiggy Instamart",
                  1.5,
                  "Low"
                ],
                [
                  "Blinkit",
                  3.3,
                  "Medium"
                ],
                [
                  "Zepto",
                  1.9,
                  "Low"
                ],
                [
                  "Zepto",
                  1.1,
                  "Low"
                ],
                [
                  "Blinkit",
                  4.7,
                  "High"
                ],
                [
                  "Blinkit",
                  5,
                  "High"
                ],
                [
                  "Zepto",
                  1.4,
                  "Low"
                ],
                [
                  "Zepto",
                  4.8,
                  "High"
                ],
                [
                  "Swiggy Instamart",
                  1.8,
                  "Low"
                ],
                [
                  "JioMart",
                  2.1,
                  "Low"
                ],
                [
                  "Swiggy Instamart",
                  2.4,
                  "Low"
                ],
                [
                  "Swiggy Instamart",
                  4.5,
                  "High"
                ],
                [
                  "Swiggy Instamart",
                  3.9,
                  "Medium"
                ],
                [
                  "Zepto",
                  1.6,
                  "Low"
                ],
                [
                  "Blinkit",
                  3,
                  "Medium"
                ],
                [
                  "Blinkit",
                  4.3,
                  "High"
                ],
                [
                  "JioMart",
                  3.8,
                  "Medium"
                ],
                [
                  "Blinkit",
                  5,
                  "High"
                ],
                [
                  "Zepto",
                  2.2,
                  "Low"
                ],
                [
                  "Swiggy Instamart",
                  2.9,
                  "Low"
                ],
                [
                  "Blinkit",
                  2.2,
                  "Low"
                ],
                [
                  "Zepto",
                  2.9,
                  "Low"
                ],
                [
                  "JioMart",
                  3.2,
                  "Medium"
                ],
                [
                  "Blinkit",
                  2.6,
                  "Low"
                ],
                [
                  "Zepto",
                  3.7,
                  "Medium"
                ],
                [
                  "Swiggy Instamart",
                  3,
                  "Medium"
                ],
                [
                  "JioMart",
                  1.5,
                  "Low"
                ],
                [
                  "Swiggy Instamart",
                  4.3,
                  "High"
                ],
                [
                  "Blinkit",
                  4,
                  "Medium"
                ],
                [
                  "JioMart",
                  3.6,
                  "Medium"
                ],
                [
                  "JioMart",
                  3.2,
                  "Medium"
                ],
                [
                  "Blinkit",
                  1.5,
                  "Low"
                ],
                [
                  "JioMart",
                  2.7,
                  "Low"
                ],
                [
                  "Zepto",
                  1.5,
                  "Low"
                ],
                [
                  "JioMart",
                  2.7,
                  "Low"
                ],
                [
                  "JioMart",
                  3,
                  "Medium"
                ],
                [
                  "JioMart",
                  2.3,
                  "Low"
                ],
                [
                  "Swiggy Instamart",
                  3.3,
                  "Medium"
                ],
                [
                  "Swiggy Instamart",
                  4.6,
                  "High"
                ],
                [
                  "Swiggy Instamart",
                  3.1,
                  "Medium"
                ],
                [
                  "JioMart",
                  3.5,
                  "Medium"
                ],
                [
                  "Swiggy Instamart",
                  3.7,
                  "Medium"
                ],
                [
                  "Swiggy Instamart",
                  2.5,
                  "Low"
                ],
                [
                  "Zepto",
                  3.6,
                  "Medium"
                ],
                [
                  "Blinkit",
                  2.5,
                  "Low"
                ],
                [
                  "Blinkit",
                  2.2,
                  "Low"
                ],
                [
                  "Zepto",
                  4.2,
                  "High"
                ],
                [
                  "Swiggy Instamart",
                  2.9,
                  "Low"
                ],
                [
                  "Blinkit",
                  3.5,
                  "Medium"
                ],
                [
                  "Zepto",
                  1.3,
                  "Low"
                ],
                [
                  "JioMart",
                  2.5,
                  "Low"
                ],
                [
                  "Swiggy Instamart",
                  2.6,
                  "Low"
                ],
                [
                  "Zepto",
                  4,
                  "Medium"
                ],
                [
                  "Zepto",
                  1.6,
                  "Low"
                ],
                [
                  "JioMart",
                  4.1,
                  "High"
                ],
                [
                  "Blinkit",
                  4.1,
                  "High"
                ],
                [
                  "JioMart",
                  4.3,
                  "High"
                ],
                [
                  "JioMart",
                  2.1,
                  "Low"
                ],
                [
                  "Zepto",
                  2.8,
                  "Low"
                ],
                [
                  "Swiggy Instamart",
                  1.1,
                  "Low"
                ],
                [
                  "Swiggy Instamart",
                  4.9,
                  "High"
                ],
                [
                  "JioMart",
                  1.6,
                  "Low"
                ],
                [
                  "Zepto",
                  2.9,
                  "Low"
                ],
                [
                  "Swiggy Instamart",
                  1.6,
                  "Low"
                ],
                [
                  "Blinkit",
                  1.1,
                  "Low"
                ],
                [
                  "Swiggy Instamart",
                  4.8,
                  "High"
                ],
                [
                  "JioMart",
                  4,
                  "Medium"
                ],
                [
                  "Blinkit",
                  4.5,
                  "High"
                ],
                [
                  "Blinkit",
                  4.3,
                  "High"
                ],
                [
                  "Blinkit",
                  1.7,
                  "Low"
                ],
                [
                  "Blinkit",
                  1.8,
                  "Low"
                ],
                [
                  "Zepto",
                  3.7,
                  "Medium"
                ],
                [
                  "Zepto",
                  1.8,
                  "Low"
                ],
                [
                  "Blinkit",
                  3.2,
                  "Medium"
                ],
                [
                  "JioMart",
                  3.1,
                  "Medium"
                ],
                [
                  "Zepto",
                  4.6,
                  "High"
                ],
                [
                  "Swiggy Instamart",
                  3.4,
                  "Medium"
                ],
                [
                  "Blinkit",
                  1.4,
                  "Low"
                ],
                [
                  "JioMart",
                  1.6,
                  "Low"
                ],
                [
                  "Zepto",
                  4.9,
                  "High"
                ],
                [
                  "Zepto",
                  2.6,
                  "Low"
                ],
                [
                  "Blinkit",
                  1.9,
                  "Low"
                ],
                [
                  "Swiggy Instamart",
                  1.6,
                  "Low"
                ],
                [
                  "JioMart",
                  3.7,
                  "Medium"
                ],
                [
                  "JioMart",
                  1.4,
                  "Low"
                ],
                [
                  "Swiggy Instamart",
                  4.1,
                  "High"
                ],
                [
                  "Blinkit",
                  4,
                  "Medium"
                ],
                [
                  "Blinkit",
                  3.1,
                  "Medium"
                ],
                [
                  "JioMart",
                  3.7,
                  "Medium"
                ],
                [
                  "Zepto",
                  4.4,
                  "High"
                ],
                [
                  "JioMart",
                  2,
                  "Low"
                ],
                [
                  "Blinkit",
                  4.5,
                  "High"
                ],
                [
                  "JioMart",
                  2.9,
                  "Low"
                ],
                [
                  "JioMart",
                  2,
                  "Low"
                ],
                [
                  "Swiggy Instamart",
                  1.7,
                  "Low"
                ],
                [
                  "Swiggy Instamart",
                  2.5,
                  "Low"
                ],
                [
                  "Swiggy Instamart",
                  4.6,
                  "High"
                ],
                [
                  "Blinkit",
                  4.2,
                  "High"
                ],
                [
                  "Zepto",
                  2.8,
                  "Low"
                ],
                [
                  "Blinkit",
                  2.9,
                  "Low"
                ],
                [
                  "Blinkit",
                  3.1,
                  "Medium"
                ],
                [
                  "Zepto",
                  3,
                  "Medium"
                ],
                [
                  "Swiggy Instamart",
                  3,
                  "Medium"
                ],
                [
                  "Blinkit",
                  1,
                  "Low"
                ],
                [
                  "Swiggy Instamart",
                  1.2,
                  "Low"
                ],
                [
                  "Swiggy Instamart",
                  4,
                  "Medium"
                ],
                [
                  "Zepto",
                  1.3,
                  "Low"
                ],
                [
                  "Zepto",
                  3.5,
                  "Medium"
                ],
                [
                  "Zepto",
                  1.9,
                  "Low"
                ],
                [
                  "Zepto",
                  1.4,
                  "Low"
                ],
                [
                  "Zepto",
                  1.9,
                  "Low"
                ],
                [
                  "JioMart",
                  2.3,
                  "Low"
                ],
                [
                  "JioMart",
                  3.7,
                  "Medium"
                ],
                [
                  "Blinkit",
                  4.1,
                  "High"
                ],
                [
                  "Swiggy Instamart",
                  4.5,
                  "High"
                ],
                [
                  "JioMart",
                  2,
                  "Low"
                ],
                [
                  "Blinkit",
                  2.1,
                  "Low"
                ],
                [
                  "Blinkit",
                  4.9,
                  "High"
                ],
                [
                  "Swiggy Instamart",
                  1.5,
                  "Low"
                ],
                [
                  "Blinkit",
                  2.9,
                  "Low"
                ],
                [
                  "Blinkit",
                  4.2,
                  "High"
                ],
                [
                  "Swiggy Instamart",
                  4.7,
                  "High"
                ],
                [
                  "JioMart",
                  1.1,
                  "Low"
                ],
                [
                  "Blinkit",
                  1.4,
                  "Low"
                ],
                [
                  "Zepto",
                  3,
                  "Medium"
                ],
                [
                  "Swiggy Instamart",
                  2.2,
                  "Low"
                ],
                [
                  "Zepto",
                  1.5,
                  "Low"
                ],
                [
                  "Swiggy Instamart",
                  1.3,
                  "Low"
                ],
                [
                  "JioMart",
                  2.2,
                  "Low"
                ],
                [
                  "Zepto",
                  1.9,
                  "Low"
                ],
                [
                  "Swiggy Instamart",
                  1.4,
                  "Low"
                ],
                [
                  "Zepto",
                  1.2,
                  "Low"
                ],
                [
                  "Blinkit",
                  1.5,
                  "Low"
                ],
                [
                  "Swiggy Instamart",
                  1.7,
                  "Low"
                ],
                [
                  "Zepto",
                  1.4,
                  "Low"
                ],
                [
                  "Swiggy Instamart",
                  2.8,
                  "Low"
                ],
                [
                  "Blinkit",
                  3.8,
                  "Medium"
                ],
                [
                  "Swiggy Instamart",
                  1.9,
                  "Low"
                ],
                [
                  "Zepto",
                  1.6,
                  "Low"
                ],
                [
                  "Blinkit",
                  1.7,
                  "Low"
                ],
                [
                  "Blinkit",
                  4.9,
                  "High"
                ],
                [
                  "Zepto",
                  1.5,
                  "Low"
                ],
                [
                  "JioMart",
                  2.8,
                  "Low"
                ],
                [
                  "Swiggy Instamart",
                  2.3,
                  "Low"
                ],
                [
                  "Swiggy Instamart",
                  4.3,
                  "High"
                ],
                [
                  "Blinkit",
                  3.2,
                  "Medium"
                ],
                [
                  "Blinkit",
                  1.9,
                  "Low"
                ],
                [
                  "JioMart",
                  1.2,
                  "Low"
                ],
                [
                  "Blinkit",
                  4.7,
                  "High"
                ],
                [
                  "JioMart",
                  2.4,
                  "Low"
                ],
                [
                  "JioMart",
                  2.4,
                  "Low"
                ],
                [
                  "Zepto",
                  2.7,
                  "Low"
                ],
                [
                  "Zepto",
                  4.5,
                  "High"
                ],
                [
                  "Swiggy Instamart",
                  3,
                  "Medium"
                ],
                [
                  "Swiggy Instamart",
                  2.4,
                  "Low"
                ],
                [
                  "JioMart",
                  2.5,
                  "Low"
                ],
                [
                  "JioMart",
                  1.2,
                  "Low"
                ],
                [
                  "JioMart",
                  4.5,
                  "High"
                ],
                [
                  "JioMart",
                  3.6,
                  "Medium"
                ],
                [
                  "Zepto",
                  1.8,
                  "Low"
                ],
                [
                  "Swiggy Instamart",
                  2.1,
                  "Low"
                ],
                [
                  "JioMart",
                  3.9,
                  "Medium"
                ],
                [
                  "Blinkit",
                  1.3,
                  "Low"
                ],
                [
                  "JioMart",
                  2.2,
                  "Low"
                ],
                [
                  "Zepto",
                  3.6,
                  "Medium"
                ],
                [
                  "Blinkit",
                  4.5,
                  "High"
                ],
                [
                  "Blinkit",
                  1.8,
                  "Low"
                ],
                [
                  "Swiggy Instamart",
                  3.3,
                  "Medium"
                ],
                [
                  "Swiggy Instamart",
                  2.5,
                  "Low"
                ],
                [
                  "Zepto",
                  4.8,
                  "High"
                ],
                [
                  "Zepto",
                  4.7,
                  "High"
                ],
                [
                  "JioMart",
                  1.4,
                  "Low"
                ],
                [
                  "Blinkit",
                  3.3,
                  "Medium"
                ],
                [
                  "Blinkit",
                  2.6,
                  "Low"
                ],
                [
                  "JioMart",
                  1.5,
                  "Low"
                ],
                [
                  "Zepto",
                  5,
                  "High"
                ],
                [
                  "Zepto",
                  4.7,
                  "High"
                ],
                [
                  "Blinkit",
                  3.2,
                  "Medium"
                ],
                [
                  "Swiggy Instamart",
                  1.5,
                  "Low"
                ],
                [
                  "Zepto",
                  3.2,
                  "Medium"
                ],
                [
                  "Blinkit",
                  4.2,
                  "High"
                ],
                [
                  "Swiggy Instamart",
                  1.8,
                  "Low"
                ],
                [
                  "Zepto",
                  3.9,
                  "Medium"
                ],
                [
                  "JioMart",
                  4.3,
                  "High"
                ],
                [
                  "JioMart",
                  1.2,
                  "Low"
                ],
                [
                  "Zepto",
                  3.2,
                  "Medium"
                ],
                [
                  "JioMart",
                  3.7,
                  "Medium"
                ],
                [
                  "Blinkit",
                  3.6,
                  "Medium"
                ],
                [
                  "Swiggy Instamart",
                  3.9,
                  "Medium"
                ],
                [
                  "Swiggy Instamart",
                  2.7,
                  "Low"
                ],
                [
                  "Blinkit",
                  3.8,
                  "Medium"
                ],
                [
                  "Zepto",
                  4,
                  "Medium"
                ],
                [
                  "JioMart",
                  1.5,
                  "Low"
                ],
                [
                  "JioMart",
                  3.1,
                  "Medium"
                ],
                [
                  "JioMart",
                  2.5,
                  "Low"
                ],
                [
                  "Zepto",
                  3.7,
                  "Medium"
                ],
                [
                  "Blinkit",
                  1.4,
                  "Low"
                ],
                [
                  "JioMart",
                  3,
                  "Medium"
                ],
                [
                  "JioMart",
                  4.6,
                  "High"
                ],
                [
                  "Blinkit",
                  4.1,
                  "High"
                ],
                [
                  "Swiggy Instamart",
                  4.9,
                  "High"
                ],
                [
                  "Zepto",
                  2.1,
                  "Low"
                ],
                [
                  "Blinkit",
                  1.4,
                  "Low"
                ],
                [
                  "Swiggy Instamart",
                  4,
                  "Medium"
                ],
                [
                  "JioMart",
                  2.7,
                  "Low"
                ],
                [
                  "Zepto",
                  2.1,
                  "Low"
                ],
                [
                  "Swiggy Instamart",
                  2.2,
                  "Low"
                ],
                [
                  "Blinkit",
                  3.1,
                  "Medium"
                ],
                [
                  "JioMart",
                  4.2,
                  "High"
                ],
                [
                  "Blinkit",
                  2.9,
                  "Low"
                ],
                [
                  "Swiggy Instamart",
                  3.7,
                  "Medium"
                ],
                [
                  "JioMart",
                  2.9,
                  "Low"
                ],
                [
                  "Zepto",
                  3.3,
                  "Medium"
                ],
                [
                  "Zepto",
                  2.8,
                  "Low"
                ],
                [
                  "Blinkit",
                  2.3,
                  "Low"
                ],
                [
                  "JioMart",
                  4.5,
                  "High"
                ],
                [
                  "JioMart",
                  3.9,
                  "Medium"
                ],
                [
                  "JioMart",
                  1.3,
                  "Low"
                ],
                [
                  "Blinkit",
                  3.8,
                  "Medium"
                ],
                [
                  "Blinkit",
                  1.9,
                  "Low"
                ],
                [
                  "JioMart",
                  3.8,
                  "Medium"
                ],
                [
                  "Swiggy Instamart",
                  3.2,
                  "Medium"
                ],
                [
                  "JioMart",
                  1.2,
                  "Low"
                ],
                [
                  "Swiggy Instamart",
                  2,
                  "Low"
                ],
                [
                  "JioMart",
                  1.9,
                  "Low"
                ],
                [
                  "Blinkit",
                  3,
                  "Medium"
                ],
                [
                  "Zepto",
                  2.2,
                  "Low"
                ],
                [
                  "Zepto",
                  4,
                  "Medium"
                ],
                [
                  "JioMart",
                  1.5,
                  "Low"
                ],
                [
                  "JioMart",
                  4.4,
                  "High"
                ],
                [
                  "Swiggy Instamart",
                  3.3,
                  "Medium"
                ],
                [
                  "Swiggy Instamart",
                  3,
                  "Medium"
                ],
                [
                  "Blinkit",
                  1.1,
                  "Low"
                ],
                [
                  "Swiggy Instamart",
                  2.9,
                  "Low"
                ],
                [
                  "Zepto",
                  2.6,
                  "Low"
                ],
                [
                  "Blinkit",
                  3.8,
                  "Medium"
                ],
                [
                  "JioMart",
                  4,
                  "Medium"
                ],
                [
                  "JioMart",
                  3.6,
                  "Medium"
                ],
                [
                  "JioMart",
                  3.4,
                  "Medium"
                ],
                [
                  "JioMart",
                  1.5,
                  "Low"
                ],
                [
                  "Zepto",
                  2.8,
                  "Low"
                ],
                [
                  "JioMart",
                  4.6,
                  "High"
                ],
                [
                  "Swiggy Instamart",
                  1.8,
                  "Low"
                ],
                [
                  "Zepto",
                  3.1,
                  "Medium"
                ],
                [
                  "Blinkit",
                  3.2,
                  "Medium"
                ],
                [
                  "Zepto",
                  2.7,
                  "Low"
                ],
                [
                  "Zepto",
                  4.7,
                  "High"
                ],
                [
                  "Swiggy Instamart",
                  1.9,
                  "Low"
                ],
                [
                  "Blinkit",
                  1.3,
                  "Low"
                ],
                [
                  "Blinkit",
                  4.3,
                  "High"
                ],
                [
                  "Blinkit",
                  4.9,
                  "High"
                ],
                [
                  "JioMart",
                  2.1,
                  "Low"
                ],
                [
                  "Zepto",
                  1.9,
                  "Low"
                ],
                [
                  "Zepto",
                  2.7,
                  "Low"
                ],
                [
                  "Blinkit",
                  5,
                  "High"
                ],
                [
                  "Swiggy Instamart",
                  4.4,
                  "High"
                ],
                [
                  "Blinkit",
                  4.7,
                  "High"
                ],
                [
                  "Zepto",
                  4.9,
                  "High"
                ],
                [
                  "Blinkit",
                  2,
                  "Low"
                ],
                [
                  "Blinkit",
                  4,
                  "Medium"
                ],
                [
                  "Swiggy Instamart",
                  4.4,
                  "High"
                ],
                [
                  "JioMart",
                  3.2,
                  "Medium"
                ],
                [
                  "Swiggy Instamart",
                  1.3,
                  "Low"
                ],
                [
                  "Blinkit",
                  1.9,
                  "Low"
                ],
                [
                  "Swiggy Instamart",
                  2.5,
                  "Low"
                ],
                [
                  "Swiggy Instamart",
                  2.8,
                  "Low"
                ],
                [
                  "Swiggy Instamart",
                  2.6,
                  "Low"
                ],
                [
                  "Swiggy Instamart",
                  3.8,
                  "Medium"
                ],
                [
                  "Swiggy Instamart",
                  2.3,
                  "Low"
                ],
                [
                  "Swiggy Instamart",
                  3.5,
                  "Medium"
                ],
                [
                  "Swiggy Instamart",
                  4.3,
                  "High"
                ],
                [
                  "Blinkit",
                  4.8,
                  "High"
                ],
                [
                  "Swiggy Instamart",
                  2.3,
                  "Low"
                ],
                [
                  "Swiggy Instamart",
                  4.8,
                  "High"
                ],
                [
                  "Swiggy Instamart",
                  3.9,
                  "Medium"
                ],
                [
                  "JioMart",
                  1.4,
                  "Low"
                ],
                [
                  "Swiggy Instamart",
                  2.8,
                  "Low"
                ],
                [
                  "JioMart",
                  4.1,
                  "High"
                ],
                [
                  "Blinkit",
                  3.3,
                  "Medium"
                ],
                [
                  "JioMart",
                  2.9,
                  "Low"
                ],
                [
                  "Blinkit",
                  1.4,
                  "Low"
                ],
                [
                  "Zepto",
                  2.2,
                  "Low"
                ],
                [
                  "JioMart",
                  3.4,
                  "Medium"
                ],
                [
                  "JioMart",
                  1.3,
                  "Low"
                ],
                [
                  "JioMart",
                  3.3,
                  "Medium"
                ],
                [
                  "Zepto",
                  4.5,
                  "High"
                ],
                [
                  "Zepto",
                  4.6,
                  "High"
                ],
                [
                  "Blinkit",
                  2.3,
                  "Low"
                ],
                [
                  "Blinkit",
                  3.1,
                  "Medium"
                ],
                [
                  "Swiggy Instamart",
                  2.3,
                  "Low"
                ],
                [
                  "Blinkit",
                  3.6,
                  "Medium"
                ],
                [
                  "Zepto",
                  5,
                  "High"
                ],
                [
                  "Zepto",
                  2.8,
                  "Low"
                ],
                [
                  "JioMart",
                  4.8,
                  "High"
                ],
                [
                  "Zepto",
                  2.7,
                  "Low"
                ],
                [
                  "JioMart",
                  2.6,
                  "Low"
                ],
                [
                  "Blinkit",
                  1.4,
                  "Low"
                ],
                [
                  "Swiggy Instamart",
                  1.7,
                  "Low"
                ],
                [
                  "Blinkit",
                  2.2,
                  "Low"
                ],
                [
                  "JioMart",
                  4.9,
                  "High"
                ],
                [
                  "Blinkit",
                  1.7,
                  "Low"
                ],
                [
                  "Swiggy Instamart",
                  3.2,
                  "Medium"
                ],
                [
                  "JioMart",
                  1.5,
                  "Low"
                ],
                [
                  "JioMart",
                  3.8,
                  "Medium"
                ],
                [
                  "Swiggy Instamart",
                  3.3,
                  "Medium"
                ],
                [
                  "Blinkit",
                  1.5,
                  "Low"
                ],
                [
                  "Swiggy Instamart",
                  3.3,
                  "Medium"
                ],
                [
                  "Swiggy Instamart",
                  4.3,
                  "High"
                ],
                [
                  "Swiggy Instamart",
                  4.9,
                  "High"
                ],
                [
                  "Blinkit",
                  3.5,
                  "Medium"
                ],
                [
                  "Zepto",
                  3,
                  "Medium"
                ],
                [
                  "Zepto",
                  4.8,
                  "High"
                ],
                [
                  "Swiggy Instamart",
                  1.6,
                  "Low"
                ],
                [
                  "Zepto",
                  2.9,
                  "Low"
                ],
                [
                  "Zepto",
                  4.4,
                  "High"
                ],
                [
                  "Zepto",
                  1,
                  "Low"
                ],
                [
                  "JioMart",
                  2.2,
                  "Low"
                ],
                [
                  "Blinkit",
                  3.9,
                  "Medium"
                ],
                [
                  "Swiggy Instamart",
                  3.1,
                  "Medium"
                ],
                [
                  "JioMart",
                  4.2,
                  "High"
                ],
                [
                  "Zepto",
                  4,
                  "Medium"
                ],
                [
                  "Swiggy Instamart",
                  2.5,
                  "Low"
                ],
                [
                  "Blinkit",
                  2.4,
                  "Low"
                ],
                [
                  "Blinkit",
                  3.9,
                  "Medium"
                ],
                [
                  "Zepto",
                  3.9,
                  "Medium"
                ],
                [
                  "JioMart",
                  1.7,
                  "Low"
                ],
                [
                  "Zepto",
                  4,
                  "Medium"
                ],
                [
                  "Zepto",
                  5,
                  "High"
                ],
                [
                  "Swiggy Instamart",
                  1.1,
                  "Low"
                ],
                [
                  "Swiggy Instamart",
                  1.9,
                  "Low"
                ],
                [
                  "Zepto",
                  3.7,
                  "Medium"
                ],
                [
                  "Swiggy Instamart",
                  2,
                  "Low"
                ],
                [
                  "Zepto",
                  2.7,
                  "Low"
                ],
                [
                  "Zepto",
                  4.2,
                  "High"
                ],
                [
                  "Swiggy Instamart",
                  4.3,
                  "High"
                ],
                [
                  "Blinkit",
                  2.6,
                  "Low"
                ],
                [
                  "Zepto",
                  2.2,
                  "Low"
                ],
                [
                  "JioMart",
                  1.9,
                  "Low"
                ],
                [
                  "Zepto",
                  3.7,
                  "Medium"
                ],
                [
                  "Blinkit",
                  1.2,
                  "Low"
                ],
                [
                  "Zepto",
                  1.1,
                  "Low"
                ],
                [
                  "Blinkit",
                  4.4,
                  "High"
                ],
                [
                  "JioMart",
                  1.4,
                  "Low"
                ],
                [
                  "JioMart",
                  3.4,
                  "Medium"
                ],
                [
                  "JioMart",
                  3.7,
                  "Medium"
                ],
                [
                  "Swiggy Instamart",
                  3.3,
                  "Medium"
                ],
                [
                  "Blinkit",
                  4.1,
                  "High"
                ],
                [
                  "Zepto",
                  2.6,
                  "Low"
                ],
                [
                  "Swiggy Instamart",
                  2.1,
                  "Low"
                ],
                [
                  "Zepto",
                  2.1,
                  "Low"
                ],
                [
                  "Zepto",
                  4.4,
                  "High"
                ],
                [
                  "Swiggy Instamart",
                  3.1,
                  "Medium"
                ],
                [
                  "Blinkit",
                  4.8,
                  "High"
                ],
                [
                  "Blinkit",
                  2.3,
                  "Low"
                ],
                [
                  "Blinkit",
                  3,
                  "Medium"
                ],
                [
                  "Blinkit",
                  3.6,
                  "Medium"
                ],
                [
                  "Zepto",
                  4.3,
                  "High"
                ],
                [
                  "Swiggy Instamart",
                  1.5,
                  "Low"
                ],
                [
                  "Zepto",
                  4.8,
                  "High"
                ],
                [
                  "Blinkit",
                  3.2,
                  "Medium"
                ],
                [
                  "JioMart",
                  3.3,
                  "Medium"
                ],
                [
                  "Blinkit",
                  3.9,
                  "Medium"
                ],
                [
                  "Blinkit",
                  2.1,
                  "Low"
                ],
                [
                  "Blinkit",
                  3.7,
                  "Medium"
                ],
                [
                  "Blinkit",
                  2.8,
                  "Low"
                ],
                [
                  "Swiggy Instamart",
                  1.1,
                  "Low"
                ],
                [
                  "JioMart",
                  2.3,
                  "Low"
                ],
                [
                  "JioMart",
                  2.9,
                  "Low"
                ],
                [
                  "Blinkit",
                  3.1,
                  "Medium"
                ],
                [
                  "Swiggy Instamart",
                  4.3,
                  "High"
                ],
                [
                  "JioMart",
                  2.7,
                  "Low"
                ],
                [
                  "Swiggy Instamart",
                  3.3,
                  "Medium"
                ],
                [
                  "Swiggy Instamart",
                  2.8,
                  "Low"
                ],
                [
                  "Blinkit",
                  3.7,
                  "Medium"
                ],
                [
                  "Blinkit",
                  3.4,
                  "Medium"
                ],
                [
                  "JioMart",
                  1.2,
                  "Low"
                ],
                [
                  "Swiggy Instamart",
                  4.3,
                  "High"
                ],
                [
                  "Zepto",
                  4.2,
                  "High"
                ],
                [
                  "JioMart",
                  4.7,
                  "High"
                ],
                [
                  "Swiggy Instamart",
                  4.2,
                  "High"
                ],
                [
                  "Swiggy Instamart",
                  4.1,
                  "High"
                ],
                [
                  "Swiggy Instamart",
                  3.6,
                  "Medium"
                ],
                [
                  "Swiggy Instamart",
                  4.8,
                  "High"
                ],
                [
                  "Swiggy Instamart",
                  1.8,
                  "Low"
                ],
                [
                  "JioMart",
                  3.8,
                  "Medium"
                ],
                [
                  "Zepto",
                  2.6,
                  "Low"
                ],
                [
                  "Blinkit",
                  1.1,
                  "Low"
                ],
                [
                  "Zepto",
                  3.6,
                  "Medium"
                ],
                [
                  "Zepto",
                  4.9,
                  "High"
                ],
                [
                  "Swiggy Instamart",
                  4.4,
                  "High"
                ],
                [
                  "JioMart",
                  4.1,
                  "High"
                ],
                [
                  "Zepto",
                  1.8,
                  "Low"
                ],
                [
                  "Swiggy Instamart",
                  3.7,
                  "Medium"
                ],
                [
                  "Swiggy Instamart",
                  4.7,
                  "High"
                ],
                [
                  "JioMart",
                  1.6,
                  "Low"
                ],
                [
                  "Swiggy Instamart",
                  4.7,
                  "High"
                ],
                [
                  "JioMart",
                  3.8,
                  "Medium"
                ],
                [
                  "Swiggy Instamart",
                  4.6,
                  "High"
                ],
                [
                  "Swiggy Instamart",
                  1.3,
                  "Low"
                ],
                [
                  "JioMart",
                  2.2,
                  "Low"
                ],
                [
                  "Swiggy Instamart",
                  3.4,
                  "Medium"
                ],
                [
                  "JioMart",
                  3.3,
                  "Medium"
                ],
                [
                  "Blinkit",
                  4.6,
                  "High"
                ],
                [
                  "Zepto",
                  2.7,
                  "Low"
                ],
                [
                  "Swiggy Instamart",
                  3.7,
                  "Medium"
                ],
                [
                  "Zepto",
                  1.1,
                  "Low"
                ],
                [
                  "JioMart",
                  1,
                  "Low"
                ],
                [
                  "Blinkit",
                  3.8,
                  "Medium"
                ],
                [
                  "Swiggy Instamart",
                  1.8,
                  "Low"
                ],
                [
                  "JioMart",
                  3.4,
                  "Medium"
                ],
                [
                  "Zepto",
                  2.7,
                  "Low"
                ],
                [
                  "JioMart",
                  4,
                  "Medium"
                ],
                [
                  "Blinkit",
                  1.2,
                  "Low"
                ],
                [
                  "Blinkit",
                  4.5,
                  "High"
                ],
                [
                  "Zepto",
                  4.3,
                  "High"
                ],
                [
                  "Zepto",
                  1.3,
                  "Low"
                ],
                [
                  "Blinkit",
                  3.3,
                  "Medium"
                ],
                [
                  "Blinkit",
                  4.1,
                  "High"
                ],
                [
                  "Blinkit",
                  3.1,
                  "Medium"
                ],
                [
                  "JioMart",
                  2.7,
                  "Low"
                ],
                [
                  "Zepto",
                  3.2,
                  "Medium"
                ],
                [
                  "JioMart",
                  2.3,
                  "Low"
                ],
                [
                  "Zepto",
                  1.3,
                  "Low"
                ],
                [
                  "JioMart",
                  1.7,
                  "Low"
                ],
                [
                  "Blinkit",
                  1.1,
                  "Low"
                ],
                [
                  "JioMart",
                  1.2,
                  "Low"
                ],
                [
                  "Blinkit",
                  4.6,
                  "High"
                ],
                [
                  "Blinkit",
                  3.6,
                  "Medium"
                ],
                [
                  "JioMart",
                  1.7,
                  "Low"
                ],
                [
                  "Swiggy Instamart",
                  1.1,
                  "Low"
                ],
                [
                  "Zepto",
                  4.8,
                  "High"
                ],
                [
                  "Blinkit",
                  2.1,
                  "Low"
                ],
                [
                  "JioMart",
                  1.7,
                  "Low"
                ],
                [
                  "Blinkit",
                  3.7,
                  "Medium"
                ],
                [
                  "Blinkit",
                  2.5,
                  "Low"
                ],
                [
                  "Swiggy Instamart",
                  1.7,
                  "Low"
                ],
                [
                  "Blinkit",
                  4,
                  "Medium"
                ],
                [
                  "Swiggy Instamart",
                  3.8,
                  "Medium"
                ],
                [
                  "Blinkit",
                  2.7,
                  "Low"
                ],
                [
                  "JioMart",
                  2.1,
                  "Low"
                ],
                [
                  "Swiggy Instamart",
                  1.3,
                  "Low"
                ],
                [
                  "Zepto",
                  3.1,
                  "Medium"
                ],
                [
                  "Swiggy Instamart",
                  4.2,
                  "High"
                ],
                [
                  "JioMart",
                  1.5,
                  "Low"
                ],
                [
                  "Blinkit",
                  3,
                  "Medium"
                ],
                [
                  "Zepto",
                  2.9,
                  "Low"
                ],
                [
                  "Blinkit",
                  4.3,
                  "High"
                ],
                [
                  "Zepto",
                  1.7,
                  "Low"
                ],
                [
                  "Zepto",
                  1.1,
                  "Low"
                ],
                [
                  "Blinkit",
                  3.3,
                  "Medium"
                ],
                [
                  "Zepto",
                  2.7,
                  "Low"
                ],
                [
                  "Zepto",
                  1.3,
                  "Low"
                ],
                [
                  "Blinkit",
                  2.9,
                  "Low"
                ],
                [
                  "Zepto",
                  2.3,
                  "Low"
                ],
                [
                  "Swiggy Instamart",
                  2.5,
                  "Low"
                ],
                [
                  "JioMart",
                  2.5,
                  "Low"
                ],
                [
                  "Swiggy Instamart",
                  1.6,
                  "Low"
                ],
                [
                  "Blinkit",
                  4.5,
                  "High"
                ],
                [
                  "Zepto",
                  3,
                  "Medium"
                ],
                [
                  "Blinkit",
                  3.8,
                  "Medium"
                ],
                [
                  "Blinkit",
                  4.7,
                  "High"
                ],
                [
                  "Zepto",
                  5,
                  "High"
                ],
                [
                  "Blinkit",
                  5,
                  "High"
                ],
                [
                  "Swiggy Instamart",
                  3.8,
                  "Medium"
                ],
                [
                  "Blinkit",
                  3.6,
                  "Medium"
                ],
                [
                  "JioMart",
                  5,
                  "High"
                ],
                [
                  "Blinkit",
                  4.7,
                  "High"
                ],
                [
                  "Zepto",
                  1.3,
                  "Low"
                ],
                [
                  "Swiggy Instamart",
                  4.5,
                  "High"
                ],
                [
                  "Swiggy Instamart",
                  3,
                  "Medium"
                ],
                [
                  "Swiggy Instamart",
                  3.2,
                  "Medium"
                ],
                [
                  "Zepto",
                  3.2,
                  "Medium"
                ],
                [
                  "JioMart",
                  1.2,
                  "Low"
                ],
                [
                  "Swiggy Instamart",
                  3.8,
                  "Medium"
                ],
                [
                  "Blinkit",
                  3,
                  "Medium"
                ],
                [
                  "Blinkit",
                  3.1,
                  "Medium"
                ],
                [
                  "Blinkit",
                  1.1,
                  "Low"
                ],
                [
                  "JioMart",
                  4.2,
                  "High"
                ],
                [
                  "JioMart",
                  2.6,
                  "Low"
                ],
                [
                  "Swiggy Instamart",
                  1.5,
                  "Low"
                ],
                [
                  "Zepto",
                  1.5,
                  "Low"
                ],
                [
                  "Swiggy Instamart",
                  4.9,
                  "High"
                ],
                [
                  "Swiggy Instamart",
                  2.2,
                  "Low"
                ],
                [
                  "Swiggy Instamart",
                  1.8,
                  "Low"
                ],
                [
                  "Blinkit",
                  1.4,
                  "Low"
                ],
                [
                  "JioMart",
                  2.8,
                  "Low"
                ],
                [
                  "JioMart",
                  4.8,
                  "High"
                ],
                [
                  "Blinkit",
                  2.4,
                  "Low"
                ],
                [
                  "Swiggy Instamart",
                  1.2,
                  "Low"
                ],
                [
                  "Blinkit",
                  3.8,
                  "Medium"
                ],
                [
                  "Zepto",
                  1.7,
                  "Low"
                ],
                [
                  "Swiggy Instamart",
                  3.3,
                  "Medium"
                ],
                [
                  "Swiggy Instamart",
                  3.8,
                  "Medium"
                ],
                [
                  "Swiggy Instamart",
                  3,
                  "Medium"
                ],
                [
                  "JioMart",
                  2,
                  "Low"
                ],
                [
                  "JioMart",
                  4.1,
                  "High"
                ],
                [
                  "JioMart",
                  2.8,
                  "Low"
                ],
                [
                  "JioMart",
                  2.4,
                  "Low"
                ],
                [
                  "Swiggy Instamart",
                  3.3,
                  "Medium"
                ],
                [
                  "Zepto",
                  4.3,
                  "High"
                ],
                [
                  "Blinkit",
                  2.7,
                  "Low"
                ],
                [
                  "Swiggy Instamart",
                  4,
                  "Medium"
                ],
                [
                  "Zepto",
                  1.6,
                  "Low"
                ],
                [
                  "Swiggy Instamart",
                  1.8,
                  "Low"
                ],
                [
                  "Swiggy Instamart",
                  4.2,
                  "High"
                ],
                [
                  "JioMart",
                  1.7,
                  "Low"
                ],
                [
                  "Zepto",
                  3.7,
                  "Medium"
                ],
                [
                  "JioMart",
                  3.5,
                  "Medium"
                ],
                [
                  "Zepto",
                  4.5,
                  "High"
                ],
                [
                  "Zepto",
                  1.2,
                  "Low"
                ],
                [
                  "JioMart",
                  2.3,
                  "Low"
                ],
                [
                  "Zepto",
                  3,
                  "Medium"
                ],
                [
                  "Blinkit",
                  4.1,
                  "High"
                ],
                [
                  "Swiggy Instamart",
                  4.5,
                  "High"
                ],
                [
                  "JioMart",
                  3.2,
                  "Medium"
                ],
                [
                  "Blinkit",
                  3.3,
                  "Medium"
                ],
                [
                  "Zepto",
                  2.3,
                  "Low"
                ],
                [
                  "Blinkit",
                  1,
                  "Low"
                ],
                [
                  "Blinkit",
                  5,
                  "High"
                ],
                [
                  "Blinkit",
                  2.3,
                  "Low"
                ],
                [
                  "JioMart",
                  1.9,
                  "Low"
                ],
                [
                  "JioMart",
                  4.3,
                  "High"
                ],
                [
                  "Swiggy Instamart",
                  4.5,
                  "High"
                ],
                [
                  "Zepto",
                  3.3,
                  "Medium"
                ],
                [
                  "Zepto",
                  4.6,
                  "High"
                ],
                [
                  "Blinkit",
                  2,
                  "Low"
                ],
                [
                  "Blinkit",
                  3.4,
                  "Medium"
                ],
                [
                  "Swiggy Instamart",
                  1.3,
                  "Low"
                ],
                [
                  "Blinkit",
                  3.6,
                  "Medium"
                ],
                [
                  "Swiggy Instamart",
                  4.4,
                  "High"
                ],
                [
                  "Zepto",
                  1.7,
                  "Low"
                ],
                [
                  "Zepto",
                  4.5,
                  "High"
                ],
                [
                  "JioMart",
                  1.6,
                  "Low"
                ],
                [
                  "Blinkit",
                  2.5,
                  "Low"
                ],
                [
                  "Blinkit",
                  2,
                  "Low"
                ],
                [
                  "Zepto",
                  3.9,
                  "Medium"
                ],
                [
                  "JioMart",
                  2.3,
                  "Low"
                ],
                [
                  "Zepto",
                  3.3,
                  "Medium"
                ],
                [
                  "Swiggy Instamart",
                  4.4,
                  "High"
                ],
                [
                  "Zepto",
                  2.4,
                  "Low"
                ],
                [
                  "Swiggy Instamart",
                  2.9,
                  "Low"
                ],
                [
                  "Zepto",
                  1.7,
                  "Low"
                ],
                [
                  "Blinkit",
                  1.1,
                  "Low"
                ],
                [
                  "Blinkit",
                  1.6,
                  "Low"
                ],
                [
                  "Swiggy Instamart",
                  2,
                  "Low"
                ],
                [
                  "JioMart",
                  1.1,
                  "Low"
                ],
                [
                  "JioMart",
                  4.2,
                  "High"
                ],
                [
                  "Swiggy Instamart",
                  4.5,
                  "High"
                ],
                [
                  "Zepto",
                  4.4,
                  "High"
                ],
                [
                  "Swiggy Instamart",
                  2.6,
                  "Low"
                ],
                [
                  "Swiggy Instamart",
                  3.9,
                  "Medium"
                ],
                [
                  "Blinkit",
                  4.5,
                  "High"
                ],
                [
                  "Blinkit",
                  2.8,
                  "Low"
                ],
                [
                  "JioMart",
                  4.2,
                  "High"
                ],
                [
                  "JioMart",
                  2.9,
                  "Low"
                ],
                [
                  "Zepto",
                  3.4,
                  "Medium"
                ],
                [
                  "Swiggy Instamart",
                  2.9,
                  "Low"
                ],
                [
                  "JioMart",
                  4.2,
                  "High"
                ],
                [
                  "Blinkit",
                  4.1,
                  "High"
                ],
                [
                  "JioMart",
                  3.7,
                  "Medium"
                ],
                [
                  "Zepto",
                  4.8,
                  "High"
                ],
                [
                  "Swiggy Instamart",
                  3.6,
                  "Medium"
                ],
                [
                  "JioMart",
                  1.3,
                  "Low"
                ],
                [
                  "Swiggy Instamart",
                  4.7,
                  "High"
                ],
                [
                  "Blinkit",
                  2.1,
                  "Low"
                ],
                [
                  "Zepto",
                  2,
                  "Low"
                ],
                [
                  "JioMart",
                  3.4,
                  "Medium"
                ],
                [
                  "Zepto",
                  4.5,
                  "High"
                ],
                [
                  "JioMart",
                  4.4,
                  "High"
                ],
                [
                  "Swiggy Instamart",
                  1.5,
                  "Low"
                ],
                [
                  "Swiggy Instamart",
                  3.9,
                  "Medium"
                ],
                [
                  "Swiggy Instamart",
                  1.6,
                  "Low"
                ],
                [
                  "Blinkit",
                  1.6,
                  "Low"
                ],
                [
                  "Blinkit",
                  4.8,
                  "High"
                ],
                [
                  "Blinkit",
                  2.3,
                  "Low"
                ],
                [
                  "Swiggy Instamart",
                  4.4,
                  "High"
                ],
                [
                  "Blinkit",
                  4,
                  "Medium"
                ],
                [
                  "Swiggy Instamart",
                  3.4,
                  "Medium"
                ],
                [
                  "Blinkit",
                  4.1,
                  "High"
                ],
                [
                  "JioMart",
                  1.3,
                  "Low"
                ],
                [
                  "Zepto",
                  1.9,
                  "Low"
                ],
                [
                  "JioMart",
                  3.5,
                  "Medium"
                ],
                [
                  "Zepto",
                  2.1,
                  "Low"
                ],
                [
                  "Swiggy Instamart",
                  2,
                  "Low"
                ],
                [
                  "JioMart",
                  4.2,
                  "High"
                ],
                [
                  "Zepto",
                  3.1,
                  "Medium"
                ],
                [
                  "JioMart",
                  4.6,
                  "High"
                ],
                [
                  "Blinkit",
                  2.8,
                  "Low"
                ],
                [
                  "Zepto",
                  1.4,
                  "Low"
                ],
                [
                  "Blinkit",
                  1.3,
                  "Low"
                ],
                [
                  "Zepto",
                  4.3,
                  "High"
                ],
                [
                  "Zepto",
                  2.2,
                  "Low"
                ],
                [
                  "Swiggy Instamart",
                  4.3,
                  "High"
                ],
                [
                  "Blinkit",
                  1.2,
                  "Low"
                ],
                [
                  "Zepto",
                  2.7,
                  "Low"
                ],
                [
                  "JioMart",
                  3.3,
                  "Medium"
                ],
                [
                  "Zepto",
                  4.4,
                  "High"
                ],
                [
                  "Zepto",
                  2.4,
                  "Low"
                ],
                [
                  "Swiggy Instamart",
                  1.6,
                  "Low"
                ],
                [
                  "Swiggy Instamart",
                  1.7,
                  "Low"
                ],
                [
                  "Zepto",
                  2.4,
                  "Low"
                ],
                [
                  "Swiggy Instamart",
                  4.5,
                  "High"
                ],
                [
                  "Swiggy Instamart",
                  4.7,
                  "High"
                ],
                [
                  "Blinkit",
                  2.1,
                  "Low"
                ],
                [
                  "Swiggy Instamart",
                  1.8,
                  "Low"
                ],
                [
                  "JioMart",
                  3.7,
                  "Medium"
                ],
                [
                  "JioMart",
                  2.1,
                  "Low"
                ],
                [
                  "JioMart",
                  1.6,
                  "Low"
                ],
                [
                  "Zepto",
                  3.4,
                  "Medium"
                ],
                [
                  "JioMart",
                  1.6,
                  "Low"
                ],
                [
                  "Zepto",
                  2.4,
                  "Low"
                ],
                [
                  "JioMart",
                  3.6,
                  "Medium"
                ],
                [
                  "Swiggy Instamart",
                  4.8,
                  "High"
                ],
                [
                  "Zepto",
                  2,
                  "Low"
                ],
                [
                  "JioMart",
                  3.4,
                  "Medium"
                ],
                [
                  "Blinkit",
                  2.7,
                  "Low"
                ],
                [
                  "JioMart",
                  3.3,
                  "Medium"
                ],
                [
                  "Blinkit",
                  3,
                  "Medium"
                ],
                [
                  "Blinkit",
                  1,
                  "Low"
                ],
                [
                  "JioMart",
                  4.1,
                  "High"
                ],
                [
                  "Zepto",
                  1.2,
                  "Low"
                ],
                [
                  "JioMart",
                  3.7,
                  "Medium"
                ],
                [
                  "Blinkit",
                  3,
                  "Medium"
                ],
                [
                  "Swiggy Instamart",
                  3.9,
                  "Medium"
                ],
                [
                  "Zepto",
                  1.5,
                  "Low"
                ],
                [
                  "Blinkit",
                  4.5,
                  "High"
                ],
                [
                  "Swiggy Instamart",
                  1.8,
                  "Low"
                ],
                [
                  "Zepto",
                  4.9,
                  "High"
                ],
                [
                  "Swiggy Instamart",
                  1.2,
                  "Low"
                ],
                [
                  "Blinkit",
                  1.7,
                  "Low"
                ],
                [
                  "JioMart",
                  1.3,
                  "Low"
                ],
                [
                  "JioMart",
                  2.7,
                  "Low"
                ],
                [
                  "Zepto",
                  4.5,
                  "High"
                ],
                [
                  "Zepto",
                  2.8,
                  "Low"
                ],
                [
                  "Zepto",
                  3.6,
                  "Medium"
                ],
                [
                  "Blinkit",
                  1.9,
                  "Low"
                ],
                [
                  "Swiggy Instamart",
                  3.5,
                  "Medium"
                ],
                [
                  "Blinkit",
                  1.7,
                  "Low"
                ],
                [
                  "Zepto",
                  3.8,
                  "Medium"
                ],
                [
                  "JioMart",
                  3.6,
                  "Medium"
                ],
                [
                  "JioMart",
                  4.8,
                  "High"
                ],
                [
                  "Blinkit",
                  2.5,
                  "Low"
                ],
                [
                  "Blinkit",
                  2.6,
                  "Low"
                ],
                [
                  "JioMart",
                  3.8,
                  "Medium"
                ],
                [
                  "Zepto",
                  4.2,
                  "High"
                ],
                [
                  "JioMart",
                  4,
                  "Medium"
                ],
                [
                  "Zepto",
                  4.8,
                  "High"
                ],
                [
                  "JioMart",
                  3.1,
                  "Medium"
                ],
                [
                  "Blinkit",
                  2.2,
                  "Low"
                ],
                [
                  "JioMart",
                  2.7,
                  "Low"
                ],
                [
                  "Blinkit",
                  3.4,
                  "Medium"
                ],
                [
                  "JioMart",
                  3.2,
                  "Medium"
                ],
                [
                  "Blinkit",
                  4.9,
                  "High"
                ],
                [
                  "Swiggy Instamart",
                  4.7,
                  "High"
                ],
                [
                  "Zepto",
                  3.1,
                  "Medium"
                ],
                [
                  "Blinkit",
                  3,
                  "Medium"
                ],
                [
                  "Zepto",
                  2.8,
                  "Low"
                ],
                [
                  "Zepto",
                  1.4,
                  "Low"
                ],
                [
                  "Swiggy Instamart",
                  5,
                  "High"
                ],
                [
                  "JioMart",
                  5,
                  "High"
                ],
                [
                  "JioMart",
                  2.6,
                  "Low"
                ],
                [
                  "Swiggy Instamart",
                  1,
                  "Low"
                ],
                [
                  "Swiggy Instamart",
                  4.8,
                  "High"
                ],
                [
                  "Blinkit",
                  3.7,
                  "Medium"
                ],
                [
                  "Zepto",
                  2.8,
                  "Low"
                ],
                [
                  "Blinkit",
                  2.3,
                  "Low"
                ],
                [
                  "Zepto",
                  1.9,
                  "Low"
                ],
                [
                  "Swiggy Instamart",
                  2.2,
                  "Low"
                ],
                [
                  "Zepto",
                  4.4,
                  "High"
                ],
                [
                  "JioMart",
                  3.7,
                  "Medium"
                ],
                [
                  "JioMart",
                  2.1,
                  "Low"
                ],
                [
                  "Blinkit",
                  1.7,
                  "Low"
                ],
                [
                  "JioMart",
                  2.9,
                  "Low"
                ],
                [
                  "JioMart",
                  2.5,
                  "Low"
                ],
                [
                  "JioMart",
                  4,
                  "Medium"
                ],
                [
                  "Blinkit",
                  3.9,
                  "Medium"
                ],
                [
                  "Zepto",
                  2.7,
                  "Low"
                ],
                [
                  "Zepto",
                  1.3,
                  "Low"
                ],
                [
                  "Blinkit",
                  2.5,
                  "Low"
                ],
                [
                  "Zepto",
                  1.5,
                  "Low"
                ],
                [
                  "JioMart",
                  4.4,
                  "High"
                ],
                [
                  "Swiggy Instamart",
                  3.2,
                  "Medium"
                ],
                [
                  "Swiggy Instamart",
                  2,
                  "Low"
                ],
                [
                  "JioMart",
                  2.7,
                  "Low"
                ],
                [
                  "JioMart",
                  4.3,
                  "High"
                ],
                [
                  "Blinkit",
                  3.1,
                  "Medium"
                ],
                [
                  "Zepto",
                  3,
                  "Medium"
                ],
                [
                  "Blinkit",
                  4.8,
                  "High"
                ],
                [
                  "Blinkit",
                  4.7,
                  "High"
                ],
                [
                  "Zepto",
                  4.4,
                  "High"
                ],
                [
                  "Blinkit",
                  3.2,
                  "Medium"
                ],
                [
                  "Zepto",
                  3.7,
                  "Medium"
                ],
                [
                  "Zepto",
                  4.7,
                  "High"
                ],
                [
                  "Zepto",
                  4.2,
                  "High"
                ],
                [
                  "Swiggy Instamart",
                  1,
                  "Low"
                ],
                [
                  "Swiggy Instamart",
                  3.3,
                  "Medium"
                ],
                [
                  "Blinkit",
                  3.1,
                  "Medium"
                ],
                [
                  "Swiggy Instamart",
                  4.5,
                  "High"
                ],
                [
                  "Zepto",
                  4.2,
                  "High"
                ],
                [
                  "Blinkit",
                  3.5,
                  "Medium"
                ],
                [
                  "Swiggy Instamart",
                  3.3,
                  "Medium"
                ],
                [
                  "JioMart",
                  3.5,
                  "Medium"
                ],
                [
                  "Swiggy Instamart",
                  1.3,
                  "Low"
                ],
                [
                  "Zepto",
                  2.5,
                  "Low"
                ],
                [
                  "Zepto",
                  1.4,
                  "Low"
                ],
                [
                  "JioMart",
                  3.6,
                  "Medium"
                ],
                [
                  "Swiggy Instamart",
                  2.7,
                  "Low"
                ],
                [
                  "Blinkit",
                  2.9,
                  "Low"
                ],
                [
                  "JioMart",
                  4.5,
                  "High"
                ],
                [
                  "Blinkit",
                  1.8,
                  "Low"
                ],
                [
                  "JioMart",
                  3.5,
                  "Medium"
                ],
                [
                  "JioMart",
                  1.6,
                  "Low"
                ],
                [
                  "Zepto",
                  4.4,
                  "High"
                ],
                [
                  "JioMart",
                  4,
                  "Medium"
                ],
                [
                  "Zepto",
                  1.7,
                  "Low"
                ],
                [
                  "Blinkit",
                  4.2,
                  "High"
                ],
                [
                  "Blinkit",
                  4.3,
                  "High"
                ],
                [
                  "JioMart",
                  1.8,
                  "Low"
                ],
                [
                  "Swiggy Instamart",
                  3,
                  "Medium"
                ],
                [
                  "Swiggy Instamart",
                  1.6,
                  "Low"
                ],
                [
                  "JioMart",
                  3.3,
                  "Medium"
                ],
                [
                  "JioMart",
                  2.5,
                  "Low"
                ],
                [
                  "Blinkit",
                  1.5,
                  "Low"
                ],
                [
                  "Blinkit",
                  2.7,
                  "Low"
                ],
                [
                  "JioMart",
                  3.2,
                  "Medium"
                ],
                [
                  "JioMart",
                  2.6,
                  "Low"
                ],
                [
                  "JioMart",
                  1.3,
                  "Low"
                ],
                [
                  "JioMart",
                  3.3,
                  "Medium"
                ],
                [
                  "Swiggy Instamart",
                  4.7,
                  "High"
                ],
                [
                  "Zepto",
                  1.9,
                  "Low"
                ],
                [
                  "JioMart",
                  3.2,
                  "Medium"
                ],
                [
                  "Blinkit",
                  2.5,
                  "Low"
                ],
                [
                  "Blinkit",
                  1.5,
                  "Low"
                ],
                [
                  "Blinkit",
                  4.7,
                  "High"
                ],
                [
                  "Zepto",
                  2.6,
                  "Low"
                ],
                [
                  "Blinkit",
                  2.2,
                  "Low"
                ],
                [
                  "Blinkit",
                  3,
                  "Medium"
                ],
                [
                  "Blinkit",
                  1.3,
                  "Low"
                ],
                [
                  "Zepto",
                  4.9,
                  "High"
                ],
                [
                  "Zepto",
                  3,
                  "Medium"
                ],
                [
                  "Blinkit",
                  4.2,
                  "High"
                ],
                [
                  "Swiggy Instamart",
                  1.7,
                  "Low"
                ],
                [
                  "Swiggy Instamart",
                  3.7,
                  "Medium"
                ],
                [
                  "JioMart",
                  2.8,
                  "Low"
                ],
                [
                  "JioMart",
                  2.9,
                  "Low"
                ],
                [
                  "JioMart",
                  1.4,
                  "Low"
                ],
                [
                  "JioMart",
                  1.1,
                  "Low"
                ],
                [
                  "Zepto",
                  2.4,
                  "Low"
                ],
                [
                  "Swiggy Instamart",
                  2.4,
                  "Low"
                ],
                [
                  "JioMart",
                  1.7,
                  "Low"
                ],
                [
                  "Swiggy Instamart",
                  4.9,
                  "High"
                ],
                [
                  "JioMart",
                  2.7,
                  "Low"
                ],
                [
                  "Blinkit",
                  3.8,
                  "Medium"
                ],
                [
                  "JioMart",
                  1.7,
                  "Low"
                ],
                [
                  "Blinkit",
                  2,
                  "Low"
                ],
                [
                  "Zepto",
                  2.2,
                  "Low"
                ],
                [
                  "Blinkit",
                  4,
                  "Medium"
                ],
                [
                  "JioMart",
                  2.3,
                  "Low"
                ],
                [
                  "JioMart",
                  4.3,
                  "High"
                ],
                [
                  "JioMart",
                  4.1,
                  "High"
                ],
                [
                  "Blinkit",
                  1.6,
                  "Low"
                ],
                [
                  "Zepto",
                  3.6,
                  "Medium"
                ],
                [
                  "Zepto",
                  1.7,
                  "Low"
                ],
                [
                  "Zepto",
                  3.3,
                  "Medium"
                ],
                [
                  "Swiggy Instamart",
                  4.8,
                  "High"
                ],
                [
                  "Swiggy Instamart",
                  3.2,
                  "Medium"
                ],
                [
                  "Zepto",
                  2.9,
                  "Low"
                ],
                [
                  "Blinkit",
                  2.5,
                  "Low"
                ],
                [
                  "Zepto",
                  1.2,
                  "Low"
                ],
                [
                  "Zepto",
                  4.7,
                  "High"
                ],
                [
                  "JioMart",
                  4.8,
                  "High"
                ],
                [
                  "JioMart",
                  4.5,
                  "High"
                ],
                [
                  "Zepto",
                  4.9,
                  "High"
                ],
                [
                  "Swiggy Instamart",
                  3.5,
                  "Medium"
                ],
                [
                  "JioMart",
                  2.1,
                  "Low"
                ],
                [
                  "JioMart",
                  3.9,
                  "Medium"
                ],
                [
                  "JioMart",
                  2.5,
                  "Low"
                ],
                [
                  "Blinkit",
                  4.1,
                  "High"
                ],
                [
                  "JioMart",
                  2.6,
                  "Low"
                ],
                [
                  "Zepto",
                  4.9,
                  "High"
                ],
                [
                  "Swiggy Instamart",
                  4.6,
                  "High"
                ],
                [
                  "Zepto",
                  3.3,
                  "Medium"
                ],
                [
                  "JioMart",
                  2.2,
                  "Low"
                ],
                [
                  "Zepto",
                  1.7,
                  "Low"
                ],
                [
                  "Blinkit",
                  1.7,
                  "Low"
                ],
                [
                  "Blinkit",
                  4.6,
                  "High"
                ],
                [
                  "Blinkit",
                  1.6,
                  "Low"
                ],
                [
                  "JioMart",
                  2.4,
                  "Low"
                ],
                [
                  "Zepto",
                  2.6,
                  "Low"
                ],
                [
                  "Swiggy Instamart",
                  3.1,
                  "Medium"
                ],
                [
                  "Blinkit",
                  2.4,
                  "Low"
                ],
                [
                  "JioMart",
                  4,
                  "Medium"
                ],
                [
                  "Swiggy Instamart",
                  3.5,
                  "Medium"
                ],
                [
                  "Zepto",
                  1.8,
                  "Low"
                ],
                [
                  "JioMart",
                  4.4,
                  "High"
                ],
                [
                  "Swiggy Instamart",
                  1.8,
                  "Low"
                ],
                [
                  "Swiggy Instamart",
                  4.7,
                  "High"
                ],
                [
                  "JioMart",
                  4.5,
                  "High"
                ],
                [
                  "Blinkit",
                  1.8,
                  "Low"
                ],
                [
                  "JioMart",
                  2.1,
                  "Low"
                ],
                [
                  "JioMart",
                  3.4,
                  "Medium"
                ],
                [
                  "Blinkit",
                  1.8,
                  "Low"
                ],
                [
                  "Swiggy Instamart",
                  4.1,
                  "High"
                ],
                [
                  "Zepto",
                  4.2,
                  "High"
                ],
                [
                  "JioMart",
                  1,
                  "Low"
                ],
                [
                  "Swiggy Instamart",
                  2.7,
                  "Low"
                ],
                [
                  "Swiggy Instamart",
                  2.3,
                  "Low"
                ],
                [
                  "Blinkit",
                  1,
                  "Low"
                ],
                [
                  "Blinkit",
                  3.2,
                  "Medium"
                ],
                [
                  "Zepto",
                  4.9,
                  "High"
                ],
                [
                  "Swiggy Instamart",
                  1.6,
                  "Low"
                ],
                [
                  "JioMart",
                  1.8,
                  "Low"
                ],
                [
                  "JioMart",
                  4.7,
                  "High"
                ],
                [
                  "JioMart",
                  3.8,
                  "Medium"
                ],
                [
                  "Swiggy Instamart",
                  4.7,
                  "High"
                ],
                [
                  "Swiggy Instamart",
                  2.8,
                  "Low"
                ],
                [
                  "Swiggy Instamart",
                  3.5,
                  "Medium"
                ],
                [
                  "JioMart",
                  1.3,
                  "Low"
                ],
                [
                  "Swiggy Instamart",
                  1.3,
                  "Low"
                ],
                [
                  "Zepto",
                  1.3,
                  "Low"
                ],
                [
                  "Swiggy Instamart",
                  1.9,
                  "Low"
                ],
                [
                  "Swiggy Instamart",
                  1.8,
                  "Low"
                ],
                [
                  "Swiggy Instamart",
                  2.5,
                  "Low"
                ],
                [
                  "Swiggy Instamart",
                  4.4,
                  "High"
                ],
                [
                  "Zepto",
                  4,
                  "Medium"
                ],
                [
                  "Swiggy Instamart",
                  3.4,
                  "Medium"
                ],
                [
                  "Blinkit",
                  3.1,
                  "Medium"
                ],
                [
                  "JioMart",
                  3.3,
                  "Medium"
                ],
                [
                  "Blinkit",
                  2.1,
                  "Low"
                ],
                [
                  "Blinkit",
                  4.4,
                  "High"
                ],
                [
                  "Zepto",
                  1.5,
                  "Low"
                ],
                [
                  "JioMart",
                  3.4,
                  "Medium"
                ],
                [
                  "JioMart",
                  4,
                  "Medium"
                ],
                [
                  "Zepto",
                  2.3,
                  "Low"
                ],
                [
                  "Blinkit",
                  4.6,
                  "High"
                ],
                [
                  "Zepto",
                  2.1,
                  "Low"
                ],
                [
                  "JioMart",
                  3.4,
                  "Medium"
                ],
                [
                  "JioMart",
                  1.1,
                  "Low"
                ],
                [
                  "Blinkit",
                  3.3,
                  "Medium"
                ],
                [
                  "Swiggy Instamart",
                  3.9,
                  "Medium"
                ],
                [
                  "Zepto",
                  4.3,
                  "High"
                ],
                [
                  "Zepto",
                  1.6,
                  "Low"
                ],
                [
                  "Zepto",
                  2.9,
                  "Low"
                ],
                [
                  "Zepto",
                  3.5,
                  "Medium"
                ],
                [
                  "Zepto",
                  4.9,
                  "High"
                ],
                [
                  "Zepto",
                  3,
                  "Medium"
                ],
                [
                  "JioMart",
                  3.3,
                  "Medium"
                ],
                [
                  "Blinkit",
                  1.5,
                  "Low"
                ],
                [
                  "Blinkit",
                  1.1,
                  "Low"
                ],
                [
                  "Swiggy Instamart",
                  4.4,
                  "High"
                ],
                [
                  "Zepto",
                  4,
                  "Medium"
                ],
                [
                  "Blinkit",
                  3.5,
                  "Medium"
                ],
                [
                  "Swiggy Instamart",
                  2.1,
                  "Low"
                ],
                [
                  "Zepto",
                  2.5,
                  "Low"
                ],
                [
                  "JioMart",
                  3.3,
                  "Medium"
                ],
                [
                  "Swiggy Instamart",
                  1,
                  "Low"
                ],
                [
                  "Swiggy Instamart",
                  1.6,
                  "Low"
                ],
                [
                  "Swiggy Instamart",
                  1.4,
                  "Low"
                ],
                [
                  "JioMart",
                  2.9,
                  "Low"
                ],
                [
                  "Zepto",
                  4.2,
                  "High"
                ],
                [
                  "Zepto",
                  2.6,
                  "Low"
                ],
                [
                  "JioMart",
                  2,
                  "Low"
                ],
                [
                  "Blinkit",
                  3.5,
                  "Medium"
                ],
                [
                  "Blinkit",
                  2.9,
                  "Low"
                ],
                [
                  "JioMart",
                  2.4,
                  "Low"
                ],
                [
                  "Swiggy Instamart",
                  1.4,
                  "Low"
                ],
                [
                  "Blinkit",
                  2.1,
                  "Low"
                ],
                [
                  "Swiggy Instamart",
                  1.3,
                  "Low"
                ],
                [
                  "Zepto",
                  4.1,
                  "High"
                ],
                [
                  "Zepto",
                  1.2,
                  "Low"
                ],
                [
                  "Zepto",
                  4.8,
                  "High"
                ],
                [
                  "JioMart",
                  4.8,
                  "High"
                ],
                [
                  "Zepto",
                  1.2,
                  "Low"
                ],
                [
                  "Zepto",
                  2.7,
                  "Low"
                ],
                [
                  "Blinkit",
                  2.2,
                  "Low"
                ],
                [
                  "JioMart",
                  1.5,
                  "Low"
                ],
                [
                  "JioMart",
                  1.7,
                  "Low"
                ],
                [
                  "Blinkit",
                  1.8,
                  "Low"
                ],
                [
                  "JioMart",
                  2.9,
                  "Low"
                ],
                [
                  "Zepto",
                  3.9,
                  "Medium"
                ],
                [
                  "Zepto",
                  2.5,
                  "Low"
                ],
                [
                  "Zepto",
                  4.4,
                  "High"
                ],
                [
                  "Blinkit",
                  3.7,
                  "Medium"
                ],
                [
                  "JioMart",
                  4.3,
                  "High"
                ],
                [
                  "Swiggy Instamart",
                  3.4,
                  "Medium"
                ],
                [
                  "JioMart",
                  1,
                  "Low"
                ],
                [
                  "Swiggy Instamart",
                  3.2,
                  "Medium"
                ],
                [
                  "Blinkit",
                  1,
                  "Low"
                ],
                [
                  "JioMart",
                  3,
                  "Medium"
                ],
                [
                  "Blinkit",
                  4.9,
                  "High"
                ],
                [
                  "Swiggy Instamart",
                  1.6,
                  "Low"
                ],
                [
                  "Blinkit",
                  3.8,
                  "Medium"
                ],
                [
                  "Zepto",
                  4.3,
                  "High"
                ],
                [
                  "Swiggy Instamart",
                  3.2,
                  "Medium"
                ],
                [
                  "Swiggy Instamart",
                  4.2,
                  "High"
                ],
                [
                  "Swiggy Instamart",
                  3.8,
                  "Medium"
                ],
                [
                  "Swiggy Instamart",
                  1.7,
                  "Low"
                ],
                [
                  "Zepto",
                  5,
                  "High"
                ],
                [
                  "Blinkit",
                  2.6,
                  "Low"
                ],
                [
                  "Blinkit",
                  2.4,
                  "Low"
                ],
                [
                  "JioMart",
                  4.6,
                  "High"
                ],
                [
                  "Blinkit",
                  3.1,
                  "Medium"
                ],
                [
                  "Zepto",
                  2.1,
                  "Low"
                ],
                [
                  "Swiggy Instamart",
                  1.5,
                  "Low"
                ],
                [
                  "Blinkit",
                  1.4,
                  "Low"
                ],
                [
                  "Blinkit",
                  1.1,
                  "Low"
                ],
                [
                  "Blinkit",
                  1.9,
                  "Low"
                ],
                [
                  "Blinkit",
                  3.4,
                  "Medium"
                ],
                [
                  "JioMart",
                  1.8,
                  "Low"
                ],
                [
                  "JioMart",
                  3.4,
                  "Medium"
                ],
                [
                  "Zepto",
                  3.7,
                  "Medium"
                ],
                [
                  "Blinkit",
                  3,
                  "Medium"
                ],
                [
                  "Blinkit",
                  4.2,
                  "High"
                ],
                [
                  "Zepto",
                  1.3,
                  "Low"
                ],
                [
                  "Zepto",
                  4.2,
                  "High"
                ],
                [
                  "Swiggy Instamart",
                  3.2,
                  "Medium"
                ],
                [
                  "Swiggy Instamart",
                  3.6,
                  "Medium"
                ],
                [
                  "Blinkit",
                  3.7,
                  "Medium"
                ],
                [
                  "Zepto",
                  2.8,
                  "Low"
                ],
                [
                  "Zepto",
                  2.3,
                  "Low"
                ],
                [
                  "JioMart",
                  2.1,
                  "Low"
                ],
                [
                  "JioMart",
                  2.9,
                  "Low"
                ],
                [
                  "JioMart",
                  2.9,
                  "Low"
                ],
                [
                  "JioMart",
                  4.1,
                  "High"
                ],
                [
                  "Blinkit",
                  2.1,
                  "Low"
                ],
                [
                  "JioMart",
                  3.4,
                  "Medium"
                ],
                [
                  "Swiggy Instamart",
                  4.2,
                  "High"
                ],
                [
                  "Blinkit",
                  3.6,
                  "Medium"
                ],
                [
                  "Swiggy Instamart",
                  4.3,
                  "High"
                ],
                [
                  "Zepto",
                  3.2,
                  "Medium"
                ],
                [
                  "Blinkit",
                  2.8,
                  "Low"
                ],
                [
                  "Blinkit",
                  2.6,
                  "Low"
                ],
                [
                  "JioMart",
                  2.5,
                  "Low"
                ],
                [
                  "JioMart",
                  4.4,
                  "High"
                ],
                [
                  "Zepto",
                  3.5,
                  "Medium"
                ],
                [
                  "Zepto",
                  1.1,
                  "Low"
                ],
                [
                  "Zepto",
                  2.7,
                  "Low"
                ],
                [
                  "Swiggy Instamart",
                  3.2,
                  "Medium"
                ],
                [
                  "Blinkit",
                  1.1,
                  "Low"
                ],
                [
                  "Swiggy Instamart",
                  2.7,
                  "Low"
                ],
                [
                  "Blinkit",
                  3.1,
                  "Medium"
                ],
                [
                  "Zepto",
                  3.4,
                  "Medium"
                ],
                [
                  "Blinkit",
                  1.4,
                  "Low"
                ],
                [
                  "Swiggy Instamart",
                  4.8,
                  "High"
                ],
                [
                  "JioMart",
                  2.3,
                  "Low"
                ],
                [
                  "JioMart",
                  4.1,
                  "High"
                ],
                [
                  "Blinkit",
                  4.1,
                  "High"
                ],
                [
                  "JioMart",
                  2.3,
                  "Low"
                ],
                [
                  "JioMart",
                  4.6,
                  "High"
                ],
                [
                  "Zepto",
                  2.7,
                  "Low"
                ],
                [
                  "Zepto",
                  2.5,
                  "Low"
                ],
                [
                  "JioMart",
                  3.2,
                  "Medium"
                ],
                [
                  "Swiggy Instamart",
                  1.3,
                  "Low"
                ],
                [
                  "JioMart",
                  2.2,
                  "Low"
                ],
                [
                  "JioMart",
                  2.5,
                  "Low"
                ],
                [
                  "Blinkit",
                  1.5,
                  "Low"
                ],
                [
                  "Swiggy Instamart",
                  4.1,
                  "High"
                ],
                [
                  "Swiggy Instamart",
                  4.7,
                  "High"
                ],
                [
                  "JioMart",
                  2.8,
                  "Low"
                ],
                [
                  "Zepto",
                  1.4,
                  "Low"
                ],
                [
                  "Swiggy Instamart",
                  3.8,
                  "Medium"
                ],
                [
                  "Swiggy Instamart",
                  2.9,
                  "Low"
                ],
                [
                  "Swiggy Instamart",
                  4.7,
                  "High"
                ],
                [
                  "Blinkit",
                  3.4,
                  "Medium"
                ],
                [
                  "Swiggy Instamart",
                  2.9,
                  "Low"
                ],
                [
                  "Blinkit",
                  4.5,
                  "High"
                ],
                [
                  "Blinkit",
                  3.8,
                  "Medium"
                ],
                [
                  "Zepto",
                  2.2,
                  "Low"
                ],
                [
                  "Zepto",
                  2.8,
                  "Low"
                ],
                [
                  "Zepto",
                  1.3,
                  "Low"
                ],
                [
                  "Blinkit",
                  2.2,
                  "Low"
                ],
                [
                  "Swiggy Instamart",
                  1.4,
                  "Low"
                ],
                [
                  "Zepto",
                  1.9,
                  "Low"
                ],
                [
                  "Zepto",
                  1.5,
                  "Low"
                ],
                [
                  "Zepto",
                  2.7,
                  "Low"
                ],
                [
                  "JioMart",
                  3.5,
                  "Medium"
                ],
                [
                  "Swiggy Instamart",
                  2.9,
                  "Low"
                ],
                [
                  "Swiggy Instamart",
                  4.3,
                  "High"
                ],
                [
                  "Zepto",
                  4.5,
                  "High"
                ],
                [
                  "Zepto",
                  4.2,
                  "High"
                ],
                [
                  "Blinkit",
                  4.5,
                  "High"
                ],
                [
                  "Blinkit",
                  2.6,
                  "Low"
                ],
                [
                  "JioMart",
                  3.4,
                  "Medium"
                ],
                [
                  "Zepto",
                  4.8,
                  "High"
                ],
                [
                  "JioMart",
                  3.6,
                  "Medium"
                ],
                [
                  "Swiggy Instamart",
                  2.5,
                  "Low"
                ],
                [
                  "Blinkit",
                  3.5,
                  "Medium"
                ],
                [
                  "Blinkit",
                  1.5,
                  "Low"
                ],
                [
                  "Swiggy Instamart",
                  1.2,
                  "Low"
                ],
                [
                  "Blinkit",
                  4.6,
                  "High"
                ],
                [
                  "Blinkit",
                  4.7,
                  "High"
                ],
                [
                  "Zepto",
                  1.3,
                  "Low"
                ],
                [
                  "Swiggy Instamart",
                  4.6,
                  "High"
                ],
                [
                  "Swiggy Instamart",
                  1.5,
                  "Low"
                ],
                [
                  "Swiggy Instamart",
                  1.8,
                  "Low"
                ],
                [
                  "JioMart",
                  3.5,
                  "Medium"
                ],
                [
                  "JioMart",
                  4.5,
                  "High"
                ],
                [
                  "Zepto",
                  2.5,
                  "Low"
                ],
                [
                  "Zepto",
                  1,
                  "Low"
                ],
                [
                  "JioMart",
                  2.3,
                  "Low"
                ],
                [
                  "JioMart",
                  3.1,
                  "Medium"
                ],
                [
                  "Swiggy Instamart",
                  3.8,
                  "Medium"
                ],
                [
                  "JioMart",
                  4,
                  "Medium"
                ],
                [
                  "Zepto",
                  1.1,
                  "Low"
                ],
                [
                  "Blinkit",
                  3,
                  "Medium"
                ],
                [
                  "Blinkit",
                  3.2,
                  "Medium"
                ],
                [
                  "Blinkit",
                  4.5,
                  "High"
                ],
                [
                  "Swiggy Instamart",
                  1,
                  "Low"
                ],
                [
                  "Blinkit",
                  2.2,
                  "Low"
                ],
                [
                  "Swiggy Instamart",
                  4.4,
                  "High"
                ],
                [
                  "Swiggy Instamart",
                  1.9,
                  "Low"
                ],
                [
                  "Swiggy Instamart",
                  2.9,
                  "Low"
                ],
                [
                  "JioMart",
                  4.5,
                  "High"
                ],
                [
                  "JioMart",
                  3.5,
                  "Medium"
                ],
                [
                  "Blinkit",
                  1.5,
                  "Low"
                ],
                [
                  "Zepto",
                  2.2,
                  "Low"
                ],
                [
                  "Blinkit",
                  1.5,
                  "Low"
                ],
                [
                  "Blinkit",
                  1.4,
                  "Low"
                ],
                [
                  "Blinkit",
                  3,
                  "Medium"
                ],
                [
                  "JioMart",
                  3.3,
                  "Medium"
                ],
                [
                  "JioMart",
                  4.5,
                  "High"
                ],
                [
                  "Zepto",
                  2.4,
                  "Low"
                ],
                [
                  "Zepto",
                  5,
                  "High"
                ],
                [
                  "Blinkit",
                  1.9,
                  "Low"
                ],
                [
                  "JioMart",
                  2.7,
                  "Low"
                ],
                [
                  "Zepto",
                  2,
                  "Low"
                ],
                [
                  "JioMart",
                  4.7,
                  "High"
                ],
                [
                  "Swiggy Instamart",
                  2.1,
                  "Low"
                ],
                [
                  "Swiggy Instamart",
                  5,
                  "High"
                ],
                [
                  "Swiggy Instamart",
                  1.8,
                  "Low"
                ],
                [
                  "Swiggy Instamart",
                  4.1,
                  "High"
                ],
                [
                  "Blinkit",
                  4.4,
                  "High"
                ],
                [
                  "Blinkit",
                  3.7,
                  "Medium"
                ],
                [
                  "Swiggy Instamart",
                  4.9,
                  "High"
                ],
                [
                  "Swiggy Instamart",
                  3.1,
                  "Medium"
                ],
                [
                  "JioMart",
                  4.7,
                  "High"
                ],
                [
                  "Blinkit",
                  3.8,
                  "Medium"
                ],
                [
                  "JioMart",
                  5,
                  "High"
                ],
                [
                  "Zepto",
                  2,
                  "Low"
                ],
                [
                  "JioMart",
                  2.8,
                  "Low"
                ],
                [
                  "Blinkit",
                  2.1,
                  "Low"
                ],
                [
                  "Blinkit",
                  3,
                  "Medium"
                ],
                [
                  "Swiggy Instamart",
                  4,
                  "Medium"
                ],
                [
                  "Zepto",
                  1.7,
                  "Low"
                ],
                [
                  "Blinkit",
                  4.9,
                  "High"
                ],
                [
                  "Zepto",
                  3.2,
                  "Medium"
                ],
                [
                  "Blinkit",
                  1.2,
                  "Low"
                ],
                [
                  "Zepto",
                  4.4,
                  "High"
                ],
                [
                  "Swiggy Instamart",
                  2.4,
                  "Low"
                ],
                [
                  "Blinkit",
                  4,
                  "Medium"
                ],
                [
                  "Swiggy Instamart",
                  2,
                  "Low"
                ],
                [
                  "Zepto",
                  1.2,
                  "Low"
                ],
                [
                  "Zepto",
                  3.9,
                  "Medium"
                ],
                [
                  "Zepto",
                  1.1,
                  "Low"
                ],
                [
                  "Blinkit",
                  1.1,
                  "Low"
                ],
                [
                  "Swiggy Instamart",
                  4.8,
                  "High"
                ],
                [
                  "JioMart",
                  4.9,
                  "High"
                ],
                [
                  "Swiggy Instamart",
                  4.1,
                  "High"
                ],
                [
                  "Blinkit",
                  4,
                  "Medium"
                ],
                [
                  "Zepto",
                  4.6,
                  "High"
                ],
                [
                  "Blinkit",
                  1.9,
                  "Low"
                ],
                [
                  "Zepto",
                  1.3,
                  "Low"
                ],
                [
                  "Swiggy Instamart",
                  2.4,
                  "Low"
                ],
                [
                  "Zepto",
                  2.8,
                  "Low"
                ],
                [
                  "Zepto",
                  4.6,
                  "High"
                ],
                [
                  "Zepto",
                  3.4,
                  "Medium"
                ],
                [
                  "Blinkit",
                  2.5,
                  "Low"
                ],
                [
                  "Blinkit",
                  3.5,
                  "Medium"
                ],
                [
                  "Zepto",
                  1.4,
                  "Low"
                ],
                [
                  "Zepto",
                  2.4,
                  "Low"
                ],
                [
                  "Blinkit",
                  2.8,
                  "Low"
                ],
                [
                  "Swiggy Instamart",
                  2.4,
                  "Low"
                ],
                [
                  "JioMart",
                  2.5,
                  "Low"
                ],
                [
                  "Zepto",
                  3.1,
                  "Medium"
                ],
                [
                  "JioMart",
                  1.3,
                  "Low"
                ],
                [
                  "Zepto",
                  3.5,
                  "Medium"
                ],
                [
                  "JioMart",
                  2.8,
                  "Low"
                ],
                [
                  "Zepto",
                  2.2,
                  "Low"
                ],
                [
                  "Blinkit",
                  4.2,
                  "High"
                ],
                [
                  "JioMart",
                  2.7,
                  "Low"
                ],
                [
                  "JioMart",
                  2.1,
                  "Low"
                ],
                [
                  "Blinkit",
                  1.7,
                  "Low"
                ],
                [
                  "Blinkit",
                  1.5,
                  "Low"
                ],
                [
                  "Blinkit",
                  2.1,
                  "Low"
                ],
                [
                  "JioMart",
                  1.4,
                  "Low"
                ],
                [
                  "Swiggy Instamart",
                  4.4,
                  "High"
                ],
                [
                  "Zepto",
                  4.3,
                  "High"
                ],
                [
                  "JioMart",
                  2,
                  "Low"
                ],
                [
                  "JioMart",
                  2.6,
                  "Low"
                ],
                [
                  "Blinkit",
                  1.2,
                  "Low"
                ],
                [
                  "Blinkit",
                  2.4,
                  "Low"
                ],
                [
                  "JioMart",
                  3.2,
                  "Medium"
                ],
                [
                  "Blinkit",
                  1.2,
                  "Low"
                ],
                [
                  "Zepto",
                  3,
                  "Medium"
                ],
                [
                  "JioMart",
                  4.2,
                  "High"
                ],
                [
                  "Blinkit",
                  1.1,
                  "Low"
                ],
                [
                  "Swiggy Instamart",
                  1.5,
                  "Low"
                ],
                [
                  "Zepto",
                  2.2,
                  "Low"
                ],
                [
                  "Zepto",
                  1.3,
                  "Low"
                ],
                [
                  "Blinkit",
                  1.4,
                  "Low"
                ],
                [
                  "Zepto",
                  3.6,
                  "Medium"
                ],
                [
                  "Zepto",
                  4.4,
                  "High"
                ],
                [
                  "Blinkit",
                  3.6,
                  "Medium"
                ],
                [
                  "Swiggy Instamart",
                  2.8,
                  "Low"
                ],
                [
                  "Swiggy Instamart",
                  3.3,
                  "Medium"
                ],
                [
                  "Zepto",
                  3.4,
                  "Medium"
                ],
                [
                  "Zepto",
                  4.3,
                  "High"
                ],
                [
                  "JioMart",
                  2.2,
                  "Low"
                ],
                [
                  "Zepto",
                  1.5,
                  "Low"
                ],
                [
                  "Blinkit",
                  2.4,
                  "Low"
                ],
                [
                  "Swiggy Instamart",
                  4.9,
                  "High"
                ],
                [
                  "Blinkit",
                  4.6,
                  "High"
                ],
                [
                  "JioMart",
                  3.4,
                  "Medium"
                ],
                [
                  "Zepto",
                  4.2,
                  "High"
                ],
                [
                  "JioMart",
                  2.6,
                  "Low"
                ],
                [
                  "Swiggy Instamart",
                  3.6,
                  "Medium"
                ],
                [
                  "Zepto",
                  1.8,
                  "Low"
                ],
                [
                  "Swiggy Instamart",
                  2.1,
                  "Low"
                ],
                [
                  "Swiggy Instamart",
                  3.1,
                  "Medium"
                ],
                [
                  "Blinkit",
                  1.9,
                  "Low"
                ],
                [
                  "Zepto",
                  4,
                  "Medium"
                ],
                [
                  "Zepto",
                  1.1,
                  "Low"
                ],
                [
                  "Blinkit",
                  4.3,
                  "High"
                ],
                [
                  "Blinkit",
                  3.3,
                  "Medium"
                ],
                [
                  "Blinkit",
                  1.5,
                  "Low"
                ],
                [
                  "JioMart",
                  2.5,
                  "Low"
                ],
                [
                  "Swiggy Instamart",
                  2.3,
                  "Low"
                ],
                [
                  "Blinkit",
                  1.6,
                  "Low"
                ],
                [
                  "Zepto",
                  3,
                  "Medium"
                ],
                [
                  "Blinkit",
                  1.1,
                  "Low"
                ],
                [
                  "Blinkit",
                  4.1,
                  "High"
                ],
                [
                  "Blinkit",
                  4.4,
                  "High"
                ],
                [
                  "JioMart",
                  2.6,
                  "Low"
                ],
                [
                  "Blinkit",
                  3.5,
                  "Medium"
                ],
                [
                  "JioMart",
                  4.8,
                  "High"
                ],
                [
                  "Swiggy Instamart",
                  4.7,
                  "High"
                ],
                [
                  "Swiggy Instamart",
                  3.2,
                  "Medium"
                ],
                [
                  "Blinkit",
                  4.7,
                  "High"
                ],
                [
                  "Zepto",
                  4.7,
                  "High"
                ],
                [
                  "JioMart",
                  3.1,
                  "Medium"
                ],
                [
                  "Zepto",
                  4.5,
                  "High"
                ],
                [
                  "Zepto",
                  4.8,
                  "High"
                ],
                [
                  "Zepto",
                  5,
                  "High"
                ],
                [
                  "JioMart",
                  2.2,
                  "Low"
                ],
                [
                  "Blinkit",
                  2.2,
                  "Low"
                ],
                [
                  "Swiggy Instamart",
                  1.3,
                  "Low"
                ],
                [
                  "JioMart",
                  1.6,
                  "Low"
                ],
                [
                  "Blinkit",
                  5,
                  "High"
                ],
                [
                  "JioMart",
                  4.1,
                  "High"
                ],
                [
                  "Zepto",
                  2.2,
                  "Low"
                ],
                [
                  "Zepto",
                  2.8,
                  "Low"
                ],
                [
                  "JioMart",
                  1.5,
                  "Low"
                ],
                [
                  "JioMart",
                  1.8,
                  "Low"
                ],
                [
                  "Swiggy Instamart",
                  3.4,
                  "Medium"
                ],
                [
                  "Swiggy Instamart",
                  3.5,
                  "Medium"
                ],
                [
                  "Zepto",
                  2.1,
                  "Low"
                ],
                [
                  "Zepto",
                  1.6,
                  "Low"
                ],
                [
                  "JioMart",
                  3.6,
                  "Medium"
                ],
                [
                  "Blinkit",
                  4,
                  "Medium"
                ],
                [
                  "JioMart",
                  2.9,
                  "Low"
                ],
                [
                  "Blinkit",
                  1.6,
                  "Low"
                ],
                [
                  "Blinkit",
                  4.8,
                  "High"
                ],
                [
                  "Zepto",
                  2.6,
                  "Low"
                ],
                [
                  "Blinkit",
                  3.4,
                  "Medium"
                ],
                [
                  "Zepto",
                  2.1,
                  "Low"
                ],
                [
                  "Zepto",
                  3.9,
                  "Medium"
                ],
                [
                  "Zepto",
                  4.9,
                  "High"
                ],
                [
                  "JioMart",
                  2.7,
                  "Low"
                ],
                [
                  "Blinkit",
                  2.1,
                  "Low"
                ],
                [
                  "Zepto",
                  3.1,
                  "Medium"
                ],
                [
                  "Blinkit",
                  2.9,
                  "Low"
                ],
                [
                  "Swiggy Instamart",
                  3.7,
                  "Medium"
                ],
                [
                  "Zepto",
                  2.3,
                  "Low"
                ],
                [
                  "Zepto",
                  1.4,
                  "Low"
                ],
                [
                  "Blinkit",
                  4.8,
                  "High"
                ],
                [
                  "Swiggy Instamart",
                  4.3,
                  "High"
                ],
                [
                  "Blinkit",
                  2.7,
                  "Low"
                ],
                [
                  "JioMart",
                  2.9,
                  "Low"
                ],
                [
                  "Zepto",
                  4.2,
                  "High"
                ],
                [
                  "Zepto",
                  4.1,
                  "High"
                ],
                [
                  "Blinkit",
                  2.6,
                  "Low"
                ],
                [
                  "Zepto",
                  1.8,
                  "Low"
                ],
                [
                  "Swiggy Instamart",
                  4.9,
                  "High"
                ],
                [
                  "JioMart",
                  2.2,
                  "Low"
                ],
                [
                  "Swiggy Instamart",
                  3.5,
                  "Medium"
                ],
                [
                  "JioMart",
                  1.8,
                  "Low"
                ],
                [
                  "Blinkit",
                  1.6,
                  "Low"
                ],
                [
                  "Zepto",
                  2.3,
                  "Low"
                ],
                [
                  "Swiggy Instamart",
                  3.6,
                  "Medium"
                ],
                [
                  "JioMart",
                  3.2,
                  "Medium"
                ],
                [
                  "Swiggy Instamart",
                  2.4,
                  "Low"
                ],
                [
                  "Blinkit",
                  4.8,
                  "High"
                ],
                [
                  "Zepto",
                  3,
                  "Medium"
                ],
                [
                  "Zepto",
                  2.6,
                  "Low"
                ],
                [
                  "Zepto",
                  2.8,
                  "Low"
                ],
                [
                  "Zepto",
                  2.3,
                  "Low"
                ],
                [
                  "Swiggy Instamart",
                  3.5,
                  "Medium"
                ],
                [
                  "Blinkit",
                  2.2,
                  "Low"
                ],
                [
                  "Zepto",
                  4.6,
                  "High"
                ],
                [
                  "Zepto",
                  1.4,
                  "Low"
                ],
                [
                  "Zepto",
                  4.3,
                  "High"
                ],
                [
                  "JioMart",
                  1.6,
                  "Low"
                ],
                [
                  "JioMart",
                  4.1,
                  "High"
                ],
                [
                  "Blinkit",
                  1.6,
                  "Low"
                ],
                [
                  "Zepto",
                  4.1,
                  "High"
                ],
                [
                  "Blinkit",
                  4.4,
                  "High"
                ],
                [
                  "Zepto",
                  4.9,
                  "High"
                ],
                [
                  "Swiggy Instamart",
                  4.5,
                  "High"
                ],
                [
                  "Blinkit",
                  2.1,
                  "Low"
                ],
                [
                  "Swiggy Instamart",
                  4.7,
                  "High"
                ],
                [
                  "Swiggy Instamart",
                  4.7,
                  "High"
                ],
                [
                  "Blinkit",
                  1.5,
                  "Low"
                ],
                [
                  "Blinkit",
                  4.9,
                  "High"
                ],
                [
                  "Swiggy Instamart",
                  2,
                  "Low"
                ],
                [
                  "Zepto",
                  4.6,
                  "High"
                ],
                [
                  "JioMart",
                  3.9,
                  "Medium"
                ],
                [
                  "Blinkit",
                  2,
                  "Low"
                ],
                [
                  "Swiggy Instamart",
                  2.1,
                  "Low"
                ],
                [
                  "Zepto",
                  1.9,
                  "Low"
                ],
                [
                  "Blinkit",
                  1.6,
                  "Low"
                ],
                [
                  "Swiggy Instamart",
                  2.8,
                  "Low"
                ],
                [
                  "Blinkit",
                  3.5,
                  "Medium"
                ],
                [
                  "Blinkit",
                  2.9,
                  "Low"
                ],
                [
                  "Zepto",
                  4.7,
                  "High"
                ],
                [
                  "Blinkit",
                  2.6,
                  "Low"
                ],
                [
                  "Blinkit",
                  3.7,
                  "Medium"
                ],
                [
                  "Blinkit",
                  4.9,
                  "High"
                ],
                [
                  "Blinkit",
                  2.8,
                  "Low"
                ],
                [
                  "Zepto",
                  1.9,
                  "Low"
                ],
                [
                  "Zepto",
                  3.2,
                  "Medium"
                ],
                [
                  "Swiggy Instamart",
                  4.5,
                  "High"
                ],
                [
                  "Swiggy Instamart",
                  2.4,
                  "Low"
                ],
                [
                  "Swiggy Instamart",
                  2.8,
                  "Low"
                ],
                [
                  "Blinkit",
                  4.7,
                  "High"
                ],
                [
                  "Zepto",
                  1.4,
                  "Low"
                ],
                [
                  "Zepto",
                  4.5,
                  "High"
                ],
                [
                  "JioMart",
                  1.1,
                  "Low"
                ],
                [
                  "Swiggy Instamart",
                  2.4,
                  "Low"
                ],
                [
                  "Zepto",
                  1,
                  "Low"
                ],
                [
                  "Zepto",
                  3.4,
                  "Medium"
                ],
                [
                  "Blinkit",
                  1.6,
                  "Low"
                ],
                [
                  "JioMart",
                  4.4,
                  "High"
                ],
                [
                  "JioMart",
                  2.5,
                  "Low"
                ],
                [
                  "Zepto",
                  2.5,
                  "Low"
                ],
                [
                  "Zepto",
                  4.2,
                  "High"
                ],
                [
                  "Zepto",
                  1.2,
                  "Low"
                ],
                [
                  "Zepto",
                  4.9,
                  "High"
                ],
                [
                  "Zepto",
                  2,
                  "Low"
                ],
                [
                  "Swiggy Instamart",
                  1.9,
                  "Low"
                ],
                [
                  "Blinkit",
                  3.3,
                  "Medium"
                ],
                [
                  "Blinkit",
                  2.5,
                  "Low"
                ],
                [
                  "Blinkit",
                  2.1,
                  "Low"
                ],
                [
                  "Blinkit",
                  1.6,
                  "Low"
                ],
                [
                  "Swiggy Instamart",
                  1.5,
                  "Low"
                ],
                [
                  "Swiggy Instamart",
                  2.8,
                  "Low"
                ],
                [
                  "Swiggy Instamart",
                  3.8,
                  "Medium"
                ],
                [
                  "Swiggy Instamart",
                  4,
                  "Medium"
                ],
                [
                  "JioMart",
                  3.5,
                  "Medium"
                ],
                [
                  "Swiggy Instamart",
                  3.2,
                  "Medium"
                ],
                [
                  "JioMart",
                  2.7,
                  "Low"
                ],
                [
                  "Swiggy Instamart",
                  1.6,
                  "Low"
                ],
                [
                  "Swiggy Instamart",
                  2.5,
                  "Low"
                ],
                [
                  "Swiggy Instamart",
                  4.4,
                  "High"
                ],
                [
                  "Blinkit",
                  3.8,
                  "Medium"
                ],
                [
                  "JioMart",
                  4.1,
                  "High"
                ],
                [
                  "JioMart",
                  3.6,
                  "Medium"
                ],
                [
                  "Blinkit",
                  2.4,
                  "Low"
                ],
                [
                  "JioMart",
                  3.7,
                  "Medium"
                ],
                [
                  "JioMart",
                  4.7,
                  "High"
                ],
                [
                  "JioMart",
                  4.9,
                  "High"
                ],
                [
                  "Zepto",
                  4.3,
                  "High"
                ],
                [
                  "Zepto",
                  1.4,
                  "Low"
                ],
                [
                  "JioMart",
                  3.2,
                  "Medium"
                ],
                [
                  "JioMart",
                  1.8,
                  "Low"
                ],
                [
                  "JioMart",
                  1,
                  "Low"
                ],
                [
                  "Swiggy Instamart",
                  1.2,
                  "Low"
                ],
                [
                  "Blinkit",
                  4.6,
                  "High"
                ],
                [
                  "Blinkit",
                  1,
                  "Low"
                ],
                [
                  "JioMart",
                  1.5,
                  "Low"
                ],
                [
                  "Swiggy Instamart",
                  2.4,
                  "Low"
                ],
                [
                  "Swiggy Instamart",
                  2.5,
                  "Low"
                ],
                [
                  "JioMart",
                  1.2,
                  "Low"
                ],
                [
                  "Swiggy Instamart",
                  4.4,
                  "High"
                ],
                [
                  "Zepto",
                  4.8,
                  "High"
                ],
                [
                  "Zepto",
                  1.1,
                  "Low"
                ],
                [
                  "Swiggy Instamart",
                  1.1,
                  "Low"
                ],
                [
                  "Swiggy Instamart",
                  4.8,
                  "High"
                ],
                [
                  "Swiggy Instamart",
                  3.9,
                  "Medium"
                ],
                [
                  "Swiggy Instamart",
                  2.5,
                  "Low"
                ],
                [
                  "JioMart",
                  2.7,
                  "Low"
                ],
                [
                  "Zepto",
                  3.7,
                  "Medium"
                ],
                [
                  "JioMart",
                  3.9,
                  "Medium"
                ],
                [
                  "Blinkit",
                  4.1,
                  "High"
                ],
                [
                  "JioMart",
                  1.4,
                  "Low"
                ],
                [
                  "Zepto",
                  2.8,
                  "Low"
                ],
                [
                  "JioMart",
                  4.4,
                  "High"
                ],
                [
                  "Blinkit",
                  3.8,
                  "Medium"
                ],
                [
                  "JioMart",
                  3.5,
                  "Medium"
                ],
                [
                  "Swiggy Instamart",
                  3.9,
                  "Medium"
                ],
                [
                  "JioMart",
                  1.9,
                  "Low"
                ],
                [
                  "Swiggy Instamart",
                  4.9,
                  "High"
                ],
                [
                  "Blinkit",
                  1,
                  "Low"
                ],
                [
                  "Blinkit",
                  4,
                  "Medium"
                ],
                [
                  "Blinkit",
                  2.6,
                  "Low"
                ],
                [
                  "Blinkit",
                  3.6,
                  "Medium"
                ],
                [
                  "Blinkit",
                  1.1,
                  "Low"
                ],
                [
                  "JioMart",
                  3.2,
                  "Medium"
                ],
                [
                  "Zepto",
                  2.5,
                  "Low"
                ],
                [
                  "Blinkit",
                  3.6,
                  "Medium"
                ],
                [
                  "Swiggy Instamart",
                  1.6,
                  "Low"
                ],
                [
                  "Zepto",
                  2.2,
                  "Low"
                ],
                [
                  "Zepto",
                  1.9,
                  "Low"
                ],
                [
                  "Swiggy Instamart",
                  1.5,
                  "Low"
                ],
                [
                  "Blinkit",
                  3.2,
                  "Medium"
                ],
                [
                  "Zepto",
                  3.1,
                  "Medium"
                ],
                [
                  "Zepto",
                  1.1,
                  "Low"
                ],
                [
                  "Swiggy Instamart",
                  2.4,
                  "Low"
                ],
                [
                  "Zepto",
                  3.1,
                  "Medium"
                ],
                [
                  "Zepto",
                  1.2,
                  "Low"
                ],
                [
                  "JioMart",
                  4,
                  "Medium"
                ],
                [
                  "Blinkit",
                  2.4,
                  "Low"
                ],
                [
                  "Blinkit",
                  3.4,
                  "Medium"
                ],
                [
                  "JioMart",
                  2.3,
                  "Low"
                ],
                [
                  "Swiggy Instamart",
                  3,
                  "Medium"
                ],
                [
                  "Swiggy Instamart",
                  3.3,
                  "Medium"
                ],
                [
                  "Blinkit",
                  1.9,
                  "Low"
                ],
                [
                  "JioMart",
                  4.2,
                  "High"
                ],
                [
                  "JioMart",
                  1.5,
                  "Low"
                ],
                [
                  "JioMart",
                  1,
                  "Low"
                ],
                [
                  "Swiggy Instamart",
                  1.7,
                  "Low"
                ],
                [
                  "JioMart",
                  4.6,
                  "High"
                ],
                [
                  "Zepto",
                  4.5,
                  "High"
                ],
                [
                  "Zepto",
                  3.7,
                  "Medium"
                ],
                [
                  "Blinkit",
                  1.5,
                  "Low"
                ],
                [
                  "Zepto",
                  3.8,
                  "Medium"
                ],
                [
                  "JioMart",
                  2.1,
                  "Low"
                ],
                [
                  "Blinkit",
                  1.6,
                  "Low"
                ],
                [
                  "Blinkit",
                  1.6,
                  "Low"
                ],
                [
                  "Swiggy Instamart",
                  1.9,
                  "Low"
                ],
                [
                  "Blinkit",
                  3.8,
                  "Medium"
                ],
                [
                  "JioMart",
                  4.2,
                  "High"
                ],
                [
                  "Blinkit",
                  3.3,
                  "Medium"
                ],
                [
                  "JioMart",
                  4.7,
                  "High"
                ],
                [
                  "JioMart",
                  2.5,
                  "Low"
                ],
                [
                  "JioMart",
                  2,
                  "Low"
                ],
                [
                  "Swiggy Instamart",
                  2.8,
                  "Low"
                ],
                [
                  "Zepto",
                  1.7,
                  "Low"
                ],
                [
                  "Blinkit",
                  3,
                  "Medium"
                ],
                [
                  "Zepto",
                  4,
                  "Medium"
                ],
                [
                  "Zepto",
                  3.9,
                  "Medium"
                ],
                [
                  "Blinkit",
                  3.2,
                  "Medium"
                ],
                [
                  "Swiggy Instamart",
                  4.3,
                  "High"
                ],
                [
                  "JioMart",
                  2.3,
                  "Low"
                ],
                [
                  "Zepto",
                  1.6,
                  "Low"
                ],
                [
                  "Zepto",
                  1.1,
                  "Low"
                ],
                [
                  "Blinkit",
                  3.7,
                  "Medium"
                ],
                [
                  "Zepto",
                  3.6,
                  "Medium"
                ],
                [
                  "Zepto",
                  3.2,
                  "Medium"
                ],
                [
                  "JioMart",
                  3.4,
                  "Medium"
                ],
                [
                  "Swiggy Instamart",
                  2.2,
                  "Low"
                ],
                [
                  "Swiggy Instamart",
                  2.2,
                  "Low"
                ],
                [
                  "Zepto",
                  3.9,
                  "Medium"
                ],
                [
                  "JioMart",
                  2.7,
                  "Low"
                ],
                [
                  "JioMart",
                  4.4,
                  "High"
                ],
                [
                  "JioMart",
                  2.9,
                  "Low"
                ],
                [
                  "Blinkit",
                  2.5,
                  "Low"
                ],
                [
                  "Zepto",
                  4.2,
                  "High"
                ],
                [
                  "Blinkit",
                  3.3,
                  "Medium"
                ],
                [
                  "Swiggy Instamart",
                  3.1,
                  "Medium"
                ],
                [
                  "Blinkit",
                  3.5,
                  "Medium"
                ],
                [
                  "Swiggy Instamart",
                  3.8,
                  "Medium"
                ],
                [
                  "Swiggy Instamart",
                  3.7,
                  "Medium"
                ],
                [
                  "Zepto",
                  1.1,
                  "Low"
                ],
                [
                  "Blinkit",
                  4.9,
                  "High"
                ],
                [
                  "Swiggy Instamart",
                  3.5,
                  "Medium"
                ],
                [
                  "Zepto",
                  1.1,
                  "Low"
                ],
                [
                  "Swiggy Instamart",
                  2.7,
                  "Low"
                ],
                [
                  "Swiggy Instamart",
                  3.2,
                  "Medium"
                ],
                [
                  "JioMart",
                  1.8,
                  "Low"
                ],
                [
                  "JioMart",
                  3.1,
                  "Medium"
                ],
                [
                  "JioMart",
                  2.9,
                  "Low"
                ],
                [
                  "Zepto",
                  1.7,
                  "Low"
                ],
                [
                  "Zepto",
                  2.1,
                  "Low"
                ],
                [
                  "JioMart",
                  1.9,
                  "Low"
                ],
                [
                  "Swiggy Instamart",
                  2.1,
                  "Low"
                ],
                [
                  "JioMart",
                  3.1,
                  "Medium"
                ],
                [
                  "JioMart",
                  2.9,
                  "Low"
                ],
                [
                  "JioMart",
                  1.3,
                  "Low"
                ],
                [
                  "Blinkit",
                  3.6,
                  "Medium"
                ],
                [
                  "JioMart",
                  1.7,
                  "Low"
                ],
                [
                  "JioMart",
                  3.8,
                  "Medium"
                ],
                [
                  "Zepto",
                  4.8,
                  "High"
                ],
                [
                  "Blinkit",
                  3.3,
                  "Medium"
                ],
                [
                  "Blinkit",
                  3.4,
                  "Medium"
                ],
                [
                  "JioMart",
                  3.7,
                  "Medium"
                ],
                [
                  "Zepto",
                  5,
                  "High"
                ],
                [
                  "Swiggy Instamart",
                  1.8,
                  "Low"
                ],
                [
                  "Blinkit",
                  4.9,
                  "High"
                ],
                [
                  "Blinkit",
                  3.9,
                  "Medium"
                ],
                [
                  "Zepto",
                  2.7,
                  "Low"
                ],
                [
                  "Swiggy Instamart",
                  1.7,
                  "Low"
                ],
                [
                  "Swiggy Instamart",
                  2.6,
                  "Low"
                ],
                [
                  "Blinkit",
                  2,
                  "Low"
                ],
                [
                  "JioMart",
                  2.7,
                  "Low"
                ],
                [
                  "Blinkit",
                  4.7,
                  "High"
                ],
                [
                  "Zepto",
                  1.7,
                  "Low"
                ],
                [
                  "Swiggy Instamart",
                  1.8,
                  "Low"
                ],
                [
                  "Zepto",
                  3.4,
                  "Medium"
                ],
                [
                  "Blinkit",
                  2.3,
                  "Low"
                ],
                [
                  "Blinkit",
                  1.3,
                  "Low"
                ],
                [
                  "JioMart",
                  3,
                  "Medium"
                ],
                [
                  "Blinkit",
                  4.7,
                  "High"
                ],
                [
                  "Blinkit",
                  2.8,
                  "Low"
                ],
                [
                  "Swiggy Instamart",
                  4.6,
                  "High"
                ],
                [
                  "Blinkit",
                  2.2,
                  "Low"
                ],
                [
                  "Zepto",
                  2.1,
                  "Low"
                ],
                [
                  "Blinkit",
                  3.5,
                  "Medium"
                ],
                [
                  "JioMart",
                  4.2,
                  "High"
                ],
                [
                  "Swiggy Instamart",
                  3.2,
                  "Medium"
                ],
                [
                  "Zepto",
                  1.1,
                  "Low"
                ],
                [
                  "Swiggy Instamart",
                  3,
                  "Medium"
                ],
                [
                  "JioMart",
                  3.5,
                  "Medium"
                ],
                [
                  "JioMart",
                  3.1,
                  "Medium"
                ],
                [
                  "JioMart",
                  1.9,
                  "Low"
                ],
                [
                  "Zepto",
                  3.6,
                  "Medium"
                ],
                [
                  "Swiggy Instamart",
                  2.5,
                  "Low"
                ],
                [
                  "Blinkit",
                  1,
                  "Low"
                ],
                [
                  "Zepto",
                  2.1,
                  "Low"
                ],
                [
                  "Swiggy Instamart",
                  4.3,
                  "High"
                ],
                [
                  "JioMart",
                  4.2,
                  "High"
                ],
                [
                  "Swiggy Instamart",
                  2.6,
                  "Low"
                ],
                [
                  "JioMart",
                  4.1,
                  "High"
                ],
                [
                  "JioMart",
                  2.6,
                  "Low"
                ],
                [
                  "JioMart",
                  3.2,
                  "Medium"
                ],
                [
                  "Blinkit",
                  1.6,
                  "Low"
                ],
                [
                  "JioMart",
                  1,
                  "Low"
                ],
                [
                  "Zepto",
                  4.4,
                  "High"
                ],
                [
                  "Blinkit",
                  3.1,
                  "Medium"
                ],
                [
                  "Zepto",
                  1.6,
                  "Low"
                ],
                [
                  "Zepto",
                  1.7,
                  "Low"
                ],
                [
                  "JioMart",
                  3.3,
                  "Medium"
                ],
                [
                  "JioMart",
                  3.7,
                  "Medium"
                ],
                [
                  "Zepto",
                  3.3,
                  "Medium"
                ],
                [
                  "JioMart",
                  4.7,
                  "High"
                ],
                [
                  "Zepto",
                  2.6,
                  "Low"
                ],
                [
                  "Swiggy Instamart",
                  1.1,
                  "Low"
                ],
                [
                  "Swiggy Instamart",
                  2.3,
                  "Low"
                ],
                [
                  "Swiggy Instamart",
                  4.8,
                  "High"
                ],
                [
                  "Blinkit",
                  1.4,
                  "Low"
                ],
                [
                  "Zepto",
                  4.5,
                  "High"
                ],
                [
                  "JioMart",
                  2.3,
                  "Low"
                ],
                [
                  "Swiggy Instamart",
                  4.4,
                  "High"
                ],
                [
                  "Swiggy Instamart",
                  1.8,
                  "Low"
                ],
                [
                  "Swiggy Instamart",
                  4,
                  "Medium"
                ],
                [
                  "Blinkit",
                  3.4,
                  "Medium"
                ],
                [
                  "Zepto",
                  3.2,
                  "Medium"
                ],
                [
                  "Swiggy Instamart",
                  4.3,
                  "High"
                ],
                [
                  "Zepto",
                  1.7,
                  "Low"
                ],
                [
                  "JioMart",
                  1.7,
                  "Low"
                ],
                [
                  "JioMart",
                  4.5,
                  "High"
                ],
                [
                  "JioMart",
                  1.9,
                  "Low"
                ],
                [
                  "Swiggy Instamart",
                  1.6,
                  "Low"
                ],
                [
                  "Blinkit",
                  1.4,
                  "Low"
                ],
                [
                  "Blinkit",
                  3.3,
                  "Medium"
                ],
                [
                  "Swiggy Instamart",
                  3.2,
                  "Medium"
                ],
                [
                  "JioMart",
                  3.9,
                  "Medium"
                ],
                [
                  "Zepto",
                  4.8,
                  "High"
                ],
                [
                  "Zepto",
                  4,
                  "Medium"
                ],
                [
                  "Blinkit",
                  1.8,
                  "Low"
                ],
                [
                  "Zepto",
                  3,
                  "Medium"
                ],
                [
                  "Blinkit",
                  2.5,
                  "Low"
                ],
                [
                  "Swiggy Instamart",
                  2.8,
                  "Low"
                ],
                [
                  "Swiggy Instamart",
                  3.7,
                  "Medium"
                ],
                [
                  "Swiggy Instamart",
                  4.7,
                  "High"
                ],
                [
                  "Swiggy Instamart",
                  2.7,
                  "Low"
                ],
                [
                  "JioMart",
                  3.3,
                  "Medium"
                ],
                [
                  "JioMart",
                  3.9,
                  "Medium"
                ],
                [
                  "JioMart",
                  2.1,
                  "Low"
                ],
                [
                  "Blinkit",
                  1.1,
                  "Low"
                ],
                [
                  "Zepto",
                  1.1,
                  "Low"
                ],
                [
                  "Blinkit",
                  3.1,
                  "Medium"
                ],
                [
                  "Zepto",
                  2.7,
                  "Low"
                ],
                [
                  "Blinkit",
                  2.1,
                  "Low"
                ],
                [
                  "Blinkit",
                  2.7,
                  "Low"
                ],
                [
                  "JioMart",
                  3.7,
                  "Medium"
                ],
                [
                  "Swiggy Instamart",
                  3.8,
                  "Medium"
                ],
                [
                  "Blinkit",
                  4.9,
                  "High"
                ],
                [
                  "Zepto",
                  4.7,
                  "High"
                ],
                [
                  "Swiggy Instamart",
                  2.8,
                  "Low"
                ],
                [
                  "Blinkit",
                  2.2,
                  "Low"
                ],
                [
                  "JioMart",
                  4,
                  "Medium"
                ],
                [
                  "Swiggy Instamart",
                  3.9,
                  "Medium"
                ],
                [
                  "Swiggy Instamart",
                  4,
                  "Medium"
                ],
                [
                  "Swiggy Instamart",
                  2.2,
                  "Low"
                ],
                [
                  "Zepto",
                  1.2,
                  "Low"
                ],
                [
                  "JioMart",
                  1.7,
                  "Low"
                ],
                [
                  "Blinkit",
                  3.9,
                  "Medium"
                ],
                [
                  "Swiggy Instamart",
                  2.3,
                  "Low"
                ],
                [
                  "Blinkit",
                  4.3,
                  "High"
                ],
                [
                  "Blinkit",
                  2.9,
                  "Low"
                ],
                [
                  "Swiggy Instamart",
                  2.1,
                  "Low"
                ],
                [
                  "Swiggy Instamart",
                  3.5,
                  "Medium"
                ],
                [
                  "Zepto",
                  2.7,
                  "Low"
                ],
                [
                  "Blinkit",
                  4.2,
                  "High"
                ],
                [
                  "JioMart",
                  3.1,
                  "Medium"
                ],
                [
                  "Blinkit",
                  4,
                  "Medium"
                ],
                [
                  "Swiggy Instamart",
                  4.6,
                  "High"
                ],
                [
                  "Blinkit",
                  1.4,
                  "Low"
                ],
                [
                  "JioMart",
                  1.6,
                  "Low"
                ],
                [
                  "Swiggy Instamart",
                  2.8,
                  "Low"
                ],
                [
                  "Zepto",
                  3.6,
                  "Medium"
                ],
                [
                  "Swiggy Instamart",
                  1.2,
                  "Low"
                ],
                [
                  "JioMart",
                  2.2,
                  "Low"
                ],
                [
                  "Blinkit",
                  4.3,
                  "High"
                ],
                [
                  "Blinkit",
                  4,
                  "Medium"
                ],
                [
                  "Blinkit",
                  1.1,
                  "Low"
                ],
                [
                  "Zepto",
                  3.6,
                  "Medium"
                ],
                [
                  "Blinkit",
                  4.9,
                  "High"
                ],
                [
                  "Blinkit",
                  4.1,
                  "High"
                ],
                [
                  "JioMart",
                  1.7,
                  "Low"
                ],
                [
                  "Blinkit",
                  1.1,
                  "Low"
                ],
                [
                  "JioMart",
                  4.7,
                  "High"
                ],
                [
                  "Swiggy Instamart",
                  2.8,
                  "Low"
                ],
                [
                  "JioMart",
                  1.5,
                  "Low"
                ],
                [
                  "Swiggy Instamart",
                  1.3,
                  "Low"
                ],
                [
                  "JioMart",
                  4.4,
                  "High"
                ],
                [
                  "Blinkit",
                  4.4,
                  "High"
                ],
                [
                  "Zepto",
                  3.8,
                  "Medium"
                ],
                [
                  "Blinkit",
                  4.1,
                  "High"
                ],
                [
                  "Blinkit",
                  1.1,
                  "Low"
                ],
                [
                  "Blinkit",
                  1.5,
                  "Low"
                ],
                [
                  "Zepto",
                  2.6,
                  "Low"
                ],
                [
                  "Swiggy Instamart",
                  4.5,
                  "High"
                ],
                [
                  "JioMart",
                  2.2,
                  "Low"
                ],
                [
                  "Swiggy Instamart",
                  4.6,
                  "High"
                ],
                [
                  "JioMart",
                  3.5,
                  "Medium"
                ],
                [
                  "Zepto",
                  1.6,
                  "Low"
                ],
                [
                  "Swiggy Instamart",
                  1.1,
                  "Low"
                ],
                [
                  "Blinkit",
                  4.1,
                  "High"
                ],
                [
                  "JioMart",
                  2,
                  "Low"
                ],
                [
                  "JioMart",
                  2.8,
                  "Low"
                ],
                [
                  "Blinkit",
                  1.3,
                  "Low"
                ],
                [
                  "Zepto",
                  4,
                  "Medium"
                ],
                [
                  "JioMart",
                  2.6,
                  "Low"
                ],
                [
                  "JioMart",
                  4.3,
                  "High"
                ],
                [
                  "Zepto",
                  4.3,
                  "High"
                ],
                [
                  "JioMart",
                  3.3,
                  "Medium"
                ],
                [
                  "Blinkit",
                  3.5,
                  "Medium"
                ],
                [
                  "Blinkit",
                  2.9,
                  "Low"
                ],
                [
                  "JioMart",
                  1.8,
                  "Low"
                ],
                [
                  "JioMart",
                  2.7,
                  "Low"
                ],
                [
                  "JioMart",
                  2.9,
                  "Low"
                ],
                [
                  "JioMart",
                  3.6,
                  "Medium"
                ],
                [
                  "Zepto",
                  1.6,
                  "Low"
                ],
                [
                  "JioMart",
                  1.8,
                  "Low"
                ],
                [
                  "JioMart",
                  2.1,
                  "Low"
                ],
                [
                  "JioMart",
                  3.7,
                  "Medium"
                ],
                [
                  "Swiggy Instamart",
                  1.1,
                  "Low"
                ],
                [
                  "JioMart",
                  2.6,
                  "Low"
                ],
                [
                  "Blinkit",
                  1.6,
                  "Low"
                ],
                [
                  "Blinkit",
                  2.6,
                  "Low"
                ],
                [
                  "Swiggy Instamart",
                  1,
                  "Low"
                ],
                [
                  "Swiggy Instamart",
                  4.7,
                  "High"
                ],
                [
                  "Zepto",
                  4.7,
                  "High"
                ],
                [
                  "Swiggy Instamart",
                  4.5,
                  "High"
                ],
                [
                  "Blinkit",
                  2.4,
                  "Low"
                ],
                [
                  "Zepto",
                  3.3,
                  "Medium"
                ],
                [
                  "Blinkit",
                  4.5,
                  "High"
                ],
                [
                  "JioMart",
                  3,
                  "Medium"
                ],
                [
                  "Zepto",
                  1.8,
                  "Low"
                ],
                [
                  "Zepto",
                  4.8,
                  "High"
                ],
                [
                  "Swiggy Instamart",
                  3.4,
                  "Medium"
                ],
                [
                  "JioMart",
                  4.3,
                  "High"
                ],
                [
                  "Zepto",
                  3.9,
                  "Medium"
                ],
                [
                  "JioMart",
                  1.8,
                  "Low"
                ],
                [
                  "Blinkit",
                  4.6,
                  "High"
                ],
                [
                  "JioMart",
                  4.8,
                  "High"
                ],
                [
                  "Blinkit",
                  2.7,
                  "Low"
                ],
                [
                  "Swiggy Instamart",
                  1.6,
                  "Low"
                ],
                [
                  "Swiggy Instamart",
                  3.2,
                  "Medium"
                ],
                [
                  "Zepto",
                  3.9,
                  "Medium"
                ],
                [
                  "Zepto",
                  1.9,
                  "Low"
                ],
                [
                  "JioMart",
                  2,
                  "Low"
                ],
                [
                  "Swiggy Instamart",
                  3.7,
                  "Medium"
                ],
                [
                  "Zepto",
                  3,
                  "Medium"
                ],
                [
                  "Swiggy Instamart",
                  3.6,
                  "Medium"
                ],
                [
                  "Blinkit",
                  2.4,
                  "Low"
                ],
                [
                  "Swiggy Instamart",
                  3.5,
                  "Medium"
                ],
                [
                  "Swiggy Instamart",
                  3.8,
                  "Medium"
                ],
                [
                  "JioMart",
                  4.3,
                  "High"
                ],
                [
                  "Zepto",
                  2.6,
                  "Low"
                ],
                [
                  "JioMart",
                  2,
                  "Low"
                ],
                [
                  "Blinkit",
                  3,
                  "Medium"
                ],
                [
                  "Blinkit",
                  2.9,
                  "Low"
                ],
                [
                  "JioMart",
                  4.8,
                  "High"
                ],
                [
                  "Zepto",
                  3.9,
                  "Medium"
                ],
                [
                  "Blinkit",
                  4.8,
                  "High"
                ],
                [
                  "Blinkit",
                  1.3,
                  "Low"
                ],
                [
                  "JioMart",
                  3.3,
                  "Medium"
                ],
                [
                  "JioMart",
                  4.5,
                  "High"
                ],
                [
                  "Blinkit",
                  4,
                  "Medium"
                ],
                [
                  "JioMart",
                  2.9,
                  "Low"
                ],
                [
                  "Swiggy Instamart",
                  1.7,
                  "Low"
                ],
                [
                  "JioMart",
                  2.1,
                  "Low"
                ],
                [
                  "Zepto",
                  3.6,
                  "Medium"
                ],
                [
                  "Swiggy Instamart",
                  1.5,
                  "Low"
                ],
                [
                  "Blinkit",
                  3.7,
                  "Medium"
                ],
                [
                  "Swiggy Instamart",
                  3.6,
                  "Medium"
                ],
                [
                  "Swiggy Instamart",
                  4.2,
                  "High"
                ],
                [
                  "Zepto",
                  2.3,
                  "Low"
                ],
                [
                  "Zepto",
                  3.2,
                  "Medium"
                ],
                [
                  "Swiggy Instamart",
                  1.5,
                  "Low"
                ],
                [
                  "Zepto",
                  3,
                  "Medium"
                ],
                [
                  "Zepto",
                  4,
                  "Medium"
                ],
                [
                  "Blinkit",
                  3.3,
                  "Medium"
                ],
                [
                  "JioMart",
                  4.1,
                  "High"
                ],
                [
                  "JioMart",
                  1.9,
                  "Low"
                ],
                [
                  "Swiggy Instamart",
                  1.9,
                  "Low"
                ],
                [
                  "Zepto",
                  4.5,
                  "High"
                ],
                [
                  "Blinkit",
                  3.5,
                  "Medium"
                ],
                [
                  "Zepto",
                  3.1,
                  "Medium"
                ],
                [
                  "Zepto",
                  4,
                  "Medium"
                ],
                [
                  "Blinkit",
                  4.2,
                  "High"
                ],
                [
                  "Blinkit",
                  4,
                  "Medium"
                ],
                [
                  "Blinkit",
                  1.5,
                  "Low"
                ],
                [
                  "Swiggy Instamart",
                  4.6,
                  "High"
                ],
                [
                  "Blinkit",
                  2.8,
                  "Low"
                ],
                [
                  "Swiggy Instamart",
                  1.2,
                  "Low"
                ],
                [
                  "Swiggy Instamart",
                  1.3,
                  "Low"
                ],
                [
                  "Zepto",
                  2.6,
                  "Low"
                ],
                [
                  "Blinkit",
                  4.7,
                  "High"
                ],
                [
                  "Swiggy Instamart",
                  1.3,
                  "Low"
                ],
                [
                  "Blinkit",
                  3.3,
                  "Medium"
                ],
                [
                  "Swiggy Instamart",
                  2.7,
                  "Low"
                ],
                [
                  "JioMart",
                  3.5,
                  "Medium"
                ],
                [
                  "Zepto",
                  3.4,
                  "Medium"
                ],
                [
                  "Blinkit",
                  3.4,
                  "Medium"
                ],
                [
                  "Blinkit",
                  3,
                  "Medium"
                ],
                [
                  "Blinkit",
                  1.7,
                  "Low"
                ],
                [
                  "Zepto",
                  4.5,
                  "High"
                ],
                [
                  "Blinkit",
                  2.5,
                  "Low"
                ],
                [
                  "Zepto",
                  3,
                  "Medium"
                ],
                [
                  "JioMart",
                  4.8,
                  "High"
                ],
                [
                  "Zepto",
                  3.2,
                  "Medium"
                ],
                [
                  "Swiggy Instamart",
                  2.3,
                  "Low"
                ],
                [
                  "JioMart",
                  4.5,
                  "High"
                ],
                [
                  "Swiggy Instamart",
                  3.9,
                  "Medium"
                ],
                [
                  "Swiggy Instamart",
                  3.4,
                  "Medium"
                ],
                [
                  "Blinkit",
                  3.5,
                  "Medium"
                ],
                [
                  "JioMart",
                  3.4,
                  "Medium"
                ],
                [
                  "Zepto",
                  4.5,
                  "High"
                ],
                [
                  "Blinkit",
                  2.7,
                  "Low"
                ],
                [
                  "Blinkit",
                  4,
                  "Medium"
                ],
                [
                  "Swiggy Instamart",
                  3.2,
                  "Medium"
                ],
                [
                  "Swiggy Instamart",
                  2.4,
                  "Low"
                ],
                [
                  "Swiggy Instamart",
                  1.4,
                  "Low"
                ],
                [
                  "JioMart",
                  3,
                  "Medium"
                ],
                [
                  "Blinkit",
                  1.4,
                  "Low"
                ],
                [
                  "Blinkit",
                  4.2,
                  "High"
                ],
                [
                  "JioMart",
                  1.1,
                  "Low"
                ],
                [
                  "Swiggy Instamart",
                  3.9,
                  "Medium"
                ],
                [
                  "JioMart",
                  4.6,
                  "High"
                ],
                [
                  "JioMart",
                  5,
                  "High"
                ],
                [
                  "Swiggy Instamart",
                  1.8,
                  "Low"
                ],
                [
                  "Swiggy Instamart",
                  2.3,
                  "Low"
                ],
                [
                  "Zepto",
                  2.3,
                  "Low"
                ],
                [
                  "Blinkit",
                  4.6,
                  "High"
                ],
                [
                  "Swiggy Instamart",
                  4.8,
                  "High"
                ],
                [
                  "Blinkit",
                  2.5,
                  "Low"
                ],
                [
                  "Blinkit",
                  2.6,
                  "Low"
                ],
                [
                  "Blinkit",
                  3.4,
                  "Medium"
                ],
                [
                  "JioMart",
                  2.9,
                  "Low"
                ],
                [
                  "Zepto",
                  4.4,
                  "High"
                ],
                [
                  "Zepto",
                  3,
                  "Medium"
                ],
                [
                  "JioMart",
                  4.1,
                  "High"
                ],
                [
                  "JioMart",
                  4.1,
                  "High"
                ],
                [
                  "JioMart",
                  4.5,
                  "High"
                ],
                [
                  "Zepto",
                  4.9,
                  "High"
                ],
                [
                  "Blinkit",
                  4.9,
                  "High"
                ],
                [
                  "Blinkit",
                  2.9,
                  "Low"
                ],
                [
                  "Blinkit",
                  1,
                  "Low"
                ],
                [
                  "JioMart",
                  3.3,
                  "Medium"
                ],
                [
                  "JioMart",
                  3.9,
                  "Medium"
                ],
                [
                  "Swiggy Instamart",
                  3.8,
                  "Medium"
                ],
                [
                  "Blinkit",
                  2,
                  "Low"
                ],
                [
                  "Swiggy Instamart",
                  4.1,
                  "High"
                ],
                [
                  "Blinkit",
                  1,
                  "Low"
                ],
                [
                  "Zepto",
                  4.8,
                  "High"
                ],
                [
                  "Zepto",
                  3.1,
                  "Medium"
                ],
                [
                  "Blinkit",
                  4.5,
                  "High"
                ],
                [
                  "Swiggy Instamart",
                  4.4,
                  "High"
                ],
                [
                  "Zepto",
                  2.8,
                  "Low"
                ],
                [
                  "Swiggy Instamart",
                  1.7,
                  "Low"
                ],
                [
                  "Zepto",
                  3.8,
                  "Medium"
                ],
                [
                  "Zepto",
                  3,
                  "Medium"
                ],
                [
                  "Blinkit",
                  4.8,
                  "High"
                ],
                [
                  "Blinkit",
                  1.9,
                  "Low"
                ],
                [
                  "Zepto",
                  1.9,
                  "Low"
                ],
                [
                  "Zepto",
                  2.1,
                  "Low"
                ],
                [
                  "Blinkit",
                  4.7,
                  "High"
                ],
                [
                  "Swiggy Instamart",
                  1.2,
                  "Low"
                ],
                [
                  "Blinkit",
                  4.7,
                  "High"
                ],
                [
                  "Zepto",
                  2.7,
                  "Low"
                ],
                [
                  "JioMart",
                  1.9,
                  "Low"
                ],
                [
                  "JioMart",
                  3.9,
                  "Medium"
                ],
                [
                  "JioMart",
                  3.6,
                  "Medium"
                ],
                [
                  "Blinkit",
                  1.7,
                  "Low"
                ],
                [
                  "JioMart",
                  1.7,
                  "Low"
                ],
                [
                  "Blinkit",
                  3.6,
                  "Medium"
                ],
                [
                  "JioMart",
                  3.3,
                  "Medium"
                ],
                [
                  "Blinkit",
                  3.6,
                  "Medium"
                ],
                [
                  "Zepto",
                  2.6,
                  "Low"
                ],
                [
                  "Zepto",
                  2.8,
                  "Low"
                ],
                [
                  "Swiggy Instamart",
                  3.7,
                  "Medium"
                ],
                [
                  "Blinkit",
                  1.7,
                  "Low"
                ],
                [
                  "Swiggy Instamart",
                  3.7,
                  "Medium"
                ],
                [
                  "Swiggy Instamart",
                  3.3,
                  "Medium"
                ],
                [
                  "Swiggy Instamart",
                  1.3,
                  "Low"
                ],
                [
                  "JioMart",
                  1.4,
                  "Low"
                ],
                [
                  "Zepto",
                  2.2,
                  "Low"
                ],
                [
                  "Blinkit",
                  3.6,
                  "Medium"
                ],
                [
                  "JioMart",
                  2.4,
                  "Low"
                ],
                [
                  "Swiggy Instamart",
                  3.7,
                  "Medium"
                ],
                [
                  "Zepto",
                  1.7,
                  "Low"
                ],
                [
                  "Swiggy Instamart",
                  3.6,
                  "Medium"
                ],
                [
                  "Blinkit",
                  2.9,
                  "Low"
                ],
                [
                  "Zepto",
                  4.2,
                  "High"
                ],
                [
                  "Zepto",
                  1.2,
                  "Low"
                ],
                [
                  "Zepto",
                  4.6,
                  "High"
                ],
                [
                  "Swiggy Instamart",
                  2.7,
                  "Low"
                ],
                [
                  "Blinkit",
                  3.5,
                  "Medium"
                ],
                [
                  "Zepto",
                  4.5,
                  "High"
                ],
                [
                  "Swiggy Instamart",
                  1,
                  "Low"
                ],
                [
                  "Zepto",
                  3.5,
                  "Medium"
                ],
                [
                  "Zepto",
                  3.7,
                  "Medium"
                ],
                [
                  "Zepto",
                  3.6,
                  "Medium"
                ],
                [
                  "Zepto",
                  3.3,
                  "Medium"
                ],
                [
                  "Zepto",
                  3.4,
                  "Medium"
                ],
                [
                  "Blinkit",
                  1.5,
                  "Low"
                ],
                [
                  "JioMart",
                  2.1,
                  "Low"
                ],
                [
                  "Swiggy Instamart",
                  1.3,
                  "Low"
                ],
                [
                  "Swiggy Instamart",
                  4.2,
                  "High"
                ],
                [
                  "JioMart",
                  2.6,
                  "Low"
                ],
                [
                  "JioMart",
                  4,
                  "Medium"
                ],
                [
                  "JioMart",
                  3.6,
                  "Medium"
                ],
                [
                  "JioMart",
                  1.6,
                  "Low"
                ],
                [
                  "Zepto",
                  4.7,
                  "High"
                ],
                [
                  "JioMart",
                  1.3,
                  "Low"
                ],
                [
                  "Zepto",
                  2.8,
                  "Low"
                ],
                [
                  "JioMart",
                  2.1,
                  "Low"
                ],
                [
                  "Swiggy Instamart",
                  2.3,
                  "Low"
                ],
                [
                  "Zepto",
                  2.2,
                  "Low"
                ],
                [
                  "Blinkit",
                  1.9,
                  "Low"
                ],
                [
                  "Blinkit",
                  3.5,
                  "Medium"
                ],
                [
                  "Zepto",
                  3,
                  "Medium"
                ],
                [
                  "Swiggy Instamart",
                  3.2,
                  "Medium"
                ],
                [
                  "Blinkit",
                  2.3,
                  "Low"
                ],
                [
                  "Swiggy Instamart",
                  4.3,
                  "High"
                ],
                [
                  "Zepto",
                  4,
                  "Medium"
                ],
                [
                  "Blinkit",
                  4.6,
                  "High"
                ],
                [
                  "Swiggy Instamart",
                  3.1,
                  "Medium"
                ],
                [
                  "Zepto",
                  3.8,
                  "Medium"
                ],
                [
                  "Zepto",
                  1.8,
                  "Low"
                ],
                [
                  "Zepto",
                  3.1,
                  "Medium"
                ],
                [
                  "Blinkit",
                  3.4,
                  "Medium"
                ],
                [
                  "Swiggy Instamart",
                  1.7,
                  "Low"
                ],
                [
                  "JioMart",
                  1.5,
                  "Low"
                ],
                [
                  "Blinkit",
                  4.4,
                  "High"
                ],
                [
                  "Blinkit",
                  1.5,
                  "Low"
                ],
                [
                  "JioMart",
                  2.5,
                  "Low"
                ],
                [
                  "JioMart",
                  2.6,
                  "Low"
                ],
                [
                  "Swiggy Instamart",
                  4.1,
                  "High"
                ],
                [
                  "Swiggy Instamart",
                  2.5,
                  "Low"
                ],
                [
                  "Swiggy Instamart",
                  4.3,
                  "High"
                ],
                [
                  "Zepto",
                  4.3,
                  "High"
                ],
                [
                  "Blinkit",
                  1.7,
                  "Low"
                ],
                [
                  "Swiggy Instamart",
                  4.7,
                  "High"
                ],
                [
                  "JioMart",
                  3,
                  "Medium"
                ],
                [
                  "Swiggy Instamart",
                  4.3,
                  "High"
                ],
                [
                  "Blinkit",
                  4.1,
                  "High"
                ],
                [
                  "Swiggy Instamart",
                  1.1,
                  "Low"
                ],
                [
                  "Swiggy Instamart",
                  3.8,
                  "Medium"
                ],
                [
                  "JioMart",
                  2.9,
                  "Low"
                ],
                [
                  "JioMart",
                  1.5,
                  "Low"
                ],
                [
                  "Zepto",
                  2.3,
                  "Low"
                ],
                [
                  "JioMart",
                  1.6,
                  "Low"
                ],
                [
                  "JioMart",
                  3,
                  "Medium"
                ],
                [
                  "Blinkit",
                  2.4,
                  "Low"
                ],
                [
                  "Swiggy Instamart",
                  1.5,
                  "Low"
                ],
                [
                  "Blinkit",
                  4.4,
                  "High"
                ],
                [
                  "Swiggy Instamart",
                  3.5,
                  "Medium"
                ],
                [
                  "Blinkit",
                  4.6,
                  "High"
                ],
                [
                  "Swiggy Instamart",
                  4.7,
                  "High"
                ],
                [
                  "Zepto",
                  4.3,
                  "High"
                ],
                [
                  "Swiggy Instamart",
                  3.2,
                  "Medium"
                ],
                [
                  "JioMart",
                  3.8,
                  "Medium"
                ],
                [
                  "Swiggy Instamart",
                  2.6,
                  "Low"
                ],
                [
                  "Blinkit",
                  1.9,
                  "Low"
                ],
                [
                  "Blinkit",
                  2.8,
                  "Low"
                ],
                [
                  "JioMart",
                  4.5,
                  "High"
                ],
                [
                  "JioMart",
                  3.4,
                  "Medium"
                ],
                [
                  "JioMart",
                  2.5,
                  "Low"
                ],
                [
                  "Blinkit",
                  2.9,
                  "Low"
                ],
                [
                  "JioMart",
                  1.6,
                  "Low"
                ],
                [
                  "Swiggy Instamart",
                  2.2,
                  "Low"
                ],
                [
                  "JioMart",
                  4.4,
                  "High"
                ],
                [
                  "Blinkit",
                  1.6,
                  "Low"
                ],
                [
                  "JioMart",
                  4.6,
                  "High"
                ],
                [
                  "Swiggy Instamart",
                  1.4,
                  "Low"
                ],
                [
                  "Swiggy Instamart",
                  3.3,
                  "Medium"
                ],
                [
                  "Blinkit",
                  4.9,
                  "High"
                ],
                [
                  "JioMart",
                  1.8,
                  "Low"
                ],
                [
                  "Blinkit",
                  3.3,
                  "Medium"
                ],
                [
                  "Swiggy Instamart",
                  4.1,
                  "High"
                ],
                [
                  "JioMart",
                  2.2,
                  "Low"
                ],
                [
                  "Blinkit",
                  4.1,
                  "High"
                ],
                [
                  "Swiggy Instamart",
                  3.7,
                  "Medium"
                ],
                [
                  "Zepto",
                  3.8,
                  "Medium"
                ],
                [
                  "Swiggy Instamart",
                  2.8,
                  "Low"
                ],
                [
                  "Zepto",
                  3.1,
                  "Medium"
                ],
                [
                  "JioMart",
                  3,
                  "Medium"
                ],
                [
                  "JioMart",
                  1.8,
                  "Low"
                ],
                [
                  "Zepto",
                  3.3,
                  "Medium"
                ],
                [
                  "Swiggy Instamart",
                  1.9,
                  "Low"
                ],
                [
                  "JioMart",
                  1.4,
                  "Low"
                ],
                [
                  "Blinkit",
                  2.9,
                  "Low"
                ],
                [
                  "Swiggy Instamart",
                  3.8,
                  "Medium"
                ],
                [
                  "Zepto",
                  2.5,
                  "Low"
                ],
                [
                  "Swiggy Instamart",
                  3.9,
                  "Medium"
                ],
                [
                  "Blinkit",
                  4.5,
                  "High"
                ],
                [
                  "Zepto",
                  2,
                  "Low"
                ],
                [
                  "Blinkit",
                  3.9,
                  "Medium"
                ],
                [
                  "JioMart",
                  2.6,
                  "Low"
                ],
                [
                  "Zepto",
                  2.9,
                  "Low"
                ],
                [
                  "JioMart",
                  2.6,
                  "Low"
                ],
                [
                  "Blinkit",
                  2.6,
                  "Low"
                ],
                [
                  "Blinkit",
                  2.1,
                  "Low"
                ],
                [
                  "Blinkit",
                  2.1,
                  "Low"
                ],
                [
                  "Blinkit",
                  4.5,
                  "High"
                ],
                [
                  "Blinkit",
                  3.5,
                  "Medium"
                ],
                [
                  "Zepto",
                  2.6,
                  "Low"
                ],
                [
                  "Swiggy Instamart",
                  3,
                  "Medium"
                ],
                [
                  "JioMart",
                  3.2,
                  "Medium"
                ],
                [
                  "Blinkit",
                  4.4,
                  "High"
                ],
                [
                  "Swiggy Instamart",
                  2.5,
                  "Low"
                ],
                [
                  "JioMart",
                  2.2,
                  "Low"
                ],
                [
                  "Zepto",
                  2,
                  "Low"
                ],
                [
                  "Swiggy Instamart",
                  3.8,
                  "Medium"
                ],
                [
                  "JioMart",
                  4.2,
                  "High"
                ],
                [
                  "Blinkit",
                  4,
                  "Medium"
                ],
                [
                  "JioMart",
                  4.3,
                  "High"
                ],
                [
                  "JioMart",
                  3,
                  "Medium"
                ],
                [
                  "Blinkit",
                  1.6,
                  "Low"
                ],
                [
                  "JioMart",
                  3.8,
                  "Medium"
                ],
                [
                  "JioMart",
                  4.5,
                  "High"
                ],
                [
                  "Zepto",
                  2.8,
                  "Low"
                ],
                [
                  "Zepto",
                  2.2,
                  "Low"
                ],
                [
                  "Zepto",
                  4.6,
                  "High"
                ],
                [
                  "Swiggy Instamart",
                  3.3,
                  "Medium"
                ],
                [
                  "Blinkit",
                  1.6,
                  "Low"
                ],
                [
                  "Swiggy Instamart",
                  3.7,
                  "Medium"
                ],
                [
                  "JioMart",
                  4.4,
                  "High"
                ],
                [
                  "JioMart",
                  1.2,
                  "Low"
                ],
                [
                  "Zepto",
                  2.3,
                  "Low"
                ],
                [
                  "JioMart",
                  4.4,
                  "High"
                ],
                [
                  "JioMart",
                  3.6,
                  "Medium"
                ],
                [
                  "Swiggy Instamart",
                  3.6,
                  "Medium"
                ],
                [
                  "Zepto",
                  2.8,
                  "Low"
                ],
                [
                  "Blinkit",
                  3.8,
                  "Medium"
                ],
                [
                  "Blinkit",
                  2.9,
                  "Low"
                ],
                [
                  "JioMart",
                  4.9,
                  "High"
                ],
                [
                  "Zepto",
                  4.2,
                  "High"
                ],
                [
                  "Zepto",
                  4.7,
                  "High"
                ],
                [
                  "Zepto",
                  3.6,
                  "Medium"
                ],
                [
                  "Swiggy Instamart",
                  4.3,
                  "High"
                ],
                [
                  "Zepto",
                  1,
                  "Low"
                ],
                [
                  "JioMart",
                  3,
                  "Medium"
                ],
                [
                  "Zepto",
                  1.5,
                  "Low"
                ],
                [
                  "Blinkit",
                  4.1,
                  "High"
                ],
                [
                  "Swiggy Instamart",
                  1.8,
                  "Low"
                ],
                [
                  "Blinkit",
                  3.5,
                  "Medium"
                ],
                [
                  "JioMart",
                  4.4,
                  "High"
                ],
                [
                  "Blinkit",
                  1.9,
                  "Low"
                ],
                [
                  "Zepto",
                  1.7,
                  "Low"
                ],
                [
                  "Blinkit",
                  1.9,
                  "Low"
                ],
                [
                  "Blinkit",
                  1.7,
                  "Low"
                ],
                [
                  "Zepto",
                  4.4,
                  "High"
                ],
                [
                  "Zepto",
                  2.6,
                  "Low"
                ],
                [
                  "JioMart",
                  3.7,
                  "Medium"
                ],
                [
                  "Swiggy Instamart",
                  5,
                  "High"
                ],
                [
                  "Swiggy Instamart",
                  3.2,
                  "Medium"
                ],
                [
                  "Swiggy Instamart",
                  4.2,
                  "High"
                ],
                [
                  "Swiggy Instamart",
                  3.2,
                  "Medium"
                ],
                [
                  "Swiggy Instamart",
                  1.4,
                  "Low"
                ],
                [
                  "Swiggy Instamart",
                  3.7,
                  "Medium"
                ],
                [
                  "Blinkit",
                  4.2,
                  "High"
                ],
                [
                  "Zepto",
                  3.6,
                  "Medium"
                ],
                [
                  "Swiggy Instamart",
                  1.1,
                  "Low"
                ],
                [
                  "Blinkit",
                  3.9,
                  "Medium"
                ],
                [
                  "Zepto",
                  2.9,
                  "Low"
                ],
                [
                  "Swiggy Instamart",
                  2.7,
                  "Low"
                ],
                [
                  "Blinkit",
                  1.8,
                  "Low"
                ],
                [
                  "Swiggy Instamart",
                  4.3,
                  "High"
                ],
                [
                  "JioMart",
                  1.7,
                  "Low"
                ],
                [
                  "Blinkit",
                  2,
                  "Low"
                ],
                [
                  "Swiggy Instamart",
                  1,
                  "Low"
                ],
                [
                  "Swiggy Instamart",
                  2.3,
                  "Low"
                ],
                [
                  "JioMart",
                  1.2,
                  "Low"
                ],
                [
                  "Swiggy Instamart",
                  4.2,
                  "High"
                ],
                [
                  "JioMart",
                  2.6,
                  "Low"
                ],
                [
                  "Swiggy Instamart",
                  1.1,
                  "Low"
                ],
                [
                  "JioMart",
                  1.4,
                  "Low"
                ],
                [
                  "Zepto",
                  2.3,
                  "Low"
                ],
                [
                  "JioMart",
                  2,
                  "Low"
                ],
                [
                  "Zepto",
                  1.2,
                  "Low"
                ],
                [
                  "Swiggy Instamart",
                  3.4,
                  "Medium"
                ],
                [
                  "Blinkit",
                  2.3,
                  "Low"
                ],
                [
                  "JioMart",
                  4.9,
                  "High"
                ],
                [
                  "JioMart",
                  4.1,
                  "High"
                ],
                [
                  "Zepto",
                  2.1,
                  "Low"
                ],
                [
                  "Blinkit",
                  4.6,
                  "High"
                ],
                [
                  "JioMart",
                  1.9,
                  "Low"
                ],
                [
                  "JioMart",
                  3.3,
                  "Medium"
                ],
                [
                  "Swiggy Instamart",
                  2,
                  "Low"
                ],
                [
                  "Blinkit",
                  3.6,
                  "Medium"
                ],
                [
                  "Zepto",
                  2.3,
                  "Low"
                ],
                [
                  "Blinkit",
                  4.2,
                  "High"
                ],
                [
                  "Swiggy Instamart",
                  2.8,
                  "Low"
                ],
                [
                  "Swiggy Instamart",
                  1.8,
                  "Low"
                ],
                [
                  "Zepto",
                  1.1,
                  "Low"
                ],
                [
                  "Zepto",
                  4.6,
                  "High"
                ],
                [
                  "JioMart",
                  1.3,
                  "Low"
                ],
                [
                  "JioMart",
                  3.2,
                  "Medium"
                ],
                [
                  "Swiggy Instamart",
                  1.2,
                  "Low"
                ],
                [
                  "Swiggy Instamart",
                  5,
                  "High"
                ],
                [
                  "Blinkit",
                  1.3,
                  "Low"
                ],
                [
                  "Blinkit",
                  4.6,
                  "High"
                ],
                [
                  "JioMart",
                  1.6,
                  "Low"
                ],
                [
                  "JioMart",
                  3.7,
                  "Medium"
                ],
                [
                  "Swiggy Instamart",
                  1.8,
                  "Low"
                ],
                [
                  "JioMart",
                  1.7,
                  "Low"
                ],
                [
                  "Zepto",
                  3.8,
                  "Medium"
                ],
                [
                  "JioMart",
                  3.2,
                  "Medium"
                ],
                [
                  "Zepto",
                  2.5,
                  "Low"
                ],
                [
                  "JioMart",
                  4.9,
                  "High"
                ],
                [
                  "Zepto",
                  1.1,
                  "Low"
                ],
                [
                  "JioMart",
                  1.7,
                  "Low"
                ],
                [
                  "Zepto",
                  3.4,
                  "Medium"
                ],
                [
                  "JioMart",
                  1.8,
                  "Low"
                ],
                [
                  "Zepto",
                  3.7,
                  "Medium"
                ],
                [
                  "JioMart",
                  1.8,
                  "Low"
                ],
                [
                  "Zepto",
                  1.9,
                  "Low"
                ],
                [
                  "Zepto",
                  1.3,
                  "Low"
                ],
                [
                  "Blinkit",
                  2.5,
                  "Low"
                ],
                [
                  "Zepto",
                  2,
                  "Low"
                ],
                [
                  "Zepto",
                  2.5,
                  "Low"
                ],
                [
                  "Blinkit",
                  3.2,
                  "Medium"
                ],
                [
                  "JioMart",
                  3.4,
                  "Medium"
                ],
                [
                  "Zepto",
                  3.4,
                  "Medium"
                ],
                [
                  "JioMart",
                  2.5,
                  "Low"
                ],
                [
                  "Swiggy Instamart",
                  2.6,
                  "Low"
                ],
                [
                  "Blinkit",
                  3.1,
                  "Medium"
                ],
                [
                  "Blinkit",
                  2.1,
                  "Low"
                ],
                [
                  "Swiggy Instamart",
                  1.8,
                  "Low"
                ],
                [
                  "Zepto",
                  2.9,
                  "Low"
                ],
                [
                  "Blinkit",
                  1.2,
                  "Low"
                ],
                [
                  "Blinkit",
                  4.9,
                  "High"
                ],
                [
                  "Zepto",
                  4.2,
                  "High"
                ],
                [
                  "Blinkit",
                  1.2,
                  "Low"
                ],
                [
                  "JioMart",
                  3.4,
                  "Medium"
                ],
                [
                  "Swiggy Instamart",
                  2,
                  "Low"
                ],
                [
                  "Blinkit",
                  2.5,
                  "Low"
                ],
                [
                  "Swiggy Instamart",
                  1.5,
                  "Low"
                ],
                [
                  "Swiggy Instamart",
                  4.2,
                  "High"
                ],
                [
                  "JioMart",
                  2.3,
                  "Low"
                ],
                [
                  "JioMart",
                  3.3,
                  "Medium"
                ],
                [
                  "Zepto",
                  1,
                  "Low"
                ],
                [
                  "Zepto",
                  4.8,
                  "High"
                ],
                [
                  "Swiggy Instamart",
                  2.6,
                  "Low"
                ],
                [
                  "JioMart",
                  2.3,
                  "Low"
                ],
                [
                  "Blinkit",
                  4,
                  "Medium"
                ],
                [
                  "Swiggy Instamart",
                  4.2,
                  "High"
                ],
                [
                  "Zepto",
                  1,
                  "Low"
                ],
                [
                  "Blinkit",
                  3.2,
                  "Medium"
                ],
                [
                  "JioMart",
                  1.2,
                  "Low"
                ],
                [
                  "Swiggy Instamart",
                  3.1,
                  "Medium"
                ],
                [
                  "Zepto",
                  1.7,
                  "Low"
                ],
                [
                  "Zepto",
                  1.9,
                  "Low"
                ],
                [
                  "JioMart",
                  2.2,
                  "Low"
                ],
                [
                  "Swiggy Instamart",
                  2.8,
                  "Low"
                ],
                [
                  "JioMart",
                  3.6,
                  "Medium"
                ],
                [
                  "Blinkit",
                  2.8,
                  "Low"
                ],
                [
                  "Blinkit",
                  4.8,
                  "High"
                ],
                [
                  "Swiggy Instamart",
                  4.4,
                  "High"
                ],
                [
                  "Blinkit",
                  3.6,
                  "Medium"
                ],
                [
                  "JioMart",
                  1.3,
                  "Low"
                ],
                [
                  "Zepto",
                  3.1,
                  "Medium"
                ],
                [
                  "Blinkit",
                  1.6,
                  "Low"
                ],
                [
                  "JioMart",
                  3.9,
                  "Medium"
                ],
                [
                  "JioMart",
                  1,
                  "Low"
                ],
                [
                  "JioMart",
                  1.2,
                  "Low"
                ],
                [
                  "Swiggy Instamart",
                  2.7,
                  "Low"
                ],
                [
                  "Zepto",
                  3,
                  "Medium"
                ],
                [
                  "JioMart",
                  1.5,
                  "Low"
                ],
                [
                  "Swiggy Instamart",
                  3.6,
                  "Medium"
                ],
                [
                  "Swiggy Instamart",
                  4.9,
                  "High"
                ],
                [
                  "Swiggy Instamart",
                  4.1,
                  "High"
                ],
                [
                  "Zepto",
                  2.4,
                  "Low"
                ],
                [
                  "Zepto",
                  4.8,
                  "High"
                ],
                [
                  "JioMart",
                  3,
                  "Medium"
                ],
                [
                  "Swiggy Instamart",
                  1.7,
                  "Low"
                ],
                [
                  "Zepto",
                  2.9,
                  "Low"
                ],
                [
                  "JioMart",
                  4.2,
                  "High"
                ],
                [
                  "Blinkit",
                  3.3,
                  "Medium"
                ],
                [
                  "Blinkit",
                  4.1,
                  "High"
                ],
                [
                  "Swiggy Instamart",
                  1.1,
                  "Low"
                ],
                [
                  "Blinkit",
                  3.6,
                  "Medium"
                ],
                [
                  "Blinkit",
                  3.4,
                  "Medium"
                ],
                [
                  "Zepto",
                  3.9,
                  "Medium"
                ],
                [
                  "Swiggy Instamart",
                  4.5,
                  "High"
                ],
                [
                  "Swiggy Instamart",
                  1.7,
                  "Low"
                ],
                [
                  "Blinkit",
                  4,
                  "Medium"
                ],
                [
                  "Blinkit",
                  1.6,
                  "Low"
                ],
                [
                  "JioMart",
                  3.8,
                  "Medium"
                ],
                [
                  "Swiggy Instamart",
                  1.9,
                  "Low"
                ],
                [
                  "Blinkit",
                  4.7,
                  "High"
                ],
                [
                  "JioMart",
                  3.2,
                  "Medium"
                ],
                [
                  "Swiggy Instamart",
                  1.7,
                  "Low"
                ],
                [
                  "Blinkit",
                  3.8,
                  "Medium"
                ],
                [
                  "Swiggy Instamart",
                  2.9,
                  "Low"
                ],
                [
                  "Swiggy Instamart",
                  1.4,
                  "Low"
                ],
                [
                  "Swiggy Instamart",
                  4.5,
                  "High"
                ],
                [
                  "Blinkit",
                  4.6,
                  "High"
                ],
                [
                  "JioMart",
                  1.2,
                  "Low"
                ],
                [
                  "Blinkit",
                  2.9,
                  "Low"
                ],
                [
                  "Zepto",
                  1.5,
                  "Low"
                ],
                [
                  "Zepto",
                  1.8,
                  "Low"
                ],
                [
                  "Zepto",
                  2.2,
                  "Low"
                ],
                [
                  "Blinkit",
                  4.7,
                  "High"
                ],
                [
                  "Zepto",
                  2.9,
                  "Low"
                ],
                [
                  "Zepto",
                  3.6,
                  "Medium"
                ],
                [
                  "JioMart",
                  1.2,
                  "Low"
                ],
                [
                  "Swiggy Instamart",
                  3.4,
                  "Medium"
                ],
                [
                  "Swiggy Instamart",
                  3.6,
                  "Medium"
                ],
                [
                  "Blinkit",
                  2.3,
                  "Low"
                ],
                [
                  "Zepto",
                  3.7,
                  "Medium"
                ],
                [
                  "JioMart",
                  4.6,
                  "High"
                ],
                [
                  "Zepto",
                  1.2,
                  "Low"
                ],
                [
                  "Zepto",
                  4.9,
                  "High"
                ],
                [
                  "JioMart",
                  1.5,
                  "Low"
                ],
                [
                  "Swiggy Instamart",
                  3.8,
                  "Medium"
                ],
                [
                  "Blinkit",
                  1.4,
                  "Low"
                ],
                [
                  "Blinkit",
                  2.2,
                  "Low"
                ],
                [
                  "Swiggy Instamart",
                  3.5,
                  "Medium"
                ],
                [
                  "JioMart",
                  3.1,
                  "Medium"
                ],
                [
                  "Blinkit",
                  2.4,
                  "Low"
                ],
                [
                  "Zepto",
                  4.4,
                  "High"
                ],
                [
                  "Zepto",
                  2.9,
                  "Low"
                ],
                [
                  "JioMart",
                  4.4,
                  "High"
                ],
                [
                  "Blinkit",
                  3.1,
                  "Medium"
                ],
                [
                  "JioMart",
                  4.1,
                  "High"
                ],
                [
                  "JioMart",
                  3.5,
                  "Medium"
                ],
                [
                  "JioMart",
                  3.2,
                  "Medium"
                ],
                [
                  "Blinkit",
                  1.2,
                  "Low"
                ],
                [
                  "Blinkit",
                  4.2,
                  "High"
                ],
                [
                  "Swiggy Instamart",
                  2.4,
                  "Low"
                ],
                [
                  "Blinkit",
                  4,
                  "Medium"
                ],
                [
                  "Swiggy Instamart",
                  3.1,
                  "Medium"
                ],
                [
                  "Blinkit",
                  4.7,
                  "High"
                ],
                [
                  "JioMart",
                  1,
                  "Low"
                ],
                [
                  "Zepto",
                  4.6,
                  "High"
                ],
                [
                  "JioMart",
                  4.4,
                  "High"
                ],
                [
                  "JioMart",
                  4.6,
                  "High"
                ],
                [
                  "Zepto",
                  3.2,
                  "Medium"
                ],
                [
                  "Blinkit",
                  1.6,
                  "Low"
                ],
                [
                  "Swiggy Instamart",
                  1.2,
                  "Low"
                ],
                [
                  "Swiggy Instamart",
                  2.3,
                  "Low"
                ],
                [
                  "Zepto",
                  1.8,
                  "Low"
                ],
                [
                  "Zepto",
                  3.9,
                  "Medium"
                ],
                [
                  "Blinkit",
                  2.1,
                  "Low"
                ],
                [
                  "Zepto",
                  2.9,
                  "Low"
                ],
                [
                  "JioMart",
                  4.2,
                  "High"
                ],
                [
                  "Zepto",
                  4.3,
                  "High"
                ],
                [
                  "Blinkit",
                  1,
                  "Low"
                ],
                [
                  "Blinkit",
                  5,
                  "High"
                ],
                [
                  "Zepto",
                  1.7,
                  "Low"
                ],
                [
                  "JioMart",
                  2.1,
                  "Low"
                ],
                [
                  "Blinkit",
                  1.6,
                  "Low"
                ],
                [
                  "Zepto",
                  3.6,
                  "Medium"
                ],
                [
                  "Zepto",
                  4.3,
                  "High"
                ],
                [
                  "Swiggy Instamart",
                  3.1,
                  "Medium"
                ],
                [
                  "JioMart",
                  3.5,
                  "Medium"
                ],
                [
                  "Blinkit",
                  4.2,
                  "High"
                ],
                [
                  "JioMart",
                  1.8,
                  "Low"
                ],
                [
                  "Swiggy Instamart",
                  1.6,
                  "Low"
                ],
                [
                  "Zepto",
                  1.3,
                  "Low"
                ],
                [
                  "Blinkit",
                  1.5,
                  "Low"
                ],
                [
                  "Swiggy Instamart",
                  2.4,
                  "Low"
                ],
                [
                  "Blinkit",
                  3.8,
                  "Medium"
                ],
                [
                  "Zepto",
                  3.7,
                  "Medium"
                ],
                [
                  "Zepto",
                  2.7,
                  "Low"
                ],
                [
                  "Swiggy Instamart",
                  3.6,
                  "Medium"
                ],
                [
                  "Blinkit",
                  1.2,
                  "Low"
                ],
                [
                  "JioMart",
                  4.5,
                  "High"
                ],
                [
                  "Blinkit",
                  2.2,
                  "Low"
                ],
                [
                  "Swiggy Instamart",
                  4.3,
                  "High"
                ],
                [
                  "Swiggy Instamart",
                  3.7,
                  "Medium"
                ],
                [
                  "Swiggy Instamart",
                  3,
                  "Medium"
                ],
                [
                  "JioMart",
                  4.6,
                  "High"
                ],
                [
                  "Zepto",
                  2.1,
                  "Low"
                ],
                [
                  "Zepto",
                  4.6,
                  "High"
                ],
                [
                  "Swiggy Instamart",
                  2.5,
                  "Low"
                ],
                [
                  "Zepto",
                  1.3,
                  "Low"
                ],
                [
                  "Swiggy Instamart",
                  3.8,
                  "Medium"
                ],
                [
                  "Zepto",
                  4,
                  "Medium"
                ],
                [
                  "Blinkit",
                  4.3,
                  "High"
                ],
                [
                  "Zepto",
                  1.4,
                  "Low"
                ],
                [
                  "Blinkit",
                  2.4,
                  "Low"
                ],
                [
                  "JioMart",
                  2.4,
                  "Low"
                ],
                [
                  "Zepto",
                  1.4,
                  "Low"
                ],
                [
                  "JioMart",
                  4.7,
                  "High"
                ],
                [
                  "Zepto",
                  2.4,
                  "Low"
                ],
                [
                  "JioMart",
                  2.3,
                  "Low"
                ],
                [
                  "JioMart",
                  3.5,
                  "Medium"
                ],
                [
                  "Zepto",
                  1.4,
                  "Low"
                ],
                [
                  "Swiggy Instamart",
                  4.9,
                  "High"
                ],
                [
                  "Zepto",
                  3,
                  "Medium"
                ],
                [
                  "JioMart",
                  3.2,
                  "Medium"
                ],
                [
                  "Swiggy Instamart",
                  3.6,
                  "Medium"
                ],
                [
                  "Blinkit",
                  2.5,
                  "Low"
                ],
                [
                  "Blinkit",
                  2.4,
                  "Low"
                ],
                [
                  "JioMart",
                  3.2,
                  "Medium"
                ],
                [
                  "Zepto",
                  4.7,
                  "High"
                ],
                [
                  "JioMart",
                  3.8,
                  "Medium"
                ],
                [
                  "JioMart",
                  4.5,
                  "High"
                ]
              ],
              "datasetInfos": [],
              "dbfsResultPath": null,
              "isJsonSchema": true,
              "metadata": {},
              "overflow": false,
              "plotOptions": {
                "customPlotOptions": {},
                "displayType": "table",
                "pivotAggregation": null,
                "pivotColumns": null,
                "xColumns": null,
                "yColumns": null
              },
              "removedWidgets": [],
              "schema": [
                {
                  "metadata": "{}",
                  "name": "Agent_Name",
                  "type": "\"string\""
                },
                {
                  "metadata": "{}",
                  "name": "Rating",
                  "type": "\"float\""
                },
                {
                  "metadata": "{}",
                  "name": "rating_category",
                  "type": "\"string\""
                }
              ],
              "type": "table"
            }
          }
        }
      ],
      "source": [
        "%sql\n",
        "SELECT\n",
        "    Agent_Name,\n",
        "    Rating,\n",
        "    CASE\n",
        "        WHEN Rating < 3 THEN 'Low'\n",
        "        WHEN Rating BETWEEN 3 AND 4 THEN 'Medium'\n",
        "        ELSE 'High'\n",
        "    END AS rating_category\n",
        "FROM delivery_reviews_cleaned;"
      ]
    },
    {
      "cell_type": "markdown",
      "metadata": {
        "application/vnd.databricks.v1+cell": {
          "cellMetadata": {},
          "inputWidgets": {},
          "nuid": "a0053508-35bf-4e55-a535-c024e638274f",
          "showTitle": false,
          "tableResultSettingsMap": {},
          "title": ""
        },
        "id": "TxFUaoGcBgPJ"
      },
      "source": [
        "## **6️⃣ Step 5: Export Data for Visualization**\n",
        "**Convert Cleaned Data to Parquet**"
      ]
    },
    {
      "cell_type": "code",
      "execution_count": null,
      "metadata": {
        "application/vnd.databricks.v1+cell": {
          "cellMetadata": {
            "byteLimit": 2048000,
            "rowLimit": 10000
          },
          "inputWidgets": {},
          "nuid": "3bca9f76-c276-4431-8395-a815ea8456ef",
          "showTitle": false,
          "tableResultSettingsMap": {},
          "title": ""
        },
        "id": "213Le7OpBgPK",
        "outputId": "f4e54d67-0bd6-4d9b-ec4a-b7efbb50f6dc"
      },
      "outputs": [
        {
          "output_type": "display_data",
          "data": {
            "text/html": [
              "<style scoped>\n",
              "  .table-result-container {\n",
              "    max-height: 300px;\n",
              "    overflow: auto;\n",
              "  }\n",
              "  table, th, td {\n",
              "    border: 1px solid black;\n",
              "    border-collapse: collapse;\n",
              "  }\n",
              "  th, td {\n",
              "    padding: 5px;\n",
              "  }\n",
              "  th {\n",
              "    text-align: left;\n",
              "  }\n",
              "</style><div class='table-result-container'><table class='table-result'><thead style='background-color: white'><tr></tr></thead><tbody></tbody></table></div>"
            ]
          },
          "metadata": {
            "application/vnd.databricks.v1+output": {
              "addedWidgets": {},
              "aggData": [],
              "aggError": "",
              "aggOverflow": false,
              "aggSchema": [],
              "aggSeriesLimitReached": false,
              "aggType": "",
              "arguments": {},
              "columnCustomDisplayInfos": {},
              "data": [],
              "datasetInfos": [],
              "dbfsResultPath": null,
              "isJsonSchema": true,
              "metadata": {
                "isDbfsCommandResult": false
              },
              "overflow": false,
              "plotOptions": {
                "customPlotOptions": {},
                "displayType": "table",
                "pivotAggregation": null,
                "pivotColumns": null,
                "xColumns": null,
                "yColumns": null
              },
              "removedWidgets": [],
              "schema": [],
              "type": "table"
            }
          }
        }
      ],
      "source": [
        "%sql\n",
        "DROP TABLE delivery_reviews_parquet;"
      ]
    },
    {
      "cell_type": "code",
      "execution_count": null,
      "metadata": {
        "application/vnd.databricks.v1+cell": {
          "cellMetadata": {
            "byteLimit": 2048000,
            "rowLimit": 10000
          },
          "inputWidgets": {},
          "nuid": "ff1fa924-83cd-4293-aa9a-573ced8959fa",
          "showTitle": false,
          "tableResultSettingsMap": {},
          "title": ""
        },
        "id": "t0mDj_JyBgPK",
        "outputId": "f3acc189-fa01-4617-8ecc-e84140e8fca4"
      },
      "outputs": [
        {
          "output_type": "display_data",
          "data": {
            "text/html": [
              "<style scoped>\n",
              "  .table-result-container {\n",
              "    max-height: 300px;\n",
              "    overflow: auto;\n",
              "  }\n",
              "  table, th, td {\n",
              "    border: 1px solid black;\n",
              "    border-collapse: collapse;\n",
              "  }\n",
              "  th, td {\n",
              "    padding: 5px;\n",
              "  }\n",
              "  th {\n",
              "    text-align: left;\n",
              "  }\n",
              "</style><div class='table-result-container'><table class='table-result'><thead style='background-color: white'><tr></tr></thead><tbody></tbody></table></div>"
            ]
          },
          "metadata": {
            "application/vnd.databricks.v1+output": {
              "addedWidgets": {},
              "aggData": [],
              "aggError": "",
              "aggOverflow": false,
              "aggSchema": [],
              "aggSeriesLimitReached": false,
              "aggType": "",
              "arguments": {},
              "columnCustomDisplayInfos": {},
              "data": [],
              "datasetInfos": [],
              "dbfsResultPath": null,
              "isJsonSchema": true,
              "metadata": {
                "isDbfsCommandResult": false
              },
              "overflow": false,
              "plotOptions": {
                "customPlotOptions": {},
                "displayType": "table",
                "pivotAggregation": null,
                "pivotColumns": null,
                "xColumns": null,
                "yColumns": null
              },
              "removedWidgets": [],
              "schema": [],
              "type": "table"
            }
          }
        }
      ],
      "source": [
        "%sql\n",
        "CREATE TABLE delivery_reviews_parquet\n",
        "STORED AS PARQUET AS\n",
        "SELECT * FROM delivery_reviews_cleaned;"
      ]
    },
    {
      "cell_type": "markdown",
      "metadata": {
        "application/vnd.databricks.v1+cell": {
          "cellMetadata": {},
          "inputWidgets": {},
          "nuid": "78986d9d-76db-4368-a0b9-dbeafb90121b",
          "showTitle": false,
          "tableResultSettingsMap": {},
          "title": ""
        },
        "id": "gsDHXugFBgPK"
      },
      "source": [
        "**Export to Local File**"
      ]
    },
    {
      "cell_type": "markdown",
      "metadata": {
        "application/vnd.databricks.v1+cell": {
          "cellMetadata": {
            "byteLimit": 2048000,
            "rowLimit": 10000
          },
          "inputWidgets": {},
          "nuid": "6228b05d-318d-4b09-8160-3950dbd87f32",
          "showTitle": false,
          "tableResultSettingsMap": {},
          "title": ""
        },
        "id": "66Mv692LBgPL"
      },
      "source": [
        "### **Solution: Use Databricks File System (DBFS)**\n",
        "To **export a Hive table or Parquet file from DBFS to your local machine**, follow these steps.\n",
        "\n",
        "---\n",
        "\n",
        "## **Step 1: Verify the Parquet Files in DBFS**\n",
        "Run this command to check if the files exist:"
      ]
    },
    {
      "cell_type": "code",
      "execution_count": null,
      "metadata": {
        "application/vnd.databricks.v1+cell": {
          "cellMetadata": {
            "byteLimit": 2048000,
            "rowLimit": 10000
          },
          "inputWidgets": {},
          "nuid": "e2b7a71c-740b-4524-9308-a10b97cf62ef",
          "showTitle": false,
          "tableResultSettingsMap": {},
          "title": ""
        },
        "id": "mP--I9npBgPL",
        "outputId": "e60178ae-b1b5-4d8f-8858-6e9f9b0fb965"
      },
      "outputs": [
        {
          "output_type": "display_data",
          "data": {
            "text/html": [
              "<style scoped>\n",
              "  .table-result-container {\n",
              "    max-height: 300px;\n",
              "    overflow: auto;\n",
              "  }\n",
              "  table, th, td {\n",
              "    border: 1px solid black;\n",
              "    border-collapse: collapse;\n",
              "  }\n",
              "  th, td {\n",
              "    padding: 5px;\n",
              "  }\n",
              "  th {\n",
              "    text-align: left;\n",
              "  }\n",
              "</style><div class='table-result-container'><table class='table-result'><thead style='background-color: white'><tr><th>database</th><th>tableName</th><th>isTemporary</th></tr></thead><tbody><tr><td>delivery_reviews_db</td><td>delivery_reviews_cleaned</td><td>false</td></tr><tr><td>delivery_reviews_db</td><td>delivery_reviews_parquet</td><td>false</td></tr><tr><td>delivery_reviews_db</td><td>delivery_reviews_raw</td><td>false</td></tr></tbody></table></div>"
            ]
          },
          "metadata": {
            "application/vnd.databricks.v1+output": {
              "addedWidgets": {},
              "aggData": [],
              "aggError": "",
              "aggOverflow": false,
              "aggSchema": [],
              "aggSeriesLimitReached": false,
              "aggType": "",
              "arguments": {},
              "columnCustomDisplayInfos": {},
              "data": [
                [
                  "delivery_reviews_db",
                  "delivery_reviews_cleaned",
                  false
                ],
                [
                  "delivery_reviews_db",
                  "delivery_reviews_parquet",
                  false
                ],
                [
                  "delivery_reviews_db",
                  "delivery_reviews_raw",
                  false
                ]
              ],
              "datasetInfos": [],
              "dbfsResultPath": null,
              "isJsonSchema": true,
              "metadata": {
                "isDbfsCommandResult": false
              },
              "overflow": false,
              "plotOptions": {
                "customPlotOptions": {},
                "displayType": "table",
                "pivotAggregation": null,
                "pivotColumns": null,
                "xColumns": null,
                "yColumns": null
              },
              "removedWidgets": [],
              "schema": [
                {
                  "metadata": "{}",
                  "name": "database",
                  "type": "\"string\""
                },
                {
                  "metadata": "{}",
                  "name": "tableName",
                  "type": "\"string\""
                },
                {
                  "metadata": "{}",
                  "name": "isTemporary",
                  "type": "\"boolean\""
                }
              ],
              "type": "table"
            }
          }
        }
      ],
      "source": [
        "%sql\n",
        "SHOW TABLES;"
      ]
    },
    {
      "cell_type": "code",
      "execution_count": null,
      "metadata": {
        "application/vnd.databricks.v1+cell": {
          "cellMetadata": {
            "byteLimit": 2048000,
            "rowLimit": 10000
          },
          "inputWidgets": {},
          "nuid": "a6ecbc2d-58f5-410e-9e73-0183d981a032",
          "showTitle": false,
          "tableResultSettingsMap": {},
          "title": ""
        },
        "id": "DAySh8nYBgPL",
        "outputId": "ed39a201-e2a7-42ea-b2d0-404c254f9f60"
      },
      "outputs": [
        {
          "output_type": "stream",
          "name": "stdout",
          "text": [
            "Out[59]: [FileInfo(path='dbfs:/user/hive/warehouse/delivery_reviews_db.db/delivery_reviews_cleaned/', name='delivery_reviews_cleaned/', size=0, modificationTime=0),\n FileInfo(path='dbfs:/user/hive/warehouse/delivery_reviews_db.db/delivery_reviews_parquet/', name='delivery_reviews_parquet/', size=0, modificationTime=0)]"
          ]
        }
      ],
      "source": [
        "%python\n",
        "dbutils.fs.ls(\"dbfs:/user/hive/warehouse/delivery_reviews_db.db/\")"
      ]
    },
    {
      "cell_type": "code",
      "execution_count": null,
      "metadata": {
        "application/vnd.databricks.v1+cell": {
          "cellMetadata": {
            "byteLimit": 2048000,
            "rowLimit": 10000
          },
          "inputWidgets": {},
          "nuid": "89998fb0-55b0-4e70-a8e9-b0e755c10216",
          "showTitle": false,
          "tableResultSettingsMap": {},
          "title": ""
        },
        "id": "PZPrAY-1BgPW",
        "outputId": "ae8eefc9-00c9-4c17-b271-35133b2d736b"
      },
      "outputs": [
        {
          "output_type": "stream",
          "name": "stdout",
          "text": [
            "Out[60]: True"
          ]
        }
      ],
      "source": [
        "%python\n",
        "dbutils.fs.cp(\"dbfs:/user/hive/warehouse/delivery_reviews_db.db/delivery_reviews_parquet/\", \"dbfs:/FileStore/delivery_reviews.parquet\", True)"
      ]
    },
    {
      "cell_type": "code",
      "execution_count": null,
      "metadata": {
        "application/vnd.databricks.v1+cell": {
          "cellMetadata": {
            "byteLimit": 2048000,
            "rowLimit": 10000
          },
          "inputWidgets": {},
          "nuid": "b9e6a761-1bc7-403c-aae2-26843a375638",
          "showTitle": false,
          "tableResultSettingsMap": {},
          "title": ""
        },
        "id": "22WhkRxYBgPW",
        "outputId": "f979ccee-218d-44dd-8442-6fa9c9fa4152"
      },
      "outputs": [
        {
          "output_type": "display_data",
          "data": {
            "text/html": [
              "<style scoped>\n",
              "  .table-result-container {\n",
              "    max-height: 300px;\n",
              "    overflow: auto;\n",
              "  }\n",
              "  table, th, td {\n",
              "    border: 1px solid black;\n",
              "    border-collapse: collapse;\n",
              "  }\n",
              "  th, td {\n",
              "    padding: 5px;\n",
              "  }\n",
              "  th {\n",
              "    text-align: left;\n",
              "  }\n",
              "</style><div class='table-result-container'><table class='table-result'><thead style='background-color: white'><tr><th>path</th><th>name</th><th>size</th><th>modificationTime</th></tr></thead><tbody><tr><td>dbfs:/FileStore/delivery_reviews.parquet/_SUCCESS</td><td>_SUCCESS</td><td>0</td><td>1739429030000</td></tr><tr><td>dbfs:/FileStore/delivery_reviews.parquet/_committed_2664462527895809174</td><td>_committed_2664462527895809174</td><td>123</td><td>1739428679000</td></tr><tr><td>dbfs:/FileStore/delivery_reviews.parquet/_committed_3176065044349503583</td><td>_committed_3176065044349503583</td><td>123</td><td>1739429030000</td></tr><tr><td>dbfs:/FileStore/delivery_reviews.parquet/_started_2664462527895809174</td><td>_started_2664462527895809174</td><td>0</td><td>1739428679000</td></tr><tr><td>dbfs:/FileStore/delivery_reviews.parquet/_started_3176065044349503583</td><td>_started_3176065044349503583</td><td>0</td><td>1739429030000</td></tr><tr><td>dbfs:/FileStore/delivery_reviews.parquet/part-00000-tid-2664462527895809174-caba0d87-a298-4e59-8ce4-fdcc65688a77-40-1-c000.snappy.parquet</td><td>part-00000-tid-2664462527895809174-caba0d87-a298-4e59-8ce4-fdcc65688a77-40-1-c000.snappy.parquet</td><td>219685</td><td>1739428679000</td></tr><tr><td>dbfs:/FileStore/delivery_reviews.parquet/part-00000-tid-3176065044349503583-19c97251-cb13-46d1-bdf1-59145e75a9f0-68-1-c000.snappy.parquet</td><td>part-00000-tid-3176065044349503583-19c97251-cb13-46d1-bdf1-59145e75a9f0-68-1-c000.snappy.parquet</td><td>219685</td><td>1739429030000</td></tr></tbody></table></div>"
            ]
          },
          "metadata": {
            "application/vnd.databricks.v1+output": {
              "addedWidgets": {},
              "aggData": [],
              "aggError": "",
              "aggOverflow": false,
              "aggSchema": [],
              "aggSeriesLimitReached": false,
              "aggType": "",
              "arguments": {},
              "columnCustomDisplayInfos": {},
              "data": [
                [
                  "dbfs:/FileStore/delivery_reviews.parquet/_SUCCESS",
                  "_SUCCESS",
                  0,
                  1739429030000
                ],
                [
                  "dbfs:/FileStore/delivery_reviews.parquet/_committed_2664462527895809174",
                  "_committed_2664462527895809174",
                  123,
                  1739428679000
                ],
                [
                  "dbfs:/FileStore/delivery_reviews.parquet/_committed_3176065044349503583",
                  "_committed_3176065044349503583",
                  123,
                  1739429030000
                ],
                [
                  "dbfs:/FileStore/delivery_reviews.parquet/_started_2664462527895809174",
                  "_started_2664462527895809174",
                  0,
                  1739428679000
                ],
                [
                  "dbfs:/FileStore/delivery_reviews.parquet/_started_3176065044349503583",
                  "_started_3176065044349503583",
                  0,
                  1739429030000
                ],
                [
                  "dbfs:/FileStore/delivery_reviews.parquet/part-00000-tid-2664462527895809174-caba0d87-a298-4e59-8ce4-fdcc65688a77-40-1-c000.snappy.parquet",
                  "part-00000-tid-2664462527895809174-caba0d87-a298-4e59-8ce4-fdcc65688a77-40-1-c000.snappy.parquet",
                  219685,
                  1739428679000
                ],
                [
                  "dbfs:/FileStore/delivery_reviews.parquet/part-00000-tid-3176065044349503583-19c97251-cb13-46d1-bdf1-59145e75a9f0-68-1-c000.snappy.parquet",
                  "part-00000-tid-3176065044349503583-19c97251-cb13-46d1-bdf1-59145e75a9f0-68-1-c000.snappy.parquet",
                  219685,
                  1739429030000
                ]
              ],
              "datasetInfos": [],
              "dbfsResultPath": null,
              "isJsonSchema": true,
              "metadata": {
                "isDbfsCommandResult": false
              },
              "overflow": false,
              "plotOptions": {
                "customPlotOptions": {},
                "displayType": "table",
                "pivotAggregation": null,
                "pivotColumns": null,
                "xColumns": null,
                "yColumns": null
              },
              "removedWidgets": [],
              "schema": [
                {
                  "metadata": "{}",
                  "name": "path",
                  "type": "\"string\""
                },
                {
                  "metadata": "{}",
                  "name": "name",
                  "type": "\"string\""
                },
                {
                  "metadata": "{}",
                  "name": "size",
                  "type": "\"long\""
                },
                {
                  "metadata": "{}",
                  "name": "modificationTime",
                  "type": "\"long\""
                }
              ],
              "type": "table"
            }
          }
        }
      ],
      "source": [
        "%fs ls dbfs:/FileStore/delivery_reviews.parquet"
      ]
    },
    {
      "cell_type": "markdown",
      "metadata": {
        "application/vnd.databricks.v1+cell": {
          "cellMetadata": {},
          "inputWidgets": {},
          "nuid": "1865847e-e415-47fd-965c-a3533956f289",
          "showTitle": false,
          "tableResultSettingsMap": {},
          "title": ""
        },
        "id": "qM0uPHVPBgPW"
      },
      "source": [
        "## **7️⃣ Summary of Commands**\n",
        "| **Step**  | **Command** |\n",
        "|-----------|------------|\n",
        "| Download Data | `curl -L -o ~/Downloads/delivery_reviews/dataset.zip ...` |\n",
        "| Upload to DBFS | `dbfs cp ~/Downloads/delivery_reviews/*.csv dbfs:/FileStore/tables/delivery_reviews/` |\n",
        "| Create Database | `CREATE DATABASE delivery_reviews_db;` |\n",
        "| Create External Table | `CREATE EXTERNAL TABLE delivery_reviews_raw ...` |\n",
        "| Create Cleaned Table | `CREATE TABLE delivery_reviews_cleaned AS SELECT ...` |\n",
        "| Count Records | `SELECT COUNT(*) FROM delivery_reviews_cleaned;` |\n",
        "| Top Agents | `SELECT Agent_Name, AVG(Rating) FROM delivery_reviews_cleaned ...` |\n",
        "| Orders by Location | `SELECT Location, COUNT(*) FROM delivery_reviews_cleaned ...` |\n",
        "| Avg Delivery Time | `SELECT Agent_Name, AVG(Delivery_Time) FROM delivery_reviews_cleaned ...` |\n",
        "| Convert to Parquet | `CREATE TABLE delivery_reviews_parquet STORED AS PARQUET AS SELECT * FROM delivery_reviews_cleaned;` |"
      ]
    },
    {
      "cell_type": "code",
      "execution_count": null,
      "metadata": {
        "application/vnd.databricks.v1+cell": {
          "cellMetadata": {},
          "inputWidgets": {},
          "nuid": "b13e29df-ce44-45f4-b4a7-5c53f3ec469c",
          "showTitle": false,
          "tableResultSettingsMap": {},
          "title": ""
        },
        "id": "B6PEaAeZBgPX"
      },
      "outputs": [],
      "source": []
    }
  ],
  "metadata": {
    "application/vnd.databricks.v1+notebook": {
      "computePreferences": null,
      "dashboards": [],
      "environmentMetadata": {
        "base_environment": "",
        "client": "1"
      },
      "language": "python",
      "notebookMetadata": {
        "mostRecentlyExecutedCommandWithImplicitDF": {
          "commandId": 3468478143930317,
          "dataframes": [
            "_sqldf"
          ]
        },
        "pythonIndentUnit": 4
      },
      "notebookName": "Analyze customer reviews and ratings of fast delivery agents in India.",
      "widgets": {}
    },
    "colab": {
      "provenance": [],
      "include_colab_link": true
    }
  },
  "nbformat": 4,
  "nbformat_minor": 0
}