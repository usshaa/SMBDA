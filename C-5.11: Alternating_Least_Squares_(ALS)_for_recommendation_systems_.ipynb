{
  "cells": [
    {
      "cell_type": "markdown",
      "metadata": {
        "id": "view-in-github",
        "colab_type": "text"
      },
      "source": [
        "<a href=\"https://colab.research.google.com/github/usshaa/SMBDA/blob/main/C-5.11%3A%20Alternating_Least_Squares_(ALS)_for_recommendation_systems_.ipynb\" target=\"_parent\"><img src=\"https://colab.research.google.com/assets/colab-badge.svg\" alt=\"Open In Colab\"/></a>"
      ]
    },
    {
      "cell_type": "markdown",
      "metadata": {
        "application/vnd.databricks.v1+cell": {
          "cellMetadata": {},
          "inputWidgets": {},
          "nuid": "14f4d103-8d77-4adb-9296-31393ca72b66",
          "showTitle": false,
          "tableResultSettingsMap": {},
          "title": ""
        },
        "id": "K2xIJsFUeQqM"
      },
      "source": [
        "### Alternating Least Squares (ALS) for recommendation systems.\n",
        "\n",
        "The ALS algorithm provides a robust framework for building recommendation systems based on collaborative filtering. The recommendations it generates are personalized to each user based on their historical ratings and similarities with other users. Interpreting these recommendations involves understanding the predicted ratings and how they can guide personalized content delivery."
      ]
    },
    {
      "cell_type": "code",
      "execution_count": null,
      "metadata": {
        "application/vnd.databricks.v1+cell": {
          "cellMetadata": {
            "byteLimit": 2048000,
            "rowLimit": 10000
          },
          "inputWidgets": {},
          "nuid": "8a6d7a30-b263-4268-bd5e-70bc12f7076a",
          "showTitle": false,
          "tableResultSettingsMap": {},
          "title": ""
        },
        "id": "BE1Vd_fieQqV"
      },
      "outputs": [],
      "source": [
        "from pyspark.sql import SparkSession\n",
        "from pyspark.sql.functions import col\n",
        "from pyspark.ml.recommendation import ALS\n",
        "from pyspark.ml.evaluation import RegressionEvaluator"
      ]
    },
    {
      "cell_type": "code",
      "execution_count": null,
      "metadata": {
        "application/vnd.databricks.v1+cell": {
          "cellMetadata": {
            "byteLimit": 2048000,
            "rowLimit": 10000
          },
          "inputWidgets": {},
          "nuid": "887816ad-99a3-4d69-b663-49e28159d043",
          "showTitle": false,
          "tableResultSettingsMap": {},
          "title": ""
        },
        "id": "kSGoRZf-eQqX"
      },
      "outputs": [],
      "source": [
        "# Initialize Spark session\n",
        "spark = SparkSession.builder \\\n",
        "    .appName(\"ALS Recommendation System\") \\\n",
        "    .getOrCreate()"
      ]
    },
    {
      "cell_type": "code",
      "execution_count": null,
      "metadata": {
        "application/vnd.databricks.v1+cell": {
          "cellMetadata": {
            "byteLimit": 2048000,
            "rowLimit": 10000
          },
          "inputWidgets": {},
          "nuid": "a58df332-e20f-4254-a21b-b9e05e8f3425",
          "showTitle": false,
          "tableResultSettingsMap": {},
          "title": ""
        },
        "id": "T-Nf6Tl0eQqZ"
      },
      "outputs": [],
      "source": [
        "# Read CSV file into DataFrame\n",
        "users_spark = spark.read.csv(\"/FileStore/tables/users.csv\", header=True, inferSchema=True)\n",
        "movies_spark = spark.read.csv(\"/FileStore/tables/movies.csv\", header=True, inferSchema=True)\n",
        "ratings_spark = spark.read.csv(\"/FileStore/tables/ratings.csv\", header=True, inferSchema=True)"
      ]
    },
    {
      "cell_type": "code",
      "execution_count": null,
      "metadata": {
        "application/vnd.databricks.v1+cell": {
          "cellMetadata": {
            "byteLimit": 2048000,
            "rowLimit": 10000
          },
          "inputWidgets": {},
          "nuid": "74620b56-c96e-48d3-a863-fd0299856192",
          "showTitle": false,
          "tableResultSettingsMap": {},
          "title": ""
        },
        "id": "vdNKol5HeQqa"
      },
      "outputs": [],
      "source": [
        "# ALS requires numerical user and item ids, so we need to index them\n",
        "from pyspark.ml.feature import StringIndexer\n",
        "\n",
        "user_indexer = StringIndexer(inputCol=\"UserId\", outputCol=\"UserIndex\", handleInvalid=\"skip\")\n",
        "movie_indexer = StringIndexer(inputCol=\"MovieId\", outputCol=\"MovieIndex\", handleInvalid=\"skip\")\n",
        "\n",
        "users_spark = user_indexer.fit(users_spark).transform(users_spark)\n",
        "movies_spark = movie_indexer.fit(movies_spark).transform(movies_spark)"
      ]
    },
    {
      "cell_type": "code",
      "execution_count": null,
      "metadata": {
        "application/vnd.databricks.v1+cell": {
          "cellMetadata": {
            "byteLimit": 2048000,
            "rowLimit": 10000
          },
          "inputWidgets": {},
          "nuid": "80036098-f359-4958-aca9-2218201f9e8b",
          "showTitle": false,
          "tableResultSettingsMap": {},
          "title": ""
        },
        "id": "axnDCxmTeQqb"
      },
      "outputs": [],
      "source": [
        "# Split data into training and test sets\n",
        "(training, test) = ratings_spark.randomSplit([0.8, 0.2], seed=42)"
      ]
    },
    {
      "cell_type": "code",
      "execution_count": null,
      "metadata": {
        "application/vnd.databricks.v1+cell": {
          "cellMetadata": {
            "byteLimit": 2048000,
            "rowLimit": 10000
          },
          "inputWidgets": {},
          "nuid": "10cdb414-df84-49e3-8e9b-c1531a1a408b",
          "showTitle": false,
          "tableResultSettingsMap": {},
          "title": ""
        },
        "id": "kGrelkuDeQqd"
      },
      "outputs": [],
      "source": [
        "# Build the recommendation model using ALS on the training data\n",
        "als = ALS(maxIter=10, regParam=0.01, userCol=\"UserId\", itemCol=\"MovieId\", ratingCol=\"Rating\",\n",
        "          coldStartStrategy=\"drop\")\n",
        "model = als.fit(training)"
      ]
    },
    {
      "cell_type": "code",
      "execution_count": null,
      "metadata": {
        "application/vnd.databricks.v1+cell": {
          "cellMetadata": {
            "byteLimit": 2048000,
            "rowLimit": 10000
          },
          "inputWidgets": {},
          "nuid": "b2f305ab-ba79-4bb0-9122-cd46ab8a9a89",
          "showTitle": false,
          "tableResultSettingsMap": {},
          "title": ""
        },
        "id": "HuNtYp9weQqe",
        "outputId": "f0ca585d-669f-49bf-efde-dc31688548c1"
      },
      "outputs": [
        {
          "output_type": "stream",
          "name": "stdout",
          "text": [
            "Root Mean Squared Error (RMSE) = 2.2554362946483786\n+------+-------+------+-----------+\n|UserId|MovieId|Rating| prediction|\n+------+-------+------+-----------+\n|    85|     10|     4|  0.0783415|\n|    85|     17|     1|-0.29120976|\n|    85|     20|     2|  4.0072727|\n|    85|     34|     3|  3.1405997|\n|    65|     23|     4|  1.1245769|\n|    65|     41|     1|  2.2354593|\n|    65|     49|     1| 0.47916606|\n|    53|     42|     3|  2.1885614|\n|    78|      6|     3| 0.56656164|\n|    34|     12|     5|   1.036366|\n|    28|     37|     3| 0.94793254|\n|    76|     33|     2|0.052800775|\n|    26|      7|     4|  1.4488953|\n|    26|     19|     5|  1.0592656|\n|    26|     37|     5|   1.029136|\n|    44|      6|     4|   2.867073|\n|    44|     49|     1|  4.9170256|\n|    12|     10|     4|  1.9511747|\n|    12|     31|     2|  1.7514855|\n|    12|     36|     3|  1.1424004|\n+------+-------+------+-----------+\nonly showing top 20 rows\n\n"
          ]
        }
      ],
      "source": [
        "# Evaluate the model by computing the RMSE on the test data\n",
        "predictions = model.transform(test)\n",
        "evaluator = RegressionEvaluator(metricName=\"rmse\", labelCol=\"Rating\", predictionCol=\"prediction\")\n",
        "rmse = evaluator.evaluate(predictions)\n",
        "print(f\"Root Mean Squared Error (RMSE) = {rmse}\")\n",
        "predictions.show()"
      ]
    },
    {
      "cell_type": "code",
      "execution_count": null,
      "metadata": {
        "application/vnd.databricks.v1+cell": {
          "cellMetadata": {
            "byteLimit": 2048000,
            "rowLimit": 10000
          },
          "inputWidgets": {},
          "nuid": "300a3c93-0687-4bcd-8c3a-7be524b69cb2",
          "showTitle": false,
          "tableResultSettingsMap": {},
          "title": ""
        },
        "id": "6Yt5J74MeQqg",
        "outputId": "117139bf-fc3a-4b35-80d3-398f40a73bc9"
      },
      "outputs": [
        {
          "output_type": "stream",
          "name": "stdout",
          "text": [
            "+------+--------------------------------------------------------------------------------------------------------------------------------------------------------------------------+\n|UserId|recommendations                                                                                                                                                           |\n+------+--------------------------------------------------------------------------------------------------------------------------------------------------------------------------+\n|20    |[{18, 7.1888847}, {10, 6.4883485}, {40, 6.3231626}, {11, 6.1776}, {14, 5.650364}, {35, 5.391718}, {42, 5.2807508}, {38, 5.171051}, {36, 5.051551}, {3, 4.9758244}]        |\n|40    |[{27, 5.1210904}, {25, 4.7762384}, {23, 3.987914}, {45, 3.9577198}, {37, 2.9865966}, {33, 2.8086948}, {13, 2.7648032}, {10, 2.647931}, {17, 2.547537}, {5, 2.1752563}]    |\n|100   |[{8, 4.977813}, {2, 4.790382}, {44, 3.9966474}, {46, 3.9600406}, {19, 3.9260445}, {38, 3.7904756}, {43, 3.2621255}, {15, 3.1235409}, {26, 2.9756489}, {28, 2.8760743}]    |\n|10    |[{40, 4.021769}, {35, 3.9903083}, {41, 3.5554225}, {12, 3.2267509}, {46, 2.9839592}, {14, 2.6175518}, {19, 2.3432565}, {13, 2.223039}, {3, 2.2215939}, {50, 2.167958}]    |\n|50    |[{33, 4.965532}, {6, 4.0374703}, {50, 3.99915}, {34, 3.9956932}, {29, 3.9903884}, {30, 3.937525}, {20, 3.6752157}, {42, 3.6199982}, {24, 3.560943}, {45, 3.4675558}]      |\n|80    |[{25, 6.996297}, {27, 6.593126}, {15, 6.149414}, {23, 5.447647}, {2, 5.199027}, {8, 5.066086}, {45, 4.944861}, {26, 4.9364057}, {19, 4.505267}, {38, 4.320984}]           |\n|70    |[{14, 4.0655017}, {24, 4.002873}, {27, 4.000076}, {42, 3.9929545}, {35, 3.9751778}, {40, 3.9440055}, {18, 3.8194435}, {31, 3.601944}, {19, 3.5455656}, {6, 3.4521282}]    |\n|60    |[{20, 4.9944353}, {11, 4.464394}, {49, 3.7225816}, {6, 3.4382482}, {32, 3.3956392}, {34, 2.821727}, {21, 2.8084486}, {1, 2.7064912}, {12, 2.6981957}, {41, 2.679704}]     |\n|90    |[{9, 4.9729147}, {48, 4.968134}, {15, 4.932536}, {13, 4.6307774}, {40, 4.4448757}, {7, 4.328525}, {37, 3.980328}, {45, 3.8233063}, {5, 3.7606258}, {46, 3.6839836}]       |\n|30    |[{48, 4.9700375}, {19, 4.357014}, {44, 4.3512874}, {40, 4.3512177}, {2, 4.3330445}, {29, 4.1929092}, {35, 4.1852083}, {41, 4.1671987}, {15, 4.116274}, {12, 3.994853}]    |\n|31    |[{37, 4.984315}, {40, 4.922216}, {10, 4.611934}, {13, 4.5931416}, {11, 4.3538194}, {38, 4.243481}, {20, 4.1607804}, {32, 3.9931874}, {27, 3.9927664}, {36, 3.986356}]     |\n|81    |[{40, 2.9683933}, {13, 2.5914645}, {3, 2.3528643}, {42, 2.3199537}, {27, 2.2898135}, {18, 2.2320309}, {19, 2.2030487}, {5, 2.1991143}, {11, 2.194017}, {46, 2.1034384}]   |\n|91    |[{45, 5.025056}, {29, 4.945074}, {48, 4.3597393}, {2, 3.9695961}, {9, 3.699236}, {34, 3.6251302}, {43, 3.495131}, {15, 3.3380768}, {30, 3.1950479}, {44, 3.1471584}]      |\n|1     |[{40, 6.864192}, {19, 5.818081}, {44, 5.8033423}, {8, 5.5889134}, {39, 5.321949}, {37, 4.970271}, {50, 4.955358}, {38, 4.8995543}, {46, 4.6784334}, {41, 4.5752444}]      |\n|41    |[{19, 6.3390446}, {44, 5.5239987}, {40, 5.501549}, {3, 5.4919634}, {2, 5.2100983}, {18, 5.1764708}, {46, 4.9687824}, {31, 4.9121733}, {8, 4.7506914}, {10, 4.5871553}]    |\n|61    |[{11, 4.9465146}, {10, 4.474494}, {20, 3.8877642}, {18, 3.8690562}, {29, 3.8166623}, {33, 3.5080805}, {50, 3.4633894}, {42, 3.3747807}, {37, 3.216303}, {44, 3.0273013}]  |\n|51    |[{35, 4.9919643}, {31, 3.9898093}, {19, 3.9539733}, {27, 3.7799237}, {40, 3.7544277}, {14, 3.5949569}, {46, 3.3160028}, {12, 3.2895882}, {42, 3.2246866}, {38, 3.1366582}]|\n|21    |[{31, 5.969013}, {19, 5.4561377}, {5, 5.228138}, {24, 4.9744453}, {27, 4.960946}, {9, 4.959939}, {3, 4.9202137}, {18, 4.091867}, {42, 4.025181}, {46, 4.022487}]          |\n|11    |[{23, 5.3244386}, {27, 5.1077833}, {25, 4.9984546}, {19, 4.9890885}, {26, 4.9642243}, {15, 4.9371624}, {2, 4.5311728}, {38, 4.4368486}, {8, 4.33205}, {46, 4.2236223}]    |\n|71    |[{40, 8.182094}, {50, 7.6482043}, {46, 6.377917}, {41, 5.740209}, {4, 5.6837883}, {44, 5.596314}, {14, 5.4745374}, {42, 5.276274}, {38, 5.275139}, {3, 5.1848397}]        |\n+------+--------------------------------------------------------------------------------------------------------------------------------------------------------------------------+\nonly showing top 20 rows\n\n"
          ]
        }
      ],
      "source": [
        "# Generate top 10 movie recommendations for each user\n",
        "userRecs = model.recommendForAllUsers(10)\n",
        "userRecs.show(truncate=False)"
      ]
    }
  ],
  "metadata": {
    "application/vnd.databricks.v1+notebook": {
      "computePreferences": null,
      "dashboards": [],
      "environmentMetadata": null,
      "language": "python",
      "notebookMetadata": {
        "pythonIndentUnit": 4
      },
      "notebookName": "11-Alternating Least Squares (ALS) for recommendation systems.",
      "widgets": {}
    },
    "kernelspec": {
      "display_name": "Python 3",
      "language": "python",
      "name": "python3"
    },
    "language_info": {
      "codemirror_mode": {
        "name": "ipython",
        "version": 3
      },
      "file_extension": ".py",
      "mimetype": "text/x-python",
      "name": "python",
      "nbconvert_exporter": "python",
      "pygments_lexer": "ipython3",
      "version": "3.7.4"
    },
    "colab": {
      "provenance": [],
      "include_colab_link": true
    }
  },
  "nbformat": 4,
  "nbformat_minor": 0
}