{
  "metadata": {
    "kernelspec": {
      "name": "python",
      "display_name": "Python (Pyodide)",
      "language": "python"
    },
    "language_info": {
      "codemirror_mode": {
        "name": "python",
        "version": 3
      },
      "file_extension": ".py",
      "mimetype": "text/x-python",
      "name": "python",
      "nbconvert_exporter": "python",
      "pygments_lexer": "ipython3",
      "version": "3.8"
    },
    "colab": {
      "provenance": [],
      "include_colab_link": true
    }
  },
  "nbformat_minor": 0,
  "nbformat": 4,
  "cells": [
    {
      "cell_type": "markdown",
      "metadata": {
        "id": "view-in-github",
        "colab_type": "text"
      },
      "source": [
        "<a href=\"https://colab.research.google.com/github/usshaa/SMBDA/blob/main/Free_Exchange_API_.ipynb\" target=\"_parent\"><img src=\"https://colab.research.google.com/assets/colab-badge.svg\" alt=\"Open In Colab\"/></a>"
      ]
    },
    {
      "cell_type": "markdown",
      "source": [
        "### 1. Signing up for FreeExchange API\n",
        "\n",
        "**Markdown:**\n",
        "- Briefly explain APIs (Application Programming Interfaces) and why they're used.\n",
        "- Provide steps to sign up for the **FreeExchange API** and get an API key. The API is used to get exchange rates.\n",
        "- Install the `requests` library if not installed.\n",
        "\n",
        "```python"
      ],
      "metadata": {
        "id": "6TvacoVvp4pQ"
      }
    },
    {
      "cell_type": "code",
      "source": [
        "# Installing the requests library if not installed\n",
        "!pip install requests"
      ],
      "metadata": {
        "trusted": true,
        "colab": {
          "base_uri": "https://localhost:8080/"
        },
        "id": "lYzB2KKSp4pV",
        "outputId": "7bc4cf32-3e0e-4a60-d42e-1cb845ff1f96"
      },
      "outputs": [
        {
          "output_type": "stream",
          "name": "stdout",
          "text": [
            "Requirement already satisfied: requests in /usr/local/lib/python3.11/dist-packages (2.32.3)\n",
            "Requirement already satisfied: charset-normalizer<4,>=2 in /usr/local/lib/python3.11/dist-packages (from requests) (3.4.1)\n",
            "Requirement already satisfied: idna<4,>=2.5 in /usr/local/lib/python3.11/dist-packages (from requests) (3.10)\n",
            "Requirement already satisfied: urllib3<3,>=1.21.1 in /usr/local/lib/python3.11/dist-packages (from requests) (2.3.0)\n",
            "Requirement already satisfied: certifi>=2017.4.17 in /usr/local/lib/python3.11/dist-packages (from requests) (2025.1.31)\n"
          ]
        }
      ],
      "execution_count": 1
    },
    {
      "cell_type": "markdown",
      "source": [
        "### 2. Getting All Exchange Rates from the FreeExchange API\n",
        "**Markdown:**\n",
        "- Introduce how to make API requests using the `requests` library.\n",
        "- Explain the structure of the FreeExchange API response.\n",
        "- Display a sample API request and response for fetching exchange rates.\n",
        "\n",
        "**Code:**\n",
        "```python"
      ],
      "metadata": {
        "id": "nUtp9szrp4pX"
      }
    },
    {
      "cell_type": "code",
      "source": [
        "import requests\n",
        "\n",
        "# FreeExchange API Key (replace with your own)\n",
        "api_key = \"fca_live_xNDzBnDcbay87ExaB4HYLbCei8IHXsx7jV36ZvuT\"\n",
        "\n",
        "# Base URL for FreeExchange API\n",
        "url = f\"https://api.freecurrencyapi.com/v1/latest?apikey={api_key}&USD\"\n",
        "\n",
        "# Making a GET request to the API\n",
        "response = requests.get(url)\n",
        "\n",
        "# Checking if the request was successful\n",
        "if response.status_code == 200:\n",
        "    exchange_rates = response.json()\n",
        "    print(\"Exchange rates:\", exchange_rates)\n",
        "else:\n",
        "    print(\"Error:\", response.status_code)"
      ],
      "metadata": {
        "trusted": true,
        "colab": {
          "base_uri": "https://localhost:8080/"
        },
        "id": "rpDmhNWvp4pY",
        "outputId": "62dd246f-5443-45d2-b424-e91bc50ca1a4"
      },
      "outputs": [
        {
          "output_type": "stream",
          "name": "stdout",
          "text": [
            "Exchange rates: {'data': {'AUD': 1.5975303011, 'BGN': 1.8885202901, 'BRL': 5.808711064, 'CAD': 1.4328601517, 'CHF': 0.9107101491, 'CNY': 7.2873313667, 'CZK': 24.2948236713, 'DKK': 7.2334410944, 'EUR': 0.9696101273, 'GBP': 0.8069801268, 'HKD': 7.7898515434, 'HRK': 6.8314708275, 'HUF': 392.4830640367, 'IDR': 16254.168679254, 'ILS': 3.561950686, 'INR': 87.5765766931, 'ISK': 142.0734718348, 'JPY': 151.8088625977, 'KRW': 1451.7146333597, 'MXN': 20.5931320639, 'MYR': 4.4395105725, 'NOK': 11.2627612578, 'NZD': 1.7708502282, 'PHP': 58.1073175733, 'PLN': 4.0630004952, 'RON': 4.8156905687, 'RUB': 97.2522575513, 'SEK': 10.9745920099, 'SGD': 1.3562201567, 'THB': 33.8878661046, 'TRY': 35.9785836036, 'USD': 1, 'ZAR': 18.5201628399}}\n"
          ]
        }
      ],
      "execution_count": 2
    },
    {
      "cell_type": "markdown",
      "source": [
        "**Activity:**\n",
        "- Ask students to print exchange rates for USD to any other currency (e.g., EUR, GBP)."
      ],
      "metadata": {
        "id": "NvsmfkBIp4pZ"
      }
    },
    {
      "cell_type": "markdown",
      "source": [
        "### 3. Creating a Currency Exchange Library\n",
        "\n",
        "**Markdown:**\n",
        "- Discuss creating a Python library to interact with the API and convert currencies.\n",
        "- Explain function design: one function to get exchange rates and another to convert currencies.\n",
        "\n",
        "**Code:**\n",
        "```python"
      ],
      "metadata": {
        "id": "vhCVjOcXp4pa"
      }
    },
    {
      "cell_type": "code",
      "source": [
        "import requests\n",
        "\n",
        "class CurrencyConverter:\n",
        "    def __init__(self, api_key):\n",
        "        self.api_key = api_key\n",
        "        self.base_url = \"https://api.freecurrencyapi.com/v1/latest\"\n",
        "\n",
        "    def get_exchange_rate(self, base_currency):\n",
        "        # Modify URL to include query parameters for the API key and base currency\n",
        "        url = f\"{self.base_url}?apikey={self.api_key}&base_currency={base_currency}\"\n",
        "        response = requests.get(url)\n",
        "\n",
        "        if response.status_code == 200:\n",
        "            # Parse JSON response to get the conversion rates dictionary\n",
        "            data = response.json()\n",
        "            return data.get('data')  # 'data' contains the exchange rates\n",
        "        else:\n",
        "            print(\"Error:\", response.status_code, \"-\", response.json().get(\"message\", \"\"))\n",
        "            return None\n",
        "\n",
        "    def convert(self, amount, from_currency, to_currency):\n",
        "        # Fetch exchange rates using the base currency\n",
        "        rates = self.get_exchange_rate(from_currency)\n",
        "        if rates:\n",
        "            to_rate = rates.get(to_currency)\n",
        "            if to_rate:\n",
        "                return amount * to_rate\n",
        "            else:\n",
        "                print(f\"Currency {to_currency} not available\")\n",
        "        return None"
      ],
      "metadata": {
        "trusted": true,
        "id": "MfLAKrqbp4pb"
      },
      "outputs": [],
      "execution_count": 3
    },
    {
      "cell_type": "code",
      "source": [
        "# Example usage:\n",
        "converter = CurrencyConverter(api_key)\n",
        "usd_to_eur = converter.convert(100, 'USD', 'EUR')\n",
        "print(f\"100 USD is {usd_to_eur} EUR\")"
      ],
      "metadata": {
        "trusted": true,
        "colab": {
          "base_uri": "https://localhost:8080/"
        },
        "id": "znYZiTpGp4pb",
        "outputId": "9cb7d64c-accb-4333-fdaa-a0e164bb2c16"
      },
      "outputs": [
        {
          "output_type": "stream",
          "name": "stdout",
          "text": [
            "100 USD is 96.96101273 EUR\n"
          ]
        }
      ],
      "execution_count": 4
    },
    {
      "cell_type": "markdown",
      "source": [
        "**Activity:**\n",
        "- Task students to add error handling (e.g., if an invalid currency code is provided)."
      ],
      "metadata": {
        "id": "LJoKBSO0p4pc"
      }
    },
    {
      "cell_type": "code",
      "source": [
        "import requests\n",
        "\n",
        "class CurrencyConverter:\n",
        "    def __init__(self, api_key):\n",
        "        self.api_key = api_key\n",
        "        self.base_url = \"https://api.freecurrencyapi.com/v1/latest\"\n",
        "\n",
        "    def get_exchange_rate(self, base_currency):\n",
        "        # Construct the URL with the API key and base currency\n",
        "        url = f\"{self.base_url}?apikey={self.api_key}&base_currency={base_currency}\"\n",
        "\n",
        "        try:\n",
        "            response = requests.get(url)\n",
        "            # Check if response is successful\n",
        "            response.raise_for_status()  # Raises an error for non-200 status codes\n",
        "\n",
        "            data = response.json()\n",
        "\n",
        "            # Check if 'data' key exists in response JSON\n",
        "            if 'data' in data:\n",
        "                return data['data']\n",
        "            else:\n",
        "                print(\"Unexpected response format.\")\n",
        "                return None\n",
        "        except requests.exceptions.HTTPError as e:\n",
        "            print(f\"HTTP Error: {e.response.status_code} - {e.response.json().get('message', 'No additional info')}\")\n",
        "        except requests.exceptions.RequestException as e:\n",
        "            print(f\"Request Error: {e}\")\n",
        "        except ValueError:\n",
        "            print(\"Error parsing response. The API may have returned unexpected data.\")\n",
        "\n",
        "        return None\n",
        "\n",
        "    def convert(self, amount, from_currency, to_currency):\n",
        "        # Fetch the exchange rates with error handling\n",
        "        rates = self.get_exchange_rate(from_currency)\n",
        "\n",
        "        # Check if rates were successfully retrieved\n",
        "        if rates:\n",
        "            # Attempt to retrieve the exchange rate for the target currency\n",
        "            to_rate = rates.get(to_currency)\n",
        "\n",
        "            if to_rate:\n",
        "                return amount * to_rate\n",
        "            else:\n",
        "                print(f\"Error: Currency code '{to_currency}' not available or invalid.\")\n",
        "        else:\n",
        "            print(f\"Error: Could not retrieve exchange rates for base currency '{from_currency}'.\")\n",
        "\n",
        "        return None\n",
        "\n",
        "# Example usage:\n",
        "# api_key = \"YOUR_API_KEY\"  # Replace with your actual API key\n",
        "converter = CurrencyConverter(api_key)\n",
        "\n",
        "# Test conversions with valid and invalid codes\n",
        "print(\"Converting 100 USD to EUR:\")\n",
        "usd_to_eur = converter.convert(100, 'USD', 'EUR')\n",
        "print(f\"100 USD is {usd_to_eur} EUR\")\n",
        "\n",
        "print(\"\\nConverting 100 USD to INVALID_CURRENCY:\")\n",
        "usd_to_invalid = converter.convert(100, 'USD', 'INVALID_CURRENCY')\n",
        "print(f\"100 USD is {usd_to_invalid} INVALID_CURRENCY\")\n",
        "\n",
        "print(\"\\nConverting 100 INVALID_BASE to EUR:\")\n",
        "invalid_to_eur = converter.convert(100, 'INVALID_BASE', 'EUR')\n",
        "print(f\"100 INVALID_BASE is {invalid_to_eur} EUR\")\n"
      ],
      "metadata": {
        "colab": {
          "base_uri": "https://localhost:8080/"
        },
        "id": "vHG2tNO3wsVc",
        "outputId": "ac0e7ca2-a273-405d-d297-f92a78debc69"
      },
      "execution_count": 5,
      "outputs": [
        {
          "output_type": "stream",
          "name": "stdout",
          "text": [
            "Converting 100 USD to EUR:\n",
            "100 USD is 96.96101273 EUR\n",
            "\n",
            "Converting 100 USD to INVALID_CURRENCY:\n",
            "Error: Currency code 'INVALID_CURRENCY' not available or invalid.\n",
            "100 USD is None INVALID_CURRENCY\n",
            "\n",
            "Converting 100 INVALID_BASE to EUR:\n",
            "HTTP Error: 422 - Validation error\n",
            "Error: Could not retrieve exchange rates for base currency 'INVALID_BASE'.\n",
            "100 INVALID_BASE is None EUR\n"
          ]
        }
      ]
    },
    {
      "cell_type": "markdown",
      "source": [
        "### 4. Caching Functions with Functools\n",
        "\n",
        "**Markdown:**\n",
        "- Explain the concept of caching and why it's important to reduce repeated API calls.\n",
        "- Introduce the `functools.lru_cache` decorator to cache results of the exchange rate function.\n",
        "\n",
        "**Code:**\n",
        "```python"
      ],
      "metadata": {
        "id": "hGiLt25Ap4pc"
      }
    },
    {
      "cell_type": "code",
      "source": [
        "from functools import lru_cache\n",
        "\n",
        "class CachedCurrencyConverter(CurrencyConverter):\n",
        "    @lru_cache(maxsize=100)\n",
        "    def get_exchange_rate(self, base_currency):\n",
        "        print(f\"Fetching rates for {base_currency} from API...\")\n",
        "        return super().get_exchange_rate(base_currency)"
      ],
      "metadata": {
        "trusted": true,
        "id": "7gXhVVU_p4pd"
      },
      "outputs": [],
      "execution_count": 6
    },
    {
      "cell_type": "code",
      "source": [
        "# Example usage with caching:\n",
        "cached_converter = CachedCurrencyConverter(api_key)\n",
        "usd_to_gbp = cached_converter.convert(100, 'USD', 'GBP')\n",
        "print(f\"100 USD is {usd_to_gbp} GBP\")"
      ],
      "metadata": {
        "trusted": true,
        "colab": {
          "base_uri": "https://localhost:8080/"
        },
        "id": "vXLlkZIQp4pd",
        "outputId": "0a80d1af-1186-4ed3-a657-48fe9796f504"
      },
      "outputs": [
        {
          "output_type": "stream",
          "name": "stdout",
          "text": [
            "Fetching rates for USD from API...\n",
            "100 USD is 80.69801267999999 GBP\n"
          ]
        }
      ],
      "execution_count": 7
    },
    {
      "cell_type": "code",
      "source": [
        "# Running the same request again should use the cache\n",
        "usd_to_gbp_cached = cached_converter.convert(100, 'USD', 'GBP')\n",
        "print(f\"Cached: 100 USD is {usd_to_gbp_cached} GBP\")"
      ],
      "metadata": {
        "trusted": true,
        "colab": {
          "base_uri": "https://localhost:8080/"
        },
        "id": "S1JVshNSp4pe",
        "outputId": "33c05f3d-28be-4095-f3b3-2f86b8118c89"
      },
      "outputs": [
        {
          "output_type": "stream",
          "name": "stdout",
          "text": [
            "Cached: 100 USD is 80.69801267999999 GBP\n"
          ]
        }
      ],
      "execution_count": 8
    },
    {
      "cell_type": "markdown",
      "source": [
        "**Activity:**\n",
        "- Ask students to test the function with multiple currencies and observe how caching avoids repeated API calls."
      ],
      "metadata": {
        "id": "vIEGAFQUp4pe"
      }
    },
    {
      "cell_type": "code",
      "source": [
        "# Initialize the converter with your API key and a short TTL for testing\n",
        "# api_key = \"YOUR_API_KEY\"  # Replace with your actual API key\n",
        "# converter = CurrencyConverter(api_key, ttl=300)\n",
        "converter = CurrencyConverter(api_key)\n",
        "\n",
        "# Function to test multiple conversions and observe caching\n",
        "def test_currency_conversion():\n",
        "    conversions = [\n",
        "        (\"USD\", \"EUR\", 100),\n",
        "        (\"USD\", \"GBP\", 100),\n",
        "        (\"USD\", \"JPY\", 100),\n",
        "        (\"EUR\", \"USD\", 100),\n",
        "        (\"EUR\", \"JPY\", 100),\n",
        "        (\"USD\", \"EUR\", 50)  # Should use cache as USD->EUR is already fetched\n",
        "    ]\n",
        "\n",
        "    for from_currency, to_currency, amount in conversions:\n",
        "        print(f\"\\nConverting {amount} {from_currency} to {to_currency}:\")\n",
        "        result = converter.convert(amount, from_currency, to_currency)\n",
        "        print(f\"{amount} {from_currency} is {result} {to_currency}\")\n",
        "\n",
        "# Run the test\n",
        "test_currency_conversion()\n"
      ],
      "metadata": {
        "colab": {
          "base_uri": "https://localhost:8080/"
        },
        "id": "nEdIxvebun09",
        "outputId": "220462a3-3d62-4623-bf6d-e8a3e549c58d"
      },
      "execution_count": 10,
      "outputs": [
        {
          "output_type": "stream",
          "name": "stdout",
          "text": [
            "\n",
            "Converting 100 USD to EUR:\n",
            "100 USD is 96.96101273 EUR\n",
            "\n",
            "Converting 100 USD to GBP:\n",
            "100 USD is 80.69801267999999 GBP\n",
            "\n",
            "Converting 100 USD to JPY:\n",
            "100 USD is 15180.886259769999 JPY\n",
            "\n",
            "Converting 100 EUR to USD:\n",
            "100 EUR is 103.13423631 USD\n",
            "\n",
            "Converting 100 EUR to JPY:\n",
            "100 EUR is 15656.69110949 JPY\n",
            "\n",
            "Converting 50 USD to EUR:\n",
            "50 USD is 48.480506365 EUR\n"
          ]
        }
      ]
    },
    {
      "cell_type": "markdown",
      "source": [
        "### 5. Performing TTLCache with Cachetools\n",
        "**Markdown:**\n",
        "- Discuss using `cachetools.TTLCache` to implement time-based caching.\n",
        "- Explain how this can be useful to refresh the rates periodically without hitting the API frequently.\n",
        "\n",
        "**Code:**\n",
        "```python"
      ],
      "metadata": {
        "id": "bunw1of3p4pf"
      }
    },
    {
      "cell_type": "code",
      "source": [
        "from cachetools import TTLCache\n",
        "\n",
        "class TTLCacheCurrencyConverter(CurrencyConverter):\n",
        "    def __init__(self, api_key):\n",
        "        super().__init__(api_key)\n",
        "        # TTLCache with a maximum size of 100 and 600 seconds (10 minutes) time-to-live\n",
        "        self.cache = TTLCache(maxsize=100, ttl=600)\n",
        "\n",
        "    def get_exchange_rate(self, base_currency):\n",
        "        if base_currency in self.cache:\n",
        "            print(f\"Using cached rates for {base_currency}\")\n",
        "            return self.cache[base_currency]\n",
        "        else:\n",
        "            print(f\"Fetching rates for {base_currency} from API...\")\n",
        "            rates = super().get_exchange_rate(base_currency)\n",
        "            if rates:\n",
        "                self.cache[base_currency] = rates\n",
        "            return rates"
      ],
      "metadata": {
        "trusted": true,
        "id": "OTFkphonp4pf"
      },
      "outputs": [],
      "execution_count": 11
    },
    {
      "cell_type": "code",
      "source": [
        "# Example usage with TTL Cache\n",
        "ttl_converter = TTLCacheCurrencyConverter(api_key)\n",
        "usd_to_inr = ttl_converter.convert(100, 'USD', 'INR')\n",
        "print(f\"100 USD is {usd_to_inr} INR\")"
      ],
      "metadata": {
        "trusted": true,
        "colab": {
          "base_uri": "https://localhost:8080/"
        },
        "id": "5qYB_Kqjp4pf",
        "outputId": "0da6e8b3-f4c6-41c2-a767-69a1ec5be341"
      },
      "outputs": [
        {
          "output_type": "stream",
          "name": "stdout",
          "text": [
            "Fetching rates for USD from API...\n",
            "100 USD is 8757.65766931 INR\n"
          ]
        }
      ],
      "execution_count": 12
    },
    {
      "cell_type": "markdown",
      "source": [
        "**Activity:**\n",
        "- Ask students to simulate a delay (e.g., using `time.sleep(600)`) to see how TTL caching works after expiry."
      ],
      "metadata": {
        "id": "h0XTVZ4Np4pg"
      }
    },
    {
      "cell_type": "markdown",
      "source": [
        "### 6. Practice and Review\n",
        "\n",
        "**Markdown:**\n",
        "- API requests, currency conversion library, caching with `functools` and `cachetools`.\n",
        "- Activity:\n",
        "  1. Build their own currency converter app.\n",
        "  2. Add features like converting multiple currencies at once.\n",
        "  3. Implement error handling for failed API requests or unsupported currencies.\n",
        "\n",
        "**Code:**\n",
        "```python"
      ],
      "metadata": {
        "id": "l5mbxcl0p4pg"
      }
    },
    {
      "cell_type": "code",
      "source": [
        "# Example: Converting multiple currencies at once\n",
        "def convert_multiple(converter, amount, from_currency, to_currencies):\n",
        "    results = {}\n",
        "    for to_currency in to_currencies:\n",
        "        result = converter.convert(amount, from_currency, to_currency)\n",
        "        if result:\n",
        "            results[to_currency] = result\n",
        "    return results"
      ],
      "metadata": {
        "trusted": true,
        "id": "5WiP0jWEp4pg"
      },
      "outputs": [],
      "execution_count": 13
    },
    {
      "cell_type": "code",
      "source": [
        "# Usage\n",
        "currencies = ['EUR', 'GBP', 'JPY', 'INR']\n",
        "multiple_conversions = convert_multiple(converter, 100, 'USD', currencies)\n",
        "print(\"Multiple Currency Conversions:\", multiple_conversions)"
      ],
      "metadata": {
        "trusted": true,
        "colab": {
          "base_uri": "https://localhost:8080/"
        },
        "id": "FYrHwUL2p4ph",
        "outputId": "3673bdb5-d643-4343-80b8-0a4316583d59"
      },
      "outputs": [
        {
          "output_type": "stream",
          "name": "stdout",
          "text": [
            "Multiple Currency Conversions: {'EUR': 96.96101273, 'GBP': 80.69801267999999, 'JPY': 15180.886259769999, 'INR': 8757.65766931}\n"
          ]
        }
      ],
      "execution_count": 14
    },
    {
      "cell_type": "code",
      "source": [
        "import requests\n",
        "import time\n",
        "from cachetools import TTLCache, cachedmethod\n",
        "\n",
        "class CurrencyConverter:\n",
        "    def __init__(self, api_key, ttl=300):\n",
        "        self.api_key = api_key\n",
        "        self.base_url = \"https://api.freecurrencyapi.com/v1/latest\"\n",
        "        # Initialize the TTL cache with 1 item and TTL of 300 seconds\n",
        "        self.cache = TTLCache(maxsize=1, ttl=ttl)\n",
        "\n",
        "    # Using cachedmethod with the cache bound directly\n",
        "    @cachedmethod(lambda self: self.cache)\n",
        "    def get_exchange_rate(self, base_currency):\n",
        "        # Build the API URL with base currency and API key\n",
        "        url = f\"{self.base_url}?apikey={self.api_key}&base_currency={base_currency}\"\n",
        "        print(\"Fetching new data from API...\")\n",
        "        response = requests.get(url)\n",
        "\n",
        "        if response.status_code == 200:\n",
        "            data = response.json()\n",
        "            return data.get('data')  # 'data' contains the exchange rates\n",
        "        else:\n",
        "            print(\"Error:\", response.status_code, \"-\", response.json().get(\"message\", \"\"))\n",
        "            return None\n",
        "\n",
        "    def convert(self, amount, from_currency, to_currency):\n",
        "        # Fetch exchange rates using the base currency\n",
        "        rates = self.get_exchange_rate(from_currency)\n",
        "        if rates:\n",
        "            to_rate = rates.get(to_currency)\n",
        "            if to_rate:\n",
        "                return amount * to_rate\n",
        "            else:\n",
        "                print(f\"Currency {to_currency} not available\")\n",
        "        return None\n",
        "\n",
        "# Example usage\n",
        "api_key = \"YOUR_API_KEY\"  # Replace with your actual API key\n",
        "converter = CurrencyConverter(api_key)\n",
        "\n",
        "# First conversion - should fetch from the API\n",
        "print(\"Converting 100 USD to EUR:\")\n",
        "usd_to_eur = converter.convert(100, 'USD', 'EUR')\n",
        "print(f\"100 USD is {usd_to_eur} EUR\")\n",
        "\n",
        "# Wait for some time but within TTL to see if it uses the cached data\n",
        "print(\"\\nWaiting for 10 seconds (within TTL)...\")\n",
        "time.sleep(10)\n",
        "print(\"Converting 100 USD to EUR again:\")\n",
        "usd_to_eur = converter.convert(100, 'USD', 'EUR')\n",
        "print(f\"100 USD is {usd_to_eur} EUR (should be cached)\")\n",
        "\n",
        "# Simulate a delay for TTL expiry (e.g., 5 minutes)\n",
        "print(\"\\nWaiting for 6 minutes to exceed TTL...\")\n",
        "time.sleep(360)  # 6 minutes, exceeding TTL of 300 seconds\n",
        "print(\"Converting 100 USD to EUR after TTL expiry:\")\n",
        "usd_to_eur = converter.convert(100, 'USD', 'EUR')\n",
        "print(f\"100 USD is {usd_to_eur} EUR (should fetch new data)\")\n"
      ],
      "metadata": {
        "colab": {
          "base_uri": "https://localhost:8080/"
        },
        "id": "jMAduQgjstXY",
        "outputId": "cd1df166-f762-47d2-8704-67ec79777aee"
      },
      "execution_count": 15,
      "outputs": [
        {
          "output_type": "stream",
          "name": "stdout",
          "text": [
            "Converting 100 USD to EUR:\n",
            "Fetching new data from API...\n",
            "Error: 401 - Invalid authentication credentials\n",
            "100 USD is None EUR\n",
            "\n",
            "Waiting for 10 seconds (within TTL)...\n",
            "Converting 100 USD to EUR again:\n",
            "100 USD is None EUR (should be cached)\n",
            "\n",
            "Waiting for 6 minutes to exceed TTL...\n",
            "Converting 100 USD to EUR after TTL expiry:\n",
            "Fetching new data from API...\n",
            "Error: 401 - Invalid authentication credentials\n",
            "100 USD is None EUR (should fetch new data)\n"
          ]
        }
      ]
    },
    {
      "cell_type": "code",
      "source": [],
      "metadata": {
        "id": "wh31hJj3tekj"
      },
      "execution_count": null,
      "outputs": []
    }
  ]
}
