{
  "cells": [
    {
      "cell_type": "markdown",
      "metadata": {
        "id": "view-in-github",
        "colab_type": "text"
      },
      "source": [
        "<a href=\"https://colab.research.google.com/github/usshaa/SMBDA/blob/main/C-5.5%3A%20DataFrame_Operations.ipynb\" target=\"_parent\"><img src=\"https://colab.research.google.com/assets/colab-badge.svg\" alt=\"Open In Colab\"/></a>"
      ]
    },
    {
      "cell_type": "code",
      "execution_count": null,
      "metadata": {
        "application/vnd.databricks.v1+cell": {
          "cellMetadata": {
            "byteLimit": 2048000,
            "rowLimit": 10000
          },
          "inputWidgets": {},
          "nuid": "f5bd17f5-a85d-4b89-b4bb-0225e2da7b35",
          "showTitle": false,
          "tableResultSettingsMap": {},
          "title": ""
        },
        "id": "WUkOyFd1EE1u"
      },
      "outputs": [],
      "source": [
        "from pyspark.sql import SparkSession\n",
        "\n",
        "# Create a SparkSession\n",
        "spark = SparkSession.builder.appName(\"DataFrame-Operations\").getOrCreate()"
      ]
    },
    {
      "cell_type": "code",
      "execution_count": null,
      "metadata": {
        "application/vnd.databricks.v1+cell": {
          "cellMetadata": {
            "byteLimit": 2048000,
            "rowLimit": 10000
          },
          "inputWidgets": {},
          "nuid": "a4344115-71ec-4011-945f-52e7a06514a5",
          "showTitle": false,
          "tableResultSettingsMap": {},
          "title": ""
        },
        "id": "Y0MQ3256EE1v"
      },
      "outputs": [],
      "source": [
        "# Load the synthetic data into a DataFrame\n",
        "data_file_path = \"/FileStore/tables/stocks.txt\"\n",
        "df = spark.read.csv(data_file_path, header=True, inferSchema=True)"
      ]
    },
    {
      "cell_type": "code",
      "execution_count": null,
      "metadata": {
        "application/vnd.databricks.v1+cell": {
          "cellMetadata": {
            "byteLimit": 2048000,
            "rowLimit": 10000
          },
          "inputWidgets": {},
          "nuid": "bfc2a374-5d94-4020-a7de-2211ae1af9ee",
          "showTitle": false,
          "tableResultSettingsMap": {},
          "title": ""
        },
        "id": "V6bmoc5NEE1w",
        "outputId": "ef2ab3ad-f234-4d8e-cf08-69f7765c49aa"
      },
      "outputs": [
        {
          "output_type": "stream",
          "name": "stdout",
          "text": [
            "root\n |-- id: integer (nullable = true)\n |-- name: string (nullable = true)\n |-- category: string (nullable = true)\n |-- quantity: integer (nullable = true)\n |-- price: double (nullable = true)\n\n"
          ]
        }
      ],
      "source": [
        "# Display schema of DataFrame\n",
        "df.printSchema()"
      ]
    },
    {
      "cell_type": "code",
      "execution_count": null,
      "metadata": {
        "application/vnd.databricks.v1+cell": {
          "cellMetadata": {
            "byteLimit": 2048000,
            "rowLimit": 10000
          },
          "inputWidgets": {},
          "nuid": "2bf1eeb1-e616-4e97-81e7-4069b6a14064",
          "showTitle": false,
          "tableResultSettingsMap": {},
          "title": ""
        },
        "id": "AKvgC-GJEE1w",
        "outputId": "4b52e457-bbe4-454a-ad36-15a8e1058dcd"
      },
      "outputs": [
        {
          "output_type": "stream",
          "name": "stdout",
          "text": [
            "Initial DataFrame:\n+---+----------------+-----------+--------+-------+\n| id|            name|   category|quantity|  price|\n+---+----------------+-----------+--------+-------+\n|  1|          iPhone|Electronics|      10| 899.99|\n|  2|         Macbook|Electronics|       5|1299.99|\n|  3|            iPad|Electronics|      15| 499.99|\n|  4|      Samsung TV|Electronics|       8| 799.99|\n|  5|           LG TV|Electronics|      10| 699.99|\n|  6|      Nike Shoes|   Clothing|      30|  99.99|\n|  7|    Adidas Shoes|   Clothing|      25|  89.99|\n|  8| Sony Headphones|Electronics|      12| 149.99|\n|  9|Beats Headphones|Electronics|      20| 199.99|\n| 10|    Dining Table|  Furniture|      10| 249.99|\n+---+----------------+-----------+--------+-------+\nonly showing top 10 rows\n\n"
          ]
        }
      ],
      "source": [
        "# Show the initial DataFrame\n",
        "print(\"Initial DataFrame:\")\n",
        "df.show(10)"
      ]
    },
    {
      "cell_type": "markdown",
      "metadata": {
        "application/vnd.databricks.v1+cell": {
          "cellMetadata": {},
          "inputWidgets": {},
          "nuid": "9d8656db-9d26-4172-9966-630d8592332c",
          "showTitle": false,
          "tableResultSettingsMap": {},
          "title": ""
        },
        "id": "L8UsQQoMEE1x"
      },
      "source": [
        "### Select: Choose specific columns."
      ]
    },
    {
      "cell_type": "code",
      "execution_count": null,
      "metadata": {
        "application/vnd.databricks.v1+cell": {
          "cellMetadata": {
            "byteLimit": 2048000,
            "rowLimit": 10000
          },
          "inputWidgets": {},
          "nuid": "404a5ea1-d8ea-451a-8eca-6fac720a6a24",
          "showTitle": false,
          "tableResultSettingsMap": {},
          "title": ""
        },
        "id": "WfrG5xDdEE1x",
        "outputId": "69649c0c-d8e9-4f04-9e8c-fdd170ba1051"
      },
      "outputs": [
        {
          "output_type": "stream",
          "name": "stdout",
          "text": [
            "Selected Columns:\n+---+----------------+-------+\n| id|            name|  price|\n+---+----------------+-------+\n|  1|          iPhone| 899.99|\n|  2|         Macbook|1299.99|\n|  3|            iPad| 499.99|\n|  4|      Samsung TV| 799.99|\n|  5|           LG TV| 699.99|\n|  6|      Nike Shoes|  99.99|\n|  7|    Adidas Shoes|  89.99|\n|  8| Sony Headphones| 149.99|\n|  9|Beats Headphones| 199.99|\n| 10|    Dining Table| 249.99|\n+---+----------------+-------+\nonly showing top 10 rows\n\n"
          ]
        }
      ],
      "source": [
        "# Select specific columns\n",
        "selected_columns = df.select(\"id\", \"name\", \"price\")\n",
        "print(\"Selected Columns:\")\n",
        "selected_columns.show(10)"
      ]
    },
    {
      "cell_type": "markdown",
      "metadata": {
        "application/vnd.databricks.v1+cell": {
          "cellMetadata": {},
          "inputWidgets": {},
          "nuid": "916ba4ad-5f67-4ae6-bab0-c456440892ea",
          "showTitle": false,
          "tableResultSettingsMap": {},
          "title": ""
        },
        "id": "qHX_F1b5EE1x"
      },
      "source": [
        "### Filter: Apply conditions to filter rows."
      ]
    },
    {
      "cell_type": "code",
      "execution_count": null,
      "metadata": {
        "application/vnd.databricks.v1+cell": {
          "cellMetadata": {
            "byteLimit": 2048000,
            "rowLimit": 10000
          },
          "inputWidgets": {},
          "nuid": "c845bb1e-66af-4da7-bbb3-ad8495970b72",
          "showTitle": false,
          "tableResultSettingsMap": {},
          "title": ""
        },
        "id": "HyOAmwP9EE1x",
        "outputId": "172697c8-4afb-4459-f751-35ae431dcac1"
      },
      "outputs": [
        {
          "output_type": "stream",
          "name": "stdout",
          "text": [
            "Filtered Data: 12\n+---+--------------+-----------+--------+-----+\n| id|          name|   category|quantity|price|\n+---+--------------+-----------+--------+-----+\n|  6|    Nike Shoes|   Clothing|      30|99.99|\n|  7|  Adidas Shoes|   Clothing|      25|89.99|\n| 12|        Apples|       Food|     100|  0.5|\n| 13|       Bananas|       Food|     150| 0.25|\n| 14|       Oranges|       Food|     120| 0.75|\n| 15|Chicken Breast|       Food|      50| 3.99|\n| 16| Salmon Fillet|       Food|      30| 5.99|\n| 24|    Laptop Bag|Accessories|      25|29.99|\n| 25|      Backpack|Accessories|      30|24.99|\n| 28|         Jeans|   Clothing|      30|59.99|\n| 29|       T-shirt|   Clothing|      50|14.99|\n| 30|      Sneakers|   Clothing|      40|79.99|\n+---+--------------+-----------+--------+-----+\n\n"
          ]
        }
      ],
      "source": [
        "# Filter rows based on a condition\n",
        "filtered_data = df.filter(df.quantity > 20)\n",
        "print(\"Filtered Data:\", filtered_data.count())\n",
        "filtered_data.show()"
      ]
    },
    {
      "cell_type": "markdown",
      "metadata": {
        "application/vnd.databricks.v1+cell": {
          "cellMetadata": {},
          "inputWidgets": {},
          "nuid": "e137b071-fecc-49de-9a6c-6dd8ac0ce82f",
          "showTitle": false,
          "tableResultSettingsMap": {},
          "title": ""
        },
        "id": "P8_To5iQEE1y"
      },
      "source": [
        "### GroupBy: Group data based on specific columns\n",
        "### Aggregations: Perform functions like sum, average, etc., on grouped data."
      ]
    },
    {
      "cell_type": "code",
      "execution_count": null,
      "metadata": {
        "application/vnd.databricks.v1+cell": {
          "cellMetadata": {
            "byteLimit": 2048000,
            "rowLimit": 10000
          },
          "inputWidgets": {},
          "nuid": "104025fb-b00e-4bdb-a379-562b3a2e580f",
          "showTitle": false,
          "tableResultSettingsMap": {},
          "title": ""
        },
        "id": "NNktyIEMEE1y",
        "outputId": "ac4ab6ac-aba8-4a6b-9bde-7568c9181a8d"
      },
      "outputs": [
        {
          "output_type": "stream",
          "name": "stdout",
          "text": [
            "Grouped and Aggregated Data:\n+-----------+-------------+------------------+\n|   category|sum(quantity)|        avg(price)|\n+-----------+-------------+------------------+\n|       Food|          450|2.2960000000000003|\n|     Sports|           35|             34.99|\n|Electronics|           98| 586.6566666666665|\n|   Clothing|          200|  99.2757142857143|\n|  Furniture|           41|            141.99|\n|Accessories|           55|             27.49|\n+-----------+-------------+------------------+\n\n"
          ]
        }
      ],
      "source": [
        "# GroupBy and Aggregations\n",
        "grouped_data = df.groupBy(\"category\").agg({\"quantity\": \"sum\", \"price\": \"avg\"})\n",
        "print(\"Grouped and Aggregated Data:\")\n",
        "grouped_data.show()"
      ]
    },
    {
      "cell_type": "markdown",
      "metadata": {
        "application/vnd.databricks.v1+cell": {
          "cellMetadata": {},
          "inputWidgets": {},
          "nuid": "6f1e149f-9764-44ab-9922-5ee012efcd74",
          "showTitle": false,
          "tableResultSettingsMap": {},
          "title": ""
        },
        "id": "zCr56gYjEE1y"
      },
      "source": [
        "### Join: Combine multiple DataFrames based on specified columns."
      ]
    },
    {
      "cell_type": "code",
      "execution_count": null,
      "metadata": {
        "application/vnd.databricks.v1+cell": {
          "cellMetadata": {
            "byteLimit": 2048000,
            "rowLimit": 10000
          },
          "inputWidgets": {},
          "nuid": "854513d6-7923-4ede-8e70-45f47e17c929",
          "showTitle": false,
          "tableResultSettingsMap": {},
          "title": ""
        },
        "id": "WdtXxXdfEE1y",
        "outputId": "14aced86-0756-47b1-9e82-2c62d413cbe6"
      },
      "outputs": [
        {
          "output_type": "stream",
          "name": "stdout",
          "text": [
            "Joined Data:\n+---+----------------+-----------+--------+-------+-----------+\n| id|            name|   category|quantity|  price|   category|\n+---+----------------+-----------+--------+-------+-----------+\n|  1|          iPhone|Electronics|      10| 899.99|Electronics|\n|  2|         Macbook|Electronics|       5|1299.99|Electronics|\n|  3|            iPad|Electronics|      15| 499.99|Electronics|\n|  4|      Samsung TV|Electronics|       8| 799.99|Electronics|\n|  5|           LG TV|Electronics|      10| 699.99|Electronics|\n|  6|      Nike Shoes|   Clothing|      30|  99.99|   Clothing|\n|  7|    Adidas Shoes|   Clothing|      25|  89.99|   Clothing|\n|  8| Sony Headphones|Electronics|      12| 149.99|Electronics|\n|  9|Beats Headphones|Electronics|      20| 199.99|Electronics|\n| 10|    Dining Table|  Furniture|      10| 249.99|  Furniture|\n+---+----------------+-----------+--------+-------+-----------+\n\n"
          ]
        }
      ],
      "source": [
        "# Join with another DataFrame\n",
        "df2 = df.select(\"id\", \"category\").limit(10)\n",
        "joined_data = df.join(df2, \"id\", \"inner\")\n",
        "print(\"Joined Data:\")\n",
        "joined_data.show()"
      ]
    },
    {
      "cell_type": "markdown",
      "metadata": {
        "application/vnd.databricks.v1+cell": {
          "cellMetadata": {},
          "inputWidgets": {},
          "nuid": "ada152a8-202f-4db4-9c77-8423bee3c497",
          "showTitle": false,
          "tableResultSettingsMap": {},
          "title": ""
        },
        "id": "CR90e3yjEE1y"
      },
      "source": [
        "### Sort: Arrange rows based on one or more columns."
      ]
    },
    {
      "cell_type": "code",
      "execution_count": null,
      "metadata": {
        "application/vnd.databricks.v1+cell": {
          "cellMetadata": {
            "byteLimit": 2048000,
            "rowLimit": 10000
          },
          "inputWidgets": {},
          "nuid": "af739d15-413a-48eb-9b00-f30c52f3f91a",
          "showTitle": false,
          "tableResultSettingsMap": {},
          "title": ""
        },
        "id": "V-8HbpC3EE1z",
        "outputId": "f92c5288-3c86-4330-aa80-585cad761581"
      },
      "outputs": [
        {
          "output_type": "stream",
          "name": "stdout",
          "text": [
            "Sorted Data:\n+---+--------------+-----------+--------+-----+\n| id|          name|   category|quantity|price|\n+---+--------------+-----------+--------+-----+\n| 13|       Bananas|       Food|     150| 0.25|\n| 12|        Apples|       Food|     100|  0.5|\n| 14|       Oranges|       Food|     120| 0.75|\n| 15|Chicken Breast|       Food|      50| 3.99|\n| 16| Salmon Fillet|       Food|      30| 5.99|\n| 29|       T-shirt|   Clothing|      50|14.99|\n| 19|      Yoga Mat|     Sports|      20|19.99|\n| 25|      Backpack|Accessories|      30|24.99|\n| 24|    Laptop Bag|Accessories|      25|29.99|\n| 20|  Dumbbell Set|     Sports|      15|49.99|\n+---+--------------+-----------+--------+-----+\nonly showing top 10 rows\n\n"
          ]
        }
      ],
      "source": [
        "# Sort by a column\n",
        "sorted_data = df.orderBy(\"price\")\n",
        "print(\"Sorted Data:\")\n",
        "sorted_data.show(10)"
      ]
    },
    {
      "cell_type": "code",
      "execution_count": null,
      "metadata": {
        "application/vnd.databricks.v1+cell": {
          "cellMetadata": {
            "byteLimit": 2048000,
            "rowLimit": 10000
          },
          "inputWidgets": {},
          "nuid": "4bd67241-92ab-4d51-b325-d0da0a59f963",
          "showTitle": false,
          "tableResultSettingsMap": {},
          "title": ""
        },
        "id": "e0nVF05nEE1z",
        "outputId": "838157f5-a648-43d8-b764-543a607b6547"
      },
      "outputs": [
        {
          "output_type": "stream",
          "name": "stdout",
          "text": [
            "Sorted Data Descending:\n+---+----------------+-----------+--------+-------+\n| id|            name|   category|quantity|  price|\n+---+----------------+-----------+--------+-------+\n|  2|         Macbook|Electronics|       5|1299.99|\n|  1|          iPhone|Electronics|      10| 899.99|\n|  4|      Samsung TV|Electronics|       8| 799.99|\n|  5|           LG TV|Electronics|      10| 699.99|\n| 26|          Camera|Electronics|      10| 599.99|\n|  3|            iPad|Electronics|      15| 499.99|\n| 10|    Dining Table|  Furniture|      10| 249.99|\n| 17|  Leather Jacket|   Clothing|      15| 199.99|\n|  9|Beats Headphones|Electronics|      20| 199.99|\n| 18|     Winter Coat|   Clothing|      10| 149.99|\n+---+----------------+-----------+--------+-------+\nonly showing top 10 rows\n\n"
          ]
        }
      ],
      "source": [
        "# Sort by a column desc\n",
        "from pyspark.sql.functions import col, desc\n",
        "sorted_data = df.orderBy(col(\"price\").desc(), col(\"id\").desc())\n",
        "print(\"Sorted Data Descending:\")\n",
        "sorted_data.show(10)"
      ]
    },
    {
      "cell_type": "markdown",
      "metadata": {
        "application/vnd.databricks.v1+cell": {
          "cellMetadata": {},
          "inputWidgets": {},
          "nuid": "39379bb2-6c19-494e-99c1-4eee0674a6fc",
          "showTitle": false,
          "tableResultSettingsMap": {},
          "title": ""
        },
        "id": "jvzsWIPjEE1z"
      },
      "source": [
        "### Distinct: Get unique rows."
      ]
    },
    {
      "cell_type": "code",
      "execution_count": null,
      "metadata": {
        "application/vnd.databricks.v1+cell": {
          "cellMetadata": {
            "byteLimit": 2048000,
            "rowLimit": 10000
          },
          "inputWidgets": {},
          "nuid": "8d3fcd5e-cf51-4035-874f-7510e9fb9979",
          "showTitle": false,
          "tableResultSettingsMap": {},
          "title": ""
        },
        "id": "1PSqQ3h6EE1z",
        "outputId": "10697c35-386f-4eee-f111-6521153c0d1d"
      },
      "outputs": [
        {
          "output_type": "stream",
          "name": "stdout",
          "text": [
            "Distinct Product Categories:\n+-----------+\n|   category|\n+-----------+\n|       Food|\n|     Sports|\n|Electronics|\n|   Clothing|\n|  Furniture|\n|Accessories|\n+-----------+\n\n"
          ]
        }
      ],
      "source": [
        "# Get distinct product category\n",
        "distinct_rows = df.select(\"category\").distinct()\n",
        "print(\"Distinct Product Categories:\")\n",
        "distinct_rows.show()"
      ]
    },
    {
      "cell_type": "markdown",
      "metadata": {
        "application/vnd.databricks.v1+cell": {
          "cellMetadata": {},
          "inputWidgets": {},
          "nuid": "80887fca-73cb-4e35-bcf1-2cdf82c4b917",
          "showTitle": false,
          "tableResultSettingsMap": {},
          "title": ""
        },
        "id": "abdUsZxxEE1z"
      },
      "source": [
        "### Drop: Remove specified columns."
      ]
    },
    {
      "cell_type": "code",
      "execution_count": null,
      "metadata": {
        "application/vnd.databricks.v1+cell": {
          "cellMetadata": {
            "byteLimit": 2048000,
            "rowLimit": 10000
          },
          "inputWidgets": {},
          "nuid": "c383a187-a83f-4d37-bab2-3e9be02da212",
          "showTitle": false,
          "tableResultSettingsMap": {},
          "title": ""
        },
        "id": "-p6h9hagEE1z",
        "outputId": "56df75b4-bbb5-4e5e-cc05-8dad8b126882"
      },
      "outputs": [
        {
          "output_type": "stream",
          "name": "stdout",
          "text": [
            "Dropped Columns:\n+---+----------------+-------+\n| id|            name|  price|\n+---+----------------+-------+\n|  1|          iPhone| 899.99|\n|  2|         Macbook|1299.99|\n|  3|            iPad| 499.99|\n|  4|      Samsung TV| 799.99|\n|  5|           LG TV| 699.99|\n|  6|      Nike Shoes|  99.99|\n|  7|    Adidas Shoes|  89.99|\n|  8| Sony Headphones| 149.99|\n|  9|Beats Headphones| 199.99|\n| 10|    Dining Table| 249.99|\n+---+----------------+-------+\nonly showing top 10 rows\n\n"
          ]
        }
      ],
      "source": [
        "# Drop columns\n",
        "dropped_columns = df.drop(\"quantity\", \"category\")\n",
        "print(\"Dropped Columns:\")\n",
        "dropped_columns.show(10)"
      ]
    },
    {
      "cell_type": "markdown",
      "metadata": {
        "application/vnd.databricks.v1+cell": {
          "cellMetadata": {},
          "inputWidgets": {},
          "nuid": "ce94659d-3b21-4c1c-9d7c-31d8b2873691",
          "showTitle": false,
          "tableResultSettingsMap": {},
          "title": ""
        },
        "id": "KwY18yPgEE1z"
      },
      "source": [
        "### WithColumn: Add new calculated columns."
      ]
    },
    {
      "cell_type": "code",
      "execution_count": null,
      "metadata": {
        "application/vnd.databricks.v1+cell": {
          "cellMetadata": {
            "byteLimit": 2048000,
            "rowLimit": 10000
          },
          "inputWidgets": {},
          "nuid": "9c363542-47c9-4e5e-92b9-347dd5829e7d",
          "showTitle": false,
          "tableResultSettingsMap": {},
          "title": ""
        },
        "id": "lVr_TO2sEE10",
        "outputId": "3628c23d-3562-48cd-e5d0-86fe554ba402"
      },
      "outputs": [
        {
          "output_type": "stream",
          "name": "stdout",
          "text": [
            "DataFrame with New Column:\n+---+----------------+-----------+--------+-------+-------+\n| id|            name|   category|quantity|  price|revenue|\n+---+----------------+-----------+--------+-------+-------+\n|  1|          iPhone|Electronics|      10| 899.99| 8999.9|\n|  2|         Macbook|Electronics|       5|1299.99|6499.95|\n|  3|            iPad|Electronics|      15| 499.99|7499.85|\n|  4|      Samsung TV|Electronics|       8| 799.99|6399.92|\n|  5|           LG TV|Electronics|      10| 699.99| 6999.9|\n|  6|      Nike Shoes|   Clothing|      30|  99.99| 2999.7|\n|  7|    Adidas Shoes|   Clothing|      25|  89.99|2249.75|\n|  8| Sony Headphones|Electronics|      12| 149.99|1799.88|\n|  9|Beats Headphones|Electronics|      20| 199.99| 3999.8|\n| 10|    Dining Table|  Furniture|      10| 249.99| 2499.9|\n+---+----------------+-----------+--------+-------+-------+\nonly showing top 10 rows\n\n"
          ]
        }
      ],
      "source": [
        "# Add a new calculated column\n",
        "df_with_new_column = df.withColumn(\"revenue\", df.quantity * df.price)\n",
        "print(\"DataFrame with New Column:\")\n",
        "df_with_new_column.show(10)"
      ]
    },
    {
      "cell_type": "markdown",
      "metadata": {
        "application/vnd.databricks.v1+cell": {
          "cellMetadata": {},
          "inputWidgets": {},
          "nuid": "0c2c6779-075c-4fe5-9b20-12b459b6bb36",
          "showTitle": false,
          "tableResultSettingsMap": {},
          "title": ""
        },
        "id": "HR-ZzK8aEE10"
      },
      "source": [
        "### Alias: Rename columns for better readability."
      ]
    },
    {
      "cell_type": "code",
      "execution_count": null,
      "metadata": {
        "application/vnd.databricks.v1+cell": {
          "cellMetadata": {
            "byteLimit": 2048000,
            "rowLimit": 10000
          },
          "inputWidgets": {},
          "nuid": "6ee955df-3ae2-479f-a81d-c303e3feb673",
          "showTitle": false,
          "tableResultSettingsMap": {},
          "title": ""
        },
        "id": "yhKPkuQREE10",
        "outputId": "fa951464-91e1-43ca-9f10-8261bd4602bb"
      },
      "outputs": [
        {
          "output_type": "stream",
          "name": "stdout",
          "text": [
            "DataFrame with Aliased Column:\n+---+----------------+-----------+--------+-------------+\n| id|            name|   category|quantity|product_price|\n+---+----------------+-----------+--------+-------------+\n|  1|          iPhone|Electronics|      10|       899.99|\n|  2|         Macbook|Electronics|       5|      1299.99|\n|  3|            iPad|Electronics|      15|       499.99|\n|  4|      Samsung TV|Electronics|       8|       799.99|\n|  5|           LG TV|Electronics|      10|       699.99|\n|  6|      Nike Shoes|   Clothing|      30|        99.99|\n|  7|    Adidas Shoes|   Clothing|      25|        89.99|\n|  8| Sony Headphones|Electronics|      12|       149.99|\n|  9|Beats Headphones|Electronics|      20|       199.99|\n| 10|    Dining Table|  Furniture|      10|       249.99|\n+---+----------------+-----------+--------+-------------+\nonly showing top 10 rows\n\n"
          ]
        }
      ],
      "source": [
        "# Rename columns using alias\n",
        "df_with_alias = df.withColumnRenamed(\"price\", \"product_price\")\n",
        "print(\"DataFrame with Aliased Column:\")\n",
        "df_with_alias.show(10)"
      ]
    },
    {
      "cell_type": "markdown",
      "metadata": {
        "application/vnd.databricks.v1+cell": {
          "cellMetadata": {},
          "inputWidgets": {},
          "nuid": "c3b82a8a-ece0-476c-9598-f2fa3f28d4a0",
          "showTitle": false,
          "tableResultSettingsMap": {},
          "title": ""
        },
        "id": "55kuRoXOEE10"
      },
      "source": [
        "# Great Job!"
      ]
    },
    {
      "cell_type": "code",
      "execution_count": null,
      "metadata": {
        "application/vnd.databricks.v1+cell": {
          "cellMetadata": {},
          "inputWidgets": {},
          "nuid": "ef37dec0-a264-4272-9043-f875b17d5961",
          "showTitle": false,
          "tableResultSettingsMap": {},
          "title": ""
        },
        "id": "UqN19yO0EE10"
      },
      "outputs": [],
      "source": []
    }
  ],
  "metadata": {
    "application/vnd.databricks.v1+notebook": {
      "computePreferences": null,
      "dashboards": [],
      "environmentMetadata": null,
      "language": "python",
      "notebookMetadata": {
        "pythonIndentUnit": 4
      },
      "notebookName": "05-DataFrame-Operations",
      "widgets": {}
    },
    "kernelspec": {
      "display_name": "Python 3",
      "language": "python",
      "name": "python3"
    },
    "language_info": {
      "codemirror_mode": {
        "name": "ipython",
        "version": 3
      },
      "file_extension": ".py",
      "mimetype": "text/x-python",
      "name": "python",
      "nbconvert_exporter": "python",
      "pygments_lexer": "ipython3",
      "version": "3.7.4"
    },
    "colab": {
      "provenance": [],
      "include_colab_link": true
    }
  },
  "nbformat": 4,
  "nbformat_minor": 0
}
